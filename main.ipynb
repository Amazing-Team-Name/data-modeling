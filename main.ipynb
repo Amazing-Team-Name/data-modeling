{
 "cells": [
  {
   "cell_type": "code",
   "execution_count": 4,
   "id": "0ccc1390-8c33-4021-a212-a0c830fae20a",
   "metadata": {},
   "outputs": [],
   "source": [
    "import numpy as np\n",
    "import os\n",
    "\n",
    "# Polars is an alternative to Pandas. We use it for its lazily evaluated dataframes (LazyFrame) to save memory when running\n",
    "# this notebook.\n",
    "import polars as pl\n",
    "\n",
    "# Not all tools used are compatible with Polars\n",
    "import pandas as pd\n",
    "\n",
    "# An easy-to-use data generation tool\n",
    "import sdv\n",
    "\n",
    "from sdv.evaluation import multi_table, single_table\n",
    "from sdv.metadata import SingleTableMetadata, MultiTableMetadata\n",
    "from sdv.single_table import CTGANSynthesizer, GaussianCopulaSynthesizer\n",
    "from sdv.multi_table import HMASynthesizer\n",
    "\n",
    "from sklearn import metrics\n",
    "from sklearn.ensemble import VotingClassifier, RandomForestClassifier, HistGradientBoostingClassifier\n",
    "from sklearn.linear_model import LogisticRegression\n",
    "from sklearn.model_selection import train_test_split\n",
    "from sklearn.naive_bayes import GaussianNB"
   ]
  },
  {
   "cell_type": "code",
   "execution_count": 7,
   "id": "303dcda2-1e3e-4f81-aa2c-633c552ea309",
   "metadata": {},
   "outputs": [],
   "source": [
    "TARGET_COL = \"in_ads\""
   ]
  },
  {
   "cell_type": "code",
   "execution_count": 8,
   "id": "1ed2eae9-6ee9-4bd0-bcdd-887785a897eb",
   "metadata": {},
   "outputs": [],
   "source": [
    "# Without `infer_schema_length` set to a higher number, might not detect certain columns correctly\n",
    "ad_data_orig = pl.scan_csv(\"data/train_data_ads.csv\", infer_schema_length = 10000)\n",
    "feed_data_orig = pl.scan_csv(\"data/train_data_feeds.csv\", infer_schema_length = 10000)"
   ]
  },
  {
   "cell_type": "markdown",
   "id": "4bd41c1d-1aa8-4de9-975b-f4eeed356ac2",
   "metadata": {},
   "source": [
    "Setting data types for some columns (list of integers, datetimes), renaming the user id in the feeds dataset to be `user_id`, and adding extra columns to the feeds dataset."
   ]
  },
  {
   "cell_type": "code",
   "execution_count": 9,
   "id": "a3bf384f-b59e-4eee-82b1-ae7e838cf94f",
   "metadata": {},
   "outputs": [],
   "source": [
    "ad_data = ad_data_orig.with_columns(\n",
    "    pl.col(\"ad_click_list_v001\").str.split(\"^\").list.eval(pl.element().cast(pl.Int64)),\n",
    "    pl.col(\"ad_click_list_v002\").str.split(\"^\").list.eval(pl.element().cast(pl.Int64)),\n",
    "    pl.col(\"ad_click_list_v003\").str.split(\"^\").list.eval(pl.element().cast(pl.Int64)),\n",
    "    pl.col(\"u_newsCatInterestsST\").str.split(\"^\").list.eval(pl.element().cast(pl.Int64)),\n",
    "    pl.col(\"pt_d\").cast(pl.String).str.to_datetime(\"%Y%m%d%H%M\"),\n",
    ")\n",
    "ad_user_ids = ad_data.select(pl.col(\"user_id\")).unique()"
   ]
  },
  {
   "cell_type": "code",
   "execution_count": 10,
   "id": "28440871-65cd-4c12-97b6-500c4df87d76",
   "metadata": {},
   "outputs": [],
   "source": [
    "feed_data = feed_data_orig.with_columns(\n",
    "    pl.col(\"u_newsCatInterests\").str.split(\"^\").list.eval(pl.element().cast(pl.Int64)),\n",
    "    pl.col(\"u_newsCatDislike\").str.split(\"^\").list.eval(pl.element().cast(pl.Int64)),\n",
    "    pl.col(\"u_newsCatInterestsST\").str.split(\"^\").list.eval(pl.element().cast(pl.Int64)),\n",
    "    pl.col(\"u_click_ca2_news\").str.split(\"^\").list.eval(pl.element().cast(pl.Int64)),\n",
    "    pl.col(\"e_et\").cast(pl.String).str.to_datetime(\"%Y%m%d%H%M\"),\n",
    ")\n",
    "feed_data = feed_data.rename({ \"u_userId\": \"user_id\" })\n",
    "feed_data = feed_data.with_columns(\n",
    "    pl.col(\"i_cat\").is_in(pl.col(\"u_newsCatInterests\")).alias(\"Interested\"),\n",
    "    pl.col(\"i_cat\").is_in(pl.col(\"u_newsCatDislike\")).alias(\"Disliked\"),\n",
    "    pl.col(\"i_cat\").is_in(pl.col(\"u_newsCatInterestsST\")).alias(\"InterestedST\"),\n",
    "    pl.col(\"user_id\").is_in(ad_user_ids.collect()).alias(\"in_ads\"),\n",
    "    # Potential\n",
    "    pl.col(\"e_et\").dt.hour().alias(\"hour\"),\n",
    ")"
   ]
  },
  {
   "cell_type": "code",
   "execution_count": 6,
   "id": "dd9a900c-de3a-4500-9237-23eb2de1d55f",
   "metadata": {},
   "outputs": [
    {
     "data": {
      "text/html": [
       "<div><style>\n",
       ".dataframe > thead > tr,\n",
       ".dataframe > tbody > tr {\n",
       "  text-align: right;\n",
       "  white-space: pre-wrap;\n",
       "}\n",
       "</style>\n",
       "<small>shape: (500, 35)</small><table border=\"1\" class=\"dataframe\"><thead><tr><th>log_id</th><th>label</th><th>user_id</th><th>age</th><th>gender</th><th>residence</th><th>city</th><th>city_rank</th><th>series_dev</th><th>series_group</th><th>emui_dev</th><th>device_name</th><th>device_size</th><th>net_type</th><th>task_id</th><th>adv_id</th><th>creat_type_cd</th><th>adv_prim_id</th><th>inter_type_cd</th><th>slot_id</th><th>site_id</th><th>spread_app_id</th><th>hispace_app_tags</th><th>app_second_class</th><th>app_score</th><th>ad_click_list_v001</th><th>ad_click_list_v002</th><th>ad_click_list_v003</th><th>ad_close_list_v001</th><th>ad_close_list_v002</th><th>ad_close_list_v003</th><th>pt_d</th><th>u_newsCatInterestsST</th><th>u_refreshTimes</th><th>u_feedLifeCycle</th></tr><tr><td>i64</td><td>i64</td><td>i64</td><td>i64</td><td>i64</td><td>i64</td><td>i64</td><td>i64</td><td>i64</td><td>i64</td><td>i64</td><td>i64</td><td>i64</td><td>i64</td><td>i64</td><td>i64</td><td>i64</td><td>i64</td><td>i64</td><td>i64</td><td>i64</td><td>i64</td><td>i64</td><td>i64</td><td>f64</td><td>list[i64]</td><td>list[i64]</td><td>list[i64]</td><td>str</td><td>str</td><td>str</td><td>datetime[μs]</td><td>list[i64]</td><td>i64</td><td>i64</td></tr></thead><tbody><tr><td>373250</td><td>0</td><td>100005</td><td>3</td><td>2</td><td>16</td><td>147</td><td>2</td><td>32</td><td>6</td><td>35</td><td>312</td><td>2117</td><td>7</td><td>14339</td><td>19319</td><td>6</td><td>1846</td><td>4</td><td>46</td><td>1</td><td>162</td><td>47</td><td>14</td><td>10.0</td><td>[30157, 30648, … 31706]</td><td>[2066, 1776, 1036]</td><td>[114, 219, 312]</td><td>&quot;24107&quot;</td><td>&quot;1218&quot;</td><td>&quot;173&quot;</td><td>2022-06-03 03:26:00</td><td>[39, 220, 16]</td><td>0</td><td>15</td></tr><tr><td>373253</td><td>1</td><td>100005</td><td>3</td><td>2</td><td>16</td><td>147</td><td>2</td><td>32</td><td>6</td><td>35</td><td>312</td><td>2117</td><td>7</td><td>11923</td><td>21714</td><td>8</td><td>1060</td><td>4</td><td>37</td><td>1</td><td>344</td><td>20</td><td>13</td><td>10.0</td><td>[30157, 30648, … 31706]</td><td>[2066, 1776, 1036]</td><td>[114, 219, 312]</td><td>&quot;24107&quot;</td><td>&quot;1218&quot;</td><td>&quot;173&quot;</td><td>2022-06-03 03:26:00</td><td>[39, 220, 16]</td><td>0</td><td>15</td></tr><tr><td>373252</td><td>1</td><td>100005</td><td>3</td><td>2</td><td>16</td><td>147</td><td>2</td><td>32</td><td>6</td><td>35</td><td>312</td><td>2117</td><td>7</td><td>11923</td><td>21714</td><td>8</td><td>1060</td><td>4</td><td>37</td><td>1</td><td>344</td><td>20</td><td>13</td><td>10.0</td><td>[30157, 30648, … 31706]</td><td>[2066, 1776, 1036]</td><td>[114, 219, 312]</td><td>&quot;24107&quot;</td><td>&quot;1218&quot;</td><td>&quot;173&quot;</td><td>2022-06-03 03:26:00</td><td>[39, 220, 16]</td><td>0</td><td>15</td></tr><tr><td>373251</td><td>0</td><td>100005</td><td>3</td><td>2</td><td>16</td><td>147</td><td>2</td><td>32</td><td>6</td><td>35</td><td>312</td><td>2117</td><td>7</td><td>28665</td><td>20163</td><td>8</td><td>1542</td><td>4</td><td>47</td><td>1</td><td>152</td><td>49</td><td>17</td><td>10.0</td><td>[30157, 30648, … 31706]</td><td>[2066, 1776, 1036]</td><td>[114, 219, 312]</td><td>&quot;24107&quot;</td><td>&quot;1218&quot;</td><td>&quot;173&quot;</td><td>2022-06-03 03:26:00</td><td>[39, 220, 16]</td><td>0</td><td>15</td></tr><tr><td>373255</td><td>0</td><td>100005</td><td>3</td><td>2</td><td>16</td><td>147</td><td>2</td><td>32</td><td>6</td><td>35</td><td>312</td><td>2117</td><td>7</td><td>34041</td><td>13608</td><td>8</td><td>1036</td><td>4</td><td>44</td><td>1</td><td>312</td><td>43</td><td>18</td><td>10.0</td><td>[30157, 30648, … 31706]</td><td>[2066, 1776, 1036]</td><td>[114, 219, 312]</td><td>&quot;24107&quot;</td><td>&quot;1218&quot;</td><td>&quot;173&quot;</td><td>2022-06-03 03:28:00</td><td>[39, 220, 16]</td><td>0</td><td>15</td></tr><tr><td>&hellip;</td><td>&hellip;</td><td>&hellip;</td><td>&hellip;</td><td>&hellip;</td><td>&hellip;</td><td>&hellip;</td><td>&hellip;</td><td>&hellip;</td><td>&hellip;</td><td>&hellip;</td><td>&hellip;</td><td>&hellip;</td><td>&hellip;</td><td>&hellip;</td><td>&hellip;</td><td>&hellip;</td><td>&hellip;</td><td>&hellip;</td><td>&hellip;</td><td>&hellip;</td><td>&hellip;</td><td>&hellip;</td><td>&hellip;</td><td>&hellip;</td><td>&hellip;</td><td>&hellip;</td><td>&hellip;</td><td>&hellip;</td><td>&hellip;</td><td>&hellip;</td><td>&hellip;</td><td>&hellip;</td><td>&hellip;</td><td>&hellip;</td></tr><tr><td>332115</td><td>0</td><td>100063</td><td>3</td><td>2</td><td>20</td><td>383</td><td>2</td><td>19</td><td>6</td><td>30</td><td>228</td><td>1505</td><td>7</td><td>15135</td><td>16636</td><td>8</td><td>1106</td><td>5</td><td>57</td><td>1</td><td>240</td><td>12</td><td>29</td><td>10.0</td><td>[19427, 36257, … 20072]</td><td>[1036, 1220, … 1126]</td><td>[312, 280, … 367]</td><td>&quot;24107&quot;</td><td>&quot;1218&quot;</td><td>&quot;173&quot;</td><td>2022-06-03 11:34:00</td><td>[171, 65, … 112]</td><td>4</td><td>17</td></tr><tr><td>332172</td><td>0</td><td>100063</td><td>3</td><td>2</td><td>20</td><td>383</td><td>2</td><td>19</td><td>6</td><td>30</td><td>228</td><td>1284</td><td>7</td><td>33422</td><td>19818</td><td>8</td><td>1036</td><td>4</td><td>38</td><td>1</td><td>312</td><td>43</td><td>18</td><td>10.0</td><td>[19427, 36257, … 20072]</td><td>[1036, 1220, … 1126]</td><td>[312, 280, … 367]</td><td>&quot;24107&quot;</td><td>&quot;1218&quot;</td><td>&quot;173&quot;</td><td>2022-06-03 10:34:00</td><td>[171, 65, … 112]</td><td>4</td><td>17</td></tr><tr><td>332174</td><td>0</td><td>100063</td><td>3</td><td>2</td><td>20</td><td>383</td><td>2</td><td>19</td><td>6</td><td>30</td><td>228</td><td>1505</td><td>7</td><td>33422</td><td>19818</td><td>8</td><td>1036</td><td>4</td><td>40</td><td>1</td><td>312</td><td>43</td><td>18</td><td>10.0</td><td>[19427, 36257, … 20072]</td><td>[1036, 1220, … 1126]</td><td>[312, 280, … 367]</td><td>&quot;24107&quot;</td><td>&quot;1218&quot;</td><td>&quot;173&quot;</td><td>2022-06-03 10:25:00</td><td>[171, 65, … 112]</td><td>4</td><td>17</td></tr><tr><td>332176</td><td>0</td><td>100063</td><td>3</td><td>2</td><td>20</td><td>383</td><td>2</td><td>19</td><td>6</td><td>30</td><td>228</td><td>1284</td><td>7</td><td>16723</td><td>16725</td><td>10</td><td>1619</td><td>4</td><td>16</td><td>1</td><td>257</td><td>49</td><td>23</td><td>0.0</td><td>[19427, 36257, … 20072]</td><td>[1036, 1220, … 1126]</td><td>[312, 280, … 367]</td><td>&quot;24107&quot;</td><td>&quot;1218&quot;</td><td>&quot;173&quot;</td><td>2022-06-03 03:47:00</td><td>[171, 65, … 112]</td><td>4</td><td>17</td></tr><tr><td>256617</td><td>0</td><td>100072</td><td>3</td><td>2</td><td>20</td><td>441</td><td>2</td><td>33</td><td>4</td><td>23</td><td>192</td><td>2301</td><td>6</td><td>29946</td><td>16847</td><td>8</td><td>1454</td><td>4</td><td>17</td><td>1</td><td>106</td><td>39</td><td>15</td><td>10.0</td><td>[31706]</td><td>[1036]</td><td>[312]</td><td>&quot;24107&quot;</td><td>&quot;1218&quot;</td><td>&quot;173&quot;</td><td>2022-06-03 08:46:00</td><td>[86, 216, … 191]</td><td>8</td><td>17</td></tr></tbody></table></div>"
      ],
      "text/plain": [
       "shape: (500, 35)\n",
       "┌────────┬───────┬─────────┬─────┬───┬───────────────┬───────────────┬──────────────┬──────────────┐\n",
       "│ log_id ┆ label ┆ user_id ┆ age ┆ … ┆ pt_d          ┆ u_newsCatInte ┆ u_refreshTim ┆ u_feedLifeCy │\n",
       "│ ---    ┆ ---   ┆ ---     ┆ --- ┆   ┆ ---           ┆ restsST       ┆ es           ┆ cle          │\n",
       "│ i64    ┆ i64   ┆ i64     ┆ i64 ┆   ┆ datetime[μs]  ┆ ---           ┆ ---          ┆ ---          │\n",
       "│        ┆       ┆         ┆     ┆   ┆               ┆ list[i64]     ┆ i64          ┆ i64          │\n",
       "╞════════╪═══════╪═════════╪═════╪═══╪═══════════════╪═══════════════╪══════════════╪══════════════╡\n",
       "│ 373250 ┆ 0     ┆ 100005  ┆ 3   ┆ … ┆ 2022-06-03    ┆ [39, 220, 16] ┆ 0            ┆ 15           │\n",
       "│        ┆       ┆         ┆     ┆   ┆ 03:26:00      ┆               ┆              ┆              │\n",
       "│ 373253 ┆ 1     ┆ 100005  ┆ 3   ┆ … ┆ 2022-06-03    ┆ [39, 220, 16] ┆ 0            ┆ 15           │\n",
       "│        ┆       ┆         ┆     ┆   ┆ 03:26:00      ┆               ┆              ┆              │\n",
       "│ 373252 ┆ 1     ┆ 100005  ┆ 3   ┆ … ┆ 2022-06-03    ┆ [39, 220, 16] ┆ 0            ┆ 15           │\n",
       "│        ┆       ┆         ┆     ┆   ┆ 03:26:00      ┆               ┆              ┆              │\n",
       "│ 373251 ┆ 0     ┆ 100005  ┆ 3   ┆ … ┆ 2022-06-03    ┆ [39, 220, 16] ┆ 0            ┆ 15           │\n",
       "│        ┆       ┆         ┆     ┆   ┆ 03:26:00      ┆               ┆              ┆              │\n",
       "│ 373255 ┆ 0     ┆ 100005  ┆ 3   ┆ … ┆ 2022-06-03    ┆ [39, 220, 16] ┆ 0            ┆ 15           │\n",
       "│        ┆       ┆         ┆     ┆   ┆ 03:28:00      ┆               ┆              ┆              │\n",
       "│ …      ┆ …     ┆ …       ┆ …   ┆ … ┆ …             ┆ …             ┆ …            ┆ …            │\n",
       "│ 332115 ┆ 0     ┆ 100063  ┆ 3   ┆ … ┆ 2022-06-03    ┆ [171, 65, …   ┆ 4            ┆ 17           │\n",
       "│        ┆       ┆         ┆     ┆   ┆ 11:34:00      ┆ 112]          ┆              ┆              │\n",
       "│ 332172 ┆ 0     ┆ 100063  ┆ 3   ┆ … ┆ 2022-06-03    ┆ [171, 65, …   ┆ 4            ┆ 17           │\n",
       "│        ┆       ┆         ┆     ┆   ┆ 10:34:00      ┆ 112]          ┆              ┆              │\n",
       "│ 332174 ┆ 0     ┆ 100063  ┆ 3   ┆ … ┆ 2022-06-03    ┆ [171, 65, …   ┆ 4            ┆ 17           │\n",
       "│        ┆       ┆         ┆     ┆   ┆ 10:25:00      ┆ 112]          ┆              ┆              │\n",
       "│ 332176 ┆ 0     ┆ 100063  ┆ 3   ┆ … ┆ 2022-06-03    ┆ [171, 65, …   ┆ 4            ┆ 17           │\n",
       "│        ┆       ┆         ┆     ┆   ┆ 03:47:00      ┆ 112]          ┆              ┆              │\n",
       "│ 256617 ┆ 0     ┆ 100072  ┆ 3   ┆ … ┆ 2022-06-03    ┆ [86, 216, …   ┆ 8            ┆ 17           │\n",
       "│        ┆       ┆         ┆     ┆   ┆ 08:46:00      ┆ 191]          ┆              ┆              │\n",
       "└────────┴───────┴─────────┴─────┴───┴───────────────┴───────────────┴──────────────┴──────────────┘"
      ]
     },
     "execution_count": 6,
     "metadata": {},
     "output_type": "execute_result"
    }
   ],
   "source": [
    "ad_data.fetch()"
   ]
  },
  {
   "cell_type": "code",
   "execution_count": 7,
   "id": "7aa76438-8dab-488a-939a-d28cdcd67077",
   "metadata": {},
   "outputs": [
    {
     "data": {
      "text/html": [
       "<div><style>\n",
       ".dataframe > thead > tr,\n",
       ".dataframe > tbody > tr {\n",
       "  text-align: right;\n",
       "  white-space: pre-wrap;\n",
       "}\n",
       "</style>\n",
       "<small>shape: (500, 33)</small><table border=\"1\" class=\"dataframe\"><thead><tr><th>user_id</th><th>u_phonePrice</th><th>u_browserLifeCycle</th><th>u_browserMode</th><th>u_feedLifeCycle</th><th>u_refreshTimes</th><th>u_newsCatInterests</th><th>u_newsCatDislike</th><th>u_newsCatInterestsST</th><th>u_click_ca2_news</th><th>i_docId</th><th>i_s_sourceId</th><th>i_regionEntity</th><th>i_cat</th><th>i_entities</th><th>i_dislikeTimes</th><th>i_upTimes</th><th>i_dtype</th><th>e_ch</th><th>e_m</th><th>e_po</th><th>e_pl</th><th>e_rn</th><th>e_section</th><th>e_et</th><th>label</th><th>cillabel</th><th>pro</th><th>Interested</th><th>Disliked</th><th>InterestedST</th><th>in_ads</th><th>hour</th></tr><tr><td>i64</td><td>i64</td><td>i64</td><td>i64</td><td>i64</td><td>i64</td><td>list[i64]</td><td>list[i64]</td><td>list[i64]</td><td>list[i64]</td><td>str</td><td>str</td><td>i64</td><td>i64</td><td>str</td><td>i64</td><td>i64</td><td>i64</td><td>i64</td><td>i64</td><td>i64</td><td>i64</td><td>i64</td><td>i64</td><td>datetime[μs]</td><td>i64</td><td>i64</td><td>i64</td><td>bool</td><td>bool</td><td>bool</td><td>bool</td><td>i8</td></tr></thead><tbody><tr><td>135880</td><td>16</td><td>17</td><td>10</td><td>17</td><td>0</td><td>[195, 168, … 108]</td><td>[0]</td><td>[195, 44, … 21]</td><td>[195, 168, … 21]</td><td>&quot;6e3e6bcb58d1fdd57b01a423f7a777…</td><td>&quot;1eba881ea576fc05dfe457dd2111cd…</td><td>0</td><td>210</td><td>&quot;c7c6575e357e3e82c87fd04b04b28c…</td><td>4</td><td>1</td><td>13</td><td>19</td><td>1217</td><td>1</td><td>561</td><td>2</td><td>0</td><td>2022-06-08 15:21:00</td><td>-1</td><td>-1</td><td>0</td><td>false</td><td>false</td><td>false</td><td>false</td><td>15</td></tr><tr><td>135880</td><td>16</td><td>17</td><td>10</td><td>17</td><td>0</td><td>[195, 168, … 108]</td><td>[0]</td><td>[195, 44, … 21]</td><td>[195, 168, … 21]</td><td>&quot;f080276ae8aee56306253debbf643f…</td><td>&quot;772b4a2593c3aa2590291f25d4bbc4…</td><td>0</td><td>219</td><td>&quot;40179dae61fecd7eaad86cdd128e70…</td><td>3</td><td>9</td><td>13</td><td>19</td><td>1217</td><td>9</td><td>561</td><td>1</td><td>0</td><td>2022-06-08 15:21:00</td><td>-1</td><td>-1</td><td>0</td><td>false</td><td>false</td><td>false</td><td>false</td><td>15</td></tr><tr><td>135880</td><td>16</td><td>17</td><td>10</td><td>17</td><td>0</td><td>[195, 168, … 108]</td><td>[0]</td><td>[195, 44, … 21]</td><td>[195, 168, … 21]</td><td>&quot;f6ee51f33fe8623b713a16287a873c…</td><td>&quot;645e57afbbafce5159ab7fe956837c…</td><td>0</td><td>78</td><td>&quot;37d6e916f8c486d37683f03df3f578…</td><td>0</td><td>9</td><td>13</td><td>19</td><td>1217</td><td>18</td><td>561</td><td>1</td><td>0</td><td>2022-06-08 15:21:00</td><td>-1</td><td>-1</td><td>0</td><td>false</td><td>false</td><td>false</td><td>false</td><td>15</td></tr><tr><td>135880</td><td>16</td><td>17</td><td>10</td><td>17</td><td>0</td><td>[195, 168, … 108]</td><td>[0]</td><td>[195, 44, … 21]</td><td>[195, 168, … 21]</td><td>&quot;ee47079f7af99b70476161dbf5dcf0…</td><td>&quot;9e5226ef81bf205dfe0ceefd6b7124…</td><td>1718</td><td>168</td><td>&quot;e36aff85ea6234ef8c68865db8abfc…</td><td>0</td><td>3</td><td>13</td><td>19</td><td>1217</td><td>7</td><td>561</td><td>1</td><td>1</td><td>2022-06-08 15:21:00</td><td>-1</td><td>-1</td><td>0</td><td>true</td><td>false</td><td>true</td><td>false</td><td>15</td></tr><tr><td>135880</td><td>16</td><td>17</td><td>10</td><td>17</td><td>0</td><td>[195, 168, … 108]</td><td>[0]</td><td>[195, 44, … 21]</td><td>[195, 168, … 21]</td><td>&quot;2363b609896dc2849cadf303a8d649…</td><td>&quot;3a705744387ea91d68ce6b8172b528…</td><td>0</td><td>50</td><td>&quot;86d9e350f494a419533ebda912fd12…</td><td>9</td><td>9</td><td>13</td><td>19</td><td>1217</td><td>7</td><td>561</td><td>2</td><td>0</td><td>2022-06-08 15:22:00</td><td>-1</td><td>-1</td><td>0</td><td>false</td><td>false</td><td>false</td><td>false</td><td>15</td></tr><tr><td>&hellip;</td><td>&hellip;</td><td>&hellip;</td><td>&hellip;</td><td>&hellip;</td><td>&hellip;</td><td>&hellip;</td><td>&hellip;</td><td>&hellip;</td><td>&hellip;</td><td>&hellip;</td><td>&hellip;</td><td>&hellip;</td><td>&hellip;</td><td>&hellip;</td><td>&hellip;</td><td>&hellip;</td><td>&hellip;</td><td>&hellip;</td><td>&hellip;</td><td>&hellip;</td><td>&hellip;</td><td>&hellip;</td><td>&hellip;</td><td>&hellip;</td><td>&hellip;</td><td>&hellip;</td><td>&hellip;</td><td>&hellip;</td><td>&hellip;</td><td>&hellip;</td><td>&hellip;</td><td>&hellip;</td></tr><tr><td>272174</td><td>11</td><td>17</td><td>14</td><td>15</td><td>0</td><td>[98]</td><td>[0]</td><td>[0]</td><td>[98]</td><td>&quot;cef0748681162c90fbbaeca9b6678c…</td><td>&quot;da43cb15ed2d50d32fb518343f86b8…</td><td>1117</td><td>219</td><td>&quot;7c80405a35f2d0f72d11f5f2e46326…</td><td>9</td><td>9</td><td>13</td><td>19</td><td>1377</td><td>9</td><td>2589</td><td>1</td><td>0</td><td>2022-06-08 09:21:00</td><td>-1</td><td>-1</td><td>0</td><td>false</td><td>false</td><td>false</td><td>false</td><td>9</td></tr><tr><td>272174</td><td>11</td><td>17</td><td>14</td><td>15</td><td>0</td><td>[98]</td><td>[0]</td><td>[0]</td><td>[98]</td><td>&quot;80c6bd55b3c1988e3a59e90141d84f…</td><td>&quot;1a3af1f28e25bedb03dc170b923e9c…</td><td>0</td><td>25</td><td>&quot;948545cca68fb18de0ef25e7d6bd2b…</td><td>2</td><td>9</td><td>13</td><td>19</td><td>1377</td><td>7</td><td>2589</td><td>1</td><td>1</td><td>2022-06-08 09:26:00</td><td>-1</td><td>-1</td><td>0</td><td>false</td><td>false</td><td>false</td><td>false</td><td>9</td></tr><tr><td>272174</td><td>11</td><td>17</td><td>14</td><td>15</td><td>0</td><td>[98]</td><td>[0]</td><td>[0]</td><td>[98]</td><td>&quot;5e25aa0caa288673a2e2bbccde9736…</td><td>&quot;39c20be9cce448a7128ede705bc005…</td><td>0</td><td>25</td><td>&quot;08338e69ccacd288da8b68a6630c62…</td><td>0</td><td>4</td><td>13</td><td>19</td><td>1377</td><td>7</td><td>2589</td><td>1</td><td>1</td><td>2022-06-08 09:21:00</td><td>-1</td><td>-1</td><td>0</td><td>false</td><td>false</td><td>false</td><td>false</td><td>9</td></tr><tr><td>243528</td><td>16</td><td>17</td><td>14</td><td>17</td><td>8</td><td>[109, 199, … 16]</td><td>[0]</td><td>[131, 105, … 219]</td><td>[105, 147, … 205]</td><td>&quot;a0296da4e2dd7bb41e7548e5d105a7…</td><td>&quot;645e57afbbafce5159ab7fe956837c…</td><td>0</td><td>57</td><td>&quot;b66e6d4c97c2ad73d290a0c868cf8c…</td><td>3</td><td>9</td><td>11</td><td>19</td><td>1391</td><td>6</td><td>881</td><td>1</td><td>1</td><td>2022-06-08 11:18:00</td><td>-1</td><td>-1</td><td>0</td><td>false</td><td>false</td><td>false</td><td>true</td><td>11</td></tr><tr><td>243528</td><td>16</td><td>17</td><td>14</td><td>17</td><td>8</td><td>[109, 199, … 16]</td><td>[0]</td><td>[25, 114, … 112]</td><td>[220, 25, … 98]</td><td>&quot;6b5ba9c867809d6fde9ace2514226d…</td><td>&quot;649d02b90c5b67640c52888c4b9120…</td><td>0</td><td>25</td><td>&quot;1275d2cb7217381a5c0063713d4de8…</td><td>0</td><td>1</td><td>13</td><td>19</td><td>1391</td><td>11</td><td>881</td><td>1</td><td>0</td><td>2022-06-08 05:27:00</td><td>-1</td><td>-1</td><td>0</td><td>false</td><td>false</td><td>true</td><td>true</td><td>5</td></tr></tbody></table></div>"
      ],
      "text/plain": [
       "shape: (500, 33)\n",
       "┌─────────┬──────────────┬──────────────┬─────────────┬───┬──────────┬─────────────┬────────┬──────┐\n",
       "│ user_id ┆ u_phonePrice ┆ u_browserLif ┆ u_browserMo ┆ … ┆ Disliked ┆ InterestedS ┆ in_ads ┆ hour │\n",
       "│ ---     ┆ ---          ┆ eCycle       ┆ de          ┆   ┆ ---      ┆ T           ┆ ---    ┆ ---  │\n",
       "│ i64     ┆ i64          ┆ ---          ┆ ---         ┆   ┆ bool     ┆ ---         ┆ bool   ┆ i8   │\n",
       "│         ┆              ┆ i64          ┆ i64         ┆   ┆          ┆ bool        ┆        ┆      │\n",
       "╞═════════╪══════════════╪══════════════╪═════════════╪═══╪══════════╪═════════════╪════════╪══════╡\n",
       "│ 135880  ┆ 16           ┆ 17           ┆ 10          ┆ … ┆ false    ┆ false       ┆ false  ┆ 15   │\n",
       "│ 135880  ┆ 16           ┆ 17           ┆ 10          ┆ … ┆ false    ┆ false       ┆ false  ┆ 15   │\n",
       "│ 135880  ┆ 16           ┆ 17           ┆ 10          ┆ … ┆ false    ┆ false       ┆ false  ┆ 15   │\n",
       "│ 135880  ┆ 16           ┆ 17           ┆ 10          ┆ … ┆ false    ┆ true        ┆ false  ┆ 15   │\n",
       "│ 135880  ┆ 16           ┆ 17           ┆ 10          ┆ … ┆ false    ┆ false       ┆ false  ┆ 15   │\n",
       "│ …       ┆ …            ┆ …            ┆ …           ┆ … ┆ …        ┆ …           ┆ …      ┆ …    │\n",
       "│ 272174  ┆ 11           ┆ 17           ┆ 14          ┆ … ┆ false    ┆ false       ┆ false  ┆ 9    │\n",
       "│ 272174  ┆ 11           ┆ 17           ┆ 14          ┆ … ┆ false    ┆ false       ┆ false  ┆ 9    │\n",
       "│ 272174  ┆ 11           ┆ 17           ┆ 14          ┆ … ┆ false    ┆ false       ┆ false  ┆ 9    │\n",
       "│ 243528  ┆ 16           ┆ 17           ┆ 14          ┆ … ┆ false    ┆ false       ┆ true   ┆ 11   │\n",
       "│ 243528  ┆ 16           ┆ 17           ┆ 14          ┆ … ┆ false    ┆ true        ┆ true   ┆ 5    │\n",
       "└─────────┴──────────────┴──────────────┴─────────────┴───┴──────────┴─────────────┴────────┴──────┘"
      ]
     },
     "execution_count": 7,
     "metadata": {},
     "output_type": "execute_result"
    }
   ],
   "source": [
    "feed_data.fetch()"
   ]
  },
  {
   "cell_type": "markdown",
   "id": "24726436-904e-4dec-819c-5679e6f08476",
   "metadata": {},
   "source": [
    "## Exploratory Data Analysis\n",
    "We create some charts to analyze the data."
   ]
  },
  {
   "cell_type": "code",
   "execution_count": 8,
   "id": "3042da62-73db-4887-a57d-369e36c1a06a",
   "metadata": {},
   "outputs": [
    {
     "data": {
      "application/javascript": [
       "(function(root) {\n",
       "  function now() {\n",
       "    return new Date();\n",
       "  }\n",
       "\n",
       "  var force = true;\n",
       "  var py_version = '3.4.2'.replace('rc', '-rc.').replace('.dev', '-dev.');\n",
       "  var reloading = false;\n",
       "  var Bokeh = root.Bokeh;\n",
       "\n",
       "  if (typeof (root._bokeh_timeout) === \"undefined\" || force) {\n",
       "    root._bokeh_timeout = Date.now() + 5000;\n",
       "    root._bokeh_failed_load = false;\n",
       "  }\n",
       "\n",
       "  function run_callbacks() {\n",
       "    try {\n",
       "      root._bokeh_onload_callbacks.forEach(function(callback) {\n",
       "        if (callback != null)\n",
       "          callback();\n",
       "      });\n",
       "    } finally {\n",
       "      delete root._bokeh_onload_callbacks;\n",
       "    }\n",
       "    console.debug(\"Bokeh: all callbacks have finished\");\n",
       "  }\n",
       "\n",
       "  function load_libs(css_urls, js_urls, js_modules, js_exports, callback) {\n",
       "    if (css_urls == null) css_urls = [];\n",
       "    if (js_urls == null) js_urls = [];\n",
       "    if (js_modules == null) js_modules = [];\n",
       "    if (js_exports == null) js_exports = {};\n",
       "\n",
       "    root._bokeh_onload_callbacks.push(callback);\n",
       "\n",
       "    if (root._bokeh_is_loading > 0) {\n",
       "      console.debug(\"Bokeh: BokehJS is being loaded, scheduling callback at\", now());\n",
       "      return null;\n",
       "    }\n",
       "    if (js_urls.length === 0 && js_modules.length === 0 && Object.keys(js_exports).length === 0) {\n",
       "      run_callbacks();\n",
       "      return null;\n",
       "    }\n",
       "    if (!reloading) {\n",
       "      console.debug(\"Bokeh: BokehJS not loaded, scheduling load and callback at\", now());\n",
       "    }\n",
       "\n",
       "    function on_load() {\n",
       "      root._bokeh_is_loading--;\n",
       "      if (root._bokeh_is_loading === 0) {\n",
       "        console.debug(\"Bokeh: all BokehJS libraries/stylesheets loaded\");\n",
       "        run_callbacks()\n",
       "      }\n",
       "    }\n",
       "    window._bokeh_on_load = on_load\n",
       "\n",
       "    function on_error() {\n",
       "      console.error(\"failed to load \" + url);\n",
       "    }\n",
       "\n",
       "    var skip = [];\n",
       "    if (window.requirejs) {\n",
       "      window.requirejs.config({'packages': {}, 'paths': {}, 'shim': {}});\n",
       "      root._bokeh_is_loading = css_urls.length + 0;\n",
       "    } else {\n",
       "      root._bokeh_is_loading = css_urls.length + js_urls.length + js_modules.length + Object.keys(js_exports).length;\n",
       "    }\n",
       "\n",
       "    var existing_stylesheets = []\n",
       "    var links = document.getElementsByTagName('link')\n",
       "    for (var i = 0; i < links.length; i++) {\n",
       "      var link = links[i]\n",
       "      if (link.href != null) {\n",
       "\texisting_stylesheets.push(link.href)\n",
       "      }\n",
       "    }\n",
       "    for (var i = 0; i < css_urls.length; i++) {\n",
       "      var url = css_urls[i];\n",
       "      if (existing_stylesheets.indexOf(url) !== -1) {\n",
       "\ton_load()\n",
       "\tcontinue;\n",
       "      }\n",
       "      const element = document.createElement(\"link\");\n",
       "      element.onload = on_load;\n",
       "      element.onerror = on_error;\n",
       "      element.rel = \"stylesheet\";\n",
       "      element.type = \"text/css\";\n",
       "      element.href = url;\n",
       "      console.debug(\"Bokeh: injecting link tag for BokehJS stylesheet: \", url);\n",
       "      document.body.appendChild(element);\n",
       "    }    var existing_scripts = []\n",
       "    var scripts = document.getElementsByTagName('script')\n",
       "    for (var i = 0; i < scripts.length; i++) {\n",
       "      var script = scripts[i]\n",
       "      if (script.src != null) {\n",
       "\texisting_scripts.push(script.src)\n",
       "      }\n",
       "    }\n",
       "    for (var i = 0; i < js_urls.length; i++) {\n",
       "      var url = js_urls[i];\n",
       "      if (skip.indexOf(url) !== -1 || existing_scripts.indexOf(url) !== -1) {\n",
       "\tif (!window.requirejs) {\n",
       "\t  on_load();\n",
       "\t}\n",
       "\tcontinue;\n",
       "      }\n",
       "      var element = document.createElement('script');\n",
       "      element.onload = on_load;\n",
       "      element.onerror = on_error;\n",
       "      element.async = false;\n",
       "      element.src = url;\n",
       "      console.debug(\"Bokeh: injecting script tag for BokehJS library: \", url);\n",
       "      document.head.appendChild(element);\n",
       "    }\n",
       "    for (var i = 0; i < js_modules.length; i++) {\n",
       "      var url = js_modules[i];\n",
       "      if (skip.indexOf(url) !== -1 || existing_scripts.indexOf(url) !== -1) {\n",
       "\tif (!window.requirejs) {\n",
       "\t  on_load();\n",
       "\t}\n",
       "\tcontinue;\n",
       "      }\n",
       "      var element = document.createElement('script');\n",
       "      element.onload = on_load;\n",
       "      element.onerror = on_error;\n",
       "      element.async = false;\n",
       "      element.src = url;\n",
       "      element.type = \"module\";\n",
       "      console.debug(\"Bokeh: injecting script tag for BokehJS library: \", url);\n",
       "      document.head.appendChild(element);\n",
       "    }\n",
       "    for (const name in js_exports) {\n",
       "      var url = js_exports[name];\n",
       "      if (skip.indexOf(url) >= 0 || root[name] != null) {\n",
       "\tif (!window.requirejs) {\n",
       "\t  on_load();\n",
       "\t}\n",
       "\tcontinue;\n",
       "      }\n",
       "      var element = document.createElement('script');\n",
       "      element.onerror = on_error;\n",
       "      element.async = false;\n",
       "      element.type = \"module\";\n",
       "      console.debug(\"Bokeh: injecting script tag for BokehJS library: \", url);\n",
       "      element.textContent = `\n",
       "      import ${name} from \"${url}\"\n",
       "      window.${name} = ${name}\n",
       "      window._bokeh_on_load()\n",
       "      `\n",
       "      document.head.appendChild(element);\n",
       "    }\n",
       "    if (!js_urls.length && !js_modules.length) {\n",
       "      on_load()\n",
       "    }\n",
       "  };\n",
       "\n",
       "  function inject_raw_css(css) {\n",
       "    const element = document.createElement(\"style\");\n",
       "    element.appendChild(document.createTextNode(css));\n",
       "    document.body.appendChild(element);\n",
       "  }\n",
       "\n",
       "  var js_urls = [\"https://cdn.bokeh.org/bokeh/release/bokeh-3.4.2.min.js\", \"https://cdn.bokeh.org/bokeh/release/bokeh-gl-3.4.2.min.js\", \"https://cdn.bokeh.org/bokeh/release/bokeh-widgets-3.4.2.min.js\", \"https://cdn.bokeh.org/bokeh/release/bokeh-tables-3.4.2.min.js\", \"https://cdn.holoviz.org/panel/1.4.4/dist/panel.min.js\"];\n",
       "  var js_modules = [];\n",
       "  var js_exports = {};\n",
       "  var css_urls = [];\n",
       "  var inline_js = [    function(Bokeh) {\n",
       "      Bokeh.set_log_level(\"info\");\n",
       "    },\n",
       "function(Bokeh) {} // ensure no trailing comma for IE\n",
       "  ];\n",
       "\n",
       "  function run_inline_js() {\n",
       "    if ((root.Bokeh !== undefined) || (force === true)) {\n",
       "      for (var i = 0; i < inline_js.length; i++) {\n",
       "\ttry {\n",
       "          inline_js[i].call(root, root.Bokeh);\n",
       "\t} catch(e) {\n",
       "\t  if (!reloading) {\n",
       "\t    throw e;\n",
       "\t  }\n",
       "\t}\n",
       "      }\n",
       "      // Cache old bokeh versions\n",
       "      if (Bokeh != undefined && !reloading) {\n",
       "\tvar NewBokeh = root.Bokeh;\n",
       "\tif (Bokeh.versions === undefined) {\n",
       "\t  Bokeh.versions = new Map();\n",
       "\t}\n",
       "\tif (NewBokeh.version !== Bokeh.version) {\n",
       "\t  Bokeh.versions.set(NewBokeh.version, NewBokeh)\n",
       "\t}\n",
       "\troot.Bokeh = Bokeh;\n",
       "      }} else if (Date.now() < root._bokeh_timeout) {\n",
       "      setTimeout(run_inline_js, 100);\n",
       "    } else if (!root._bokeh_failed_load) {\n",
       "      console.log(\"Bokeh: BokehJS failed to load within specified timeout.\");\n",
       "      root._bokeh_failed_load = true;\n",
       "    }\n",
       "    root._bokeh_is_initializing = false\n",
       "  }\n",
       "\n",
       "  function load_or_wait() {\n",
       "    // Implement a backoff loop that tries to ensure we do not load multiple\n",
       "    // versions of Bokeh and its dependencies at the same time.\n",
       "    // In recent versions we use the root._bokeh_is_initializing flag\n",
       "    // to determine whether there is an ongoing attempt to initialize\n",
       "    // bokeh, however for backward compatibility we also try to ensure\n",
       "    // that we do not start loading a newer (Panel>=1.0 and Bokeh>3) version\n",
       "    // before older versions are fully initialized.\n",
       "    if (root._bokeh_is_initializing && Date.now() > root._bokeh_timeout) {\n",
       "      root._bokeh_is_initializing = false;\n",
       "      root._bokeh_onload_callbacks = undefined;\n",
       "      console.log(\"Bokeh: BokehJS was loaded multiple times but one version failed to initialize.\");\n",
       "      load_or_wait();\n",
       "    } else if (root._bokeh_is_initializing || (typeof root._bokeh_is_initializing === \"undefined\" && root._bokeh_onload_callbacks !== undefined)) {\n",
       "      setTimeout(load_or_wait, 100);\n",
       "    } else {\n",
       "      root._bokeh_is_initializing = true\n",
       "      root._bokeh_onload_callbacks = []\n",
       "      var bokeh_loaded = Bokeh != null && (Bokeh.version === py_version || (Bokeh.versions !== undefined && Bokeh.versions.has(py_version)));\n",
       "      if (!reloading && !bokeh_loaded) {\n",
       "\troot.Bokeh = undefined;\n",
       "      }\n",
       "      load_libs(css_urls, js_urls, js_modules, js_exports, function() {\n",
       "\tconsole.debug(\"Bokeh: BokehJS plotting callback run at\", now());\n",
       "\trun_inline_js();\n",
       "      });\n",
       "    }\n",
       "  }\n",
       "  // Give older versions of the autoload script a head-start to ensure\n",
       "  // they initialize before we start loading newer version.\n",
       "  setTimeout(load_or_wait, 100)\n",
       "}(window));"
      ],
      "application/vnd.holoviews_load.v0+json": "(function(root) {\n  function now() {\n    return new Date();\n  }\n\n  var force = true;\n  var py_version = '3.4.2'.replace('rc', '-rc.').replace('.dev', '-dev.');\n  var reloading = false;\n  var Bokeh = root.Bokeh;\n\n  if (typeof (root._bokeh_timeout) === \"undefined\" || force) {\n    root._bokeh_timeout = Date.now() + 5000;\n    root._bokeh_failed_load = false;\n  }\n\n  function run_callbacks() {\n    try {\n      root._bokeh_onload_callbacks.forEach(function(callback) {\n        if (callback != null)\n          callback();\n      });\n    } finally {\n      delete root._bokeh_onload_callbacks;\n    }\n    console.debug(\"Bokeh: all callbacks have finished\");\n  }\n\n  function load_libs(css_urls, js_urls, js_modules, js_exports, callback) {\n    if (css_urls == null) css_urls = [];\n    if (js_urls == null) js_urls = [];\n    if (js_modules == null) js_modules = [];\n    if (js_exports == null) js_exports = {};\n\n    root._bokeh_onload_callbacks.push(callback);\n\n    if (root._bokeh_is_loading > 0) {\n      console.debug(\"Bokeh: BokehJS is being loaded, scheduling callback at\", now());\n      return null;\n    }\n    if (js_urls.length === 0 && js_modules.length === 0 && Object.keys(js_exports).length === 0) {\n      run_callbacks();\n      return null;\n    }\n    if (!reloading) {\n      console.debug(\"Bokeh: BokehJS not loaded, scheduling load and callback at\", now());\n    }\n\n    function on_load() {\n      root._bokeh_is_loading--;\n      if (root._bokeh_is_loading === 0) {\n        console.debug(\"Bokeh: all BokehJS libraries/stylesheets loaded\");\n        run_callbacks()\n      }\n    }\n    window._bokeh_on_load = on_load\n\n    function on_error() {\n      console.error(\"failed to load \" + url);\n    }\n\n    var skip = [];\n    if (window.requirejs) {\n      window.requirejs.config({'packages': {}, 'paths': {}, 'shim': {}});\n      root._bokeh_is_loading = css_urls.length + 0;\n    } else {\n      root._bokeh_is_loading = css_urls.length + js_urls.length + js_modules.length + Object.keys(js_exports).length;\n    }\n\n    var existing_stylesheets = []\n    var links = document.getElementsByTagName('link')\n    for (var i = 0; i < links.length; i++) {\n      var link = links[i]\n      if (link.href != null) {\n\texisting_stylesheets.push(link.href)\n      }\n    }\n    for (var i = 0; i < css_urls.length; i++) {\n      var url = css_urls[i];\n      if (existing_stylesheets.indexOf(url) !== -1) {\n\ton_load()\n\tcontinue;\n      }\n      const element = document.createElement(\"link\");\n      element.onload = on_load;\n      element.onerror = on_error;\n      element.rel = \"stylesheet\";\n      element.type = \"text/css\";\n      element.href = url;\n      console.debug(\"Bokeh: injecting link tag for BokehJS stylesheet: \", url);\n      document.body.appendChild(element);\n    }    var existing_scripts = []\n    var scripts = document.getElementsByTagName('script')\n    for (var i = 0; i < scripts.length; i++) {\n      var script = scripts[i]\n      if (script.src != null) {\n\texisting_scripts.push(script.src)\n      }\n    }\n    for (var i = 0; i < js_urls.length; i++) {\n      var url = js_urls[i];\n      if (skip.indexOf(url) !== -1 || existing_scripts.indexOf(url) !== -1) {\n\tif (!window.requirejs) {\n\t  on_load();\n\t}\n\tcontinue;\n      }\n      var element = document.createElement('script');\n      element.onload = on_load;\n      element.onerror = on_error;\n      element.async = false;\n      element.src = url;\n      console.debug(\"Bokeh: injecting script tag for BokehJS library: \", url);\n      document.head.appendChild(element);\n    }\n    for (var i = 0; i < js_modules.length; i++) {\n      var url = js_modules[i];\n      if (skip.indexOf(url) !== -1 || existing_scripts.indexOf(url) !== -1) {\n\tif (!window.requirejs) {\n\t  on_load();\n\t}\n\tcontinue;\n      }\n      var element = document.createElement('script');\n      element.onload = on_load;\n      element.onerror = on_error;\n      element.async = false;\n      element.src = url;\n      element.type = \"module\";\n      console.debug(\"Bokeh: injecting script tag for BokehJS library: \", url);\n      document.head.appendChild(element);\n    }\n    for (const name in js_exports) {\n      var url = js_exports[name];\n      if (skip.indexOf(url) >= 0 || root[name] != null) {\n\tif (!window.requirejs) {\n\t  on_load();\n\t}\n\tcontinue;\n      }\n      var element = document.createElement('script');\n      element.onerror = on_error;\n      element.async = false;\n      element.type = \"module\";\n      console.debug(\"Bokeh: injecting script tag for BokehJS library: \", url);\n      element.textContent = `\n      import ${name} from \"${url}\"\n      window.${name} = ${name}\n      window._bokeh_on_load()\n      `\n      document.head.appendChild(element);\n    }\n    if (!js_urls.length && !js_modules.length) {\n      on_load()\n    }\n  };\n\n  function inject_raw_css(css) {\n    const element = document.createElement(\"style\");\n    element.appendChild(document.createTextNode(css));\n    document.body.appendChild(element);\n  }\n\n  var js_urls = [\"https://cdn.bokeh.org/bokeh/release/bokeh-3.4.2.min.js\", \"https://cdn.bokeh.org/bokeh/release/bokeh-gl-3.4.2.min.js\", \"https://cdn.bokeh.org/bokeh/release/bokeh-widgets-3.4.2.min.js\", \"https://cdn.bokeh.org/bokeh/release/bokeh-tables-3.4.2.min.js\", \"https://cdn.holoviz.org/panel/1.4.4/dist/panel.min.js\"];\n  var js_modules = [];\n  var js_exports = {};\n  var css_urls = [];\n  var inline_js = [    function(Bokeh) {\n      Bokeh.set_log_level(\"info\");\n    },\nfunction(Bokeh) {} // ensure no trailing comma for IE\n  ];\n\n  function run_inline_js() {\n    if ((root.Bokeh !== undefined) || (force === true)) {\n      for (var i = 0; i < inline_js.length; i++) {\n\ttry {\n          inline_js[i].call(root, root.Bokeh);\n\t} catch(e) {\n\t  if (!reloading) {\n\t    throw e;\n\t  }\n\t}\n      }\n      // Cache old bokeh versions\n      if (Bokeh != undefined && !reloading) {\n\tvar NewBokeh = root.Bokeh;\n\tif (Bokeh.versions === undefined) {\n\t  Bokeh.versions = new Map();\n\t}\n\tif (NewBokeh.version !== Bokeh.version) {\n\t  Bokeh.versions.set(NewBokeh.version, NewBokeh)\n\t}\n\troot.Bokeh = Bokeh;\n      }} else if (Date.now() < root._bokeh_timeout) {\n      setTimeout(run_inline_js, 100);\n    } else if (!root._bokeh_failed_load) {\n      console.log(\"Bokeh: BokehJS failed to load within specified timeout.\");\n      root._bokeh_failed_load = true;\n    }\n    root._bokeh_is_initializing = false\n  }\n\n  function load_or_wait() {\n    // Implement a backoff loop that tries to ensure we do not load multiple\n    // versions of Bokeh and its dependencies at the same time.\n    // In recent versions we use the root._bokeh_is_initializing flag\n    // to determine whether there is an ongoing attempt to initialize\n    // bokeh, however for backward compatibility we also try to ensure\n    // that we do not start loading a newer (Panel>=1.0 and Bokeh>3) version\n    // before older versions are fully initialized.\n    if (root._bokeh_is_initializing && Date.now() > root._bokeh_timeout) {\n      root._bokeh_is_initializing = false;\n      root._bokeh_onload_callbacks = undefined;\n      console.log(\"Bokeh: BokehJS was loaded multiple times but one version failed to initialize.\");\n      load_or_wait();\n    } else if (root._bokeh_is_initializing || (typeof root._bokeh_is_initializing === \"undefined\" && root._bokeh_onload_callbacks !== undefined)) {\n      setTimeout(load_or_wait, 100);\n    } else {\n      root._bokeh_is_initializing = true\n      root._bokeh_onload_callbacks = []\n      var bokeh_loaded = Bokeh != null && (Bokeh.version === py_version || (Bokeh.versions !== undefined && Bokeh.versions.has(py_version)));\n      if (!reloading && !bokeh_loaded) {\n\troot.Bokeh = undefined;\n      }\n      load_libs(css_urls, js_urls, js_modules, js_exports, function() {\n\tconsole.debug(\"Bokeh: BokehJS plotting callback run at\", now());\n\trun_inline_js();\n      });\n    }\n  }\n  // Give older versions of the autoload script a head-start to ensure\n  // they initialize before we start loading newer version.\n  setTimeout(load_or_wait, 100)\n}(window));"
     },
     "metadata": {},
     "output_type": "display_data"
    },
    {
     "data": {
      "application/javascript": [
       "\n",
       "if ((window.PyViz === undefined) || (window.PyViz instanceof HTMLElement)) {\n",
       "  window.PyViz = {comms: {}, comm_status:{}, kernels:{}, receivers: {}, plot_index: []}\n",
       "}\n",
       "\n",
       "\n",
       "    function JupyterCommManager() {\n",
       "    }\n",
       "\n",
       "    JupyterCommManager.prototype.register_target = function(plot_id, comm_id, msg_handler) {\n",
       "      if (window.comm_manager || ((window.Jupyter !== undefined) && (Jupyter.notebook.kernel != null))) {\n",
       "        var comm_manager = window.comm_manager || Jupyter.notebook.kernel.comm_manager;\n",
       "        comm_manager.register_target(comm_id, function(comm) {\n",
       "          comm.on_msg(msg_handler);\n",
       "        });\n",
       "      } else if ((plot_id in window.PyViz.kernels) && (window.PyViz.kernels[plot_id])) {\n",
       "        window.PyViz.kernels[plot_id].registerCommTarget(comm_id, function(comm) {\n",
       "          comm.onMsg = msg_handler;\n",
       "        });\n",
       "      } else if (typeof google != 'undefined' && google.colab.kernel != null) {\n",
       "        google.colab.kernel.comms.registerTarget(comm_id, (comm) => {\n",
       "          var messages = comm.messages[Symbol.asyncIterator]();\n",
       "          function processIteratorResult(result) {\n",
       "            var message = result.value;\n",
       "            console.log(message)\n",
       "            var content = {data: message.data, comm_id};\n",
       "            var buffers = []\n",
       "            for (var buffer of message.buffers || []) {\n",
       "              buffers.push(new DataView(buffer))\n",
       "            }\n",
       "            var metadata = message.metadata || {};\n",
       "            var msg = {content, buffers, metadata}\n",
       "            msg_handler(msg);\n",
       "            return messages.next().then(processIteratorResult);\n",
       "          }\n",
       "          return messages.next().then(processIteratorResult);\n",
       "        })\n",
       "      }\n",
       "    }\n",
       "\n",
       "    JupyterCommManager.prototype.get_client_comm = function(plot_id, comm_id, msg_handler) {\n",
       "      if (comm_id in window.PyViz.comms) {\n",
       "        return window.PyViz.comms[comm_id];\n",
       "      } else if (window.comm_manager || ((window.Jupyter !== undefined) && (Jupyter.notebook.kernel != null))) {\n",
       "        var comm_manager = window.comm_manager || Jupyter.notebook.kernel.comm_manager;\n",
       "        var comm = comm_manager.new_comm(comm_id, {}, {}, {}, comm_id);\n",
       "        if (msg_handler) {\n",
       "          comm.on_msg(msg_handler);\n",
       "        }\n",
       "      } else if ((plot_id in window.PyViz.kernels) && (window.PyViz.kernels[plot_id])) {\n",
       "        var comm = window.PyViz.kernels[plot_id].connectToComm(comm_id);\n",
       "        comm.open();\n",
       "        if (msg_handler) {\n",
       "          comm.onMsg = msg_handler;\n",
       "        }\n",
       "      } else if (typeof google != 'undefined' && google.colab.kernel != null) {\n",
       "        var comm_promise = google.colab.kernel.comms.open(comm_id)\n",
       "        comm_promise.then((comm) => {\n",
       "          window.PyViz.comms[comm_id] = comm;\n",
       "          if (msg_handler) {\n",
       "            var messages = comm.messages[Symbol.asyncIterator]();\n",
       "            function processIteratorResult(result) {\n",
       "              var message = result.value;\n",
       "              var content = {data: message.data};\n",
       "              var metadata = message.metadata || {comm_id};\n",
       "              var msg = {content, metadata}\n",
       "              msg_handler(msg);\n",
       "              return messages.next().then(processIteratorResult);\n",
       "            }\n",
       "            return messages.next().then(processIteratorResult);\n",
       "          }\n",
       "        }) \n",
       "        var sendClosure = (data, metadata, buffers, disposeOnDone) => {\n",
       "          return comm_promise.then((comm) => {\n",
       "            comm.send(data, metadata, buffers, disposeOnDone);\n",
       "          });\n",
       "        };\n",
       "        var comm = {\n",
       "          send: sendClosure\n",
       "        };\n",
       "      }\n",
       "      window.PyViz.comms[comm_id] = comm;\n",
       "      return comm;\n",
       "    }\n",
       "    window.PyViz.comm_manager = new JupyterCommManager();\n",
       "    \n",
       "\n",
       "\n",
       "var JS_MIME_TYPE = 'application/javascript';\n",
       "var HTML_MIME_TYPE = 'text/html';\n",
       "var EXEC_MIME_TYPE = 'application/vnd.holoviews_exec.v0+json';\n",
       "var CLASS_NAME = 'output';\n",
       "\n",
       "/**\n",
       " * Render data to the DOM node\n",
       " */\n",
       "function render(props, node) {\n",
       "  var div = document.createElement(\"div\");\n",
       "  var script = document.createElement(\"script\");\n",
       "  node.appendChild(div);\n",
       "  node.appendChild(script);\n",
       "}\n",
       "\n",
       "/**\n",
       " * Handle when a new output is added\n",
       " */\n",
       "function handle_add_output(event, handle) {\n",
       "  var output_area = handle.output_area;\n",
       "  var output = handle.output;\n",
       "  if ((output.data == undefined) || (!output.data.hasOwnProperty(EXEC_MIME_TYPE))) {\n",
       "    return\n",
       "  }\n",
       "  var id = output.metadata[EXEC_MIME_TYPE][\"id\"];\n",
       "  var toinsert = output_area.element.find(\".\" + CLASS_NAME.split(' ')[0]);\n",
       "  if (id !== undefined) {\n",
       "    var nchildren = toinsert.length;\n",
       "    var html_node = toinsert[nchildren-1].children[0];\n",
       "    html_node.innerHTML = output.data[HTML_MIME_TYPE];\n",
       "    var scripts = [];\n",
       "    var nodelist = html_node.querySelectorAll(\"script\");\n",
       "    for (var i in nodelist) {\n",
       "      if (nodelist.hasOwnProperty(i)) {\n",
       "        scripts.push(nodelist[i])\n",
       "      }\n",
       "    }\n",
       "\n",
       "    scripts.forEach( function (oldScript) {\n",
       "      var newScript = document.createElement(\"script\");\n",
       "      var attrs = [];\n",
       "      var nodemap = oldScript.attributes;\n",
       "      for (var j in nodemap) {\n",
       "        if (nodemap.hasOwnProperty(j)) {\n",
       "          attrs.push(nodemap[j])\n",
       "        }\n",
       "      }\n",
       "      attrs.forEach(function(attr) { newScript.setAttribute(attr.name, attr.value) });\n",
       "      newScript.appendChild(document.createTextNode(oldScript.innerHTML));\n",
       "      oldScript.parentNode.replaceChild(newScript, oldScript);\n",
       "    });\n",
       "    if (JS_MIME_TYPE in output.data) {\n",
       "      toinsert[nchildren-1].children[1].textContent = output.data[JS_MIME_TYPE];\n",
       "    }\n",
       "    output_area._hv_plot_id = id;\n",
       "    if ((window.Bokeh !== undefined) && (id in Bokeh.index)) {\n",
       "      window.PyViz.plot_index[id] = Bokeh.index[id];\n",
       "    } else {\n",
       "      window.PyViz.plot_index[id] = null;\n",
       "    }\n",
       "  } else if (output.metadata[EXEC_MIME_TYPE][\"server_id\"] !== undefined) {\n",
       "    var bk_div = document.createElement(\"div\");\n",
       "    bk_div.innerHTML = output.data[HTML_MIME_TYPE];\n",
       "    var script_attrs = bk_div.children[0].attributes;\n",
       "    for (var i = 0; i < script_attrs.length; i++) {\n",
       "      toinsert[toinsert.length - 1].childNodes[1].setAttribute(script_attrs[i].name, script_attrs[i].value);\n",
       "    }\n",
       "    // store reference to server id on output_area\n",
       "    output_area._bokeh_server_id = output.metadata[EXEC_MIME_TYPE][\"server_id\"];\n",
       "  }\n",
       "}\n",
       "\n",
       "/**\n",
       " * Handle when an output is cleared or removed\n",
       " */\n",
       "function handle_clear_output(event, handle) {\n",
       "  var id = handle.cell.output_area._hv_plot_id;\n",
       "  var server_id = handle.cell.output_area._bokeh_server_id;\n",
       "  if (((id === undefined) || !(id in PyViz.plot_index)) && (server_id !== undefined)) { return; }\n",
       "  var comm = window.PyViz.comm_manager.get_client_comm(\"hv-extension-comm\", \"hv-extension-comm\", function () {});\n",
       "  if (server_id !== null) {\n",
       "    comm.send({event_type: 'server_delete', 'id': server_id});\n",
       "    return;\n",
       "  } else if (comm !== null) {\n",
       "    comm.send({event_type: 'delete', 'id': id});\n",
       "  }\n",
       "  delete PyViz.plot_index[id];\n",
       "  if ((window.Bokeh !== undefined) & (id in window.Bokeh.index)) {\n",
       "    var doc = window.Bokeh.index[id].model.document\n",
       "    doc.clear();\n",
       "    const i = window.Bokeh.documents.indexOf(doc);\n",
       "    if (i > -1) {\n",
       "      window.Bokeh.documents.splice(i, 1);\n",
       "    }\n",
       "  }\n",
       "}\n",
       "\n",
       "/**\n",
       " * Handle kernel restart event\n",
       " */\n",
       "function handle_kernel_cleanup(event, handle) {\n",
       "  delete PyViz.comms[\"hv-extension-comm\"];\n",
       "  window.PyViz.plot_index = {}\n",
       "}\n",
       "\n",
       "/**\n",
       " * Handle update_display_data messages\n",
       " */\n",
       "function handle_update_output(event, handle) {\n",
       "  handle_clear_output(event, {cell: {output_area: handle.output_area}})\n",
       "  handle_add_output(event, handle)\n",
       "}\n",
       "\n",
       "function register_renderer(events, OutputArea) {\n",
       "  function append_mime(data, metadata, element) {\n",
       "    // create a DOM node to render to\n",
       "    var toinsert = this.create_output_subarea(\n",
       "    metadata,\n",
       "    CLASS_NAME,\n",
       "    EXEC_MIME_TYPE\n",
       "    );\n",
       "    this.keyboard_manager.register_events(toinsert);\n",
       "    // Render to node\n",
       "    var props = {data: data, metadata: metadata[EXEC_MIME_TYPE]};\n",
       "    render(props, toinsert[0]);\n",
       "    element.append(toinsert);\n",
       "    return toinsert\n",
       "  }\n",
       "\n",
       "  events.on('output_added.OutputArea', handle_add_output);\n",
       "  events.on('output_updated.OutputArea', handle_update_output);\n",
       "  events.on('clear_output.CodeCell', handle_clear_output);\n",
       "  events.on('delete.Cell', handle_clear_output);\n",
       "  events.on('kernel_ready.Kernel', handle_kernel_cleanup);\n",
       "\n",
       "  OutputArea.prototype.register_mime_type(EXEC_MIME_TYPE, append_mime, {\n",
       "    safe: true,\n",
       "    index: 0\n",
       "  });\n",
       "}\n",
       "\n",
       "if (window.Jupyter !== undefined) {\n",
       "  try {\n",
       "    var events = require('base/js/events');\n",
       "    var OutputArea = require('notebook/js/outputarea').OutputArea;\n",
       "    if (OutputArea.prototype.mime_types().indexOf(EXEC_MIME_TYPE) == -1) {\n",
       "      register_renderer(events, OutputArea);\n",
       "    }\n",
       "  } catch(err) {\n",
       "  }\n",
       "}\n"
      ],
      "application/vnd.holoviews_load.v0+json": "\nif ((window.PyViz === undefined) || (window.PyViz instanceof HTMLElement)) {\n  window.PyViz = {comms: {}, comm_status:{}, kernels:{}, receivers: {}, plot_index: []}\n}\n\n\n    function JupyterCommManager() {\n    }\n\n    JupyterCommManager.prototype.register_target = function(plot_id, comm_id, msg_handler) {\n      if (window.comm_manager || ((window.Jupyter !== undefined) && (Jupyter.notebook.kernel != null))) {\n        var comm_manager = window.comm_manager || Jupyter.notebook.kernel.comm_manager;\n        comm_manager.register_target(comm_id, function(comm) {\n          comm.on_msg(msg_handler);\n        });\n      } else if ((plot_id in window.PyViz.kernels) && (window.PyViz.kernels[plot_id])) {\n        window.PyViz.kernels[plot_id].registerCommTarget(comm_id, function(comm) {\n          comm.onMsg = msg_handler;\n        });\n      } else if (typeof google != 'undefined' && google.colab.kernel != null) {\n        google.colab.kernel.comms.registerTarget(comm_id, (comm) => {\n          var messages = comm.messages[Symbol.asyncIterator]();\n          function processIteratorResult(result) {\n            var message = result.value;\n            console.log(message)\n            var content = {data: message.data, comm_id};\n            var buffers = []\n            for (var buffer of message.buffers || []) {\n              buffers.push(new DataView(buffer))\n            }\n            var metadata = message.metadata || {};\n            var msg = {content, buffers, metadata}\n            msg_handler(msg);\n            return messages.next().then(processIteratorResult);\n          }\n          return messages.next().then(processIteratorResult);\n        })\n      }\n    }\n\n    JupyterCommManager.prototype.get_client_comm = function(plot_id, comm_id, msg_handler) {\n      if (comm_id in window.PyViz.comms) {\n        return window.PyViz.comms[comm_id];\n      } else if (window.comm_manager || ((window.Jupyter !== undefined) && (Jupyter.notebook.kernel != null))) {\n        var comm_manager = window.comm_manager || Jupyter.notebook.kernel.comm_manager;\n        var comm = comm_manager.new_comm(comm_id, {}, {}, {}, comm_id);\n        if (msg_handler) {\n          comm.on_msg(msg_handler);\n        }\n      } else if ((plot_id in window.PyViz.kernels) && (window.PyViz.kernels[plot_id])) {\n        var comm = window.PyViz.kernels[plot_id].connectToComm(comm_id);\n        comm.open();\n        if (msg_handler) {\n          comm.onMsg = msg_handler;\n        }\n      } else if (typeof google != 'undefined' && google.colab.kernel != null) {\n        var comm_promise = google.colab.kernel.comms.open(comm_id)\n        comm_promise.then((comm) => {\n          window.PyViz.comms[comm_id] = comm;\n          if (msg_handler) {\n            var messages = comm.messages[Symbol.asyncIterator]();\n            function processIteratorResult(result) {\n              var message = result.value;\n              var content = {data: message.data};\n              var metadata = message.metadata || {comm_id};\n              var msg = {content, metadata}\n              msg_handler(msg);\n              return messages.next().then(processIteratorResult);\n            }\n            return messages.next().then(processIteratorResult);\n          }\n        }) \n        var sendClosure = (data, metadata, buffers, disposeOnDone) => {\n          return comm_promise.then((comm) => {\n            comm.send(data, metadata, buffers, disposeOnDone);\n          });\n        };\n        var comm = {\n          send: sendClosure\n        };\n      }\n      window.PyViz.comms[comm_id] = comm;\n      return comm;\n    }\n    window.PyViz.comm_manager = new JupyterCommManager();\n    \n\n\nvar JS_MIME_TYPE = 'application/javascript';\nvar HTML_MIME_TYPE = 'text/html';\nvar EXEC_MIME_TYPE = 'application/vnd.holoviews_exec.v0+json';\nvar CLASS_NAME = 'output';\n\n/**\n * Render data to the DOM node\n */\nfunction render(props, node) {\n  var div = document.createElement(\"div\");\n  var script = document.createElement(\"script\");\n  node.appendChild(div);\n  node.appendChild(script);\n}\n\n/**\n * Handle when a new output is added\n */\nfunction handle_add_output(event, handle) {\n  var output_area = handle.output_area;\n  var output = handle.output;\n  if ((output.data == undefined) || (!output.data.hasOwnProperty(EXEC_MIME_TYPE))) {\n    return\n  }\n  var id = output.metadata[EXEC_MIME_TYPE][\"id\"];\n  var toinsert = output_area.element.find(\".\" + CLASS_NAME.split(' ')[0]);\n  if (id !== undefined) {\n    var nchildren = toinsert.length;\n    var html_node = toinsert[nchildren-1].children[0];\n    html_node.innerHTML = output.data[HTML_MIME_TYPE];\n    var scripts = [];\n    var nodelist = html_node.querySelectorAll(\"script\");\n    for (var i in nodelist) {\n      if (nodelist.hasOwnProperty(i)) {\n        scripts.push(nodelist[i])\n      }\n    }\n\n    scripts.forEach( function (oldScript) {\n      var newScript = document.createElement(\"script\");\n      var attrs = [];\n      var nodemap = oldScript.attributes;\n      for (var j in nodemap) {\n        if (nodemap.hasOwnProperty(j)) {\n          attrs.push(nodemap[j])\n        }\n      }\n      attrs.forEach(function(attr) { newScript.setAttribute(attr.name, attr.value) });\n      newScript.appendChild(document.createTextNode(oldScript.innerHTML));\n      oldScript.parentNode.replaceChild(newScript, oldScript);\n    });\n    if (JS_MIME_TYPE in output.data) {\n      toinsert[nchildren-1].children[1].textContent = output.data[JS_MIME_TYPE];\n    }\n    output_area._hv_plot_id = id;\n    if ((window.Bokeh !== undefined) && (id in Bokeh.index)) {\n      window.PyViz.plot_index[id] = Bokeh.index[id];\n    } else {\n      window.PyViz.plot_index[id] = null;\n    }\n  } else if (output.metadata[EXEC_MIME_TYPE][\"server_id\"] !== undefined) {\n    var bk_div = document.createElement(\"div\");\n    bk_div.innerHTML = output.data[HTML_MIME_TYPE];\n    var script_attrs = bk_div.children[0].attributes;\n    for (var i = 0; i < script_attrs.length; i++) {\n      toinsert[toinsert.length - 1].childNodes[1].setAttribute(script_attrs[i].name, script_attrs[i].value);\n    }\n    // store reference to server id on output_area\n    output_area._bokeh_server_id = output.metadata[EXEC_MIME_TYPE][\"server_id\"];\n  }\n}\n\n/**\n * Handle when an output is cleared or removed\n */\nfunction handle_clear_output(event, handle) {\n  var id = handle.cell.output_area._hv_plot_id;\n  var server_id = handle.cell.output_area._bokeh_server_id;\n  if (((id === undefined) || !(id in PyViz.plot_index)) && (server_id !== undefined)) { return; }\n  var comm = window.PyViz.comm_manager.get_client_comm(\"hv-extension-comm\", \"hv-extension-comm\", function () {});\n  if (server_id !== null) {\n    comm.send({event_type: 'server_delete', 'id': server_id});\n    return;\n  } else if (comm !== null) {\n    comm.send({event_type: 'delete', 'id': id});\n  }\n  delete PyViz.plot_index[id];\n  if ((window.Bokeh !== undefined) & (id in window.Bokeh.index)) {\n    var doc = window.Bokeh.index[id].model.document\n    doc.clear();\n    const i = window.Bokeh.documents.indexOf(doc);\n    if (i > -1) {\n      window.Bokeh.documents.splice(i, 1);\n    }\n  }\n}\n\n/**\n * Handle kernel restart event\n */\nfunction handle_kernel_cleanup(event, handle) {\n  delete PyViz.comms[\"hv-extension-comm\"];\n  window.PyViz.plot_index = {}\n}\n\n/**\n * Handle update_display_data messages\n */\nfunction handle_update_output(event, handle) {\n  handle_clear_output(event, {cell: {output_area: handle.output_area}})\n  handle_add_output(event, handle)\n}\n\nfunction register_renderer(events, OutputArea) {\n  function append_mime(data, metadata, element) {\n    // create a DOM node to render to\n    var toinsert = this.create_output_subarea(\n    metadata,\n    CLASS_NAME,\n    EXEC_MIME_TYPE\n    );\n    this.keyboard_manager.register_events(toinsert);\n    // Render to node\n    var props = {data: data, metadata: metadata[EXEC_MIME_TYPE]};\n    render(props, toinsert[0]);\n    element.append(toinsert);\n    return toinsert\n  }\n\n  events.on('output_added.OutputArea', handle_add_output);\n  events.on('output_updated.OutputArea', handle_update_output);\n  events.on('clear_output.CodeCell', handle_clear_output);\n  events.on('delete.Cell', handle_clear_output);\n  events.on('kernel_ready.Kernel', handle_kernel_cleanup);\n\n  OutputArea.prototype.register_mime_type(EXEC_MIME_TYPE, append_mime, {\n    safe: true,\n    index: 0\n  });\n}\n\nif (window.Jupyter !== undefined) {\n  try {\n    var events = require('base/js/events');\n    var OutputArea = require('notebook/js/outputarea').OutputArea;\n    if (OutputArea.prototype.mime_types().indexOf(EXEC_MIME_TYPE) == -1) {\n      register_renderer(events, OutputArea);\n    }\n  } catch(err) {\n  }\n}\n"
     },
     "metadata": {},
     "output_type": "display_data"
    },
    {
     "data": {
      "text/html": [
       "<style>*[data-root-id],\n",
       "*[data-root-id] > * {\n",
       "  box-sizing: border-box;\n",
       "  font-family: var(--jp-ui-font-family);\n",
       "  font-size: var(--jp-ui-font-size1);\n",
       "  color: var(--vscode-editor-foreground, var(--jp-ui-font-color1));\n",
       "}\n",
       "\n",
       "/* Override VSCode background color */\n",
       ".cell-output-ipywidget-background:has(\n",
       "    > .cell-output-ipywidget-background > .lm-Widget > *[data-root-id]\n",
       "  ),\n",
       ".cell-output-ipywidget-background:has(> .lm-Widget > *[data-root-id]) {\n",
       "  background-color: transparent !important;\n",
       "}\n",
       "</style>"
      ]
     },
     "metadata": {},
     "output_type": "display_data"
    },
    {
     "data": {
      "application/vnd.holoviews_exec.v0+json": "",
      "text/html": [
       "<div id='p1002'>\n",
       "  <div id=\"ad9266c1-c55f-46d0-a9b0-b34d78f8e497\" data-root-id=\"p1002\" style=\"display: contents;\"></div>\n",
       "</div>\n",
       "<script type=\"application/javascript\">(function(root) {\n",
       "  var docs_json = {\"39156121-a320-48f1-99bd-f752f6107c2e\":{\"version\":\"3.4.2\",\"title\":\"Bokeh Application\",\"roots\":[{\"type\":\"object\",\"name\":\"panel.models.browser.BrowserInfo\",\"id\":\"p1002\"},{\"type\":\"object\",\"name\":\"panel.models.comm_manager.CommManager\",\"id\":\"p1003\",\"attributes\":{\"plot_id\":\"p1002\",\"comm_id\":\"7a5d0496481f410fabd4d17bd6191de8\",\"client_comm_id\":\"5eda958d661347b682108857f5dc5917\"}}],\"defs\":[{\"type\":\"model\",\"name\":\"ReactiveHTML1\"},{\"type\":\"model\",\"name\":\"FlexBox1\",\"properties\":[{\"name\":\"align_content\",\"kind\":\"Any\",\"default\":\"flex-start\"},{\"name\":\"align_items\",\"kind\":\"Any\",\"default\":\"flex-start\"},{\"name\":\"flex_direction\",\"kind\":\"Any\",\"default\":\"row\"},{\"name\":\"flex_wrap\",\"kind\":\"Any\",\"default\":\"wrap\"},{\"name\":\"gap\",\"kind\":\"Any\",\"default\":\"\"},{\"name\":\"justify_content\",\"kind\":\"Any\",\"default\":\"flex-start\"}]},{\"type\":\"model\",\"name\":\"FloatPanel1\",\"properties\":[{\"name\":\"config\",\"kind\":\"Any\",\"default\":{\"type\":\"map\"}},{\"name\":\"contained\",\"kind\":\"Any\",\"default\":true},{\"name\":\"position\",\"kind\":\"Any\",\"default\":\"right-top\"},{\"name\":\"offsetx\",\"kind\":\"Any\",\"default\":null},{\"name\":\"offsety\",\"kind\":\"Any\",\"default\":null},{\"name\":\"theme\",\"kind\":\"Any\",\"default\":\"primary\"},{\"name\":\"status\",\"kind\":\"Any\",\"default\":\"normalized\"}]},{\"type\":\"model\",\"name\":\"GridStack1\",\"properties\":[{\"name\":\"mode\",\"kind\":\"Any\",\"default\":\"warn\"},{\"name\":\"ncols\",\"kind\":\"Any\",\"default\":null},{\"name\":\"nrows\",\"kind\":\"Any\",\"default\":null},{\"name\":\"allow_resize\",\"kind\":\"Any\",\"default\":true},{\"name\":\"allow_drag\",\"kind\":\"Any\",\"default\":true},{\"name\":\"state\",\"kind\":\"Any\",\"default\":[]}]},{\"type\":\"model\",\"name\":\"drag1\",\"properties\":[{\"name\":\"slider_width\",\"kind\":\"Any\",\"default\":5},{\"name\":\"slider_color\",\"kind\":\"Any\",\"default\":\"black\"},{\"name\":\"value\",\"kind\":\"Any\",\"default\":50}]},{\"type\":\"model\",\"name\":\"click1\",\"properties\":[{\"name\":\"terminal_output\",\"kind\":\"Any\",\"default\":\"\"},{\"name\":\"debug_name\",\"kind\":\"Any\",\"default\":\"\"},{\"name\":\"clears\",\"kind\":\"Any\",\"default\":0}]},{\"type\":\"model\",\"name\":\"FastWrapper1\",\"properties\":[{\"name\":\"object\",\"kind\":\"Any\",\"default\":null},{\"name\":\"style\",\"kind\":\"Any\",\"default\":null}]},{\"type\":\"model\",\"name\":\"NotificationAreaBase1\",\"properties\":[{\"name\":\"js_events\",\"kind\":\"Any\",\"default\":{\"type\":\"map\"}},{\"name\":\"position\",\"kind\":\"Any\",\"default\":\"bottom-right\"},{\"name\":\"_clear\",\"kind\":\"Any\",\"default\":0}]},{\"type\":\"model\",\"name\":\"NotificationArea1\",\"properties\":[{\"name\":\"js_events\",\"kind\":\"Any\",\"default\":{\"type\":\"map\"}},{\"name\":\"notifications\",\"kind\":\"Any\",\"default\":[]},{\"name\":\"position\",\"kind\":\"Any\",\"default\":\"bottom-right\"},{\"name\":\"_clear\",\"kind\":\"Any\",\"default\":0},{\"name\":\"types\",\"kind\":\"Any\",\"default\":[{\"type\":\"map\",\"entries\":[[\"type\",\"warning\"],[\"background\",\"#ffc107\"],[\"icon\",{\"type\":\"map\",\"entries\":[[\"className\",\"fas fa-exclamation-triangle\"],[\"tagName\",\"i\"],[\"color\",\"white\"]]}]]},{\"type\":\"map\",\"entries\":[[\"type\",\"info\"],[\"background\",\"#007bff\"],[\"icon\",{\"type\":\"map\",\"entries\":[[\"className\",\"fas fa-info-circle\"],[\"tagName\",\"i\"],[\"color\",\"white\"]]}]]}]}]},{\"type\":\"model\",\"name\":\"Notification\",\"properties\":[{\"name\":\"background\",\"kind\":\"Any\",\"default\":null},{\"name\":\"duration\",\"kind\":\"Any\",\"default\":3000},{\"name\":\"icon\",\"kind\":\"Any\",\"default\":null},{\"name\":\"message\",\"kind\":\"Any\",\"default\":\"\"},{\"name\":\"notification_type\",\"kind\":\"Any\",\"default\":null},{\"name\":\"_destroyed\",\"kind\":\"Any\",\"default\":false}]},{\"type\":\"model\",\"name\":\"TemplateActions1\",\"properties\":[{\"name\":\"open_modal\",\"kind\":\"Any\",\"default\":0},{\"name\":\"close_modal\",\"kind\":\"Any\",\"default\":0}]},{\"type\":\"model\",\"name\":\"BootstrapTemplateActions1\",\"properties\":[{\"name\":\"open_modal\",\"kind\":\"Any\",\"default\":0},{\"name\":\"close_modal\",\"kind\":\"Any\",\"default\":0}]},{\"type\":\"model\",\"name\":\"TemplateEditor1\",\"properties\":[{\"name\":\"layout\",\"kind\":\"Any\",\"default\":[]}]},{\"type\":\"model\",\"name\":\"MaterialTemplateActions1\",\"properties\":[{\"name\":\"open_modal\",\"kind\":\"Any\",\"default\":0},{\"name\":\"close_modal\",\"kind\":\"Any\",\"default\":0}]},{\"type\":\"model\",\"name\":\"copy_to_clipboard1\",\"properties\":[{\"name\":\"fill\",\"kind\":\"Any\",\"default\":\"none\"},{\"name\":\"value\",\"kind\":\"Any\",\"default\":null}]}]}};\n",
       "  var render_items = [{\"docid\":\"39156121-a320-48f1-99bd-f752f6107c2e\",\"roots\":{\"p1002\":\"ad9266c1-c55f-46d0-a9b0-b34d78f8e497\"},\"root_ids\":[\"p1002\"]}];\n",
       "  var docs = Object.values(docs_json)\n",
       "  if (!docs) {\n",
       "    return\n",
       "  }\n",
       "  const py_version = docs[0].version.replace('rc', '-rc.').replace('.dev', '-dev.')\n",
       "  async function embed_document(root) {\n",
       "    var Bokeh = get_bokeh(root)\n",
       "    await Bokeh.embed.embed_items_notebook(docs_json, render_items);\n",
       "    for (const render_item of render_items) {\n",
       "      for (const root_id of render_item.root_ids) {\n",
       "\tconst id_el = document.getElementById(root_id)\n",
       "\tif (id_el.children.length && id_el.children[0].hasAttribute('data-root-id')) {\n",
       "\t  const root_el = id_el.children[0]\n",
       "\t  root_el.id = root_el.id + '-rendered'\n",
       "\t  for (const child of root_el.children) {\n",
       "            // Ensure JupyterLab does not capture keyboard shortcuts\n",
       "            // see: https://jupyterlab.readthedocs.io/en/4.1.x/extension/notebook.html#keyboard-interaction-model\n",
       "\t    child.setAttribute('data-lm-suppress-shortcuts', 'true')\n",
       "\t  }\n",
       "\t}\n",
       "      }\n",
       "    }\n",
       "  }\n",
       "  function get_bokeh(root) {\n",
       "    if (root.Bokeh === undefined) {\n",
       "      return null\n",
       "    } else if (root.Bokeh.version !== py_version) {\n",
       "      if (root.Bokeh.versions === undefined || !root.Bokeh.versions.has(py_version)) {\n",
       "\treturn null\n",
       "      }\n",
       "      return root.Bokeh.versions.get(py_version);\n",
       "    } else if (root.Bokeh.version === py_version) {\n",
       "      return root.Bokeh\n",
       "    }\n",
       "    return null\n",
       "  }\n",
       "  function is_loaded(root) {\n",
       "    var Bokeh = get_bokeh(root)\n",
       "    return (Bokeh != null && Bokeh.Panel !== undefined)\n",
       "  }\n",
       "  if (is_loaded(root)) {\n",
       "    embed_document(root);\n",
       "  } else {\n",
       "    var attempts = 0;\n",
       "    var timer = setInterval(function(root) {\n",
       "      if (is_loaded(root)) {\n",
       "        clearInterval(timer);\n",
       "        embed_document(root);\n",
       "      } else if (document.readyState == \"complete\") {\n",
       "        attempts++;\n",
       "        if (attempts > 200) {\n",
       "          clearInterval(timer);\n",
       "\t  var Bokeh = get_bokeh(root)\n",
       "\t  if (Bokeh == null || Bokeh.Panel == null) {\n",
       "            console.warn(\"Panel: ERROR: Unable to run Panel code because Bokeh or Panel library is missing\");\n",
       "\t  } else {\n",
       "\t    console.warn(\"Panel: WARNING: Attempting to render but not all required libraries could be resolved.\")\n",
       "\t    embed_document(root)\n",
       "\t  }\n",
       "        }\n",
       "      }\n",
       "    }, 25, root)\n",
       "  }\n",
       "})(window);</script>"
      ]
     },
     "metadata": {
      "application/vnd.holoviews_exec.v0+json": {
       "id": "p1002"
      }
     },
     "output_type": "display_data"
    },
    {
     "data": {},
     "metadata": {},
     "output_type": "display_data"
    },
    {
     "data": {
      "application/vnd.holoviews_exec.v0+json": "",
      "text/html": [
       "<div id='p1004'>\n",
       "  <div id=\"aa21718b-3b97-4507-a882-8046c839a444\" data-root-id=\"p1004\" style=\"display: contents;\"></div>\n",
       "</div>\n",
       "<script type=\"application/javascript\">(function(root) {\n",
       "  var docs_json = {\"76136b2a-b739-40b5-9d43-64d75e5c3ecb\":{\"version\":\"3.4.2\",\"title\":\"Bokeh Application\",\"roots\":[{\"type\":\"object\",\"name\":\"Row\",\"id\":\"p1004\",\"attributes\":{\"name\":\"Row00939\",\"tags\":[\"embedded\"],\"stylesheets\":[\"\\n:host(.pn-loading):before, .pn-loading:before {\\n  background-color: #c3c3c3;\\n  mask-size: auto calc(min(50%, 400px));\\n  -webkit-mask-size: auto calc(min(50%, 400px));\\n}\",{\"type\":\"object\",\"name\":\"ImportedStyleSheet\",\"id\":\"p1007\",\"attributes\":{\"url\":\"https://cdn.holoviz.org/panel/1.4.4/dist/css/loading.css\"}},{\"type\":\"object\",\"name\":\"ImportedStyleSheet\",\"id\":\"p1063\",\"attributes\":{\"url\":\"https://cdn.holoviz.org/panel/1.4.4/dist/css/listpanel.css\"}},{\"type\":\"object\",\"name\":\"ImportedStyleSheet\",\"id\":\"p1005\",\"attributes\":{\"url\":\"https://cdn.holoviz.org/panel/1.4.4/dist/bundled/theme/default.css\"}},{\"type\":\"object\",\"name\":\"ImportedStyleSheet\",\"id\":\"p1006\",\"attributes\":{\"url\":\"https://cdn.holoviz.org/panel/1.4.4/dist/bundled/theme/native.css\"}}],\"min_width\":700,\"margin\":0,\"sizing_mode\":\"stretch_width\",\"align\":\"start\",\"children\":[{\"type\":\"object\",\"name\":\"Spacer\",\"id\":\"p1008\",\"attributes\":{\"name\":\"HSpacer00946\",\"stylesheets\":[\"\\n:host(.pn-loading):before, .pn-loading:before {\\n  background-color: #c3c3c3;\\n  mask-size: auto calc(min(50%, 400px));\\n  -webkit-mask-size: auto calc(min(50%, 400px));\\n}\",{\"id\":\"p1007\"},{\"id\":\"p1005\"},{\"id\":\"p1006\"}],\"margin\":0,\"sizing_mode\":\"stretch_width\",\"align\":\"start\"}},{\"type\":\"object\",\"name\":\"Figure\",\"id\":\"p1016\",\"attributes\":{\"width\":700,\"height\":300,\"margin\":[5,10],\"sizing_mode\":\"fixed\",\"align\":\"start\",\"x_range\":{\"type\":\"object\",\"name\":\"FactorRange\",\"id\":\"p1009\",\"attributes\":{\"tags\":[[[\"in_ads\",\"in_ads\",null]],[]],\"factors\":[\"False\",\"True\"]}},\"y_range\":{\"type\":\"object\",\"name\":\"Range1d\",\"id\":\"p1010\",\"attributes\":{\"tags\":[[[\"count\",\"count\",null]],{\"type\":\"map\",\"entries\":[[\"invert_yaxis\",false],[\"autorange\",false]]}],\"end\":2648238.4,\"reset_start\":0.0,\"reset_end\":2648238.4}},\"x_scale\":{\"type\":\"object\",\"name\":\"CategoricalScale\",\"id\":\"p1026\"},\"y_scale\":{\"type\":\"object\",\"name\":\"LinearScale\",\"id\":\"p1027\"},\"title\":{\"type\":\"object\",\"name\":\"Title\",\"id\":\"p1019\",\"attributes\":{\"text_color\":\"black\",\"text_font_size\":\"12pt\"}},\"renderers\":[{\"type\":\"object\",\"name\":\"GlyphRenderer\",\"id\":\"p1056\",\"attributes\":{\"data_source\":{\"type\":\"object\",\"name\":\"ColumnDataSource\",\"id\":\"p1047\",\"attributes\":{\"selected\":{\"type\":\"object\",\"name\":\"Selection\",\"id\":\"p1048\",\"attributes\":{\"indices\":[],\"line_indices\":[]}},\"selection_policy\":{\"type\":\"object\",\"name\":\"UnionRenderers\",\"id\":\"p1049\"},\"data\":{\"type\":\"map\",\"entries\":[[\"in_ads\",[\"False\",\"True\"]],[\"count\",{\"type\":\"ndarray\",\"array\":{\"type\":\"bytes\",\"data\":\"EXkLAEPHJQA=\"},\"shape\":[2],\"dtype\":\"uint32\",\"order\":\"little\"}]]}}},\"view\":{\"type\":\"object\",\"name\":\"CDSView\",\"id\":\"p1057\",\"attributes\":{\"filter\":{\"type\":\"object\",\"name\":\"AllIndices\",\"id\":\"p1058\"}}},\"glyph\":{\"type\":\"object\",\"name\":\"VBar\",\"id\":\"p1053\",\"attributes\":{\"tags\":[\"apply_ranges\"],\"x\":{\"type\":\"field\",\"field\":\"in_ads\"},\"width\":{\"type\":\"value\",\"value\":0.8},\"top\":{\"type\":\"field\",\"field\":\"count\"},\"fill_color\":{\"type\":\"value\",\"value\":\"#30a2da\"},\"hatch_color\":{\"type\":\"value\",\"value\":\"#30a2da\"}}},\"selection_glyph\":{\"type\":\"object\",\"name\":\"VBar\",\"id\":\"p1059\",\"attributes\":{\"tags\":[\"apply_ranges\"],\"x\":{\"type\":\"field\",\"field\":\"in_ads\"},\"width\":{\"type\":\"value\",\"value\":0.8},\"bottom\":{\"type\":\"value\",\"value\":0},\"top\":{\"type\":\"field\",\"field\":\"count\"},\"line_color\":{\"type\":\"value\",\"value\":\"black\"},\"line_alpha\":{\"type\":\"value\",\"value\":1.0},\"line_width\":{\"type\":\"value\",\"value\":1},\"line_join\":{\"type\":\"value\",\"value\":\"bevel\"},\"line_cap\":{\"type\":\"value\",\"value\":\"butt\"},\"line_dash\":{\"type\":\"value\",\"value\":[]},\"line_dash_offset\":{\"type\":\"value\",\"value\":0},\"fill_color\":{\"type\":\"value\",\"value\":\"#30a2da\"},\"fill_alpha\":{\"type\":\"value\",\"value\":1.0},\"hatch_color\":{\"type\":\"value\",\"value\":\"#30a2da\"},\"hatch_alpha\":{\"type\":\"value\",\"value\":1.0},\"hatch_scale\":{\"type\":\"value\",\"value\":12.0},\"hatch_pattern\":{\"type\":\"value\",\"value\":null},\"hatch_weight\":{\"type\":\"value\",\"value\":1.0}}},\"nonselection_glyph\":{\"type\":\"object\",\"name\":\"VBar\",\"id\":\"p1054\",\"attributes\":{\"tags\":[\"apply_ranges\"],\"x\":{\"type\":\"field\",\"field\":\"in_ads\"},\"width\":{\"type\":\"value\",\"value\":0.8},\"top\":{\"type\":\"field\",\"field\":\"count\"},\"line_alpha\":{\"type\":\"value\",\"value\":0.1},\"fill_color\":{\"type\":\"value\",\"value\":\"#30a2da\"},\"fill_alpha\":{\"type\":\"value\",\"value\":0.1},\"hatch_color\":{\"type\":\"value\",\"value\":\"#30a2da\"},\"hatch_alpha\":{\"type\":\"value\",\"value\":0.1}}},\"muted_glyph\":{\"type\":\"object\",\"name\":\"VBar\",\"id\":\"p1055\",\"attributes\":{\"tags\":[\"apply_ranges\"],\"x\":{\"type\":\"field\",\"field\":\"in_ads\"},\"width\":{\"type\":\"value\",\"value\":0.8},\"top\":{\"type\":\"field\",\"field\":\"count\"},\"line_alpha\":{\"type\":\"value\",\"value\":0.2},\"fill_color\":{\"type\":\"value\",\"value\":\"#30a2da\"},\"fill_alpha\":{\"type\":\"value\",\"value\":0.2},\"hatch_color\":{\"type\":\"value\",\"value\":\"#30a2da\"},\"hatch_alpha\":{\"type\":\"value\",\"value\":0.2}}}}}],\"toolbar\":{\"type\":\"object\",\"name\":\"Toolbar\",\"id\":\"p1025\",\"attributes\":{\"tools\":[{\"type\":\"object\",\"name\":\"WheelZoomTool\",\"id\":\"p1014\",\"attributes\":{\"tags\":[\"hv_created\"],\"renderers\":\"auto\",\"zoom_together\":\"none\"}},{\"type\":\"object\",\"name\":\"HoverTool\",\"id\":\"p1015\",\"attributes\":{\"tags\":[\"hv_created\"],\"renderers\":[{\"id\":\"p1056\"}],\"tooltips\":[[\"in_ads\",\"@{in_ads}\"],[\"count\",\"@{count}\"]]}},{\"type\":\"object\",\"name\":\"SaveTool\",\"id\":\"p1038\"},{\"type\":\"object\",\"name\":\"PanTool\",\"id\":\"p1039\"},{\"type\":\"object\",\"name\":\"BoxZoomTool\",\"id\":\"p1040\",\"attributes\":{\"overlay\":{\"type\":\"object\",\"name\":\"BoxAnnotation\",\"id\":\"p1041\",\"attributes\":{\"syncable\":false,\"level\":\"overlay\",\"visible\":false,\"left\":{\"type\":\"number\",\"value\":\"nan\"},\"right\":{\"type\":\"number\",\"value\":\"nan\"},\"top\":{\"type\":\"number\",\"value\":\"nan\"},\"bottom\":{\"type\":\"number\",\"value\":\"nan\"},\"left_units\":\"canvas\",\"right_units\":\"canvas\",\"top_units\":\"canvas\",\"bottom_units\":\"canvas\",\"line_color\":\"black\",\"line_alpha\":1.0,\"line_width\":2,\"line_dash\":[4,4],\"fill_color\":\"lightgrey\",\"fill_alpha\":0.5}}}},{\"type\":\"object\",\"name\":\"ResetTool\",\"id\":\"p1046\"}],\"active_drag\":{\"id\":\"p1039\"},\"active_scroll\":{\"id\":\"p1014\"}}},\"left\":[{\"type\":\"object\",\"name\":\"LinearAxis\",\"id\":\"p1033\",\"attributes\":{\"ticker\":{\"type\":\"object\",\"name\":\"BasicTicker\",\"id\":\"p1034\",\"attributes\":{\"mantissas\":[1,2,5]}},\"formatter\":{\"type\":\"object\",\"name\":\"BasicTickFormatter\",\"id\":\"p1035\"},\"axis_label\":\"count\",\"major_label_policy\":{\"type\":\"object\",\"name\":\"AllLabels\",\"id\":\"p1036\"}}}],\"below\":[{\"type\":\"object\",\"name\":\"CategoricalAxis\",\"id\":\"p1028\",\"attributes\":{\"ticker\":{\"type\":\"object\",\"name\":\"CategoricalTicker\",\"id\":\"p1029\"},\"formatter\":{\"type\":\"object\",\"name\":\"CategoricalTickFormatter\",\"id\":\"p1030\"},\"axis_label\":\"in_ads\",\"major_label_policy\":{\"type\":\"object\",\"name\":\"AllLabels\",\"id\":\"p1031\"}}}],\"center\":[{\"type\":\"object\",\"name\":\"Grid\",\"id\":\"p1032\",\"attributes\":{\"axis\":{\"id\":\"p1028\"},\"grid_line_color\":null}},{\"type\":\"object\",\"name\":\"Grid\",\"id\":\"p1037\",\"attributes\":{\"dimension\":1,\"axis\":{\"id\":\"p1033\"},\"grid_line_color\":null}}],\"min_border_top\":10,\"min_border_bottom\":10,\"min_border_left\":10,\"min_border_right\":10,\"output_backend\":\"webgl\"}},{\"type\":\"object\",\"name\":\"Spacer\",\"id\":\"p1061\",\"attributes\":{\"name\":\"HSpacer00947\",\"stylesheets\":[\"\\n:host(.pn-loading):before, .pn-loading:before {\\n  background-color: #c3c3c3;\\n  mask-size: auto calc(min(50%, 400px));\\n  -webkit-mask-size: auto calc(min(50%, 400px));\\n}\",{\"id\":\"p1007\"},{\"id\":\"p1005\"},{\"id\":\"p1006\"}],\"margin\":0,\"sizing_mode\":\"stretch_width\",\"align\":\"start\"}}]}}],\"defs\":[{\"type\":\"model\",\"name\":\"ReactiveHTML1\"},{\"type\":\"model\",\"name\":\"FlexBox1\",\"properties\":[{\"name\":\"align_content\",\"kind\":\"Any\",\"default\":\"flex-start\"},{\"name\":\"align_items\",\"kind\":\"Any\",\"default\":\"flex-start\"},{\"name\":\"flex_direction\",\"kind\":\"Any\",\"default\":\"row\"},{\"name\":\"flex_wrap\",\"kind\":\"Any\",\"default\":\"wrap\"},{\"name\":\"gap\",\"kind\":\"Any\",\"default\":\"\"},{\"name\":\"justify_content\",\"kind\":\"Any\",\"default\":\"flex-start\"}]},{\"type\":\"model\",\"name\":\"FloatPanel1\",\"properties\":[{\"name\":\"config\",\"kind\":\"Any\",\"default\":{\"type\":\"map\"}},{\"name\":\"contained\",\"kind\":\"Any\",\"default\":true},{\"name\":\"position\",\"kind\":\"Any\",\"default\":\"right-top\"},{\"name\":\"offsetx\",\"kind\":\"Any\",\"default\":null},{\"name\":\"offsety\",\"kind\":\"Any\",\"default\":null},{\"name\":\"theme\",\"kind\":\"Any\",\"default\":\"primary\"},{\"name\":\"status\",\"kind\":\"Any\",\"default\":\"normalized\"}]},{\"type\":\"model\",\"name\":\"GridStack1\",\"properties\":[{\"name\":\"mode\",\"kind\":\"Any\",\"default\":\"warn\"},{\"name\":\"ncols\",\"kind\":\"Any\",\"default\":null},{\"name\":\"nrows\",\"kind\":\"Any\",\"default\":null},{\"name\":\"allow_resize\",\"kind\":\"Any\",\"default\":true},{\"name\":\"allow_drag\",\"kind\":\"Any\",\"default\":true},{\"name\":\"state\",\"kind\":\"Any\",\"default\":[]}]},{\"type\":\"model\",\"name\":\"drag1\",\"properties\":[{\"name\":\"slider_width\",\"kind\":\"Any\",\"default\":5},{\"name\":\"slider_color\",\"kind\":\"Any\",\"default\":\"black\"},{\"name\":\"value\",\"kind\":\"Any\",\"default\":50}]},{\"type\":\"model\",\"name\":\"click1\",\"properties\":[{\"name\":\"terminal_output\",\"kind\":\"Any\",\"default\":\"\"},{\"name\":\"debug_name\",\"kind\":\"Any\",\"default\":\"\"},{\"name\":\"clears\",\"kind\":\"Any\",\"default\":0}]},{\"type\":\"model\",\"name\":\"FastWrapper1\",\"properties\":[{\"name\":\"object\",\"kind\":\"Any\",\"default\":null},{\"name\":\"style\",\"kind\":\"Any\",\"default\":null}]},{\"type\":\"model\",\"name\":\"NotificationAreaBase1\",\"properties\":[{\"name\":\"js_events\",\"kind\":\"Any\",\"default\":{\"type\":\"map\"}},{\"name\":\"position\",\"kind\":\"Any\",\"default\":\"bottom-right\"},{\"name\":\"_clear\",\"kind\":\"Any\",\"default\":0}]},{\"type\":\"model\",\"name\":\"NotificationArea1\",\"properties\":[{\"name\":\"js_events\",\"kind\":\"Any\",\"default\":{\"type\":\"map\"}},{\"name\":\"notifications\",\"kind\":\"Any\",\"default\":[]},{\"name\":\"position\",\"kind\":\"Any\",\"default\":\"bottom-right\"},{\"name\":\"_clear\",\"kind\":\"Any\",\"default\":0},{\"name\":\"types\",\"kind\":\"Any\",\"default\":[{\"type\":\"map\",\"entries\":[[\"type\",\"warning\"],[\"background\",\"#ffc107\"],[\"icon\",{\"type\":\"map\",\"entries\":[[\"className\",\"fas fa-exclamation-triangle\"],[\"tagName\",\"i\"],[\"color\",\"white\"]]}]]},{\"type\":\"map\",\"entries\":[[\"type\",\"info\"],[\"background\",\"#007bff\"],[\"icon\",{\"type\":\"map\",\"entries\":[[\"className\",\"fas fa-info-circle\"],[\"tagName\",\"i\"],[\"color\",\"white\"]]}]]}]}]},{\"type\":\"model\",\"name\":\"Notification\",\"properties\":[{\"name\":\"background\",\"kind\":\"Any\",\"default\":null},{\"name\":\"duration\",\"kind\":\"Any\",\"default\":3000},{\"name\":\"icon\",\"kind\":\"Any\",\"default\":null},{\"name\":\"message\",\"kind\":\"Any\",\"default\":\"\"},{\"name\":\"notification_type\",\"kind\":\"Any\",\"default\":null},{\"name\":\"_destroyed\",\"kind\":\"Any\",\"default\":false}]},{\"type\":\"model\",\"name\":\"TemplateActions1\",\"properties\":[{\"name\":\"open_modal\",\"kind\":\"Any\",\"default\":0},{\"name\":\"close_modal\",\"kind\":\"Any\",\"default\":0}]},{\"type\":\"model\",\"name\":\"BootstrapTemplateActions1\",\"properties\":[{\"name\":\"open_modal\",\"kind\":\"Any\",\"default\":0},{\"name\":\"close_modal\",\"kind\":\"Any\",\"default\":0}]},{\"type\":\"model\",\"name\":\"TemplateEditor1\",\"properties\":[{\"name\":\"layout\",\"kind\":\"Any\",\"default\":[]}]},{\"type\":\"model\",\"name\":\"MaterialTemplateActions1\",\"properties\":[{\"name\":\"open_modal\",\"kind\":\"Any\",\"default\":0},{\"name\":\"close_modal\",\"kind\":\"Any\",\"default\":0}]},{\"type\":\"model\",\"name\":\"copy_to_clipboard1\",\"properties\":[{\"name\":\"fill\",\"kind\":\"Any\",\"default\":\"none\"},{\"name\":\"value\",\"kind\":\"Any\",\"default\":null}]}]}};\n",
       "  var render_items = [{\"docid\":\"76136b2a-b739-40b5-9d43-64d75e5c3ecb\",\"roots\":{\"p1004\":\"aa21718b-3b97-4507-a882-8046c839a444\"},\"root_ids\":[\"p1004\"]}];\n",
       "  var docs = Object.values(docs_json)\n",
       "  if (!docs) {\n",
       "    return\n",
       "  }\n",
       "  const py_version = docs[0].version.replace('rc', '-rc.').replace('.dev', '-dev.')\n",
       "  async function embed_document(root) {\n",
       "    var Bokeh = get_bokeh(root)\n",
       "    await Bokeh.embed.embed_items_notebook(docs_json, render_items);\n",
       "    for (const render_item of render_items) {\n",
       "      for (const root_id of render_item.root_ids) {\n",
       "\tconst id_el = document.getElementById(root_id)\n",
       "\tif (id_el.children.length && id_el.children[0].hasAttribute('data-root-id')) {\n",
       "\t  const root_el = id_el.children[0]\n",
       "\t  root_el.id = root_el.id + '-rendered'\n",
       "\t  for (const child of root_el.children) {\n",
       "            // Ensure JupyterLab does not capture keyboard shortcuts\n",
       "            // see: https://jupyterlab.readthedocs.io/en/4.1.x/extension/notebook.html#keyboard-interaction-model\n",
       "\t    child.setAttribute('data-lm-suppress-shortcuts', 'true')\n",
       "\t  }\n",
       "\t}\n",
       "      }\n",
       "    }\n",
       "  }\n",
       "  function get_bokeh(root) {\n",
       "    if (root.Bokeh === undefined) {\n",
       "      return null\n",
       "    } else if (root.Bokeh.version !== py_version) {\n",
       "      if (root.Bokeh.versions === undefined || !root.Bokeh.versions.has(py_version)) {\n",
       "\treturn null\n",
       "      }\n",
       "      return root.Bokeh.versions.get(py_version);\n",
       "    } else if (root.Bokeh.version === py_version) {\n",
       "      return root.Bokeh\n",
       "    }\n",
       "    return null\n",
       "  }\n",
       "  function is_loaded(root) {\n",
       "    var Bokeh = get_bokeh(root)\n",
       "    return (Bokeh != null && Bokeh.Panel !== undefined)\n",
       "  }\n",
       "  if (is_loaded(root)) {\n",
       "    embed_document(root);\n",
       "  } else {\n",
       "    var attempts = 0;\n",
       "    var timer = setInterval(function(root) {\n",
       "      if (is_loaded(root)) {\n",
       "        clearInterval(timer);\n",
       "        embed_document(root);\n",
       "      } else if (document.readyState == \"complete\") {\n",
       "        attempts++;\n",
       "        if (attempts > 200) {\n",
       "          clearInterval(timer);\n",
       "\t  var Bokeh = get_bokeh(root)\n",
       "\t  if (Bokeh == null || Bokeh.Panel == null) {\n",
       "            console.warn(\"Panel: ERROR: Unable to run Panel code because Bokeh or Panel library is missing\");\n",
       "\t  } else {\n",
       "\t    console.warn(\"Panel: WARNING: Attempting to render but not all required libraries could be resolved.\")\n",
       "\t    embed_document(root)\n",
       "\t  }\n",
       "        }\n",
       "      }\n",
       "    }, 25, root)\n",
       "  }\n",
       "})(window);</script>"
      ],
      "text/plain": [
       ":Bars   [in_ads]   (count)"
      ]
     },
     "execution_count": 8,
     "metadata": {
      "application/vnd.holoviews_exec.v0+json": {
       "id": "p1004"
      }
     },
     "output_type": "execute_result"
    }
   ],
   "source": [
    "feed_data.select(pl.col(\"in_ads\").value_counts()).unnest(\"in_ads\").collect().plot.bar(x = \"in_ads\", y = \"count\")"
   ]
  },
  {
   "cell_type": "code",
   "execution_count": 9,
   "id": "211455d0-ec3d-4bde-993a-ff051bc68b67",
   "metadata": {},
   "outputs": [
    {
     "data": {},
     "metadata": {},
     "output_type": "display_data"
    },
    {
     "data": {
      "application/vnd.holoviews_exec.v0+json": "",
      "text/html": [
       "<div id='p1066'>\n",
       "  <div id=\"fe3cfce9-8efe-4741-a84b-e3e08fcd84b3\" data-root-id=\"p1066\" style=\"display: contents;\"></div>\n",
       "</div>\n",
       "<script type=\"application/javascript\">(function(root) {\n",
       "  var docs_json = {\"1d28a78a-fa90-43bf-b42c-943575671140\":{\"version\":\"3.4.2\",\"title\":\"Bokeh Application\",\"roots\":[{\"type\":\"object\",\"name\":\"Row\",\"id\":\"p1066\",\"attributes\":{\"name\":\"Row01048\",\"tags\":[\"embedded\"],\"stylesheets\":[\"\\n:host(.pn-loading):before, .pn-loading:before {\\n  background-color: #c3c3c3;\\n  mask-size: auto calc(min(50%, 400px));\\n  -webkit-mask-size: auto calc(min(50%, 400px));\\n}\",{\"type\":\"object\",\"name\":\"ImportedStyleSheet\",\"id\":\"p1069\",\"attributes\":{\"url\":\"https://cdn.holoviz.org/panel/1.4.4/dist/css/loading.css\"}},{\"type\":\"object\",\"name\":\"ImportedStyleSheet\",\"id\":\"p1125\",\"attributes\":{\"url\":\"https://cdn.holoviz.org/panel/1.4.4/dist/css/listpanel.css\"}},{\"type\":\"object\",\"name\":\"ImportedStyleSheet\",\"id\":\"p1067\",\"attributes\":{\"url\":\"https://cdn.holoviz.org/panel/1.4.4/dist/bundled/theme/default.css\"}},{\"type\":\"object\",\"name\":\"ImportedStyleSheet\",\"id\":\"p1068\",\"attributes\":{\"url\":\"https://cdn.holoviz.org/panel/1.4.4/dist/bundled/theme/native.css\"}}],\"min_width\":700,\"margin\":0,\"sizing_mode\":\"stretch_width\",\"align\":\"start\",\"children\":[{\"type\":\"object\",\"name\":\"Spacer\",\"id\":\"p1070\",\"attributes\":{\"name\":\"HSpacer01055\",\"stylesheets\":[\"\\n:host(.pn-loading):before, .pn-loading:before {\\n  background-color: #c3c3c3;\\n  mask-size: auto calc(min(50%, 400px));\\n  -webkit-mask-size: auto calc(min(50%, 400px));\\n}\",{\"id\":\"p1069\"},{\"id\":\"p1067\"},{\"id\":\"p1068\"}],\"margin\":0,\"sizing_mode\":\"stretch_width\",\"align\":\"start\"}},{\"type\":\"object\",\"name\":\"Figure\",\"id\":\"p1078\",\"attributes\":{\"width\":700,\"height\":300,\"margin\":[5,10],\"sizing_mode\":\"fixed\",\"align\":\"start\",\"x_range\":{\"type\":\"object\",\"name\":\"FactorRange\",\"id\":\"p1071\",\"attributes\":{\"tags\":[[[\"age\",\"age\",null]],[]],\"factors\":[\"2\",\"3\",\"4\",\"5\",\"6\",\"7\",\"8\",\"9\"]}},\"y_range\":{\"type\":\"object\",\"name\":\"Range1d\",\"id\":\"p1072\",\"attributes\":{\"tags\":[[[\"len\",\"len\",null]],{\"type\":\"map\",\"entries\":[[\"invert_yaxis\",false],[\"autorange\",false]]}],\"end\":1770997.5,\"reset_start\":0.0,\"reset_end\":1770997.5}},\"x_scale\":{\"type\":\"object\",\"name\":\"CategoricalScale\",\"id\":\"p1088\"},\"y_scale\":{\"type\":\"object\",\"name\":\"LinearScale\",\"id\":\"p1089\"},\"title\":{\"type\":\"object\",\"name\":\"Title\",\"id\":\"p1081\",\"attributes\":{\"text_color\":\"black\",\"text_font_size\":\"12pt\"}},\"renderers\":[{\"type\":\"object\",\"name\":\"GlyphRenderer\",\"id\":\"p1118\",\"attributes\":{\"data_source\":{\"type\":\"object\",\"name\":\"ColumnDataSource\",\"id\":\"p1109\",\"attributes\":{\"selected\":{\"type\":\"object\",\"name\":\"Selection\",\"id\":\"p1110\",\"attributes\":{\"indices\":[],\"line_indices\":[]}},\"selection_policy\":{\"type\":\"object\",\"name\":\"UnionRenderers\",\"id\":\"p1111\"},\"data\":{\"type\":\"map\",\"entries\":[[\"age\",[\"2\",\"3\",\"4\",\"5\",\"6\",\"7\",\"8\",\"9\"]],[\"len\",{\"type\":\"ndarray\",\"array\":{\"type\":\"bytes\",\"data\":\"M28OAF5KFgCCpgIAb2MNAMTsDQAekxcA5MEYADUZAgA=\"},\"shape\":[8],\"dtype\":\"uint32\",\"order\":\"little\"}]]}}},\"view\":{\"type\":\"object\",\"name\":\"CDSView\",\"id\":\"p1119\",\"attributes\":{\"filter\":{\"type\":\"object\",\"name\":\"AllIndices\",\"id\":\"p1120\"}}},\"glyph\":{\"type\":\"object\",\"name\":\"VBar\",\"id\":\"p1115\",\"attributes\":{\"tags\":[\"apply_ranges\"],\"x\":{\"type\":\"field\",\"field\":\"age\"},\"width\":{\"type\":\"value\",\"value\":0.8},\"top\":{\"type\":\"field\",\"field\":\"len\"},\"fill_color\":{\"type\":\"value\",\"value\":\"#30a2da\"},\"hatch_color\":{\"type\":\"value\",\"value\":\"#30a2da\"}}},\"selection_glyph\":{\"type\":\"object\",\"name\":\"VBar\",\"id\":\"p1121\",\"attributes\":{\"tags\":[\"apply_ranges\"],\"x\":{\"type\":\"field\",\"field\":\"age\"},\"width\":{\"type\":\"value\",\"value\":0.8},\"bottom\":{\"type\":\"value\",\"value\":0},\"top\":{\"type\":\"field\",\"field\":\"len\"},\"line_color\":{\"type\":\"value\",\"value\":\"black\"},\"line_alpha\":{\"type\":\"value\",\"value\":1.0},\"line_width\":{\"type\":\"value\",\"value\":1},\"line_join\":{\"type\":\"value\",\"value\":\"bevel\"},\"line_cap\":{\"type\":\"value\",\"value\":\"butt\"},\"line_dash\":{\"type\":\"value\",\"value\":[]},\"line_dash_offset\":{\"type\":\"value\",\"value\":0},\"fill_color\":{\"type\":\"value\",\"value\":\"#30a2da\"},\"fill_alpha\":{\"type\":\"value\",\"value\":1.0},\"hatch_color\":{\"type\":\"value\",\"value\":\"#30a2da\"},\"hatch_alpha\":{\"type\":\"value\",\"value\":1.0},\"hatch_scale\":{\"type\":\"value\",\"value\":12.0},\"hatch_pattern\":{\"type\":\"value\",\"value\":null},\"hatch_weight\":{\"type\":\"value\",\"value\":1.0}}},\"nonselection_glyph\":{\"type\":\"object\",\"name\":\"VBar\",\"id\":\"p1116\",\"attributes\":{\"tags\":[\"apply_ranges\"],\"x\":{\"type\":\"field\",\"field\":\"age\"},\"width\":{\"type\":\"value\",\"value\":0.8},\"top\":{\"type\":\"field\",\"field\":\"len\"},\"line_alpha\":{\"type\":\"value\",\"value\":0.1},\"fill_color\":{\"type\":\"value\",\"value\":\"#30a2da\"},\"fill_alpha\":{\"type\":\"value\",\"value\":0.1},\"hatch_color\":{\"type\":\"value\",\"value\":\"#30a2da\"},\"hatch_alpha\":{\"type\":\"value\",\"value\":0.1}}},\"muted_glyph\":{\"type\":\"object\",\"name\":\"VBar\",\"id\":\"p1117\",\"attributes\":{\"tags\":[\"apply_ranges\"],\"x\":{\"type\":\"field\",\"field\":\"age\"},\"width\":{\"type\":\"value\",\"value\":0.8},\"top\":{\"type\":\"field\",\"field\":\"len\"},\"line_alpha\":{\"type\":\"value\",\"value\":0.2},\"fill_color\":{\"type\":\"value\",\"value\":\"#30a2da\"},\"fill_alpha\":{\"type\":\"value\",\"value\":0.2},\"hatch_color\":{\"type\":\"value\",\"value\":\"#30a2da\"},\"hatch_alpha\":{\"type\":\"value\",\"value\":0.2}}}}}],\"toolbar\":{\"type\":\"object\",\"name\":\"Toolbar\",\"id\":\"p1087\",\"attributes\":{\"tools\":[{\"type\":\"object\",\"name\":\"WheelZoomTool\",\"id\":\"p1076\",\"attributes\":{\"tags\":[\"hv_created\"],\"renderers\":\"auto\",\"zoom_together\":\"none\"}},{\"type\":\"object\",\"name\":\"HoverTool\",\"id\":\"p1077\",\"attributes\":{\"tags\":[\"hv_created\"],\"renderers\":[{\"id\":\"p1118\"}],\"tooltips\":[[\"age\",\"@{age}\"],[\"len\",\"@{len}\"]]}},{\"type\":\"object\",\"name\":\"SaveTool\",\"id\":\"p1100\"},{\"type\":\"object\",\"name\":\"PanTool\",\"id\":\"p1101\"},{\"type\":\"object\",\"name\":\"BoxZoomTool\",\"id\":\"p1102\",\"attributes\":{\"overlay\":{\"type\":\"object\",\"name\":\"BoxAnnotation\",\"id\":\"p1103\",\"attributes\":{\"syncable\":false,\"level\":\"overlay\",\"visible\":false,\"left\":{\"type\":\"number\",\"value\":\"nan\"},\"right\":{\"type\":\"number\",\"value\":\"nan\"},\"top\":{\"type\":\"number\",\"value\":\"nan\"},\"bottom\":{\"type\":\"number\",\"value\":\"nan\"},\"left_units\":\"canvas\",\"right_units\":\"canvas\",\"top_units\":\"canvas\",\"bottom_units\":\"canvas\",\"line_color\":\"black\",\"line_alpha\":1.0,\"line_width\":2,\"line_dash\":[4,4],\"fill_color\":\"lightgrey\",\"fill_alpha\":0.5}}}},{\"type\":\"object\",\"name\":\"ResetTool\",\"id\":\"p1108\"}],\"active_drag\":{\"id\":\"p1101\"},\"active_scroll\":{\"id\":\"p1076\"}}},\"left\":[{\"type\":\"object\",\"name\":\"LinearAxis\",\"id\":\"p1095\",\"attributes\":{\"ticker\":{\"type\":\"object\",\"name\":\"BasicTicker\",\"id\":\"p1096\",\"attributes\":{\"mantissas\":[1,2,5]}},\"formatter\":{\"type\":\"object\",\"name\":\"BasicTickFormatter\",\"id\":\"p1097\"},\"axis_label\":\"len\",\"major_label_policy\":{\"type\":\"object\",\"name\":\"AllLabels\",\"id\":\"p1098\"}}}],\"below\":[{\"type\":\"object\",\"name\":\"CategoricalAxis\",\"id\":\"p1090\",\"attributes\":{\"ticker\":{\"type\":\"object\",\"name\":\"CategoricalTicker\",\"id\":\"p1091\"},\"formatter\":{\"type\":\"object\",\"name\":\"CategoricalTickFormatter\",\"id\":\"p1092\"},\"axis_label\":\"age\",\"major_label_policy\":{\"type\":\"object\",\"name\":\"AllLabels\",\"id\":\"p1093\"}}}],\"center\":[{\"type\":\"object\",\"name\":\"Grid\",\"id\":\"p1094\",\"attributes\":{\"axis\":{\"id\":\"p1090\"},\"grid_line_color\":null}},{\"type\":\"object\",\"name\":\"Grid\",\"id\":\"p1099\",\"attributes\":{\"dimension\":1,\"axis\":{\"id\":\"p1095\"},\"grid_line_color\":null}}],\"min_border_top\":10,\"min_border_bottom\":10,\"min_border_left\":10,\"min_border_right\":10,\"output_backend\":\"webgl\"}},{\"type\":\"object\",\"name\":\"Spacer\",\"id\":\"p1123\",\"attributes\":{\"name\":\"HSpacer01056\",\"stylesheets\":[\"\\n:host(.pn-loading):before, .pn-loading:before {\\n  background-color: #c3c3c3;\\n  mask-size: auto calc(min(50%, 400px));\\n  -webkit-mask-size: auto calc(min(50%, 400px));\\n}\",{\"id\":\"p1069\"},{\"id\":\"p1067\"},{\"id\":\"p1068\"}],\"margin\":0,\"sizing_mode\":\"stretch_width\",\"align\":\"start\"}}]}}],\"defs\":[{\"type\":\"model\",\"name\":\"ReactiveHTML1\"},{\"type\":\"model\",\"name\":\"FlexBox1\",\"properties\":[{\"name\":\"align_content\",\"kind\":\"Any\",\"default\":\"flex-start\"},{\"name\":\"align_items\",\"kind\":\"Any\",\"default\":\"flex-start\"},{\"name\":\"flex_direction\",\"kind\":\"Any\",\"default\":\"row\"},{\"name\":\"flex_wrap\",\"kind\":\"Any\",\"default\":\"wrap\"},{\"name\":\"gap\",\"kind\":\"Any\",\"default\":\"\"},{\"name\":\"justify_content\",\"kind\":\"Any\",\"default\":\"flex-start\"}]},{\"type\":\"model\",\"name\":\"FloatPanel1\",\"properties\":[{\"name\":\"config\",\"kind\":\"Any\",\"default\":{\"type\":\"map\"}},{\"name\":\"contained\",\"kind\":\"Any\",\"default\":true},{\"name\":\"position\",\"kind\":\"Any\",\"default\":\"right-top\"},{\"name\":\"offsetx\",\"kind\":\"Any\",\"default\":null},{\"name\":\"offsety\",\"kind\":\"Any\",\"default\":null},{\"name\":\"theme\",\"kind\":\"Any\",\"default\":\"primary\"},{\"name\":\"status\",\"kind\":\"Any\",\"default\":\"normalized\"}]},{\"type\":\"model\",\"name\":\"GridStack1\",\"properties\":[{\"name\":\"mode\",\"kind\":\"Any\",\"default\":\"warn\"},{\"name\":\"ncols\",\"kind\":\"Any\",\"default\":null},{\"name\":\"nrows\",\"kind\":\"Any\",\"default\":null},{\"name\":\"allow_resize\",\"kind\":\"Any\",\"default\":true},{\"name\":\"allow_drag\",\"kind\":\"Any\",\"default\":true},{\"name\":\"state\",\"kind\":\"Any\",\"default\":[]}]},{\"type\":\"model\",\"name\":\"drag1\",\"properties\":[{\"name\":\"slider_width\",\"kind\":\"Any\",\"default\":5},{\"name\":\"slider_color\",\"kind\":\"Any\",\"default\":\"black\"},{\"name\":\"value\",\"kind\":\"Any\",\"default\":50}]},{\"type\":\"model\",\"name\":\"click1\",\"properties\":[{\"name\":\"terminal_output\",\"kind\":\"Any\",\"default\":\"\"},{\"name\":\"debug_name\",\"kind\":\"Any\",\"default\":\"\"},{\"name\":\"clears\",\"kind\":\"Any\",\"default\":0}]},{\"type\":\"model\",\"name\":\"FastWrapper1\",\"properties\":[{\"name\":\"object\",\"kind\":\"Any\",\"default\":null},{\"name\":\"style\",\"kind\":\"Any\",\"default\":null}]},{\"type\":\"model\",\"name\":\"NotificationAreaBase1\",\"properties\":[{\"name\":\"js_events\",\"kind\":\"Any\",\"default\":{\"type\":\"map\"}},{\"name\":\"position\",\"kind\":\"Any\",\"default\":\"bottom-right\"},{\"name\":\"_clear\",\"kind\":\"Any\",\"default\":0}]},{\"type\":\"model\",\"name\":\"NotificationArea1\",\"properties\":[{\"name\":\"js_events\",\"kind\":\"Any\",\"default\":{\"type\":\"map\"}},{\"name\":\"notifications\",\"kind\":\"Any\",\"default\":[]},{\"name\":\"position\",\"kind\":\"Any\",\"default\":\"bottom-right\"},{\"name\":\"_clear\",\"kind\":\"Any\",\"default\":0},{\"name\":\"types\",\"kind\":\"Any\",\"default\":[{\"type\":\"map\",\"entries\":[[\"type\",\"warning\"],[\"background\",\"#ffc107\"],[\"icon\",{\"type\":\"map\",\"entries\":[[\"className\",\"fas fa-exclamation-triangle\"],[\"tagName\",\"i\"],[\"color\",\"white\"]]}]]},{\"type\":\"map\",\"entries\":[[\"type\",\"info\"],[\"background\",\"#007bff\"],[\"icon\",{\"type\":\"map\",\"entries\":[[\"className\",\"fas fa-info-circle\"],[\"tagName\",\"i\"],[\"color\",\"white\"]]}]]}]}]},{\"type\":\"model\",\"name\":\"Notification\",\"properties\":[{\"name\":\"background\",\"kind\":\"Any\",\"default\":null},{\"name\":\"duration\",\"kind\":\"Any\",\"default\":3000},{\"name\":\"icon\",\"kind\":\"Any\",\"default\":null},{\"name\":\"message\",\"kind\":\"Any\",\"default\":\"\"},{\"name\":\"notification_type\",\"kind\":\"Any\",\"default\":null},{\"name\":\"_destroyed\",\"kind\":\"Any\",\"default\":false}]},{\"type\":\"model\",\"name\":\"TemplateActions1\",\"properties\":[{\"name\":\"open_modal\",\"kind\":\"Any\",\"default\":0},{\"name\":\"close_modal\",\"kind\":\"Any\",\"default\":0}]},{\"type\":\"model\",\"name\":\"BootstrapTemplateActions1\",\"properties\":[{\"name\":\"open_modal\",\"kind\":\"Any\",\"default\":0},{\"name\":\"close_modal\",\"kind\":\"Any\",\"default\":0}]},{\"type\":\"model\",\"name\":\"TemplateEditor1\",\"properties\":[{\"name\":\"layout\",\"kind\":\"Any\",\"default\":[]}]},{\"type\":\"model\",\"name\":\"MaterialTemplateActions1\",\"properties\":[{\"name\":\"open_modal\",\"kind\":\"Any\",\"default\":0},{\"name\":\"close_modal\",\"kind\":\"Any\",\"default\":0}]},{\"type\":\"model\",\"name\":\"copy_to_clipboard1\",\"properties\":[{\"name\":\"fill\",\"kind\":\"Any\",\"default\":\"none\"},{\"name\":\"value\",\"kind\":\"Any\",\"default\":null}]}]}};\n",
       "  var render_items = [{\"docid\":\"1d28a78a-fa90-43bf-b42c-943575671140\",\"roots\":{\"p1066\":\"fe3cfce9-8efe-4741-a84b-e3e08fcd84b3\"},\"root_ids\":[\"p1066\"]}];\n",
       "  var docs = Object.values(docs_json)\n",
       "  if (!docs) {\n",
       "    return\n",
       "  }\n",
       "  const py_version = docs[0].version.replace('rc', '-rc.').replace('.dev', '-dev.')\n",
       "  async function embed_document(root) {\n",
       "    var Bokeh = get_bokeh(root)\n",
       "    await Bokeh.embed.embed_items_notebook(docs_json, render_items);\n",
       "    for (const render_item of render_items) {\n",
       "      for (const root_id of render_item.root_ids) {\n",
       "\tconst id_el = document.getElementById(root_id)\n",
       "\tif (id_el.children.length && id_el.children[0].hasAttribute('data-root-id')) {\n",
       "\t  const root_el = id_el.children[0]\n",
       "\t  root_el.id = root_el.id + '-rendered'\n",
       "\t  for (const child of root_el.children) {\n",
       "            // Ensure JupyterLab does not capture keyboard shortcuts\n",
       "            // see: https://jupyterlab.readthedocs.io/en/4.1.x/extension/notebook.html#keyboard-interaction-model\n",
       "\t    child.setAttribute('data-lm-suppress-shortcuts', 'true')\n",
       "\t  }\n",
       "\t}\n",
       "      }\n",
       "    }\n",
       "  }\n",
       "  function get_bokeh(root) {\n",
       "    if (root.Bokeh === undefined) {\n",
       "      return null\n",
       "    } else if (root.Bokeh.version !== py_version) {\n",
       "      if (root.Bokeh.versions === undefined || !root.Bokeh.versions.has(py_version)) {\n",
       "\treturn null\n",
       "      }\n",
       "      return root.Bokeh.versions.get(py_version);\n",
       "    } else if (root.Bokeh.version === py_version) {\n",
       "      return root.Bokeh\n",
       "    }\n",
       "    return null\n",
       "  }\n",
       "  function is_loaded(root) {\n",
       "    var Bokeh = get_bokeh(root)\n",
       "    return (Bokeh != null && Bokeh.Panel !== undefined)\n",
       "  }\n",
       "  if (is_loaded(root)) {\n",
       "    embed_document(root);\n",
       "  } else {\n",
       "    var attempts = 0;\n",
       "    var timer = setInterval(function(root) {\n",
       "      if (is_loaded(root)) {\n",
       "        clearInterval(timer);\n",
       "        embed_document(root);\n",
       "      } else if (document.readyState == \"complete\") {\n",
       "        attempts++;\n",
       "        if (attempts > 200) {\n",
       "          clearInterval(timer);\n",
       "\t  var Bokeh = get_bokeh(root)\n",
       "\t  if (Bokeh == null || Bokeh.Panel == null) {\n",
       "            console.warn(\"Panel: ERROR: Unable to run Panel code because Bokeh or Panel library is missing\");\n",
       "\t  } else {\n",
       "\t    console.warn(\"Panel: WARNING: Attempting to render but not all required libraries could be resolved.\")\n",
       "\t    embed_document(root)\n",
       "\t  }\n",
       "        }\n",
       "      }\n",
       "    }, 25, root)\n",
       "  }\n",
       "})(window);</script>"
      ],
      "text/plain": [
       ":Bars   [age]   (len)"
      ]
     },
     "execution_count": 9,
     "metadata": {
      "application/vnd.holoviews_exec.v0+json": {
       "id": "p1066"
      }
     },
     "output_type": "execute_result"
    }
   ],
   "source": [
    "# Age metrics\n",
    "ad_data.group_by(pl.col(\"age\")).len().sort(\"age\").collect().plot.bar(x = \"age\", y = \"len\")"
   ]
  },
  {
   "cell_type": "code",
   "execution_count": 10,
   "id": "00395bb1-6d19-4b29-b50a-3fb634b1cef8",
   "metadata": {},
   "outputs": [
    {
     "data": {},
     "metadata": {},
     "output_type": "display_data"
    },
    {
     "data": {
      "application/vnd.holoviews_exec.v0+json": "",
      "text/html": [
       "<div id='p1128'>\n",
       "  <div id=\"f6c42d97-f16b-4fe7-852b-95aea4142592\" data-root-id=\"p1128\" style=\"display: contents;\"></div>\n",
       "</div>\n",
       "<script type=\"application/javascript\">(function(root) {\n",
       "  var docs_json = {\"c493f13a-cbf8-42ce-9b83-adc6d5f3d2e9\":{\"version\":\"3.4.2\",\"title\":\"Bokeh Application\",\"roots\":[{\"type\":\"object\",\"name\":\"Row\",\"id\":\"p1128\",\"attributes\":{\"name\":\"Row01155\",\"tags\":[\"embedded\"],\"stylesheets\":[\"\\n:host(.pn-loading):before, .pn-loading:before {\\n  background-color: #c3c3c3;\\n  mask-size: auto calc(min(50%, 400px));\\n  -webkit-mask-size: auto calc(min(50%, 400px));\\n}\",{\"type\":\"object\",\"name\":\"ImportedStyleSheet\",\"id\":\"p1131\",\"attributes\":{\"url\":\"https://cdn.holoviz.org/panel/1.4.4/dist/css/loading.css\"}},{\"type\":\"object\",\"name\":\"ImportedStyleSheet\",\"id\":\"p1187\",\"attributes\":{\"url\":\"https://cdn.holoviz.org/panel/1.4.4/dist/css/listpanel.css\"}},{\"type\":\"object\",\"name\":\"ImportedStyleSheet\",\"id\":\"p1129\",\"attributes\":{\"url\":\"https://cdn.holoviz.org/panel/1.4.4/dist/bundled/theme/default.css\"}},{\"type\":\"object\",\"name\":\"ImportedStyleSheet\",\"id\":\"p1130\",\"attributes\":{\"url\":\"https://cdn.holoviz.org/panel/1.4.4/dist/bundled/theme/native.css\"}}],\"min_width\":700,\"margin\":0,\"sizing_mode\":\"stretch_width\",\"align\":\"start\",\"children\":[{\"type\":\"object\",\"name\":\"Spacer\",\"id\":\"p1132\",\"attributes\":{\"name\":\"HSpacer01162\",\"stylesheets\":[\"\\n:host(.pn-loading):before, .pn-loading:before {\\n  background-color: #c3c3c3;\\n  mask-size: auto calc(min(50%, 400px));\\n  -webkit-mask-size: auto calc(min(50%, 400px));\\n}\",{\"id\":\"p1131\"},{\"id\":\"p1129\"},{\"id\":\"p1130\"}],\"margin\":0,\"sizing_mode\":\"stretch_width\",\"align\":\"start\"}},{\"type\":\"object\",\"name\":\"Figure\",\"id\":\"p1140\",\"attributes\":{\"width\":700,\"height\":300,\"margin\":[5,10],\"sizing_mode\":\"fixed\",\"align\":\"start\",\"x_range\":{\"type\":\"object\",\"name\":\"Range1d\",\"id\":\"p1133\",\"attributes\":{\"tags\":[[[\"city\",\"city\",null]],[]],\"start\":86.42857142857143,\"end\":455.57142857142856,\"reset_start\":86.42857142857143,\"reset_end\":455.57142857142856}},\"y_range\":{\"type\":\"object\",\"name\":\"Range1d\",\"id\":\"p1134\",\"attributes\":{\"tags\":[[[\"city_count\",\"Count\",null]],{\"type\":\"map\",\"entries\":[[\"invert_yaxis\",false],[\"autorange\",false]]}],\"end\":1441716.8,\"reset_start\":0.0,\"reset_end\":1441716.8}},\"x_scale\":{\"type\":\"object\",\"name\":\"LinearScale\",\"id\":\"p1150\"},\"y_scale\":{\"type\":\"object\",\"name\":\"LinearScale\",\"id\":\"p1151\"},\"title\":{\"type\":\"object\",\"name\":\"Title\",\"id\":\"p1143\",\"attributes\":{\"text_color\":\"black\",\"text_font_size\":\"12pt\"}},\"renderers\":[{\"type\":\"object\",\"name\":\"GlyphRenderer\",\"id\":\"p1180\",\"attributes\":{\"data_source\":{\"type\":\"object\",\"name\":\"ColumnDataSource\",\"id\":\"p1171\",\"attributes\":{\"selected\":{\"type\":\"object\",\"name\":\"Selection\",\"id\":\"p1172\",\"attributes\":{\"indices\":[],\"line_indices\":[]}},\"selection_policy\":{\"type\":\"object\",\"name\":\"UnionRenderers\",\"id\":\"p1173\"},\"data\":{\"type\":\"map\",\"entries\":[[\"top\",{\"type\":\"ndarray\",\"array\":{\"type\":\"bytes\",\"data\":\"wZ4IAAtMAwBrPAQAMMYHAJoyBgCauwMA24wFAKLxAwD9IwQAZfIDANeOBAD4KQQAmUAUAA50BQBi9gYAJGQHANEhAwBz4wIAg8kCAEAXCAA=\"},\"shape\":[20],\"dtype\":\"int32\",\"order\":\"little\"}],[\"left\",{\"type\":\"ndarray\",\"array\":{\"type\":\"bytes\",\"data\":\"AAAAAABAWUAAAAAAAIBdQAAAAAAA4GBAAAAAAAAAY0AAAAAAACBlQAAAAAAAQGdAAAAAAABgaUAAAAAAAIBrQAAAAAAAoG1AAAAAAADAb0AAAAAAAPBwQAAAAAAAAHJAAAAAAAAQc0AAAAAAACB0QAAAAAAAMHVAAAAAAABAdkAAAAAAAFB3QAAAAAAAYHhAAAAAAABweUAAAAAAAIB6QA==\"},\"shape\":[20],\"dtype\":\"float64\",\"order\":\"little\"}],[\"right\",{\"type\":\"ndarray\",\"array\":{\"type\":\"bytes\",\"data\":\"AAAAAACAXUAAAAAAAOBgQAAAAAAAAGNAAAAAAAAgZUAAAAAAAEBnQAAAAAAAYGlAAAAAAACAa0AAAAAAAKBtQAAAAAAAwG9AAAAAAADwcEAAAAAAAAByQAAAAAAAEHNAAAAAAAAgdEAAAAAAADB1QAAAAAAAQHZAAAAAAABQd0AAAAAAAGB4QAAAAAAAcHlAAAAAAACAekAAAAAAAJB7QA==\"},\"shape\":[20],\"dtype\":\"float64\",\"order\":\"little\"}],[\"city\",{\"type\":\"ndarray\",\"array\":{\"type\":\"bytes\",\"data\":\"AAAAAABgW0AAAAAAAKBfQAAAAAAA8GFAAAAAAAAQZEAAAAAAADBmQAAAAAAAUGhAAAAAAABwakAAAAAAAJBsQAAAAAAAsG5AAAAAAABocEAAAAAAAHhxQAAAAAAAiHJAAAAAAACYc0AAAAAAAKh0QAAAAAAAuHVAAAAAAADIdkAAAAAAANh3QAAAAAAA6HhAAAAAAAD4eUAAAAAAAAh7QA==\"},\"shape\":[20],\"dtype\":\"float64\",\"order\":\"little\"}],[\"city_count\",{\"type\":\"ndarray\",\"array\":{\"type\":\"bytes\",\"data\":\"wZ4IAAtMAwBrPAQAMMYHAJoyBgCauwMA24wFAKLxAwD9IwQAZfIDANeOBAD4KQQAmUAUAA50BQBi9gYAJGQHANEhAwBz4wIAg8kCAEAXCAA=\"},\"shape\":[20],\"dtype\":\"int32\",\"order\":\"little\"}]]}}},\"view\":{\"type\":\"object\",\"name\":\"CDSView\",\"id\":\"p1181\",\"attributes\":{\"filter\":{\"type\":\"object\",\"name\":\"AllIndices\",\"id\":\"p1182\"}}},\"glyph\":{\"type\":\"object\",\"name\":\"Quad\",\"id\":\"p1177\",\"attributes\":{\"tags\":[\"apply_ranges\"],\"left\":{\"type\":\"field\",\"field\":\"left\"},\"right\":{\"type\":\"field\",\"field\":\"right\"},\"bottom\":{\"type\":\"value\",\"value\":0},\"top\":{\"type\":\"field\",\"field\":\"top\"},\"fill_color\":{\"type\":\"value\",\"value\":\"#30a2da\"},\"hatch_color\":{\"type\":\"value\",\"value\":\"#30a2da\"}}},\"selection_glyph\":{\"type\":\"object\",\"name\":\"Quad\",\"id\":\"p1183\",\"attributes\":{\"tags\":[\"apply_ranges\"],\"left\":{\"type\":\"field\",\"field\":\"left\"},\"right\":{\"type\":\"field\",\"field\":\"right\"},\"bottom\":{\"type\":\"value\",\"value\":0},\"top\":{\"type\":\"field\",\"field\":\"top\"},\"line_color\":{\"type\":\"value\",\"value\":\"black\"},\"line_alpha\":{\"type\":\"value\",\"value\":1.0},\"line_width\":{\"type\":\"value\",\"value\":1},\"line_join\":{\"type\":\"value\",\"value\":\"bevel\"},\"line_cap\":{\"type\":\"value\",\"value\":\"butt\"},\"line_dash\":{\"type\":\"value\",\"value\":[]},\"line_dash_offset\":{\"type\":\"value\",\"value\":0},\"fill_color\":{\"type\":\"value\",\"value\":\"#30a2da\"},\"fill_alpha\":{\"type\":\"value\",\"value\":1.0},\"hatch_color\":{\"type\":\"value\",\"value\":\"#30a2da\"},\"hatch_alpha\":{\"type\":\"value\",\"value\":1.0},\"hatch_scale\":{\"type\":\"value\",\"value\":12.0},\"hatch_pattern\":{\"type\":\"value\",\"value\":null},\"hatch_weight\":{\"type\":\"value\",\"value\":1.0}}},\"nonselection_glyph\":{\"type\":\"object\",\"name\":\"Quad\",\"id\":\"p1178\",\"attributes\":{\"tags\":[\"apply_ranges\"],\"left\":{\"type\":\"field\",\"field\":\"left\"},\"right\":{\"type\":\"field\",\"field\":\"right\"},\"bottom\":{\"type\":\"value\",\"value\":0},\"top\":{\"type\":\"field\",\"field\":\"top\"},\"line_alpha\":{\"type\":\"value\",\"value\":0.1},\"fill_color\":{\"type\":\"value\",\"value\":\"#30a2da\"},\"fill_alpha\":{\"type\":\"value\",\"value\":0.1},\"hatch_color\":{\"type\":\"value\",\"value\":\"#30a2da\"},\"hatch_alpha\":{\"type\":\"value\",\"value\":0.1}}},\"muted_glyph\":{\"type\":\"object\",\"name\":\"Quad\",\"id\":\"p1179\",\"attributes\":{\"tags\":[\"apply_ranges\"],\"left\":{\"type\":\"field\",\"field\":\"left\"},\"right\":{\"type\":\"field\",\"field\":\"right\"},\"bottom\":{\"type\":\"value\",\"value\":0},\"top\":{\"type\":\"field\",\"field\":\"top\"},\"line_alpha\":{\"type\":\"value\",\"value\":0.2},\"fill_color\":{\"type\":\"value\",\"value\":\"#30a2da\"},\"fill_alpha\":{\"type\":\"value\",\"value\":0.2},\"hatch_color\":{\"type\":\"value\",\"value\":\"#30a2da\"},\"hatch_alpha\":{\"type\":\"value\",\"value\":0.2}}}}}],\"toolbar\":{\"type\":\"object\",\"name\":\"Toolbar\",\"id\":\"p1149\",\"attributes\":{\"tools\":[{\"type\":\"object\",\"name\":\"WheelZoomTool\",\"id\":\"p1138\",\"attributes\":{\"tags\":[\"hv_created\"],\"renderers\":\"auto\",\"zoom_together\":\"none\"}},{\"type\":\"object\",\"name\":\"HoverTool\",\"id\":\"p1139\",\"attributes\":{\"tags\":[\"hv_created\"],\"renderers\":[{\"id\":\"p1180\"}],\"tooltips\":[[\"city\",\"@{city}\"],[\"Count\",\"@{city_count}\"]]}},{\"type\":\"object\",\"name\":\"SaveTool\",\"id\":\"p1162\"},{\"type\":\"object\",\"name\":\"PanTool\",\"id\":\"p1163\"},{\"type\":\"object\",\"name\":\"BoxZoomTool\",\"id\":\"p1164\",\"attributes\":{\"overlay\":{\"type\":\"object\",\"name\":\"BoxAnnotation\",\"id\":\"p1165\",\"attributes\":{\"syncable\":false,\"level\":\"overlay\",\"visible\":false,\"left\":{\"type\":\"number\",\"value\":\"nan\"},\"right\":{\"type\":\"number\",\"value\":\"nan\"},\"top\":{\"type\":\"number\",\"value\":\"nan\"},\"bottom\":{\"type\":\"number\",\"value\":\"nan\"},\"left_units\":\"canvas\",\"right_units\":\"canvas\",\"top_units\":\"canvas\",\"bottom_units\":\"canvas\",\"line_color\":\"black\",\"line_alpha\":1.0,\"line_width\":2,\"line_dash\":[4,4],\"fill_color\":\"lightgrey\",\"fill_alpha\":0.5}}}},{\"type\":\"object\",\"name\":\"ResetTool\",\"id\":\"p1170\"}],\"active_drag\":{\"id\":\"p1163\"},\"active_scroll\":{\"id\":\"p1138\"}}},\"left\":[{\"type\":\"object\",\"name\":\"LinearAxis\",\"id\":\"p1157\",\"attributes\":{\"ticker\":{\"type\":\"object\",\"name\":\"BasicTicker\",\"id\":\"p1158\",\"attributes\":{\"mantissas\":[1,2,5]}},\"formatter\":{\"type\":\"object\",\"name\":\"BasicTickFormatter\",\"id\":\"p1159\"},\"axis_label\":\"\",\"major_label_policy\":{\"type\":\"object\",\"name\":\"AllLabels\",\"id\":\"p1160\"}}}],\"below\":[{\"type\":\"object\",\"name\":\"LinearAxis\",\"id\":\"p1152\",\"attributes\":{\"ticker\":{\"type\":\"object\",\"name\":\"BasicTicker\",\"id\":\"p1153\",\"attributes\":{\"mantissas\":[1,2,5]}},\"formatter\":{\"type\":\"object\",\"name\":\"BasicTickFormatter\",\"id\":\"p1154\"},\"axis_label\":\"city\",\"major_label_policy\":{\"type\":\"object\",\"name\":\"AllLabels\",\"id\":\"p1155\"}}}],\"center\":[{\"type\":\"object\",\"name\":\"Grid\",\"id\":\"p1156\",\"attributes\":{\"axis\":{\"id\":\"p1152\"},\"grid_line_color\":null}},{\"type\":\"object\",\"name\":\"Grid\",\"id\":\"p1161\",\"attributes\":{\"dimension\":1,\"axis\":{\"id\":\"p1157\"},\"grid_line_color\":null}}],\"min_border_top\":10,\"min_border_bottom\":10,\"min_border_left\":10,\"min_border_right\":10,\"output_backend\":\"webgl\"}},{\"type\":\"object\",\"name\":\"Spacer\",\"id\":\"p1185\",\"attributes\":{\"name\":\"HSpacer01163\",\"stylesheets\":[\"\\n:host(.pn-loading):before, .pn-loading:before {\\n  background-color: #c3c3c3;\\n  mask-size: auto calc(min(50%, 400px));\\n  -webkit-mask-size: auto calc(min(50%, 400px));\\n}\",{\"id\":\"p1131\"},{\"id\":\"p1129\"},{\"id\":\"p1130\"}],\"margin\":0,\"sizing_mode\":\"stretch_width\",\"align\":\"start\"}}]}}],\"defs\":[{\"type\":\"model\",\"name\":\"ReactiveHTML1\"},{\"type\":\"model\",\"name\":\"FlexBox1\",\"properties\":[{\"name\":\"align_content\",\"kind\":\"Any\",\"default\":\"flex-start\"},{\"name\":\"align_items\",\"kind\":\"Any\",\"default\":\"flex-start\"},{\"name\":\"flex_direction\",\"kind\":\"Any\",\"default\":\"row\"},{\"name\":\"flex_wrap\",\"kind\":\"Any\",\"default\":\"wrap\"},{\"name\":\"gap\",\"kind\":\"Any\",\"default\":\"\"},{\"name\":\"justify_content\",\"kind\":\"Any\",\"default\":\"flex-start\"}]},{\"type\":\"model\",\"name\":\"FloatPanel1\",\"properties\":[{\"name\":\"config\",\"kind\":\"Any\",\"default\":{\"type\":\"map\"}},{\"name\":\"contained\",\"kind\":\"Any\",\"default\":true},{\"name\":\"position\",\"kind\":\"Any\",\"default\":\"right-top\"},{\"name\":\"offsetx\",\"kind\":\"Any\",\"default\":null},{\"name\":\"offsety\",\"kind\":\"Any\",\"default\":null},{\"name\":\"theme\",\"kind\":\"Any\",\"default\":\"primary\"},{\"name\":\"status\",\"kind\":\"Any\",\"default\":\"normalized\"}]},{\"type\":\"model\",\"name\":\"GridStack1\",\"properties\":[{\"name\":\"mode\",\"kind\":\"Any\",\"default\":\"warn\"},{\"name\":\"ncols\",\"kind\":\"Any\",\"default\":null},{\"name\":\"nrows\",\"kind\":\"Any\",\"default\":null},{\"name\":\"allow_resize\",\"kind\":\"Any\",\"default\":true},{\"name\":\"allow_drag\",\"kind\":\"Any\",\"default\":true},{\"name\":\"state\",\"kind\":\"Any\",\"default\":[]}]},{\"type\":\"model\",\"name\":\"drag1\",\"properties\":[{\"name\":\"slider_width\",\"kind\":\"Any\",\"default\":5},{\"name\":\"slider_color\",\"kind\":\"Any\",\"default\":\"black\"},{\"name\":\"value\",\"kind\":\"Any\",\"default\":50}]},{\"type\":\"model\",\"name\":\"click1\",\"properties\":[{\"name\":\"terminal_output\",\"kind\":\"Any\",\"default\":\"\"},{\"name\":\"debug_name\",\"kind\":\"Any\",\"default\":\"\"},{\"name\":\"clears\",\"kind\":\"Any\",\"default\":0}]},{\"type\":\"model\",\"name\":\"FastWrapper1\",\"properties\":[{\"name\":\"object\",\"kind\":\"Any\",\"default\":null},{\"name\":\"style\",\"kind\":\"Any\",\"default\":null}]},{\"type\":\"model\",\"name\":\"NotificationAreaBase1\",\"properties\":[{\"name\":\"js_events\",\"kind\":\"Any\",\"default\":{\"type\":\"map\"}},{\"name\":\"position\",\"kind\":\"Any\",\"default\":\"bottom-right\"},{\"name\":\"_clear\",\"kind\":\"Any\",\"default\":0}]},{\"type\":\"model\",\"name\":\"NotificationArea1\",\"properties\":[{\"name\":\"js_events\",\"kind\":\"Any\",\"default\":{\"type\":\"map\"}},{\"name\":\"notifications\",\"kind\":\"Any\",\"default\":[]},{\"name\":\"position\",\"kind\":\"Any\",\"default\":\"bottom-right\"},{\"name\":\"_clear\",\"kind\":\"Any\",\"default\":0},{\"name\":\"types\",\"kind\":\"Any\",\"default\":[{\"type\":\"map\",\"entries\":[[\"type\",\"warning\"],[\"background\",\"#ffc107\"],[\"icon\",{\"type\":\"map\",\"entries\":[[\"className\",\"fas fa-exclamation-triangle\"],[\"tagName\",\"i\"],[\"color\",\"white\"]]}]]},{\"type\":\"map\",\"entries\":[[\"type\",\"info\"],[\"background\",\"#007bff\"],[\"icon\",{\"type\":\"map\",\"entries\":[[\"className\",\"fas fa-info-circle\"],[\"tagName\",\"i\"],[\"color\",\"white\"]]}]]}]}]},{\"type\":\"model\",\"name\":\"Notification\",\"properties\":[{\"name\":\"background\",\"kind\":\"Any\",\"default\":null},{\"name\":\"duration\",\"kind\":\"Any\",\"default\":3000},{\"name\":\"icon\",\"kind\":\"Any\",\"default\":null},{\"name\":\"message\",\"kind\":\"Any\",\"default\":\"\"},{\"name\":\"notification_type\",\"kind\":\"Any\",\"default\":null},{\"name\":\"_destroyed\",\"kind\":\"Any\",\"default\":false}]},{\"type\":\"model\",\"name\":\"TemplateActions1\",\"properties\":[{\"name\":\"open_modal\",\"kind\":\"Any\",\"default\":0},{\"name\":\"close_modal\",\"kind\":\"Any\",\"default\":0}]},{\"type\":\"model\",\"name\":\"BootstrapTemplateActions1\",\"properties\":[{\"name\":\"open_modal\",\"kind\":\"Any\",\"default\":0},{\"name\":\"close_modal\",\"kind\":\"Any\",\"default\":0}]},{\"type\":\"model\",\"name\":\"TemplateEditor1\",\"properties\":[{\"name\":\"layout\",\"kind\":\"Any\",\"default\":[]}]},{\"type\":\"model\",\"name\":\"MaterialTemplateActions1\",\"properties\":[{\"name\":\"open_modal\",\"kind\":\"Any\",\"default\":0},{\"name\":\"close_modal\",\"kind\":\"Any\",\"default\":0}]},{\"type\":\"model\",\"name\":\"copy_to_clipboard1\",\"properties\":[{\"name\":\"fill\",\"kind\":\"Any\",\"default\":\"none\"},{\"name\":\"value\",\"kind\":\"Any\",\"default\":null}]}]}};\n",
       "  var render_items = [{\"docid\":\"c493f13a-cbf8-42ce-9b83-adc6d5f3d2e9\",\"roots\":{\"p1128\":\"f6c42d97-f16b-4fe7-852b-95aea4142592\"},\"root_ids\":[\"p1128\"]}];\n",
       "  var docs = Object.values(docs_json)\n",
       "  if (!docs) {\n",
       "    return\n",
       "  }\n",
       "  const py_version = docs[0].version.replace('rc', '-rc.').replace('.dev', '-dev.')\n",
       "  async function embed_document(root) {\n",
       "    var Bokeh = get_bokeh(root)\n",
       "    await Bokeh.embed.embed_items_notebook(docs_json, render_items);\n",
       "    for (const render_item of render_items) {\n",
       "      for (const root_id of render_item.root_ids) {\n",
       "\tconst id_el = document.getElementById(root_id)\n",
       "\tif (id_el.children.length && id_el.children[0].hasAttribute('data-root-id')) {\n",
       "\t  const root_el = id_el.children[0]\n",
       "\t  root_el.id = root_el.id + '-rendered'\n",
       "\t  for (const child of root_el.children) {\n",
       "            // Ensure JupyterLab does not capture keyboard shortcuts\n",
       "            // see: https://jupyterlab.readthedocs.io/en/4.1.x/extension/notebook.html#keyboard-interaction-model\n",
       "\t    child.setAttribute('data-lm-suppress-shortcuts', 'true')\n",
       "\t  }\n",
       "\t}\n",
       "      }\n",
       "    }\n",
       "  }\n",
       "  function get_bokeh(root) {\n",
       "    if (root.Bokeh === undefined) {\n",
       "      return null\n",
       "    } else if (root.Bokeh.version !== py_version) {\n",
       "      if (root.Bokeh.versions === undefined || !root.Bokeh.versions.has(py_version)) {\n",
       "\treturn null\n",
       "      }\n",
       "      return root.Bokeh.versions.get(py_version);\n",
       "    } else if (root.Bokeh.version === py_version) {\n",
       "      return root.Bokeh\n",
       "    }\n",
       "    return null\n",
       "  }\n",
       "  function is_loaded(root) {\n",
       "    var Bokeh = get_bokeh(root)\n",
       "    return (Bokeh != null && Bokeh.Panel !== undefined)\n",
       "  }\n",
       "  if (is_loaded(root)) {\n",
       "    embed_document(root);\n",
       "  } else {\n",
       "    var attempts = 0;\n",
       "    var timer = setInterval(function(root) {\n",
       "      if (is_loaded(root)) {\n",
       "        clearInterval(timer);\n",
       "        embed_document(root);\n",
       "      } else if (document.readyState == \"complete\") {\n",
       "        attempts++;\n",
       "        if (attempts > 200) {\n",
       "          clearInterval(timer);\n",
       "\t  var Bokeh = get_bokeh(root)\n",
       "\t  if (Bokeh == null || Bokeh.Panel == null) {\n",
       "            console.warn(\"Panel: ERROR: Unable to run Panel code because Bokeh or Panel library is missing\");\n",
       "\t  } else {\n",
       "\t    console.warn(\"Panel: WARNING: Attempting to render but not all required libraries could be resolved.\")\n",
       "\t    embed_document(root)\n",
       "\t  }\n",
       "        }\n",
       "      }\n",
       "    }, 25, root)\n",
       "  }\n",
       "})(window);</script>"
      ],
      "text/plain": [
       ":Histogram   [city]   (city_count)"
      ]
     },
     "execution_count": 10,
     "metadata": {
      "application/vnd.holoviews_exec.v0+json": {
       "id": "p1128"
      }
     },
     "output_type": "execute_result"
    }
   ],
   "source": [
    "ad_data.select(pl.col(\"city\")).collect().plot.hist()"
   ]
  },
  {
   "cell_type": "code",
   "execution_count": 11,
   "id": "730beb6f-74e0-4624-aa29-d048bd026749",
   "metadata": {},
   "outputs": [
    {
     "data": {
      "text/html": [
       "<div><style>\n",
       ".dataframe > thead > tr,\n",
       ".dataframe > tbody > tr {\n",
       "  text-align: right;\n",
       "  white-space: pre-wrap;\n",
       "}\n",
       "</style>\n",
       "<small>shape: (12, 2)</small><table border=\"1\" class=\"dataframe\"><thead><tr><th>city</th><th>len</th></tr><tr><td>i64</td><td>u32</td></tr></thead><tbody><tr><td>179</td><td>243</td></tr><tr><td>383</td><td>76</td></tr><tr><td>429</td><td>66</td></tr><tr><td>162</td><td>27</td></tr><tr><td>310</td><td>23</td></tr><tr><td>&hellip;</td><td>&hellip;</td></tr><tr><td>191</td><td>7</td></tr><tr><td>113</td><td>7</td></tr><tr><td>319</td><td>6</td></tr><tr><td>147</td><td>6</td></tr><tr><td>441</td><td>1</td></tr></tbody></table></div>"
      ],
      "text/plain": [
       "shape: (12, 2)\n",
       "┌──────┬─────┐\n",
       "│ city ┆ len │\n",
       "│ ---  ┆ --- │\n",
       "│ i64  ┆ u32 │\n",
       "╞══════╪═════╡\n",
       "│ 179  ┆ 243 │\n",
       "│ 383  ┆ 76  │\n",
       "│ 429  ┆ 66  │\n",
       "│ 162  ┆ 27  │\n",
       "│ 310  ┆ 23  │\n",
       "│ …    ┆ …   │\n",
       "│ 191  ┆ 7   │\n",
       "│ 113  ┆ 7   │\n",
       "│ 319  ┆ 6   │\n",
       "│ 147  ┆ 6   │\n",
       "│ 441  ┆ 1   │\n",
       "└──────┴─────┘"
      ]
     },
     "execution_count": 11,
     "metadata": {},
     "output_type": "execute_result"
    }
   ],
   "source": [
    "ad_data.group_by(pl.col(\"city\")).agg(pl.len()).fetch().sort(\"len\", descending = True)"
   ]
  },
  {
   "cell_type": "code",
   "execution_count": 12,
   "id": "91b50e94-602a-4b3a-af00-e464333ff7b7",
   "metadata": {},
   "outputs": [
    {
     "data": {},
     "metadata": {},
     "output_type": "display_data"
    },
    {
     "data": {
      "application/vnd.holoviews_exec.v0+json": "",
      "text/html": [
       "<div id='p1194'>\n",
       "  <div id=\"c54ebda1-5438-457f-9fe9-4236f6d134d0\" data-root-id=\"p1194\" style=\"display: contents;\"></div>\n",
       "</div>\n",
       "<script type=\"application/javascript\">(function(root) {\n",
       "  var docs_json = {\"1062be98-5b5f-421d-9d17-f6c71476d65c\":{\"version\":\"3.4.2\",\"title\":\"Bokeh Application\",\"roots\":[{\"type\":\"object\",\"name\":\"Row\",\"id\":\"p1194\",\"attributes\":{\"name\":\"Row01263\",\"tags\":[\"embedded\"],\"stylesheets\":[\"\\n:host(.pn-loading):before, .pn-loading:before {\\n  background-color: #c3c3c3;\\n  mask-size: auto calc(min(50%, 400px));\\n  -webkit-mask-size: auto calc(min(50%, 400px));\\n}\",{\"type\":\"object\",\"name\":\"ImportedStyleSheet\",\"id\":\"p1197\",\"attributes\":{\"url\":\"https://cdn.holoviz.org/panel/1.4.4/dist/css/loading.css\"}},{\"type\":\"object\",\"name\":\"ImportedStyleSheet\",\"id\":\"p1253\",\"attributes\":{\"url\":\"https://cdn.holoviz.org/panel/1.4.4/dist/css/listpanel.css\"}},{\"type\":\"object\",\"name\":\"ImportedStyleSheet\",\"id\":\"p1195\",\"attributes\":{\"url\":\"https://cdn.holoviz.org/panel/1.4.4/dist/bundled/theme/default.css\"}},{\"type\":\"object\",\"name\":\"ImportedStyleSheet\",\"id\":\"p1196\",\"attributes\":{\"url\":\"https://cdn.holoviz.org/panel/1.4.4/dist/bundled/theme/native.css\"}}],\"min_width\":700,\"margin\":0,\"sizing_mode\":\"stretch_width\",\"align\":\"start\",\"children\":[{\"type\":\"object\",\"name\":\"Spacer\",\"id\":\"p1198\",\"attributes\":{\"name\":\"HSpacer01270\",\"stylesheets\":[\"\\n:host(.pn-loading):before, .pn-loading:before {\\n  background-color: #c3c3c3;\\n  mask-size: auto calc(min(50%, 400px));\\n  -webkit-mask-size: auto calc(min(50%, 400px));\\n}\",{\"id\":\"p1197\"},{\"id\":\"p1195\"},{\"id\":\"p1196\"}],\"margin\":0,\"sizing_mode\":\"stretch_width\",\"align\":\"start\"}},{\"type\":\"object\",\"name\":\"Figure\",\"id\":\"p1206\",\"attributes\":{\"width\":700,\"height\":300,\"margin\":[5,10],\"sizing_mode\":\"fixed\",\"align\":\"start\",\"x_range\":{\"type\":\"object\",\"name\":\"Range1d\",\"id\":\"p1199\",\"attributes\":{\"tags\":[[[\"device_name\",\"device_name\",null]],[]],\"start\":89.98571428571428,\"end\":369.01428571428573,\"reset_start\":89.98571428571428,\"reset_end\":369.01428571428573}},\"y_range\":{\"type\":\"object\",\"name\":\"Range1d\",\"id\":\"p1200\",\"attributes\":{\"tags\":[[[\"device_name_count\",\"Count\",null]],{\"type\":\"map\",\"entries\":[[\"invert_yaxis\",false],[\"autorange\",false]]}],\"end\":608276.1,\"reset_start\":0.0,\"reset_end\":608276.1}},\"x_scale\":{\"type\":\"object\",\"name\":\"LinearScale\",\"id\":\"p1216\"},\"y_scale\":{\"type\":\"object\",\"name\":\"LinearScale\",\"id\":\"p1217\"},\"title\":{\"type\":\"object\",\"name\":\"Title\",\"id\":\"p1209\",\"attributes\":{\"text_color\":\"black\",\"text_font_size\":\"12pt\"}},\"renderers\":[{\"type\":\"object\",\"name\":\"GlyphRenderer\",\"id\":\"p1246\",\"attributes\":{\"data_source\":{\"type\":\"object\",\"name\":\"ColumnDataSource\",\"id\":\"p1237\",\"attributes\":{\"selected\":{\"type\":\"object\",\"name\":\"Selection\",\"id\":\"p1238\",\"attributes\":{\"indices\":[],\"line_indices\":[]}},\"selection_policy\":{\"type\":\"object\",\"name\":\"UnionRenderers\",\"id\":\"p1239\"},\"data\":{\"type\":\"map\",\"entries\":[[\"top\",{\"type\":\"ndarray\",\"array\":{\"type\":\"bytes\",\"data\":\"SFQEAHU2BwCByAYA5HwHAMvGAwCmpQQAvJIDAAQ4BgD0rggAu3IIAJxLAwAXwAQAIcADAPwOCACzswIAkfoEAO5JCAAvowQAXOAGAO6eCAA=\"},\"shape\":[20],\"dtype\":\"int32\",\"order\":\"little\"}],[\"left\",{\"type\":\"ndarray\",\"array\":{\"type\":\"bytes\",\"data\":\"AAAAAABAWUBmZmZmZnZcQM3MzMzMrF9AmpmZmZlxYUDNzMzMzAxjQAAAAAAAqGRAMzMzMzNDZkBmZmZmZt5nQJqZmZmZeWlAzMzMzMwUa0AAAAAAALBsQDMzMzMzS25AZmZmZmbmb0DMzMzMzMBwQGZmZmZmjnFAAAAAAABcckCamZmZmSlzQDMzMzMz93NAzMzMzMzEdEBmZmZmZpJ1QA==\"},\"shape\":[20],\"dtype\":\"float64\",\"order\":\"little\"}],[\"right\",{\"type\":\"ndarray\",\"array\":{\"type\":\"bytes\",\"data\":\"ZmZmZmZ2XEDNzMzMzKxfQJqZmZmZcWFAzczMzMwMY0AAAAAAAKhkQDMzMzMzQ2ZAZmZmZmbeZ0CamZmZmXlpQMzMzMzMFGtAAAAAAACwbEAzMzMzM0tuQGZmZmZm5m9AzMzMzMzAcEBmZmZmZo5xQAAAAAAAXHJAmpmZmZkpc0AzMzMzM/dzQMzMzMzMxHRAZmZmZmaSdUAAAAAAAGB2QA==\"},\"shape\":[20],\"dtype\":\"float64\",\"order\":\"little\"}],[\"device_name\",{\"type\":\"ndarray\",\"array\":{\"type\":\"bytes\",\"data\":\"MzMzMzPbWkCamZmZmRFeQAAAAAAApGBANDMzMzM/YkBmZmZmZtpjQJqZmZmZdWVAzMzMzMwQZ0AAAAAAAKxoQDMzMzMzR2pAZmZmZmbia0CamZmZmX1tQMzMzMzMGG9AAAAAAABacECZmZmZmSdxQDMzMzMz9XFAzczMzMzCckBmZmZmZpBzQAAAAAAAXnRAmZmZmZkrdUAzMzMzM/l1QA==\"},\"shape\":[20],\"dtype\":\"float64\",\"order\":\"little\"}],[\"device_name_count\",{\"type\":\"ndarray\",\"array\":{\"type\":\"bytes\",\"data\":\"SFQEAHU2BwCByAYA5HwHAMvGAwCmpQQAvJIDAAQ4BgD0rggAu3IIAJxLAwAXwAQAIcADAPwOCACzswIAkfoEAO5JCAAvowQAXOAGAO6eCAA=\"},\"shape\":[20],\"dtype\":\"int32\",\"order\":\"little\"}]]}}},\"view\":{\"type\":\"object\",\"name\":\"CDSView\",\"id\":\"p1247\",\"attributes\":{\"filter\":{\"type\":\"object\",\"name\":\"AllIndices\",\"id\":\"p1248\"}}},\"glyph\":{\"type\":\"object\",\"name\":\"Quad\",\"id\":\"p1243\",\"attributes\":{\"tags\":[\"apply_ranges\"],\"left\":{\"type\":\"field\",\"field\":\"left\"},\"right\":{\"type\":\"field\",\"field\":\"right\"},\"bottom\":{\"type\":\"value\",\"value\":0},\"top\":{\"type\":\"field\",\"field\":\"top\"},\"fill_color\":{\"type\":\"value\",\"value\":\"#30a2da\"},\"hatch_color\":{\"type\":\"value\",\"value\":\"#30a2da\"}}},\"selection_glyph\":{\"type\":\"object\",\"name\":\"Quad\",\"id\":\"p1249\",\"attributes\":{\"tags\":[\"apply_ranges\"],\"left\":{\"type\":\"field\",\"field\":\"left\"},\"right\":{\"type\":\"field\",\"field\":\"right\"},\"bottom\":{\"type\":\"value\",\"value\":0},\"top\":{\"type\":\"field\",\"field\":\"top\"},\"line_color\":{\"type\":\"value\",\"value\":\"black\"},\"line_alpha\":{\"type\":\"value\",\"value\":1.0},\"line_width\":{\"type\":\"value\",\"value\":1},\"line_join\":{\"type\":\"value\",\"value\":\"bevel\"},\"line_cap\":{\"type\":\"value\",\"value\":\"butt\"},\"line_dash\":{\"type\":\"value\",\"value\":[]},\"line_dash_offset\":{\"type\":\"value\",\"value\":0},\"fill_color\":{\"type\":\"value\",\"value\":\"#30a2da\"},\"fill_alpha\":{\"type\":\"value\",\"value\":1.0},\"hatch_color\":{\"type\":\"value\",\"value\":\"#30a2da\"},\"hatch_alpha\":{\"type\":\"value\",\"value\":1.0},\"hatch_scale\":{\"type\":\"value\",\"value\":12.0},\"hatch_pattern\":{\"type\":\"value\",\"value\":null},\"hatch_weight\":{\"type\":\"value\",\"value\":1.0}}},\"nonselection_glyph\":{\"type\":\"object\",\"name\":\"Quad\",\"id\":\"p1244\",\"attributes\":{\"tags\":[\"apply_ranges\"],\"left\":{\"type\":\"field\",\"field\":\"left\"},\"right\":{\"type\":\"field\",\"field\":\"right\"},\"bottom\":{\"type\":\"value\",\"value\":0},\"top\":{\"type\":\"field\",\"field\":\"top\"},\"line_alpha\":{\"type\":\"value\",\"value\":0.1},\"fill_color\":{\"type\":\"value\",\"value\":\"#30a2da\"},\"fill_alpha\":{\"type\":\"value\",\"value\":0.1},\"hatch_color\":{\"type\":\"value\",\"value\":\"#30a2da\"},\"hatch_alpha\":{\"type\":\"value\",\"value\":0.1}}},\"muted_glyph\":{\"type\":\"object\",\"name\":\"Quad\",\"id\":\"p1245\",\"attributes\":{\"tags\":[\"apply_ranges\"],\"left\":{\"type\":\"field\",\"field\":\"left\"},\"right\":{\"type\":\"field\",\"field\":\"right\"},\"bottom\":{\"type\":\"value\",\"value\":0},\"top\":{\"type\":\"field\",\"field\":\"top\"},\"line_alpha\":{\"type\":\"value\",\"value\":0.2},\"fill_color\":{\"type\":\"value\",\"value\":\"#30a2da\"},\"fill_alpha\":{\"type\":\"value\",\"value\":0.2},\"hatch_color\":{\"type\":\"value\",\"value\":\"#30a2da\"},\"hatch_alpha\":{\"type\":\"value\",\"value\":0.2}}}}}],\"toolbar\":{\"type\":\"object\",\"name\":\"Toolbar\",\"id\":\"p1215\",\"attributes\":{\"tools\":[{\"type\":\"object\",\"name\":\"WheelZoomTool\",\"id\":\"p1204\",\"attributes\":{\"tags\":[\"hv_created\"],\"renderers\":\"auto\",\"zoom_together\":\"none\"}},{\"type\":\"object\",\"name\":\"HoverTool\",\"id\":\"p1205\",\"attributes\":{\"tags\":[\"hv_created\"],\"renderers\":[{\"id\":\"p1246\"}],\"tooltips\":[[\"device_name\",\"@{device_name}\"],[\"Count\",\"@{device_name_count}\"]]}},{\"type\":\"object\",\"name\":\"SaveTool\",\"id\":\"p1228\"},{\"type\":\"object\",\"name\":\"PanTool\",\"id\":\"p1229\"},{\"type\":\"object\",\"name\":\"BoxZoomTool\",\"id\":\"p1230\",\"attributes\":{\"overlay\":{\"type\":\"object\",\"name\":\"BoxAnnotation\",\"id\":\"p1231\",\"attributes\":{\"syncable\":false,\"level\":\"overlay\",\"visible\":false,\"left\":{\"type\":\"number\",\"value\":\"nan\"},\"right\":{\"type\":\"number\",\"value\":\"nan\"},\"top\":{\"type\":\"number\",\"value\":\"nan\"},\"bottom\":{\"type\":\"number\",\"value\":\"nan\"},\"left_units\":\"canvas\",\"right_units\":\"canvas\",\"top_units\":\"canvas\",\"bottom_units\":\"canvas\",\"line_color\":\"black\",\"line_alpha\":1.0,\"line_width\":2,\"line_dash\":[4,4],\"fill_color\":\"lightgrey\",\"fill_alpha\":0.5}}}},{\"type\":\"object\",\"name\":\"ResetTool\",\"id\":\"p1236\"}],\"active_drag\":{\"id\":\"p1229\"},\"active_scroll\":{\"id\":\"p1204\"}}},\"left\":[{\"type\":\"object\",\"name\":\"LinearAxis\",\"id\":\"p1223\",\"attributes\":{\"ticker\":{\"type\":\"object\",\"name\":\"BasicTicker\",\"id\":\"p1224\",\"attributes\":{\"mantissas\":[1,2,5]}},\"formatter\":{\"type\":\"object\",\"name\":\"BasicTickFormatter\",\"id\":\"p1225\"},\"axis_label\":\"\",\"major_label_policy\":{\"type\":\"object\",\"name\":\"AllLabels\",\"id\":\"p1226\"}}}],\"below\":[{\"type\":\"object\",\"name\":\"LinearAxis\",\"id\":\"p1218\",\"attributes\":{\"ticker\":{\"type\":\"object\",\"name\":\"BasicTicker\",\"id\":\"p1219\",\"attributes\":{\"mantissas\":[1,2,5]}},\"formatter\":{\"type\":\"object\",\"name\":\"BasicTickFormatter\",\"id\":\"p1220\"},\"axis_label\":\"device_name\",\"major_label_policy\":{\"type\":\"object\",\"name\":\"AllLabels\",\"id\":\"p1221\"}}}],\"center\":[{\"type\":\"object\",\"name\":\"Grid\",\"id\":\"p1222\",\"attributes\":{\"axis\":{\"id\":\"p1218\"},\"grid_line_color\":null}},{\"type\":\"object\",\"name\":\"Grid\",\"id\":\"p1227\",\"attributes\":{\"dimension\":1,\"axis\":{\"id\":\"p1223\"},\"grid_line_color\":null}}],\"min_border_top\":10,\"min_border_bottom\":10,\"min_border_left\":10,\"min_border_right\":10,\"output_backend\":\"webgl\"}},{\"type\":\"object\",\"name\":\"Spacer\",\"id\":\"p1251\",\"attributes\":{\"name\":\"HSpacer01271\",\"stylesheets\":[\"\\n:host(.pn-loading):before, .pn-loading:before {\\n  background-color: #c3c3c3;\\n  mask-size: auto calc(min(50%, 400px));\\n  -webkit-mask-size: auto calc(min(50%, 400px));\\n}\",{\"id\":\"p1197\"},{\"id\":\"p1195\"},{\"id\":\"p1196\"}],\"margin\":0,\"sizing_mode\":\"stretch_width\",\"align\":\"start\"}}]}}],\"defs\":[{\"type\":\"model\",\"name\":\"ReactiveHTML1\"},{\"type\":\"model\",\"name\":\"FlexBox1\",\"properties\":[{\"name\":\"align_content\",\"kind\":\"Any\",\"default\":\"flex-start\"},{\"name\":\"align_items\",\"kind\":\"Any\",\"default\":\"flex-start\"},{\"name\":\"flex_direction\",\"kind\":\"Any\",\"default\":\"row\"},{\"name\":\"flex_wrap\",\"kind\":\"Any\",\"default\":\"wrap\"},{\"name\":\"gap\",\"kind\":\"Any\",\"default\":\"\"},{\"name\":\"justify_content\",\"kind\":\"Any\",\"default\":\"flex-start\"}]},{\"type\":\"model\",\"name\":\"FloatPanel1\",\"properties\":[{\"name\":\"config\",\"kind\":\"Any\",\"default\":{\"type\":\"map\"}},{\"name\":\"contained\",\"kind\":\"Any\",\"default\":true},{\"name\":\"position\",\"kind\":\"Any\",\"default\":\"right-top\"},{\"name\":\"offsetx\",\"kind\":\"Any\",\"default\":null},{\"name\":\"offsety\",\"kind\":\"Any\",\"default\":null},{\"name\":\"theme\",\"kind\":\"Any\",\"default\":\"primary\"},{\"name\":\"status\",\"kind\":\"Any\",\"default\":\"normalized\"}]},{\"type\":\"model\",\"name\":\"GridStack1\",\"properties\":[{\"name\":\"mode\",\"kind\":\"Any\",\"default\":\"warn\"},{\"name\":\"ncols\",\"kind\":\"Any\",\"default\":null},{\"name\":\"nrows\",\"kind\":\"Any\",\"default\":null},{\"name\":\"allow_resize\",\"kind\":\"Any\",\"default\":true},{\"name\":\"allow_drag\",\"kind\":\"Any\",\"default\":true},{\"name\":\"state\",\"kind\":\"Any\",\"default\":[]}]},{\"type\":\"model\",\"name\":\"drag1\",\"properties\":[{\"name\":\"slider_width\",\"kind\":\"Any\",\"default\":5},{\"name\":\"slider_color\",\"kind\":\"Any\",\"default\":\"black\"},{\"name\":\"value\",\"kind\":\"Any\",\"default\":50}]},{\"type\":\"model\",\"name\":\"click1\",\"properties\":[{\"name\":\"terminal_output\",\"kind\":\"Any\",\"default\":\"\"},{\"name\":\"debug_name\",\"kind\":\"Any\",\"default\":\"\"},{\"name\":\"clears\",\"kind\":\"Any\",\"default\":0}]},{\"type\":\"model\",\"name\":\"FastWrapper1\",\"properties\":[{\"name\":\"object\",\"kind\":\"Any\",\"default\":null},{\"name\":\"style\",\"kind\":\"Any\",\"default\":null}]},{\"type\":\"model\",\"name\":\"NotificationAreaBase1\",\"properties\":[{\"name\":\"js_events\",\"kind\":\"Any\",\"default\":{\"type\":\"map\"}},{\"name\":\"position\",\"kind\":\"Any\",\"default\":\"bottom-right\"},{\"name\":\"_clear\",\"kind\":\"Any\",\"default\":0}]},{\"type\":\"model\",\"name\":\"NotificationArea1\",\"properties\":[{\"name\":\"js_events\",\"kind\":\"Any\",\"default\":{\"type\":\"map\"}},{\"name\":\"notifications\",\"kind\":\"Any\",\"default\":[]},{\"name\":\"position\",\"kind\":\"Any\",\"default\":\"bottom-right\"},{\"name\":\"_clear\",\"kind\":\"Any\",\"default\":0},{\"name\":\"types\",\"kind\":\"Any\",\"default\":[{\"type\":\"map\",\"entries\":[[\"type\",\"warning\"],[\"background\",\"#ffc107\"],[\"icon\",{\"type\":\"map\",\"entries\":[[\"className\",\"fas fa-exclamation-triangle\"],[\"tagName\",\"i\"],[\"color\",\"white\"]]}]]},{\"type\":\"map\",\"entries\":[[\"type\",\"info\"],[\"background\",\"#007bff\"],[\"icon\",{\"type\":\"map\",\"entries\":[[\"className\",\"fas fa-info-circle\"],[\"tagName\",\"i\"],[\"color\",\"white\"]]}]]}]}]},{\"type\":\"model\",\"name\":\"Notification\",\"properties\":[{\"name\":\"background\",\"kind\":\"Any\",\"default\":null},{\"name\":\"duration\",\"kind\":\"Any\",\"default\":3000},{\"name\":\"icon\",\"kind\":\"Any\",\"default\":null},{\"name\":\"message\",\"kind\":\"Any\",\"default\":\"\"},{\"name\":\"notification_type\",\"kind\":\"Any\",\"default\":null},{\"name\":\"_destroyed\",\"kind\":\"Any\",\"default\":false}]},{\"type\":\"model\",\"name\":\"TemplateActions1\",\"properties\":[{\"name\":\"open_modal\",\"kind\":\"Any\",\"default\":0},{\"name\":\"close_modal\",\"kind\":\"Any\",\"default\":0}]},{\"type\":\"model\",\"name\":\"BootstrapTemplateActions1\",\"properties\":[{\"name\":\"open_modal\",\"kind\":\"Any\",\"default\":0},{\"name\":\"close_modal\",\"kind\":\"Any\",\"default\":0}]},{\"type\":\"model\",\"name\":\"TemplateEditor1\",\"properties\":[{\"name\":\"layout\",\"kind\":\"Any\",\"default\":[]}]},{\"type\":\"model\",\"name\":\"MaterialTemplateActions1\",\"properties\":[{\"name\":\"open_modal\",\"kind\":\"Any\",\"default\":0},{\"name\":\"close_modal\",\"kind\":\"Any\",\"default\":0}]},{\"type\":\"model\",\"name\":\"copy_to_clipboard1\",\"properties\":[{\"name\":\"fill\",\"kind\":\"Any\",\"default\":\"none\"},{\"name\":\"value\",\"kind\":\"Any\",\"default\":null}]}]}};\n",
       "  var render_items = [{\"docid\":\"1062be98-5b5f-421d-9d17-f6c71476d65c\",\"roots\":{\"p1194\":\"c54ebda1-5438-457f-9fe9-4236f6d134d0\"},\"root_ids\":[\"p1194\"]}];\n",
       "  var docs = Object.values(docs_json)\n",
       "  if (!docs) {\n",
       "    return\n",
       "  }\n",
       "  const py_version = docs[0].version.replace('rc', '-rc.').replace('.dev', '-dev.')\n",
       "  async function embed_document(root) {\n",
       "    var Bokeh = get_bokeh(root)\n",
       "    await Bokeh.embed.embed_items_notebook(docs_json, render_items);\n",
       "    for (const render_item of render_items) {\n",
       "      for (const root_id of render_item.root_ids) {\n",
       "\tconst id_el = document.getElementById(root_id)\n",
       "\tif (id_el.children.length && id_el.children[0].hasAttribute('data-root-id')) {\n",
       "\t  const root_el = id_el.children[0]\n",
       "\t  root_el.id = root_el.id + '-rendered'\n",
       "\t  for (const child of root_el.children) {\n",
       "            // Ensure JupyterLab does not capture keyboard shortcuts\n",
       "            // see: https://jupyterlab.readthedocs.io/en/4.1.x/extension/notebook.html#keyboard-interaction-model\n",
       "\t    child.setAttribute('data-lm-suppress-shortcuts', 'true')\n",
       "\t  }\n",
       "\t}\n",
       "      }\n",
       "    }\n",
       "  }\n",
       "  function get_bokeh(root) {\n",
       "    if (root.Bokeh === undefined) {\n",
       "      return null\n",
       "    } else if (root.Bokeh.version !== py_version) {\n",
       "      if (root.Bokeh.versions === undefined || !root.Bokeh.versions.has(py_version)) {\n",
       "\treturn null\n",
       "      }\n",
       "      return root.Bokeh.versions.get(py_version);\n",
       "    } else if (root.Bokeh.version === py_version) {\n",
       "      return root.Bokeh\n",
       "    }\n",
       "    return null\n",
       "  }\n",
       "  function is_loaded(root) {\n",
       "    var Bokeh = get_bokeh(root)\n",
       "    return (Bokeh != null && Bokeh.Panel !== undefined)\n",
       "  }\n",
       "  if (is_loaded(root)) {\n",
       "    embed_document(root);\n",
       "  } else {\n",
       "    var attempts = 0;\n",
       "    var timer = setInterval(function(root) {\n",
       "      if (is_loaded(root)) {\n",
       "        clearInterval(timer);\n",
       "        embed_document(root);\n",
       "      } else if (document.readyState == \"complete\") {\n",
       "        attempts++;\n",
       "        if (attempts > 200) {\n",
       "          clearInterval(timer);\n",
       "\t  var Bokeh = get_bokeh(root)\n",
       "\t  if (Bokeh == null || Bokeh.Panel == null) {\n",
       "            console.warn(\"Panel: ERROR: Unable to run Panel code because Bokeh or Panel library is missing\");\n",
       "\t  } else {\n",
       "\t    console.warn(\"Panel: WARNING: Attempting to render but not all required libraries could be resolved.\")\n",
       "\t    embed_document(root)\n",
       "\t  }\n",
       "        }\n",
       "      }\n",
       "    }, 25, root)\n",
       "  }\n",
       "})(window);</script>"
      ],
      "text/plain": [
       ":Histogram   [device_name]   (device_name_count)"
      ]
     },
     "execution_count": 12,
     "metadata": {
      "application/vnd.holoviews_exec.v0+json": {
       "id": "p1194"
      }
     },
     "output_type": "execute_result"
    }
   ],
   "source": [
    "ad_data.select(pl.col(\"device_name\")).collect().plot.hist()"
   ]
  },
  {
   "cell_type": "code",
   "execution_count": 13,
   "id": "8aba2091-2e61-4f50-a296-cd4a1e455161",
   "metadata": {},
   "outputs": [
    {
     "data": {},
     "metadata": {},
     "output_type": "display_data"
    },
    {
     "data": {
      "application/vnd.holoviews_exec.v0+json": "",
      "text/html": [
       "<div id='p1260'>\n",
       "  <div id=\"c3549d7d-e2d2-41c2-bcb2-8feb69cdff72\" data-root-id=\"p1260\" style=\"display: contents;\"></div>\n",
       "</div>\n",
       "<script type=\"application/javascript\">(function(root) {\n",
       "  var docs_json = {\"24534dd1-7d93-4505-8b08-f145aac3713c\":{\"version\":\"3.4.2\",\"title\":\"Bokeh Application\",\"roots\":[{\"type\":\"object\",\"name\":\"Row\",\"id\":\"p1260\",\"attributes\":{\"name\":\"Row01371\",\"tags\":[\"embedded\"],\"stylesheets\":[\"\\n:host(.pn-loading):before, .pn-loading:before {\\n  background-color: #c3c3c3;\\n  mask-size: auto calc(min(50%, 400px));\\n  -webkit-mask-size: auto calc(min(50%, 400px));\\n}\",{\"type\":\"object\",\"name\":\"ImportedStyleSheet\",\"id\":\"p1263\",\"attributes\":{\"url\":\"https://cdn.holoviz.org/panel/1.4.4/dist/css/loading.css\"}},{\"type\":\"object\",\"name\":\"ImportedStyleSheet\",\"id\":\"p1331\",\"attributes\":{\"url\":\"https://cdn.holoviz.org/panel/1.4.4/dist/css/listpanel.css\"}},{\"type\":\"object\",\"name\":\"ImportedStyleSheet\",\"id\":\"p1261\",\"attributes\":{\"url\":\"https://cdn.holoviz.org/panel/1.4.4/dist/bundled/theme/default.css\"}},{\"type\":\"object\",\"name\":\"ImportedStyleSheet\",\"id\":\"p1262\",\"attributes\":{\"url\":\"https://cdn.holoviz.org/panel/1.4.4/dist/bundled/theme/native.css\"}}],\"min_width\":700,\"margin\":0,\"sizing_mode\":\"stretch_width\",\"align\":\"start\",\"children\":[{\"type\":\"object\",\"name\":\"Spacer\",\"id\":\"p1264\",\"attributes\":{\"name\":\"HSpacer01378\",\"stylesheets\":[\"\\n:host(.pn-loading):before, .pn-loading:before {\\n  background-color: #c3c3c3;\\n  mask-size: auto calc(min(50%, 400px));\\n  -webkit-mask-size: auto calc(min(50%, 400px));\\n}\",{\"id\":\"p1263\"},{\"id\":\"p1261\"},{\"id\":\"p1262\"}],\"margin\":0,\"sizing_mode\":\"stretch_width\",\"align\":\"start\"}},{\"type\":\"object\",\"name\":\"Figure\",\"id\":\"p1272\",\"attributes\":{\"width\":700,\"height\":300,\"margin\":[5,10],\"sizing_mode\":\"fixed\",\"align\":\"start\",\"x_range\":{\"type\":\"object\",\"name\":\"Range1d\",\"id\":\"p1265\",\"attributes\":{\"tags\":[[[\"pt_d\",\"pt_d\",null]],[]],\"start\":1654101696000.0,\"end\":1654894224000.0,\"reset_start\":1654101696000.0,\"reset_end\":1654894224000.0}},\"y_range\":{\"type\":\"object\",\"name\":\"Range1d\",\"id\":\"p1266\",\"attributes\":{\"tags\":[[[\"pt_d_count\",\"Count\",null]],{\"type\":\"map\",\"entries\":[[\"invert_yaxis\",false],[\"autorange\",false]]}],\"end\":286905.3,\"reset_start\":0.0,\"reset_end\":286905.3}},\"x_scale\":{\"type\":\"object\",\"name\":\"LinearScale\",\"id\":\"p1282\"},\"y_scale\":{\"type\":\"object\",\"name\":\"LinearScale\",\"id\":\"p1283\"},\"title\":{\"type\":\"object\",\"name\":\"Title\",\"id\":\"p1275\",\"attributes\":{\"text_color\":\"black\",\"text_font_size\":\"12pt\"}},\"renderers\":[{\"type\":\"object\",\"name\":\"GlyphRenderer\",\"id\":\"p1324\",\"attributes\":{\"data_source\":{\"type\":\"object\",\"name\":\"ColumnDataSource\",\"id\":\"p1315\",\"attributes\":{\"selected\":{\"type\":\"object\",\"name\":\"Selection\",\"id\":\"p1316\",\"attributes\":{\"indices\":[],\"line_indices\":[]}},\"selection_policy\":{\"type\":\"object\",\"name\":\"UnionRenderers\",\"id\":\"p1317\"},\"data\":{\"type\":\"map\",\"entries\":[[\"top\",{\"type\":\"ndarray\",\"array\":{\"type\":\"bytes\",\"data\":\"GQAAACUAAABxAAAAQAEAAFcDAAAoAQAAAAAAAAAAAAAAAAAAAAAAAAAAAAC33wAAJUcCANSMAgC0RQMArrUDAJjMAwB9YwEAAAAAAAAAAAAAAAAAAAAAAAAAAADUTgEAukkCAP1eAgBEXgMA99gDABi5AwC0CwEAAAAAAAAAAAAAAAAAAAAAAAAAAABKpAEA6y0CAM9VAgDuWgMA7MwDAPpxAwDTmAAAAAAAAAAAAAAAAAAAAAAAAAAAAABAtQEAUPgBAIlOAgAZ+AIAHDYDAMLaAgBcLQAAAAAAAAAAAAAAAAAAAAAAAMAEAAC0HQIAUS0CANrFAgAIsgMA1/oDAIWLAgAAAAAAAAAAAAAAAAAAAAAAAAAAAKyAAAByGwIA5gUCAHiyAgCjPQMA52IDAE0mAgAAAAAAAAAAAAAAAAAAAAAAAAAAAK/KAADy5wEA5fMBAIy1AgDLSgMARBwDAGN4AQAAAAAAAAAAAAAAAAAAAAAAAAAAAAAAAAAAAAAAAAAAAAAAAAAAAAAAZRMAAA==\"},\"shape\":[100],\"dtype\":\"int32\",\"order\":\"little\"}],[\"left\",{\"type\":\"ndarray\",\"array\":{\"type\":\"bytes\",\"data\":\"AACSIyASeEIAALMZJxJ4QgAA1A8uEnhCAAD1BTUSeEIAABb8OxJ4QgAAN/JCEnhCAABY6EkSeEIAAHneUBJ4QgAAmtRXEnhCAAC7yl4SeEIAANzAZRJ4QgAA/bZsEnhCAAAerXMSeEIAAD+jehJ4QgAAYJmBEnhCAACBj4gSeEIAAKKFjxJ4QgAAw3uWEnhCAADkcZ0SeEIAAAVopBJ4QgAAJl6rEnhCAABHVLISeEIAAGhKuRJ4QgAAiUDAEnhCAACqNscSeEIAAMsszhJ4QgAA7CLVEnhCAAANGdwSeEIAAC4P4xJ4QgAATwXqEnhCAABw+/ASeEIAAJHx9xJ4QgAAsuf+EnhCAADT3QUTeEIAAPTTDBN4QgAAFcoTE3hCAAA2wBoTeEIAAFe2IRN4QgAAeKwoE3hCAACZoi8TeEIAALqYNhN4QgAA2449E3hCAAD8hEQTeEIAAB17SxN4QgAAPnFSE3hCAABfZ1kTeEIAAIBdYBN4QgAAoVNnE3hCAADCSW4TeEIAAOM/dRN4QgAABDZ8E3hCAAAlLIMTeEIAAEYiihN4QgAAZxiRE3hCAACIDpgTeEIAAKkEnxN4QgAAyvqlE3hCAADr8KwTeEIAAAznsxN4QgAALd26E3hCAABO08ETeEIAAG/JyBN4QgAAkL/PE3hCAACxtdYTeEIAANKr3RN4QgAA86HkE3hCAAAUmOsTeEIAADWO8hN4QgAAVoT5E3hCAAB3egAUeEIAAJhwBxR4QgAAuWYOFHhCAADaXBUUeEIAAPtSHBR4QgAAHEkjFHhCAAA9PyoUeEIAAF41MRR4QgAAfys4FHhCAACgIT8UeEIAAMEXRhR4QgAA4g1NFHhCAAADBFQUeEIAACT6WhR4QgAARfBhFHhCAABm5mgUeEIAAIfcbxR4QgAAqNJ2FHhCAADJyH0UeEIAAOq+hBR4QgAAC7WLFHhCAAAsq5IUeEIAAE2hmRR4QgAAbpegFHhCAACPjacUeEIAALCDrhR4QgAA0Xm1FHhCAADyb7wUeEIAABNmwxR4QgAANFzKFHhCAABVUtEUeEI=\"},\"shape\":[100],\"dtype\":\"float64\",\"order\":\"little\"}],[\"right\",{\"type\":\"ndarray\",\"array\":{\"type\":\"bytes\",\"data\":\"AACzGScSeEIAANQPLhJ4QgAA9QU1EnhCAAAW/DsSeEIAADfyQhJ4QgAAWOhJEnhCAAB53lASeEIAAJrUVxJ4QgAAu8peEnhCAADcwGUSeEIAAP22bBJ4QgAAHq1zEnhCAAA/o3oSeEIAAGCZgRJ4QgAAgY+IEnhCAACihY8SeEIAAMN7lhJ4QgAA5HGdEnhCAAAFaKQSeEIAACZeqxJ4QgAAR1SyEnhCAABoSrkSeEIAAIlAwBJ4QgAAqjbHEnhCAADLLM4SeEIAAOwi1RJ4QgAADRncEnhCAAAuD+MSeEIAAE8F6hJ4QgAAcPvwEnhCAACR8fcSeEIAALLn/hJ4QgAA090FE3hCAAD00wwTeEIAABXKExN4QgAANsAaE3hCAABXtiETeEIAAHisKBN4QgAAmaIvE3hCAAC6mDYTeEIAANuOPRN4QgAA/IREE3hCAAAde0sTeEIAAD5xUhN4QgAAX2dZE3hCAACAXWATeEIAAKFTZxN4QgAAwkluE3hCAADjP3UTeEIAAAQ2fBN4QgAAJSyDE3hCAABGIooTeEIAAGcYkRN4QgAAiA6YE3hCAACpBJ8TeEIAAMr6pRN4QgAA6/CsE3hCAAAM57MTeEIAAC3duhN4QgAATtPBE3hCAABvycgTeEIAAJC/zxN4QgAAsbXWE3hCAADSq90TeEIAAPOh5BN4QgAAFJjrE3hCAAA1jvITeEIAAFaE+RN4QgAAd3oAFHhCAACYcAcUeEIAALlmDhR4QgAA2lwVFHhCAAD7UhwUeEIAABxJIxR4QgAAPT8qFHhCAABeNTEUeEIAAH8rOBR4QgAAoCE/FHhCAADBF0YUeEIAAOINTRR4QgAAAwRUFHhCAAAk+loUeEIAAEXwYRR4QgAAZuZoFHhCAACH3G8UeEIAAKjSdhR4QgAAych9FHhCAADqvoQUeEIAAAu1ixR4QgAALKuSFHhCAABNoZkUeEIAAG6XoBR4QgAAj42nFHhCAACwg64UeEIAANF5tRR4QgAA8m+8FHhCAAATZsMUeEIAADRcyhR4QgAAVVLRFHhCAAB2SNgUeEI=\"},\"shape\":[100],\"dtype\":\"float64\",\"order\":\"little\"}],[\"pt_d\",{\"type\":\"ndarray\",\"array\":{\"type\":\"bytes\",\"data\":\"AICiniMSeEIAgMOUKhJ4QgCA5IoxEnhCAIAFgTgSeEIAgCZ3PxJ4QgCAR21GEnhCAIBoY00SeEIAgIlZVBJ4QgCAqk9bEnhCAIDLRWISeEIAgOw7aRJ4QgCADTJwEnhCAIAuKHcSeEIAgE8efhJ4QgCAcBSFEnhCAICRCowSeEIAgLIAkxJ4QgCA0/aZEnhCAID07KASeEIAgBXjpxJ4QgCANtmuEnhCAIBXz7USeEIAgHjFvBJ4QgCAmbvDEnhCAIC6scoSeEIAgNun0RJ4QgCA/J3YEnhCAIAdlN8SeEIAgD6K5hJ4QgCAX4DtEnhCAICAdvQSeEIAgKFs+xJ4QgCAwmICE3hCAIDjWAkTeEIAgARPEBN4QgCAJUUXE3hCAIBGOx4TeEIAgGcxJRN4QgCAiCcsE3hCAICpHTMTeEIAgMoTOhN4QgCA6wlBE3hCAIAMAEgTeEIAgC32ThN4QgCATuxVE3hCAIBv4lwTeEIAgJDYYxN4QgCAsc5qE3hCAIDSxHETeEIAgPO6eBN4QgCAFLF/E3hCAIA1p4YTeEIAgFadjRN4QgCAd5OUE3hCAICYiZsTeEIAgLl/ohN4QgCA2nWpE3hCAID7a7ATeEIAgBxitxN4QgCAPVi+E3hCAIBeTsUTeEIAgH9EzBN4QgCAoDrTE3hCAIDBMNoTeEIAgOIm4RN4QgCAAx3oE3hCAIAkE+8TeEIAgEUJ9hN4QgCAZv/8E3hCAICH9QMUeEIAgKjrChR4QgCAyeERFHhCAIDq1xgUeEIAgAvOHxR4QgCALMQmFHhCAIBNui0UeEIAgG6wNBR4QgCAj6Y7FHhCAICwnEIUeEIAgNGSSRR4QgCA8ohQFHhCAIATf1cUeEIAgDR1XhR4QgCAVWtlFHhCAIB2YWwUeEIAgJdXcxR4QgCAuE16FHhCAIDZQ4EUeEIAgPo5iBR4QgCAGzCPFHhCAIA8JpYUeEIAgF0cnRR4QgCAfhKkFHhCAICfCKsUeEIAgMD+sRR4QgCA4fS4FHhCAIAC678UeEIAgCPhxhR4QgCARNfNFHhCAIBlzdQUeEI=\"},\"shape\":[100],\"dtype\":\"float64\",\"order\":\"little\"}],[\"pt_d_count\",{\"type\":\"ndarray\",\"array\":{\"type\":\"bytes\",\"data\":\"GQAAACUAAABxAAAAQAEAAFcDAAAoAQAAAAAAAAAAAAAAAAAAAAAAAAAAAAC33wAAJUcCANSMAgC0RQMArrUDAJjMAwB9YwEAAAAAAAAAAAAAAAAAAAAAAAAAAADUTgEAukkCAP1eAgBEXgMA99gDABi5AwC0CwEAAAAAAAAAAAAAAAAAAAAAAAAAAABKpAEA6y0CAM9VAgDuWgMA7MwDAPpxAwDTmAAAAAAAAAAAAAAAAAAAAAAAAAAAAABAtQEAUPgBAIlOAgAZ+AIAHDYDAMLaAgBcLQAAAAAAAAAAAAAAAAAAAAAAAMAEAAC0HQIAUS0CANrFAgAIsgMA1/oDAIWLAgAAAAAAAAAAAAAAAAAAAAAAAAAAAKyAAAByGwIA5gUCAHiyAgCjPQMA52IDAE0mAgAAAAAAAAAAAAAAAAAAAAAAAAAAAK/KAADy5wEA5fMBAIy1AgDLSgMARBwDAGN4AQAAAAAAAAAAAAAAAAAAAAAAAAAAAAAAAAAAAAAAAAAAAAAAAAAAAAAAZRMAAA==\"},\"shape\":[100],\"dtype\":\"int32\",\"order\":\"little\"}]]}}},\"view\":{\"type\":\"object\",\"name\":\"CDSView\",\"id\":\"p1325\",\"attributes\":{\"filter\":{\"type\":\"object\",\"name\":\"AllIndices\",\"id\":\"p1326\"}}},\"glyph\":{\"type\":\"object\",\"name\":\"Quad\",\"id\":\"p1321\",\"attributes\":{\"tags\":[\"apply_ranges\"],\"left\":{\"type\":\"field\",\"field\":\"left\"},\"right\":{\"type\":\"field\",\"field\":\"right\"},\"bottom\":{\"type\":\"value\",\"value\":0},\"top\":{\"type\":\"field\",\"field\":\"top\"},\"fill_color\":{\"type\":\"value\",\"value\":\"#30a2da\"},\"hatch_color\":{\"type\":\"value\",\"value\":\"#30a2da\"}}},\"selection_glyph\":{\"type\":\"object\",\"name\":\"Quad\",\"id\":\"p1327\",\"attributes\":{\"tags\":[\"apply_ranges\"],\"left\":{\"type\":\"field\",\"field\":\"left\"},\"right\":{\"type\":\"field\",\"field\":\"right\"},\"bottom\":{\"type\":\"value\",\"value\":0},\"top\":{\"type\":\"field\",\"field\":\"top\"},\"line_color\":{\"type\":\"value\",\"value\":\"black\"},\"line_alpha\":{\"type\":\"value\",\"value\":1.0},\"line_width\":{\"type\":\"value\",\"value\":1},\"line_join\":{\"type\":\"value\",\"value\":\"bevel\"},\"line_cap\":{\"type\":\"value\",\"value\":\"butt\"},\"line_dash\":{\"type\":\"value\",\"value\":[]},\"line_dash_offset\":{\"type\":\"value\",\"value\":0},\"fill_color\":{\"type\":\"value\",\"value\":\"#30a2da\"},\"fill_alpha\":{\"type\":\"value\",\"value\":1.0},\"hatch_color\":{\"type\":\"value\",\"value\":\"#30a2da\"},\"hatch_alpha\":{\"type\":\"value\",\"value\":1.0},\"hatch_scale\":{\"type\":\"value\",\"value\":12.0},\"hatch_pattern\":{\"type\":\"value\",\"value\":null},\"hatch_weight\":{\"type\":\"value\",\"value\":1.0}}},\"nonselection_glyph\":{\"type\":\"object\",\"name\":\"Quad\",\"id\":\"p1322\",\"attributes\":{\"tags\":[\"apply_ranges\"],\"left\":{\"type\":\"field\",\"field\":\"left\"},\"right\":{\"type\":\"field\",\"field\":\"right\"},\"bottom\":{\"type\":\"value\",\"value\":0},\"top\":{\"type\":\"field\",\"field\":\"top\"},\"line_alpha\":{\"type\":\"value\",\"value\":0.1},\"fill_color\":{\"type\":\"value\",\"value\":\"#30a2da\"},\"fill_alpha\":{\"type\":\"value\",\"value\":0.1},\"hatch_color\":{\"type\":\"value\",\"value\":\"#30a2da\"},\"hatch_alpha\":{\"type\":\"value\",\"value\":0.1}}},\"muted_glyph\":{\"type\":\"object\",\"name\":\"Quad\",\"id\":\"p1323\",\"attributes\":{\"tags\":[\"apply_ranges\"],\"left\":{\"type\":\"field\",\"field\":\"left\"},\"right\":{\"type\":\"field\",\"field\":\"right\"},\"bottom\":{\"type\":\"value\",\"value\":0},\"top\":{\"type\":\"field\",\"field\":\"top\"},\"line_alpha\":{\"type\":\"value\",\"value\":0.2},\"fill_color\":{\"type\":\"value\",\"value\":\"#30a2da\"},\"fill_alpha\":{\"type\":\"value\",\"value\":0.2},\"hatch_color\":{\"type\":\"value\",\"value\":\"#30a2da\"},\"hatch_alpha\":{\"type\":\"value\",\"value\":0.2}}}}}],\"toolbar\":{\"type\":\"object\",\"name\":\"Toolbar\",\"id\":\"p1281\",\"attributes\":{\"tools\":[{\"type\":\"object\",\"name\":\"WheelZoomTool\",\"id\":\"p1270\",\"attributes\":{\"tags\":[\"hv_created\"],\"renderers\":\"auto\",\"zoom_together\":\"none\"}},{\"type\":\"object\",\"name\":\"HoverTool\",\"id\":\"p1271\",\"attributes\":{\"tags\":[\"hv_created\"],\"renderers\":[{\"id\":\"p1324\"}],\"tooltips\":[[\"pt_d\",\"@{pt_d}{%F %T}\"],[\"Count\",\"@{pt_d_count}\"]],\"formatters\":{\"type\":\"map\",\"entries\":[[\"@{left}\",\"datetime\"],[\"@{right}\",\"datetime\"],[\"@{pt_d}\",\"datetime\"]]}}},{\"type\":\"object\",\"name\":\"SaveTool\",\"id\":\"p1306\"},{\"type\":\"object\",\"name\":\"PanTool\",\"id\":\"p1307\"},{\"type\":\"object\",\"name\":\"BoxZoomTool\",\"id\":\"p1308\",\"attributes\":{\"overlay\":{\"type\":\"object\",\"name\":\"BoxAnnotation\",\"id\":\"p1309\",\"attributes\":{\"syncable\":false,\"level\":\"overlay\",\"visible\":false,\"left\":{\"type\":\"number\",\"value\":\"nan\"},\"right\":{\"type\":\"number\",\"value\":\"nan\"},\"top\":{\"type\":\"number\",\"value\":\"nan\"},\"bottom\":{\"type\":\"number\",\"value\":\"nan\"},\"left_units\":\"canvas\",\"right_units\":\"canvas\",\"top_units\":\"canvas\",\"bottom_units\":\"canvas\",\"line_color\":\"black\",\"line_alpha\":1.0,\"line_width\":2,\"line_dash\":[4,4],\"fill_color\":\"lightgrey\",\"fill_alpha\":0.5}}}},{\"type\":\"object\",\"name\":\"ResetTool\",\"id\":\"p1314\"}],\"active_drag\":{\"id\":\"p1307\"},\"active_scroll\":{\"id\":\"p1270\"}}},\"left\":[{\"type\":\"object\",\"name\":\"LinearAxis\",\"id\":\"p1301\",\"attributes\":{\"ticker\":{\"type\":\"object\",\"name\":\"BasicTicker\",\"id\":\"p1302\",\"attributes\":{\"mantissas\":[1,2,5]}},\"formatter\":{\"type\":\"object\",\"name\":\"BasicTickFormatter\",\"id\":\"p1303\"},\"axis_label\":\"\",\"major_label_policy\":{\"type\":\"object\",\"name\":\"AllLabels\",\"id\":\"p1304\"}}}],\"below\":[{\"type\":\"object\",\"name\":\"DatetimeAxis\",\"id\":\"p1284\",\"attributes\":{\"ticker\":{\"type\":\"object\",\"name\":\"DatetimeTicker\",\"id\":\"p1285\",\"attributes\":{\"num_minor_ticks\":5,\"tickers\":[{\"type\":\"object\",\"name\":\"AdaptiveTicker\",\"id\":\"p1286\",\"attributes\":{\"num_minor_ticks\":0,\"mantissas\":[1,2,5],\"max_interval\":500.0}},{\"type\":\"object\",\"name\":\"AdaptiveTicker\",\"id\":\"p1287\",\"attributes\":{\"num_minor_ticks\":0,\"base\":60,\"mantissas\":[1,2,5,10,15,20,30],\"min_interval\":1000.0,\"max_interval\":1800000.0}},{\"type\":\"object\",\"name\":\"AdaptiveTicker\",\"id\":\"p1288\",\"attributes\":{\"num_minor_ticks\":0,\"base\":24,\"mantissas\":[1,2,4,6,8,12],\"min_interval\":3600000.0,\"max_interval\":43200000.0}},{\"type\":\"object\",\"name\":\"DaysTicker\",\"id\":\"p1289\",\"attributes\":{\"days\":[1,2,3,4,5,6,7,8,9,10,11,12,13,14,15,16,17,18,19,20,21,22,23,24,25,26,27,28,29,30,31]}},{\"type\":\"object\",\"name\":\"DaysTicker\",\"id\":\"p1290\",\"attributes\":{\"days\":[1,4,7,10,13,16,19,22,25,28]}},{\"type\":\"object\",\"name\":\"DaysTicker\",\"id\":\"p1291\",\"attributes\":{\"days\":[1,8,15,22]}},{\"type\":\"object\",\"name\":\"DaysTicker\",\"id\":\"p1292\",\"attributes\":{\"days\":[1,15]}},{\"type\":\"object\",\"name\":\"MonthsTicker\",\"id\":\"p1293\",\"attributes\":{\"months\":[0,1,2,3,4,5,6,7,8,9,10,11]}},{\"type\":\"object\",\"name\":\"MonthsTicker\",\"id\":\"p1294\",\"attributes\":{\"months\":[0,2,4,6,8,10]}},{\"type\":\"object\",\"name\":\"MonthsTicker\",\"id\":\"p1295\",\"attributes\":{\"months\":[0,4,8]}},{\"type\":\"object\",\"name\":\"MonthsTicker\",\"id\":\"p1296\",\"attributes\":{\"months\":[0,6]}},{\"type\":\"object\",\"name\":\"YearsTicker\",\"id\":\"p1297\"}]}},\"formatter\":{\"type\":\"object\",\"name\":\"DatetimeTickFormatter\",\"id\":\"p1298\"},\"axis_label\":\"pt_d\",\"major_label_policy\":{\"type\":\"object\",\"name\":\"AllLabels\",\"id\":\"p1299\"}}}],\"center\":[{\"type\":\"object\",\"name\":\"Grid\",\"id\":\"p1300\",\"attributes\":{\"axis\":{\"id\":\"p1284\"},\"grid_line_color\":null}},{\"type\":\"object\",\"name\":\"Grid\",\"id\":\"p1305\",\"attributes\":{\"dimension\":1,\"axis\":{\"id\":\"p1301\"},\"grid_line_color\":null}}],\"min_border_top\":10,\"min_border_bottom\":10,\"min_border_left\":10,\"min_border_right\":10,\"output_backend\":\"webgl\"}},{\"type\":\"object\",\"name\":\"Spacer\",\"id\":\"p1329\",\"attributes\":{\"name\":\"HSpacer01379\",\"stylesheets\":[\"\\n:host(.pn-loading):before, .pn-loading:before {\\n  background-color: #c3c3c3;\\n  mask-size: auto calc(min(50%, 400px));\\n  -webkit-mask-size: auto calc(min(50%, 400px));\\n}\",{\"id\":\"p1263\"},{\"id\":\"p1261\"},{\"id\":\"p1262\"}],\"margin\":0,\"sizing_mode\":\"stretch_width\",\"align\":\"start\"}}]}}],\"defs\":[{\"type\":\"model\",\"name\":\"ReactiveHTML1\"},{\"type\":\"model\",\"name\":\"FlexBox1\",\"properties\":[{\"name\":\"align_content\",\"kind\":\"Any\",\"default\":\"flex-start\"},{\"name\":\"align_items\",\"kind\":\"Any\",\"default\":\"flex-start\"},{\"name\":\"flex_direction\",\"kind\":\"Any\",\"default\":\"row\"},{\"name\":\"flex_wrap\",\"kind\":\"Any\",\"default\":\"wrap\"},{\"name\":\"gap\",\"kind\":\"Any\",\"default\":\"\"},{\"name\":\"justify_content\",\"kind\":\"Any\",\"default\":\"flex-start\"}]},{\"type\":\"model\",\"name\":\"FloatPanel1\",\"properties\":[{\"name\":\"config\",\"kind\":\"Any\",\"default\":{\"type\":\"map\"}},{\"name\":\"contained\",\"kind\":\"Any\",\"default\":true},{\"name\":\"position\",\"kind\":\"Any\",\"default\":\"right-top\"},{\"name\":\"offsetx\",\"kind\":\"Any\",\"default\":null},{\"name\":\"offsety\",\"kind\":\"Any\",\"default\":null},{\"name\":\"theme\",\"kind\":\"Any\",\"default\":\"primary\"},{\"name\":\"status\",\"kind\":\"Any\",\"default\":\"normalized\"}]},{\"type\":\"model\",\"name\":\"GridStack1\",\"properties\":[{\"name\":\"mode\",\"kind\":\"Any\",\"default\":\"warn\"},{\"name\":\"ncols\",\"kind\":\"Any\",\"default\":null},{\"name\":\"nrows\",\"kind\":\"Any\",\"default\":null},{\"name\":\"allow_resize\",\"kind\":\"Any\",\"default\":true},{\"name\":\"allow_drag\",\"kind\":\"Any\",\"default\":true},{\"name\":\"state\",\"kind\":\"Any\",\"default\":[]}]},{\"type\":\"model\",\"name\":\"drag1\",\"properties\":[{\"name\":\"slider_width\",\"kind\":\"Any\",\"default\":5},{\"name\":\"slider_color\",\"kind\":\"Any\",\"default\":\"black\"},{\"name\":\"value\",\"kind\":\"Any\",\"default\":50}]},{\"type\":\"model\",\"name\":\"click1\",\"properties\":[{\"name\":\"terminal_output\",\"kind\":\"Any\",\"default\":\"\"},{\"name\":\"debug_name\",\"kind\":\"Any\",\"default\":\"\"},{\"name\":\"clears\",\"kind\":\"Any\",\"default\":0}]},{\"type\":\"model\",\"name\":\"FastWrapper1\",\"properties\":[{\"name\":\"object\",\"kind\":\"Any\",\"default\":null},{\"name\":\"style\",\"kind\":\"Any\",\"default\":null}]},{\"type\":\"model\",\"name\":\"NotificationAreaBase1\",\"properties\":[{\"name\":\"js_events\",\"kind\":\"Any\",\"default\":{\"type\":\"map\"}},{\"name\":\"position\",\"kind\":\"Any\",\"default\":\"bottom-right\"},{\"name\":\"_clear\",\"kind\":\"Any\",\"default\":0}]},{\"type\":\"model\",\"name\":\"NotificationArea1\",\"properties\":[{\"name\":\"js_events\",\"kind\":\"Any\",\"default\":{\"type\":\"map\"}},{\"name\":\"notifications\",\"kind\":\"Any\",\"default\":[]},{\"name\":\"position\",\"kind\":\"Any\",\"default\":\"bottom-right\"},{\"name\":\"_clear\",\"kind\":\"Any\",\"default\":0},{\"name\":\"types\",\"kind\":\"Any\",\"default\":[{\"type\":\"map\",\"entries\":[[\"type\",\"warning\"],[\"background\",\"#ffc107\"],[\"icon\",{\"type\":\"map\",\"entries\":[[\"className\",\"fas fa-exclamation-triangle\"],[\"tagName\",\"i\"],[\"color\",\"white\"]]}]]},{\"type\":\"map\",\"entries\":[[\"type\",\"info\"],[\"background\",\"#007bff\"],[\"icon\",{\"type\":\"map\",\"entries\":[[\"className\",\"fas fa-info-circle\"],[\"tagName\",\"i\"],[\"color\",\"white\"]]}]]}]}]},{\"type\":\"model\",\"name\":\"Notification\",\"properties\":[{\"name\":\"background\",\"kind\":\"Any\",\"default\":null},{\"name\":\"duration\",\"kind\":\"Any\",\"default\":3000},{\"name\":\"icon\",\"kind\":\"Any\",\"default\":null},{\"name\":\"message\",\"kind\":\"Any\",\"default\":\"\"},{\"name\":\"notification_type\",\"kind\":\"Any\",\"default\":null},{\"name\":\"_destroyed\",\"kind\":\"Any\",\"default\":false}]},{\"type\":\"model\",\"name\":\"TemplateActions1\",\"properties\":[{\"name\":\"open_modal\",\"kind\":\"Any\",\"default\":0},{\"name\":\"close_modal\",\"kind\":\"Any\",\"default\":0}]},{\"type\":\"model\",\"name\":\"BootstrapTemplateActions1\",\"properties\":[{\"name\":\"open_modal\",\"kind\":\"Any\",\"default\":0},{\"name\":\"close_modal\",\"kind\":\"Any\",\"default\":0}]},{\"type\":\"model\",\"name\":\"TemplateEditor1\",\"properties\":[{\"name\":\"layout\",\"kind\":\"Any\",\"default\":[]}]},{\"type\":\"model\",\"name\":\"MaterialTemplateActions1\",\"properties\":[{\"name\":\"open_modal\",\"kind\":\"Any\",\"default\":0},{\"name\":\"close_modal\",\"kind\":\"Any\",\"default\":0}]},{\"type\":\"model\",\"name\":\"copy_to_clipboard1\",\"properties\":[{\"name\":\"fill\",\"kind\":\"Any\",\"default\":\"none\"},{\"name\":\"value\",\"kind\":\"Any\",\"default\":null}]}]}};\n",
       "  var render_items = [{\"docid\":\"24534dd1-7d93-4505-8b08-f145aac3713c\",\"roots\":{\"p1260\":\"c3549d7d-e2d2-41c2-bcb2-8feb69cdff72\"},\"root_ids\":[\"p1260\"]}];\n",
       "  var docs = Object.values(docs_json)\n",
       "  if (!docs) {\n",
       "    return\n",
       "  }\n",
       "  const py_version = docs[0].version.replace('rc', '-rc.').replace('.dev', '-dev.')\n",
       "  async function embed_document(root) {\n",
       "    var Bokeh = get_bokeh(root)\n",
       "    await Bokeh.embed.embed_items_notebook(docs_json, render_items);\n",
       "    for (const render_item of render_items) {\n",
       "      for (const root_id of render_item.root_ids) {\n",
       "\tconst id_el = document.getElementById(root_id)\n",
       "\tif (id_el.children.length && id_el.children[0].hasAttribute('data-root-id')) {\n",
       "\t  const root_el = id_el.children[0]\n",
       "\t  root_el.id = root_el.id + '-rendered'\n",
       "\t  for (const child of root_el.children) {\n",
       "            // Ensure JupyterLab does not capture keyboard shortcuts\n",
       "            // see: https://jupyterlab.readthedocs.io/en/4.1.x/extension/notebook.html#keyboard-interaction-model\n",
       "\t    child.setAttribute('data-lm-suppress-shortcuts', 'true')\n",
       "\t  }\n",
       "\t}\n",
       "      }\n",
       "    }\n",
       "  }\n",
       "  function get_bokeh(root) {\n",
       "    if (root.Bokeh === undefined) {\n",
       "      return null\n",
       "    } else if (root.Bokeh.version !== py_version) {\n",
       "      if (root.Bokeh.versions === undefined || !root.Bokeh.versions.has(py_version)) {\n",
       "\treturn null\n",
       "      }\n",
       "      return root.Bokeh.versions.get(py_version);\n",
       "    } else if (root.Bokeh.version === py_version) {\n",
       "      return root.Bokeh\n",
       "    }\n",
       "    return null\n",
       "  }\n",
       "  function is_loaded(root) {\n",
       "    var Bokeh = get_bokeh(root)\n",
       "    return (Bokeh != null && Bokeh.Panel !== undefined)\n",
       "  }\n",
       "  if (is_loaded(root)) {\n",
       "    embed_document(root);\n",
       "  } else {\n",
       "    var attempts = 0;\n",
       "    var timer = setInterval(function(root) {\n",
       "      if (is_loaded(root)) {\n",
       "        clearInterval(timer);\n",
       "        embed_document(root);\n",
       "      } else if (document.readyState == \"complete\") {\n",
       "        attempts++;\n",
       "        if (attempts > 200) {\n",
       "          clearInterval(timer);\n",
       "\t  var Bokeh = get_bokeh(root)\n",
       "\t  if (Bokeh == null || Bokeh.Panel == null) {\n",
       "            console.warn(\"Panel: ERROR: Unable to run Panel code because Bokeh or Panel library is missing\");\n",
       "\t  } else {\n",
       "\t    console.warn(\"Panel: WARNING: Attempting to render but not all required libraries could be resolved.\")\n",
       "\t    embed_document(root)\n",
       "\t  }\n",
       "        }\n",
       "      }\n",
       "    }, 25, root)\n",
       "  }\n",
       "})(window);</script>"
      ],
      "text/plain": [
       ":Histogram   [pt_d]   (pt_d_count)"
      ]
     },
     "execution_count": 13,
     "metadata": {
      "application/vnd.holoviews_exec.v0+json": {
       "id": "p1260"
      }
     },
     "output_type": "execute_result"
    }
   ],
   "source": [
    "ad_data.select(pl.col(\"pt_d\")).collect().plot.hist(bins = 100)"
   ]
  },
  {
   "cell_type": "code",
   "execution_count": 14,
   "id": "47d369bb-3260-4d05-b6c1-c8b4646cc125",
   "metadata": {},
   "outputs": [
    {
     "data": {},
     "metadata": {},
     "output_type": "display_data"
    },
    {
     "data": {
      "application/vnd.holoviews_exec.v0+json": "",
      "text/html": [
       "<div id='p1338'>\n",
       "  <div id=\"d5c3c90a-d288-407a-b21e-47909d795479\" data-root-id=\"p1338\" style=\"display: contents;\"></div>\n",
       "</div>\n",
       "<script type=\"application/javascript\">(function(root) {\n",
       "  var docs_json = {\"3c2f4021-d0c1-444f-a3cb-40ba1ba1cade\":{\"version\":\"3.4.2\",\"title\":\"Bokeh Application\",\"roots\":[{\"type\":\"object\",\"name\":\"Row\",\"id\":\"p1338\",\"attributes\":{\"name\":\"Row01479\",\"tags\":[\"embedded\"],\"stylesheets\":[\"\\n:host(.pn-loading):before, .pn-loading:before {\\n  background-color: #c3c3c3;\\n  mask-size: auto calc(min(50%, 400px));\\n  -webkit-mask-size: auto calc(min(50%, 400px));\\n}\",{\"type\":\"object\",\"name\":\"ImportedStyleSheet\",\"id\":\"p1341\",\"attributes\":{\"url\":\"https://cdn.holoviz.org/panel/1.4.4/dist/css/loading.css\"}},{\"type\":\"object\",\"name\":\"ImportedStyleSheet\",\"id\":\"p1409\",\"attributes\":{\"url\":\"https://cdn.holoviz.org/panel/1.4.4/dist/css/listpanel.css\"}},{\"type\":\"object\",\"name\":\"ImportedStyleSheet\",\"id\":\"p1339\",\"attributes\":{\"url\":\"https://cdn.holoviz.org/panel/1.4.4/dist/bundled/theme/default.css\"}},{\"type\":\"object\",\"name\":\"ImportedStyleSheet\",\"id\":\"p1340\",\"attributes\":{\"url\":\"https://cdn.holoviz.org/panel/1.4.4/dist/bundled/theme/native.css\"}}],\"min_width\":700,\"margin\":0,\"sizing_mode\":\"stretch_width\",\"align\":\"start\",\"children\":[{\"type\":\"object\",\"name\":\"Spacer\",\"id\":\"p1342\",\"attributes\":{\"name\":\"HSpacer01486\",\"stylesheets\":[\"\\n:host(.pn-loading):before, .pn-loading:before {\\n  background-color: #c3c3c3;\\n  mask-size: auto calc(min(50%, 400px));\\n  -webkit-mask-size: auto calc(min(50%, 400px));\\n}\",{\"id\":\"p1341\"},{\"id\":\"p1339\"},{\"id\":\"p1340\"}],\"margin\":0,\"sizing_mode\":\"stretch_width\",\"align\":\"start\"}},{\"type\":\"object\",\"name\":\"Figure\",\"id\":\"p1350\",\"attributes\":{\"width\":700,\"height\":300,\"margin\":[5,10],\"sizing_mode\":\"fixed\",\"align\":\"start\",\"x_range\":{\"type\":\"object\",\"name\":\"Range1d\",\"id\":\"p1343\",\"attributes\":{\"tags\":[[[\"e_et\",\"e_et\",null]],[]],\"start\":1654189248000.0,\"end\":1654843152000.0,\"reset_start\":1654189248000.0,\"reset_end\":1654843152000.0}},\"y_range\":{\"type\":\"object\",\"name\":\"Range1d\",\"id\":\"p1344\",\"attributes\":{\"tags\":[[[\"e_et_count\",\"Count\",null]],{\"type\":\"map\",\"entries\":[[\"invert_yaxis\",false],[\"autorange\",false]]}],\"end\":91483.7,\"reset_start\":0.0,\"reset_end\":91483.7}},\"x_scale\":{\"type\":\"object\",\"name\":\"LinearScale\",\"id\":\"p1360\"},\"y_scale\":{\"type\":\"object\",\"name\":\"LinearScale\",\"id\":\"p1361\"},\"title\":{\"type\":\"object\",\"name\":\"Title\",\"id\":\"p1353\",\"attributes\":{\"text_color\":\"black\",\"text_font_size\":\"12pt\"}},\"renderers\":[{\"type\":\"object\",\"name\":\"GlyphRenderer\",\"id\":\"p1402\",\"attributes\":{\"data_source\":{\"type\":\"object\",\"name\":\"ColumnDataSource\",\"id\":\"p1393\",\"attributes\":{\"selected\":{\"type\":\"object\",\"name\":\"Selection\",\"id\":\"p1394\",\"attributes\":{\"indices\":[],\"line_indices\":[]}},\"selection_policy\":{\"type\":\"object\",\"name\":\"UnionRenderers\",\"id\":\"p1395\"},\"data\":{\"type\":\"map\",\"entries\":[[\"top\",{\"type\":\"ndarray\",\"array\":{\"type\":\"bytes\",\"data\":\"V1UAABUcAACvDgAApWAAACCoAADsGAAAWaMAAIKTAAA+TwAAGsUAAKi4AAD5WgAAZ8sAAFEHAQBtNwAA1ioAAJkbAAAbHwAAXY8AALetAAAjWwAA6NoAAETFAAA0dQAA+6QAADOzAAAcyQAATsEAANvSAADKIwAAmxMAAJgqAABRZgAAF34AAIavAACzlwAASnwAANzLAAD+qQAA6KMAAEy4AACYBQEAanoAAGlNAADFGAAATQsAABFgAABFpAAAwksAAGJ1AACCjQAAzScAAO8+AAA/2gAA1FcAAEnJAADDBwEAzzAAAE4lAABtGAAAICAAAFiaAABLpgAALo8AAO6bAAD9UAAAw1wAAKmqAACPpwAAonAAAOZFAQAbmwAAERwAAK8VAAD0KgAAAU4AANKgAAB7uQAAlmwAAPeNAADcfQAA0b0AAB0qAAALigAAoxoBADu5AACZRQAAphYAAKMMAACfXQAAAIgAALVhAABoiwAAG4kAAPRXAACaoAAADpQAAPhyAABEIAEA2u4AAA==\"},\"shape\":[100],\"dtype\":\"int32\",\"order\":\"little\"}],[\"left\",{\"type\":\"ndarray\",\"array\":{\"type\":\"bytes\",\"data\":\"AACiam4SeEIAAAspdBJ4QgAAdOd5EnhCAADdpX8SeEIAAEZkhRJ4QgAAryKLEnhCAAAY4ZASeEIAAIGflhJ4QgAA6l2cEnhCAABTHKISeEIAALzapxJ4QgAAJZmtEnhCAACOV7MSeEIAAPcVuRJ4QgAAYNS+EnhCAADJksQSeEIAADJRyhJ4QgAAmw/QEnhCAAAEztUSeEIAAG2M2xJ4QgAA1krhEnhCAAA/CecSeEIAAKjH7BJ4QgAAEYbyEnhCAAB6RPgSeEIAAOMC/hJ4QgAATMEDE3hCAAC1fwkTeEIAAB4+DxN4QgAAh/wUE3hCAADwuhoTeEIAAFl5IBN4QgAAwjcmE3hCAAAr9isTeEIAAJS0MRN4QgAA/XI3E3hCAABmMT0TeEIAAM/vQhN4QgAAOK5IE3hCAAChbE4TeEIAAAorVBN4QgAAc+lZE3hCAADcp18TeEIAAEVmZRN4QgAAriRrE3hCAAAX43ATeEIAAIChdhN4QgAA6V98E3hCAABSHoITeEIAALvchxN4QgAAJJuNE3hCAACNWZMTeEIAAPYXmRN4QgAAX9aeE3hCAADIlKQTeEIAADFTqhN4QgAAmhGwE3hCAAAD0LUTeEIAAGyOuxN4QgAA1UzBE3hCAAA+C8cTeEIAAKfJzBN4QgAAEIjSE3hCAAB5RtgTeEIAAOIE3hN4QgAAS8PjE3hCAAC0gekTeEIAAB1A7xN4QgAAhv70E3hCAADvvPoTeEIAAFh7ABR4QgAAwTkGFHhCAAAq+AsUeEIAAJO2ERR4QgAA/HQXFHhCAABlMx0UeEIAAM7xIhR4QgAAN7AoFHhCAACgbi4UeEIAAAktNBR4QgAAcus5FHhCAADbqT8UeEIAAERoRRR4QgAArSZLFHhCAAAW5VAUeEIAAH+jVhR4QgAA6GFcFHhCAABRIGIUeEIAALreZxR4QgAAI51tFHhCAACMW3MUeEIAAPUZeRR4QgAAXth+FHhCAADHloQUeEIAADBVihR4QgAAmROQFHhCAAAC0pUUeEIAAGuQmxR4QgAA1E6hFHhCAAA9DacUeEI=\"},\"shape\":[100],\"dtype\":\"float64\",\"order\":\"little\"}],[\"right\",{\"type\":\"ndarray\",\"array\":{\"type\":\"bytes\",\"data\":\"AAALKXQSeEIAAHTneRJ4QgAA3aV/EnhCAABGZIUSeEIAAK8iixJ4QgAAGOGQEnhCAACBn5YSeEIAAOpdnBJ4QgAAUxyiEnhCAAC82qcSeEIAACWZrRJ4QgAAjlezEnhCAAD3FbkSeEIAAGDUvhJ4QgAAyZLEEnhCAAAyUcoSeEIAAJsP0BJ4QgAABM7VEnhCAABtjNsSeEIAANZK4RJ4QgAAPwnnEnhCAACox+wSeEIAABGG8hJ4QgAAekT4EnhCAADjAv4SeEIAAEzBAxN4QgAAtX8JE3hCAAAePg8TeEIAAIf8FBN4QgAA8LoaE3hCAABZeSATeEIAAMI3JhN4QgAAK/YrE3hCAACUtDETeEIAAP1yNxN4QgAAZjE9E3hCAADP70ITeEIAADiuSBN4QgAAoWxOE3hCAAAKK1QTeEIAAHPpWRN4QgAA3KdfE3hCAABFZmUTeEIAAK4kaxN4QgAAF+NwE3hCAACAoXYTeEIAAOlffBN4QgAAUh6CE3hCAAC73IcTeEIAACSbjRN4QgAAjVmTE3hCAAD2F5kTeEIAAF/WnhN4QgAAyJSkE3hCAAAxU6oTeEIAAJoRsBN4QgAAA9C1E3hCAABsjrsTeEIAANVMwRN4QgAAPgvHE3hCAACnycwTeEIAABCI0hN4QgAAeUbYE3hCAADiBN4TeEIAAEvD4xN4QgAAtIHpE3hCAAAdQO8TeEIAAIb+9BN4QgAA77z6E3hCAABYewAUeEIAAME5BhR4QgAAKvgLFHhCAACTthEUeEIAAPx0FxR4QgAAZTMdFHhCAADO8SIUeEIAADewKBR4QgAAoG4uFHhCAAAJLTQUeEIAAHLrORR4QgAA26k/FHhCAABEaEUUeEIAAK0mSxR4QgAAFuVQFHhCAAB/o1YUeEIAAOhhXBR4QgAAUSBiFHhCAAC63mcUeEIAACOdbRR4QgAAjFtzFHhCAAD1GXkUeEIAAF7YfhR4QgAAx5aEFHhCAAAwVYoUeEIAAJkTkBR4QgAAAtKVFHhCAABrkJsUeEIAANROoRR4QgAAPQ2nFHhCAACmy6wUeEI=\"},\"shape\":[100],\"dtype\":\"float64\",\"order\":\"little\"}],[\"e_et\",{\"type\":\"ndarray\",\"array\":{\"type\":\"bytes\",\"data\":\"AIDWSXESeEIAgD8IdxJ4QgCAqMZ8EnhCAIARhYISeEIAgHpDiBJ4QgCA4wGOEnhCAIBMwJMSeEIAgLV+mRJ4QgCAHj2fEnhCAICH+6QSeEIAgPC5qhJ4QgCAWXiwEnhCAIDCNrYSeEIAgCv1uxJ4QgCAlLPBEnhCAID9cccSeEIAgGYwzRJ4QgCAz+7SEnhCAIA4rdgSeEIAgKFr3hJ4QgCACirkEnhCAIBz6OkSeEIAgNym7xJ4QgCARWX1EnhCAICuI/sSeEIAgBfiABN4QgCAgKAGE3hCAIDpXgwTeEIAgFIdEhN4QgCAu9sXE3hCAIAkmh0TeEIAgI1YIxN4QgCA9hYpE3hCAIBf1S4TeEIAgMiTNBN4QgCAMVI6E3hCAICaEEATeEIAgAPPRRN4QgCAbI1LE3hCAIDVS1ETeEIAgD4KVxN4QgCAp8hcE3hCAIAQh2ITeEIAgHlFaBN4QgCA4gNuE3hCAIBLwnMTeEIAgLSAeRN4QgCAHT9/E3hCAICG/YQTeEIAgO+7ihN4QgCAWHqQE3hCAIDBOJYTeEIAgCr3mxN4QgCAk7WhE3hCAID8c6cTeEIAgGUyrRN4QgCAzvCyE3hCAIA3r7gTeEIAgKBtvhN4QgCACSzEE3hCAIBy6skTeEIAgNuozxN4QgCARGfVE3hCAICtJdsTeEIAgBbk4BN4QgCAf6LmE3hCAIDoYOwTeEIAgFEf8hN4QgCAut33E3hCAIAjnP0TeEIAgIxaAxR4QgCA9RgJFHhCAIBe1w4UeEIAgMeVFBR4QgCAMFQaFHhCAICZEiAUeEIAgALRJRR4QgCAa48rFHhCAIDUTTEUeEIAgD0MNxR4QgCApso8FHhCAIAPiUIUeEIAgHhHSBR4QgCA4QVOFHhCAIBKxFMUeEIAgLOCWRR4QgCAHEFfFHhCAICF/2QUeEIAgO69ahR4QgCAV3xwFHhCAIDAOnYUeEIAgCn5exR4QgCAkreBFHhCAID7dYcUeEIAgGQ0jRR4QgCAzfKSFHhCAIA2sZgUeEIAgJ9vnhR4QgCACC6kFHhCAIBx7KkUeEI=\"},\"shape\":[100],\"dtype\":\"float64\",\"order\":\"little\"}],[\"e_et_count\",{\"type\":\"ndarray\",\"array\":{\"type\":\"bytes\",\"data\":\"V1UAABUcAACvDgAApWAAACCoAADsGAAAWaMAAIKTAAA+TwAAGsUAAKi4AAD5WgAAZ8sAAFEHAQBtNwAA1ioAAJkbAAAbHwAAXY8AALetAAAjWwAA6NoAAETFAAA0dQAA+6QAADOzAAAcyQAATsEAANvSAADKIwAAmxMAAJgqAABRZgAAF34AAIavAACzlwAASnwAANzLAAD+qQAA6KMAAEy4AACYBQEAanoAAGlNAADFGAAATQsAABFgAABFpAAAwksAAGJ1AACCjQAAzScAAO8+AAA/2gAA1FcAAEnJAADDBwEAzzAAAE4lAABtGAAAICAAAFiaAABLpgAALo8AAO6bAAD9UAAAw1wAAKmqAACPpwAAonAAAOZFAQAbmwAAERwAAK8VAAD0KgAAAU4AANKgAAB7uQAAlmwAAPeNAADcfQAA0b0AAB0qAAALigAAoxoBADu5AACZRQAAphYAAKMMAACfXQAAAIgAALVhAABoiwAAG4kAAPRXAACaoAAADpQAAPhyAABEIAEA2u4AAA==\"},\"shape\":[100],\"dtype\":\"int32\",\"order\":\"little\"}]]}}},\"view\":{\"type\":\"object\",\"name\":\"CDSView\",\"id\":\"p1403\",\"attributes\":{\"filter\":{\"type\":\"object\",\"name\":\"AllIndices\",\"id\":\"p1404\"}}},\"glyph\":{\"type\":\"object\",\"name\":\"Quad\",\"id\":\"p1399\",\"attributes\":{\"tags\":[\"apply_ranges\"],\"left\":{\"type\":\"field\",\"field\":\"left\"},\"right\":{\"type\":\"field\",\"field\":\"right\"},\"bottom\":{\"type\":\"value\",\"value\":0},\"top\":{\"type\":\"field\",\"field\":\"top\"},\"fill_color\":{\"type\":\"value\",\"value\":\"#30a2da\"},\"hatch_color\":{\"type\":\"value\",\"value\":\"#30a2da\"}}},\"selection_glyph\":{\"type\":\"object\",\"name\":\"Quad\",\"id\":\"p1405\",\"attributes\":{\"tags\":[\"apply_ranges\"],\"left\":{\"type\":\"field\",\"field\":\"left\"},\"right\":{\"type\":\"field\",\"field\":\"right\"},\"bottom\":{\"type\":\"value\",\"value\":0},\"top\":{\"type\":\"field\",\"field\":\"top\"},\"line_color\":{\"type\":\"value\",\"value\":\"black\"},\"line_alpha\":{\"type\":\"value\",\"value\":1.0},\"line_width\":{\"type\":\"value\",\"value\":1},\"line_join\":{\"type\":\"value\",\"value\":\"bevel\"},\"line_cap\":{\"type\":\"value\",\"value\":\"butt\"},\"line_dash\":{\"type\":\"value\",\"value\":[]},\"line_dash_offset\":{\"type\":\"value\",\"value\":0},\"fill_color\":{\"type\":\"value\",\"value\":\"#30a2da\"},\"fill_alpha\":{\"type\":\"value\",\"value\":1.0},\"hatch_color\":{\"type\":\"value\",\"value\":\"#30a2da\"},\"hatch_alpha\":{\"type\":\"value\",\"value\":1.0},\"hatch_scale\":{\"type\":\"value\",\"value\":12.0},\"hatch_pattern\":{\"type\":\"value\",\"value\":null},\"hatch_weight\":{\"type\":\"value\",\"value\":1.0}}},\"nonselection_glyph\":{\"type\":\"object\",\"name\":\"Quad\",\"id\":\"p1400\",\"attributes\":{\"tags\":[\"apply_ranges\"],\"left\":{\"type\":\"field\",\"field\":\"left\"},\"right\":{\"type\":\"field\",\"field\":\"right\"},\"bottom\":{\"type\":\"value\",\"value\":0},\"top\":{\"type\":\"field\",\"field\":\"top\"},\"line_alpha\":{\"type\":\"value\",\"value\":0.1},\"fill_color\":{\"type\":\"value\",\"value\":\"#30a2da\"},\"fill_alpha\":{\"type\":\"value\",\"value\":0.1},\"hatch_color\":{\"type\":\"value\",\"value\":\"#30a2da\"},\"hatch_alpha\":{\"type\":\"value\",\"value\":0.1}}},\"muted_glyph\":{\"type\":\"object\",\"name\":\"Quad\",\"id\":\"p1401\",\"attributes\":{\"tags\":[\"apply_ranges\"],\"left\":{\"type\":\"field\",\"field\":\"left\"},\"right\":{\"type\":\"field\",\"field\":\"right\"},\"bottom\":{\"type\":\"value\",\"value\":0},\"top\":{\"type\":\"field\",\"field\":\"top\"},\"line_alpha\":{\"type\":\"value\",\"value\":0.2},\"fill_color\":{\"type\":\"value\",\"value\":\"#30a2da\"},\"fill_alpha\":{\"type\":\"value\",\"value\":0.2},\"hatch_color\":{\"type\":\"value\",\"value\":\"#30a2da\"},\"hatch_alpha\":{\"type\":\"value\",\"value\":0.2}}}}}],\"toolbar\":{\"type\":\"object\",\"name\":\"Toolbar\",\"id\":\"p1359\",\"attributes\":{\"tools\":[{\"type\":\"object\",\"name\":\"WheelZoomTool\",\"id\":\"p1348\",\"attributes\":{\"tags\":[\"hv_created\"],\"renderers\":\"auto\",\"zoom_together\":\"none\"}},{\"type\":\"object\",\"name\":\"HoverTool\",\"id\":\"p1349\",\"attributes\":{\"tags\":[\"hv_created\"],\"renderers\":[{\"id\":\"p1402\"}],\"tooltips\":[[\"e_et\",\"@{e_et}{%F %T}\"],[\"Count\",\"@{e_et_count}\"]],\"formatters\":{\"type\":\"map\",\"entries\":[[\"@{left}\",\"datetime\"],[\"@{right}\",\"datetime\"],[\"@{e_et}\",\"datetime\"]]}}},{\"type\":\"object\",\"name\":\"SaveTool\",\"id\":\"p1384\"},{\"type\":\"object\",\"name\":\"PanTool\",\"id\":\"p1385\"},{\"type\":\"object\",\"name\":\"BoxZoomTool\",\"id\":\"p1386\",\"attributes\":{\"overlay\":{\"type\":\"object\",\"name\":\"BoxAnnotation\",\"id\":\"p1387\",\"attributes\":{\"syncable\":false,\"level\":\"overlay\",\"visible\":false,\"left\":{\"type\":\"number\",\"value\":\"nan\"},\"right\":{\"type\":\"number\",\"value\":\"nan\"},\"top\":{\"type\":\"number\",\"value\":\"nan\"},\"bottom\":{\"type\":\"number\",\"value\":\"nan\"},\"left_units\":\"canvas\",\"right_units\":\"canvas\",\"top_units\":\"canvas\",\"bottom_units\":\"canvas\",\"line_color\":\"black\",\"line_alpha\":1.0,\"line_width\":2,\"line_dash\":[4,4],\"fill_color\":\"lightgrey\",\"fill_alpha\":0.5}}}},{\"type\":\"object\",\"name\":\"ResetTool\",\"id\":\"p1392\"}],\"active_drag\":{\"id\":\"p1385\"},\"active_scroll\":{\"id\":\"p1348\"}}},\"left\":[{\"type\":\"object\",\"name\":\"LinearAxis\",\"id\":\"p1379\",\"attributes\":{\"ticker\":{\"type\":\"object\",\"name\":\"BasicTicker\",\"id\":\"p1380\",\"attributes\":{\"mantissas\":[1,2,5]}},\"formatter\":{\"type\":\"object\",\"name\":\"BasicTickFormatter\",\"id\":\"p1381\"},\"axis_label\":\"\",\"major_label_policy\":{\"type\":\"object\",\"name\":\"AllLabels\",\"id\":\"p1382\"}}}],\"below\":[{\"type\":\"object\",\"name\":\"DatetimeAxis\",\"id\":\"p1362\",\"attributes\":{\"ticker\":{\"type\":\"object\",\"name\":\"DatetimeTicker\",\"id\":\"p1363\",\"attributes\":{\"num_minor_ticks\":5,\"tickers\":[{\"type\":\"object\",\"name\":\"AdaptiveTicker\",\"id\":\"p1364\",\"attributes\":{\"num_minor_ticks\":0,\"mantissas\":[1,2,5],\"max_interval\":500.0}},{\"type\":\"object\",\"name\":\"AdaptiveTicker\",\"id\":\"p1365\",\"attributes\":{\"num_minor_ticks\":0,\"base\":60,\"mantissas\":[1,2,5,10,15,20,30],\"min_interval\":1000.0,\"max_interval\":1800000.0}},{\"type\":\"object\",\"name\":\"AdaptiveTicker\",\"id\":\"p1366\",\"attributes\":{\"num_minor_ticks\":0,\"base\":24,\"mantissas\":[1,2,4,6,8,12],\"min_interval\":3600000.0,\"max_interval\":43200000.0}},{\"type\":\"object\",\"name\":\"DaysTicker\",\"id\":\"p1367\",\"attributes\":{\"days\":[1,2,3,4,5,6,7,8,9,10,11,12,13,14,15,16,17,18,19,20,21,22,23,24,25,26,27,28,29,30,31]}},{\"type\":\"object\",\"name\":\"DaysTicker\",\"id\":\"p1368\",\"attributes\":{\"days\":[1,4,7,10,13,16,19,22,25,28]}},{\"type\":\"object\",\"name\":\"DaysTicker\",\"id\":\"p1369\",\"attributes\":{\"days\":[1,8,15,22]}},{\"type\":\"object\",\"name\":\"DaysTicker\",\"id\":\"p1370\",\"attributes\":{\"days\":[1,15]}},{\"type\":\"object\",\"name\":\"MonthsTicker\",\"id\":\"p1371\",\"attributes\":{\"months\":[0,1,2,3,4,5,6,7,8,9,10,11]}},{\"type\":\"object\",\"name\":\"MonthsTicker\",\"id\":\"p1372\",\"attributes\":{\"months\":[0,2,4,6,8,10]}},{\"type\":\"object\",\"name\":\"MonthsTicker\",\"id\":\"p1373\",\"attributes\":{\"months\":[0,4,8]}},{\"type\":\"object\",\"name\":\"MonthsTicker\",\"id\":\"p1374\",\"attributes\":{\"months\":[0,6]}},{\"type\":\"object\",\"name\":\"YearsTicker\",\"id\":\"p1375\"}]}},\"formatter\":{\"type\":\"object\",\"name\":\"DatetimeTickFormatter\",\"id\":\"p1376\"},\"axis_label\":\"e_et\",\"major_label_policy\":{\"type\":\"object\",\"name\":\"AllLabels\",\"id\":\"p1377\"}}}],\"center\":[{\"type\":\"object\",\"name\":\"Grid\",\"id\":\"p1378\",\"attributes\":{\"axis\":{\"id\":\"p1362\"},\"grid_line_color\":null}},{\"type\":\"object\",\"name\":\"Grid\",\"id\":\"p1383\",\"attributes\":{\"dimension\":1,\"axis\":{\"id\":\"p1379\"},\"grid_line_color\":null}}],\"min_border_top\":10,\"min_border_bottom\":10,\"min_border_left\":10,\"min_border_right\":10,\"output_backend\":\"webgl\"}},{\"type\":\"object\",\"name\":\"Spacer\",\"id\":\"p1407\",\"attributes\":{\"name\":\"HSpacer01487\",\"stylesheets\":[\"\\n:host(.pn-loading):before, .pn-loading:before {\\n  background-color: #c3c3c3;\\n  mask-size: auto calc(min(50%, 400px));\\n  -webkit-mask-size: auto calc(min(50%, 400px));\\n}\",{\"id\":\"p1341\"},{\"id\":\"p1339\"},{\"id\":\"p1340\"}],\"margin\":0,\"sizing_mode\":\"stretch_width\",\"align\":\"start\"}}]}}],\"defs\":[{\"type\":\"model\",\"name\":\"ReactiveHTML1\"},{\"type\":\"model\",\"name\":\"FlexBox1\",\"properties\":[{\"name\":\"align_content\",\"kind\":\"Any\",\"default\":\"flex-start\"},{\"name\":\"align_items\",\"kind\":\"Any\",\"default\":\"flex-start\"},{\"name\":\"flex_direction\",\"kind\":\"Any\",\"default\":\"row\"},{\"name\":\"flex_wrap\",\"kind\":\"Any\",\"default\":\"wrap\"},{\"name\":\"gap\",\"kind\":\"Any\",\"default\":\"\"},{\"name\":\"justify_content\",\"kind\":\"Any\",\"default\":\"flex-start\"}]},{\"type\":\"model\",\"name\":\"FloatPanel1\",\"properties\":[{\"name\":\"config\",\"kind\":\"Any\",\"default\":{\"type\":\"map\"}},{\"name\":\"contained\",\"kind\":\"Any\",\"default\":true},{\"name\":\"position\",\"kind\":\"Any\",\"default\":\"right-top\"},{\"name\":\"offsetx\",\"kind\":\"Any\",\"default\":null},{\"name\":\"offsety\",\"kind\":\"Any\",\"default\":null},{\"name\":\"theme\",\"kind\":\"Any\",\"default\":\"primary\"},{\"name\":\"status\",\"kind\":\"Any\",\"default\":\"normalized\"}]},{\"type\":\"model\",\"name\":\"GridStack1\",\"properties\":[{\"name\":\"mode\",\"kind\":\"Any\",\"default\":\"warn\"},{\"name\":\"ncols\",\"kind\":\"Any\",\"default\":null},{\"name\":\"nrows\",\"kind\":\"Any\",\"default\":null},{\"name\":\"allow_resize\",\"kind\":\"Any\",\"default\":true},{\"name\":\"allow_drag\",\"kind\":\"Any\",\"default\":true},{\"name\":\"state\",\"kind\":\"Any\",\"default\":[]}]},{\"type\":\"model\",\"name\":\"drag1\",\"properties\":[{\"name\":\"slider_width\",\"kind\":\"Any\",\"default\":5},{\"name\":\"slider_color\",\"kind\":\"Any\",\"default\":\"black\"},{\"name\":\"value\",\"kind\":\"Any\",\"default\":50}]},{\"type\":\"model\",\"name\":\"click1\",\"properties\":[{\"name\":\"terminal_output\",\"kind\":\"Any\",\"default\":\"\"},{\"name\":\"debug_name\",\"kind\":\"Any\",\"default\":\"\"},{\"name\":\"clears\",\"kind\":\"Any\",\"default\":0}]},{\"type\":\"model\",\"name\":\"FastWrapper1\",\"properties\":[{\"name\":\"object\",\"kind\":\"Any\",\"default\":null},{\"name\":\"style\",\"kind\":\"Any\",\"default\":null}]},{\"type\":\"model\",\"name\":\"NotificationAreaBase1\",\"properties\":[{\"name\":\"js_events\",\"kind\":\"Any\",\"default\":{\"type\":\"map\"}},{\"name\":\"position\",\"kind\":\"Any\",\"default\":\"bottom-right\"},{\"name\":\"_clear\",\"kind\":\"Any\",\"default\":0}]},{\"type\":\"model\",\"name\":\"NotificationArea1\",\"properties\":[{\"name\":\"js_events\",\"kind\":\"Any\",\"default\":{\"type\":\"map\"}},{\"name\":\"notifications\",\"kind\":\"Any\",\"default\":[]},{\"name\":\"position\",\"kind\":\"Any\",\"default\":\"bottom-right\"},{\"name\":\"_clear\",\"kind\":\"Any\",\"default\":0},{\"name\":\"types\",\"kind\":\"Any\",\"default\":[{\"type\":\"map\",\"entries\":[[\"type\",\"warning\"],[\"background\",\"#ffc107\"],[\"icon\",{\"type\":\"map\",\"entries\":[[\"className\",\"fas fa-exclamation-triangle\"],[\"tagName\",\"i\"],[\"color\",\"white\"]]}]]},{\"type\":\"map\",\"entries\":[[\"type\",\"info\"],[\"background\",\"#007bff\"],[\"icon\",{\"type\":\"map\",\"entries\":[[\"className\",\"fas fa-info-circle\"],[\"tagName\",\"i\"],[\"color\",\"white\"]]}]]}]}]},{\"type\":\"model\",\"name\":\"Notification\",\"properties\":[{\"name\":\"background\",\"kind\":\"Any\",\"default\":null},{\"name\":\"duration\",\"kind\":\"Any\",\"default\":3000},{\"name\":\"icon\",\"kind\":\"Any\",\"default\":null},{\"name\":\"message\",\"kind\":\"Any\",\"default\":\"\"},{\"name\":\"notification_type\",\"kind\":\"Any\",\"default\":null},{\"name\":\"_destroyed\",\"kind\":\"Any\",\"default\":false}]},{\"type\":\"model\",\"name\":\"TemplateActions1\",\"properties\":[{\"name\":\"open_modal\",\"kind\":\"Any\",\"default\":0},{\"name\":\"close_modal\",\"kind\":\"Any\",\"default\":0}]},{\"type\":\"model\",\"name\":\"BootstrapTemplateActions1\",\"properties\":[{\"name\":\"open_modal\",\"kind\":\"Any\",\"default\":0},{\"name\":\"close_modal\",\"kind\":\"Any\",\"default\":0}]},{\"type\":\"model\",\"name\":\"TemplateEditor1\",\"properties\":[{\"name\":\"layout\",\"kind\":\"Any\",\"default\":[]}]},{\"type\":\"model\",\"name\":\"MaterialTemplateActions1\",\"properties\":[{\"name\":\"open_modal\",\"kind\":\"Any\",\"default\":0},{\"name\":\"close_modal\",\"kind\":\"Any\",\"default\":0}]},{\"type\":\"model\",\"name\":\"copy_to_clipboard1\",\"properties\":[{\"name\":\"fill\",\"kind\":\"Any\",\"default\":\"none\"},{\"name\":\"value\",\"kind\":\"Any\",\"default\":null}]}]}};\n",
       "  var render_items = [{\"docid\":\"3c2f4021-d0c1-444f-a3cb-40ba1ba1cade\",\"roots\":{\"p1338\":\"d5c3c90a-d288-407a-b21e-47909d795479\"},\"root_ids\":[\"p1338\"]}];\n",
       "  var docs = Object.values(docs_json)\n",
       "  if (!docs) {\n",
       "    return\n",
       "  }\n",
       "  const py_version = docs[0].version.replace('rc', '-rc.').replace('.dev', '-dev.')\n",
       "  async function embed_document(root) {\n",
       "    var Bokeh = get_bokeh(root)\n",
       "    await Bokeh.embed.embed_items_notebook(docs_json, render_items);\n",
       "    for (const render_item of render_items) {\n",
       "      for (const root_id of render_item.root_ids) {\n",
       "\tconst id_el = document.getElementById(root_id)\n",
       "\tif (id_el.children.length && id_el.children[0].hasAttribute('data-root-id')) {\n",
       "\t  const root_el = id_el.children[0]\n",
       "\t  root_el.id = root_el.id + '-rendered'\n",
       "\t  for (const child of root_el.children) {\n",
       "            // Ensure JupyterLab does not capture keyboard shortcuts\n",
       "            // see: https://jupyterlab.readthedocs.io/en/4.1.x/extension/notebook.html#keyboard-interaction-model\n",
       "\t    child.setAttribute('data-lm-suppress-shortcuts', 'true')\n",
       "\t  }\n",
       "\t}\n",
       "      }\n",
       "    }\n",
       "  }\n",
       "  function get_bokeh(root) {\n",
       "    if (root.Bokeh === undefined) {\n",
       "      return null\n",
       "    } else if (root.Bokeh.version !== py_version) {\n",
       "      if (root.Bokeh.versions === undefined || !root.Bokeh.versions.has(py_version)) {\n",
       "\treturn null\n",
       "      }\n",
       "      return root.Bokeh.versions.get(py_version);\n",
       "    } else if (root.Bokeh.version === py_version) {\n",
       "      return root.Bokeh\n",
       "    }\n",
       "    return null\n",
       "  }\n",
       "  function is_loaded(root) {\n",
       "    var Bokeh = get_bokeh(root)\n",
       "    return (Bokeh != null && Bokeh.Panel !== undefined)\n",
       "  }\n",
       "  if (is_loaded(root)) {\n",
       "    embed_document(root);\n",
       "  } else {\n",
       "    var attempts = 0;\n",
       "    var timer = setInterval(function(root) {\n",
       "      if (is_loaded(root)) {\n",
       "        clearInterval(timer);\n",
       "        embed_document(root);\n",
       "      } else if (document.readyState == \"complete\") {\n",
       "        attempts++;\n",
       "        if (attempts > 200) {\n",
       "          clearInterval(timer);\n",
       "\t  var Bokeh = get_bokeh(root)\n",
       "\t  if (Bokeh == null || Bokeh.Panel == null) {\n",
       "            console.warn(\"Panel: ERROR: Unable to run Panel code because Bokeh or Panel library is missing\");\n",
       "\t  } else {\n",
       "\t    console.warn(\"Panel: WARNING: Attempting to render but not all required libraries could be resolved.\")\n",
       "\t    embed_document(root)\n",
       "\t  }\n",
       "        }\n",
       "      }\n",
       "    }, 25, root)\n",
       "  }\n",
       "})(window);</script>"
      ],
      "text/plain": [
       ":Histogram   [e_et]   (e_et_count)"
      ]
     },
     "execution_count": 14,
     "metadata": {
      "application/vnd.holoviews_exec.v0+json": {
       "id": "p1338"
      }
     },
     "output_type": "execute_result"
    }
   ],
   "source": [
    "feed_data.select(pl.col(\"e_et\")).collect().plot.hist(bins = 100)"
   ]
  },
  {
   "cell_type": "code",
   "execution_count": 15,
   "id": "ce2c8202-4ebf-4805-ad2b-c3f2f3294fef",
   "metadata": {},
   "outputs": [
    {
     "data": {},
     "metadata": {},
     "output_type": "display_data"
    },
    {
     "data": {
      "application/vnd.holoviews_exec.v0+json": "",
      "text/html": [
       "<div id='p1416'>\n",
       "  <div id=\"a3a6b732-1272-4659-b3f6-638cb7b05c3c\" data-root-id=\"p1416\" style=\"display: contents;\"></div>\n",
       "</div>\n",
       "<script type=\"application/javascript\">(function(root) {\n",
       "  var docs_json = {\"7e0ded4a-03d4-4d6e-ad2b-3ce54dcbe688\":{\"version\":\"3.4.2\",\"title\":\"Bokeh Application\",\"roots\":[{\"type\":\"object\",\"name\":\"Row\",\"id\":\"p1416\",\"attributes\":{\"name\":\"Row01587\",\"tags\":[\"embedded\"],\"stylesheets\":[\"\\n:host(.pn-loading):before, .pn-loading:before {\\n  background-color: #c3c3c3;\\n  mask-size: auto calc(min(50%, 400px));\\n  -webkit-mask-size: auto calc(min(50%, 400px));\\n}\",{\"type\":\"object\",\"name\":\"ImportedStyleSheet\",\"id\":\"p1419\",\"attributes\":{\"url\":\"https://cdn.holoviz.org/panel/1.4.4/dist/css/loading.css\"}},{\"type\":\"object\",\"name\":\"ImportedStyleSheet\",\"id\":\"p1475\",\"attributes\":{\"url\":\"https://cdn.holoviz.org/panel/1.4.4/dist/css/listpanel.css\"}},{\"type\":\"object\",\"name\":\"ImportedStyleSheet\",\"id\":\"p1417\",\"attributes\":{\"url\":\"https://cdn.holoviz.org/panel/1.4.4/dist/bundled/theme/default.css\"}},{\"type\":\"object\",\"name\":\"ImportedStyleSheet\",\"id\":\"p1418\",\"attributes\":{\"url\":\"https://cdn.holoviz.org/panel/1.4.4/dist/bundled/theme/native.css\"}}],\"min_width\":700,\"margin\":0,\"sizing_mode\":\"stretch_width\",\"align\":\"start\",\"children\":[{\"type\":\"object\",\"name\":\"Spacer\",\"id\":\"p1420\",\"attributes\":{\"name\":\"HSpacer01594\",\"stylesheets\":[\"\\n:host(.pn-loading):before, .pn-loading:before {\\n  background-color: #c3c3c3;\\n  mask-size: auto calc(min(50%, 400px));\\n  -webkit-mask-size: auto calc(min(50%, 400px));\\n}\",{\"id\":\"p1419\"},{\"id\":\"p1417\"},{\"id\":\"p1418\"}],\"margin\":0,\"sizing_mode\":\"stretch_width\",\"align\":\"start\"}},{\"type\":\"object\",\"name\":\"Figure\",\"id\":\"p1428\",\"attributes\":{\"width\":700,\"height\":300,\"margin\":[5,10],\"sizing_mode\":\"fixed\",\"align\":\"start\",\"x_range\":{\"type\":\"object\",\"name\":\"Range1d\",\"id\":\"p1421\",\"attributes\":{\"tags\":[[[\"pt_d\",\"pt_d\",null]],[]],\"start\":0.5285714285714286,\"end\":12.471428571428572,\"reset_start\":0.5285714285714286,\"reset_end\":12.471428571428572}},\"y_range\":{\"type\":\"object\",\"name\":\"Range1d\",\"id\":\"p1422\",\"attributes\":{\"tags\":[[[\"pt_d_count\",\"Count\",null]],{\"type\":\"map\",\"entries\":[[\"invert_yaxis\",false],[\"autorange\",false]]}],\"end\":877992.0,\"reset_start\":0.0,\"reset_end\":877992.0}},\"x_scale\":{\"type\":\"object\",\"name\":\"LinearScale\",\"id\":\"p1438\"},\"y_scale\":{\"type\":\"object\",\"name\":\"LinearScale\",\"id\":\"p1439\"},\"title\":{\"type\":\"object\",\"name\":\"Title\",\"id\":\"p1431\",\"attributes\":{\"text_color\":\"black\",\"text_font_size\":\"12pt\"}},\"renderers\":[{\"type\":\"object\",\"name\":\"GlyphRenderer\",\"id\":\"p1468\",\"attributes\":{\"data_source\":{\"type\":\"object\",\"name\":\"ColumnDataSource\",\"id\":\"p1459\",\"attributes\":{\"selected\":{\"type\":\"object\",\"name\":\"Selection\",\"id\":\"p1460\",\"attributes\":{\"indices\":[],\"line_indices\":[]}},\"selection_policy\":{\"type\":\"object\",\"name\":\"UnionRenderers\",\"id\":\"p1461\"},\"data\":{\"type\":\"map\",\"entries\":[[\"top\",{\"type\":\"ndarray\",\"array\":{\"type\":\"bytes\",\"data\":\"txMIAJYlBwCSTwcA8HMHACv5BwB34AkABJ8LAFASDABMMwwAMtQMAJ6WCwCc+AgA\"},\"shape\":[12],\"dtype\":\"int32\",\"order\":\"little\"}],[\"left\",{\"type\":\"ndarray\",\"array\":{\"type\":\"bytes\",\"data\":\"AAAAAAAA8D+qqqqqqqr+P6qqqqqqqgZAAAAAAAAADkCqqqqqqqoSQFVVVVVVVRZAAAAAAAAAGkCqqqqqqqodQKqqqqqqqiBAAAAAAACAIkBVVVVVVVUkQKqqqqqqKiZA\"},\"shape\":[12],\"dtype\":\"float64\",\"order\":\"little\"}],[\"right\",{\"type\":\"ndarray\",\"array\":{\"type\":\"bytes\",\"data\":\"qqqqqqqq/j+qqqqqqqoGQAAAAAAAAA5AqqqqqqqqEkBVVVVVVVUWQAAAAAAAABpAqqqqqqqqHUCqqqqqqqogQAAAAAAAgCJAVVVVVVVVJECqqqqqqiomQAAAAAAAAChA\"},\"shape\":[12],\"dtype\":\"float64\",\"order\":\"little\"}],[\"pt_d\",{\"type\":\"ndarray\",\"array\":{\"type\":\"bytes\",\"data\":\"VVVVVVVV9z8AAAAAAAADQFVVVVVVVQpAVVVVVVXVEEAAAAAAAIAUQKqqqqqqKhhAVVVVVVXVG0D//////38fQFVVVVVVlSFAqqqqqqpqI0AAAAAAAEAlQFVVVVVVFSdA\"},\"shape\":[12],\"dtype\":\"float64\",\"order\":\"little\"}],[\"pt_d_count\",{\"type\":\"ndarray\",\"array\":{\"type\":\"bytes\",\"data\":\"txMIAJYlBwCSTwcA8HMHACv5BwB34AkABJ8LAFASDABMMwwAMtQMAJ6WCwCc+AgA\"},\"shape\":[12],\"dtype\":\"int32\",\"order\":\"little\"}]]}}},\"view\":{\"type\":\"object\",\"name\":\"CDSView\",\"id\":\"p1469\",\"attributes\":{\"filter\":{\"type\":\"object\",\"name\":\"AllIndices\",\"id\":\"p1470\"}}},\"glyph\":{\"type\":\"object\",\"name\":\"Quad\",\"id\":\"p1465\",\"attributes\":{\"tags\":[\"apply_ranges\"],\"left\":{\"type\":\"field\",\"field\":\"left\"},\"right\":{\"type\":\"field\",\"field\":\"right\"},\"bottom\":{\"type\":\"value\",\"value\":0},\"top\":{\"type\":\"field\",\"field\":\"top\"},\"fill_color\":{\"type\":\"value\",\"value\":\"#30a2da\"},\"hatch_color\":{\"type\":\"value\",\"value\":\"#30a2da\"}}},\"selection_glyph\":{\"type\":\"object\",\"name\":\"Quad\",\"id\":\"p1471\",\"attributes\":{\"tags\":[\"apply_ranges\"],\"left\":{\"type\":\"field\",\"field\":\"left\"},\"right\":{\"type\":\"field\",\"field\":\"right\"},\"bottom\":{\"type\":\"value\",\"value\":0},\"top\":{\"type\":\"field\",\"field\":\"top\"},\"line_color\":{\"type\":\"value\",\"value\":\"black\"},\"line_alpha\":{\"type\":\"value\",\"value\":1.0},\"line_width\":{\"type\":\"value\",\"value\":1},\"line_join\":{\"type\":\"value\",\"value\":\"bevel\"},\"line_cap\":{\"type\":\"value\",\"value\":\"butt\"},\"line_dash\":{\"type\":\"value\",\"value\":[]},\"line_dash_offset\":{\"type\":\"value\",\"value\":0},\"fill_color\":{\"type\":\"value\",\"value\":\"#30a2da\"},\"fill_alpha\":{\"type\":\"value\",\"value\":1.0},\"hatch_color\":{\"type\":\"value\",\"value\":\"#30a2da\"},\"hatch_alpha\":{\"type\":\"value\",\"value\":1.0},\"hatch_scale\":{\"type\":\"value\",\"value\":12.0},\"hatch_pattern\":{\"type\":\"value\",\"value\":null},\"hatch_weight\":{\"type\":\"value\",\"value\":1.0}}},\"nonselection_glyph\":{\"type\":\"object\",\"name\":\"Quad\",\"id\":\"p1466\",\"attributes\":{\"tags\":[\"apply_ranges\"],\"left\":{\"type\":\"field\",\"field\":\"left\"},\"right\":{\"type\":\"field\",\"field\":\"right\"},\"bottom\":{\"type\":\"value\",\"value\":0},\"top\":{\"type\":\"field\",\"field\":\"top\"},\"line_alpha\":{\"type\":\"value\",\"value\":0.1},\"fill_color\":{\"type\":\"value\",\"value\":\"#30a2da\"},\"fill_alpha\":{\"type\":\"value\",\"value\":0.1},\"hatch_color\":{\"type\":\"value\",\"value\":\"#30a2da\"},\"hatch_alpha\":{\"type\":\"value\",\"value\":0.1}}},\"muted_glyph\":{\"type\":\"object\",\"name\":\"Quad\",\"id\":\"p1467\",\"attributes\":{\"tags\":[\"apply_ranges\"],\"left\":{\"type\":\"field\",\"field\":\"left\"},\"right\":{\"type\":\"field\",\"field\":\"right\"},\"bottom\":{\"type\":\"value\",\"value\":0},\"top\":{\"type\":\"field\",\"field\":\"top\"},\"line_alpha\":{\"type\":\"value\",\"value\":0.2},\"fill_color\":{\"type\":\"value\",\"value\":\"#30a2da\"},\"fill_alpha\":{\"type\":\"value\",\"value\":0.2},\"hatch_color\":{\"type\":\"value\",\"value\":\"#30a2da\"},\"hatch_alpha\":{\"type\":\"value\",\"value\":0.2}}}}}],\"toolbar\":{\"type\":\"object\",\"name\":\"Toolbar\",\"id\":\"p1437\",\"attributes\":{\"tools\":[{\"type\":\"object\",\"name\":\"WheelZoomTool\",\"id\":\"p1426\",\"attributes\":{\"tags\":[\"hv_created\"],\"renderers\":\"auto\",\"zoom_together\":\"none\"}},{\"type\":\"object\",\"name\":\"HoverTool\",\"id\":\"p1427\",\"attributes\":{\"tags\":[\"hv_created\"],\"renderers\":[{\"id\":\"p1468\"}],\"tooltips\":[[\"pt_d\",\"@{pt_d}\"],[\"Count\",\"@{pt_d_count}\"]]}},{\"type\":\"object\",\"name\":\"SaveTool\",\"id\":\"p1450\"},{\"type\":\"object\",\"name\":\"PanTool\",\"id\":\"p1451\"},{\"type\":\"object\",\"name\":\"BoxZoomTool\",\"id\":\"p1452\",\"attributes\":{\"overlay\":{\"type\":\"object\",\"name\":\"BoxAnnotation\",\"id\":\"p1453\",\"attributes\":{\"syncable\":false,\"level\":\"overlay\",\"visible\":false,\"left\":{\"type\":\"number\",\"value\":\"nan\"},\"right\":{\"type\":\"number\",\"value\":\"nan\"},\"top\":{\"type\":\"number\",\"value\":\"nan\"},\"bottom\":{\"type\":\"number\",\"value\":\"nan\"},\"left_units\":\"canvas\",\"right_units\":\"canvas\",\"top_units\":\"canvas\",\"bottom_units\":\"canvas\",\"line_color\":\"black\",\"line_alpha\":1.0,\"line_width\":2,\"line_dash\":[4,4],\"fill_color\":\"lightgrey\",\"fill_alpha\":0.5}}}},{\"type\":\"object\",\"name\":\"ResetTool\",\"id\":\"p1458\"}],\"active_drag\":{\"id\":\"p1451\"},\"active_scroll\":{\"id\":\"p1426\"}}},\"left\":[{\"type\":\"object\",\"name\":\"LinearAxis\",\"id\":\"p1445\",\"attributes\":{\"ticker\":{\"type\":\"object\",\"name\":\"BasicTicker\",\"id\":\"p1446\",\"attributes\":{\"mantissas\":[1,2,5]}},\"formatter\":{\"type\":\"object\",\"name\":\"BasicTickFormatter\",\"id\":\"p1447\"},\"axis_label\":\"\",\"major_label_policy\":{\"type\":\"object\",\"name\":\"AllLabels\",\"id\":\"p1448\"}}}],\"below\":[{\"type\":\"object\",\"name\":\"LinearAxis\",\"id\":\"p1440\",\"attributes\":{\"ticker\":{\"type\":\"object\",\"name\":\"BasicTicker\",\"id\":\"p1441\",\"attributes\":{\"mantissas\":[1,2,5]}},\"formatter\":{\"type\":\"object\",\"name\":\"BasicTickFormatter\",\"id\":\"p1442\"},\"axis_label\":\"pt_d\",\"major_label_policy\":{\"type\":\"object\",\"name\":\"AllLabels\",\"id\":\"p1443\"}}}],\"center\":[{\"type\":\"object\",\"name\":\"Grid\",\"id\":\"p1444\",\"attributes\":{\"axis\":{\"id\":\"p1440\"},\"grid_line_color\":null}},{\"type\":\"object\",\"name\":\"Grid\",\"id\":\"p1449\",\"attributes\":{\"dimension\":1,\"axis\":{\"id\":\"p1445\"},\"grid_line_color\":null}}],\"min_border_top\":10,\"min_border_bottom\":10,\"min_border_left\":10,\"min_border_right\":10,\"output_backend\":\"webgl\"}},{\"type\":\"object\",\"name\":\"Spacer\",\"id\":\"p1473\",\"attributes\":{\"name\":\"HSpacer01595\",\"stylesheets\":[\"\\n:host(.pn-loading):before, .pn-loading:before {\\n  background-color: #c3c3c3;\\n  mask-size: auto calc(min(50%, 400px));\\n  -webkit-mask-size: auto calc(min(50%, 400px));\\n}\",{\"id\":\"p1419\"},{\"id\":\"p1417\"},{\"id\":\"p1418\"}],\"margin\":0,\"sizing_mode\":\"stretch_width\",\"align\":\"start\"}}]}}],\"defs\":[{\"type\":\"model\",\"name\":\"ReactiveHTML1\"},{\"type\":\"model\",\"name\":\"FlexBox1\",\"properties\":[{\"name\":\"align_content\",\"kind\":\"Any\",\"default\":\"flex-start\"},{\"name\":\"align_items\",\"kind\":\"Any\",\"default\":\"flex-start\"},{\"name\":\"flex_direction\",\"kind\":\"Any\",\"default\":\"row\"},{\"name\":\"flex_wrap\",\"kind\":\"Any\",\"default\":\"wrap\"},{\"name\":\"gap\",\"kind\":\"Any\",\"default\":\"\"},{\"name\":\"justify_content\",\"kind\":\"Any\",\"default\":\"flex-start\"}]},{\"type\":\"model\",\"name\":\"FloatPanel1\",\"properties\":[{\"name\":\"config\",\"kind\":\"Any\",\"default\":{\"type\":\"map\"}},{\"name\":\"contained\",\"kind\":\"Any\",\"default\":true},{\"name\":\"position\",\"kind\":\"Any\",\"default\":\"right-top\"},{\"name\":\"offsetx\",\"kind\":\"Any\",\"default\":null},{\"name\":\"offsety\",\"kind\":\"Any\",\"default\":null},{\"name\":\"theme\",\"kind\":\"Any\",\"default\":\"primary\"},{\"name\":\"status\",\"kind\":\"Any\",\"default\":\"normalized\"}]},{\"type\":\"model\",\"name\":\"GridStack1\",\"properties\":[{\"name\":\"mode\",\"kind\":\"Any\",\"default\":\"warn\"},{\"name\":\"ncols\",\"kind\":\"Any\",\"default\":null},{\"name\":\"nrows\",\"kind\":\"Any\",\"default\":null},{\"name\":\"allow_resize\",\"kind\":\"Any\",\"default\":true},{\"name\":\"allow_drag\",\"kind\":\"Any\",\"default\":true},{\"name\":\"state\",\"kind\":\"Any\",\"default\":[]}]},{\"type\":\"model\",\"name\":\"drag1\",\"properties\":[{\"name\":\"slider_width\",\"kind\":\"Any\",\"default\":5},{\"name\":\"slider_color\",\"kind\":\"Any\",\"default\":\"black\"},{\"name\":\"value\",\"kind\":\"Any\",\"default\":50}]},{\"type\":\"model\",\"name\":\"click1\",\"properties\":[{\"name\":\"terminal_output\",\"kind\":\"Any\",\"default\":\"\"},{\"name\":\"debug_name\",\"kind\":\"Any\",\"default\":\"\"},{\"name\":\"clears\",\"kind\":\"Any\",\"default\":0}]},{\"type\":\"model\",\"name\":\"FastWrapper1\",\"properties\":[{\"name\":\"object\",\"kind\":\"Any\",\"default\":null},{\"name\":\"style\",\"kind\":\"Any\",\"default\":null}]},{\"type\":\"model\",\"name\":\"NotificationAreaBase1\",\"properties\":[{\"name\":\"js_events\",\"kind\":\"Any\",\"default\":{\"type\":\"map\"}},{\"name\":\"position\",\"kind\":\"Any\",\"default\":\"bottom-right\"},{\"name\":\"_clear\",\"kind\":\"Any\",\"default\":0}]},{\"type\":\"model\",\"name\":\"NotificationArea1\",\"properties\":[{\"name\":\"js_events\",\"kind\":\"Any\",\"default\":{\"type\":\"map\"}},{\"name\":\"notifications\",\"kind\":\"Any\",\"default\":[]},{\"name\":\"position\",\"kind\":\"Any\",\"default\":\"bottom-right\"},{\"name\":\"_clear\",\"kind\":\"Any\",\"default\":0},{\"name\":\"types\",\"kind\":\"Any\",\"default\":[{\"type\":\"map\",\"entries\":[[\"type\",\"warning\"],[\"background\",\"#ffc107\"],[\"icon\",{\"type\":\"map\",\"entries\":[[\"className\",\"fas fa-exclamation-triangle\"],[\"tagName\",\"i\"],[\"color\",\"white\"]]}]]},{\"type\":\"map\",\"entries\":[[\"type\",\"info\"],[\"background\",\"#007bff\"],[\"icon\",{\"type\":\"map\",\"entries\":[[\"className\",\"fas fa-info-circle\"],[\"tagName\",\"i\"],[\"color\",\"white\"]]}]]}]}]},{\"type\":\"model\",\"name\":\"Notification\",\"properties\":[{\"name\":\"background\",\"kind\":\"Any\",\"default\":null},{\"name\":\"duration\",\"kind\":\"Any\",\"default\":3000},{\"name\":\"icon\",\"kind\":\"Any\",\"default\":null},{\"name\":\"message\",\"kind\":\"Any\",\"default\":\"\"},{\"name\":\"notification_type\",\"kind\":\"Any\",\"default\":null},{\"name\":\"_destroyed\",\"kind\":\"Any\",\"default\":false}]},{\"type\":\"model\",\"name\":\"TemplateActions1\",\"properties\":[{\"name\":\"open_modal\",\"kind\":\"Any\",\"default\":0},{\"name\":\"close_modal\",\"kind\":\"Any\",\"default\":0}]},{\"type\":\"model\",\"name\":\"BootstrapTemplateActions1\",\"properties\":[{\"name\":\"open_modal\",\"kind\":\"Any\",\"default\":0},{\"name\":\"close_modal\",\"kind\":\"Any\",\"default\":0}]},{\"type\":\"model\",\"name\":\"TemplateEditor1\",\"properties\":[{\"name\":\"layout\",\"kind\":\"Any\",\"default\":[]}]},{\"type\":\"model\",\"name\":\"MaterialTemplateActions1\",\"properties\":[{\"name\":\"open_modal\",\"kind\":\"Any\",\"default\":0},{\"name\":\"close_modal\",\"kind\":\"Any\",\"default\":0}]},{\"type\":\"model\",\"name\":\"copy_to_clipboard1\",\"properties\":[{\"name\":\"fill\",\"kind\":\"Any\",\"default\":\"none\"},{\"name\":\"value\",\"kind\":\"Any\",\"default\":null}]}]}};\n",
       "  var render_items = [{\"docid\":\"7e0ded4a-03d4-4d6e-ad2b-3ce54dcbe688\",\"roots\":{\"p1416\":\"a3a6b732-1272-4659-b3f6-638cb7b05c3c\"},\"root_ids\":[\"p1416\"]}];\n",
       "  var docs = Object.values(docs_json)\n",
       "  if (!docs) {\n",
       "    return\n",
       "  }\n",
       "  const py_version = docs[0].version.replace('rc', '-rc.').replace('.dev', '-dev.')\n",
       "  async function embed_document(root) {\n",
       "    var Bokeh = get_bokeh(root)\n",
       "    await Bokeh.embed.embed_items_notebook(docs_json, render_items);\n",
       "    for (const render_item of render_items) {\n",
       "      for (const root_id of render_item.root_ids) {\n",
       "\tconst id_el = document.getElementById(root_id)\n",
       "\tif (id_el.children.length && id_el.children[0].hasAttribute('data-root-id')) {\n",
       "\t  const root_el = id_el.children[0]\n",
       "\t  root_el.id = root_el.id + '-rendered'\n",
       "\t  for (const child of root_el.children) {\n",
       "            // Ensure JupyterLab does not capture keyboard shortcuts\n",
       "            // see: https://jupyterlab.readthedocs.io/en/4.1.x/extension/notebook.html#keyboard-interaction-model\n",
       "\t    child.setAttribute('data-lm-suppress-shortcuts', 'true')\n",
       "\t  }\n",
       "\t}\n",
       "      }\n",
       "    }\n",
       "  }\n",
       "  function get_bokeh(root) {\n",
       "    if (root.Bokeh === undefined) {\n",
       "      return null\n",
       "    } else if (root.Bokeh.version !== py_version) {\n",
       "      if (root.Bokeh.versions === undefined || !root.Bokeh.versions.has(py_version)) {\n",
       "\treturn null\n",
       "      }\n",
       "      return root.Bokeh.versions.get(py_version);\n",
       "    } else if (root.Bokeh.version === py_version) {\n",
       "      return root.Bokeh\n",
       "    }\n",
       "    return null\n",
       "  }\n",
       "  function is_loaded(root) {\n",
       "    var Bokeh = get_bokeh(root)\n",
       "    return (Bokeh != null && Bokeh.Panel !== undefined)\n",
       "  }\n",
       "  if (is_loaded(root)) {\n",
       "    embed_document(root);\n",
       "  } else {\n",
       "    var attempts = 0;\n",
       "    var timer = setInterval(function(root) {\n",
       "      if (is_loaded(root)) {\n",
       "        clearInterval(timer);\n",
       "        embed_document(root);\n",
       "      } else if (document.readyState == \"complete\") {\n",
       "        attempts++;\n",
       "        if (attempts > 200) {\n",
       "          clearInterval(timer);\n",
       "\t  var Bokeh = get_bokeh(root)\n",
       "\t  if (Bokeh == null || Bokeh.Panel == null) {\n",
       "            console.warn(\"Panel: ERROR: Unable to run Panel code because Bokeh or Panel library is missing\");\n",
       "\t  } else {\n",
       "\t    console.warn(\"Panel: WARNING: Attempting to render but not all required libraries could be resolved.\")\n",
       "\t    embed_document(root)\n",
       "\t  }\n",
       "        }\n",
       "      }\n",
       "    }, 25, root)\n",
       "  }\n",
       "})(window);</script>"
      ],
      "text/plain": [
       ":Histogram   [pt_d]   (pt_d_count)"
      ]
     },
     "execution_count": 15,
     "metadata": {
      "application/vnd.holoviews_exec.v0+json": {
       "id": "p1416"
      }
     },
     "output_type": "execute_result"
    }
   ],
   "source": [
    "ad_data.select(pl.col(\"pt_d\").dt.hour()).collect().plot.hist(bins = 12)"
   ]
  },
  {
   "cell_type": "code",
   "execution_count": 16,
   "id": "c554aee0-23fe-4cb5-b313-661f7ac5fdac",
   "metadata": {},
   "outputs": [
    {
     "data": {},
     "metadata": {},
     "output_type": "display_data"
    },
    {
     "data": {
      "application/vnd.holoviews_exec.v0+json": "",
      "text/html": [
       "<div id='p1482'>\n",
       "  <div id=\"c0d304fa-7b2e-4096-a8a9-35091c35089e\" data-root-id=\"p1482\" style=\"display: contents;\"></div>\n",
       "</div>\n",
       "<script type=\"application/javascript\">(function(root) {\n",
       "  var docs_json = {\"d966c19c-bdae-4c5f-ad4c-f97289d08344\":{\"version\":\"3.4.2\",\"title\":\"Bokeh Application\",\"roots\":[{\"type\":\"object\",\"name\":\"Row\",\"id\":\"p1482\",\"attributes\":{\"name\":\"Row01695\",\"tags\":[\"embedded\"],\"stylesheets\":[\"\\n:host(.pn-loading):before, .pn-loading:before {\\n  background-color: #c3c3c3;\\n  mask-size: auto calc(min(50%, 400px));\\n  -webkit-mask-size: auto calc(min(50%, 400px));\\n}\",{\"type\":\"object\",\"name\":\"ImportedStyleSheet\",\"id\":\"p1485\",\"attributes\":{\"url\":\"https://cdn.holoviz.org/panel/1.4.4/dist/css/loading.css\"}},{\"type\":\"object\",\"name\":\"ImportedStyleSheet\",\"id\":\"p1541\",\"attributes\":{\"url\":\"https://cdn.holoviz.org/panel/1.4.4/dist/css/listpanel.css\"}},{\"type\":\"object\",\"name\":\"ImportedStyleSheet\",\"id\":\"p1483\",\"attributes\":{\"url\":\"https://cdn.holoviz.org/panel/1.4.4/dist/bundled/theme/default.css\"}},{\"type\":\"object\",\"name\":\"ImportedStyleSheet\",\"id\":\"p1484\",\"attributes\":{\"url\":\"https://cdn.holoviz.org/panel/1.4.4/dist/bundled/theme/native.css\"}}],\"min_width\":700,\"margin\":0,\"sizing_mode\":\"stretch_width\",\"align\":\"start\",\"children\":[{\"type\":\"object\",\"name\":\"Spacer\",\"id\":\"p1486\",\"attributes\":{\"name\":\"HSpacer01702\",\"stylesheets\":[\"\\n:host(.pn-loading):before, .pn-loading:before {\\n  background-color: #c3c3c3;\\n  mask-size: auto calc(min(50%, 400px));\\n  -webkit-mask-size: auto calc(min(50%, 400px));\\n}\",{\"id\":\"p1485\"},{\"id\":\"p1483\"},{\"id\":\"p1484\"}],\"margin\":0,\"sizing_mode\":\"stretch_width\",\"align\":\"start\"}},{\"type\":\"object\",\"name\":\"Figure\",\"id\":\"p1494\",\"attributes\":{\"width\":700,\"height\":300,\"margin\":[5,10],\"sizing_mode\":\"fixed\",\"align\":\"start\",\"x_range\":{\"type\":\"object\",\"name\":\"Range1d\",\"id\":\"p1487\",\"attributes\":{\"tags\":[[[\"e_et\",\"e_et\",null]],[]],\"start\":-0.9857142857142858,\"end\":23.985714285714288,\"reset_start\":-0.9857142857142858,\"reset_end\":23.985714285714288}},\"y_range\":{\"type\":\"object\",\"name\":\"Range1d\",\"id\":\"p1488\",\"attributes\":{\"tags\":[[[\"e_et_count\",\"Count\",null]],{\"type\":\"map\",\"entries\":[[\"invert_yaxis\",false],[\"autorange\",false]]}],\"end\":300570.0,\"reset_start\":0.0,\"reset_end\":300570.0}},\"x_scale\":{\"type\":\"object\",\"name\":\"LinearScale\",\"id\":\"p1504\"},\"y_scale\":{\"type\":\"object\",\"name\":\"LinearScale\",\"id\":\"p1505\"},\"title\":{\"type\":\"object\",\"name\":\"Title\",\"id\":\"p1497\",\"attributes\":{\"text_color\":\"black\",\"text_font_size\":\"12pt\"}},\"renderers\":[{\"type\":\"object\",\"name\":\"GlyphRenderer\",\"id\":\"p1534\",\"attributes\":{\"data_source\":{\"type\":\"object\",\"name\":\"ColumnDataSource\",\"id\":\"p1525\",\"attributes\":{\"selected\":{\"type\":\"object\",\"name\":\"Selection\",\"id\":\"p1526\",\"attributes\":{\"indices\":[],\"line_indices\":[]}},\"selection_policy\":{\"type\":\"object\",\"name\":\"UnionRenderers\",\"id\":\"p1527\"},\"data\":{\"type\":\"map\",\"entries\":[[\"top\",{\"type\":\"ndarray\",\"array\":{\"type\":\"bytes\",\"data\":\"Sm4BAJ+xAACBZgAAi1QAADZcAAAI0AAA1cABAGFTAgBORwIANfkBAOY3AgCsVQIAvoECAHgJAgBEDgIA4w0CAFdMAgDE4QIATy8CADpTAgBvoAIAUNUDAA0zBAAJVgMA\"},\"shape\":[24],\"dtype\":\"int32\",\"order\":\"little\"}],[\"left\",{\"type\":\"ndarray\",\"array\":{\"type\":\"bytes\",\"data\":\"AAAAAAAAAACrqqqqqqruP6uqqqqqqv4/AAAAAAAAB0CrqqqqqqoOQKuqqqqqKhNAAAAAAAAAF0BWVVVVVdUaQKuqqqqqqh5AAAAAAABAIUCrqqqqqiojQFZVVVVVFSVAAAAAAAAAJ0CrqqqqquooQFZVVVVV1SpAAAAAAADALECrqqqqqqouQKuqqqqqSjBAAAAAAABAMUBWVVVVVTUyQKuqqqqqKjNAAAAAAAAgNEBWVVVVVRU1QKuqqqqqCjZA\"},\"shape\":[24],\"dtype\":\"float64\",\"order\":\"little\"}],[\"right\",{\"type\":\"ndarray\",\"array\":{\"type\":\"bytes\",\"data\":\"q6qqqqqq7j+rqqqqqqr+PwAAAAAAAAdAq6qqqqqqDkCrqqqqqioTQAAAAAAAABdAVlVVVVXVGkCrqqqqqqoeQAAAAAAAQCFAq6qqqqoqI0BWVVVVVRUlQAAAAAAAACdAq6qqqqrqKEBWVVVVVdUqQAAAAAAAwCxAq6qqqqqqLkCrqqqqqkowQAAAAAAAQDFAVlVVVVU1MkCrqqqqqiozQAAAAAAAIDRAVlVVVVUVNUCrqqqqqgo2QAAAAAAAADdA\"},\"shape\":[24],\"dtype\":\"float64\",\"order\":\"little\"}],[\"e_et\",{\"type\":\"ndarray\",\"array\":{\"type\":\"bytes\",\"data\":\"q6qqqqqq3j8AAAAAAAD3P6uqqqqqKgNAVlVVVVXVCkAAAAAAAEARQFZVVVVVFRVAq6qqqqrqGEAAAAAAAMAcQKuqqqqqSiBAVlVVVVU1IkAAAAAAACAkQKuqqqqqCiZAVlVVVVX1J0AAAAAAAOApQKuqqqqqyitAVlVVVVW1LUAAAAAAAKAvQFZVVVVVxTBAq6qqqqq6MUAAAAAAALAyQFZVVVVVpTNAq6qqqqqaNEAAAAAAAJA1QFZVVVVVhTZA\"},\"shape\":[24],\"dtype\":\"float64\",\"order\":\"little\"}],[\"e_et_count\",{\"type\":\"ndarray\",\"array\":{\"type\":\"bytes\",\"data\":\"Sm4BAJ+xAACBZgAAi1QAADZcAAAI0AAA1cABAGFTAgBORwIANfkBAOY3AgCsVQIAvoECAHgJAgBEDgIA4w0CAFdMAgDE4QIATy8CADpTAgBvoAIAUNUDAA0zBAAJVgMA\"},\"shape\":[24],\"dtype\":\"int32\",\"order\":\"little\"}]]}}},\"view\":{\"type\":\"object\",\"name\":\"CDSView\",\"id\":\"p1535\",\"attributes\":{\"filter\":{\"type\":\"object\",\"name\":\"AllIndices\",\"id\":\"p1536\"}}},\"glyph\":{\"type\":\"object\",\"name\":\"Quad\",\"id\":\"p1531\",\"attributes\":{\"tags\":[\"apply_ranges\"],\"left\":{\"type\":\"field\",\"field\":\"left\"},\"right\":{\"type\":\"field\",\"field\":\"right\"},\"bottom\":{\"type\":\"value\",\"value\":0},\"top\":{\"type\":\"field\",\"field\":\"top\"},\"fill_color\":{\"type\":\"value\",\"value\":\"#30a2da\"},\"hatch_color\":{\"type\":\"value\",\"value\":\"#30a2da\"}}},\"selection_glyph\":{\"type\":\"object\",\"name\":\"Quad\",\"id\":\"p1537\",\"attributes\":{\"tags\":[\"apply_ranges\"],\"left\":{\"type\":\"field\",\"field\":\"left\"},\"right\":{\"type\":\"field\",\"field\":\"right\"},\"bottom\":{\"type\":\"value\",\"value\":0},\"top\":{\"type\":\"field\",\"field\":\"top\"},\"line_color\":{\"type\":\"value\",\"value\":\"black\"},\"line_alpha\":{\"type\":\"value\",\"value\":1.0},\"line_width\":{\"type\":\"value\",\"value\":1},\"line_join\":{\"type\":\"value\",\"value\":\"bevel\"},\"line_cap\":{\"type\":\"value\",\"value\":\"butt\"},\"line_dash\":{\"type\":\"value\",\"value\":[]},\"line_dash_offset\":{\"type\":\"value\",\"value\":0},\"fill_color\":{\"type\":\"value\",\"value\":\"#30a2da\"},\"fill_alpha\":{\"type\":\"value\",\"value\":1.0},\"hatch_color\":{\"type\":\"value\",\"value\":\"#30a2da\"},\"hatch_alpha\":{\"type\":\"value\",\"value\":1.0},\"hatch_scale\":{\"type\":\"value\",\"value\":12.0},\"hatch_pattern\":{\"type\":\"value\",\"value\":null},\"hatch_weight\":{\"type\":\"value\",\"value\":1.0}}},\"nonselection_glyph\":{\"type\":\"object\",\"name\":\"Quad\",\"id\":\"p1532\",\"attributes\":{\"tags\":[\"apply_ranges\"],\"left\":{\"type\":\"field\",\"field\":\"left\"},\"right\":{\"type\":\"field\",\"field\":\"right\"},\"bottom\":{\"type\":\"value\",\"value\":0},\"top\":{\"type\":\"field\",\"field\":\"top\"},\"line_alpha\":{\"type\":\"value\",\"value\":0.1},\"fill_color\":{\"type\":\"value\",\"value\":\"#30a2da\"},\"fill_alpha\":{\"type\":\"value\",\"value\":0.1},\"hatch_color\":{\"type\":\"value\",\"value\":\"#30a2da\"},\"hatch_alpha\":{\"type\":\"value\",\"value\":0.1}}},\"muted_glyph\":{\"type\":\"object\",\"name\":\"Quad\",\"id\":\"p1533\",\"attributes\":{\"tags\":[\"apply_ranges\"],\"left\":{\"type\":\"field\",\"field\":\"left\"},\"right\":{\"type\":\"field\",\"field\":\"right\"},\"bottom\":{\"type\":\"value\",\"value\":0},\"top\":{\"type\":\"field\",\"field\":\"top\"},\"line_alpha\":{\"type\":\"value\",\"value\":0.2},\"fill_color\":{\"type\":\"value\",\"value\":\"#30a2da\"},\"fill_alpha\":{\"type\":\"value\",\"value\":0.2},\"hatch_color\":{\"type\":\"value\",\"value\":\"#30a2da\"},\"hatch_alpha\":{\"type\":\"value\",\"value\":0.2}}}}}],\"toolbar\":{\"type\":\"object\",\"name\":\"Toolbar\",\"id\":\"p1503\",\"attributes\":{\"tools\":[{\"type\":\"object\",\"name\":\"WheelZoomTool\",\"id\":\"p1492\",\"attributes\":{\"tags\":[\"hv_created\"],\"renderers\":\"auto\",\"zoom_together\":\"none\"}},{\"type\":\"object\",\"name\":\"HoverTool\",\"id\":\"p1493\",\"attributes\":{\"tags\":[\"hv_created\"],\"renderers\":[{\"id\":\"p1534\"}],\"tooltips\":[[\"e_et\",\"@{e_et}\"],[\"Count\",\"@{e_et_count}\"]]}},{\"type\":\"object\",\"name\":\"SaveTool\",\"id\":\"p1516\"},{\"type\":\"object\",\"name\":\"PanTool\",\"id\":\"p1517\"},{\"type\":\"object\",\"name\":\"BoxZoomTool\",\"id\":\"p1518\",\"attributes\":{\"overlay\":{\"type\":\"object\",\"name\":\"BoxAnnotation\",\"id\":\"p1519\",\"attributes\":{\"syncable\":false,\"level\":\"overlay\",\"visible\":false,\"left\":{\"type\":\"number\",\"value\":\"nan\"},\"right\":{\"type\":\"number\",\"value\":\"nan\"},\"top\":{\"type\":\"number\",\"value\":\"nan\"},\"bottom\":{\"type\":\"number\",\"value\":\"nan\"},\"left_units\":\"canvas\",\"right_units\":\"canvas\",\"top_units\":\"canvas\",\"bottom_units\":\"canvas\",\"line_color\":\"black\",\"line_alpha\":1.0,\"line_width\":2,\"line_dash\":[4,4],\"fill_color\":\"lightgrey\",\"fill_alpha\":0.5}}}},{\"type\":\"object\",\"name\":\"ResetTool\",\"id\":\"p1524\"}],\"active_drag\":{\"id\":\"p1517\"},\"active_scroll\":{\"id\":\"p1492\"}}},\"left\":[{\"type\":\"object\",\"name\":\"LinearAxis\",\"id\":\"p1511\",\"attributes\":{\"ticker\":{\"type\":\"object\",\"name\":\"BasicTicker\",\"id\":\"p1512\",\"attributes\":{\"mantissas\":[1,2,5]}},\"formatter\":{\"type\":\"object\",\"name\":\"BasicTickFormatter\",\"id\":\"p1513\"},\"axis_label\":\"\",\"major_label_policy\":{\"type\":\"object\",\"name\":\"AllLabels\",\"id\":\"p1514\"}}}],\"below\":[{\"type\":\"object\",\"name\":\"LinearAxis\",\"id\":\"p1506\",\"attributes\":{\"ticker\":{\"type\":\"object\",\"name\":\"BasicTicker\",\"id\":\"p1507\",\"attributes\":{\"mantissas\":[1,2,5]}},\"formatter\":{\"type\":\"object\",\"name\":\"BasicTickFormatter\",\"id\":\"p1508\"},\"axis_label\":\"e_et\",\"major_label_policy\":{\"type\":\"object\",\"name\":\"AllLabels\",\"id\":\"p1509\"}}}],\"center\":[{\"type\":\"object\",\"name\":\"Grid\",\"id\":\"p1510\",\"attributes\":{\"axis\":{\"id\":\"p1506\"},\"grid_line_color\":null}},{\"type\":\"object\",\"name\":\"Grid\",\"id\":\"p1515\",\"attributes\":{\"dimension\":1,\"axis\":{\"id\":\"p1511\"},\"grid_line_color\":null}}],\"min_border_top\":10,\"min_border_bottom\":10,\"min_border_left\":10,\"min_border_right\":10,\"output_backend\":\"webgl\"}},{\"type\":\"object\",\"name\":\"Spacer\",\"id\":\"p1539\",\"attributes\":{\"name\":\"HSpacer01703\",\"stylesheets\":[\"\\n:host(.pn-loading):before, .pn-loading:before {\\n  background-color: #c3c3c3;\\n  mask-size: auto calc(min(50%, 400px));\\n  -webkit-mask-size: auto calc(min(50%, 400px));\\n}\",{\"id\":\"p1485\"},{\"id\":\"p1483\"},{\"id\":\"p1484\"}],\"margin\":0,\"sizing_mode\":\"stretch_width\",\"align\":\"start\"}}]}}],\"defs\":[{\"type\":\"model\",\"name\":\"ReactiveHTML1\"},{\"type\":\"model\",\"name\":\"FlexBox1\",\"properties\":[{\"name\":\"align_content\",\"kind\":\"Any\",\"default\":\"flex-start\"},{\"name\":\"align_items\",\"kind\":\"Any\",\"default\":\"flex-start\"},{\"name\":\"flex_direction\",\"kind\":\"Any\",\"default\":\"row\"},{\"name\":\"flex_wrap\",\"kind\":\"Any\",\"default\":\"wrap\"},{\"name\":\"gap\",\"kind\":\"Any\",\"default\":\"\"},{\"name\":\"justify_content\",\"kind\":\"Any\",\"default\":\"flex-start\"}]},{\"type\":\"model\",\"name\":\"FloatPanel1\",\"properties\":[{\"name\":\"config\",\"kind\":\"Any\",\"default\":{\"type\":\"map\"}},{\"name\":\"contained\",\"kind\":\"Any\",\"default\":true},{\"name\":\"position\",\"kind\":\"Any\",\"default\":\"right-top\"},{\"name\":\"offsetx\",\"kind\":\"Any\",\"default\":null},{\"name\":\"offsety\",\"kind\":\"Any\",\"default\":null},{\"name\":\"theme\",\"kind\":\"Any\",\"default\":\"primary\"},{\"name\":\"status\",\"kind\":\"Any\",\"default\":\"normalized\"}]},{\"type\":\"model\",\"name\":\"GridStack1\",\"properties\":[{\"name\":\"mode\",\"kind\":\"Any\",\"default\":\"warn\"},{\"name\":\"ncols\",\"kind\":\"Any\",\"default\":null},{\"name\":\"nrows\",\"kind\":\"Any\",\"default\":null},{\"name\":\"allow_resize\",\"kind\":\"Any\",\"default\":true},{\"name\":\"allow_drag\",\"kind\":\"Any\",\"default\":true},{\"name\":\"state\",\"kind\":\"Any\",\"default\":[]}]},{\"type\":\"model\",\"name\":\"drag1\",\"properties\":[{\"name\":\"slider_width\",\"kind\":\"Any\",\"default\":5},{\"name\":\"slider_color\",\"kind\":\"Any\",\"default\":\"black\"},{\"name\":\"value\",\"kind\":\"Any\",\"default\":50}]},{\"type\":\"model\",\"name\":\"click1\",\"properties\":[{\"name\":\"terminal_output\",\"kind\":\"Any\",\"default\":\"\"},{\"name\":\"debug_name\",\"kind\":\"Any\",\"default\":\"\"},{\"name\":\"clears\",\"kind\":\"Any\",\"default\":0}]},{\"type\":\"model\",\"name\":\"FastWrapper1\",\"properties\":[{\"name\":\"object\",\"kind\":\"Any\",\"default\":null},{\"name\":\"style\",\"kind\":\"Any\",\"default\":null}]},{\"type\":\"model\",\"name\":\"NotificationAreaBase1\",\"properties\":[{\"name\":\"js_events\",\"kind\":\"Any\",\"default\":{\"type\":\"map\"}},{\"name\":\"position\",\"kind\":\"Any\",\"default\":\"bottom-right\"},{\"name\":\"_clear\",\"kind\":\"Any\",\"default\":0}]},{\"type\":\"model\",\"name\":\"NotificationArea1\",\"properties\":[{\"name\":\"js_events\",\"kind\":\"Any\",\"default\":{\"type\":\"map\"}},{\"name\":\"notifications\",\"kind\":\"Any\",\"default\":[]},{\"name\":\"position\",\"kind\":\"Any\",\"default\":\"bottom-right\"},{\"name\":\"_clear\",\"kind\":\"Any\",\"default\":0},{\"name\":\"types\",\"kind\":\"Any\",\"default\":[{\"type\":\"map\",\"entries\":[[\"type\",\"warning\"],[\"background\",\"#ffc107\"],[\"icon\",{\"type\":\"map\",\"entries\":[[\"className\",\"fas fa-exclamation-triangle\"],[\"tagName\",\"i\"],[\"color\",\"white\"]]}]]},{\"type\":\"map\",\"entries\":[[\"type\",\"info\"],[\"background\",\"#007bff\"],[\"icon\",{\"type\":\"map\",\"entries\":[[\"className\",\"fas fa-info-circle\"],[\"tagName\",\"i\"],[\"color\",\"white\"]]}]]}]}]},{\"type\":\"model\",\"name\":\"Notification\",\"properties\":[{\"name\":\"background\",\"kind\":\"Any\",\"default\":null},{\"name\":\"duration\",\"kind\":\"Any\",\"default\":3000},{\"name\":\"icon\",\"kind\":\"Any\",\"default\":null},{\"name\":\"message\",\"kind\":\"Any\",\"default\":\"\"},{\"name\":\"notification_type\",\"kind\":\"Any\",\"default\":null},{\"name\":\"_destroyed\",\"kind\":\"Any\",\"default\":false}]},{\"type\":\"model\",\"name\":\"TemplateActions1\",\"properties\":[{\"name\":\"open_modal\",\"kind\":\"Any\",\"default\":0},{\"name\":\"close_modal\",\"kind\":\"Any\",\"default\":0}]},{\"type\":\"model\",\"name\":\"BootstrapTemplateActions1\",\"properties\":[{\"name\":\"open_modal\",\"kind\":\"Any\",\"default\":0},{\"name\":\"close_modal\",\"kind\":\"Any\",\"default\":0}]},{\"type\":\"model\",\"name\":\"TemplateEditor1\",\"properties\":[{\"name\":\"layout\",\"kind\":\"Any\",\"default\":[]}]},{\"type\":\"model\",\"name\":\"MaterialTemplateActions1\",\"properties\":[{\"name\":\"open_modal\",\"kind\":\"Any\",\"default\":0},{\"name\":\"close_modal\",\"kind\":\"Any\",\"default\":0}]},{\"type\":\"model\",\"name\":\"copy_to_clipboard1\",\"properties\":[{\"name\":\"fill\",\"kind\":\"Any\",\"default\":\"none\"},{\"name\":\"value\",\"kind\":\"Any\",\"default\":null}]}]}};\n",
       "  var render_items = [{\"docid\":\"d966c19c-bdae-4c5f-ad4c-f97289d08344\",\"roots\":{\"p1482\":\"c0d304fa-7b2e-4096-a8a9-35091c35089e\"},\"root_ids\":[\"p1482\"]}];\n",
       "  var docs = Object.values(docs_json)\n",
       "  if (!docs) {\n",
       "    return\n",
       "  }\n",
       "  const py_version = docs[0].version.replace('rc', '-rc.').replace('.dev', '-dev.')\n",
       "  async function embed_document(root) {\n",
       "    var Bokeh = get_bokeh(root)\n",
       "    await Bokeh.embed.embed_items_notebook(docs_json, render_items);\n",
       "    for (const render_item of render_items) {\n",
       "      for (const root_id of render_item.root_ids) {\n",
       "\tconst id_el = document.getElementById(root_id)\n",
       "\tif (id_el.children.length && id_el.children[0].hasAttribute('data-root-id')) {\n",
       "\t  const root_el = id_el.children[0]\n",
       "\t  root_el.id = root_el.id + '-rendered'\n",
       "\t  for (const child of root_el.children) {\n",
       "            // Ensure JupyterLab does not capture keyboard shortcuts\n",
       "            // see: https://jupyterlab.readthedocs.io/en/4.1.x/extension/notebook.html#keyboard-interaction-model\n",
       "\t    child.setAttribute('data-lm-suppress-shortcuts', 'true')\n",
       "\t  }\n",
       "\t}\n",
       "      }\n",
       "    }\n",
       "  }\n",
       "  function get_bokeh(root) {\n",
       "    if (root.Bokeh === undefined) {\n",
       "      return null\n",
       "    } else if (root.Bokeh.version !== py_version) {\n",
       "      if (root.Bokeh.versions === undefined || !root.Bokeh.versions.has(py_version)) {\n",
       "\treturn null\n",
       "      }\n",
       "      return root.Bokeh.versions.get(py_version);\n",
       "    } else if (root.Bokeh.version === py_version) {\n",
       "      return root.Bokeh\n",
       "    }\n",
       "    return null\n",
       "  }\n",
       "  function is_loaded(root) {\n",
       "    var Bokeh = get_bokeh(root)\n",
       "    return (Bokeh != null && Bokeh.Panel !== undefined)\n",
       "  }\n",
       "  if (is_loaded(root)) {\n",
       "    embed_document(root);\n",
       "  } else {\n",
       "    var attempts = 0;\n",
       "    var timer = setInterval(function(root) {\n",
       "      if (is_loaded(root)) {\n",
       "        clearInterval(timer);\n",
       "        embed_document(root);\n",
       "      } else if (document.readyState == \"complete\") {\n",
       "        attempts++;\n",
       "        if (attempts > 200) {\n",
       "          clearInterval(timer);\n",
       "\t  var Bokeh = get_bokeh(root)\n",
       "\t  if (Bokeh == null || Bokeh.Panel == null) {\n",
       "            console.warn(\"Panel: ERROR: Unable to run Panel code because Bokeh or Panel library is missing\");\n",
       "\t  } else {\n",
       "\t    console.warn(\"Panel: WARNING: Attempting to render but not all required libraries could be resolved.\")\n",
       "\t    embed_document(root)\n",
       "\t  }\n",
       "        }\n",
       "      }\n",
       "    }, 25, root)\n",
       "  }\n",
       "})(window);</script>"
      ],
      "text/plain": [
       ":Histogram   [e_et]   (e_et_count)"
      ]
     },
     "execution_count": 16,
     "metadata": {
      "application/vnd.holoviews_exec.v0+json": {
       "id": "p1482"
      }
     },
     "output_type": "execute_result"
    }
   ],
   "source": [
    "feed_data.select(pl.col(\"e_et\").dt.hour()).collect().plot.hist(bins = 24)"
   ]
  },
  {
   "cell_type": "markdown",
   "id": "071786e2-6751-4fe7-aa67-9a0a067b7d54",
   "metadata": {},
   "source": [
    "## Data Generation using SDV\n",
    "SDV uses Pandas, which does not support list elements, so we must format the data for use."
   ]
  },
  {
   "cell_type": "code",
   "execution_count": 11,
   "id": "2e436d33-57ac-482f-a0d6-33f85ff106ce",
   "metadata": {},
   "outputs": [],
   "source": [
    "# SDV uses Pandas, which does not support list elements, so we create separat\n",
    "ad_pd_compat = ad_data_orig.with_columns([\n",
    "    pl.col(\"pt_d\").cast(pl.String).str.to_datetime(\"%Y%m%d%H%M\"),\n",
    "])\n",
    "feed_pd_compat = feed_data_orig.rename({\n",
    "    \"u_userId\": \"user_id\"\n",
    "}).with_columns(\n",
    "    pl.col(\"e_et\").cast(pl.String).str.to_datetime(\"%Y%m%d%H%M\"),\n",
    "    pl.col(\"user_id\").is_in(ad_user_ids.collect()).alias(\"in_ads\"),\n",
    ")"
   ]
  },
  {
   "cell_type": "code",
   "execution_count": 18,
   "id": "e363c6ba-11c2-44c3-98c7-78e71d7774d1",
   "metadata": {},
   "outputs": [
    {
     "data": {
      "text/plain": [
       "{\n",
       "    \"columns\": {\n",
       "        \"user_id\": {\n",
       "            \"sdtype\": \"numerical\"\n",
       "        },\n",
       "        \"u_phonePrice\": {\n",
       "            \"sdtype\": \"categorical\"\n",
       "        },\n",
       "        \"u_browserLifeCycle\": {\n",
       "            \"sdtype\": \"categorical\"\n",
       "        },\n",
       "        \"u_browserMode\": {\n",
       "            \"sdtype\": \"categorical\"\n",
       "        },\n",
       "        \"u_feedLifeCycle\": {\n",
       "            \"sdtype\": \"categorical\"\n",
       "        },\n",
       "        \"u_refreshTimes\": {\n",
       "            \"sdtype\": \"categorical\"\n",
       "        },\n",
       "        \"u_newsCatInterests\": {\n",
       "            \"sdtype\": \"categorical\"\n",
       "        },\n",
       "        \"u_newsCatDislike\": {\n",
       "            \"sdtype\": \"categorical\"\n",
       "        },\n",
       "        \"u_newsCatInterestsST\": {\n",
       "            \"sdtype\": \"categorical\"\n",
       "        },\n",
       "        \"u_click_ca2_news\": {\n",
       "            \"sdtype\": \"unknown\",\n",
       "            \"pii\": true\n",
       "        },\n",
       "        \"i_docId\": {\n",
       "            \"sdtype\": \"categorical\"\n",
       "        },\n",
       "        \"i_s_sourceId\": {\n",
       "            \"sdtype\": \"categorical\"\n",
       "        },\n",
       "        \"i_regionEntity\": {\n",
       "            \"sdtype\": \"numerical\"\n",
       "        },\n",
       "        \"i_cat\": {\n",
       "            \"sdtype\": \"numerical\"\n",
       "        },\n",
       "        \"i_entities\": {\n",
       "            \"sdtype\": \"categorical\"\n",
       "        },\n",
       "        \"i_dislikeTimes\": {\n",
       "            \"sdtype\": \"categorical\"\n",
       "        },\n",
       "        \"i_upTimes\": {\n",
       "            \"sdtype\": \"categorical\"\n",
       "        },\n",
       "        \"i_dtype\": {\n",
       "            \"sdtype\": \"categorical\"\n",
       "        },\n",
       "        \"e_ch\": {\n",
       "            \"sdtype\": \"numerical\"\n",
       "        },\n",
       "        \"e_m\": {\n",
       "            \"sdtype\": \"numerical\"\n",
       "        },\n",
       "        \"e_po\": {\n",
       "            \"sdtype\": \"numerical\"\n",
       "        },\n",
       "        \"e_pl\": {\n",
       "            \"sdtype\": \"numerical\"\n",
       "        },\n",
       "        \"e_rn\": {\n",
       "            \"sdtype\": \"numerical\"\n",
       "        },\n",
       "        \"e_section\": {\n",
       "            \"sdtype\": \"categorical\"\n",
       "        },\n",
       "        \"e_et\": {\n",
       "            \"sdtype\": \"datetime\"\n",
       "        },\n",
       "        \"label\": {\n",
       "            \"sdtype\": \"numerical\"\n",
       "        },\n",
       "        \"cillabel\": {\n",
       "            \"sdtype\": \"numerical\"\n",
       "        },\n",
       "        \"pro\": {\n",
       "            \"sdtype\": \"numerical\"\n",
       "        },\n",
       "        \"in_ads\": {\n",
       "            \"sdtype\": \"categorical\"\n",
       "        }\n",
       "    },\n",
       "    \"METADATA_SPEC_VERSION\": \"SINGLE_TABLE_V1\"\n",
       "}"
      ]
     },
     "execution_count": 18,
     "metadata": {},
     "output_type": "execute_result"
    }
   ],
   "source": [
    "feed_meta = SingleTableMetadata()\n",
    "# We know the data is already obfuscated, so we don't want to detect PII. Unfortunately, it doesn't look like\n",
    "# SDV provides an option to do this, so we will need to update it manually.\n",
    "# Using the whole dataset seems to reduce the number of columns detected as PII.\n",
    "feed_meta.detect_from_dataframe(feed_pd_compat.collect().to_pandas())\n",
    "feed_meta"
   ]
  },
  {
   "cell_type": "markdown",
   "id": "56508a06-719d-43cb-81c9-01c5794b2272",
   "metadata": {},
   "source": [
    "We can update columns if needed; SDV has detected PII, but these columns are already obfuscated, so we change the synthesizer metadata"
   ]
  },
  {
   "cell_type": "code",
   "execution_count": 19,
   "id": "30c9fe13-1889-4549-ba92-09d1b6867947",
   "metadata": {},
   "outputs": [],
   "source": [
    "feed_meta.update_column(\n",
    "    column_name = \"u_click_ca2_news\",\n",
    "    sdtype = \"categorical\",\n",
    ")"
   ]
  },
  {
   "cell_type": "code",
   "execution_count": 20,
   "id": "cea0bf86-2291-453b-9c8a-c9add35ee858",
   "metadata": {},
   "outputs": [
    {
     "name": "stderr",
     "output_type": "stream",
     "text": [
      "/home/sygio/Documents/work/ucla-hack/modeling/.venv/lib/python3.12/site-packages/sdv/single_table/base.py:84: UserWarning: We strongly recommend saving the metadata using 'save_to_json' for replicability in future SDV versions.\n",
      "  warnings.warn(\n"
     ]
    }
   ],
   "source": [
    "feed_synth = GaussianCopulaSynthesizer(feed_meta)"
   ]
  },
  {
   "cell_type": "markdown",
   "id": "b6aa66a8-8a44-4c5e-bb77-d230f29d2ba9",
   "metadata": {},
   "source": [
    "We take subset to improve training speed (though `GaussianCopulaSynthesizer` is decently fast, so this may not be necessary depending on your hardware). We can randomly sample to hopefully get more representative results. The following code might load the whole dataset into memory; it is possible to load only the first 10000 rows into memory if those rows can represent the dataset (using `Lazyframe.fetch`)."
   ]
  },
  {
   "cell_type": "code",
   "execution_count": 21,
   "id": "accf0c27-e0ac-4b9f-b57c-97ee8178348e",
   "metadata": {},
   "outputs": [],
   "source": [
    "feed_synth.fit(feed_pd_compat.collect().sample(10000).to_pandas())"
   ]
  },
  {
   "cell_type": "code",
   "execution_count": 22,
   "id": "cda82fb8-9f24-442a-9ec9-807a72d76e20",
   "metadata": {},
   "outputs": [
    {
     "data": {
      "text/html": [
       "<div><style>\n",
       ".dataframe > thead > tr,\n",
       ".dataframe > tbody > tr {\n",
       "  text-align: right;\n",
       "  white-space: pre-wrap;\n",
       "}\n",
       "</style>\n",
       "<small>shape: (10, 29)</small><table border=\"1\" class=\"dataframe\"><thead><tr><th>user_id</th><th>u_phonePrice</th><th>u_browserLifeCycle</th><th>u_browserMode</th><th>u_feedLifeCycle</th><th>u_refreshTimes</th><th>u_newsCatInterests</th><th>u_newsCatDislike</th><th>u_newsCatInterestsST</th><th>u_click_ca2_news</th><th>i_docId</th><th>i_s_sourceId</th><th>i_regionEntity</th><th>i_cat</th><th>i_entities</th><th>i_dislikeTimes</th><th>i_upTimes</th><th>i_dtype</th><th>e_ch</th><th>e_m</th><th>e_po</th><th>e_pl</th><th>e_rn</th><th>e_section</th><th>e_et</th><th>label</th><th>cillabel</th><th>pro</th><th>in_ads</th></tr><tr><td>i64</td><td>i64</td><td>i64</td><td>i64</td><td>i64</td><td>i64</td><td>str</td><td>str</td><td>str</td><td>str</td><td>str</td><td>str</td><td>i64</td><td>i64</td><td>str</td><td>i64</td><td>i64</td><td>i64</td><td>i64</td><td>i64</td><td>i64</td><td>i64</td><td>i64</td><td>i64</td><td>datetime[μs]</td><td>i64</td><td>i64</td><td>i64</td><td>bool</td></tr></thead><tbody><tr><td>158700</td><td>14</td><td>17</td><td>13</td><td>17</td><td>5</td><td>&quot;78^98^98^57^57&quot;</td><td>&quot;0&quot;</td><td>&quot;171^21^78^51^98&quot;</td><td>&quot;171^153^98^216^195&quot;</td><td>&quot;3020db6ee8cd6331e52f8081e5efa6…</td><td>&quot;8bfd032b50b89d2eaa8c957052a757…</td><td>1695</td><td>64</td><td>&quot;e3b1314a2ae95a105725ffa84f92f2…</td><td>1</td><td>9</td><td>13</td><td>18</td><td>120</td><td>8</td><td>1822</td><td>1</td><td>1</td><td>1970-01-20 03:38:56</td><td>-1</td><td>-1</td><td>100</td><td>false</td></tr><tr><td>181857</td><td>10</td><td>17</td><td>13</td><td>17</td><td>9</td><td>&quot;74^98&quot;</td><td>&quot;0&quot;</td><td>&quot;98^112^51^207^117&quot;</td><td>&quot;0^10^216^94^112&quot;</td><td>&quot;49a4586cc124c8252e863d362b21bb…</td><td>&quot;1eba881ea576fc05dfe457dd2111cd…</td><td>2034</td><td>195</td><td>&quot;51e1a695bb06c480d5bef47de3a869…</td><td>4</td><td>0</td><td>11</td><td>20</td><td>602</td><td>13</td><td>2670</td><td>1</td><td>0</td><td>1970-01-20 03:31:51</td><td>-1</td><td>-1</td><td>100</td><td>false</td></tr><tr><td>199740</td><td>14</td><td>17</td><td>14</td><td>17</td><td>6</td><td>&quot;203^109^152^104^168&quot;</td><td>&quot;0&quot;</td><td>&quot;78^112^98^98^213&quot;</td><td>&quot;112^98^10^164^57&quot;</td><td>&quot;b4a40e02c95f3795b7bc1edcffa1d6…</td><td>&quot;c4d3ed25402e08c1d3633c806bc098…</td><td>2495</td><td>214</td><td>&quot;1537a370b86025a9e52a6b32a76656…</td><td>0</td><td>3</td><td>13</td><td>20</td><td>1101</td><td>16</td><td>2327</td><td>1</td><td>0</td><td>1970-01-20 03:40:02</td><td>-1</td><td>-1</td><td>100</td><td>true</td></tr><tr><td>169532</td><td>16</td><td>16</td><td>11</td><td>17</td><td>0</td><td>&quot;140^213&quot;</td><td>&quot;0&quot;</td><td>&quot;0&quot;</td><td>&quot;216^100^171^98^169&quot;</td><td>&quot;e17514342b9d294cdfd97884fb76c9…</td><td>&quot;0c7b8bcc1e8278af017da03e410f0d…</td><td>1530</td><td>23</td><td>&quot;c925f8d1326efea261e7e292ddc453…</td><td>1</td><td>3</td><td>11</td><td>19</td><td>159</td><td>14</td><td>2182</td><td>1</td><td>1</td><td>1970-01-20 03:37:08</td><td>-1</td><td>-1</td><td>99</td><td>false</td></tr><tr><td>160127</td><td>10</td><td>17</td><td>13</td><td>17</td><td>6</td><td>&quot;168^203^65^199^173&quot;</td><td>&quot;0&quot;</td><td>&quot;219^220^155^205^168&quot;</td><td>&quot;219^108^205^57^25&quot;</td><td>&quot;a377752d9f1a08453739b0c56b7344…</td><td>&quot;0dea855e6e3ebbd683a009da861558…</td><td>1552</td><td>102</td><td>&quot;f1a9fbb5e072e0bb8ffa59246e05f6…</td><td>0</td><td>7</td><td>12</td><td>20</td><td>997</td><td>5</td><td>186</td><td>1</td><td>0</td><td>1970-01-20 03:32:38</td><td>1</td><td>-1</td><td>100</td><td>true</td></tr><tr><td>117059</td><td>14</td><td>17</td><td>13</td><td>17</td><td>8</td><td>&quot;98^112^143^143^143&quot;</td><td>&quot;0&quot;</td><td>&quot;46^218^168^112^219&quot;</td><td>&quot;74^98^112^8^38&quot;</td><td>&quot;c27f20f844ad75119917db632b9049…</td><td>&quot;9e5226ef81bf205dfe0ceefd6b7124…</td><td>2838</td><td>3</td><td>&quot;7bc67f015cce5cf71f8a74d6d18ff1…</td><td>5</td><td>3</td><td>13</td><td>18</td><td>191</td><td>3</td><td>949</td><td>1</td><td>0</td><td>1970-01-20 03:31:09</td><td>-1</td><td>-1</td><td>97</td><td>true</td></tr><tr><td>181402</td><td>11</td><td>17</td><td>14</td><td>17</td><td>7</td><td>&quot;168^203^49^78^0&quot;</td><td>&quot;0&quot;</td><td>&quot;173^114^167^65^50&quot;</td><td>&quot;0^39^16^220^86&quot;</td><td>&quot;b49862d9ed1f9791366fa2f6dfbb00…</td><td>&quot;ad4c3c013562e7b84ca4f0ddfd5d99…</td><td>214</td><td>139</td><td>&quot;d0b2e9032d2db5dadb0ecf415b3867…</td><td>0</td><td>6</td><td>10</td><td>13</td><td>1013</td><td>2</td><td>451</td><td>1</td><td>0</td><td>1970-01-20 03:32:19</td><td>-1</td><td>-1</td><td>100</td><td>true</td></tr><tr><td>273026</td><td>14</td><td>17</td><td>13</td><td>17</td><td>7</td><td>&quot;78^98^98^98^117&quot;</td><td>&quot;0&quot;</td><td>&quot;98^78^112^98^98&quot;</td><td>&quot;72^108^39^173^207&quot;</td><td>&quot;af1f0f5af528ca31dc461be93f2685…</td><td>&quot;17e2096e1166ac681f04f5c8e25d2a…</td><td>2562</td><td>42</td><td>&quot;22a6d8320af93b24dac40a10b0aaec…</td><td>1</td><td>0</td><td>11</td><td>13</td><td>1337</td><td>10</td><td>875</td><td>1</td><td>1</td><td>1970-01-20 03:32:37</td><td>-1</td><td>-1</td><td>95</td><td>false</td></tr><tr><td>114904</td><td>14</td><td>16</td><td>13</td><td>16</td><td>8</td><td>&quot;100^216^44^112^57&quot;</td><td>&quot;0&quot;</td><td>&quot;195^171^25^100^57&quot;</td><td>&quot;98^57^219^112^109&quot;</td><td>&quot;d8d955ad1293855586cb50d92e718b…</td><td>&quot;1a3af1f28e25bedb03dc170b923e9c…</td><td>2550</td><td>6</td><td>&quot;06513583e7b2f9fa4cd355dfbdbfb1…</td><td>2</td><td>0</td><td>11</td><td>20</td><td>742</td><td>5</td><td>1032</td><td>2</td><td>0</td><td>1970-01-20 03:30:18</td><td>1</td><td>-1</td><td>100</td><td>true</td></tr><tr><td>235465</td><td>14</td><td>17</td><td>13</td><td>17</td><td>0</td><td>&quot;123^112^65^194^168&quot;</td><td>&quot;0&quot;</td><td>&quot;142^199^152^168^137&quot;</td><td>&quot;56^98^0^140^104&quot;</td><td>&quot;4df5b7c46acc05d74b7932a220cd56…</td><td>&quot;58ad3133d62eb8b16254077e49ece3…</td><td>1566</td><td>129</td><td>&quot;501b8138e73c8a0c097f366b776c17…</td><td>0</td><td>9</td><td>11</td><td>20</td><td>1370</td><td>2</td><td>2735</td><td>1</td><td>0</td><td>1970-01-20 03:32:10</td><td>-1</td><td>-1</td><td>100</td><td>true</td></tr></tbody></table></div>"
      ],
      "text/plain": [
       "shape: (10, 29)\n",
       "┌─────────┬──────────────┬───────────────────┬───────────────┬───┬───────┬──────────┬─────┬────────┐\n",
       "│ user_id ┆ u_phonePrice ┆ u_browserLifeCycl ┆ u_browserMode ┆ … ┆ label ┆ cillabel ┆ pro ┆ in_ads │\n",
       "│ ---     ┆ ---          ┆ e                 ┆ ---           ┆   ┆ ---   ┆ ---      ┆ --- ┆ ---    │\n",
       "│ i64     ┆ i64          ┆ ---               ┆ i64           ┆   ┆ i64   ┆ i64      ┆ i64 ┆ bool   │\n",
       "│         ┆              ┆ i64               ┆               ┆   ┆       ┆          ┆     ┆        │\n",
       "╞═════════╪══════════════╪═══════════════════╪═══════════════╪═══╪═══════╪══════════╪═════╪════════╡\n",
       "│ 158700  ┆ 14           ┆ 17                ┆ 13            ┆ … ┆ -1    ┆ -1       ┆ 100 ┆ false  │\n",
       "│ 181857  ┆ 10           ┆ 17                ┆ 13            ┆ … ┆ -1    ┆ -1       ┆ 100 ┆ false  │\n",
       "│ 199740  ┆ 14           ┆ 17                ┆ 14            ┆ … ┆ -1    ┆ -1       ┆ 100 ┆ true   │\n",
       "│ 169532  ┆ 16           ┆ 16                ┆ 11            ┆ … ┆ -1    ┆ -1       ┆ 99  ┆ false  │\n",
       "│ 160127  ┆ 10           ┆ 17                ┆ 13            ┆ … ┆ 1     ┆ -1       ┆ 100 ┆ true   │\n",
       "│ 117059  ┆ 14           ┆ 17                ┆ 13            ┆ … ┆ -1    ┆ -1       ┆ 97  ┆ true   │\n",
       "│ 181402  ┆ 11           ┆ 17                ┆ 14            ┆ … ┆ -1    ┆ -1       ┆ 100 ┆ true   │\n",
       "│ 273026  ┆ 14           ┆ 17                ┆ 13            ┆ … ┆ -1    ┆ -1       ┆ 95  ┆ false  │\n",
       "│ 114904  ┆ 14           ┆ 16                ┆ 13            ┆ … ┆ 1     ┆ -1       ┆ 100 ┆ true   │\n",
       "│ 235465  ┆ 14           ┆ 17                ┆ 13            ┆ … ┆ -1    ┆ -1       ┆ 100 ┆ true   │\n",
       "└─────────┴──────────────┴───────────────────┴───────────────┴───┴───────┴──────────┴─────┴────────┘"
      ]
     },
     "execution_count": 22,
     "metadata": {},
     "output_type": "execute_result"
    }
   ],
   "source": [
    "feed_synth_df = pl.from_pandas(feed_synth.sample(num_rows = 10000))\n",
    "feed_synth_df.head(10)"
   ]
  },
  {
   "cell_type": "markdown",
   "id": "3e39b5af-847e-4659-b439-26f236bd3977",
   "metadata": {},
   "source": [
    "### Initial Synthetic Data Evaluation\n",
    "SDV provides some evaluation tools for the synthetic data that we can use."
   ]
  },
  {
   "cell_type": "code",
   "execution_count": 23,
   "id": "a8a2f163-0f9a-4cbc-b5c6-1df1c2291480",
   "metadata": {},
   "outputs": [
    {
     "name": "stdout",
     "output_type": "stream",
     "text": [
      "Generating report ...\n",
      "\n",
      "(1/2) Evaluating Data Validity: |████████████████████| 29/29 [00:00<00:00, 490.32it/s]|\n",
      "Data Validity Score: 85.02%\n",
      "\n",
      "(2/2) Evaluating Data Structure: |█████████████████████| 1/1 [00:00<00:00, 311.01it/s]|\n",
      "Data Structure Score: 100.0%\n",
      "\n",
      "Overall Score (Average): 92.51%\n",
      "\n"
     ]
    }
   ],
   "source": [
    "_ = single_table.run_diagnostic(\n",
    "    real_data = feed_pd_compat.collect().sample(10000).to_pandas(),\n",
    "    synthetic_data = feed_synth_df.to_pandas(),\n",
    "    metadata = feed_meta\n",
    ")"
   ]
  },
  {
   "cell_type": "code",
   "execution_count": 26,
   "id": "001ffe58-62b3-463a-ba7a-6bdf9b8e6ede",
   "metadata": {},
   "outputs": [
    {
     "data": {},
     "metadata": {},
     "output_type": "display_data"
    },
    {
     "data": {
      "application/vnd.holoviews_exec.v0+json": "",
      "text/html": [
       "<div id='p1548'>\n",
       "  <div id=\"c4d26552-4197-449d-bf4a-ecb36f747458\" data-root-id=\"p1548\" style=\"display: contents;\"></div>\n",
       "</div>\n",
       "<script type=\"application/javascript\">(function(root) {\n",
       "  var docs_json = {\"654bb979-f0ff-4ebd-9b59-abd659b05cd4\":{\"version\":\"3.4.2\",\"title\":\"Bokeh Application\",\"roots\":[{\"type\":\"object\",\"name\":\"Row\",\"id\":\"p1548\",\"attributes\":{\"name\":\"Row01805\",\"tags\":[\"embedded\"],\"stylesheets\":[\"\\n:host(.pn-loading):before, .pn-loading:before {\\n  background-color: #c3c3c3;\\n  mask-size: auto calc(min(50%, 400px));\\n  -webkit-mask-size: auto calc(min(50%, 400px));\\n}\",{\"type\":\"object\",\"name\":\"ImportedStyleSheet\",\"id\":\"p1551\",\"attributes\":{\"url\":\"https://cdn.holoviz.org/panel/1.4.4/dist/css/loading.css\"}},{\"type\":\"object\",\"name\":\"ImportedStyleSheet\",\"id\":\"p1607\",\"attributes\":{\"url\":\"https://cdn.holoviz.org/panel/1.4.4/dist/css/listpanel.css\"}},{\"type\":\"object\",\"name\":\"ImportedStyleSheet\",\"id\":\"p1549\",\"attributes\":{\"url\":\"https://cdn.holoviz.org/panel/1.4.4/dist/bundled/theme/default.css\"}},{\"type\":\"object\",\"name\":\"ImportedStyleSheet\",\"id\":\"p1550\",\"attributes\":{\"url\":\"https://cdn.holoviz.org/panel/1.4.4/dist/bundled/theme/native.css\"}}],\"min_width\":700,\"margin\":0,\"sizing_mode\":\"stretch_width\",\"align\":\"start\",\"children\":[{\"type\":\"object\",\"name\":\"Spacer\",\"id\":\"p1552\",\"attributes\":{\"name\":\"HSpacer01812\",\"stylesheets\":[\"\\n:host(.pn-loading):before, .pn-loading:before {\\n  background-color: #c3c3c3;\\n  mask-size: auto calc(min(50%, 400px));\\n  -webkit-mask-size: auto calc(min(50%, 400px));\\n}\",{\"id\":\"p1551\"},{\"id\":\"p1549\"},{\"id\":\"p1550\"}],\"margin\":0,\"sizing_mode\":\"stretch_width\",\"align\":\"start\"}},{\"type\":\"object\",\"name\":\"Figure\",\"id\":\"p1560\",\"attributes\":{\"width\":700,\"height\":300,\"margin\":[5,10],\"sizing_mode\":\"fixed\",\"align\":\"start\",\"x_range\":{\"type\":\"object\",\"name\":\"FactorRange\",\"id\":\"p1553\",\"attributes\":{\"tags\":[[[\"in_ads\",\"in_ads\",null]],[]],\"factors\":[\"True\",\"False\"]}},\"y_range\":{\"type\":\"object\",\"name\":\"Range1d\",\"id\":\"p1554\",\"attributes\":{\"tags\":[[[\"count\",\"count\",null]],{\"type\":\"map\",\"entries\":[[\"invert_yaxis\",false],[\"autorange\",false]]}],\"end\":8196.8,\"reset_start\":0.0,\"reset_end\":8196.8}},\"x_scale\":{\"type\":\"object\",\"name\":\"CategoricalScale\",\"id\":\"p1570\"},\"y_scale\":{\"type\":\"object\",\"name\":\"LinearScale\",\"id\":\"p1571\"},\"title\":{\"type\":\"object\",\"name\":\"Title\",\"id\":\"p1563\",\"attributes\":{\"text_color\":\"black\",\"text_font_size\":\"12pt\"}},\"renderers\":[{\"type\":\"object\",\"name\":\"GlyphRenderer\",\"id\":\"p1600\",\"attributes\":{\"data_source\":{\"type\":\"object\",\"name\":\"ColumnDataSource\",\"id\":\"p1591\",\"attributes\":{\"selected\":{\"type\":\"object\",\"name\":\"Selection\",\"id\":\"p1592\",\"attributes\":{\"indices\":[],\"line_indices\":[]}},\"selection_policy\":{\"type\":\"object\",\"name\":\"UnionRenderers\",\"id\":\"p1593\"},\"data\":{\"type\":\"map\",\"entries\":[[\"in_ads\",[\"True\",\"False\"]],[\"count\",{\"type\":\"ndarray\",\"array\":{\"type\":\"bytes\",\"data\":\"8B0AACAJAAA=\"},\"shape\":[2],\"dtype\":\"uint32\",\"order\":\"little\"}]]}}},\"view\":{\"type\":\"object\",\"name\":\"CDSView\",\"id\":\"p1601\",\"attributes\":{\"filter\":{\"type\":\"object\",\"name\":\"AllIndices\",\"id\":\"p1602\"}}},\"glyph\":{\"type\":\"object\",\"name\":\"VBar\",\"id\":\"p1597\",\"attributes\":{\"tags\":[\"apply_ranges\"],\"x\":{\"type\":\"field\",\"field\":\"in_ads\"},\"width\":{\"type\":\"value\",\"value\":0.8},\"top\":{\"type\":\"field\",\"field\":\"count\"},\"fill_color\":{\"type\":\"value\",\"value\":\"#30a2da\"},\"hatch_color\":{\"type\":\"value\",\"value\":\"#30a2da\"}}},\"selection_glyph\":{\"type\":\"object\",\"name\":\"VBar\",\"id\":\"p1603\",\"attributes\":{\"tags\":[\"apply_ranges\"],\"x\":{\"type\":\"field\",\"field\":\"in_ads\"},\"width\":{\"type\":\"value\",\"value\":0.8},\"bottom\":{\"type\":\"value\",\"value\":0},\"top\":{\"type\":\"field\",\"field\":\"count\"},\"line_color\":{\"type\":\"value\",\"value\":\"black\"},\"line_alpha\":{\"type\":\"value\",\"value\":1.0},\"line_width\":{\"type\":\"value\",\"value\":1},\"line_join\":{\"type\":\"value\",\"value\":\"bevel\"},\"line_cap\":{\"type\":\"value\",\"value\":\"butt\"},\"line_dash\":{\"type\":\"value\",\"value\":[]},\"line_dash_offset\":{\"type\":\"value\",\"value\":0},\"fill_color\":{\"type\":\"value\",\"value\":\"#30a2da\"},\"fill_alpha\":{\"type\":\"value\",\"value\":1.0},\"hatch_color\":{\"type\":\"value\",\"value\":\"#30a2da\"},\"hatch_alpha\":{\"type\":\"value\",\"value\":1.0},\"hatch_scale\":{\"type\":\"value\",\"value\":12.0},\"hatch_pattern\":{\"type\":\"value\",\"value\":null},\"hatch_weight\":{\"type\":\"value\",\"value\":1.0}}},\"nonselection_glyph\":{\"type\":\"object\",\"name\":\"VBar\",\"id\":\"p1598\",\"attributes\":{\"tags\":[\"apply_ranges\"],\"x\":{\"type\":\"field\",\"field\":\"in_ads\"},\"width\":{\"type\":\"value\",\"value\":0.8},\"top\":{\"type\":\"field\",\"field\":\"count\"},\"line_alpha\":{\"type\":\"value\",\"value\":0.1},\"fill_color\":{\"type\":\"value\",\"value\":\"#30a2da\"},\"fill_alpha\":{\"type\":\"value\",\"value\":0.1},\"hatch_color\":{\"type\":\"value\",\"value\":\"#30a2da\"},\"hatch_alpha\":{\"type\":\"value\",\"value\":0.1}}},\"muted_glyph\":{\"type\":\"object\",\"name\":\"VBar\",\"id\":\"p1599\",\"attributes\":{\"tags\":[\"apply_ranges\"],\"x\":{\"type\":\"field\",\"field\":\"in_ads\"},\"width\":{\"type\":\"value\",\"value\":0.8},\"top\":{\"type\":\"field\",\"field\":\"count\"},\"line_alpha\":{\"type\":\"value\",\"value\":0.2},\"fill_color\":{\"type\":\"value\",\"value\":\"#30a2da\"},\"fill_alpha\":{\"type\":\"value\",\"value\":0.2},\"hatch_color\":{\"type\":\"value\",\"value\":\"#30a2da\"},\"hatch_alpha\":{\"type\":\"value\",\"value\":0.2}}}}}],\"toolbar\":{\"type\":\"object\",\"name\":\"Toolbar\",\"id\":\"p1569\",\"attributes\":{\"tools\":[{\"type\":\"object\",\"name\":\"WheelZoomTool\",\"id\":\"p1558\",\"attributes\":{\"tags\":[\"hv_created\"],\"renderers\":\"auto\",\"zoom_together\":\"none\"}},{\"type\":\"object\",\"name\":\"HoverTool\",\"id\":\"p1559\",\"attributes\":{\"tags\":[\"hv_created\"],\"renderers\":[{\"id\":\"p1600\"}],\"tooltips\":[[\"in_ads\",\"@{in_ads}\"],[\"count\",\"@{count}\"]]}},{\"type\":\"object\",\"name\":\"SaveTool\",\"id\":\"p1582\"},{\"type\":\"object\",\"name\":\"PanTool\",\"id\":\"p1583\"},{\"type\":\"object\",\"name\":\"BoxZoomTool\",\"id\":\"p1584\",\"attributes\":{\"overlay\":{\"type\":\"object\",\"name\":\"BoxAnnotation\",\"id\":\"p1585\",\"attributes\":{\"syncable\":false,\"level\":\"overlay\",\"visible\":false,\"left\":{\"type\":\"number\",\"value\":\"nan\"},\"right\":{\"type\":\"number\",\"value\":\"nan\"},\"top\":{\"type\":\"number\",\"value\":\"nan\"},\"bottom\":{\"type\":\"number\",\"value\":\"nan\"},\"left_units\":\"canvas\",\"right_units\":\"canvas\",\"top_units\":\"canvas\",\"bottom_units\":\"canvas\",\"line_color\":\"black\",\"line_alpha\":1.0,\"line_width\":2,\"line_dash\":[4,4],\"fill_color\":\"lightgrey\",\"fill_alpha\":0.5}}}},{\"type\":\"object\",\"name\":\"ResetTool\",\"id\":\"p1590\"}],\"active_drag\":{\"id\":\"p1583\"},\"active_scroll\":{\"id\":\"p1558\"}}},\"left\":[{\"type\":\"object\",\"name\":\"LinearAxis\",\"id\":\"p1577\",\"attributes\":{\"ticker\":{\"type\":\"object\",\"name\":\"BasicTicker\",\"id\":\"p1578\",\"attributes\":{\"mantissas\":[1,2,5]}},\"formatter\":{\"type\":\"object\",\"name\":\"BasicTickFormatter\",\"id\":\"p1579\"},\"axis_label\":\"count\",\"major_label_policy\":{\"type\":\"object\",\"name\":\"AllLabels\",\"id\":\"p1580\"}}}],\"below\":[{\"type\":\"object\",\"name\":\"CategoricalAxis\",\"id\":\"p1572\",\"attributes\":{\"ticker\":{\"type\":\"object\",\"name\":\"CategoricalTicker\",\"id\":\"p1573\"},\"formatter\":{\"type\":\"object\",\"name\":\"CategoricalTickFormatter\",\"id\":\"p1574\"},\"axis_label\":\"in_ads\",\"major_label_policy\":{\"type\":\"object\",\"name\":\"AllLabels\",\"id\":\"p1575\"}}}],\"center\":[{\"type\":\"object\",\"name\":\"Grid\",\"id\":\"p1576\",\"attributes\":{\"axis\":{\"id\":\"p1572\"},\"grid_line_color\":null}},{\"type\":\"object\",\"name\":\"Grid\",\"id\":\"p1581\",\"attributes\":{\"dimension\":1,\"axis\":{\"id\":\"p1577\"},\"grid_line_color\":null}}],\"min_border_top\":10,\"min_border_bottom\":10,\"min_border_left\":10,\"min_border_right\":10,\"output_backend\":\"webgl\"}},{\"type\":\"object\",\"name\":\"Spacer\",\"id\":\"p1605\",\"attributes\":{\"name\":\"HSpacer01813\",\"stylesheets\":[\"\\n:host(.pn-loading):before, .pn-loading:before {\\n  background-color: #c3c3c3;\\n  mask-size: auto calc(min(50%, 400px));\\n  -webkit-mask-size: auto calc(min(50%, 400px));\\n}\",{\"id\":\"p1551\"},{\"id\":\"p1549\"},{\"id\":\"p1550\"}],\"margin\":0,\"sizing_mode\":\"stretch_width\",\"align\":\"start\"}}]}}],\"defs\":[{\"type\":\"model\",\"name\":\"ReactiveHTML1\"},{\"type\":\"model\",\"name\":\"FlexBox1\",\"properties\":[{\"name\":\"align_content\",\"kind\":\"Any\",\"default\":\"flex-start\"},{\"name\":\"align_items\",\"kind\":\"Any\",\"default\":\"flex-start\"},{\"name\":\"flex_direction\",\"kind\":\"Any\",\"default\":\"row\"},{\"name\":\"flex_wrap\",\"kind\":\"Any\",\"default\":\"wrap\"},{\"name\":\"gap\",\"kind\":\"Any\",\"default\":\"\"},{\"name\":\"justify_content\",\"kind\":\"Any\",\"default\":\"flex-start\"}]},{\"type\":\"model\",\"name\":\"FloatPanel1\",\"properties\":[{\"name\":\"config\",\"kind\":\"Any\",\"default\":{\"type\":\"map\"}},{\"name\":\"contained\",\"kind\":\"Any\",\"default\":true},{\"name\":\"position\",\"kind\":\"Any\",\"default\":\"right-top\"},{\"name\":\"offsetx\",\"kind\":\"Any\",\"default\":null},{\"name\":\"offsety\",\"kind\":\"Any\",\"default\":null},{\"name\":\"theme\",\"kind\":\"Any\",\"default\":\"primary\"},{\"name\":\"status\",\"kind\":\"Any\",\"default\":\"normalized\"}]},{\"type\":\"model\",\"name\":\"GridStack1\",\"properties\":[{\"name\":\"mode\",\"kind\":\"Any\",\"default\":\"warn\"},{\"name\":\"ncols\",\"kind\":\"Any\",\"default\":null},{\"name\":\"nrows\",\"kind\":\"Any\",\"default\":null},{\"name\":\"allow_resize\",\"kind\":\"Any\",\"default\":true},{\"name\":\"allow_drag\",\"kind\":\"Any\",\"default\":true},{\"name\":\"state\",\"kind\":\"Any\",\"default\":[]}]},{\"type\":\"model\",\"name\":\"drag1\",\"properties\":[{\"name\":\"slider_width\",\"kind\":\"Any\",\"default\":5},{\"name\":\"slider_color\",\"kind\":\"Any\",\"default\":\"black\"},{\"name\":\"value\",\"kind\":\"Any\",\"default\":50}]},{\"type\":\"model\",\"name\":\"click1\",\"properties\":[{\"name\":\"terminal_output\",\"kind\":\"Any\",\"default\":\"\"},{\"name\":\"debug_name\",\"kind\":\"Any\",\"default\":\"\"},{\"name\":\"clears\",\"kind\":\"Any\",\"default\":0}]},{\"type\":\"model\",\"name\":\"FastWrapper1\",\"properties\":[{\"name\":\"object\",\"kind\":\"Any\",\"default\":null},{\"name\":\"style\",\"kind\":\"Any\",\"default\":null}]},{\"type\":\"model\",\"name\":\"NotificationAreaBase1\",\"properties\":[{\"name\":\"js_events\",\"kind\":\"Any\",\"default\":{\"type\":\"map\"}},{\"name\":\"position\",\"kind\":\"Any\",\"default\":\"bottom-right\"},{\"name\":\"_clear\",\"kind\":\"Any\",\"default\":0}]},{\"type\":\"model\",\"name\":\"NotificationArea1\",\"properties\":[{\"name\":\"js_events\",\"kind\":\"Any\",\"default\":{\"type\":\"map\"}},{\"name\":\"notifications\",\"kind\":\"Any\",\"default\":[]},{\"name\":\"position\",\"kind\":\"Any\",\"default\":\"bottom-right\"},{\"name\":\"_clear\",\"kind\":\"Any\",\"default\":0},{\"name\":\"types\",\"kind\":\"Any\",\"default\":[{\"type\":\"map\",\"entries\":[[\"type\",\"warning\"],[\"background\",\"#ffc107\"],[\"icon\",{\"type\":\"map\",\"entries\":[[\"className\",\"fas fa-exclamation-triangle\"],[\"tagName\",\"i\"],[\"color\",\"white\"]]}]]},{\"type\":\"map\",\"entries\":[[\"type\",\"info\"],[\"background\",\"#007bff\"],[\"icon\",{\"type\":\"map\",\"entries\":[[\"className\",\"fas fa-info-circle\"],[\"tagName\",\"i\"],[\"color\",\"white\"]]}]]}]}]},{\"type\":\"model\",\"name\":\"Notification\",\"properties\":[{\"name\":\"background\",\"kind\":\"Any\",\"default\":null},{\"name\":\"duration\",\"kind\":\"Any\",\"default\":3000},{\"name\":\"icon\",\"kind\":\"Any\",\"default\":null},{\"name\":\"message\",\"kind\":\"Any\",\"default\":\"\"},{\"name\":\"notification_type\",\"kind\":\"Any\",\"default\":null},{\"name\":\"_destroyed\",\"kind\":\"Any\",\"default\":false}]},{\"type\":\"model\",\"name\":\"TemplateActions1\",\"properties\":[{\"name\":\"open_modal\",\"kind\":\"Any\",\"default\":0},{\"name\":\"close_modal\",\"kind\":\"Any\",\"default\":0}]},{\"type\":\"model\",\"name\":\"BootstrapTemplateActions1\",\"properties\":[{\"name\":\"open_modal\",\"kind\":\"Any\",\"default\":0},{\"name\":\"close_modal\",\"kind\":\"Any\",\"default\":0}]},{\"type\":\"model\",\"name\":\"TemplateEditor1\",\"properties\":[{\"name\":\"layout\",\"kind\":\"Any\",\"default\":[]}]},{\"type\":\"model\",\"name\":\"MaterialTemplateActions1\",\"properties\":[{\"name\":\"open_modal\",\"kind\":\"Any\",\"default\":0},{\"name\":\"close_modal\",\"kind\":\"Any\",\"default\":0}]},{\"type\":\"model\",\"name\":\"copy_to_clipboard1\",\"properties\":[{\"name\":\"fill\",\"kind\":\"Any\",\"default\":\"none\"},{\"name\":\"value\",\"kind\":\"Any\",\"default\":null}]}]}};\n",
       "  var render_items = [{\"docid\":\"654bb979-f0ff-4ebd-9b59-abd659b05cd4\",\"roots\":{\"p1548\":\"c4d26552-4197-449d-bf4a-ecb36f747458\"},\"root_ids\":[\"p1548\"]}];\n",
       "  var docs = Object.values(docs_json)\n",
       "  if (!docs) {\n",
       "    return\n",
       "  }\n",
       "  const py_version = docs[0].version.replace('rc', '-rc.').replace('.dev', '-dev.')\n",
       "  async function embed_document(root) {\n",
       "    var Bokeh = get_bokeh(root)\n",
       "    await Bokeh.embed.embed_items_notebook(docs_json, render_items);\n",
       "    for (const render_item of render_items) {\n",
       "      for (const root_id of render_item.root_ids) {\n",
       "\tconst id_el = document.getElementById(root_id)\n",
       "\tif (id_el.children.length && id_el.children[0].hasAttribute('data-root-id')) {\n",
       "\t  const root_el = id_el.children[0]\n",
       "\t  root_el.id = root_el.id + '-rendered'\n",
       "\t  for (const child of root_el.children) {\n",
       "            // Ensure JupyterLab does not capture keyboard shortcuts\n",
       "            // see: https://jupyterlab.readthedocs.io/en/4.1.x/extension/notebook.html#keyboard-interaction-model\n",
       "\t    child.setAttribute('data-lm-suppress-shortcuts', 'true')\n",
       "\t  }\n",
       "\t}\n",
       "      }\n",
       "    }\n",
       "  }\n",
       "  function get_bokeh(root) {\n",
       "    if (root.Bokeh === undefined) {\n",
       "      return null\n",
       "    } else if (root.Bokeh.version !== py_version) {\n",
       "      if (root.Bokeh.versions === undefined || !root.Bokeh.versions.has(py_version)) {\n",
       "\treturn null\n",
       "      }\n",
       "      return root.Bokeh.versions.get(py_version);\n",
       "    } else if (root.Bokeh.version === py_version) {\n",
       "      return root.Bokeh\n",
       "    }\n",
       "    return null\n",
       "  }\n",
       "  function is_loaded(root) {\n",
       "    var Bokeh = get_bokeh(root)\n",
       "    return (Bokeh != null && Bokeh.Panel !== undefined)\n",
       "  }\n",
       "  if (is_loaded(root)) {\n",
       "    embed_document(root);\n",
       "  } else {\n",
       "    var attempts = 0;\n",
       "    var timer = setInterval(function(root) {\n",
       "      if (is_loaded(root)) {\n",
       "        clearInterval(timer);\n",
       "        embed_document(root);\n",
       "      } else if (document.readyState == \"complete\") {\n",
       "        attempts++;\n",
       "        if (attempts > 200) {\n",
       "          clearInterval(timer);\n",
       "\t  var Bokeh = get_bokeh(root)\n",
       "\t  if (Bokeh == null || Bokeh.Panel == null) {\n",
       "            console.warn(\"Panel: ERROR: Unable to run Panel code because Bokeh or Panel library is missing\");\n",
       "\t  } else {\n",
       "\t    console.warn(\"Panel: WARNING: Attempting to render but not all required libraries could be resolved.\")\n",
       "\t    embed_document(root)\n",
       "\t  }\n",
       "        }\n",
       "      }\n",
       "    }, 25, root)\n",
       "  }\n",
       "})(window);</script>"
      ],
      "text/plain": [
       ":Bars   [in_ads]   (count)"
      ]
     },
     "execution_count": 26,
     "metadata": {
      "application/vnd.holoviews_exec.v0+json": {
       "id": "p1548"
      }
     },
     "output_type": "execute_result"
    }
   ],
   "source": [
    "feed_synth_df.select(pl.col(\"in_ads\").value_counts()).unnest(\"in_ads\").plot.bar(x = \"in_ads\", y = \"count\")"
   ]
  },
  {
   "cell_type": "code",
   "execution_count": 27,
   "id": "0f54c747-b52b-4cda-bc62-acee68f5a09d",
   "metadata": {},
   "outputs": [
    {
     "data": {
      "text/plain": [
       "{\n",
       "    \"columns\": {\n",
       "        \"log_id\": {\n",
       "            \"sdtype\": \"id\"\n",
       "        },\n",
       "        \"label\": {\n",
       "            \"sdtype\": \"categorical\"\n",
       "        },\n",
       "        \"user_id\": {\n",
       "            \"sdtype\": \"numerical\"\n",
       "        },\n",
       "        \"age\": {\n",
       "            \"sdtype\": \"categorical\"\n",
       "        },\n",
       "        \"gender\": {\n",
       "            \"sdtype\": \"categorical\"\n",
       "        },\n",
       "        \"residence\": {\n",
       "            \"sdtype\": \"numerical\"\n",
       "        },\n",
       "        \"city\": {\n",
       "            \"sdtype\": \"city\",\n",
       "            \"pii\": true\n",
       "        },\n",
       "        \"city_rank\": {\n",
       "            \"sdtype\": \"city\",\n",
       "            \"pii\": true\n",
       "        },\n",
       "        \"series_dev\": {\n",
       "            \"sdtype\": \"numerical\"\n",
       "        },\n",
       "        \"series_group\": {\n",
       "            \"sdtype\": \"categorical\"\n",
       "        },\n",
       "        \"emui_dev\": {\n",
       "            \"sdtype\": \"categorical\"\n",
       "        },\n",
       "        \"device_name\": {\n",
       "            \"sdtype\": \"numerical\"\n",
       "        },\n",
       "        \"device_size\": {\n",
       "            \"sdtype\": \"numerical\"\n",
       "        },\n",
       "        \"net_type\": {\n",
       "            \"sdtype\": \"categorical\"\n",
       "        },\n",
       "        \"task_id\": {\n",
       "            \"sdtype\": \"numerical\"\n",
       "        },\n",
       "        \"adv_id\": {\n",
       "            \"sdtype\": \"numerical\"\n",
       "        },\n",
       "        \"creat_type_cd\": {\n",
       "            \"sdtype\": \"categorical\"\n",
       "        },\n",
       "        \"adv_prim_id\": {\n",
       "            \"sdtype\": \"numerical\"\n",
       "        },\n",
       "        \"inter_type_cd\": {\n",
       "            \"sdtype\": \"categorical\"\n",
       "        },\n",
       "        \"slot_id\": {\n",
       "            \"sdtype\": \"numerical\"\n",
       "        },\n",
       "        \"site_id\": {\n",
       "            \"sdtype\": \"categorical\"\n",
       "        },\n",
       "        \"spread_app_id\": {\n",
       "            \"sdtype\": \"numerical\"\n",
       "        },\n",
       "        \"hispace_app_tags\": {\n",
       "            \"sdtype\": \"numerical\"\n",
       "        },\n",
       "        \"app_second_class\": {\n",
       "            \"sdtype\": \"categorical\"\n",
       "        },\n",
       "        \"app_score\": {\n",
       "            \"sdtype\": \"categorical\"\n",
       "        },\n",
       "        \"ad_click_list_v001\": {\n",
       "            \"sdtype\": \"categorical\"\n",
       "        },\n",
       "        \"ad_click_list_v002\": {\n",
       "            \"sdtype\": \"categorical\"\n",
       "        },\n",
       "        \"ad_click_list_v003\": {\n",
       "            \"sdtype\": \"categorical\"\n",
       "        },\n",
       "        \"ad_close_list_v001\": {\n",
       "            \"sdtype\": \"categorical\"\n",
       "        },\n",
       "        \"ad_close_list_v002\": {\n",
       "            \"sdtype\": \"categorical\"\n",
       "        },\n",
       "        \"ad_close_list_v003\": {\n",
       "            \"sdtype\": \"categorical\"\n",
       "        },\n",
       "        \"pt_d\": {\n",
       "            \"sdtype\": \"datetime\"\n",
       "        },\n",
       "        \"u_newsCatInterestsST\": {\n",
       "            \"sdtype\": \"categorical\"\n",
       "        },\n",
       "        \"u_refreshTimes\": {\n",
       "            \"sdtype\": \"categorical\"\n",
       "        },\n",
       "        \"u_feedLifeCycle\": {\n",
       "            \"sdtype\": \"categorical\"\n",
       "        }\n",
       "    },\n",
       "    \"primary_key\": \"log_id\",\n",
       "    \"METADATA_SPEC_VERSION\": \"SINGLE_TABLE_V1\"\n",
       "}"
      ]
     },
     "execution_count": 27,
     "metadata": {},
     "output_type": "execute_result"
    }
   ],
   "source": [
    "ad_meta = SingleTableMetadata()\n",
    "# Alternatively, we can fetch only the first N columns to create the metadata\n",
    "# This will unfortunately mark the \"log_id\" column as a unique identifier column, so we'll\n",
    "# have to change that\n",
    "ad_meta.detect_from_dataframe(ad_pd_compat.fetch(1000).to_pandas())\n",
    "ad_meta"
   ]
  },
  {
   "cell_type": "code",
   "execution_count": 28,
   "id": "1822be58-f514-43e5-ab95-f5534e60337e",
   "metadata": {},
   "outputs": [
    {
     "name": "stderr",
     "output_type": "stream",
     "text": [
      "/home/sygio/Documents/work/ucla-hack/modeling/.venv/lib/python3.12/site-packages/sdv/metadata/single_table.py:673: UserWarning: There is an existing primary key 'log_id'. This key will be removed.\n",
      "  warnings.warn(\n"
     ]
    }
   ],
   "source": [
    "# We know these columns are already obfuscated (I think)\n",
    "ad_meta.set_primary_key(None)\n",
    "ad_meta.update_columns(\n",
    "    column_names = [\"city\", \"log_id\", \"city_rank\"],\n",
    "    sdtype = \"numerical\",\n",
    "    computer_representation = \"Int64\",\n",
    ")"
   ]
  },
  {
   "cell_type": "code",
   "execution_count": 29,
   "id": "c9895927-1d40-4b5a-bee3-309709949925",
   "metadata": {},
   "outputs": [
    {
     "name": "stderr",
     "output_type": "stream",
     "text": [
      "/home/sygio/Documents/work/ucla-hack/modeling/.venv/lib/python3.12/site-packages/sdv/single_table/base.py:84: UserWarning: We strongly recommend saving the metadata using 'save_to_json' for replicability in future SDV versions.\n",
      "  warnings.warn(\n"
     ]
    }
   ],
   "source": [
    "ad_synth = GaussianCopulaSynthesizer(ad_meta)"
   ]
  },
  {
   "cell_type": "code",
   "execution_count": 30,
   "id": "c56ae8a4-5b92-44cc-936e-c460d4bb5055",
   "metadata": {},
   "outputs": [
    {
     "data": {
      "text/html": [
       "<div><style>\n",
       ".dataframe > thead > tr,\n",
       ".dataframe > tbody > tr {\n",
       "  text-align: right;\n",
       "  white-space: pre-wrap;\n",
       "}\n",
       "</style>\n",
       "<small>shape: (7_507,)</small><table border=\"1\" class=\"dataframe\"><thead><tr><th>user_id</th></tr><tr><td>i64</td></tr></thead><tbody><tr><td>100054</td></tr><tr><td>100071</td></tr><tr><td>100093</td></tr><tr><td>100120</td></tr><tr><td>100126</td></tr><tr><td>&hellip;</td></tr><tr><td>286956</td></tr><tr><td>286974</td></tr><tr><td>286976</td></tr><tr><td>287033</td></tr><tr><td>287055</td></tr></tbody></table></div>"
      ],
      "text/plain": [
       "shape: (7_507,)\n",
       "Series: 'user_id' [i64]\n",
       "[\n",
       "\t100054\n",
       "\t100071\n",
       "\t100093\n",
       "\t100120\n",
       "\t100126\n",
       "\t…\n",
       "\t286956\n",
       "\t286974\n",
       "\t286976\n",
       "\t287033\n",
       "\t287055\n",
       "]"
      ]
     },
     "execution_count": 30,
     "metadata": {},
     "output_type": "execute_result"
    }
   ],
   "source": [
    "synth_ad_user_ids = feed_synth_df.filter(pl.col(\"in_ads\"))[\"user_id\"].unique()\n",
    "synth_ad_user_ids"
   ]
  },
  {
   "cell_type": "code",
   "execution_count": 31,
   "id": "89f170b5-9098-4f2d-aa3e-77683cf26ccf",
   "metadata": {},
   "outputs": [],
   "source": [
    "ad_synth.fit(ad_pd_compat.collect().sample(10000).to_pandas())"
   ]
  },
  {
   "cell_type": "markdown",
   "id": "69bc4b5b-c7af-4bc2-96ac-66d44fa2e2a2",
   "metadata": {},
   "source": [
    "We want to constrain the columns so they match the `in_ads` column in our synthetic feeds data.\n",
    "This feels pretty primitive though."
   ]
  },
  {
   "cell_type": "code",
   "execution_count": 32,
   "id": "5814a743-87b9-43de-a234-33b4a40d1181",
   "metadata": {},
   "outputs": [],
   "source": [
    "ad_synth_target_size = 10000\n",
    "\n",
    "ad_synth_df = pl.DataFrame(schema = ad_pd_compat.schema)\n",
    "\n",
    "# This is really slow...\n",
    "while ad_synth_df.height < ad_synth_target_size:\n",
    "    ad_synth_df.extend(\n",
    "        pl.from_pandas(ad_synth.sample(10 * (ad_synth_target_size - ad_synth_df.height))).filter(\n",
    "            pl.col(\"user_id\").is_in(synth_ad_user_ids)\n",
    "        ).head(ad_synth_target_size - ad_synth_df.height)\n",
    "    )"
   ]
  },
  {
   "cell_type": "code",
   "execution_count": 33,
   "id": "8d9533ac-77fe-4cbe-9300-3df9dfd30da1",
   "metadata": {},
   "outputs": [
    {
     "name": "stdout",
     "output_type": "stream",
     "text": [
      "Generating report ...\n",
      "\n",
      "(1/2) Evaluating Data Validity: |████████████████████| 35/35 [00:00<00:00, 538.21it/s]|\n",
      "Data Validity Score: 88.31%\n",
      "\n",
      "(2/2) Evaluating Data Structure: |█████████████████████| 1/1 [00:00<00:00, 476.19it/s]|\n",
      "Data Structure Score: 100.0%\n",
      "\n",
      "Overall Score (Average): 94.15%\n",
      "\n"
     ]
    }
   ],
   "source": [
    "_ = single_table.run_diagnostic(\n",
    "    real_data = ad_pd_compat.collect().sample(10000).to_pandas(),\n",
    "    synthetic_data = ad_synth_df.to_pandas(),\n",
    "    metadata = ad_meta\n",
    ")"
   ]
  },
  {
   "cell_type": "code",
   "execution_count": 27,
   "id": "78c1461e-49a5-4225-929d-ebccbec9551c",
   "metadata": {},
   "outputs": [],
   "source": [
    "# Need to drop columns for CTGAN to have a hope of completing (GaussianCopula didn't work at all),\n",
    "# though this may be dropping too many.\n",
    "feed_b = feed_pd_compat.drop([\n",
    "    \"u_newsCatInterests\",\n",
    "    \"u_newsCatDislike\",\n",
    "    \"u_newsCatInterestsST\",\n",
    "    \"i_docId\",\n",
    "    \"i_s_sourceId\",\n",
    "    \"i_entities\",\n",
    "])\n",
    "ad_b = ad_pd_compat.drop([\n",
    "    \"u_newsCatInterestsST_right\",\n",
    "    \"ad_click_list_v001\",\n",
    "    \"ad_click_list_v002\",\n",
    "    \"ad_click_list_v003\",\n",
    "])"
   ]
  },
  {
   "cell_type": "code",
   "execution_count": 28,
   "id": "466e115f-b4d1-4694-9381-feedcb7e384a",
   "metadata": {},
   "outputs": [],
   "source": [
    "# Funny way of trying to merge the dataframes\n",
    "feed_c = feed_b.with_columns(pl.col(\"user_id\").cum_count().over(\"user_id\").alias(\"key\"))\n",
    "ad_c = ad_b.with_columns(pl.col(\"user_id\").cum_count().over(\"user_id\").alias(\"key\"))\n",
    "both_c = feed_c.join(ad_c, how = \"left\", on = [\"user_id\", \"key\"]).drop(\"key\")"
   ]
  },
  {
   "cell_type": "code",
   "execution_count": 29,
   "id": "7b569ab6-913b-442e-86a2-3070ca7b2a09",
   "metadata": {},
   "outputs": [],
   "source": [
    "both_c_meta = SingleTableMetadata()\n",
    "both_c_meta.detect_from_dataframe(both_c.fetch(100000).to_pandas())"
   ]
  },
  {
   "cell_type": "code",
   "execution_count": 30,
   "id": "c09c2e41-278b-4beb-9803-659621b54c5d",
   "metadata": {},
   "outputs": [
    {
     "data": {
      "text/plain": [
       "{\n",
       "    \"columns\": {\n",
       "        \"user_id\": {\n",
       "            \"sdtype\": \"numerical\"\n",
       "        },\n",
       "        \"u_phonePrice\": {\n",
       "            \"sdtype\": \"categorical\"\n",
       "        },\n",
       "        \"u_browserLifeCycle\": {\n",
       "            \"sdtype\": \"categorical\"\n",
       "        },\n",
       "        \"u_browserMode\": {\n",
       "            \"sdtype\": \"categorical\"\n",
       "        },\n",
       "        \"u_feedLifeCycle\": {\n",
       "            \"sdtype\": \"categorical\"\n",
       "        },\n",
       "        \"u_refreshTimes\": {\n",
       "            \"sdtype\": \"categorical\"\n",
       "        },\n",
       "        \"u_click_ca2_news\": {\n",
       "            \"sdtype\": \"unknown\",\n",
       "            \"pii\": true\n",
       "        },\n",
       "        \"i_regionEntity\": {\n",
       "            \"sdtype\": \"numerical\"\n",
       "        },\n",
       "        \"i_cat\": {\n",
       "            \"sdtype\": \"numerical\"\n",
       "        },\n",
       "        \"i_dislikeTimes\": {\n",
       "            \"sdtype\": \"categorical\"\n",
       "        },\n",
       "        \"i_upTimes\": {\n",
       "            \"sdtype\": \"categorical\"\n",
       "        },\n",
       "        \"i_dtype\": {\n",
       "            \"sdtype\": \"categorical\"\n",
       "        },\n",
       "        \"e_ch\": {\n",
       "            \"sdtype\": \"numerical\"\n",
       "        },\n",
       "        \"e_m\": {\n",
       "            \"sdtype\": \"numerical\"\n",
       "        },\n",
       "        \"e_po\": {\n",
       "            \"sdtype\": \"numerical\"\n",
       "        },\n",
       "        \"e_pl\": {\n",
       "            \"sdtype\": \"numerical\"\n",
       "        },\n",
       "        \"e_rn\": {\n",
       "            \"sdtype\": \"numerical\"\n",
       "        },\n",
       "        \"e_section\": {\n",
       "            \"sdtype\": \"categorical\"\n",
       "        },\n",
       "        \"e_et\": {\n",
       "            \"sdtype\": \"datetime\"\n",
       "        },\n",
       "        \"label\": {\n",
       "            \"sdtype\": \"numerical\"\n",
       "        },\n",
       "        \"cillabel\": {\n",
       "            \"sdtype\": \"numerical\"\n",
       "        },\n",
       "        \"pro\": {\n",
       "            \"sdtype\": \"categorical\"\n",
       "        },\n",
       "        \"in_ads\": {\n",
       "            \"sdtype\": \"categorical\"\n",
       "        },\n",
       "        \"log_id\": {\n",
       "            \"sdtype\": \"numerical\"\n",
       "        },\n",
       "        \"label_right\": {\n",
       "            \"sdtype\": \"categorical\"\n",
       "        },\n",
       "        \"age\": {\n",
       "            \"sdtype\": \"categorical\"\n",
       "        },\n",
       "        \"gender\": {\n",
       "            \"sdtype\": \"categorical\"\n",
       "        },\n",
       "        \"residence\": {\n",
       "            \"sdtype\": \"numerical\"\n",
       "        },\n",
       "        \"city\": {\n",
       "            \"sdtype\": \"city\",\n",
       "            \"pii\": true\n",
       "        },\n",
       "        \"city_rank\": {\n",
       "            \"sdtype\": \"city\",\n",
       "            \"pii\": true\n",
       "        },\n",
       "        \"series_dev\": {\n",
       "            \"sdtype\": \"numerical\"\n",
       "        },\n",
       "        \"series_group\": {\n",
       "            \"sdtype\": \"categorical\"\n",
       "        },\n",
       "        \"emui_dev\": {\n",
       "            \"sdtype\": \"numerical\"\n",
       "        },\n",
       "        \"device_name\": {\n",
       "            \"sdtype\": \"numerical\"\n",
       "        },\n",
       "        \"device_size\": {\n",
       "            \"sdtype\": \"numerical\"\n",
       "        },\n",
       "        \"net_type\": {\n",
       "            \"sdtype\": \"categorical\"\n",
       "        },\n",
       "        \"task_id\": {\n",
       "            \"sdtype\": \"numerical\"\n",
       "        },\n",
       "        \"adv_id\": {\n",
       "            \"sdtype\": \"numerical\"\n",
       "        },\n",
       "        \"creat_type_cd\": {\n",
       "            \"sdtype\": \"categorical\"\n",
       "        },\n",
       "        \"adv_prim_id\": {\n",
       "            \"sdtype\": \"numerical\"\n",
       "        },\n",
       "        \"inter_type_cd\": {\n",
       "            \"sdtype\": \"categorical\"\n",
       "        },\n",
       "        \"slot_id\": {\n",
       "            \"sdtype\": \"numerical\"\n",
       "        },\n",
       "        \"site_id\": {\n",
       "            \"sdtype\": \"categorical\"\n",
       "        },\n",
       "        \"spread_app_id\": {\n",
       "            \"sdtype\": \"numerical\"\n",
       "        },\n",
       "        \"hispace_app_tags\": {\n",
       "            \"sdtype\": \"numerical\"\n",
       "        },\n",
       "        \"app_second_class\": {\n",
       "            \"sdtype\": \"numerical\"\n",
       "        },\n",
       "        \"app_score\": {\n",
       "            \"sdtype\": \"categorical\"\n",
       "        },\n",
       "        \"ad_close_list_v001\": {\n",
       "            \"sdtype\": \"categorical\"\n",
       "        },\n",
       "        \"ad_close_list_v002\": {\n",
       "            \"sdtype\": \"categorical\"\n",
       "        },\n",
       "        \"ad_close_list_v003\": {\n",
       "            \"sdtype\": \"categorical\"\n",
       "        },\n",
       "        \"pt_d\": {\n",
       "            \"sdtype\": \"datetime\"\n",
       "        },\n",
       "        \"u_newsCatInterestsST\": {\n",
       "            \"sdtype\": \"categorical\"\n",
       "        },\n",
       "        \"u_refreshTimes_right\": {\n",
       "            \"sdtype\": \"categorical\"\n",
       "        },\n",
       "        \"u_feedLifeCycle_right\": {\n",
       "            \"sdtype\": \"categorical\"\n",
       "        }\n",
       "    },\n",
       "    \"METADATA_SPEC_VERSION\": \"SINGLE_TABLE_V1\"\n",
       "}"
      ]
     },
     "execution_count": 30,
     "metadata": {},
     "output_type": "execute_result"
    }
   ],
   "source": [
    "both_c_meta"
   ]
  },
  {
   "cell_type": "code",
   "execution_count": 31,
   "id": "fcce04ae-2ad4-4186-9c70-c99f5b7f9bd0",
   "metadata": {},
   "outputs": [],
   "source": [
    "both_c_meta.update_columns(\n",
    "    column_names = [\"city\", \"city_rank\"],\n",
    "    sdtype = \"numerical\",\n",
    ")"
   ]
  },
  {
   "cell_type": "code",
   "execution_count": null,
   "id": "50038e20-790f-45c8-9615-80f5605aa01a",
   "metadata": {},
   "outputs": [
    {
     "name": "stderr",
     "output_type": "stream",
     "text": [
      "/home/sygio/Documents/work/ucla-hack/modeling/.venv/lib/python3.12/site-packages/sdv/single_table/base.py:84: UserWarning: We strongly recommend saving the metadata using 'save_to_json' for replicability in future SDV versions.\n",
      "  warnings.warn(\n"
     ]
    }
   ],
   "source": [
    "both_c_synth = CTGANSynthesizer(both_c_meta)\n",
    "both_c_synth.fit(both_c.fetch(100000).to_pandas())"
   ]
  },
  {
   "cell_type": "code",
   "execution_count": 83,
   "id": "a517d863-d707-43ca-8537-f32cd0f815b9",
   "metadata": {},
   "outputs": [],
   "source": [
    "both_c_synth_df = pl.from_pandas(both_c_synth.sample(100000))"
   ]
  },
  {
   "cell_type": "code",
   "execution_count": 91,
   "id": "e6b73752-2013-435f-816d-7db9c53b0910",
   "metadata": {},
   "outputs": [
    {
     "data": {
      "text/html": [
       "<div><style>\n",
       ".dataframe > thead > tr,\n",
       ".dataframe > tbody > tr {\n",
       "  text-align: right;\n",
       "  white-space: pre-wrap;\n",
       "}\n",
       "</style>\n",
       "<small>shape: (10, 63)</small><table border=\"1\" class=\"dataframe\"><thead><tr><th>user_id</th><th>u_phonePrice</th><th>u_browserLifeCycle</th><th>u_browserMode</th><th>u_feedLifeCycle</th><th>u_refreshTimes</th><th>u_newsCatInterests</th><th>u_newsCatDislike</th><th>u_newsCatInterestsST</th><th>u_click_ca2_news</th><th>i_docId</th><th>i_s_sourceId</th><th>i_regionEntity</th><th>i_cat</th><th>i_entities</th><th>i_dislikeTimes</th><th>i_upTimes</th><th>i_dtype</th><th>e_ch</th><th>e_m</th><th>e_po</th><th>e_pl</th><th>e_rn</th><th>e_section</th><th>e_et</th><th>label</th><th>cillabel</th><th>pro</th><th>in_ads</th><th>log_id</th><th>label_right</th><th>age</th><th>gender</th><th>residence</th><th>city</th><th>city_rank</th><th>series_dev</th><th>series_group</th><th>emui_dev</th><th>device_name</th><th>device_size</th><th>net_type</th><th>task_id</th><th>adv_id</th><th>creat_type_cd</th><th>adv_prim_id</th><th>inter_type_cd</th><th>slot_id</th><th>site_id</th><th>spread_app_id</th><th>hispace_app_tags</th><th>app_second_class</th><th>app_score</th><th>ad_click_list_v001</th><th>ad_click_list_v002</th><th>ad_click_list_v003</th><th>ad_close_list_v001</th><th>ad_close_list_v002</th><th>ad_close_list_v003</th><th>pt_d</th><th>u_newsCatInterestsST_right</th><th>u_refreshTimes_right</th><th>u_feedLifeCycle_right</th></tr><tr><td>i64</td><td>i64</td><td>i64</td><td>i64</td><td>i64</td><td>i64</td><td>str</td><td>str</td><td>str</td><td>str</td><td>str</td><td>str</td><td>i64</td><td>i64</td><td>str</td><td>i64</td><td>i64</td><td>i64</td><td>i64</td><td>i64</td><td>i64</td><td>i64</td><td>i64</td><td>i64</td><td>datetime[μs]</td><td>i64</td><td>i64</td><td>i64</td><td>bool</td><td>f64</td><td>f64</td><td>f64</td><td>f64</td><td>f64</td><td>f64</td><td>f64</td><td>f64</td><td>f64</td><td>f64</td><td>f64</td><td>f64</td><td>f64</td><td>f64</td><td>f64</td><td>f64</td><td>f64</td><td>f64</td><td>f64</td><td>f64</td><td>f64</td><td>f64</td><td>f64</td><td>f64</td><td>str</td><td>str</td><td>str</td><td>str</td><td>str</td><td>str</td><td>datetime[μs]</td><td>str</td><td>f64</td><td>f64</td></tr></thead><tbody><tr><td>109663</td><td>10</td><td>13</td><td>14</td><td>11</td><td>0</td><td>&quot;216^0^171^100^59&quot;</td><td>&quot;0&quot;</td><td>&quot;219^98^199^218^25&quot;</td><td>&quot;sdv-pii-5l9f0&quot;</td><td>&quot;2ccfbff1668fda0e2d217f16ebb850…</td><td>&quot;649d02b90c5b67640c52888c4b9120…</td><td>1</td><td>218</td><td>&quot;26fa2e6e0aa047e2d7b95561e9ff16…</td><td>3</td><td>0</td><td>13</td><td>14</td><td>413</td><td>4</td><td>2531</td><td>1</td><td>0</td><td>1970-01-20 03:37:43</td><td>-1</td><td>-1</td><td>0</td><td>false</td><td>null</td><td>null</td><td>null</td><td>null</td><td>null</td><td>null</td><td>null</td><td>null</td><td>null</td><td>null</td><td>null</td><td>null</td><td>null</td><td>null</td><td>null</td><td>null</td><td>null</td><td>5.0</td><td>null</td><td>1.0</td><td>null</td><td>null</td><td>null</td><td>null</td><td>null</td><td>null</td><td>null</td><td>null</td><td>null</td><td>null</td><td>1970-01-20 03:30:41</td><td>null</td><td>null</td><td>null</td></tr><tr><td>266824</td><td>10</td><td>17</td><td>14</td><td>17</td><td>4</td><td>&quot;16^168^203^206^98&quot;</td><td>&quot;0&quot;</td><td>&quot;65^168^96^79^216&quot;</td><td>&quot;sdv-pii-l4zm6&quot;</td><td>&quot;0444fa6733879200fc5f47c0b2165e…</td><td>&quot;1a3af1f28e25bedb03dc170b923e9c…</td><td>16</td><td>32</td><td>&quot;46dcda0c242fb1b908a5dc961e0a23…</td><td>0</td><td>2</td><td>13</td><td>15</td><td>184</td><td>24</td><td>544</td><td>1</td><td>1</td><td>1970-01-20 03:38:37</td><td>-1</td><td>-1</td><td>0</td><td>false</td><td>null</td><td>null</td><td>null</td><td>null</td><td>null</td><td>null</td><td>null</td><td>null</td><td>null</td><td>null</td><td>null</td><td>null</td><td>null</td><td>null</td><td>null</td><td>null</td><td>1471.0</td><td>null</td><td>null</td><td>null</td><td>null</td><td>null</td><td>null</td><td>null</td><td>null</td><td>null</td><td>null</td><td>null</td><td>null</td><td>null</td><td>null</td><td>null</td><td>null</td><td>null</td></tr><tr><td>255414</td><td>14</td><td>17</td><td>14</td><td>17</td><td>6</td><td>&quot;168^98^98^98^17&quot;</td><td>&quot;0&quot;</td><td>&quot;78&quot;</td><td>&quot;sdv-pii-odpgt&quot;</td><td>&quot;0007d3220c4813d3527845e6c8b019…</td><td>&quot;9c4c4e2467684537554e425a08ef61…</td><td>41</td><td>189</td><td>&quot;e1841685014be755f267d932a74231…</td><td>0</td><td>4</td><td>13</td><td>20</td><td>62</td><td>12</td><td>2178</td><td>1</td><td>1</td><td>1970-01-20 03:38:11</td><td>-1</td><td>-1</td><td>0</td><td>true</td><td>null</td><td>null</td><td>null</td><td>null</td><td>null</td><td>null</td><td>null</td><td>null</td><td>null</td><td>null</td><td>null</td><td>null</td><td>null</td><td>null</td><td>null</td><td>null</td><td>null</td><td>null</td><td>31.0</td><td>null</td><td>null</td><td>null</td><td>null</td><td>null</td><td>null</td><td>null</td><td>null</td><td>null</td><td>null</td><td>null</td><td>null</td><td>null</td><td>null</td><td>null</td></tr><tr><td>186341</td><td>14</td><td>17</td><td>10</td><td>17</td><td>4</td><td>&quot;86^86^71^169^104&quot;</td><td>&quot;0&quot;</td><td>&quot;199^168^17^25^80&quot;</td><td>&quot;sdv-pii-n9fr8&quot;</td><td>&quot;86ac869de6d3966e7924bd4040311e…</td><td>&quot;1eba881ea576fc05dfe457dd2111cd…</td><td>0</td><td>203</td><td>&quot;07c2b7b0b4e22b989690adedc6814d…</td><td>2</td><td>4</td><td>11</td><td>19</td><td>1022</td><td>4</td><td>856</td><td>1</td><td>1</td><td>1970-01-20 03:38:28</td><td>-1</td><td>-1</td><td>0</td><td>true</td><td>null</td><td>null</td><td>null</td><td>null</td><td>null</td><td>null</td><td>null</td><td>null</td><td>null</td><td>null</td><td>null</td><td>null</td><td>null</td><td>null</td><td>null</td><td>null</td><td>null</td><td>null</td><td>null</td><td>null</td><td>null</td><td>null</td><td>null</td><td>null</td><td>null</td><td>null</td><td>null</td><td>null</td><td>null</td><td>null</td><td>null</td><td>null</td><td>null</td><td>null</td></tr><tr><td>102408</td><td>11</td><td>17</td><td>14</td><td>17</td><td>5</td><td>&quot;100^77^112^0^168&quot;</td><td>&quot;0&quot;</td><td>&quot;218^86^39^109^140&quot;</td><td>&quot;sdv-pii-t6332&quot;</td><td>&quot;c1bef0863ea8ca07e0930feabf24b5…</td><td>&quot;2bc2357228735028a48afeb8fc890e…</td><td>0</td><td>88</td><td>&quot;5e38f55a1615ed09751e416b1a4ea6…</td><td>6</td><td>0</td><td>13</td><td>13</td><td>1123</td><td>7</td><td>2653</td><td>1</td><td>1</td><td>1970-01-20 03:38:48</td><td>1</td><td>-1</td><td>0</td><td>false</td><td>null</td><td>null</td><td>null</td><td>null</td><td>null</td><td>317.0</td><td>null</td><td>null</td><td>null</td><td>null</td><td>null</td><td>null</td><td>null</td><td>null</td><td>null</td><td>null</td><td>null</td><td>null</td><td>null</td><td>null</td><td>null</td><td>null</td><td>null</td><td>null</td><td>null</td><td>null</td><td>null</td><td>null</td><td>null</td><td>null</td><td>null</td><td>null</td><td>null</td><td>null</td></tr><tr><td>279262</td><td>11</td><td>17</td><td>14</td><td>17</td><td>9</td><td>&quot;216^59^100^199^0&quot;</td><td>&quot;0&quot;</td><td>&quot;168^100^41^98^171&quot;</td><td>&quot;sdv-pii-83dde&quot;</td><td>&quot;f9f181cdacc63d537a623df49ca648…</td><td>&quot;fc832e8e0595603e2ad83130fa1a40…</td><td>0</td><td>18</td><td>&quot;5844ec13d8a7b9e973677616eaccbc…</td><td>0</td><td>0</td><td>13</td><td>18</td><td>1045</td><td>11</td><td>2666</td><td>1</td><td>1</td><td>1970-01-20 03:38:44</td><td>-1</td><td>-1</td><td>0</td><td>true</td><td>null</td><td>null</td><td>null</td><td>null</td><td>null</td><td>null</td><td>null</td><td>null</td><td>null</td><td>null</td><td>null</td><td>null</td><td>null</td><td>null</td><td>null</td><td>null</td><td>null</td><td>null</td><td>33.0</td><td>null</td><td>null</td><td>null</td><td>null</td><td>null</td><td>null</td><td>null</td><td>null</td><td>null</td><td>null</td><td>null</td><td>1970-01-20 03:30:42</td><td>null</td><td>null</td><td>null</td></tr><tr><td>148202</td><td>16</td><td>17</td><td>14</td><td>17</td><td>5</td><td>&quot;16^140^220^50^157&quot;</td><td>&quot;0&quot;</td><td>&quot;219^51^108^22^17&quot;</td><td>&quot;sdv-pii-51ctv&quot;</td><td>&quot;ead9bbcea965274d9cc21bd2a89e43…</td><td>&quot;ec3a22480c651d6c5d5bdfaa5a85ad…</td><td>71</td><td>107</td><td>&quot;e87c59da3e1c9ae279620dbfd5a547…</td><td>3</td><td>7</td><td>13</td><td>20</td><td>1018</td><td>13</td><td>1584</td><td>8</td><td>0</td><td>1970-01-20 03:38:27</td><td>-1</td><td>-1</td><td>0</td><td>true</td><td>null</td><td>null</td><td>null</td><td>null</td><td>null</td><td>null</td><td>null</td><td>null</td><td>null</td><td>null</td><td>null</td><td>null</td><td>null</td><td>null</td><td>null</td><td>null</td><td>null</td><td>null</td><td>null</td><td>null</td><td>null</td><td>null</td><td>null</td><td>null</td><td>null</td><td>null</td><td>null</td><td>null</td><td>null</td><td>null</td><td>null</td><td>null</td><td>null</td><td>null</td></tr><tr><td>196237</td><td>14</td><td>17</td><td>14</td><td>17</td><td>9</td><td>&quot;216^0^98^199^112&quot;</td><td>&quot;0&quot;</td><td>&quot;168^112^155^65^119&quot;</td><td>&quot;sdv-pii-ep6jr&quot;</td><td>&quot;760faea01968517fe131abf991244c…</td><td>&quot;8ce2b932cd326f76a36fd36662b842…</td><td>61</td><td>157</td><td>&quot;f3295ef6f9976711feaafced19a922…</td><td>0</td><td>0</td><td>13</td><td>19</td><td>1046</td><td>6</td><td>764</td><td>2</td><td>0</td><td>1970-01-20 03:38:29</td><td>-1</td><td>-1</td><td>0</td><td>false</td><td>null</td><td>null</td><td>null</td><td>null</td><td>null</td><td>null</td><td>null</td><td>null</td><td>null</td><td>null</td><td>230.0</td><td>null</td><td>null</td><td>null</td><td>null</td><td>null</td><td>null</td><td>null</td><td>null</td><td>null</td><td>null</td><td>null</td><td>null</td><td>null</td><td>null</td><td>null</td><td>null</td><td>null</td><td>null</td><td>null</td><td>null</td><td>null</td><td>null</td><td>null</td></tr><tr><td>164509</td><td>14</td><td>17</td><td>14</td><td>17</td><td>6</td><td>&quot;57^0^78^130^98&quot;</td><td>&quot;0&quot;</td><td>&quot;57^98^207^98^168&quot;</td><td>&quot;sdv-pii-80tu1&quot;</td><td>&quot;682bd4cf5edc3f18bc8795b6171528…</td><td>&quot;649d02b90c5b67640c52888c4b9120…</td><td>0</td><td>188</td><td>&quot;46ed9c54b9bdec24395ea0b5edef32…</td><td>0</td><td>0</td><td>11</td><td>20</td><td>320</td><td>5</td><td>473</td><td>1</td><td>0</td><td>1970-01-20 03:37:28</td><td>-1</td><td>-1</td><td>100</td><td>true</td><td>null</td><td>null</td><td>null</td><td>null</td><td>null</td><td>null</td><td>null</td><td>null</td><td>null</td><td>null</td><td>null</td><td>null</td><td>null</td><td>null</td><td>null</td><td>null</td><td>null</td><td>null</td><td>null</td><td>null</td><td>null</td><td>null</td><td>null</td><td>null</td><td>null</td><td>null</td><td>null</td><td>null</td><td>null</td><td>null</td><td>null</td><td>null</td><td>null</td><td>null</td></tr><tr><td>117757</td><td>16</td><td>17</td><td>14</td><td>17</td><td>2</td><td>&quot;17^112^199^112^8&quot;</td><td>&quot;0&quot;</td><td>&quot;219^108&quot;</td><td>&quot;sdv-pii-a65zp&quot;</td><td>&quot;acb8e12e834513b8ee3fe0fa525e02…</td><td>&quot;d1eab5f8152c78b9a19f78ce07a016…</td><td>0</td><td>34</td><td>&quot;1423dbcf7c61ca9ef295b03fb4abdd…</td><td>0</td><td>0</td><td>13</td><td>16</td><td>605</td><td>12</td><td>1358</td><td>1</td><td>0</td><td>1970-01-20 03:38:45</td><td>1</td><td>-1</td><td>0</td><td>true</td><td>null</td><td>null</td><td>null</td><td>null</td><td>null</td><td>null</td><td>null</td><td>null</td><td>null</td><td>null</td><td>null</td><td>null</td><td>null</td><td>null</td><td>null</td><td>null</td><td>null</td><td>null</td><td>33.0</td><td>1.0</td><td>null</td><td>null</td><td>null</td><td>0.0</td><td>null</td><td>null</td><td>null</td><td>null</td><td>null</td><td>null</td><td>null</td><td>&quot;27^98^27^27^25&quot;</td><td>null</td><td>null</td></tr></tbody></table></div>"
      ],
      "text/plain": [
       "shape: (10, 63)\n",
       "┌─────────┬────────────┬───────────┬───────────┬───┬───────────┬───────────┬───────────┬───────────┐\n",
       "│ user_id ┆ u_phonePri ┆ u_browser ┆ u_browser ┆ … ┆ pt_d      ┆ u_newsCat ┆ u_refresh ┆ u_feedLif │\n",
       "│ ---     ┆ ce         ┆ LifeCycle ┆ Mode      ┆   ┆ ---       ┆ Interests ┆ Times_rig ┆ eCycle_ri │\n",
       "│ i64     ┆ ---        ┆ ---       ┆ ---       ┆   ┆ datetime[ ┆ ST_right  ┆ ht        ┆ ght       │\n",
       "│         ┆ i64        ┆ i64       ┆ i64       ┆   ┆ μs]       ┆ ---       ┆ ---       ┆ ---       │\n",
       "│         ┆            ┆           ┆           ┆   ┆           ┆ str       ┆ f64       ┆ f64       │\n",
       "╞═════════╪════════════╪═══════════╪═══════════╪═══╪═══════════╪═══════════╪═══════════╪═══════════╡\n",
       "│ 109663  ┆ 10         ┆ 13        ┆ 14        ┆ … ┆ 1970-01-2 ┆ null      ┆ null      ┆ null      │\n",
       "│         ┆            ┆           ┆           ┆   ┆ 0         ┆           ┆           ┆           │\n",
       "│         ┆            ┆           ┆           ┆   ┆ 03:30:41  ┆           ┆           ┆           │\n",
       "│ 266824  ┆ 10         ┆ 17        ┆ 14        ┆ … ┆ null      ┆ null      ┆ null      ┆ null      │\n",
       "│ 255414  ┆ 14         ┆ 17        ┆ 14        ┆ … ┆ null      ┆ null      ┆ null      ┆ null      │\n",
       "│ 186341  ┆ 14         ┆ 17        ┆ 10        ┆ … ┆ null      ┆ null      ┆ null      ┆ null      │\n",
       "│ 102408  ┆ 11         ┆ 17        ┆ 14        ┆ … ┆ null      ┆ null      ┆ null      ┆ null      │\n",
       "│ 279262  ┆ 11         ┆ 17        ┆ 14        ┆ … ┆ 1970-01-2 ┆ null      ┆ null      ┆ null      │\n",
       "│         ┆            ┆           ┆           ┆   ┆ 0         ┆           ┆           ┆           │\n",
       "│         ┆            ┆           ┆           ┆   ┆ 03:30:42  ┆           ┆           ┆           │\n",
       "│ 148202  ┆ 16         ┆ 17        ┆ 14        ┆ … ┆ null      ┆ null      ┆ null      ┆ null      │\n",
       "│ 196237  ┆ 14         ┆ 17        ┆ 14        ┆ … ┆ null      ┆ null      ┆ null      ┆ null      │\n",
       "│ 164509  ┆ 14         ┆ 17        ┆ 14        ┆ … ┆ null      ┆ null      ┆ null      ┆ null      │\n",
       "│ 117757  ┆ 16         ┆ 17        ┆ 14        ┆ … ┆ null      ┆ 27^98^27^ ┆ null      ┆ null      │\n",
       "│         ┆            ┆           ┆           ┆   ┆           ┆ 27^25     ┆           ┆           │\n",
       "└─────────┴────────────┴───────────┴───────────┴───┴───────────┴───────────┴───────────┴───────────┘"
      ]
     },
     "execution_count": 91,
     "metadata": {},
     "output_type": "execute_result"
    }
   ],
   "source": [
    "both_c_synth_df.head(10)"
   ]
  },
  {
   "cell_type": "code",
   "execution_count": 84,
   "id": "bf03ffa4-611c-49d0-b69b-808416fdb8de",
   "metadata": {},
   "outputs": [],
   "source": [
    "feed_synth_df_2 = both_c_synth_df.select(feed_pd_compat.columns)\n",
    "ad_synth_df_2 = both_c_synth_df.select(ad_pd_compat.columns).drop_nulls()"
   ]
  },
  {
   "cell_type": "markdown",
   "id": "52f89ac3-0188-4336-bcb0-ff51a03e9fa4",
   "metadata": {},
   "source": [
    "# Predicton Models"
   ]
  },
  {
   "cell_type": "markdown",
   "id": "8f6a9147-1ff2-4058-b5ab-5f4c1747ce98",
   "metadata": {},
   "source": [
    "## Logistic Regression"
   ]
  },
  {
   "cell_type": "code",
   "execution_count": 34,
   "id": "dc858d2e-21f8-477a-939c-fd42efdbeb77",
   "metadata": {},
   "outputs": [],
   "source": [
    "model = LogisticRegression()"
   ]
  },
  {
   "cell_type": "code",
   "execution_count": 35,
   "id": "4375947b-c47f-4dbe-bfc0-18a80ce6a1ca",
   "metadata": {},
   "outputs": [],
   "source": [
    "feed_data_num = feed_data.select(pl.exclude(pl.List(pl.Int64), pl.String, pl.Datetime))"
   ]
  },
  {
   "cell_type": "code",
   "execution_count": 36,
   "id": "906ee73e-83b5-4822-98b8-8c31b474e520",
   "metadata": {},
   "outputs": [
    {
     "data": {},
     "metadata": {},
     "output_type": "display_data"
    },
    {
     "data": {
      "application/vnd.holoviews_exec.v0+json": "",
      "text/html": [
       "<div id='p1610'>\n",
       "  <div id=\"db325270-f7b1-4da1-80f6-d7800bad6038\" data-root-id=\"p1610\" style=\"display: contents;\"></div>\n",
       "</div>\n",
       "<script type=\"application/javascript\">(function(root) {\n",
       "  var docs_json = {\"1f89631e-2d62-4ad0-8b7c-371ca0e11707\":{\"version\":\"3.4.2\",\"title\":\"Bokeh Application\",\"roots\":[{\"type\":\"object\",\"name\":\"Row\",\"id\":\"p1610\",\"attributes\":{\"name\":\"Row01876\",\"tags\":[\"embedded\"],\"stylesheets\":[\"\\n:host(.pn-loading):before, .pn-loading:before {\\n  background-color: #c3c3c3;\\n  mask-size: auto calc(min(50%, 400px));\\n  -webkit-mask-size: auto calc(min(50%, 400px));\\n}\",{\"type\":\"object\",\"name\":\"ImportedStyleSheet\",\"id\":\"p1613\",\"attributes\":{\"url\":\"https://cdn.holoviz.org/panel/1.4.4/dist/css/loading.css\"}},{\"type\":\"object\",\"name\":\"ImportedStyleSheet\",\"id\":\"p1673\",\"attributes\":{\"url\":\"https://cdn.holoviz.org/panel/1.4.4/dist/css/listpanel.css\"}},{\"type\":\"object\",\"name\":\"ImportedStyleSheet\",\"id\":\"p1611\",\"attributes\":{\"url\":\"https://cdn.holoviz.org/panel/1.4.4/dist/bundled/theme/default.css\"}},{\"type\":\"object\",\"name\":\"ImportedStyleSheet\",\"id\":\"p1612\",\"attributes\":{\"url\":\"https://cdn.holoviz.org/panel/1.4.4/dist/bundled/theme/native.css\"}}],\"min_width\":700,\"margin\":0,\"sizing_mode\":\"stretch_width\",\"align\":\"start\",\"children\":[{\"type\":\"object\",\"name\":\"Spacer\",\"id\":\"p1614\",\"attributes\":{\"name\":\"HSpacer01883\",\"stylesheets\":[\"\\n:host(.pn-loading):before, .pn-loading:before {\\n  background-color: #c3c3c3;\\n  mask-size: auto calc(min(50%, 400px));\\n  -webkit-mask-size: auto calc(min(50%, 400px));\\n}\",{\"id\":\"p1613\"},{\"id\":\"p1611\"},{\"id\":\"p1612\"}],\"margin\":0,\"sizing_mode\":\"stretch_width\",\"align\":\"start\"}},{\"type\":\"object\",\"name\":\"Figure\",\"id\":\"p1622\",\"attributes\":{\"width\":700,\"height\":300,\"margin\":[5,10],\"sizing_mode\":\"fixed\",\"align\":\"start\",\"x_range\":{\"type\":\"object\",\"name\":\"FactorRange\",\"id\":\"p1615\",\"attributes\":{\"tags\":[[[\"index\",\"index\",null]],[]],\"factors\":[\"user_id\",\"u_phonePrice\",\"u_browserLifeCycle\",\"u_browserMode\",\"u_feedLifeCycle\",\"u_refreshTimes\",\"i_regionEntity\",\"i_cat\",\"i_dislikeTimes\",\"i_upTimes\",\"i_dtype\",\"e_ch\",\"e_m\",\"e_po\",\"e_pl\",\"e_rn\",\"e_section\",\"label\",\"cillabel\",\"pro\",\"Interested\",\"Disliked\",\"InterestedST\",\"in_ads\",\"hour\"]}},\"y_range\":{\"type\":\"object\",\"name\":\"FactorRange\",\"id\":\"p1616\",\"attributes\":{\"tags\":[[[\"variable\",\"variable\",null]],{\"type\":\"map\",\"entries\":[[\"invert_yaxis\",false],[\"autorange\",false]]}],\"factors\":[\"user_id\",\"u_phonePrice\",\"u_browserLifeCycle\",\"u_browserMode\",\"u_feedLifeCycle\",\"u_refreshTimes\",\"i_regionEntity\",\"i_cat\",\"i_dislikeTimes\",\"i_upTimes\",\"i_dtype\",\"e_ch\",\"e_m\",\"e_po\",\"e_pl\",\"e_rn\",\"e_section\",\"label\",\"cillabel\",\"pro\",\"Interested\",\"Disliked\",\"InterestedST\",\"in_ads\",\"hour\"]}},\"x_scale\":{\"type\":\"object\",\"name\":\"CategoricalScale\",\"id\":\"p1632\"},\"y_scale\":{\"type\":\"object\",\"name\":\"CategoricalScale\",\"id\":\"p1633\"},\"title\":{\"type\":\"object\",\"name\":\"Title\",\"id\":\"p1625\",\"attributes\":{\"text_color\":\"black\",\"text_font_size\":\"12pt\"}},\"renderers\":[{\"type\":\"object\",\"name\":\"GlyphRenderer\",\"id\":\"p1664\",\"attributes\":{\"data_source\":{\"type\":\"object\",\"name\":\"ColumnDataSource\",\"id\":\"p1654\",\"attributes\":{\"selected\":{\"type\":\"object\",\"name\":\"Selection\",\"id\":\"p1655\",\"attributes\":{\"indices\":[],\"line_indices\":[]}},\"selection_policy\":{\"type\":\"object\",\"name\":\"UnionRenderers\",\"id\":\"p1656\"},\"data\":{\"type\":\"map\",\"entries\":[[\"index\",[\"user_id\",\"user_id\",\"user_id\",\"user_id\",\"user_id\",\"user_id\",\"user_id\",\"user_id\",\"user_id\",\"user_id\",\"user_id\",\"user_id\",\"user_id\",\"user_id\",\"user_id\",\"user_id\",\"user_id\",\"user_id\",\"user_id\",\"user_id\",\"user_id\",\"user_id\",\"user_id\",\"user_id\",\"user_id\",\"u_phonePrice\",\"u_phonePrice\",\"u_phonePrice\",\"u_phonePrice\",\"u_phonePrice\",\"u_phonePrice\",\"u_phonePrice\",\"u_phonePrice\",\"u_phonePrice\",\"u_phonePrice\",\"u_phonePrice\",\"u_phonePrice\",\"u_phonePrice\",\"u_phonePrice\",\"u_phonePrice\",\"u_phonePrice\",\"u_phonePrice\",\"u_phonePrice\",\"u_phonePrice\",\"u_phonePrice\",\"u_phonePrice\",\"u_phonePrice\",\"u_phonePrice\",\"u_phonePrice\",\"u_phonePrice\",\"u_browserLifeCycle\",\"u_browserLifeCycle\",\"u_browserLifeCycle\",\"u_browserLifeCycle\",\"u_browserLifeCycle\",\"u_browserLifeCycle\",\"u_browserLifeCycle\",\"u_browserLifeCycle\",\"u_browserLifeCycle\",\"u_browserLifeCycle\",\"u_browserLifeCycle\",\"u_browserLifeCycle\",\"u_browserLifeCycle\",\"u_browserLifeCycle\",\"u_browserLifeCycle\",\"u_browserLifeCycle\",\"u_browserLifeCycle\",\"u_browserLifeCycle\",\"u_browserLifeCycle\",\"u_browserLifeCycle\",\"u_browserLifeCycle\",\"u_browserLifeCycle\",\"u_browserLifeCycle\",\"u_browserLifeCycle\",\"u_browserLifeCycle\",\"u_browserMode\",\"u_browserMode\",\"u_browserMode\",\"u_browserMode\",\"u_browserMode\",\"u_browserMode\",\"u_browserMode\",\"u_browserMode\",\"u_browserMode\",\"u_browserMode\",\"u_browserMode\",\"u_browserMode\",\"u_browserMode\",\"u_browserMode\",\"u_browserMode\",\"u_browserMode\",\"u_browserMode\",\"u_browserMode\",\"u_browserMode\",\"u_browserMode\",\"u_browserMode\",\"u_browserMode\",\"u_browserMode\",\"u_browserMode\",\"u_browserMode\",\"u_feedLifeCycle\",\"u_feedLifeCycle\",\"u_feedLifeCycle\",\"u_feedLifeCycle\",\"u_feedLifeCycle\",\"u_feedLifeCycle\",\"u_feedLifeCycle\",\"u_feedLifeCycle\",\"u_feedLifeCycle\",\"u_feedLifeCycle\",\"u_feedLifeCycle\",\"u_feedLifeCycle\",\"u_feedLifeCycle\",\"u_feedLifeCycle\",\"u_feedLifeCycle\",\"u_feedLifeCycle\",\"u_feedLifeCycle\",\"u_feedLifeCycle\",\"u_feedLifeCycle\",\"u_feedLifeCycle\",\"u_feedLifeCycle\",\"u_feedLifeCycle\",\"u_feedLifeCycle\",\"u_feedLifeCycle\",\"u_feedLifeCycle\",\"u_refreshTimes\",\"u_refreshTimes\",\"u_refreshTimes\",\"u_refreshTimes\",\"u_refreshTimes\",\"u_refreshTimes\",\"u_refreshTimes\",\"u_refreshTimes\",\"u_refreshTimes\",\"u_refreshTimes\",\"u_refreshTimes\",\"u_refreshTimes\",\"u_refreshTimes\",\"u_refreshTimes\",\"u_refreshTimes\",\"u_refreshTimes\",\"u_refreshTimes\",\"u_refreshTimes\",\"u_refreshTimes\",\"u_refreshTimes\",\"u_refreshTimes\",\"u_refreshTimes\",\"u_refreshTimes\",\"u_refreshTimes\",\"u_refreshTimes\",\"i_regionEntity\",\"i_regionEntity\",\"i_regionEntity\",\"i_regionEntity\",\"i_regionEntity\",\"i_regionEntity\",\"i_regionEntity\",\"i_regionEntity\",\"i_regionEntity\",\"i_regionEntity\",\"i_regionEntity\",\"i_regionEntity\",\"i_regionEntity\",\"i_regionEntity\",\"i_regionEntity\",\"i_regionEntity\",\"i_regionEntity\",\"i_regionEntity\",\"i_regionEntity\",\"i_regionEntity\",\"i_regionEntity\",\"i_regionEntity\",\"i_regionEntity\",\"i_regionEntity\",\"i_regionEntity\",\"i_cat\",\"i_cat\",\"i_cat\",\"i_cat\",\"i_cat\",\"i_cat\",\"i_cat\",\"i_cat\",\"i_cat\",\"i_cat\",\"i_cat\",\"i_cat\",\"i_cat\",\"i_cat\",\"i_cat\",\"i_cat\",\"i_cat\",\"i_cat\",\"i_cat\",\"i_cat\",\"i_cat\",\"i_cat\",\"i_cat\",\"i_cat\",\"i_cat\",\"i_dislikeTimes\",\"i_dislikeTimes\",\"i_dislikeTimes\",\"i_dislikeTimes\",\"i_dislikeTimes\",\"i_dislikeTimes\",\"i_dislikeTimes\",\"i_dislikeTimes\",\"i_dislikeTimes\",\"i_dislikeTimes\",\"i_dislikeTimes\",\"i_dislikeTimes\",\"i_dislikeTimes\",\"i_dislikeTimes\",\"i_dislikeTimes\",\"i_dislikeTimes\",\"i_dislikeTimes\",\"i_dislikeTimes\",\"i_dislikeTimes\",\"i_dislikeTimes\",\"i_dislikeTimes\",\"i_dislikeTimes\",\"i_dislikeTimes\",\"i_dislikeTimes\",\"i_dislikeTimes\",\"i_upTimes\",\"i_upTimes\",\"i_upTimes\",\"i_upTimes\",\"i_upTimes\",\"i_upTimes\",\"i_upTimes\",\"i_upTimes\",\"i_upTimes\",\"i_upTimes\",\"i_upTimes\",\"i_upTimes\",\"i_upTimes\",\"i_upTimes\",\"i_upTimes\",\"i_upTimes\",\"i_upTimes\",\"i_upTimes\",\"i_upTimes\",\"i_upTimes\",\"i_upTimes\",\"i_upTimes\",\"i_upTimes\",\"i_upTimes\",\"i_upTimes\",\"i_dtype\",\"i_dtype\",\"i_dtype\",\"i_dtype\",\"i_dtype\",\"i_dtype\",\"i_dtype\",\"i_dtype\",\"i_dtype\",\"i_dtype\",\"i_dtype\",\"i_dtype\",\"i_dtype\",\"i_dtype\",\"i_dtype\",\"i_dtype\",\"i_dtype\",\"i_dtype\",\"i_dtype\",\"i_dtype\",\"i_dtype\",\"i_dtype\",\"i_dtype\",\"i_dtype\",\"i_dtype\",\"e_ch\",\"e_ch\",\"e_ch\",\"e_ch\",\"e_ch\",\"e_ch\",\"e_ch\",\"e_ch\",\"e_ch\",\"e_ch\",\"e_ch\",\"e_ch\",\"e_ch\",\"e_ch\",\"e_ch\",\"e_ch\",\"e_ch\",\"e_ch\",\"e_ch\",\"e_ch\",\"e_ch\",\"e_ch\",\"e_ch\",\"e_ch\",\"e_ch\",\"e_m\",\"e_m\",\"e_m\",\"e_m\",\"e_m\",\"e_m\",\"e_m\",\"e_m\",\"e_m\",\"e_m\",\"e_m\",\"e_m\",\"e_m\",\"e_m\",\"e_m\",\"e_m\",\"e_m\",\"e_m\",\"e_m\",\"e_m\",\"e_m\",\"e_m\",\"e_m\",\"e_m\",\"e_m\",\"e_po\",\"e_po\",\"e_po\",\"e_po\",\"e_po\",\"e_po\",\"e_po\",\"e_po\",\"e_po\",\"e_po\",\"e_po\",\"e_po\",\"e_po\",\"e_po\",\"e_po\",\"e_po\",\"e_po\",\"e_po\",\"e_po\",\"e_po\",\"e_po\",\"e_po\",\"e_po\",\"e_po\",\"e_po\",\"e_pl\",\"e_pl\",\"e_pl\",\"e_pl\",\"e_pl\",\"e_pl\",\"e_pl\",\"e_pl\",\"e_pl\",\"e_pl\",\"e_pl\",\"e_pl\",\"e_pl\",\"e_pl\",\"e_pl\",\"e_pl\",\"e_pl\",\"e_pl\",\"e_pl\",\"e_pl\",\"e_pl\",\"e_pl\",\"e_pl\",\"e_pl\",\"e_pl\",\"e_rn\",\"e_rn\",\"e_rn\",\"e_rn\",\"e_rn\",\"e_rn\",\"e_rn\",\"e_rn\",\"e_rn\",\"e_rn\",\"e_rn\",\"e_rn\",\"e_rn\",\"e_rn\",\"e_rn\",\"e_rn\",\"e_rn\",\"e_rn\",\"e_rn\",\"e_rn\",\"e_rn\",\"e_rn\",\"e_rn\",\"e_rn\",\"e_rn\",\"e_section\",\"e_section\",\"e_section\",\"e_section\",\"e_section\",\"e_section\",\"e_section\",\"e_section\",\"e_section\",\"e_section\",\"e_section\",\"e_section\",\"e_section\",\"e_section\",\"e_section\",\"e_section\",\"e_section\",\"e_section\",\"e_section\",\"e_section\",\"e_section\",\"e_section\",\"e_section\",\"e_section\",\"e_section\",\"label\",\"label\",\"label\",\"label\",\"label\",\"label\",\"label\",\"label\",\"label\",\"label\",\"label\",\"label\",\"label\",\"label\",\"label\",\"label\",\"label\",\"label\",\"label\",\"label\",\"label\",\"label\",\"label\",\"label\",\"label\",\"cillabel\",\"cillabel\",\"cillabel\",\"cillabel\",\"cillabel\",\"cillabel\",\"cillabel\",\"cillabel\",\"cillabel\",\"cillabel\",\"cillabel\",\"cillabel\",\"cillabel\",\"cillabel\",\"cillabel\",\"cillabel\",\"cillabel\",\"cillabel\",\"cillabel\",\"cillabel\",\"cillabel\",\"cillabel\",\"cillabel\",\"cillabel\",\"cillabel\",\"pro\",\"pro\",\"pro\",\"pro\",\"pro\",\"pro\",\"pro\",\"pro\",\"pro\",\"pro\",\"pro\",\"pro\",\"pro\",\"pro\",\"pro\",\"pro\",\"pro\",\"pro\",\"pro\",\"pro\",\"pro\",\"pro\",\"pro\",\"pro\",\"pro\",\"Interested\",\"Interested\",\"Interested\",\"Interested\",\"Interested\",\"Interested\",\"Interested\",\"Interested\",\"Interested\",\"Interested\",\"Interested\",\"Interested\",\"Interested\",\"Interested\",\"Interested\",\"Interested\",\"Interested\",\"Interested\",\"Interested\",\"Interested\",\"Interested\",\"Interested\",\"Interested\",\"Interested\",\"Interested\",\"Disliked\",\"Disliked\",\"Disliked\",\"Disliked\",\"Disliked\",\"Disliked\",\"Disliked\",\"Disliked\",\"Disliked\",\"Disliked\",\"Disliked\",\"Disliked\",\"Disliked\",\"Disliked\",\"Disliked\",\"Disliked\",\"Disliked\",\"Disliked\",\"Disliked\",\"Disliked\",\"Disliked\",\"Disliked\",\"Disliked\",\"Disliked\",\"Disliked\",\"InterestedST\",\"InterestedST\",\"InterestedST\",\"InterestedST\",\"InterestedST\",\"InterestedST\",\"InterestedST\",\"InterestedST\",\"InterestedST\",\"InterestedST\",\"InterestedST\",\"InterestedST\",\"InterestedST\",\"InterestedST\",\"InterestedST\",\"InterestedST\",\"InterestedST\",\"InterestedST\",\"InterestedST\",\"InterestedST\",\"InterestedST\",\"InterestedST\",\"InterestedST\",\"InterestedST\",\"InterestedST\",\"in_ads\",\"in_ads\",\"in_ads\",\"in_ads\",\"in_ads\",\"in_ads\",\"in_ads\",\"in_ads\",\"in_ads\",\"in_ads\",\"in_ads\",\"in_ads\",\"in_ads\",\"in_ads\",\"in_ads\",\"in_ads\",\"in_ads\",\"in_ads\",\"in_ads\",\"in_ads\",\"in_ads\",\"in_ads\",\"in_ads\",\"in_ads\",\"in_ads\",\"hour\",\"hour\",\"hour\",\"hour\",\"hour\",\"hour\",\"hour\",\"hour\",\"hour\",\"hour\",\"hour\",\"hour\",\"hour\",\"hour\",\"hour\",\"hour\",\"hour\",\"hour\",\"hour\",\"hour\",\"hour\",\"hour\",\"hour\",\"hour\",\"hour\"]],[\"variable\",[\"hour\",\"in_ads\",\"InterestedST\",\"Disliked\",\"Interested\",\"pro\",\"cillabel\",\"label\",\"e_section\",\"e_rn\",\"e_pl\",\"e_po\",\"e_m\",\"e_ch\",\"i_dtype\",\"i_upTimes\",\"i_dislikeTimes\",\"i_cat\",\"i_regionEntity\",\"u_refreshTimes\",\"u_feedLifeCycle\",\"u_browserMode\",\"u_browserLifeCycle\",\"u_phonePrice\",\"user_id\",\"hour\",\"in_ads\",\"InterestedST\",\"Disliked\",\"Interested\",\"pro\",\"cillabel\",\"label\",\"e_section\",\"e_rn\",\"e_pl\",\"e_po\",\"e_m\",\"e_ch\",\"i_dtype\",\"i_upTimes\",\"i_dislikeTimes\",\"i_cat\",\"i_regionEntity\",\"u_refreshTimes\",\"u_feedLifeCycle\",\"u_browserMode\",\"u_browserLifeCycle\",\"u_phonePrice\",\"user_id\",\"hour\",\"in_ads\",\"InterestedST\",\"Disliked\",\"Interested\",\"pro\",\"cillabel\",\"label\",\"e_section\",\"e_rn\",\"e_pl\",\"e_po\",\"e_m\",\"e_ch\",\"i_dtype\",\"i_upTimes\",\"i_dislikeTimes\",\"i_cat\",\"i_regionEntity\",\"u_refreshTimes\",\"u_feedLifeCycle\",\"u_browserMode\",\"u_browserLifeCycle\",\"u_phonePrice\",\"user_id\",\"hour\",\"in_ads\",\"InterestedST\",\"Disliked\",\"Interested\",\"pro\",\"cillabel\",\"label\",\"e_section\",\"e_rn\",\"e_pl\",\"e_po\",\"e_m\",\"e_ch\",\"i_dtype\",\"i_upTimes\",\"i_dislikeTimes\",\"i_cat\",\"i_regionEntity\",\"u_refreshTimes\",\"u_feedLifeCycle\",\"u_browserMode\",\"u_browserLifeCycle\",\"u_phonePrice\",\"user_id\",\"hour\",\"in_ads\",\"InterestedST\",\"Disliked\",\"Interested\",\"pro\",\"cillabel\",\"label\",\"e_section\",\"e_rn\",\"e_pl\",\"e_po\",\"e_m\",\"e_ch\",\"i_dtype\",\"i_upTimes\",\"i_dislikeTimes\",\"i_cat\",\"i_regionEntity\",\"u_refreshTimes\",\"u_feedLifeCycle\",\"u_browserMode\",\"u_browserLifeCycle\",\"u_phonePrice\",\"user_id\",\"hour\",\"in_ads\",\"InterestedST\",\"Disliked\",\"Interested\",\"pro\",\"cillabel\",\"label\",\"e_section\",\"e_rn\",\"e_pl\",\"e_po\",\"e_m\",\"e_ch\",\"i_dtype\",\"i_upTimes\",\"i_dislikeTimes\",\"i_cat\",\"i_regionEntity\",\"u_refreshTimes\",\"u_feedLifeCycle\",\"u_browserMode\",\"u_browserLifeCycle\",\"u_phonePrice\",\"user_id\",\"hour\",\"in_ads\",\"InterestedST\",\"Disliked\",\"Interested\",\"pro\",\"cillabel\",\"label\",\"e_section\",\"e_rn\",\"e_pl\",\"e_po\",\"e_m\",\"e_ch\",\"i_dtype\",\"i_upTimes\",\"i_dislikeTimes\",\"i_cat\",\"i_regionEntity\",\"u_refreshTimes\",\"u_feedLifeCycle\",\"u_browserMode\",\"u_browserLifeCycle\",\"u_phonePrice\",\"user_id\",\"hour\",\"in_ads\",\"InterestedST\",\"Disliked\",\"Interested\",\"pro\",\"cillabel\",\"label\",\"e_section\",\"e_rn\",\"e_pl\",\"e_po\",\"e_m\",\"e_ch\",\"i_dtype\",\"i_upTimes\",\"i_dislikeTimes\",\"i_cat\",\"i_regionEntity\",\"u_refreshTimes\",\"u_feedLifeCycle\",\"u_browserMode\",\"u_browserLifeCycle\",\"u_phonePrice\",\"user_id\",\"hour\",\"in_ads\",\"InterestedST\",\"Disliked\",\"Interested\",\"pro\",\"cillabel\",\"label\",\"e_section\",\"e_rn\",\"e_pl\",\"e_po\",\"e_m\",\"e_ch\",\"i_dtype\",\"i_upTimes\",\"i_dislikeTimes\",\"i_cat\",\"i_regionEntity\",\"u_refreshTimes\",\"u_feedLifeCycle\",\"u_browserMode\",\"u_browserLifeCycle\",\"u_phonePrice\",\"user_id\",\"hour\",\"in_ads\",\"InterestedST\",\"Disliked\",\"Interested\",\"pro\",\"cillabel\",\"label\",\"e_section\",\"e_rn\",\"e_pl\",\"e_po\",\"e_m\",\"e_ch\",\"i_dtype\",\"i_upTimes\",\"i_dislikeTimes\",\"i_cat\",\"i_regionEntity\",\"u_refreshTimes\",\"u_feedLifeCycle\",\"u_browserMode\",\"u_browserLifeCycle\",\"u_phonePrice\",\"user_id\",\"hour\",\"in_ads\",\"InterestedST\",\"Disliked\",\"Interested\",\"pro\",\"cillabel\",\"label\",\"e_section\",\"e_rn\",\"e_pl\",\"e_po\",\"e_m\",\"e_ch\",\"i_dtype\",\"i_upTimes\",\"i_dislikeTimes\",\"i_cat\",\"i_regionEntity\",\"u_refreshTimes\",\"u_feedLifeCycle\",\"u_browserMode\",\"u_browserLifeCycle\",\"u_phonePrice\",\"user_id\",\"hour\",\"in_ads\",\"InterestedST\",\"Disliked\",\"Interested\",\"pro\",\"cillabel\",\"label\",\"e_section\",\"e_rn\",\"e_pl\",\"e_po\",\"e_m\",\"e_ch\",\"i_dtype\",\"i_upTimes\",\"i_dislikeTimes\",\"i_cat\",\"i_regionEntity\",\"u_refreshTimes\",\"u_feedLifeCycle\",\"u_browserMode\",\"u_browserLifeCycle\",\"u_phonePrice\",\"user_id\",\"hour\",\"in_ads\",\"InterestedST\",\"Disliked\",\"Interested\",\"pro\",\"cillabel\",\"label\",\"e_section\",\"e_rn\",\"e_pl\",\"e_po\",\"e_m\",\"e_ch\",\"i_dtype\",\"i_upTimes\",\"i_dislikeTimes\",\"i_cat\",\"i_regionEntity\",\"u_refreshTimes\",\"u_feedLifeCycle\",\"u_browserMode\",\"u_browserLifeCycle\",\"u_phonePrice\",\"user_id\",\"hour\",\"in_ads\",\"InterestedST\",\"Disliked\",\"Interested\",\"pro\",\"cillabel\",\"label\",\"e_section\",\"e_rn\",\"e_pl\",\"e_po\",\"e_m\",\"e_ch\",\"i_dtype\",\"i_upTimes\",\"i_dislikeTimes\",\"i_cat\",\"i_regionEntity\",\"u_refreshTimes\",\"u_feedLifeCycle\",\"u_browserMode\",\"u_browserLifeCycle\",\"u_phonePrice\",\"user_id\",\"hour\",\"in_ads\",\"InterestedST\",\"Disliked\",\"Interested\",\"pro\",\"cillabel\",\"label\",\"e_section\",\"e_rn\",\"e_pl\",\"e_po\",\"e_m\",\"e_ch\",\"i_dtype\",\"i_upTimes\",\"i_dislikeTimes\",\"i_cat\",\"i_regionEntity\",\"u_refreshTimes\",\"u_feedLifeCycle\",\"u_browserMode\",\"u_browserLifeCycle\",\"u_phonePrice\",\"user_id\",\"hour\",\"in_ads\",\"InterestedST\",\"Disliked\",\"Interested\",\"pro\",\"cillabel\",\"label\",\"e_section\",\"e_rn\",\"e_pl\",\"e_po\",\"e_m\",\"e_ch\",\"i_dtype\",\"i_upTimes\",\"i_dislikeTimes\",\"i_cat\",\"i_regionEntity\",\"u_refreshTimes\",\"u_feedLifeCycle\",\"u_browserMode\",\"u_browserLifeCycle\",\"u_phonePrice\",\"user_id\",\"hour\",\"in_ads\",\"InterestedST\",\"Disliked\",\"Interested\",\"pro\",\"cillabel\",\"label\",\"e_section\",\"e_rn\",\"e_pl\",\"e_po\",\"e_m\",\"e_ch\",\"i_dtype\",\"i_upTimes\",\"i_dislikeTimes\",\"i_cat\",\"i_regionEntity\",\"u_refreshTimes\",\"u_feedLifeCycle\",\"u_browserMode\",\"u_browserLifeCycle\",\"u_phonePrice\",\"user_id\",\"hour\",\"in_ads\",\"InterestedST\",\"Disliked\",\"Interested\",\"pro\",\"cillabel\",\"label\",\"e_section\",\"e_rn\",\"e_pl\",\"e_po\",\"e_m\",\"e_ch\",\"i_dtype\",\"i_upTimes\",\"i_dislikeTimes\",\"i_cat\",\"i_regionEntity\",\"u_refreshTimes\",\"u_feedLifeCycle\",\"u_browserMode\",\"u_browserLifeCycle\",\"u_phonePrice\",\"user_id\",\"hour\",\"in_ads\",\"InterestedST\",\"Disliked\",\"Interested\",\"pro\",\"cillabel\",\"label\",\"e_section\",\"e_rn\",\"e_pl\",\"e_po\",\"e_m\",\"e_ch\",\"i_dtype\",\"i_upTimes\",\"i_dislikeTimes\",\"i_cat\",\"i_regionEntity\",\"u_refreshTimes\",\"u_feedLifeCycle\",\"u_browserMode\",\"u_browserLifeCycle\",\"u_phonePrice\",\"user_id\",\"hour\",\"in_ads\",\"InterestedST\",\"Disliked\",\"Interested\",\"pro\",\"cillabel\",\"label\",\"e_section\",\"e_rn\",\"e_pl\",\"e_po\",\"e_m\",\"e_ch\",\"i_dtype\",\"i_upTimes\",\"i_dislikeTimes\",\"i_cat\",\"i_regionEntity\",\"u_refreshTimes\",\"u_feedLifeCycle\",\"u_browserMode\",\"u_browserLifeCycle\",\"u_phonePrice\",\"user_id\",\"hour\",\"in_ads\",\"InterestedST\",\"Disliked\",\"Interested\",\"pro\",\"cillabel\",\"label\",\"e_section\",\"e_rn\",\"e_pl\",\"e_po\",\"e_m\",\"e_ch\",\"i_dtype\",\"i_upTimes\",\"i_dislikeTimes\",\"i_cat\",\"i_regionEntity\",\"u_refreshTimes\",\"u_feedLifeCycle\",\"u_browserMode\",\"u_browserLifeCycle\",\"u_phonePrice\",\"user_id\",\"hour\",\"in_ads\",\"InterestedST\",\"Disliked\",\"Interested\",\"pro\",\"cillabel\",\"label\",\"e_section\",\"e_rn\",\"e_pl\",\"e_po\",\"e_m\",\"e_ch\",\"i_dtype\",\"i_upTimes\",\"i_dislikeTimes\",\"i_cat\",\"i_regionEntity\",\"u_refreshTimes\",\"u_feedLifeCycle\",\"u_browserMode\",\"u_browserLifeCycle\",\"u_phonePrice\",\"user_id\",\"hour\",\"in_ads\",\"InterestedST\",\"Disliked\",\"Interested\",\"pro\",\"cillabel\",\"label\",\"e_section\",\"e_rn\",\"e_pl\",\"e_po\",\"e_m\",\"e_ch\",\"i_dtype\",\"i_upTimes\",\"i_dislikeTimes\",\"i_cat\",\"i_regionEntity\",\"u_refreshTimes\",\"u_feedLifeCycle\",\"u_browserMode\",\"u_browserLifeCycle\",\"u_phonePrice\",\"user_id\",\"hour\",\"in_ads\",\"InterestedST\",\"Disliked\",\"Interested\",\"pro\",\"cillabel\",\"label\",\"e_section\",\"e_rn\",\"e_pl\",\"e_po\",\"e_m\",\"e_ch\",\"i_dtype\",\"i_upTimes\",\"i_dislikeTimes\",\"i_cat\",\"i_regionEntity\",\"u_refreshTimes\",\"u_feedLifeCycle\",\"u_browserMode\",\"u_browserLifeCycle\",\"u_phonePrice\",\"user_id\",\"hour\",\"in_ads\",\"InterestedST\",\"Disliked\",\"Interested\",\"pro\",\"cillabel\",\"label\",\"e_section\",\"e_rn\",\"e_pl\",\"e_po\",\"e_m\",\"e_ch\",\"i_dtype\",\"i_upTimes\",\"i_dislikeTimes\",\"i_cat\",\"i_regionEntity\",\"u_refreshTimes\",\"u_feedLifeCycle\",\"u_browserMode\",\"u_browserLifeCycle\",\"u_phonePrice\",\"user_id\"]],[\"zvalues\",{\"type\":\"ndarray\",\"array\":{\"type\":\"bytes\",\"data\":\"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\"},\"shape\":[625],\"dtype\":\"float64\",\"order\":\"little\"}],[\"value\",[\"0.050558\",\"0.00014524\",\"0.032359\",\"0.031262\",\"0.025341\",\"0.018087\",\"-0.0041432\",\"0.016451\",\"0.0058121\",\"-0.031415\",\"0.013271\",\"-0.0035852\",\"0.044501\",\"-0.034841\",\"-0.0050861\",\"-0.0067998\",\"-0.0046029\",\"-0.0089668\",\"0.0020524\",\"0.11864\",\"0.096182\",\"-0.076102\",\"0.1248\",\"0.052769\",\"1\",\"0.031045\",\"0.031363\",\"0.029004\",\"0.038538\",\"0.037728\",\"0.0044981\",\"0.0052543\",\"0.016195\",\"-0.010761\",\"0.046512\",\"-0.030466\",\"-0.019954\",\"-0.0087976\",\"0.0061459\",\"0.032307\",\"0.00038853\",\"0.0010658\",\"0.016154\",\"0.00562\",\"-0.14569\",\"-0.013895\",\"0.067841\",\"-0.051313\",\"1\",\"0.052769\",\"-0.030877\",\"0.22144\",\"0.10599\",\"0.023642\",\"0.061712\",\"0.031559\",\"0.0056043\",\"0.038285\",\"-0.04239\",\"0.016548\",\"0.05527\",\"0.028685\",\"0.065353\",\"-0.028736\",\"-0.036168\",\"-0.094544\",\"-0.047587\",\"-0.033342\",\"-0.073585\",\"0.39719\",\"0.51546\",\"-0.050492\",\"1\",\"-0.051313\",\"0.1248\",\"0.015361\",\"0.02781\",\"-0.0033762\",\"-0.077943\",\"-0.008671\",\"0.013418\",\"-0.01481\",\"0.0087436\",\"0.048171\",\"0.011987\",\"-0.047803\",\"-0.0029284\",\"-0.14967\",\"0.112\",\"-0.1069\",\"0.040391\",\"0.048305\",\"-0.0052088\",\"0.0058544\",\"-0.2215\",\"-0.0098335\",\"1\",\"-0.050492\",\"0.067841\",\"-0.076102\",\"-0.053428\",\"0.28885\",\"0.11603\",\"0.02882\",\"0.078374\",\"0.013567\",\"0.0074497\",\"0.021165\",\"-0.10911\",\"0.077088\",\"0.021471\",\"0.018204\",\"0.0060647\",\"-0.026462\",\"0.017789\",\"-0.15297\",\"-0.087429\",\"-0.043662\",\"-0.064618\",\"0.46965\",\"1\",\"-0.0098335\",\"0.51546\",\"-0.013895\",\"0.096182\",\"-0.0059529\",\"0.37941\",\"0.11726\",\"0.066088\",\"0.084116\",\"0.041644\",\"-0.0089493\",\"0.051434\",\"-0.19302\",\"0.081557\",\"0.068197\",\"0.018272\",\"0.12984\",\"-0.11242\",\"0.038815\",\"-0.23131\",\"-0.10795\",\"-0.05582\",\"-0.0562\",\"1\",\"0.46965\",\"-0.2215\",\"0.39719\",\"-0.14569\",\"0.11864\",\"-0.0077323\",\"-0.056012\",\"-0.054397\",\"-0.017376\",\"-0.13384\",\"-0.010242\",\"0.011189\",\"-0.0080889\",\"-0.030463\",\"0.0040438\",\"-0.011255\",\"0.054525\",\"0.0025936\",\"0.066873\",\"0.17609\",\"-0.026831\",\"0.0034079\",\"0.23902\",\"1\",\"-0.0562\",\"-0.064618\",\"0.0058544\",\"-0.073585\",\"0.00562\",\"0.0020524\",\"-0.0094536\",\"-0.041759\",\"0.094063\",\"-0.12792\",\"-0.014089\",\"0.025452\",\"-0.01687\",\"0.022319\",\"0.0076252\",\"-0.014128\",\"0.001075\",\"0.010156\",\"-0.0077653\",\"0.086897\",\"0.081615\",\"-0.041399\",\"-0.080892\",\"1\",\"0.23902\",\"-0.05582\",\"-0.043662\",\"-0.0052088\",\"-0.033342\",\"0.016154\",\"-0.0089668\",\"0.007903\",\"-0.049927\",\"-0.21367\",\"-0.056137\",\"-0.23399\",\"0.0023349\",\"-0.0079047\",\"0.017584\",\"-0.18288\",\"0.0072071\",\"-0.035484\",\"0.060549\",\"0.0089216\",\"0.065348\",\"0.13569\",\"0.58184\",\"1\",\"-0.080892\",\"0.0034079\",\"-0.10795\",\"-0.087429\",\"0.048305\",\"-0.047587\",\"0.0010658\",\"-0.0046029\",\"-0.064129\",\"-0.14944\",\"-0.21988\",\"-0.084604\",\"-0.23662\",\"0.00089992\",\"0.00046612\",\"0.01508\",\"0.31689\",\"-0.15683\",\"-0.038791\",\"-0.04479\",\"0.007635\",\"0.16656\",\"-0.20011\",\"1\",\"0.58184\",\"-0.041399\",\"-0.026831\",\"-0.23131\",\"-0.15297\",\"0.040391\",\"-0.094544\",\"0.00038853\",\"-0.0067998\",\"0.019772\",\"0.022722\",\"0.032226\",\"0.028186\",\"-0.011967\",\"-0.017567\",\"0.0059822\",\"-0.017072\",\"-0.57373\",\"0.2031\",\"-0.0074782\",\"0.11958\",\"-0.078836\",\"-0.12479\",\"1\",\"-0.20011\",\"0.13569\",\"0.081615\",\"0.17609\",\"0.038815\",\"0.017789\",\"-0.1069\",\"-0.036168\",\"0.032307\",\"-0.0050861\",\"-0.027143\",\"-0.0677\",\"-0.098162\",\"-0.22391\",\"-0.091373\",\"0.01889\",\"-0.013721\",\"0.014079\",\"0.1819\",\"-0.092452\",\"-0.022442\",\"0.11516\",\"-0.048258\",\"1\",\"-0.12479\",\"0.16656\",\"0.065348\",\"0.086897\",\"0.066873\",\"-0.11242\",\"-0.026462\",\"0.112\",\"-0.028736\",\"0.0061459\",\"-0.034841\",\"0.030797\",\"0.0027172\",\"0.030805\",\"0.015093\",\"0.015091\",\"0.0041479\",\"0.002157\",\"0.0090602\",\"-0.014797\",\"0.015946\",\"-0.00018094\",\"0.014271\",\"1\",\"-0.048258\",\"-0.078836\",\"0.007635\",\"0.0089216\",\"-0.0077653\",\"0.0025936\",\"0.12984\",\"0.0060647\",\"-0.14967\",\"0.065353\",\"-0.0087976\",\"0.044501\",\"-0.00477\",\"-0.0072979\",\"-0.019797\",\"-0.034361\",\"-0.031886\",\"0.003685\",\"-0.0011268\",\"0.0053814\",\"-0.22335\",\"-0.21158\",\"0.011563\",\"1\",\"0.014271\",\"0.11516\",\"0.11958\",\"-0.04479\",\"0.060549\",\"0.010156\",\"0.054525\",\"0.018272\",\"0.018204\",\"-0.0029284\",\"0.028685\",\"-0.019954\",\"-0.0035852\",\"-0.0018179\",\"0.0096544\",\"0.020021\",\"-0.029883\",\"0.0026779\",\"0.014479\",\"0.0092182\",\"0.0075952\",\"0.017976\",\"-0.083887\",\"1\",\"0.011563\",\"-0.00018094\",\"-0.022442\",\"-0.0074782\",\"-0.038791\",\"-0.035484\",\"0.001075\",\"-0.011255\",\"0.068197\",\"0.021471\",\"-0.047803\",\"0.05527\",\"-0.030466\",\"0.013271\",\"0.064989\",\"0.13514\",\"0.012622\",\"0.050331\",\"-0.0054192\",\"-0.065541\",\"-0.0069446\",\"-0.06796\",\"-0.31693\",\"1\",\"-0.083887\",\"-0.21158\",\"0.015946\",\"-0.092452\",\"0.2031\",\"-0.15683\",\"0.0072071\",\"-0.014128\",\"0.0040438\",\"0.081557\",\"0.077088\",\"0.011987\",\"0.016548\",\"0.046512\",\"-0.031415\",\"-0.035387\",\"-0.17766\",\"-0.06026\",\"-0.046956\",\"-0.018747\",\"0.012784\",\"0.0063914\",\"0.011004\",\"1\",\"-0.31693\",\"0.017976\",\"-0.22335\",\"-0.014797\",\"0.1819\",\"-0.57373\",\"0.31689\",\"-0.18288\",\"0.0076252\",\"-0.030463\",\"-0.19302\",\"-0.10911\",\"0.048171\",\"-0.04239\",\"-0.010761\",\"0.0058121\",\"-0.0092042\",\"0.031619\",\"0.071783\",\"-0.021028\",\"0.072288\",\"0.87463\",\"0.019494\",\"1\",\"0.011004\",\"-0.06796\",\"0.0075952\",\"0.0053814\",\"0.0090602\",\"0.014079\",\"-0.017072\",\"0.01508\",\"0.017584\",\"0.022319\",\"-0.0080889\",\"0.051434\",\"0.021165\",\"0.0087436\",\"0.038285\",\"0.016195\",\"0.016451\",\"-0.012238\",\"-0.0099712\",\"0.0064026\",\"-0.0013778\",\"-0.0090457\",\"0.026118\",\"1\",\"0.019494\",\"0.0063914\",\"-0.0069446\",\"0.0092182\",\"-0.0011268\",\"0.002157\",\"-0.013721\",\"0.0059822\",\"0.00046612\",\"-0.0079047\",\"-0.01687\",\"0.011189\",\"-0.0089493\",\"0.0074497\",\"-0.01481\",\"0.0056043\",\"0.0052543\",\"-0.0041432\",\"-0.011579\",\"0.025825\",\"0.090431\",\"-0.02147\",\"0.082988\",\"1\",\"0.026118\",\"0.87463\",\"0.012784\",\"-0.065541\",\"0.014479\",\"0.003685\",\"0.0041479\",\"0.01889\",\"-0.017567\",\"0.00089992\",\"0.0023349\",\"0.025452\",\"-0.010242\",\"0.041644\",\"0.013567\",\"0.013418\",\"0.031559\",\"0.0044981\",\"0.018087\",\"0.041064\",\"0.081485\",\"0.46872\",\"0.060986\",\"1\",\"0.082988\",\"-0.0090457\",\"0.072288\",\"-0.018747\",\"-0.0054192\",\"0.0026779\",\"-0.031886\",\"0.015091\",\"-0.091373\",\"-0.011967\",\"-0.23662\",\"-0.23399\",\"-0.014089\",\"-0.13384\",\"0.084116\",\"0.078374\",\"-0.008671\",\"0.061712\",\"0.037728\",\"0.025341\",\"0.051066\",\"0.035296\",\"0.050923\",\"1\",\"0.060986\",\"-0.02147\",\"-0.0013778\",\"-0.021028\",\"-0.046956\",\"0.050331\",\"-0.029883\",\"-0.034361\",\"0.015093\",\"-0.22391\",\"0.028186\",\"-0.084604\",\"-0.056137\",\"-0.12792\",\"-0.017376\",\"0.066088\",\"0.02882\",\"-0.077943\",\"0.023642\",\"0.038538\",\"0.031262\",\"0.036772\",\"0.088406\",\"1\",\"0.050923\",\"0.46872\",\"0.090431\",\"0.0064026\",\"0.071783\",\"-0.06026\",\"0.012622\",\"0.020021\",\"-0.019797\",\"0.030805\",\"-0.098162\",\"0.032226\",\"-0.21988\",\"-0.21367\",\"0.094063\",\"-0.054397\",\"0.11726\",\"0.11603\",\"-0.0033762\",\"0.10599\",\"0.029004\",\"0.032359\",\"0.059815\",\"1\",\"0.088406\",\"0.035296\",\"0.081485\",\"0.025825\",\"-0.0099712\",\"0.031619\",\"-0.17766\",\"0.13514\",\"0.0096544\",\"-0.0072979\",\"0.0027172\",\"-0.0677\",\"0.022722\",\"-0.14944\",\"-0.049927\",\"-0.041759\",\"-0.056012\",\"0.37941\",\"0.28885\",\"0.02781\",\"0.22144\",\"0.031363\",\"0.00014524\",\"1\",\"0.059815\",\"0.036772\",\"0.051066\",\"0.041064\",\"-0.011579\",\"-0.012238\",\"-0.0092042\",\"-0.035387\",\"0.064989\",\"-0.0018179\",\"-0.00477\",\"0.030797\",\"-0.027143\",\"0.019772\",\"-0.064129\",\"0.007903\",\"-0.0094536\",\"-0.0077323\",\"-0.0059529\",\"-0.053428\",\"0.015361\",\"-0.030877\",\"0.031045\",\"0.050558\"]]]}}},\"view\":{\"type\":\"object\",\"name\":\"CDSView\",\"id\":\"p1665\",\"attributes\":{\"filter\":{\"type\":\"object\",\"name\":\"AllIndices\",\"id\":\"p1666\"}}},\"glyph\":{\"type\":\"object\",\"name\":\"Rect\",\"id\":\"p1660\",\"attributes\":{\"tags\":[\"apply_ranges\"],\"x\":{\"type\":\"field\",\"field\":\"index\"},\"y\":{\"type\":\"field\",\"field\":\"variable\"},\"width\":{\"type\":\"value\",\"value\":1},\"height\":{\"type\":\"value\",\"value\":1},\"line_color\":{\"type\":\"value\",\"value\":\"#1f77b4\"},\"line_alpha\":{\"type\":\"value\",\"value\":0},\"fill_color\":{\"type\":\"field\",\"field\":\"zvalues\",\"transform\":{\"type\":\"object\",\"name\":\"LinearColorMapper\",\"id\":\"p1653\",\"attributes\":{\"palette\":[\"#b3fef5\",\"#b0fef5\",\"#adfdf5\",\"#a9fcf5\",\"#a6fbf6\",\"#a3faf6\",\"#a0faf6\",\"#9df9f6\",\"#9af8f6\",\"#97f7f6\",\"#93f7f6\",\"#90f6f6\",\"#8df5f6\",\"#8af4f7\",\"#87f3f7\",\"#83f2f7\",\"#80f2f7\",\"#7df1f7\",\"#79f0f7\",\"#76eff7\",\"#73eef7\",\"#6fedf8\",\"#6cecf8\",\"#68ecf8\",\"#65ebf8\",\"#61eaf8\",\"#5ee9f8\",\"#5ae8f8\",\"#57e7f8\",\"#53e6f8\",\"#50e5f9\",\"#4ce4f9\",\"#49e3f9\",\"#45e2f9\",\"#42e1f9\",\"#3ee0f9\",\"#3bdff9\",\"#38def9\",\"#35ddf9\",\"#32dcf9\",\"#30dbfa\",\"#2ed9fa\",\"#2dd8fa\",\"#2cd7fa\",\"#2bd6fa\",\"#2bd5fa\",\"#2ad3fa\",\"#2ad2fa\",\"#29d1fa\",\"#29d0fb\",\"#29cffb\",\"#28cdfb\",\"#28ccfb\",\"#28cbfb\",\"#28cafb\",\"#28c8fb\",\"#28c7fb\",\"#29c6fb\",\"#29c5fb\",\"#29c4fb\",\"#29c2fb\",\"#2ac1fb\",\"#2ac0fb\",\"#2bbffb\",\"#2bbdfc\",\"#2cbcfc\",\"#2dbbfc\",\"#2db9fc\",\"#2eb8fc\",\"#2fb7fc\",\"#2fb6fc\",\"#30b4fc\",\"#31b3fc\",\"#32b2fc\",\"#32b0fc\",\"#33affc\",\"#33aefc\",\"#34adfc\",\"#34abfc\",\"#34aafc\",\"#35a9fc\",\"#35a8fc\",\"#35a6fc\",\"#35a5fc\",\"#35a4fc\",\"#35a3fc\",\"#35a1fc\",\"#35a0fc\",\"#359ffc\",\"#359dfc\",\"#359cfc\",\"#359bfc\",\"#349afd\",\"#3498fd\",\"#3497fd\",\"#3396fd\",\"#3395fd\",\"#3293fd\",\"#3292fd\",\"#3191fd\",\"#3090fd\",\"#308ffd\",\"#2f8dfd\",\"#2f8cfd\",\"#2e8bfd\",\"#2e8afd\",\"#2d88fd\",\"#2d87fd\",\"#2c86fd\",\"#2c84fd\",\"#2c83fd\",\"#2c82fd\",\"#2b81fd\",\"#2b7ffd\",\"#2b7efd\",\"#2b7dfd\",\"#2b7bfd\",\"#2b7afd\",\"#2b79fd\",\"#2b77fd\",\"#2b76fd\",\"#2b75fd\",\"#2b73fd\",\"#2c72fd\",\"#2c71fd\",\"#2c6ffd\",\"#2c6efd\",\"#2d6cfd\",\"#2d6bfd\",\"#2d6afc\",\"#2e68fc\",\"#2e67fc\",\"#2e65fc\",\"#2e64fc\",\"#2f62fc\",\"#2f61fc\",\"#2f5ffc\",\"#2f5efc\",\"#2f5dfc\",\"#2f5bfc\",\"#2f5afc\",\"#2f58fb\",\"#2f57fb\",\"#2f55fb\",\"#2f53fb\",\"#2f52fb\",\"#2f50fb\",\"#2f4ffb\",\"#2f4dfb\",\"#2e4cfb\",\"#2e4afb\",\"#2e48fb\",\"#2e47fa\",\"#2d45fa\",\"#2d43fa\",\"#2d42fa\",\"#2d40fa\",\"#2c3efa\",\"#2c3dfa\",\"#2b3bf9\",\"#2b39f9\",\"#2a37f9\",\"#2a36f8\",\"#2934f8\",\"#2832f7\",\"#2831f7\",\"#272ff6\",\"#262ef5\",\"#252cf5\",\"#252af4\",\"#2429f3\",\"#2327f2\",\"#2226f1\",\"#2124f0\",\"#2023ef\",\"#1f22ee\",\"#1e20ed\",\"#1d1feb\",\"#1c1eea\",\"#1b1ce9\",\"#1a1be7\",\"#181ae6\",\"#1719e5\",\"#1618e3\",\"#1417e1\",\"#1316e0\",\"#1215de\",\"#1014dc\",\"#0f13db\",\"#0e12d9\",\"#0d11d7\",\"#0c10d5\",\"#0b0fd3\",\"#0a0ed1\",\"#090dd0\",\"#080dce\",\"#080ccc\",\"#070bca\",\"#070ac8\",\"#0709c6\",\"#0708c4\",\"#0707c2\",\"#0707bf\",\"#0806bd\",\"#0806bb\",\"#0905b9\",\"#0904b7\",\"#0a04b5\",\"#0a04b2\",\"#0b03b0\",\"#0c03ae\",\"#0d02ab\",\"#0e02a9\",\"#0e02a7\",\"#0f02a4\",\"#0f01a2\",\"#1001a0\",\"#10019d\",\"#10019b\",\"#100199\",\"#100197\",\"#100194\",\"#0f0192\",\"#0f0190\",\"#0f018e\",\"#0e018b\",\"#0e0189\",\"#0d0187\",\"#0d0185\",\"#0c0183\",\"#0b0181\",\"#0b017e\",\"#0a017c\",\"#09017a\",\"#090178\",\"#080276\",\"#070274\",\"#060272\",\"#060270\",\"#05026e\",\"#04026c\",\"#030269\",\"#030267\",\"#020265\",\"#010263\",\"#010261\",\"#00025f\",\"#00025d\",\"#00025b\",\"#000259\",\"#000257\",\"#000255\",\"#000154\",\"#000152\",\"#000150\",\"#00004e\"],\"nan_color\":\"white\",\"low\":-0.573726757652228,\"high\":1.0}}}}},\"selection_glyph\":{\"type\":\"object\",\"name\":\"Rect\",\"id\":\"p1662\",\"attributes\":{\"tags\":[\"apply_ranges\"],\"x\":{\"type\":\"field\",\"field\":\"index\"},\"y\":{\"type\":\"field\",\"field\":\"variable\"},\"width\":{\"type\":\"value\",\"value\":1},\"height\":{\"type\":\"value\",\"value\":1},\"line_color\":{\"type\":\"value\",\"value\":\"#1f77b4\"},\"line_alpha\":{\"type\":\"value\",\"value\":0},\"fill_color\":{\"type\":\"field\",\"field\":\"zvalues\",\"transform\":{\"id\":\"p1653\"}}}},\"nonselection_glyph\":{\"type\":\"object\",\"name\":\"Rect\",\"id\":\"p1661\",\"attributes\":{\"tags\":[\"apply_ranges\"],\"x\":{\"type\":\"field\",\"field\":\"index\"},\"y\":{\"type\":\"field\",\"field\":\"variable\"},\"width\":{\"type\":\"value\",\"value\":1},\"height\":{\"type\":\"value\",\"value\":1},\"line_color\":{\"type\":\"value\",\"value\":\"#1f77b4\"},\"line_alpha\":{\"type\":\"value\",\"value\":0},\"fill_color\":{\"type\":\"field\",\"field\":\"zvalues\",\"transform\":{\"id\":\"p1653\"}},\"fill_alpha\":{\"type\":\"value\",\"value\":0.1},\"hatch_alpha\":{\"type\":\"value\",\"value\":0.1}}},\"muted_glyph\":{\"type\":\"object\",\"name\":\"Rect\",\"id\":\"p1663\",\"attributes\":{\"tags\":[\"apply_ranges\"],\"x\":{\"type\":\"field\",\"field\":\"index\"},\"y\":{\"type\":\"field\",\"field\":\"variable\"},\"width\":{\"type\":\"value\",\"value\":1},\"height\":{\"type\":\"value\",\"value\":1},\"line_color\":{\"type\":\"value\",\"value\":\"#1f77b4\"},\"line_alpha\":{\"type\":\"value\",\"value\":0},\"fill_color\":{\"type\":\"field\",\"field\":\"zvalues\",\"transform\":{\"id\":\"p1653\"}},\"fill_alpha\":{\"type\":\"value\",\"value\":0.2},\"hatch_alpha\":{\"type\":\"value\",\"value\":0.2}}}}}],\"toolbar\":{\"type\":\"object\",\"name\":\"Toolbar\",\"id\":\"p1631\",\"attributes\":{\"tools\":[{\"type\":\"object\",\"name\":\"WheelZoomTool\",\"id\":\"p1620\",\"attributes\":{\"tags\":[\"hv_created\"],\"renderers\":\"auto\",\"zoom_together\":\"none\"}},{\"type\":\"object\",\"name\":\"HoverTool\",\"id\":\"p1621\",\"attributes\":{\"tags\":[\"hv_created\"],\"renderers\":[{\"id\":\"p1664\"}],\"tooltips\":[[\"index\",\"@{index}\"],[\"variable\",\"@{variable}\"],[\"value\",\"@{value}\"]]}},{\"type\":\"object\",\"name\":\"SaveTool\",\"id\":\"p1644\"},{\"type\":\"object\",\"name\":\"PanTool\",\"id\":\"p1645\"},{\"type\":\"object\",\"name\":\"BoxZoomTool\",\"id\":\"p1646\",\"attributes\":{\"overlay\":{\"type\":\"object\",\"name\":\"BoxAnnotation\",\"id\":\"p1647\",\"attributes\":{\"syncable\":false,\"level\":\"overlay\",\"visible\":false,\"left\":{\"type\":\"number\",\"value\":\"nan\"},\"right\":{\"type\":\"number\",\"value\":\"nan\"},\"top\":{\"type\":\"number\",\"value\":\"nan\"},\"bottom\":{\"type\":\"number\",\"value\":\"nan\"},\"left_units\":\"canvas\",\"right_units\":\"canvas\",\"top_units\":\"canvas\",\"bottom_units\":\"canvas\",\"line_color\":\"black\",\"line_alpha\":1.0,\"line_width\":2,\"line_dash\":[4,4],\"fill_color\":\"lightgrey\",\"fill_alpha\":0.5}}}},{\"type\":\"object\",\"name\":\"ResetTool\",\"id\":\"p1652\"}],\"active_drag\":{\"id\":\"p1645\"},\"active_scroll\":{\"id\":\"p1620\"}}},\"left\":[{\"type\":\"object\",\"name\":\"CategoricalAxis\",\"id\":\"p1639\",\"attributes\":{\"ticker\":{\"type\":\"object\",\"name\":\"CategoricalTicker\",\"id\":\"p1640\"},\"formatter\":{\"type\":\"object\",\"name\":\"CategoricalTickFormatter\",\"id\":\"p1641\"},\"axis_label\":\"variable\",\"major_label_policy\":{\"type\":\"object\",\"name\":\"AllLabels\",\"id\":\"p1642\"}}}],\"right\":[{\"type\":\"object\",\"name\":\"ColorBar\",\"id\":\"p1668\",\"attributes\":{\"location\":[0,0],\"ticker\":{\"type\":\"object\",\"name\":\"BasicTicker\",\"id\":\"p1667\",\"attributes\":{\"mantissas\":[1,2,5]}},\"major_label_policy\":{\"type\":\"object\",\"name\":\"NoOverlap\",\"id\":\"p1669\"},\"label_standoff\":8,\"major_tick_line_color\":\"black\",\"bar_line_color\":\"black\",\"color_mapper\":{\"id\":\"p1653\"}}}],\"below\":[{\"type\":\"object\",\"name\":\"CategoricalAxis\",\"id\":\"p1634\",\"attributes\":{\"ticker\":{\"type\":\"object\",\"name\":\"CategoricalTicker\",\"id\":\"p1635\"},\"formatter\":{\"type\":\"object\",\"name\":\"CategoricalTickFormatter\",\"id\":\"p1636\"},\"axis_label\":\"index\",\"major_label_policy\":{\"type\":\"object\",\"name\":\"AllLabels\",\"id\":\"p1637\"}}}],\"center\":[{\"type\":\"object\",\"name\":\"Grid\",\"id\":\"p1638\",\"attributes\":{\"axis\":{\"id\":\"p1634\"},\"grid_line_color\":null}},{\"type\":\"object\",\"name\":\"Grid\",\"id\":\"p1643\",\"attributes\":{\"dimension\":1,\"axis\":{\"id\":\"p1639\"},\"grid_line_color\":null}}],\"min_border_top\":10,\"min_border_bottom\":10,\"min_border_left\":10,\"min_border_right\":10,\"output_backend\":\"webgl\"}},{\"type\":\"object\",\"name\":\"Spacer\",\"id\":\"p1671\",\"attributes\":{\"name\":\"HSpacer01884\",\"stylesheets\":[\"\\n:host(.pn-loading):before, .pn-loading:before {\\n  background-color: #c3c3c3;\\n  mask-size: auto calc(min(50%, 400px));\\n  -webkit-mask-size: auto calc(min(50%, 400px));\\n}\",{\"id\":\"p1613\"},{\"id\":\"p1611\"},{\"id\":\"p1612\"}],\"margin\":0,\"sizing_mode\":\"stretch_width\",\"align\":\"start\"}}]}}],\"defs\":[{\"type\":\"model\",\"name\":\"ReactiveHTML1\"},{\"type\":\"model\",\"name\":\"FlexBox1\",\"properties\":[{\"name\":\"align_content\",\"kind\":\"Any\",\"default\":\"flex-start\"},{\"name\":\"align_items\",\"kind\":\"Any\",\"default\":\"flex-start\"},{\"name\":\"flex_direction\",\"kind\":\"Any\",\"default\":\"row\"},{\"name\":\"flex_wrap\",\"kind\":\"Any\",\"default\":\"wrap\"},{\"name\":\"gap\",\"kind\":\"Any\",\"default\":\"\"},{\"name\":\"justify_content\",\"kind\":\"Any\",\"default\":\"flex-start\"}]},{\"type\":\"model\",\"name\":\"FloatPanel1\",\"properties\":[{\"name\":\"config\",\"kind\":\"Any\",\"default\":{\"type\":\"map\"}},{\"name\":\"contained\",\"kind\":\"Any\",\"default\":true},{\"name\":\"position\",\"kind\":\"Any\",\"default\":\"right-top\"},{\"name\":\"offsetx\",\"kind\":\"Any\",\"default\":null},{\"name\":\"offsety\",\"kind\":\"Any\",\"default\":null},{\"name\":\"theme\",\"kind\":\"Any\",\"default\":\"primary\"},{\"name\":\"status\",\"kind\":\"Any\",\"default\":\"normalized\"}]},{\"type\":\"model\",\"name\":\"GridStack1\",\"properties\":[{\"name\":\"mode\",\"kind\":\"Any\",\"default\":\"warn\"},{\"name\":\"ncols\",\"kind\":\"Any\",\"default\":null},{\"name\":\"nrows\",\"kind\":\"Any\",\"default\":null},{\"name\":\"allow_resize\",\"kind\":\"Any\",\"default\":true},{\"name\":\"allow_drag\",\"kind\":\"Any\",\"default\":true},{\"name\":\"state\",\"kind\":\"Any\",\"default\":[]}]},{\"type\":\"model\",\"name\":\"drag1\",\"properties\":[{\"name\":\"slider_width\",\"kind\":\"Any\",\"default\":5},{\"name\":\"slider_color\",\"kind\":\"Any\",\"default\":\"black\"},{\"name\":\"value\",\"kind\":\"Any\",\"default\":50}]},{\"type\":\"model\",\"name\":\"click1\",\"properties\":[{\"name\":\"terminal_output\",\"kind\":\"Any\",\"default\":\"\"},{\"name\":\"debug_name\",\"kind\":\"Any\",\"default\":\"\"},{\"name\":\"clears\",\"kind\":\"Any\",\"default\":0}]},{\"type\":\"model\",\"name\":\"FastWrapper1\",\"properties\":[{\"name\":\"object\",\"kind\":\"Any\",\"default\":null},{\"name\":\"style\",\"kind\":\"Any\",\"default\":null}]},{\"type\":\"model\",\"name\":\"NotificationAreaBase1\",\"properties\":[{\"name\":\"js_events\",\"kind\":\"Any\",\"default\":{\"type\":\"map\"}},{\"name\":\"position\",\"kind\":\"Any\",\"default\":\"bottom-right\"},{\"name\":\"_clear\",\"kind\":\"Any\",\"default\":0}]},{\"type\":\"model\",\"name\":\"NotificationArea1\",\"properties\":[{\"name\":\"js_events\",\"kind\":\"Any\",\"default\":{\"type\":\"map\"}},{\"name\":\"notifications\",\"kind\":\"Any\",\"default\":[]},{\"name\":\"position\",\"kind\":\"Any\",\"default\":\"bottom-right\"},{\"name\":\"_clear\",\"kind\":\"Any\",\"default\":0},{\"name\":\"types\",\"kind\":\"Any\",\"default\":[{\"type\":\"map\",\"entries\":[[\"type\",\"warning\"],[\"background\",\"#ffc107\"],[\"icon\",{\"type\":\"map\",\"entries\":[[\"className\",\"fas fa-exclamation-triangle\"],[\"tagName\",\"i\"],[\"color\",\"white\"]]}]]},{\"type\":\"map\",\"entries\":[[\"type\",\"info\"],[\"background\",\"#007bff\"],[\"icon\",{\"type\":\"map\",\"entries\":[[\"className\",\"fas fa-info-circle\"],[\"tagName\",\"i\"],[\"color\",\"white\"]]}]]}]}]},{\"type\":\"model\",\"name\":\"Notification\",\"properties\":[{\"name\":\"background\",\"kind\":\"Any\",\"default\":null},{\"name\":\"duration\",\"kind\":\"Any\",\"default\":3000},{\"name\":\"icon\",\"kind\":\"Any\",\"default\":null},{\"name\":\"message\",\"kind\":\"Any\",\"default\":\"\"},{\"name\":\"notification_type\",\"kind\":\"Any\",\"default\":null},{\"name\":\"_destroyed\",\"kind\":\"Any\",\"default\":false}]},{\"type\":\"model\",\"name\":\"TemplateActions1\",\"properties\":[{\"name\":\"open_modal\",\"kind\":\"Any\",\"default\":0},{\"name\":\"close_modal\",\"kind\":\"Any\",\"default\":0}]},{\"type\":\"model\",\"name\":\"BootstrapTemplateActions1\",\"properties\":[{\"name\":\"open_modal\",\"kind\":\"Any\",\"default\":0},{\"name\":\"close_modal\",\"kind\":\"Any\",\"default\":0}]},{\"type\":\"model\",\"name\":\"TemplateEditor1\",\"properties\":[{\"name\":\"layout\",\"kind\":\"Any\",\"default\":[]}]},{\"type\":\"model\",\"name\":\"MaterialTemplateActions1\",\"properties\":[{\"name\":\"open_modal\",\"kind\":\"Any\",\"default\":0},{\"name\":\"close_modal\",\"kind\":\"Any\",\"default\":0}]},{\"type\":\"model\",\"name\":\"copy_to_clipboard1\",\"properties\":[{\"name\":\"fill\",\"kind\":\"Any\",\"default\":\"none\"},{\"name\":\"value\",\"kind\":\"Any\",\"default\":null}]}]}};\n",
       "  var render_items = [{\"docid\":\"1f89631e-2d62-4ad0-8b7c-371ca0e11707\",\"roots\":{\"p1610\":\"db325270-f7b1-4da1-80f6-d7800bad6038\"},\"root_ids\":[\"p1610\"]}];\n",
       "  var docs = Object.values(docs_json)\n",
       "  if (!docs) {\n",
       "    return\n",
       "  }\n",
       "  const py_version = docs[0].version.replace('rc', '-rc.').replace('.dev', '-dev.')\n",
       "  async function embed_document(root) {\n",
       "    var Bokeh = get_bokeh(root)\n",
       "    await Bokeh.embed.embed_items_notebook(docs_json, render_items);\n",
       "    for (const render_item of render_items) {\n",
       "      for (const root_id of render_item.root_ids) {\n",
       "\tconst id_el = document.getElementById(root_id)\n",
       "\tif (id_el.children.length && id_el.children[0].hasAttribute('data-root-id')) {\n",
       "\t  const root_el = id_el.children[0]\n",
       "\t  root_el.id = root_el.id + '-rendered'\n",
       "\t  for (const child of root_el.children) {\n",
       "            // Ensure JupyterLab does not capture keyboard shortcuts\n",
       "            // see: https://jupyterlab.readthedocs.io/en/4.1.x/extension/notebook.html#keyboard-interaction-model\n",
       "\t    child.setAttribute('data-lm-suppress-shortcuts', 'true')\n",
       "\t  }\n",
       "\t}\n",
       "      }\n",
       "    }\n",
       "  }\n",
       "  function get_bokeh(root) {\n",
       "    if (root.Bokeh === undefined) {\n",
       "      return null\n",
       "    } else if (root.Bokeh.version !== py_version) {\n",
       "      if (root.Bokeh.versions === undefined || !root.Bokeh.versions.has(py_version)) {\n",
       "\treturn null\n",
       "      }\n",
       "      return root.Bokeh.versions.get(py_version);\n",
       "    } else if (root.Bokeh.version === py_version) {\n",
       "      return root.Bokeh\n",
       "    }\n",
       "    return null\n",
       "  }\n",
       "  function is_loaded(root) {\n",
       "    var Bokeh = get_bokeh(root)\n",
       "    return (Bokeh != null && Bokeh.Panel !== undefined)\n",
       "  }\n",
       "  if (is_loaded(root)) {\n",
       "    embed_document(root);\n",
       "  } else {\n",
       "    var attempts = 0;\n",
       "    var timer = setInterval(function(root) {\n",
       "      if (is_loaded(root)) {\n",
       "        clearInterval(timer);\n",
       "        embed_document(root);\n",
       "      } else if (document.readyState == \"complete\") {\n",
       "        attempts++;\n",
       "        if (attempts > 200) {\n",
       "          clearInterval(timer);\n",
       "\t  var Bokeh = get_bokeh(root)\n",
       "\t  if (Bokeh == null || Bokeh.Panel == null) {\n",
       "            console.warn(\"Panel: ERROR: Unable to run Panel code because Bokeh or Panel library is missing\");\n",
       "\t  } else {\n",
       "\t    console.warn(\"Panel: WARNING: Attempting to render but not all required libraries could be resolved.\")\n",
       "\t    embed_document(root)\n",
       "\t  }\n",
       "        }\n",
       "      }\n",
       "    }, 25, root)\n",
       "  }\n",
       "})(window);</script>"
      ],
      "text/plain": [
       ":HeatMap   [index,variable]   (value)"
      ]
     },
     "execution_count": 36,
     "metadata": {
      "application/vnd.holoviews_exec.v0+json": {
       "id": "p1610"
      }
     },
     "output_type": "execute_result"
    }
   ],
   "source": [
    "# This may not work if the \"Bokeh\" library is missing\n",
    "feed_data_num.fetch(10000).corr().with_columns(index = pl.Series(feed_data_num.columns)).melt(id_vars = \"index\").plot.heatmap(x = \"index\", y = \"variable\", C = \"value\")"
   ]
  },
  {
   "cell_type": "code",
   "execution_count": 37,
   "id": "0086cdc6-f87f-4eb2-8574-b38553c025fa",
   "metadata": {},
   "outputs": [],
   "source": [
    "rel_feed_cols = feed_data.select([\n",
    "    \"label\",\n",
    "    \"e_section\",\n",
    "    \"e_rn\",\n",
    "    \"i_upTimes\",\n",
    "    \"i_dislikeTimes\",\n",
    "    \"u_refreshTimes\",\n",
    "    \"u_feedLifeCycle\",\n",
    "    \"u_browserLifeCycle\",\n",
    "    \"in_ads\",\n",
    "    # \"InterestedST\",\n",
    "    # \"hour\",\n",
    "])\n",
    "\n",
    "data_cols = rel_feed_cols.collect()"
   ]
  },
  {
   "cell_type": "code",
   "execution_count": 38,
   "id": "c1bb4ee0-6580-4340-a9a3-85ad827a599c",
   "metadata": {},
   "outputs": [],
   "source": [
    "train_df, test_df = train_test_split(data_cols)"
   ]
  },
  {
   "cell_type": "code",
   "execution_count": 39,
   "id": "557864ca-728d-458a-8c7b-d25b92dceaa9",
   "metadata": {},
   "outputs": [],
   "source": [
    "train_X = train_df.select(pl.exclude(TARGET_COL))\n",
    "train_y = train_df[TARGET_COL]\n",
    "test_X = test_df.select(pl.exclude(TARGET_COL))\n",
    "test_y = test_df[TARGET_COL]"
   ]
  },
  {
   "cell_type": "code",
   "execution_count": 40,
   "id": "fba94c28-a8f7-4147-a718-b39ffc915982",
   "metadata": {},
   "outputs": [],
   "source": [
    "fit_model = model.fit(\n",
    "    train_X,\n",
    "    train_y,\n",
    ")"
   ]
  },
  {
   "cell_type": "code",
   "execution_count": 41,
   "id": "d22999fa-3bb6-4a0d-9cb8-162fcbfe7736",
   "metadata": {},
   "outputs": [
    {
     "data": {
      "image/png": "[encoded data removed]",
      "text/plain": [
       "<Figure size 640x480 with 2 Axes>"
      ]
     },
     "metadata": {},
     "output_type": "display_data"
    }
   ],
   "source": [
    "_ = metrics.ConfusionMatrixDisplay(\n",
    "    metrics.confusion_matrix(test_y, model.predict(test_X))\n",
    ").plot()"
   ]
  },
  {
   "cell_type": "code",
   "execution_count": 42,
   "id": "32f009f3-bc5e-46da-9b2f-96b0d0b75fca",
   "metadata": {},
   "outputs": [
    {
     "name": "stdout",
     "output_type": "stream",
     "text": [
      "              precision    recall  f1-score   support\n",
      "\n",
      "       False       0.68      0.35      0.46    187868\n",
      "        True       0.83      0.95      0.88    619065\n",
      "\n",
      "    accuracy                           0.81    806933\n",
      "   macro avg       0.75      0.65      0.67    806933\n",
      "weighted avg       0.79      0.81      0.79    806933\n",
      "\n"
     ]
    }
   ],
   "source": [
    "print(metrics.classification_report(test_y, model.predict(test_X)))"
   ]
  },
  {
   "cell_type": "code",
   "execution_count": 43,
   "id": "a8a55555-cd91-4f97-ac12-6be641de9963",
   "metadata": {},
   "outputs": [
    {
     "data": {
      "image/png": "[encoded data removed]",
      "text/plain": [
       "<Figure size 640x480 with 1 Axes>"
      ]
     },
     "metadata": {},
     "output_type": "display_data"
    }
   ],
   "source": [
    "_ = metrics.RocCurveDisplay.from_predictions(test_y, model.predict(test_X))"
   ]
  },
  {
   "cell_type": "markdown",
   "id": "e7868bb2-583c-4027-8ab6-24e3c3aee141",
   "metadata": {},
   "source": [
    "## Naive Bayes Model"
   ]
  },
  {
   "cell_type": "code",
   "execution_count": 44,
   "id": "c2d291db-a272-43a5-9b1f-9ebb0532cac1",
   "metadata": {},
   "outputs": [],
   "source": [
    "model_nb = GaussianNB()"
   ]
  },
  {
   "cell_type": "code",
   "execution_count": 45,
   "id": "43eaf4e9-0bb0-4d1f-a7be-f8297ab9c933",
   "metadata": {},
   "outputs": [],
   "source": [
    "rel_cols_nb = feed_data.select([\n",
    "    \"label\",\n",
    "    \"e_section\",\n",
    "    \"e_rn\",\n",
    "    \"i_upTimes\",\n",
    "    \"i_dislikeTimes\",\n",
    "    \"u_refreshTimes\",\n",
    "    \"u_feedLifeCycle\",\n",
    "    \"u_browserLifeCycle\",\n",
    "    TARGET_COL,\n",
    "    #\"InterestedST\",\n",
    "    #\"hour\",\n",
    "])"
   ]
  },
  {
   "cell_type": "code",
   "execution_count": 46,
   "id": "4c1aeec4-9ced-41cd-9de4-3a6f073f89e4",
   "metadata": {},
   "outputs": [],
   "source": [
    "train_df_nb, test_df_nb = train_test_split(rel_cols_nb.collect())"
   ]
  },
  {
   "cell_type": "code",
   "execution_count": 47,
   "id": "ff64d0fd-22d1-4d61-a829-e75e1885aa04",
   "metadata": {},
   "outputs": [],
   "source": [
    "train_nb_X = train_df_nb.select(pl.exclude(TARGET_COL))\n",
    "train_nb_y = train_df_nb[TARGET_COL]\n",
    "test_nb_X = test_df_nb.select(pl.exclude(TARGET_COL))\n",
    "test_nb_y = test_df_nb[TARGET_COL]"
   ]
  },
  {
   "cell_type": "code",
   "execution_count": 48,
   "id": "4f023afd-a101-47d3-8dda-9f9bd2904985",
   "metadata": {},
   "outputs": [],
   "source": [
    "fit_model_nb = model_nb.fit(train_nb_X, train_nb_y)"
   ]
  },
  {
   "cell_type": "code",
   "execution_count": 49,
   "id": "573bab3b-07b7-47b7-b2c4-a9f7afdfc81b",
   "metadata": {},
   "outputs": [
    {
     "data": {
      "image/png": "[encoded data removed]",
      "text/plain": [
       "<Figure size 640x480 with 2 Axes>"
      ]
     },
     "metadata": {},
     "output_type": "display_data"
    }
   ],
   "source": [
    "_ = metrics.ConfusionMatrixDisplay(\n",
    "    metrics.confusion_matrix(test_nb_y, fit_model_nb.predict(test_nb_X))\n",
    ").plot()"
   ]
  },
  {
   "cell_type": "code",
   "execution_count": 50,
   "id": "a904d50b-990a-44f9-a1ea-541325814cf2",
   "metadata": {},
   "outputs": [
    {
     "name": "stdout",
     "output_type": "stream",
     "text": [
      "              precision    recall  f1-score   support\n",
      "\n",
      "       False       0.55      0.47      0.51    187736\n",
      "        True       0.85      0.88      0.86    619197\n",
      "\n",
      "    accuracy                           0.79    806933\n",
      "   macro avg       0.70      0.68      0.69    806933\n",
      "weighted avg       0.78      0.79      0.78    806933\n",
      "\n"
     ]
    }
   ],
   "source": [
    "print(metrics.classification_report(test_nb_y, model_nb.predict(test_nb_X)))"
   ]
  },
  {
   "cell_type": "code",
   "execution_count": 51,
   "id": "ac680eff-519e-49ab-b182-e933c820ef68",
   "metadata": {},
   "outputs": [
    {
     "data": {
      "text/plain": [
       "<sklearn.metrics._plot.roc_curve.RocCurveDisplay at 0x7f757acd74d0>"
      ]
     },
     "execution_count": 51,
     "metadata": {},
     "output_type": "execute_result"
    },
    {
     "data": {
      "image/png": "[encoded data removed]",
      "text/plain": [
       "<Figure size 640x480 with 1 Axes>"
      ]
     },
     "metadata": {},
     "output_type": "display_data"
    }
   ],
   "source": [
    "metrics.RocCurveDisplay.from_predictions(test_y, model_nb.predict(test_X))"
   ]
  },
  {
   "cell_type": "markdown",
   "id": "5dcfa2ec-443e-4f5b-8c05-a358c3fd2364",
   "metadata": {},
   "source": [
    "## Gradient Boost"
   ]
  },
  {
   "cell_type": "code",
   "execution_count": 52,
   "id": "7ab80f5a-c543-45b2-8b6f-930cd245e7ca",
   "metadata": {},
   "outputs": [],
   "source": [
    "model_gb = HistGradientBoostingClassifier()"
   ]
  },
  {
   "cell_type": "code",
   "execution_count": 53,
   "id": "2035c519-e853-4aa3-9ace-6bdcffd72792",
   "metadata": {},
   "outputs": [],
   "source": [
    "rel_cols_gb = feed_data.select([\n",
    "    \"label\",\n",
    "    \"e_section\",\n",
    "    \"e_rn\",\n",
    "    \"i_upTimes\",\n",
    "    \"i_dislikeTimes\",\n",
    "    \"u_refreshTimes\",\n",
    "    \"u_feedLifeCycle\",\n",
    "    \"u_browserLifeCycle\",\n",
    "    TARGET_COL,\n",
    "    #\"InterestedST\",\n",
    "    # \"hour\",\n",
    "])"
   ]
  },
  {
   "cell_type": "code",
   "execution_count": 54,
   "id": "89a20728-8b18-4a6b-9343-fb25b68e3ef2",
   "metadata": {},
   "outputs": [],
   "source": [
    "train_df_gb, test_df_gb = train_test_split(rel_cols_gb.collect())\n",
    "\n",
    "train_gb_X = train_df_gb.select(pl.exclude(TARGET_COL))\n",
    "train_gb_y = train_df_gb[TARGET_COL]\n",
    "test_gb_X = test_df_gb.select(pl.exclude(TARGET_COL))\n",
    "test_gb_y = test_df_gb[TARGET_COL]"
   ]
  },
  {
   "cell_type": "code",
   "execution_count": 55,
   "id": "6300a728-03b5-4270-ab8a-89533851f228",
   "metadata": {},
   "outputs": [],
   "source": [
    "fit_model_gb = model_gb.fit(train_gb_X, train_gb_y)"
   ]
  },
  {
   "cell_type": "code",
   "execution_count": 56,
   "id": "7b37cfa0-7a9d-4551-b8ad-0f8f03ee398e",
   "metadata": {},
   "outputs": [
    {
     "data": {
      "image/png": "[encoded data removed]",
      "text/plain": [
       "<Figure size 640x480 with 2 Axes>"
      ]
     },
     "metadata": {},
     "output_type": "display_data"
    }
   ],
   "source": [
    "_ = metrics.ConfusionMatrixDisplay(\n",
    "    metrics.confusion_matrix(test_gb_y, fit_model_gb.predict(test_gb_X))\n",
    ").plot()"
   ]
  },
  {
   "cell_type": "code",
   "execution_count": 57,
   "id": "d524bf91-e7e1-4354-b1b9-5a7feb6f96b1",
   "metadata": {},
   "outputs": [
    {
     "name": "stdout",
     "output_type": "stream",
     "text": [
      "              precision    recall  f1-score   support\n",
      "\n",
      "       False       0.70      0.41      0.52    187605\n",
      "        True       0.84      0.95      0.89    619328\n",
      "\n",
      "    accuracy                           0.82    806933\n",
      "   macro avg       0.77      0.68      0.70    806933\n",
      "weighted avg       0.81      0.82      0.80    806933\n",
      "\n"
     ]
    }
   ],
   "source": [
    "print(metrics.classification_report(test_gb_y, model_gb.predict(test_gb_X)))"
   ]
  },
  {
   "cell_type": "markdown",
   "id": "6044da92-4b34-41d1-9eb9-2586fac0cfb3",
   "metadata": {},
   "source": [
    "## Voting Classifier"
   ]
  },
  {
   "cell_type": "code",
   "execution_count": 58,
   "id": "56073f5e-bc6e-4d26-a78b-05a1c84d3502",
   "metadata": {},
   "outputs": [],
   "source": [
    "model_voting = VotingClassifier([\n",
    "    (\"log_reg\", LogisticRegression()),\n",
    "    (\"naive_bayes\", GaussianNB()),\n",
    "    (\"random_forest\", RandomForestClassifier()),\n",
    "    (\"grad_boost\", HistGradientBoostingClassifier()),\n",
    "])"
   ]
  },
  {
   "cell_type": "code",
   "execution_count": 59,
   "id": "8bf54837-7667-45d5-9d49-5099b0a08017",
   "metadata": {},
   "outputs": [
    {
     "data": {
      "text/html": [
       "<style>#sk-container-id-1 {\n",
       "  /* Definition of color scheme common for light and dark mode */\n",
       "  --sklearn-color-text: black;\n",
       "  --sklearn-color-line: gray;\n",
       "  /* Definition of color scheme for unfitted estimators */\n",
       "  --sklearn-color-unfitted-level-0: #fff5e6;\n",
       "  --sklearn-color-unfitted-level-1: #f6e4d2;\n",
       "  --sklearn-color-unfitted-level-2: #ffe0b3;\n",
       "  --sklearn-color-unfitted-level-3: chocolate;\n",
       "  /* Definition of color scheme for fitted estimators */\n",
       "  --sklearn-color-fitted-level-0: #f0f8ff;\n",
       "  --sklearn-color-fitted-level-1: #d4ebff;\n",
       "  --sklearn-color-fitted-level-2: #b3dbfd;\n",
       "  --sklearn-color-fitted-level-3: cornflowerblue;\n",
       "\n",
       "  /* Specific color for light theme */\n",
       "  --sklearn-color-text-on-default-background: var(--sg-text-color, var(--theme-code-foreground, var(--jp-content-font-color1, black)));\n",
       "  --sklearn-color-background: var(--sg-background-color, var(--theme-background, var(--jp-layout-color0, white)));\n",
       "  --sklearn-color-border-box: var(--sg-text-color, var(--theme-code-foreground, var(--jp-content-font-color1, black)));\n",
       "  --sklearn-color-icon: #696969;\n",
       "\n",
       "  @media (prefers-color-scheme: dark) {\n",
       "    /* Redefinition of color scheme for dark theme */\n",
       "    --sklearn-color-text-on-default-background: var(--sg-text-color, var(--theme-code-foreground, var(--jp-content-font-color1, white)));\n",
       "    --sklearn-color-background: var(--sg-background-color, var(--theme-background, var(--jp-layout-color0, #111)));\n",
       "    --sklearn-color-border-box: var(--sg-text-color, var(--theme-code-foreground, var(--jp-content-font-color1, white)));\n",
       "    --sklearn-color-icon: #878787;\n",
       "  }\n",
       "}\n",
       "\n",
       "#sk-container-id-1 {\n",
       "  color: var(--sklearn-color-text);\n",
       "}\n",
       "\n",
       "#sk-container-id-1 pre {\n",
       "  padding: 0;\n",
       "}\n",
       "\n",
       "#sk-container-id-1 input.sk-hidden--visually {\n",
       "  border: 0;\n",
       "  clip: rect(1px 1px 1px 1px);\n",
       "  clip: rect(1px, 1px, 1px, 1px);\n",
       "  height: 1px;\n",
       "  margin: -1px;\n",
       "  overflow: hidden;\n",
       "  padding: 0;\n",
       "  position: absolute;\n",
       "  width: 1px;\n",
       "}\n",
       "\n",
       "#sk-container-id-1 div.sk-dashed-wrapped {\n",
       "  border: 1px dashed var(--sklearn-color-line);\n",
       "  margin: 0 0.4em 0.5em 0.4em;\n",
       "  box-sizing: border-box;\n",
       "  padding-bottom: 0.4em;\n",
       "  background-color: var(--sklearn-color-background);\n",
       "}\n",
       "\n",
       "#sk-container-id-1 div.sk-container {\n",
       "  /* jupyter's `normalize.less` sets `[hidden] { display: none; }`\n",
       "     but bootstrap.min.css set `[hidden] { display: none !important; }`\n",
       "     so we also need the `!important` here to be able to override the\n",
       "     default hidden behavior on the sphinx rendered scikit-learn.org.\n",
       "     See: https://github.com/scikit-learn/scikit-learn/issues/21755 */\n",
       "  display: inline-block !important;\n",
       "  position: relative;\n",
       "}\n",
       "\n",
       "#sk-container-id-1 div.sk-text-repr-fallback {\n",
       "  display: none;\n",
       "}\n",
       "\n",
       "div.sk-parallel-item,\n",
       "div.sk-serial,\n",
       "div.sk-item {\n",
       "  /* draw centered vertical line to link estimators */\n",
       "  background-image: linear-gradient(var(--sklearn-color-text-on-default-background), var(--sklearn-color-text-on-default-background));\n",
       "  background-size: 2px 100%;\n",
       "  background-repeat: no-repeat;\n",
       "  background-position: center center;\n",
       "}\n",
       "\n",
       "/* Parallel-specific style estimator block */\n",
       "\n",
       "#sk-container-id-1 div.sk-parallel-item::after {\n",
       "  content: \"\";\n",
       "  width: 100%;\n",
       "  border-bottom: 2px solid var(--sklearn-color-text-on-default-background);\n",
       "  flex-grow: 1;\n",
       "}\n",
       "\n",
       "#sk-container-id-1 div.sk-parallel {\n",
       "  display: flex;\n",
       "  align-items: stretch;\n",
       "  justify-content: center;\n",
       "  background-color: var(--sklearn-color-background);\n",
       "  position: relative;\n",
       "}\n",
       "\n",
       "#sk-container-id-1 div.sk-parallel-item {\n",
       "  display: flex;\n",
       "  flex-direction: column;\n",
       "}\n",
       "\n",
       "#sk-container-id-1 div.sk-parallel-item:first-child::after {\n",
       "  align-self: flex-end;\n",
       "  width: 50%;\n",
       "}\n",
       "\n",
       "#sk-container-id-1 div.sk-parallel-item:last-child::after {\n",
       "  align-self: flex-start;\n",
       "  width: 50%;\n",
       "}\n",
       "\n",
       "#sk-container-id-1 div.sk-parallel-item:only-child::after {\n",
       "  width: 0;\n",
       "}\n",
       "\n",
       "/* Serial-specific style estimator block */\n",
       "\n",
       "#sk-container-id-1 div.sk-serial {\n",
       "  display: flex;\n",
       "  flex-direction: column;\n",
       "  align-items: center;\n",
       "  background-color: var(--sklearn-color-background);\n",
       "  padding-right: 1em;\n",
       "  padding-left: 1em;\n",
       "}\n",
       "\n",
       "\n",
       "/* Toggleable style: style used for estimator/Pipeline/ColumnTransformer box that is\n",
       "clickable and can be expanded/collapsed.\n",
       "- Pipeline and ColumnTransformer use this feature and define the default style\n",
       "- Estimators will overwrite some part of the style using the `sk-estimator` class\n",
       "*/\n",
       "\n",
       "/* Pipeline and ColumnTransformer style (default) */\n",
       "\n",
       "#sk-container-id-1 div.sk-toggleable {\n",
       "  /* Default theme specific background. It is overwritten whether we have a\n",
       "  specific estimator or a Pipeline/ColumnTransformer */\n",
       "  background-color: var(--sklearn-color-background);\n",
       "}\n",
       "\n",
       "/* Toggleable label */\n",
       "#sk-container-id-1 label.sk-toggleable__label {\n",
       "  cursor: pointer;\n",
       "  display: block;\n",
       "  width: 100%;\n",
       "  margin-bottom: 0;\n",
       "  padding: 0.5em;\n",
       "  box-sizing: border-box;\n",
       "  text-align: center;\n",
       "}\n",
       "\n",
       "#sk-container-id-1 label.sk-toggleable__label-arrow:before {\n",
       "  /* Arrow on the left of the label */\n",
       "  content: \"▸\";\n",
       "  float: left;\n",
       "  margin-right: 0.25em;\n",
       "  color: var(--sklearn-color-icon);\n",
       "}\n",
       "\n",
       "#sk-container-id-1 label.sk-toggleable__label-arrow:hover:before {\n",
       "  color: var(--sklearn-color-text);\n",
       "}\n",
       "\n",
       "/* Toggleable content - dropdown */\n",
       "\n",
       "#sk-container-id-1 div.sk-toggleable__content {\n",
       "  max-height: 0;\n",
       "  max-width: 0;\n",
       "  overflow: hidden;\n",
       "  text-align: left;\n",
       "  /* unfitted */\n",
       "  background-color: var(--sklearn-color-unfitted-level-0);\n",
       "}\n",
       "\n",
       "#sk-container-id-1 div.sk-toggleable__content.fitted {\n",
       "  /* fitted */\n",
       "  background-color: var(--sklearn-color-fitted-level-0);\n",
       "}\n",
       "\n",
       "#sk-container-id-1 div.sk-toggleable__content pre {\n",
       "  margin: 0.2em;\n",
       "  border-radius: 0.25em;\n",
       "  color: var(--sklearn-color-text);\n",
       "  /* unfitted */\n",
       "  background-color: var(--sklearn-color-unfitted-level-0);\n",
       "}\n",
       "\n",
       "#sk-container-id-1 div.sk-toggleable__content.fitted pre {\n",
       "  /* unfitted */\n",
       "  background-color: var(--sklearn-color-fitted-level-0);\n",
       "}\n",
       "\n",
       "#sk-container-id-1 input.sk-toggleable__control:checked~div.sk-toggleable__content {\n",
       "  /* Expand drop-down */\n",
       "  max-height: 200px;\n",
       "  max-width: 100%;\n",
       "  overflow: auto;\n",
       "}\n",
       "\n",
       "#sk-container-id-1 input.sk-toggleable__control:checked~label.sk-toggleable__label-arrow:before {\n",
       "  content: \"▾\";\n",
       "}\n",
       "\n",
       "/* Pipeline/ColumnTransformer-specific style */\n",
       "\n",
       "#sk-container-id-1 div.sk-label input.sk-toggleable__control:checked~label.sk-toggleable__label {\n",
       "  color: var(--sklearn-color-text);\n",
       "  background-color: var(--sklearn-color-unfitted-level-2);\n",
       "}\n",
       "\n",
       "#sk-container-id-1 div.sk-label.fitted input.sk-toggleable__control:checked~label.sk-toggleable__label {\n",
       "  background-color: var(--sklearn-color-fitted-level-2);\n",
       "}\n",
       "\n",
       "/* Estimator-specific style */\n",
       "\n",
       "/* Colorize estimator box */\n",
       "#sk-container-id-1 div.sk-estimator input.sk-toggleable__control:checked~label.sk-toggleable__label {\n",
       "  /* unfitted */\n",
       "  background-color: var(--sklearn-color-unfitted-level-2);\n",
       "}\n",
       "\n",
       "#sk-container-id-1 div.sk-estimator.fitted input.sk-toggleable__control:checked~label.sk-toggleable__label {\n",
       "  /* fitted */\n",
       "  background-color: var(--sklearn-color-fitted-level-2);\n",
       "}\n",
       "\n",
       "#sk-container-id-1 div.sk-label label.sk-toggleable__label,\n",
       "#sk-container-id-1 div.sk-label label {\n",
       "  /* The background is the default theme color */\n",
       "  color: var(--sklearn-color-text-on-default-background);\n",
       "}\n",
       "\n",
       "/* On hover, darken the color of the background */\n",
       "#sk-container-id-1 div.sk-label:hover label.sk-toggleable__label {\n",
       "  color: var(--sklearn-color-text);\n",
       "  background-color: var(--sklearn-color-unfitted-level-2);\n",
       "}\n",
       "\n",
       "/* Label box, darken color on hover, fitted */\n",
       "#sk-container-id-1 div.sk-label.fitted:hover label.sk-toggleable__label.fitted {\n",
       "  color: var(--sklearn-color-text);\n",
       "  background-color: var(--sklearn-color-fitted-level-2);\n",
       "}\n",
       "\n",
       "/* Estimator label */\n",
       "\n",
       "#sk-container-id-1 div.sk-label label {\n",
       "  font-family: monospace;\n",
       "  font-weight: bold;\n",
       "  display: inline-block;\n",
       "  line-height: 1.2em;\n",
       "}\n",
       "\n",
       "#sk-container-id-1 div.sk-label-container {\n",
       "  text-align: center;\n",
       "}\n",
       "\n",
       "/* Estimator-specific */\n",
       "#sk-container-id-1 div.sk-estimator {\n",
       "  font-family: monospace;\n",
       "  border: 1px dotted var(--sklearn-color-border-box);\n",
       "  border-radius: 0.25em;\n",
       "  box-sizing: border-box;\n",
       "  margin-bottom: 0.5em;\n",
       "  /* unfitted */\n",
       "  background-color: var(--sklearn-color-unfitted-level-0);\n",
       "}\n",
       "\n",
       "#sk-container-id-1 div.sk-estimator.fitted {\n",
       "  /* fitted */\n",
       "  background-color: var(--sklearn-color-fitted-level-0);\n",
       "}\n",
       "\n",
       "/* on hover */\n",
       "#sk-container-id-1 div.sk-estimator:hover {\n",
       "  /* unfitted */\n",
       "  background-color: var(--sklearn-color-unfitted-level-2);\n",
       "}\n",
       "\n",
       "#sk-container-id-1 div.sk-estimator.fitted:hover {\n",
       "  /* fitted */\n",
       "  background-color: var(--sklearn-color-fitted-level-2);\n",
       "}\n",
       "\n",
       "/* Specification for estimator info (e.g. \"i\" and \"?\") */\n",
       "\n",
       "/* Common style for \"i\" and \"?\" */\n",
       "\n",
       ".sk-estimator-doc-link,\n",
       "a:link.sk-estimator-doc-link,\n",
       "a:visited.sk-estimator-doc-link {\n",
       "  float: right;\n",
       "  font-size: smaller;\n",
       "  line-height: 1em;\n",
       "  font-family: monospace;\n",
       "  background-color: var(--sklearn-color-background);\n",
       "  border-radius: 1em;\n",
       "  height: 1em;\n",
       "  width: 1em;\n",
       "  text-decoration: none !important;\n",
       "  margin-left: 1ex;\n",
       "  /* unfitted */\n",
       "  border: var(--sklearn-color-unfitted-level-1) 1pt solid;\n",
       "  color: var(--sklearn-color-unfitted-level-1);\n",
       "}\n",
       "\n",
       ".sk-estimator-doc-link.fitted,\n",
       "a:link.sk-estimator-doc-link.fitted,\n",
       "a:visited.sk-estimator-doc-link.fitted {\n",
       "  /* fitted */\n",
       "  border: var(--sklearn-color-fitted-level-1) 1pt solid;\n",
       "  color: var(--sklearn-color-fitted-level-1);\n",
       "}\n",
       "\n",
       "/* On hover */\n",
       "div.sk-estimator:hover .sk-estimator-doc-link:hover,\n",
       ".sk-estimator-doc-link:hover,\n",
       "div.sk-label-container:hover .sk-estimator-doc-link:hover,\n",
       ".sk-estimator-doc-link:hover {\n",
       "  /* unfitted */\n",
       "  background-color: var(--sklearn-color-unfitted-level-3);\n",
       "  color: var(--sklearn-color-background);\n",
       "  text-decoration: none;\n",
       "}\n",
       "\n",
       "div.sk-estimator.fitted:hover .sk-estimator-doc-link.fitted:hover,\n",
       ".sk-estimator-doc-link.fitted:hover,\n",
       "div.sk-label-container:hover .sk-estimator-doc-link.fitted:hover,\n",
       ".sk-estimator-doc-link.fitted:hover {\n",
       "  /* fitted */\n",
       "  background-color: var(--sklearn-color-fitted-level-3);\n",
       "  color: var(--sklearn-color-background);\n",
       "  text-decoration: none;\n",
       "}\n",
       "\n",
       "/* Span, style for the box shown on hovering the info icon */\n",
       ".sk-estimator-doc-link span {\n",
       "  display: none;\n",
       "  z-index: 9999;\n",
       "  position: relative;\n",
       "  font-weight: normal;\n",
       "  right: .2ex;\n",
       "  padding: .5ex;\n",
       "  margin: .5ex;\n",
       "  width: min-content;\n",
       "  min-width: 20ex;\n",
       "  max-width: 50ex;\n",
       "  color: var(--sklearn-color-text);\n",
       "  box-shadow: 2pt 2pt 4pt #999;\n",
       "  /* unfitted */\n",
       "  background: var(--sklearn-color-unfitted-level-0);\n",
       "  border: .5pt solid var(--sklearn-color-unfitted-level-3);\n",
       "}\n",
       "\n",
       ".sk-estimator-doc-link.fitted span {\n",
       "  /* fitted */\n",
       "  background: var(--sklearn-color-fitted-level-0);\n",
       "  border: var(--sklearn-color-fitted-level-3);\n",
       "}\n",
       "\n",
       ".sk-estimator-doc-link:hover span {\n",
       "  display: block;\n",
       "}\n",
       "\n",
       "/* \"?\"-specific style due to the `<a>` HTML tag */\n",
       "\n",
       "#sk-container-id-1 a.estimator_doc_link {\n",
       "  float: right;\n",
       "  font-size: 1rem;\n",
       "  line-height: 1em;\n",
       "  font-family: monospace;\n",
       "  background-color: var(--sklearn-color-background);\n",
       "  border-radius: 1rem;\n",
       "  height: 1rem;\n",
       "  width: 1rem;\n",
       "  text-decoration: none;\n",
       "  /* unfitted */\n",
       "  color: var(--sklearn-color-unfitted-level-1);\n",
       "  border: var(--sklearn-color-unfitted-level-1) 1pt solid;\n",
       "}\n",
       "\n",
       "#sk-container-id-1 a.estimator_doc_link.fitted {\n",
       "  /* fitted */\n",
       "  border: var(--sklearn-color-fitted-level-1) 1pt solid;\n",
       "  color: var(--sklearn-color-fitted-level-1);\n",
       "}\n",
       "\n",
       "/* On hover */\n",
       "#sk-container-id-1 a.estimator_doc_link:hover {\n",
       "  /* unfitted */\n",
       "  background-color: var(--sklearn-color-unfitted-level-3);\n",
       "  color: var(--sklearn-color-background);\n",
       "  text-decoration: none;\n",
       "}\n",
       "\n",
       "#sk-container-id-1 a.estimator_doc_link.fitted:hover {\n",
       "  /* fitted */\n",
       "  background-color: var(--sklearn-color-fitted-level-3);\n",
       "}\n",
       "</style><div id=\"sk-container-id-1\" class=\"sk-top-container\"><div class=\"sk-text-repr-fallback\"><pre>VotingClassifier(estimators=[(&#x27;log_reg&#x27;, LogisticRegression()),\n",
       "                             (&#x27;naive_bayes&#x27;, GaussianNB()),\n",
       "                             (&#x27;random_forest&#x27;, RandomForestClassifier()),\n",
       "                             (&#x27;grad_boost&#x27;, HistGradientBoostingClassifier())])</pre><b>In a Jupyter environment, please rerun this cell to show the HTML representation or trust the notebook. <br />On GitHub, the HTML representation is unable to render, please try loading this page with nbviewer.org.</b></div><div class=\"sk-container\" hidden><div class=\"sk-item sk-dashed-wrapped\"><div class=\"sk-label-container\"><div class=\"sk-label fitted sk-toggleable\"><input class=\"sk-toggleable__control sk-hidden--visually\" id=\"sk-estimator-id-1\" type=\"checkbox\" ><label for=\"sk-estimator-id-1\" class=\"sk-toggleable__label fitted sk-toggleable__label-arrow fitted\">&nbsp;&nbsp;VotingClassifier<a class=\"sk-estimator-doc-link fitted\" rel=\"noreferrer\" target=\"_blank\" href=\"https://scikit-learn.org/1.5/modules/generated/sklearn.ensemble.VotingClassifier.html\">?<span>Documentation for VotingClassifier</span></a><span class=\"sk-estimator-doc-link fitted\">i<span>Fitted</span></span></label><div class=\"sk-toggleable__content fitted\"><pre>VotingClassifier(estimators=[(&#x27;log_reg&#x27;, LogisticRegression()),\n",
       "                             (&#x27;naive_bayes&#x27;, GaussianNB()),\n",
       "                             (&#x27;random_forest&#x27;, RandomForestClassifier()),\n",
       "                             (&#x27;grad_boost&#x27;, HistGradientBoostingClassifier())])</pre></div> </div></div><div class=\"sk-parallel\"><div class=\"sk-parallel-item\"><div class=\"sk-item\"><div class=\"sk-label-container\"><div class=\"sk-label fitted sk-toggleable\"><label>log_reg</label></div></div><div class=\"sk-serial\"><div class=\"sk-item\"><div class=\"sk-estimator fitted sk-toggleable\"><input class=\"sk-toggleable__control sk-hidden--visually\" id=\"sk-estimator-id-2\" type=\"checkbox\" ><label for=\"sk-estimator-id-2\" class=\"sk-toggleable__label fitted sk-toggleable__label-arrow fitted\">&nbsp;LogisticRegression<a class=\"sk-estimator-doc-link fitted\" rel=\"noreferrer\" target=\"_blank\" href=\"https://scikit-learn.org/1.5/modules/generated/sklearn.linear_model.LogisticRegression.html\">?<span>Documentation for LogisticRegression</span></a></label><div class=\"sk-toggleable__content fitted\"><pre>LogisticRegression()</pre></div> </div></div></div></div></div><div class=\"sk-parallel-item\"><div class=\"sk-item\"><div class=\"sk-label-container\"><div class=\"sk-label fitted sk-toggleable\"><label>naive_bayes</label></div></div><div class=\"sk-serial\"><div class=\"sk-item\"><div class=\"sk-estimator fitted sk-toggleable\"><input class=\"sk-toggleable__control sk-hidden--visually\" id=\"sk-estimator-id-3\" type=\"checkbox\" ><label for=\"sk-estimator-id-3\" class=\"sk-toggleable__label fitted sk-toggleable__label-arrow fitted\">&nbsp;GaussianNB<a class=\"sk-estimator-doc-link fitted\" rel=\"noreferrer\" target=\"_blank\" href=\"https://scikit-learn.org/1.5/modules/generated/sklearn.naive_bayes.GaussianNB.html\">?<span>Documentation for GaussianNB</span></a></label><div class=\"sk-toggleable__content fitted\"><pre>GaussianNB()</pre></div> </div></div></div></div></div><div class=\"sk-parallel-item\"><div class=\"sk-item\"><div class=\"sk-label-container\"><div class=\"sk-label fitted sk-toggleable\"><label>random_forest</label></div></div><div class=\"sk-serial\"><div class=\"sk-item\"><div class=\"sk-estimator fitted sk-toggleable\"><input class=\"sk-toggleable__control sk-hidden--visually\" id=\"sk-estimator-id-4\" type=\"checkbox\" ><label for=\"sk-estimator-id-4\" class=\"sk-toggleable__label fitted sk-toggleable__label-arrow fitted\">&nbsp;RandomForestClassifier<a class=\"sk-estimator-doc-link fitted\" rel=\"noreferrer\" target=\"_blank\" href=\"https://scikit-learn.org/1.5/modules/generated/sklearn.ensemble.RandomForestClassifier.html\">?<span>Documentation for RandomForestClassifier</span></a></label><div class=\"sk-toggleable__content fitted\"><pre>RandomForestClassifier()</pre></div> </div></div></div></div></div><div class=\"sk-parallel-item\"><div class=\"sk-item\"><div class=\"sk-label-container\"><div class=\"sk-label fitted sk-toggleable\"><label>grad_boost</label></div></div><div class=\"sk-serial\"><div class=\"sk-item\"><div class=\"sk-estimator fitted sk-toggleable\"><input class=\"sk-toggleable__control sk-hidden--visually\" id=\"sk-estimator-id-5\" type=\"checkbox\" ><label for=\"sk-estimator-id-5\" class=\"sk-toggleable__label fitted sk-toggleable__label-arrow fitted\">&nbsp;HistGradientBoostingClassifier<a class=\"sk-estimator-doc-link fitted\" rel=\"noreferrer\" target=\"_blank\" href=\"https://scikit-learn.org/1.5/modules/generated/sklearn.ensemble.HistGradientBoostingClassifier.html\">?<span>Documentation for HistGradientBoostingClassifier</span></a></label><div class=\"sk-toggleable__content fitted\"><pre>HistGradientBoostingClassifier()</pre></div> </div></div></div></div></div></div></div></div></div>"
      ],
      "text/plain": [
       "VotingClassifier(estimators=[('log_reg', LogisticRegression()),\n",
       "                             ('naive_bayes', GaussianNB()),\n",
       "                             ('random_forest', RandomForestClassifier()),\n",
       "                             ('grad_boost', HistGradientBoostingClassifier())])"
      ]
     },
     "execution_count": 59,
     "metadata": {},
     "output_type": "execute_result"
    }
   ],
   "source": [
    "model_voting.fit(train_X, train_y)"
   ]
  },
  {
   "cell_type": "code",
   "execution_count": 60,
   "id": "75df2e85-4acd-4a6f-904d-70a81b2a3860",
   "metadata": {},
   "outputs": [
    {
     "data": {
      "image/png": "[encoded data removed]",
      "text/plain": [
       "<Figure size 640x480 with 2 Axes>"
      ]
     },
     "metadata": {},
     "output_type": "display_data"
    }
   ],
   "source": [
    "_ = metrics.ConfusionMatrixDisplay(\n",
    "    metrics.confusion_matrix(test_y, model_voting.predict(test_X))\n",
    ").plot()"
   ]
  },
  {
   "cell_type": "code",
   "execution_count": 61,
   "id": "6d5bd646-28da-455e-9f1c-e9608dcdb8f4",
   "metadata": {},
   "outputs": [
    {
     "name": "stdout",
     "output_type": "stream",
     "text": [
      "              precision    recall  f1-score   support\n",
      "\n",
      "       False       0.66      0.45      0.53    187868\n",
      "        True       0.85      0.93      0.89    619065\n",
      "\n",
      "    accuracy                           0.82    806933\n",
      "   macro avg       0.75      0.69      0.71    806933\n",
      "weighted avg       0.80      0.82      0.80    806933\n",
      "\n"
     ]
    }
   ],
   "source": [
    "print(metrics.classification_report(test_y, model_voting.predict(test_X)))"
   ]
  },
  {
   "cell_type": "markdown",
   "id": "f5020fde-a478-42c5-a856-04a5cb4c0547",
   "metadata": {},
   "source": [
    "## On Synthetic Data"
   ]
  },
  {
   "cell_type": "code",
   "execution_count": 62,
   "id": "0b47ff50-a2a9-4cac-ae1d-9f4f34e5c667",
   "metadata": {},
   "outputs": [],
   "source": [
    "synth_X = feed_synth_df.select([\n",
    "    \"label\",\n",
    "    \"e_section\",\n",
    "    \"e_rn\",\n",
    "    \"i_upTimes\",\n",
    "    \"i_dislikeTimes\",\n",
    "    \"u_refreshTimes\",\n",
    "    \"u_feedLifeCycle\",\n",
    "    \"u_browserLifeCycle\",\n",
    "])\n",
    "synth_y = feed_synth_df[\"in_ads\"]"
   ]
  },
  {
   "cell_type": "code",
   "execution_count": 63,
   "id": "e010e595-b10a-41d7-bab6-c9f3820c6105",
   "metadata": {},
   "outputs": [
    {
     "name": "stdout",
     "output_type": "stream",
     "text": [
      "              precision    recall  f1-score   support\n",
      "\n",
      "       False       0.31      0.20      0.24      2336\n",
      "        True       0.78      0.87      0.82      7664\n",
      "\n",
      "    accuracy                           0.71     10000\n",
      "   macro avg       0.55      0.53      0.53     10000\n",
      "weighted avg       0.67      0.71      0.69     10000\n",
      "\n"
     ]
    }
   ],
   "source": [
    "print(metrics.classification_report(synth_y, model_voting.predict(synth_X)))"
   ]
  },
  {
   "cell_type": "code",
   "execution_count": 64,
   "id": "aa55af75-9234-4979-ab0b-5b5ec9c6b047",
   "metadata": {},
   "outputs": [
    {
     "data": {
      "image/png": "[encoded data removed]",
      "text/plain": [
       "<Figure size 640x480 with 2 Axes>"
      ]
     },
     "metadata": {},
     "output_type": "display_data"
    }
   ],
   "source": [
    "_ = metrics.ConfusionMatrixDisplay(\n",
    "    metrics.confusion_matrix(synth_y, model_voting.predict(synth_X))\n",
    ").plot()"
   ]
  },
  {
   "cell_type": "code",
   "execution_count": 65,
   "id": "814fc2a9-aba1-42c3-b398-107eef4f9a0a",
   "metadata": {},
   "outputs": [
    {
     "name": "stdout",
     "output_type": "stream",
     "text": [
      "              precision    recall  f1-score   support\n",
      "\n",
      "       False       0.30      0.20      0.24      2336\n",
      "        True       0.78      0.86      0.82      7664\n",
      "\n",
      "    accuracy                           0.70     10000\n",
      "   macro avg       0.54      0.53      0.53     10000\n",
      "weighted avg       0.67      0.70      0.68     10000\n",
      "\n"
     ]
    }
   ],
   "source": [
    "print(metrics.classification_report(synth_y, model_gb.predict(synth_X)))"
   ]
  },
  {
   "cell_type": "code",
   "execution_count": 66,
   "id": "6da684a6-58b6-4c05-a162-2c4fcbbf8b2b",
   "metadata": {},
   "outputs": [
    {
     "data": {
      "image/png": "[encoded data removed]",
      "text/plain": [
       "<Figure size 640x480 with 2 Axes>"
      ]
     },
     "metadata": {},
     "output_type": "display_data"
    }
   ],
   "source": [
    "_ = metrics.ConfusionMatrixDisplay(\n",
    "    metrics.confusion_matrix(synth_y, model_gb.predict(synth_X))\n",
    ").plot()"
   ]
  },
  {
   "cell_type": "markdown",
   "id": "2cdfe55b-7435-46ef-9adb-502c38eec724",
   "metadata": {},
   "source": [
    "### Second Synthetic Data Attempt"
   ]
  },
  {
   "cell_type": "code",
   "execution_count": 90,
   "id": "c465ec49-451c-4e7c-967a-326121d7dde8",
   "metadata": {},
   "outputs": [
    {
     "data": {
      "text/html": [
       "<div><style>\n",
       ".dataframe > thead > tr,\n",
       ".dataframe > tbody > tr {\n",
       "  text-align: right;\n",
       "  white-space: pre-wrap;\n",
       "}\n",
       "</style>\n",
       "<small>shape: (0,)</small><table border=\"1\" class=\"dataframe\"><thead><tr><th>user_id</th></tr><tr><td>i64</td></tr></thead><tbody></tbody></table></div>"
      ],
      "text/plain": [
       "shape: (0,)\n",
       "Series: 'user_id' [i64]\n",
       "[\n",
       "]"
      ]
     },
     "execution_count": 90,
     "metadata": {},
     "output_type": "execute_result"
    }
   ],
   "source": [
    "ad_synth_2_user_ids = ad_synth_df_2[\"user_id\"].unique()\n",
    "ad_synth_2_user_ids"
   ]
  },
  {
   "cell_type": "code",
   "execution_count": 87,
   "id": "6c8a4782-b87a-4c11-9dc3-8bc6dedc9210",
   "metadata": {},
   "outputs": [],
   "source": [
    "synth_X = feed_synth_df_2.select([\n",
    "    \"label\",\n",
    "    \"e_section\",\n",
    "    \"e_rn\",\n",
    "    \"i_upTimes\",\n",
    "    \"i_dislikeTimes\",\n",
    "    \"u_refreshTimes\",\n",
    "    \"u_feedLifeCycle\",\n",
    "    \"u_browserLifeCycle\",\n",
    "])\n",
    "synth_y = feed_synth_df_2.select(pl.col(\"user_id\").is_in(ad_synth_2_user_ids).alias(\"in_ads\"))[\"in_ads\"]"
   ]
  },
  {
   "cell_type": "code",
   "execution_count": 88,
   "id": "1b5d890d-ffce-456a-8a55-4cd5c7245c23",
   "metadata": {},
   "outputs": [
    {
     "name": "stdout",
     "output_type": "stream",
     "text": [
      "              precision    recall  f1-score   support\n",
      "\n",
      "       False       1.00      0.14      0.25    100000\n",
      "        True       0.00      0.00      0.00         0\n",
      "\n",
      "    accuracy                           0.14    100000\n",
      "   macro avg       0.50      0.07      0.12    100000\n",
      "weighted avg       1.00      0.14      0.25    100000\n",
      "\n"
     ]
    },
    {
     "name": "stderr",
     "output_type": "stream",
     "text": [
      "/home/sygio/Documents/work/ucla-hack/modeling/.venv/lib/python3.12/site-packages/sklearn/metrics/_classification.py:1517: UndefinedMetricWarning: Recall is ill-defined and being set to 0.0 in labels with no true samples. Use `zero_division` parameter to control this behavior.\n",
      "  _warn_prf(average, modifier, f\"{metric.capitalize()} is\", len(result))\n",
      "/home/sygio/Documents/work/ucla-hack/modeling/.venv/lib/python3.12/site-packages/sklearn/metrics/_classification.py:1517: UndefinedMetricWarning: Recall is ill-defined and being set to 0.0 in labels with no true samples. Use `zero_division` parameter to control this behavior.\n",
      "  _warn_prf(average, modifier, f\"{metric.capitalize()} is\", len(result))\n",
      "/home/sygio/Documents/work/ucla-hack/modeling/.venv/lib/python3.12/site-packages/sklearn/metrics/_classification.py:1517: UndefinedMetricWarning: Recall is ill-defined and being set to 0.0 in labels with no true samples. Use `zero_division` parameter to control this behavior.\n",
      "  _warn_prf(average, modifier, f\"{metric.capitalize()} is\", len(result))\n"
     ]
    }
   ],
   "source": [
    "print(metrics.classification_report(synth_y, model_voting.predict(synth_X)))"
   ]
  },
  {
   "cell_type": "code",
   "execution_count": 89,
   "id": "be4aa2df-1619-4a45-bd62-ed511a2a7145",
   "metadata": {},
   "outputs": [
    {
     "data": {
      "image/png": "[encoded data removed]",
      "text/plain": [
       "<Figure size 640x480 with 2 Axes>"
      ]
     },
     "metadata": {},
     "output_type": "display_data"
    }
   ],
   "source": [
    "_ = metrics.ConfusionMatrixDisplay(\n",
    "    metrics.confusion_matrix(synth_y, model_voting.predict(synth_X))\n",
    ").plot()"
   ]
  }
 ],
 "metadata": {
  "kernelspec": {
   "display_name": "Python 3 (ipykernel)",
   "language": "python",
   "name": "python3"
  },
  "language_info": {
   "codemirror_mode": {
    "name": "ipython",
    "version": 3
   },
   "file_extension": ".py",
   "mimetype": "text/x-python",
   "name": "python",
   "nbconvert_exporter": "python",
   "pygments_lexer": "ipython3",
   "version": "3.12.4"
  }
 },
 "nbformat": 4,
 "nbformat_minor": 5
}
