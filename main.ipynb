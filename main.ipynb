{
 "cells": [
  {
   "cell_type": "code",
   "execution_count": 1,
   "id": "0ccc1390-8c33-4021-a212-a0c830fae20a",
   "metadata": {},
   "outputs": [],
   "source": [
    "import numpy as np\n",
    "import os\n",
    "# Polars is an alternative to Pandas. Experimentation!\n",
    "import polars as pl\n",
    "# An initial solution for generation\n",
    "import sdv\n",
    "from tqdm import tqdm\n",
    "\n",
    "from sdv.evaluation import multi_table, single_table\n",
    "from sdv.metadata import SingleTableMetadata, MultiTableMetadata\n",
    "from sdv.single_table import GaussianCopulaSynthesizer\n",
    "from sdv.multi_table import HMASynthesizer\n",
    "\n",
    "from sklearn import metrics\n",
    "from sklearn.linear_model import LogisticRegression\n",
    "from sklearn.model_selection import train_test_split"
   ]
  },
  {
   "cell_type": "code",
   "execution_count": 2,
   "id": "1ed2eae9-6ee9-4bd0-bcdd-887785a897eb",
   "metadata": {},
   "outputs": [],
   "source": [
    "ad_data_orig = pl.scan_csv(\"data/train_data_ads.csv\", infer_schema_length = 10000)\n",
    "feed_data_orig = pl.scan_csv(\"data/train_data_feeds.csv\", infer_schema_length = 10000)"
   ]
  },
  {
   "cell_type": "code",
   "execution_count": 3,
   "id": "a3bf384f-b59e-4eee-82b1-ae7e838cf94f",
   "metadata": {},
   "outputs": [],
   "source": [
    "# Convert `pt_d` to a datetime\n",
    "ad_data = ad_data_orig.with_columns(\n",
    "    pl.col(\"ad_click_list_v001\").str.split(\"^\").list.eval(pl.element().cast(pl.Int64)),\n",
    "    pl.col(\"ad_click_list_v002\").str.split(\"^\").list.eval(pl.element().cast(pl.Int64)),\n",
    "    pl.col(\"ad_click_list_v003\").str.split(\"^\").list.eval(pl.element().cast(pl.Int64)),\n",
    "    pl.col(\"u_newsCatInterestsST\").str.split(\"^\").list.eval(pl.element().cast(pl.Int64)),\n",
    "    pl.col(\"pt_d\").cast(pl.String).str.to_datetime(\"%Y%m%d%H%M\"),\n",
    ")"
   ]
  },
  {
   "cell_type": "code",
   "execution_count": 4,
   "id": "28440871-65cd-4c12-97b6-500c4df87d76",
   "metadata": {},
   "outputs": [],
   "source": [
    "feed_data = feed_data_orig.with_columns(\n",
    "    pl.col(\"u_newsCatInterests\").str.split(\"^\").list.eval(pl.element().cast(pl.Int64)),\n",
    "    pl.col(\"u_newsCatDislike\").str.split(\"^\").list.eval(pl.element().cast(pl.Int64)),\n",
    "    pl.col(\"u_newsCatInterestsST\").str.split(\"^\").list.eval(pl.element().cast(pl.Int64)),\n",
    "    pl.col(\"u_click_ca2_news\").str.split(\"^\").list.eval(pl.element().cast(pl.Int64)),\n",
    "    pl.col(\"e_et\").cast(pl.String).str.to_datetime(\"%Y%m%d%H%M\"),\n",
    ")\n",
    "feed_data = feed_data.rename({ \"u_userId\": \"user_id\" })\n",
    "feed_data = feed_data.with_columns(\n",
    "    pl.col(\"i_cat\").is_in(pl.col(\"u_newsCatInterests\")).alias(\"Interested\"),\n",
    "    pl.col(\"i_cat\").is_in(pl.col(\"u_newsCatDislike\")).alias(\"Disliked\"),\n",
    "    pl.col(\"i_cat\").is_in(pl.col(\"u_newsCatInterestsST\")).alias(\"InterestedST\"),\n",
    ")"
   ]
  },
  {
   "cell_type": "code",
   "execution_count": 5,
   "id": "dd9a900c-de3a-4500-9237-23eb2de1d55f",
   "metadata": {},
   "outputs": [
    {
     "data": {
      "text/html": [
       "<div><style>\n",
       ".dataframe > thead > tr,\n",
       ".dataframe > tbody > tr {\n",
       "  text-align: right;\n",
       "  white-space: pre-wrap;\n",
       "}\n",
       "</style>\n",
       "<small>shape: (500, 35)</small><table border=\"1\" class=\"dataframe\"><thead><tr><th>log_id</th><th>label</th><th>user_id</th><th>age</th><th>gender</th><th>residence</th><th>city</th><th>city_rank</th><th>series_dev</th><th>series_group</th><th>emui_dev</th><th>device_name</th><th>device_size</th><th>net_type</th><th>task_id</th><th>adv_id</th><th>creat_type_cd</th><th>adv_prim_id</th><th>inter_type_cd</th><th>slot_id</th><th>site_id</th><th>spread_app_id</th><th>hispace_app_tags</th><th>app_second_class</th><th>app_score</th><th>ad_click_list_v001</th><th>ad_click_list_v002</th><th>ad_click_list_v003</th><th>ad_close_list_v001</th><th>ad_close_list_v002</th><th>ad_close_list_v003</th><th>pt_d</th><th>u_newsCatInterestsST</th><th>u_refreshTimes</th><th>u_feedLifeCycle</th></tr><tr><td>i64</td><td>i64</td><td>i64</td><td>i64</td><td>i64</td><td>i64</td><td>i64</td><td>i64</td><td>i64</td><td>i64</td><td>i64</td><td>i64</td><td>i64</td><td>i64</td><td>i64</td><td>i64</td><td>i64</td><td>i64</td><td>i64</td><td>i64</td><td>i64</td><td>i64</td><td>i64</td><td>i64</td><td>f64</td><td>list[i64]</td><td>list[i64]</td><td>list[i64]</td><td>str</td><td>str</td><td>str</td><td>datetime[μs]</td><td>list[i64]</td><td>i64</td><td>i64</td></tr></thead><tbody><tr><td>373250</td><td>0</td><td>100005</td><td>3</td><td>2</td><td>16</td><td>147</td><td>2</td><td>32</td><td>6</td><td>35</td><td>312</td><td>2117</td><td>7</td><td>14339</td><td>19319</td><td>6</td><td>1846</td><td>4</td><td>46</td><td>1</td><td>162</td><td>47</td><td>14</td><td>10.0</td><td>[30157, 30648, … 31706]</td><td>[2066, 1776, 1036]</td><td>[114, 219, 312]</td><td>&quot;24107&quot;</td><td>&quot;1218&quot;</td><td>&quot;173&quot;</td><td>2022-06-03 03:26:00</td><td>[39, 220, 16]</td><td>0</td><td>15</td></tr><tr><td>373253</td><td>1</td><td>100005</td><td>3</td><td>2</td><td>16</td><td>147</td><td>2</td><td>32</td><td>6</td><td>35</td><td>312</td><td>2117</td><td>7</td><td>11923</td><td>21714</td><td>8</td><td>1060</td><td>4</td><td>37</td><td>1</td><td>344</td><td>20</td><td>13</td><td>10.0</td><td>[30157, 30648, … 31706]</td><td>[2066, 1776, 1036]</td><td>[114, 219, 312]</td><td>&quot;24107&quot;</td><td>&quot;1218&quot;</td><td>&quot;173&quot;</td><td>2022-06-03 03:26:00</td><td>[39, 220, 16]</td><td>0</td><td>15</td></tr><tr><td>373252</td><td>1</td><td>100005</td><td>3</td><td>2</td><td>16</td><td>147</td><td>2</td><td>32</td><td>6</td><td>35</td><td>312</td><td>2117</td><td>7</td><td>11923</td><td>21714</td><td>8</td><td>1060</td><td>4</td><td>37</td><td>1</td><td>344</td><td>20</td><td>13</td><td>10.0</td><td>[30157, 30648, … 31706]</td><td>[2066, 1776, 1036]</td><td>[114, 219, 312]</td><td>&quot;24107&quot;</td><td>&quot;1218&quot;</td><td>&quot;173&quot;</td><td>2022-06-03 03:26:00</td><td>[39, 220, 16]</td><td>0</td><td>15</td></tr><tr><td>373251</td><td>0</td><td>100005</td><td>3</td><td>2</td><td>16</td><td>147</td><td>2</td><td>32</td><td>6</td><td>35</td><td>312</td><td>2117</td><td>7</td><td>28665</td><td>20163</td><td>8</td><td>1542</td><td>4</td><td>47</td><td>1</td><td>152</td><td>49</td><td>17</td><td>10.0</td><td>[30157, 30648, … 31706]</td><td>[2066, 1776, 1036]</td><td>[114, 219, 312]</td><td>&quot;24107&quot;</td><td>&quot;1218&quot;</td><td>&quot;173&quot;</td><td>2022-06-03 03:26:00</td><td>[39, 220, 16]</td><td>0</td><td>15</td></tr><tr><td>373255</td><td>0</td><td>100005</td><td>3</td><td>2</td><td>16</td><td>147</td><td>2</td><td>32</td><td>6</td><td>35</td><td>312</td><td>2117</td><td>7</td><td>34041</td><td>13608</td><td>8</td><td>1036</td><td>4</td><td>44</td><td>1</td><td>312</td><td>43</td><td>18</td><td>10.0</td><td>[30157, 30648, … 31706]</td><td>[2066, 1776, 1036]</td><td>[114, 219, 312]</td><td>&quot;24107&quot;</td><td>&quot;1218&quot;</td><td>&quot;173&quot;</td><td>2022-06-03 03:28:00</td><td>[39, 220, 16]</td><td>0</td><td>15</td></tr><tr><td>&hellip;</td><td>&hellip;</td><td>&hellip;</td><td>&hellip;</td><td>&hellip;</td><td>&hellip;</td><td>&hellip;</td><td>&hellip;</td><td>&hellip;</td><td>&hellip;</td><td>&hellip;</td><td>&hellip;</td><td>&hellip;</td><td>&hellip;</td><td>&hellip;</td><td>&hellip;</td><td>&hellip;</td><td>&hellip;</td><td>&hellip;</td><td>&hellip;</td><td>&hellip;</td><td>&hellip;</td><td>&hellip;</td><td>&hellip;</td><td>&hellip;</td><td>&hellip;</td><td>&hellip;</td><td>&hellip;</td><td>&hellip;</td><td>&hellip;</td><td>&hellip;</td><td>&hellip;</td><td>&hellip;</td><td>&hellip;</td><td>&hellip;</td></tr><tr><td>332115</td><td>0</td><td>100063</td><td>3</td><td>2</td><td>20</td><td>383</td><td>2</td><td>19</td><td>6</td><td>30</td><td>228</td><td>1505</td><td>7</td><td>15135</td><td>16636</td><td>8</td><td>1106</td><td>5</td><td>57</td><td>1</td><td>240</td><td>12</td><td>29</td><td>10.0</td><td>[19427, 36257, … 20072]</td><td>[1036, 1220, … 1126]</td><td>[312, 280, … 367]</td><td>&quot;24107&quot;</td><td>&quot;1218&quot;</td><td>&quot;173&quot;</td><td>2022-06-03 11:34:00</td><td>[171, 65, … 112]</td><td>4</td><td>17</td></tr><tr><td>332172</td><td>0</td><td>100063</td><td>3</td><td>2</td><td>20</td><td>383</td><td>2</td><td>19</td><td>6</td><td>30</td><td>228</td><td>1284</td><td>7</td><td>33422</td><td>19818</td><td>8</td><td>1036</td><td>4</td><td>38</td><td>1</td><td>312</td><td>43</td><td>18</td><td>10.0</td><td>[19427, 36257, … 20072]</td><td>[1036, 1220, … 1126]</td><td>[312, 280, … 367]</td><td>&quot;24107&quot;</td><td>&quot;1218&quot;</td><td>&quot;173&quot;</td><td>2022-06-03 10:34:00</td><td>[171, 65, … 112]</td><td>4</td><td>17</td></tr><tr><td>332174</td><td>0</td><td>100063</td><td>3</td><td>2</td><td>20</td><td>383</td><td>2</td><td>19</td><td>6</td><td>30</td><td>228</td><td>1505</td><td>7</td><td>33422</td><td>19818</td><td>8</td><td>1036</td><td>4</td><td>40</td><td>1</td><td>312</td><td>43</td><td>18</td><td>10.0</td><td>[19427, 36257, … 20072]</td><td>[1036, 1220, … 1126]</td><td>[312, 280, … 367]</td><td>&quot;24107&quot;</td><td>&quot;1218&quot;</td><td>&quot;173&quot;</td><td>2022-06-03 10:25:00</td><td>[171, 65, … 112]</td><td>4</td><td>17</td></tr><tr><td>332176</td><td>0</td><td>100063</td><td>3</td><td>2</td><td>20</td><td>383</td><td>2</td><td>19</td><td>6</td><td>30</td><td>228</td><td>1284</td><td>7</td><td>16723</td><td>16725</td><td>10</td><td>1619</td><td>4</td><td>16</td><td>1</td><td>257</td><td>49</td><td>23</td><td>0.0</td><td>[19427, 36257, … 20072]</td><td>[1036, 1220, … 1126]</td><td>[312, 280, … 367]</td><td>&quot;24107&quot;</td><td>&quot;1218&quot;</td><td>&quot;173&quot;</td><td>2022-06-03 03:47:00</td><td>[171, 65, … 112]</td><td>4</td><td>17</td></tr><tr><td>256617</td><td>0</td><td>100072</td><td>3</td><td>2</td><td>20</td><td>441</td><td>2</td><td>33</td><td>4</td><td>23</td><td>192</td><td>2301</td><td>6</td><td>29946</td><td>16847</td><td>8</td><td>1454</td><td>4</td><td>17</td><td>1</td><td>106</td><td>39</td><td>15</td><td>10.0</td><td>[31706]</td><td>[1036]</td><td>[312]</td><td>&quot;24107&quot;</td><td>&quot;1218&quot;</td><td>&quot;173&quot;</td><td>2022-06-03 08:46:00</td><td>[86, 216, … 191]</td><td>8</td><td>17</td></tr></tbody></table></div>"
      ],
      "text/plain": [
       "shape: (500, 35)\n",
       "┌────────┬───────┬─────────┬─────┬───┬───────────────┬───────────────┬──────────────┬──────────────┐\n",
       "│ log_id ┆ label ┆ user_id ┆ age ┆ … ┆ pt_d          ┆ u_newsCatInte ┆ u_refreshTim ┆ u_feedLifeCy │\n",
       "│ ---    ┆ ---   ┆ ---     ┆ --- ┆   ┆ ---           ┆ restsST       ┆ es           ┆ cle          │\n",
       "│ i64    ┆ i64   ┆ i64     ┆ i64 ┆   ┆ datetime[μs]  ┆ ---           ┆ ---          ┆ ---          │\n",
       "│        ┆       ┆         ┆     ┆   ┆               ┆ list[i64]     ┆ i64          ┆ i64          │\n",
       "╞════════╪═══════╪═════════╪═════╪═══╪═══════════════╪═══════════════╪══════════════╪══════════════╡\n",
       "│ 373250 ┆ 0     ┆ 100005  ┆ 3   ┆ … ┆ 2022-06-03    ┆ [39, 220, 16] ┆ 0            ┆ 15           │\n",
       "│        ┆       ┆         ┆     ┆   ┆ 03:26:00      ┆               ┆              ┆              │\n",
       "│ 373253 ┆ 1     ┆ 100005  ┆ 3   ┆ … ┆ 2022-06-03    ┆ [39, 220, 16] ┆ 0            ┆ 15           │\n",
       "│        ┆       ┆         ┆     ┆   ┆ 03:26:00      ┆               ┆              ┆              │\n",
       "│ 373252 ┆ 1     ┆ 100005  ┆ 3   ┆ … ┆ 2022-06-03    ┆ [39, 220, 16] ┆ 0            ┆ 15           │\n",
       "│        ┆       ┆         ┆     ┆   ┆ 03:26:00      ┆               ┆              ┆              │\n",
       "│ 373251 ┆ 0     ┆ 100005  ┆ 3   ┆ … ┆ 2022-06-03    ┆ [39, 220, 16] ┆ 0            ┆ 15           │\n",
       "│        ┆       ┆         ┆     ┆   ┆ 03:26:00      ┆               ┆              ┆              │\n",
       "│ 373255 ┆ 0     ┆ 100005  ┆ 3   ┆ … ┆ 2022-06-03    ┆ [39, 220, 16] ┆ 0            ┆ 15           │\n",
       "│        ┆       ┆         ┆     ┆   ┆ 03:28:00      ┆               ┆              ┆              │\n",
       "│ …      ┆ …     ┆ …       ┆ …   ┆ … ┆ …             ┆ …             ┆ …            ┆ …            │\n",
       "│ 332115 ┆ 0     ┆ 100063  ┆ 3   ┆ … ┆ 2022-06-03    ┆ [171, 65, …   ┆ 4            ┆ 17           │\n",
       "│        ┆       ┆         ┆     ┆   ┆ 11:34:00      ┆ 112]          ┆              ┆              │\n",
       "│ 332172 ┆ 0     ┆ 100063  ┆ 3   ┆ … ┆ 2022-06-03    ┆ [171, 65, …   ┆ 4            ┆ 17           │\n",
       "│        ┆       ┆         ┆     ┆   ┆ 10:34:00      ┆ 112]          ┆              ┆              │\n",
       "│ 332174 ┆ 0     ┆ 100063  ┆ 3   ┆ … ┆ 2022-06-03    ┆ [171, 65, …   ┆ 4            ┆ 17           │\n",
       "│        ┆       ┆         ┆     ┆   ┆ 10:25:00      ┆ 112]          ┆              ┆              │\n",
       "│ 332176 ┆ 0     ┆ 100063  ┆ 3   ┆ … ┆ 2022-06-03    ┆ [171, 65, …   ┆ 4            ┆ 17           │\n",
       "│        ┆       ┆         ┆     ┆   ┆ 03:47:00      ┆ 112]          ┆              ┆              │\n",
       "│ 256617 ┆ 0     ┆ 100072  ┆ 3   ┆ … ┆ 2022-06-03    ┆ [86, 216, …   ┆ 8            ┆ 17           │\n",
       "│        ┆       ┆         ┆     ┆   ┆ 08:46:00      ┆ 191]          ┆              ┆              │\n",
       "└────────┴───────┴─────────┴─────┴───┴───────────────┴───────────────┴──────────────┴──────────────┘"
      ]
     },
     "execution_count": 5,
     "metadata": {},
     "output_type": "execute_result"
    }
   ],
   "source": [
    "ad_data.fetch()"
   ]
  },
  {
   "cell_type": "code",
   "execution_count": 6,
   "id": "7aa76438-8dab-488a-939a-d28cdcd67077",
   "metadata": {},
   "outputs": [
    {
     "data": {
      "text/html": [
       "<div><style>\n",
       ".dataframe > thead > tr,\n",
       ".dataframe > tbody > tr {\n",
       "  text-align: right;\n",
       "  white-space: pre-wrap;\n",
       "}\n",
       "</style>\n",
       "<small>shape: (500, 31)</small><table border=\"1\" class=\"dataframe\"><thead><tr><th>user_id</th><th>u_phonePrice</th><th>u_browserLifeCycle</th><th>u_browserMode</th><th>u_feedLifeCycle</th><th>u_refreshTimes</th><th>u_newsCatInterests</th><th>u_newsCatDislike</th><th>u_newsCatInterestsST</th><th>u_click_ca2_news</th><th>i_docId</th><th>i_s_sourceId</th><th>i_regionEntity</th><th>i_cat</th><th>i_entities</th><th>i_dislikeTimes</th><th>i_upTimes</th><th>i_dtype</th><th>e_ch</th><th>e_m</th><th>e_po</th><th>e_pl</th><th>e_rn</th><th>e_section</th><th>e_et</th><th>label</th><th>cillabel</th><th>pro</th><th>Interested</th><th>Disliked</th><th>InterestedST</th></tr><tr><td>i64</td><td>i64</td><td>i64</td><td>i64</td><td>i64</td><td>i64</td><td>list[i64]</td><td>list[i64]</td><td>list[i64]</td><td>list[i64]</td><td>str</td><td>str</td><td>i64</td><td>i64</td><td>str</td><td>i64</td><td>i64</td><td>i64</td><td>i64</td><td>i64</td><td>i64</td><td>i64</td><td>i64</td><td>i64</td><td>datetime[μs]</td><td>i64</td><td>i64</td><td>i64</td><td>bool</td><td>bool</td><td>bool</td></tr></thead><tbody><tr><td>135880</td><td>16</td><td>17</td><td>10</td><td>17</td><td>0</td><td>[195, 168, … 108]</td><td>[0]</td><td>[195, 44, … 21]</td><td>[195, 168, … 21]</td><td>&quot;6e3e6bcb58d1fdd57b01a423f7a777…</td><td>&quot;1eba881ea576fc05dfe457dd2111cd…</td><td>0</td><td>210</td><td>&quot;c7c6575e357e3e82c87fd04b04b28c…</td><td>4</td><td>1</td><td>13</td><td>19</td><td>1217</td><td>1</td><td>561</td><td>2</td><td>0</td><td>2022-06-08 15:21:00</td><td>-1</td><td>-1</td><td>0</td><td>false</td><td>false</td><td>false</td></tr><tr><td>135880</td><td>16</td><td>17</td><td>10</td><td>17</td><td>0</td><td>[195, 168, … 108]</td><td>[0]</td><td>[195, 44, … 21]</td><td>[195, 168, … 21]</td><td>&quot;f080276ae8aee56306253debbf643f…</td><td>&quot;772b4a2593c3aa2590291f25d4bbc4…</td><td>0</td><td>219</td><td>&quot;40179dae61fecd7eaad86cdd128e70…</td><td>3</td><td>9</td><td>13</td><td>19</td><td>1217</td><td>9</td><td>561</td><td>1</td><td>0</td><td>2022-06-08 15:21:00</td><td>-1</td><td>-1</td><td>0</td><td>false</td><td>false</td><td>false</td></tr><tr><td>135880</td><td>16</td><td>17</td><td>10</td><td>17</td><td>0</td><td>[195, 168, … 108]</td><td>[0]</td><td>[195, 44, … 21]</td><td>[195, 168, … 21]</td><td>&quot;f6ee51f33fe8623b713a16287a873c…</td><td>&quot;645e57afbbafce5159ab7fe956837c…</td><td>0</td><td>78</td><td>&quot;37d6e916f8c486d37683f03df3f578…</td><td>0</td><td>9</td><td>13</td><td>19</td><td>1217</td><td>18</td><td>561</td><td>1</td><td>0</td><td>2022-06-08 15:21:00</td><td>-1</td><td>-1</td><td>0</td><td>false</td><td>false</td><td>false</td></tr><tr><td>135880</td><td>16</td><td>17</td><td>10</td><td>17</td><td>0</td><td>[195, 168, … 108]</td><td>[0]</td><td>[195, 44, … 21]</td><td>[195, 168, … 21]</td><td>&quot;ee47079f7af99b70476161dbf5dcf0…</td><td>&quot;9e5226ef81bf205dfe0ceefd6b7124…</td><td>1718</td><td>168</td><td>&quot;e36aff85ea6234ef8c68865db8abfc…</td><td>0</td><td>3</td><td>13</td><td>19</td><td>1217</td><td>7</td><td>561</td><td>1</td><td>1</td><td>2022-06-08 15:21:00</td><td>-1</td><td>-1</td><td>0</td><td>true</td><td>false</td><td>true</td></tr><tr><td>135880</td><td>16</td><td>17</td><td>10</td><td>17</td><td>0</td><td>[195, 168, … 108]</td><td>[0]</td><td>[195, 44, … 21]</td><td>[195, 168, … 21]</td><td>&quot;2363b609896dc2849cadf303a8d649…</td><td>&quot;3a705744387ea91d68ce6b8172b528…</td><td>0</td><td>50</td><td>&quot;86d9e350f494a419533ebda912fd12…</td><td>9</td><td>9</td><td>13</td><td>19</td><td>1217</td><td>7</td><td>561</td><td>2</td><td>0</td><td>2022-06-08 15:22:00</td><td>-1</td><td>-1</td><td>0</td><td>false</td><td>false</td><td>false</td></tr><tr><td>&hellip;</td><td>&hellip;</td><td>&hellip;</td><td>&hellip;</td><td>&hellip;</td><td>&hellip;</td><td>&hellip;</td><td>&hellip;</td><td>&hellip;</td><td>&hellip;</td><td>&hellip;</td><td>&hellip;</td><td>&hellip;</td><td>&hellip;</td><td>&hellip;</td><td>&hellip;</td><td>&hellip;</td><td>&hellip;</td><td>&hellip;</td><td>&hellip;</td><td>&hellip;</td><td>&hellip;</td><td>&hellip;</td><td>&hellip;</td><td>&hellip;</td><td>&hellip;</td><td>&hellip;</td><td>&hellip;</td><td>&hellip;</td><td>&hellip;</td><td>&hellip;</td></tr><tr><td>272174</td><td>11</td><td>17</td><td>14</td><td>15</td><td>0</td><td>[98]</td><td>[0]</td><td>[0]</td><td>[98]</td><td>&quot;cef0748681162c90fbbaeca9b6678c…</td><td>&quot;da43cb15ed2d50d32fb518343f86b8…</td><td>1117</td><td>219</td><td>&quot;7c80405a35f2d0f72d11f5f2e46326…</td><td>9</td><td>9</td><td>13</td><td>19</td><td>1377</td><td>9</td><td>2589</td><td>1</td><td>0</td><td>2022-06-08 09:21:00</td><td>-1</td><td>-1</td><td>0</td><td>false</td><td>false</td><td>false</td></tr><tr><td>272174</td><td>11</td><td>17</td><td>14</td><td>15</td><td>0</td><td>[98]</td><td>[0]</td><td>[0]</td><td>[98]</td><td>&quot;80c6bd55b3c1988e3a59e90141d84f…</td><td>&quot;1a3af1f28e25bedb03dc170b923e9c…</td><td>0</td><td>25</td><td>&quot;948545cca68fb18de0ef25e7d6bd2b…</td><td>2</td><td>9</td><td>13</td><td>19</td><td>1377</td><td>7</td><td>2589</td><td>1</td><td>1</td><td>2022-06-08 09:26:00</td><td>-1</td><td>-1</td><td>0</td><td>false</td><td>false</td><td>false</td></tr><tr><td>272174</td><td>11</td><td>17</td><td>14</td><td>15</td><td>0</td><td>[98]</td><td>[0]</td><td>[0]</td><td>[98]</td><td>&quot;5e25aa0caa288673a2e2bbccde9736…</td><td>&quot;39c20be9cce448a7128ede705bc005…</td><td>0</td><td>25</td><td>&quot;08338e69ccacd288da8b68a6630c62…</td><td>0</td><td>4</td><td>13</td><td>19</td><td>1377</td><td>7</td><td>2589</td><td>1</td><td>1</td><td>2022-06-08 09:21:00</td><td>-1</td><td>-1</td><td>0</td><td>false</td><td>false</td><td>false</td></tr><tr><td>243528</td><td>16</td><td>17</td><td>14</td><td>17</td><td>8</td><td>[109, 199, … 16]</td><td>[0]</td><td>[131, 105, … 219]</td><td>[105, 147, … 205]</td><td>&quot;a0296da4e2dd7bb41e7548e5d105a7…</td><td>&quot;645e57afbbafce5159ab7fe956837c…</td><td>0</td><td>57</td><td>&quot;b66e6d4c97c2ad73d290a0c868cf8c…</td><td>3</td><td>9</td><td>11</td><td>19</td><td>1391</td><td>6</td><td>881</td><td>1</td><td>1</td><td>2022-06-08 11:18:00</td><td>-1</td><td>-1</td><td>0</td><td>false</td><td>false</td><td>false</td></tr><tr><td>243528</td><td>16</td><td>17</td><td>14</td><td>17</td><td>8</td><td>[109, 199, … 16]</td><td>[0]</td><td>[25, 114, … 112]</td><td>[220, 25, … 98]</td><td>&quot;6b5ba9c867809d6fde9ace2514226d…</td><td>&quot;649d02b90c5b67640c52888c4b9120…</td><td>0</td><td>25</td><td>&quot;1275d2cb7217381a5c0063713d4de8…</td><td>0</td><td>1</td><td>13</td><td>19</td><td>1391</td><td>11</td><td>881</td><td>1</td><td>0</td><td>2022-06-08 05:27:00</td><td>-1</td><td>-1</td><td>0</td><td>false</td><td>false</td><td>true</td></tr></tbody></table></div>"
      ],
      "text/plain": [
       "shape: (500, 31)\n",
       "┌─────────┬─────────────┬─────────────┬─────────────┬───┬─────┬────────────┬──────────┬────────────┐\n",
       "│ user_id ┆ u_phonePric ┆ u_browserLi ┆ u_browserMo ┆ … ┆ pro ┆ Interested ┆ Disliked ┆ Interested │\n",
       "│ ---     ┆ e           ┆ feCycle     ┆ de          ┆   ┆ --- ┆ ---        ┆ ---      ┆ ST         │\n",
       "│ i64     ┆ ---         ┆ ---         ┆ ---         ┆   ┆ i64 ┆ bool       ┆ bool     ┆ ---        │\n",
       "│         ┆ i64         ┆ i64         ┆ i64         ┆   ┆     ┆            ┆          ┆ bool       │\n",
       "╞═════════╪═════════════╪═════════════╪═════════════╪═══╪═════╪════════════╪══════════╪════════════╡\n",
       "│ 135880  ┆ 16          ┆ 17          ┆ 10          ┆ … ┆ 0   ┆ false      ┆ false    ┆ false      │\n",
       "│ 135880  ┆ 16          ┆ 17          ┆ 10          ┆ … ┆ 0   ┆ false      ┆ false    ┆ false      │\n",
       "│ 135880  ┆ 16          ┆ 17          ┆ 10          ┆ … ┆ 0   ┆ false      ┆ false    ┆ false      │\n",
       "│ 135880  ┆ 16          ┆ 17          ┆ 10          ┆ … ┆ 0   ┆ true       ┆ false    ┆ true       │\n",
       "│ 135880  ┆ 16          ┆ 17          ┆ 10          ┆ … ┆ 0   ┆ false      ┆ false    ┆ false      │\n",
       "│ …       ┆ …           ┆ …           ┆ …           ┆ … ┆ …   ┆ …          ┆ …        ┆ …          │\n",
       "│ 272174  ┆ 11          ┆ 17          ┆ 14          ┆ … ┆ 0   ┆ false      ┆ false    ┆ false      │\n",
       "│ 272174  ┆ 11          ┆ 17          ┆ 14          ┆ … ┆ 0   ┆ false      ┆ false    ┆ false      │\n",
       "│ 272174  ┆ 11          ┆ 17          ┆ 14          ┆ … ┆ 0   ┆ false      ┆ false    ┆ false      │\n",
       "│ 243528  ┆ 16          ┆ 17          ┆ 14          ┆ … ┆ 0   ┆ false      ┆ false    ┆ false      │\n",
       "│ 243528  ┆ 16          ┆ 17          ┆ 14          ┆ … ┆ 0   ┆ false      ┆ false    ┆ true       │\n",
       "└─────────┴─────────────┴─────────────┴─────────────┴───┴─────┴────────────┴──────────┴────────────┘"
      ]
     },
     "execution_count": 6,
     "metadata": {},
     "output_type": "execute_result"
    }
   ],
   "source": [
    "feed_data.fetch()"
   ]
  },
  {
   "cell_type": "code",
   "execution_count": 7,
   "id": "211455d0-ec3d-4bde-993a-ff051bc68b67",
   "metadata": {},
   "outputs": [
    {
     "data": {
      "application/javascript": [
       "(function(root) {\n",
       "  function now() {\n",
       "    return new Date();\n",
       "  }\n",
       "\n",
       "  var force = true;\n",
       "  var py_version = '3.4.2'.replace('rc', '-rc.').replace('.dev', '-dev.');\n",
       "  var reloading = false;\n",
       "  var Bokeh = root.Bokeh;\n",
       "\n",
       "  if (typeof (root._bokeh_timeout) === \"undefined\" || force) {\n",
       "    root._bokeh_timeout = Date.now() + 5000;\n",
       "    root._bokeh_failed_load = false;\n",
       "  }\n",
       "\n",
       "  function run_callbacks() {\n",
       "    try {\n",
       "      root._bokeh_onload_callbacks.forEach(function(callback) {\n",
       "        if (callback != null)\n",
       "          callback();\n",
       "      });\n",
       "    } finally {\n",
       "      delete root._bokeh_onload_callbacks;\n",
       "    }\n",
       "    console.debug(\"Bokeh: all callbacks have finished\");\n",
       "  }\n",
       "\n",
       "  function load_libs(css_urls, js_urls, js_modules, js_exports, callback) {\n",
       "    if (css_urls == null) css_urls = [];\n",
       "    if (js_urls == null) js_urls = [];\n",
       "    if (js_modules == null) js_modules = [];\n",
       "    if (js_exports == null) js_exports = {};\n",
       "\n",
       "    root._bokeh_onload_callbacks.push(callback);\n",
       "\n",
       "    if (root._bokeh_is_loading > 0) {\n",
       "      console.debug(\"Bokeh: BokehJS is being loaded, scheduling callback at\", now());\n",
       "      return null;\n",
       "    }\n",
       "    if (js_urls.length === 0 && js_modules.length === 0 && Object.keys(js_exports).length === 0) {\n",
       "      run_callbacks();\n",
       "      return null;\n",
       "    }\n",
       "    if (!reloading) {\n",
       "      console.debug(\"Bokeh: BokehJS not loaded, scheduling load and callback at\", now());\n",
       "    }\n",
       "\n",
       "    function on_load() {\n",
       "      root._bokeh_is_loading--;\n",
       "      if (root._bokeh_is_loading === 0) {\n",
       "        console.debug(\"Bokeh: all BokehJS libraries/stylesheets loaded\");\n",
       "        run_callbacks()\n",
       "      }\n",
       "    }\n",
       "    window._bokeh_on_load = on_load\n",
       "\n",
       "    function on_error() {\n",
       "      console.error(\"failed to load \" + url);\n",
       "    }\n",
       "\n",
       "    var skip = [];\n",
       "    if (window.requirejs) {\n",
       "      window.requirejs.config({'packages': {}, 'paths': {}, 'shim': {}});\n",
       "      root._bokeh_is_loading = css_urls.length + 0;\n",
       "    } else {\n",
       "      root._bokeh_is_loading = css_urls.length + js_urls.length + js_modules.length + Object.keys(js_exports).length;\n",
       "    }\n",
       "\n",
       "    var existing_stylesheets = []\n",
       "    var links = document.getElementsByTagName('link')\n",
       "    for (var i = 0; i < links.length; i++) {\n",
       "      var link = links[i]\n",
       "      if (link.href != null) {\n",
       "\texisting_stylesheets.push(link.href)\n",
       "      }\n",
       "    }\n",
       "    for (var i = 0; i < css_urls.length; i++) {\n",
       "      var url = css_urls[i];\n",
       "      if (existing_stylesheets.indexOf(url) !== -1) {\n",
       "\ton_load()\n",
       "\tcontinue;\n",
       "      }\n",
       "      const element = document.createElement(\"link\");\n",
       "      element.onload = on_load;\n",
       "      element.onerror = on_error;\n",
       "      element.rel = \"stylesheet\";\n",
       "      element.type = \"text/css\";\n",
       "      element.href = url;\n",
       "      console.debug(\"Bokeh: injecting link tag for BokehJS stylesheet: \", url);\n",
       "      document.body.appendChild(element);\n",
       "    }    var existing_scripts = []\n",
       "    var scripts = document.getElementsByTagName('script')\n",
       "    for (var i = 0; i < scripts.length; i++) {\n",
       "      var script = scripts[i]\n",
       "      if (script.src != null) {\n",
       "\texisting_scripts.push(script.src)\n",
       "      }\n",
       "    }\n",
       "    for (var i = 0; i < js_urls.length; i++) {\n",
       "      var url = js_urls[i];\n",
       "      if (skip.indexOf(url) !== -1 || existing_scripts.indexOf(url) !== -1) {\n",
       "\tif (!window.requirejs) {\n",
       "\t  on_load();\n",
       "\t}\n",
       "\tcontinue;\n",
       "      }\n",
       "      var element = document.createElement('script');\n",
       "      element.onload = on_load;\n",
       "      element.onerror = on_error;\n",
       "      element.async = false;\n",
       "      element.src = url;\n",
       "      console.debug(\"Bokeh: injecting script tag for BokehJS library: \", url);\n",
       "      document.head.appendChild(element);\n",
       "    }\n",
       "    for (var i = 0; i < js_modules.length; i++) {\n",
       "      var url = js_modules[i];\n",
       "      if (skip.indexOf(url) !== -1 || existing_scripts.indexOf(url) !== -1) {\n",
       "\tif (!window.requirejs) {\n",
       "\t  on_load();\n",
       "\t}\n",
       "\tcontinue;\n",
       "      }\n",
       "      var element = document.createElement('script');\n",
       "      element.onload = on_load;\n",
       "      element.onerror = on_error;\n",
       "      element.async = false;\n",
       "      element.src = url;\n",
       "      element.type = \"module\";\n",
       "      console.debug(\"Bokeh: injecting script tag for BokehJS library: \", url);\n",
       "      document.head.appendChild(element);\n",
       "    }\n",
       "    for (const name in js_exports) {\n",
       "      var url = js_exports[name];\n",
       "      if (skip.indexOf(url) >= 0 || root[name] != null) {\n",
       "\tif (!window.requirejs) {\n",
       "\t  on_load();\n",
       "\t}\n",
       "\tcontinue;\n",
       "      }\n",
       "      var element = document.createElement('script');\n",
       "      element.onerror = on_error;\n",
       "      element.async = false;\n",
       "      element.type = \"module\";\n",
       "      console.debug(\"Bokeh: injecting script tag for BokehJS library: \", url);\n",
       "      element.textContent = `\n",
       "      import ${name} from \"${url}\"\n",
       "      window.${name} = ${name}\n",
       "      window._bokeh_on_load()\n",
       "      `\n",
       "      document.head.appendChild(element);\n",
       "    }\n",
       "    if (!js_urls.length && !js_modules.length) {\n",
       "      on_load()\n",
       "    }\n",
       "  };\n",
       "\n",
       "  function inject_raw_css(css) {\n",
       "    const element = document.createElement(\"style\");\n",
       "    element.appendChild(document.createTextNode(css));\n",
       "    document.body.appendChild(element);\n",
       "  }\n",
       "\n",
       "  var js_urls = [\"https://cdn.bokeh.org/bokeh/release/bokeh-3.4.2.min.js\", \"https://cdn.bokeh.org/bokeh/release/bokeh-gl-3.4.2.min.js\", \"https://cdn.bokeh.org/bokeh/release/bokeh-widgets-3.4.2.min.js\", \"https://cdn.bokeh.org/bokeh/release/bokeh-tables-3.4.2.min.js\", \"https://cdn.holoviz.org/panel/1.4.4/dist/panel.min.js\"];\n",
       "  var js_modules = [];\n",
       "  var js_exports = {};\n",
       "  var css_urls = [];\n",
       "  var inline_js = [    function(Bokeh) {\n",
       "      Bokeh.set_log_level(\"info\");\n",
       "    },\n",
       "function(Bokeh) {} // ensure no trailing comma for IE\n",
       "  ];\n",
       "\n",
       "  function run_inline_js() {\n",
       "    if ((root.Bokeh !== undefined) || (force === true)) {\n",
       "      for (var i = 0; i < inline_js.length; i++) {\n",
       "\ttry {\n",
       "          inline_js[i].call(root, root.Bokeh);\n",
       "\t} catch(e) {\n",
       "\t  if (!reloading) {\n",
       "\t    throw e;\n",
       "\t  }\n",
       "\t}\n",
       "      }\n",
       "      // Cache old bokeh versions\n",
       "      if (Bokeh != undefined && !reloading) {\n",
       "\tvar NewBokeh = root.Bokeh;\n",
       "\tif (Bokeh.versions === undefined) {\n",
       "\t  Bokeh.versions = new Map();\n",
       "\t}\n",
       "\tif (NewBokeh.version !== Bokeh.version) {\n",
       "\t  Bokeh.versions.set(NewBokeh.version, NewBokeh)\n",
       "\t}\n",
       "\troot.Bokeh = Bokeh;\n",
       "      }} else if (Date.now() < root._bokeh_timeout) {\n",
       "      setTimeout(run_inline_js, 100);\n",
       "    } else if (!root._bokeh_failed_load) {\n",
       "      console.log(\"Bokeh: BokehJS failed to load within specified timeout.\");\n",
       "      root._bokeh_failed_load = true;\n",
       "    }\n",
       "    root._bokeh_is_initializing = false\n",
       "  }\n",
       "\n",
       "  function load_or_wait() {\n",
       "    // Implement a backoff loop that tries to ensure we do not load multiple\n",
       "    // versions of Bokeh and its dependencies at the same time.\n",
       "    // In recent versions we use the root._bokeh_is_initializing flag\n",
       "    // to determine whether there is an ongoing attempt to initialize\n",
       "    // bokeh, however for backward compatibility we also try to ensure\n",
       "    // that we do not start loading a newer (Panel>=1.0 and Bokeh>3) version\n",
       "    // before older versions are fully initialized.\n",
       "    if (root._bokeh_is_initializing && Date.now() > root._bokeh_timeout) {\n",
       "      root._bokeh_is_initializing = false;\n",
       "      root._bokeh_onload_callbacks = undefined;\n",
       "      console.log(\"Bokeh: BokehJS was loaded multiple times but one version failed to initialize.\");\n",
       "      load_or_wait();\n",
       "    } else if (root._bokeh_is_initializing || (typeof root._bokeh_is_initializing === \"undefined\" && root._bokeh_onload_callbacks !== undefined)) {\n",
       "      setTimeout(load_or_wait, 100);\n",
       "    } else {\n",
       "      root._bokeh_is_initializing = true\n",
       "      root._bokeh_onload_callbacks = []\n",
       "      var bokeh_loaded = Bokeh != null && (Bokeh.version === py_version || (Bokeh.versions !== undefined && Bokeh.versions.has(py_version)));\n",
       "      if (!reloading && !bokeh_loaded) {\n",
       "\troot.Bokeh = undefined;\n",
       "      }\n",
       "      load_libs(css_urls, js_urls, js_modules, js_exports, function() {\n",
       "\tconsole.debug(\"Bokeh: BokehJS plotting callback run at\", now());\n",
       "\trun_inline_js();\n",
       "      });\n",
       "    }\n",
       "  }\n",
       "  // Give older versions of the autoload script a head-start to ensure\n",
       "  // they initialize before we start loading newer version.\n",
       "  setTimeout(load_or_wait, 100)\n",
       "}(window));"
      ],
      "application/vnd.holoviews_load.v0+json": "(function(root) {\n  function now() {\n    return new Date();\n  }\n\n  var force = true;\n  var py_version = '3.4.2'.replace('rc', '-rc.').replace('.dev', '-dev.');\n  var reloading = false;\n  var Bokeh = root.Bokeh;\n\n  if (typeof (root._bokeh_timeout) === \"undefined\" || force) {\n    root._bokeh_timeout = Date.now() + 5000;\n    root._bokeh_failed_load = false;\n  }\n\n  function run_callbacks() {\n    try {\n      root._bokeh_onload_callbacks.forEach(function(callback) {\n        if (callback != null)\n          callback();\n      });\n    } finally {\n      delete root._bokeh_onload_callbacks;\n    }\n    console.debug(\"Bokeh: all callbacks have finished\");\n  }\n\n  function load_libs(css_urls, js_urls, js_modules, js_exports, callback) {\n    if (css_urls == null) css_urls = [];\n    if (js_urls == null) js_urls = [];\n    if (js_modules == null) js_modules = [];\n    if (js_exports == null) js_exports = {};\n\n    root._bokeh_onload_callbacks.push(callback);\n\n    if (root._bokeh_is_loading > 0) {\n      console.debug(\"Bokeh: BokehJS is being loaded, scheduling callback at\", now());\n      return null;\n    }\n    if (js_urls.length === 0 && js_modules.length === 0 && Object.keys(js_exports).length === 0) {\n      run_callbacks();\n      return null;\n    }\n    if (!reloading) {\n      console.debug(\"Bokeh: BokehJS not loaded, scheduling load and callback at\", now());\n    }\n\n    function on_load() {\n      root._bokeh_is_loading--;\n      if (root._bokeh_is_loading === 0) {\n        console.debug(\"Bokeh: all BokehJS libraries/stylesheets loaded\");\n        run_callbacks()\n      }\n    }\n    window._bokeh_on_load = on_load\n\n    function on_error() {\n      console.error(\"failed to load \" + url);\n    }\n\n    var skip = [];\n    if (window.requirejs) {\n      window.requirejs.config({'packages': {}, 'paths': {}, 'shim': {}});\n      root._bokeh_is_loading = css_urls.length + 0;\n    } else {\n      root._bokeh_is_loading = css_urls.length + js_urls.length + js_modules.length + Object.keys(js_exports).length;\n    }\n\n    var existing_stylesheets = []\n    var links = document.getElementsByTagName('link')\n    for (var i = 0; i < links.length; i++) {\n      var link = links[i]\n      if (link.href != null) {\n\texisting_stylesheets.push(link.href)\n      }\n    }\n    for (var i = 0; i < css_urls.length; i++) {\n      var url = css_urls[i];\n      if (existing_stylesheets.indexOf(url) !== -1) {\n\ton_load()\n\tcontinue;\n      }\n      const element = document.createElement(\"link\");\n      element.onload = on_load;\n      element.onerror = on_error;\n      element.rel = \"stylesheet\";\n      element.type = \"text/css\";\n      element.href = url;\n      console.debug(\"Bokeh: injecting link tag for BokehJS stylesheet: \", url);\n      document.body.appendChild(element);\n    }    var existing_scripts = []\n    var scripts = document.getElementsByTagName('script')\n    for (var i = 0; i < scripts.length; i++) {\n      var script = scripts[i]\n      if (script.src != null) {\n\texisting_scripts.push(script.src)\n      }\n    }\n    for (var i = 0; i < js_urls.length; i++) {\n      var url = js_urls[i];\n      if (skip.indexOf(url) !== -1 || existing_scripts.indexOf(url) !== -1) {\n\tif (!window.requirejs) {\n\t  on_load();\n\t}\n\tcontinue;\n      }\n      var element = document.createElement('script');\n      element.onload = on_load;\n      element.onerror = on_error;\n      element.async = false;\n      element.src = url;\n      console.debug(\"Bokeh: injecting script tag for BokehJS library: \", url);\n      document.head.appendChild(element);\n    }\n    for (var i = 0; i < js_modules.length; i++) {\n      var url = js_modules[i];\n      if (skip.indexOf(url) !== -1 || existing_scripts.indexOf(url) !== -1) {\n\tif (!window.requirejs) {\n\t  on_load();\n\t}\n\tcontinue;\n      }\n      var element = document.createElement('script');\n      element.onload = on_load;\n      element.onerror = on_error;\n      element.async = false;\n      element.src = url;\n      element.type = \"module\";\n      console.debug(\"Bokeh: injecting script tag for BokehJS library: \", url);\n      document.head.appendChild(element);\n    }\n    for (const name in js_exports) {\n      var url = js_exports[name];\n      if (skip.indexOf(url) >= 0 || root[name] != null) {\n\tif (!window.requirejs) {\n\t  on_load();\n\t}\n\tcontinue;\n      }\n      var element = document.createElement('script');\n      element.onerror = on_error;\n      element.async = false;\n      element.type = \"module\";\n      console.debug(\"Bokeh: injecting script tag for BokehJS library: \", url);\n      element.textContent = `\n      import ${name} from \"${url}\"\n      window.${name} = ${name}\n      window._bokeh_on_load()\n      `\n      document.head.appendChild(element);\n    }\n    if (!js_urls.length && !js_modules.length) {\n      on_load()\n    }\n  };\n\n  function inject_raw_css(css) {\n    const element = document.createElement(\"style\");\n    element.appendChild(document.createTextNode(css));\n    document.body.appendChild(element);\n  }\n\n  var js_urls = [\"https://cdn.bokeh.org/bokeh/release/bokeh-3.4.2.min.js\", \"https://cdn.bokeh.org/bokeh/release/bokeh-gl-3.4.2.min.js\", \"https://cdn.bokeh.org/bokeh/release/bokeh-widgets-3.4.2.min.js\", \"https://cdn.bokeh.org/bokeh/release/bokeh-tables-3.4.2.min.js\", \"https://cdn.holoviz.org/panel/1.4.4/dist/panel.min.js\"];\n  var js_modules = [];\n  var js_exports = {};\n  var css_urls = [];\n  var inline_js = [    function(Bokeh) {\n      Bokeh.set_log_level(\"info\");\n    },\nfunction(Bokeh) {} // ensure no trailing comma for IE\n  ];\n\n  function run_inline_js() {\n    if ((root.Bokeh !== undefined) || (force === true)) {\n      for (var i = 0; i < inline_js.length; i++) {\n\ttry {\n          inline_js[i].call(root, root.Bokeh);\n\t} catch(e) {\n\t  if (!reloading) {\n\t    throw e;\n\t  }\n\t}\n      }\n      // Cache old bokeh versions\n      if (Bokeh != undefined && !reloading) {\n\tvar NewBokeh = root.Bokeh;\n\tif (Bokeh.versions === undefined) {\n\t  Bokeh.versions = new Map();\n\t}\n\tif (NewBokeh.version !== Bokeh.version) {\n\t  Bokeh.versions.set(NewBokeh.version, NewBokeh)\n\t}\n\troot.Bokeh = Bokeh;\n      }} else if (Date.now() < root._bokeh_timeout) {\n      setTimeout(run_inline_js, 100);\n    } else if (!root._bokeh_failed_load) {\n      console.log(\"Bokeh: BokehJS failed to load within specified timeout.\");\n      root._bokeh_failed_load = true;\n    }\n    root._bokeh_is_initializing = false\n  }\n\n  function load_or_wait() {\n    // Implement a backoff loop that tries to ensure we do not load multiple\n    // versions of Bokeh and its dependencies at the same time.\n    // In recent versions we use the root._bokeh_is_initializing flag\n    // to determine whether there is an ongoing attempt to initialize\n    // bokeh, however for backward compatibility we also try to ensure\n    // that we do not start loading a newer (Panel>=1.0 and Bokeh>3) version\n    // before older versions are fully initialized.\n    if (root._bokeh_is_initializing && Date.now() > root._bokeh_timeout) {\n      root._bokeh_is_initializing = false;\n      root._bokeh_onload_callbacks = undefined;\n      console.log(\"Bokeh: BokehJS was loaded multiple times but one version failed to initialize.\");\n      load_or_wait();\n    } else if (root._bokeh_is_initializing || (typeof root._bokeh_is_initializing === \"undefined\" && root._bokeh_onload_callbacks !== undefined)) {\n      setTimeout(load_or_wait, 100);\n    } else {\n      root._bokeh_is_initializing = true\n      root._bokeh_onload_callbacks = []\n      var bokeh_loaded = Bokeh != null && (Bokeh.version === py_version || (Bokeh.versions !== undefined && Bokeh.versions.has(py_version)));\n      if (!reloading && !bokeh_loaded) {\n\troot.Bokeh = undefined;\n      }\n      load_libs(css_urls, js_urls, js_modules, js_exports, function() {\n\tconsole.debug(\"Bokeh: BokehJS plotting callback run at\", now());\n\trun_inline_js();\n      });\n    }\n  }\n  // Give older versions of the autoload script a head-start to ensure\n  // they initialize before we start loading newer version.\n  setTimeout(load_or_wait, 100)\n}(window));"
     },
     "metadata": {},
     "output_type": "display_data"
    },
    {
     "data": {
      "application/javascript": [
       "\n",
       "if ((window.PyViz === undefined) || (window.PyViz instanceof HTMLElement)) {\n",
       "  window.PyViz = {comms: {}, comm_status:{}, kernels:{}, receivers: {}, plot_index: []}\n",
       "}\n",
       "\n",
       "\n",
       "    function JupyterCommManager() {\n",
       "    }\n",
       "\n",
       "    JupyterCommManager.prototype.register_target = function(plot_id, comm_id, msg_handler) {\n",
       "      if (window.comm_manager || ((window.Jupyter !== undefined) && (Jupyter.notebook.kernel != null))) {\n",
       "        var comm_manager = window.comm_manager || Jupyter.notebook.kernel.comm_manager;\n",
       "        comm_manager.register_target(comm_id, function(comm) {\n",
       "          comm.on_msg(msg_handler);\n",
       "        });\n",
       "      } else if ((plot_id in window.PyViz.kernels) && (window.PyViz.kernels[plot_id])) {\n",
       "        window.PyViz.kernels[plot_id].registerCommTarget(comm_id, function(comm) {\n",
       "          comm.onMsg = msg_handler;\n",
       "        });\n",
       "      } else if (typeof google != 'undefined' && google.colab.kernel != null) {\n",
       "        google.colab.kernel.comms.registerTarget(comm_id, (comm) => {\n",
       "          var messages = comm.messages[Symbol.asyncIterator]();\n",
       "          function processIteratorResult(result) {\n",
       "            var message = result.value;\n",
       "            console.log(message)\n",
       "            var content = {data: message.data, comm_id};\n",
       "            var buffers = []\n",
       "            for (var buffer of message.buffers || []) {\n",
       "              buffers.push(new DataView(buffer))\n",
       "            }\n",
       "            var metadata = message.metadata || {};\n",
       "            var msg = {content, buffers, metadata}\n",
       "            msg_handler(msg);\n",
       "            return messages.next().then(processIteratorResult);\n",
       "          }\n",
       "          return messages.next().then(processIteratorResult);\n",
       "        })\n",
       "      }\n",
       "    }\n",
       "\n",
       "    JupyterCommManager.prototype.get_client_comm = function(plot_id, comm_id, msg_handler) {\n",
       "      if (comm_id in window.PyViz.comms) {\n",
       "        return window.PyViz.comms[comm_id];\n",
       "      } else if (window.comm_manager || ((window.Jupyter !== undefined) && (Jupyter.notebook.kernel != null))) {\n",
       "        var comm_manager = window.comm_manager || Jupyter.notebook.kernel.comm_manager;\n",
       "        var comm = comm_manager.new_comm(comm_id, {}, {}, {}, comm_id);\n",
       "        if (msg_handler) {\n",
       "          comm.on_msg(msg_handler);\n",
       "        }\n",
       "      } else if ((plot_id in window.PyViz.kernels) && (window.PyViz.kernels[plot_id])) {\n",
       "        var comm = window.PyViz.kernels[plot_id].connectToComm(comm_id);\n",
       "        comm.open();\n",
       "        if (msg_handler) {\n",
       "          comm.onMsg = msg_handler;\n",
       "        }\n",
       "      } else if (typeof google != 'undefined' && google.colab.kernel != null) {\n",
       "        var comm_promise = google.colab.kernel.comms.open(comm_id)\n",
       "        comm_promise.then((comm) => {\n",
       "          window.PyViz.comms[comm_id] = comm;\n",
       "          if (msg_handler) {\n",
       "            var messages = comm.messages[Symbol.asyncIterator]();\n",
       "            function processIteratorResult(result) {\n",
       "              var message = result.value;\n",
       "              var content = {data: message.data};\n",
       "              var metadata = message.metadata || {comm_id};\n",
       "              var msg = {content, metadata}\n",
       "              msg_handler(msg);\n",
       "              return messages.next().then(processIteratorResult);\n",
       "            }\n",
       "            return messages.next().then(processIteratorResult);\n",
       "          }\n",
       "        }) \n",
       "        var sendClosure = (data, metadata, buffers, disposeOnDone) => {\n",
       "          return comm_promise.then((comm) => {\n",
       "            comm.send(data, metadata, buffers, disposeOnDone);\n",
       "          });\n",
       "        };\n",
       "        var comm = {\n",
       "          send: sendClosure\n",
       "        };\n",
       "      }\n",
       "      window.PyViz.comms[comm_id] = comm;\n",
       "      return comm;\n",
       "    }\n",
       "    window.PyViz.comm_manager = new JupyterCommManager();\n",
       "    \n",
       "\n",
       "\n",
       "var JS_MIME_TYPE = 'application/javascript';\n",
       "var HTML_MIME_TYPE = 'text/html';\n",
       "var EXEC_MIME_TYPE = 'application/vnd.holoviews_exec.v0+json';\n",
       "var CLASS_NAME = 'output';\n",
       "\n",
       "/**\n",
       " * Render data to the DOM node\n",
       " */\n",
       "function render(props, node) {\n",
       "  var div = document.createElement(\"div\");\n",
       "  var script = document.createElement(\"script\");\n",
       "  node.appendChild(div);\n",
       "  node.appendChild(script);\n",
       "}\n",
       "\n",
       "/**\n",
       " * Handle when a new output is added\n",
       " */\n",
       "function handle_add_output(event, handle) {\n",
       "  var output_area = handle.output_area;\n",
       "  var output = handle.output;\n",
       "  if ((output.data == undefined) || (!output.data.hasOwnProperty(EXEC_MIME_TYPE))) {\n",
       "    return\n",
       "  }\n",
       "  var id = output.metadata[EXEC_MIME_TYPE][\"id\"];\n",
       "  var toinsert = output_area.element.find(\".\" + CLASS_NAME.split(' ')[0]);\n",
       "  if (id !== undefined) {\n",
       "    var nchildren = toinsert.length;\n",
       "    var html_node = toinsert[nchildren-1].children[0];\n",
       "    html_node.innerHTML = output.data[HTML_MIME_TYPE];\n",
       "    var scripts = [];\n",
       "    var nodelist = html_node.querySelectorAll(\"script\");\n",
       "    for (var i in nodelist) {\n",
       "      if (nodelist.hasOwnProperty(i)) {\n",
       "        scripts.push(nodelist[i])\n",
       "      }\n",
       "    }\n",
       "\n",
       "    scripts.forEach( function (oldScript) {\n",
       "      var newScript = document.createElement(\"script\");\n",
       "      var attrs = [];\n",
       "      var nodemap = oldScript.attributes;\n",
       "      for (var j in nodemap) {\n",
       "        if (nodemap.hasOwnProperty(j)) {\n",
       "          attrs.push(nodemap[j])\n",
       "        }\n",
       "      }\n",
       "      attrs.forEach(function(attr) { newScript.setAttribute(attr.name, attr.value) });\n",
       "      newScript.appendChild(document.createTextNode(oldScript.innerHTML));\n",
       "      oldScript.parentNode.replaceChild(newScript, oldScript);\n",
       "    });\n",
       "    if (JS_MIME_TYPE in output.data) {\n",
       "      toinsert[nchildren-1].children[1].textContent = output.data[JS_MIME_TYPE];\n",
       "    }\n",
       "    output_area._hv_plot_id = id;\n",
       "    if ((window.Bokeh !== undefined) && (id in Bokeh.index)) {\n",
       "      window.PyViz.plot_index[id] = Bokeh.index[id];\n",
       "    } else {\n",
       "      window.PyViz.plot_index[id] = null;\n",
       "    }\n",
       "  } else if (output.metadata[EXEC_MIME_TYPE][\"server_id\"] !== undefined) {\n",
       "    var bk_div = document.createElement(\"div\");\n",
       "    bk_div.innerHTML = output.data[HTML_MIME_TYPE];\n",
       "    var script_attrs = bk_div.children[0].attributes;\n",
       "    for (var i = 0; i < script_attrs.length; i++) {\n",
       "      toinsert[toinsert.length - 1].childNodes[1].setAttribute(script_attrs[i].name, script_attrs[i].value);\n",
       "    }\n",
       "    // store reference to server id on output_area\n",
       "    output_area._bokeh_server_id = output.metadata[EXEC_MIME_TYPE][\"server_id\"];\n",
       "  }\n",
       "}\n",
       "\n",
       "/**\n",
       " * Handle when an output is cleared or removed\n",
       " */\n",
       "function handle_clear_output(event, handle) {\n",
       "  var id = handle.cell.output_area._hv_plot_id;\n",
       "  var server_id = handle.cell.output_area._bokeh_server_id;\n",
       "  if (((id === undefined) || !(id in PyViz.plot_index)) && (server_id !== undefined)) { return; }\n",
       "  var comm = window.PyViz.comm_manager.get_client_comm(\"hv-extension-comm\", \"hv-extension-comm\", function () {});\n",
       "  if (server_id !== null) {\n",
       "    comm.send({event_type: 'server_delete', 'id': server_id});\n",
       "    return;\n",
       "  } else if (comm !== null) {\n",
       "    comm.send({event_type: 'delete', 'id': id});\n",
       "  }\n",
       "  delete PyViz.plot_index[id];\n",
       "  if ((window.Bokeh !== undefined) & (id in window.Bokeh.index)) {\n",
       "    var doc = window.Bokeh.index[id].model.document\n",
       "    doc.clear();\n",
       "    const i = window.Bokeh.documents.indexOf(doc);\n",
       "    if (i > -1) {\n",
       "      window.Bokeh.documents.splice(i, 1);\n",
       "    }\n",
       "  }\n",
       "}\n",
       "\n",
       "/**\n",
       " * Handle kernel restart event\n",
       " */\n",
       "function handle_kernel_cleanup(event, handle) {\n",
       "  delete PyViz.comms[\"hv-extension-comm\"];\n",
       "  window.PyViz.plot_index = {}\n",
       "}\n",
       "\n",
       "/**\n",
       " * Handle update_display_data messages\n",
       " */\n",
       "function handle_update_output(event, handle) {\n",
       "  handle_clear_output(event, {cell: {output_area: handle.output_area}})\n",
       "  handle_add_output(event, handle)\n",
       "}\n",
       "\n",
       "function register_renderer(events, OutputArea) {\n",
       "  function append_mime(data, metadata, element) {\n",
       "    // create a DOM node to render to\n",
       "    var toinsert = this.create_output_subarea(\n",
       "    metadata,\n",
       "    CLASS_NAME,\n",
       "    EXEC_MIME_TYPE\n",
       "    );\n",
       "    this.keyboard_manager.register_events(toinsert);\n",
       "    // Render to node\n",
       "    var props = {data: data, metadata: metadata[EXEC_MIME_TYPE]};\n",
       "    render(props, toinsert[0]);\n",
       "    element.append(toinsert);\n",
       "    return toinsert\n",
       "  }\n",
       "\n",
       "  events.on('output_added.OutputArea', handle_add_output);\n",
       "  events.on('output_updated.OutputArea', handle_update_output);\n",
       "  events.on('clear_output.CodeCell', handle_clear_output);\n",
       "  events.on('delete.Cell', handle_clear_output);\n",
       "  events.on('kernel_ready.Kernel', handle_kernel_cleanup);\n",
       "\n",
       "  OutputArea.prototype.register_mime_type(EXEC_MIME_TYPE, append_mime, {\n",
       "    safe: true,\n",
       "    index: 0\n",
       "  });\n",
       "}\n",
       "\n",
       "if (window.Jupyter !== undefined) {\n",
       "  try {\n",
       "    var events = require('base/js/events');\n",
       "    var OutputArea = require('notebook/js/outputarea').OutputArea;\n",
       "    if (OutputArea.prototype.mime_types().indexOf(EXEC_MIME_TYPE) == -1) {\n",
       "      register_renderer(events, OutputArea);\n",
       "    }\n",
       "  } catch(err) {\n",
       "  }\n",
       "}\n"
      ],
      "application/vnd.holoviews_load.v0+json": "\nif ((window.PyViz === undefined) || (window.PyViz instanceof HTMLElement)) {\n  window.PyViz = {comms: {}, comm_status:{}, kernels:{}, receivers: {}, plot_index: []}\n}\n\n\n    function JupyterCommManager() {\n    }\n\n    JupyterCommManager.prototype.register_target = function(plot_id, comm_id, msg_handler) {\n      if (window.comm_manager || ((window.Jupyter !== undefined) && (Jupyter.notebook.kernel != null))) {\n        var comm_manager = window.comm_manager || Jupyter.notebook.kernel.comm_manager;\n        comm_manager.register_target(comm_id, function(comm) {\n          comm.on_msg(msg_handler);\n        });\n      } else if ((plot_id in window.PyViz.kernels) && (window.PyViz.kernels[plot_id])) {\n        window.PyViz.kernels[plot_id].registerCommTarget(comm_id, function(comm) {\n          comm.onMsg = msg_handler;\n        });\n      } else if (typeof google != 'undefined' && google.colab.kernel != null) {\n        google.colab.kernel.comms.registerTarget(comm_id, (comm) => {\n          var messages = comm.messages[Symbol.asyncIterator]();\n          function processIteratorResult(result) {\n            var message = result.value;\n            console.log(message)\n            var content = {data: message.data, comm_id};\n            var buffers = []\n            for (var buffer of message.buffers || []) {\n              buffers.push(new DataView(buffer))\n            }\n            var metadata = message.metadata || {};\n            var msg = {content, buffers, metadata}\n            msg_handler(msg);\n            return messages.next().then(processIteratorResult);\n          }\n          return messages.next().then(processIteratorResult);\n        })\n      }\n    }\n\n    JupyterCommManager.prototype.get_client_comm = function(plot_id, comm_id, msg_handler) {\n      if (comm_id in window.PyViz.comms) {\n        return window.PyViz.comms[comm_id];\n      } else if (window.comm_manager || ((window.Jupyter !== undefined) && (Jupyter.notebook.kernel != null))) {\n        var comm_manager = window.comm_manager || Jupyter.notebook.kernel.comm_manager;\n        var comm = comm_manager.new_comm(comm_id, {}, {}, {}, comm_id);\n        if (msg_handler) {\n          comm.on_msg(msg_handler);\n        }\n      } else if ((plot_id in window.PyViz.kernels) && (window.PyViz.kernels[plot_id])) {\n        var comm = window.PyViz.kernels[plot_id].connectToComm(comm_id);\n        comm.open();\n        if (msg_handler) {\n          comm.onMsg = msg_handler;\n        }\n      } else if (typeof google != 'undefined' && google.colab.kernel != null) {\n        var comm_promise = google.colab.kernel.comms.open(comm_id)\n        comm_promise.then((comm) => {\n          window.PyViz.comms[comm_id] = comm;\n          if (msg_handler) {\n            var messages = comm.messages[Symbol.asyncIterator]();\n            function processIteratorResult(result) {\n              var message = result.value;\n              var content = {data: message.data};\n              var metadata = message.metadata || {comm_id};\n              var msg = {content, metadata}\n              msg_handler(msg);\n              return messages.next().then(processIteratorResult);\n            }\n            return messages.next().then(processIteratorResult);\n          }\n        }) \n        var sendClosure = (data, metadata, buffers, disposeOnDone) => {\n          return comm_promise.then((comm) => {\n            comm.send(data, metadata, buffers, disposeOnDone);\n          });\n        };\n        var comm = {\n          send: sendClosure\n        };\n      }\n      window.PyViz.comms[comm_id] = comm;\n      return comm;\n    }\n    window.PyViz.comm_manager = new JupyterCommManager();\n    \n\n\nvar JS_MIME_TYPE = 'application/javascript';\nvar HTML_MIME_TYPE = 'text/html';\nvar EXEC_MIME_TYPE = 'application/vnd.holoviews_exec.v0+json';\nvar CLASS_NAME = 'output';\n\n/**\n * Render data to the DOM node\n */\nfunction render(props, node) {\n  var div = document.createElement(\"div\");\n  var script = document.createElement(\"script\");\n  node.appendChild(div);\n  node.appendChild(script);\n}\n\n/**\n * Handle when a new output is added\n */\nfunction handle_add_output(event, handle) {\n  var output_area = handle.output_area;\n  var output = handle.output;\n  if ((output.data == undefined) || (!output.data.hasOwnProperty(EXEC_MIME_TYPE))) {\n    return\n  }\n  var id = output.metadata[EXEC_MIME_TYPE][\"id\"];\n  var toinsert = output_area.element.find(\".\" + CLASS_NAME.split(' ')[0]);\n  if (id !== undefined) {\n    var nchildren = toinsert.length;\n    var html_node = toinsert[nchildren-1].children[0];\n    html_node.innerHTML = output.data[HTML_MIME_TYPE];\n    var scripts = [];\n    var nodelist = html_node.querySelectorAll(\"script\");\n    for (var i in nodelist) {\n      if (nodelist.hasOwnProperty(i)) {\n        scripts.push(nodelist[i])\n      }\n    }\n\n    scripts.forEach( function (oldScript) {\n      var newScript = document.createElement(\"script\");\n      var attrs = [];\n      var nodemap = oldScript.attributes;\n      for (var j in nodemap) {\n        if (nodemap.hasOwnProperty(j)) {\n          attrs.push(nodemap[j])\n        }\n      }\n      attrs.forEach(function(attr) { newScript.setAttribute(attr.name, attr.value) });\n      newScript.appendChild(document.createTextNode(oldScript.innerHTML));\n      oldScript.parentNode.replaceChild(newScript, oldScript);\n    });\n    if (JS_MIME_TYPE in output.data) {\n      toinsert[nchildren-1].children[1].textContent = output.data[JS_MIME_TYPE];\n    }\n    output_area._hv_plot_id = id;\n    if ((window.Bokeh !== undefined) && (id in Bokeh.index)) {\n      window.PyViz.plot_index[id] = Bokeh.index[id];\n    } else {\n      window.PyViz.plot_index[id] = null;\n    }\n  } else if (output.metadata[EXEC_MIME_TYPE][\"server_id\"] !== undefined) {\n    var bk_div = document.createElement(\"div\");\n    bk_div.innerHTML = output.data[HTML_MIME_TYPE];\n    var script_attrs = bk_div.children[0].attributes;\n    for (var i = 0; i < script_attrs.length; i++) {\n      toinsert[toinsert.length - 1].childNodes[1].setAttribute(script_attrs[i].name, script_attrs[i].value);\n    }\n    // store reference to server id on output_area\n    output_area._bokeh_server_id = output.metadata[EXEC_MIME_TYPE][\"server_id\"];\n  }\n}\n\n/**\n * Handle when an output is cleared or removed\n */\nfunction handle_clear_output(event, handle) {\n  var id = handle.cell.output_area._hv_plot_id;\n  var server_id = handle.cell.output_area._bokeh_server_id;\n  if (((id === undefined) || !(id in PyViz.plot_index)) && (server_id !== undefined)) { return; }\n  var comm = window.PyViz.comm_manager.get_client_comm(\"hv-extension-comm\", \"hv-extension-comm\", function () {});\n  if (server_id !== null) {\n    comm.send({event_type: 'server_delete', 'id': server_id});\n    return;\n  } else if (comm !== null) {\n    comm.send({event_type: 'delete', 'id': id});\n  }\n  delete PyViz.plot_index[id];\n  if ((window.Bokeh !== undefined) & (id in window.Bokeh.index)) {\n    var doc = window.Bokeh.index[id].model.document\n    doc.clear();\n    const i = window.Bokeh.documents.indexOf(doc);\n    if (i > -1) {\n      window.Bokeh.documents.splice(i, 1);\n    }\n  }\n}\n\n/**\n * Handle kernel restart event\n */\nfunction handle_kernel_cleanup(event, handle) {\n  delete PyViz.comms[\"hv-extension-comm\"];\n  window.PyViz.plot_index = {}\n}\n\n/**\n * Handle update_display_data messages\n */\nfunction handle_update_output(event, handle) {\n  handle_clear_output(event, {cell: {output_area: handle.output_area}})\n  handle_add_output(event, handle)\n}\n\nfunction register_renderer(events, OutputArea) {\n  function append_mime(data, metadata, element) {\n    // create a DOM node to render to\n    var toinsert = this.create_output_subarea(\n    metadata,\n    CLASS_NAME,\n    EXEC_MIME_TYPE\n    );\n    this.keyboard_manager.register_events(toinsert);\n    // Render to node\n    var props = {data: data, metadata: metadata[EXEC_MIME_TYPE]};\n    render(props, toinsert[0]);\n    element.append(toinsert);\n    return toinsert\n  }\n\n  events.on('output_added.OutputArea', handle_add_output);\n  events.on('output_updated.OutputArea', handle_update_output);\n  events.on('clear_output.CodeCell', handle_clear_output);\n  events.on('delete.Cell', handle_clear_output);\n  events.on('kernel_ready.Kernel', handle_kernel_cleanup);\n\n  OutputArea.prototype.register_mime_type(EXEC_MIME_TYPE, append_mime, {\n    safe: true,\n    index: 0\n  });\n}\n\nif (window.Jupyter !== undefined) {\n  try {\n    var events = require('base/js/events');\n    var OutputArea = require('notebook/js/outputarea').OutputArea;\n    if (OutputArea.prototype.mime_types().indexOf(EXEC_MIME_TYPE) == -1) {\n      register_renderer(events, OutputArea);\n    }\n  } catch(err) {\n  }\n}\n"
     },
     "metadata": {},
     "output_type": "display_data"
    },
    {
     "data": {
      "text/html": [
       "<style>*[data-root-id],\n",
       "*[data-root-id] > * {\n",
       "  box-sizing: border-box;\n",
       "  font-family: var(--jp-ui-font-family);\n",
       "  font-size: var(--jp-ui-font-size1);\n",
       "  color: var(--vscode-editor-foreground, var(--jp-ui-font-color1));\n",
       "}\n",
       "\n",
       "/* Override VSCode background color */\n",
       ".cell-output-ipywidget-background:has(\n",
       "    > .cell-output-ipywidget-background > .lm-Widget > *[data-root-id]\n",
       "  ),\n",
       ".cell-output-ipywidget-background:has(> .lm-Widget > *[data-root-id]) {\n",
       "  background-color: transparent !important;\n",
       "}\n",
       "</style>"
      ]
     },
     "metadata": {},
     "output_type": "display_data"
    },
    {
     "data": {
      "application/vnd.holoviews_exec.v0+json": "",
      "text/html": [
       "<div id='p1002'>\n",
       "  <div id=\"bd123b5f-1020-4668-acb7-5282e0e67ba1\" data-root-id=\"p1002\" style=\"display: contents;\"></div>\n",
       "</div>\n",
       "<script type=\"application/javascript\">(function(root) {\n",
       "  var docs_json = {\"1be30313-6381-4bdf-b44f-de460c4ee6b3\":{\"version\":\"3.4.2\",\"title\":\"Bokeh Application\",\"roots\":[{\"type\":\"object\",\"name\":\"panel.models.browser.BrowserInfo\",\"id\":\"p1002\"},{\"type\":\"object\",\"name\":\"panel.models.comm_manager.CommManager\",\"id\":\"p1003\",\"attributes\":{\"plot_id\":\"p1002\",\"comm_id\":\"65c83a08d1ef404d8258b3cac2d460b0\",\"client_comm_id\":\"1fe653bbb0494f59b095d9789f87b4f6\"}}],\"defs\":[{\"type\":\"model\",\"name\":\"ReactiveHTML1\"},{\"type\":\"model\",\"name\":\"FlexBox1\",\"properties\":[{\"name\":\"align_content\",\"kind\":\"Any\",\"default\":\"flex-start\"},{\"name\":\"align_items\",\"kind\":\"Any\",\"default\":\"flex-start\"},{\"name\":\"flex_direction\",\"kind\":\"Any\",\"default\":\"row\"},{\"name\":\"flex_wrap\",\"kind\":\"Any\",\"default\":\"wrap\"},{\"name\":\"gap\",\"kind\":\"Any\",\"default\":\"\"},{\"name\":\"justify_content\",\"kind\":\"Any\",\"default\":\"flex-start\"}]},{\"type\":\"model\",\"name\":\"FloatPanel1\",\"properties\":[{\"name\":\"config\",\"kind\":\"Any\",\"default\":{\"type\":\"map\"}},{\"name\":\"contained\",\"kind\":\"Any\",\"default\":true},{\"name\":\"position\",\"kind\":\"Any\",\"default\":\"right-top\"},{\"name\":\"offsetx\",\"kind\":\"Any\",\"default\":null},{\"name\":\"offsety\",\"kind\":\"Any\",\"default\":null},{\"name\":\"theme\",\"kind\":\"Any\",\"default\":\"primary\"},{\"name\":\"status\",\"kind\":\"Any\",\"default\":\"normalized\"}]},{\"type\":\"model\",\"name\":\"GridStack1\",\"properties\":[{\"name\":\"mode\",\"kind\":\"Any\",\"default\":\"warn\"},{\"name\":\"ncols\",\"kind\":\"Any\",\"default\":null},{\"name\":\"nrows\",\"kind\":\"Any\",\"default\":null},{\"name\":\"allow_resize\",\"kind\":\"Any\",\"default\":true},{\"name\":\"allow_drag\",\"kind\":\"Any\",\"default\":true},{\"name\":\"state\",\"kind\":\"Any\",\"default\":[]}]},{\"type\":\"model\",\"name\":\"drag1\",\"properties\":[{\"name\":\"slider_width\",\"kind\":\"Any\",\"default\":5},{\"name\":\"slider_color\",\"kind\":\"Any\",\"default\":\"black\"},{\"name\":\"value\",\"kind\":\"Any\",\"default\":50}]},{\"type\":\"model\",\"name\":\"click1\",\"properties\":[{\"name\":\"terminal_output\",\"kind\":\"Any\",\"default\":\"\"},{\"name\":\"debug_name\",\"kind\":\"Any\",\"default\":\"\"},{\"name\":\"clears\",\"kind\":\"Any\",\"default\":0}]},{\"type\":\"model\",\"name\":\"FastWrapper1\",\"properties\":[{\"name\":\"object\",\"kind\":\"Any\",\"default\":null},{\"name\":\"style\",\"kind\":\"Any\",\"default\":null}]},{\"type\":\"model\",\"name\":\"NotificationAreaBase1\",\"properties\":[{\"name\":\"js_events\",\"kind\":\"Any\",\"default\":{\"type\":\"map\"}},{\"name\":\"position\",\"kind\":\"Any\",\"default\":\"bottom-right\"},{\"name\":\"_clear\",\"kind\":\"Any\",\"default\":0}]},{\"type\":\"model\",\"name\":\"NotificationArea1\",\"properties\":[{\"name\":\"js_events\",\"kind\":\"Any\",\"default\":{\"type\":\"map\"}},{\"name\":\"notifications\",\"kind\":\"Any\",\"default\":[]},{\"name\":\"position\",\"kind\":\"Any\",\"default\":\"bottom-right\"},{\"name\":\"_clear\",\"kind\":\"Any\",\"default\":0},{\"name\":\"types\",\"kind\":\"Any\",\"default\":[{\"type\":\"map\",\"entries\":[[\"type\",\"warning\"],[\"background\",\"#ffc107\"],[\"icon\",{\"type\":\"map\",\"entries\":[[\"className\",\"fas fa-exclamation-triangle\"],[\"tagName\",\"i\"],[\"color\",\"white\"]]}]]},{\"type\":\"map\",\"entries\":[[\"type\",\"info\"],[\"background\",\"#007bff\"],[\"icon\",{\"type\":\"map\",\"entries\":[[\"className\",\"fas fa-info-circle\"],[\"tagName\",\"i\"],[\"color\",\"white\"]]}]]}]}]},{\"type\":\"model\",\"name\":\"Notification\",\"properties\":[{\"name\":\"background\",\"kind\":\"Any\",\"default\":null},{\"name\":\"duration\",\"kind\":\"Any\",\"default\":3000},{\"name\":\"icon\",\"kind\":\"Any\",\"default\":null},{\"name\":\"message\",\"kind\":\"Any\",\"default\":\"\"},{\"name\":\"notification_type\",\"kind\":\"Any\",\"default\":null},{\"name\":\"_destroyed\",\"kind\":\"Any\",\"default\":false}]},{\"type\":\"model\",\"name\":\"TemplateActions1\",\"properties\":[{\"name\":\"open_modal\",\"kind\":\"Any\",\"default\":0},{\"name\":\"close_modal\",\"kind\":\"Any\",\"default\":0}]},{\"type\":\"model\",\"name\":\"BootstrapTemplateActions1\",\"properties\":[{\"name\":\"open_modal\",\"kind\":\"Any\",\"default\":0},{\"name\":\"close_modal\",\"kind\":\"Any\",\"default\":0}]},{\"type\":\"model\",\"name\":\"TemplateEditor1\",\"properties\":[{\"name\":\"layout\",\"kind\":\"Any\",\"default\":[]}]},{\"type\":\"model\",\"name\":\"MaterialTemplateActions1\",\"properties\":[{\"name\":\"open_modal\",\"kind\":\"Any\",\"default\":0},{\"name\":\"close_modal\",\"kind\":\"Any\",\"default\":0}]},{\"type\":\"model\",\"name\":\"copy_to_clipboard1\",\"properties\":[{\"name\":\"fill\",\"kind\":\"Any\",\"default\":\"none\"},{\"name\":\"value\",\"kind\":\"Any\",\"default\":null}]}]}};\n",
       "  var render_items = [{\"docid\":\"1be30313-6381-4bdf-b44f-de460c4ee6b3\",\"roots\":{\"p1002\":\"bd123b5f-1020-4668-acb7-5282e0e67ba1\"},\"root_ids\":[\"p1002\"]}];\n",
       "  var docs = Object.values(docs_json)\n",
       "  if (!docs) {\n",
       "    return\n",
       "  }\n",
       "  const py_version = docs[0].version.replace('rc', '-rc.').replace('.dev', '-dev.')\n",
       "  async function embed_document(root) {\n",
       "    var Bokeh = get_bokeh(root)\n",
       "    await Bokeh.embed.embed_items_notebook(docs_json, render_items);\n",
       "    for (const render_item of render_items) {\n",
       "      for (const root_id of render_item.root_ids) {\n",
       "\tconst id_el = document.getElementById(root_id)\n",
       "\tif (id_el.children.length && id_el.children[0].hasAttribute('data-root-id')) {\n",
       "\t  const root_el = id_el.children[0]\n",
       "\t  root_el.id = root_el.id + '-rendered'\n",
       "\t  for (const child of root_el.children) {\n",
       "            // Ensure JupyterLab does not capture keyboard shortcuts\n",
       "            // see: https://jupyterlab.readthedocs.io/en/4.1.x/extension/notebook.html#keyboard-interaction-model\n",
       "\t    child.setAttribute('data-lm-suppress-shortcuts', 'true')\n",
       "\t  }\n",
       "\t}\n",
       "      }\n",
       "    }\n",
       "  }\n",
       "  function get_bokeh(root) {\n",
       "    if (root.Bokeh === undefined) {\n",
       "      return null\n",
       "    } else if (root.Bokeh.version !== py_version) {\n",
       "      if (root.Bokeh.versions === undefined || !root.Bokeh.versions.has(py_version)) {\n",
       "\treturn null\n",
       "      }\n",
       "      return root.Bokeh.versions.get(py_version);\n",
       "    } else if (root.Bokeh.version === py_version) {\n",
       "      return root.Bokeh\n",
       "    }\n",
       "    return null\n",
       "  }\n",
       "  function is_loaded(root) {\n",
       "    var Bokeh = get_bokeh(root)\n",
       "    return (Bokeh != null && Bokeh.Panel !== undefined)\n",
       "  }\n",
       "  if (is_loaded(root)) {\n",
       "    embed_document(root);\n",
       "  } else {\n",
       "    var attempts = 0;\n",
       "    var timer = setInterval(function(root) {\n",
       "      if (is_loaded(root)) {\n",
       "        clearInterval(timer);\n",
       "        embed_document(root);\n",
       "      } else if (document.readyState == \"complete\") {\n",
       "        attempts++;\n",
       "        if (attempts > 200) {\n",
       "          clearInterval(timer);\n",
       "\t  var Bokeh = get_bokeh(root)\n",
       "\t  if (Bokeh == null || Bokeh.Panel == null) {\n",
       "            console.warn(\"Panel: ERROR: Unable to run Panel code because Bokeh or Panel library is missing\");\n",
       "\t  } else {\n",
       "\t    console.warn(\"Panel: WARNING: Attempting to render but not all required libraries could be resolved.\")\n",
       "\t    embed_document(root)\n",
       "\t  }\n",
       "        }\n",
       "      }\n",
       "    }, 25, root)\n",
       "  }\n",
       "})(window);</script>"
      ]
     },
     "metadata": {
      "application/vnd.holoviews_exec.v0+json": {
       "id": "p1002"
      }
     },
     "output_type": "display_data"
    },
    {
     "data": {},
     "metadata": {},
     "output_type": "display_data"
    },
    {
     "data": {
      "application/vnd.holoviews_exec.v0+json": "",
      "text/html": [
       "<div id='p1004'>\n",
       "  <div id=\"ff6bc591-c379-468a-93c3-1cc14f1f9340\" data-root-id=\"p1004\" style=\"display: contents;\"></div>\n",
       "</div>\n",
       "<script type=\"application/javascript\">(function(root) {\n",
       "  var docs_json = {\"77f87572-d722-4ce3-8366-6f76ccd2c729\":{\"version\":\"3.4.2\",\"title\":\"Bokeh Application\",\"roots\":[{\"type\":\"object\",\"name\":\"Row\",\"id\":\"p1004\",\"attributes\":{\"name\":\"Row00939\",\"tags\":[\"embedded\"],\"stylesheets\":[\"\\n:host(.pn-loading):before, .pn-loading:before {\\n  background-color: #c3c3c3;\\n  mask-size: auto calc(min(50%, 400px));\\n  -webkit-mask-size: auto calc(min(50%, 400px));\\n}\",{\"type\":\"object\",\"name\":\"ImportedStyleSheet\",\"id\":\"p1007\",\"attributes\":{\"url\":\"https://cdn.holoviz.org/panel/1.4.4/dist/css/loading.css\"}},{\"type\":\"object\",\"name\":\"ImportedStyleSheet\",\"id\":\"p1063\",\"attributes\":{\"url\":\"https://cdn.holoviz.org/panel/1.4.4/dist/css/listpanel.css\"}},{\"type\":\"object\",\"name\":\"ImportedStyleSheet\",\"id\":\"p1005\",\"attributes\":{\"url\":\"https://cdn.holoviz.org/panel/1.4.4/dist/bundled/theme/default.css\"}},{\"type\":\"object\",\"name\":\"ImportedStyleSheet\",\"id\":\"p1006\",\"attributes\":{\"url\":\"https://cdn.holoviz.org/panel/1.4.4/dist/bundled/theme/native.css\"}}],\"min_width\":700,\"margin\":0,\"sizing_mode\":\"stretch_width\",\"align\":\"start\",\"children\":[{\"type\":\"object\",\"name\":\"Spacer\",\"id\":\"p1008\",\"attributes\":{\"name\":\"HSpacer00946\",\"stylesheets\":[\"\\n:host(.pn-loading):before, .pn-loading:before {\\n  background-color: #c3c3c3;\\n  mask-size: auto calc(min(50%, 400px));\\n  -webkit-mask-size: auto calc(min(50%, 400px));\\n}\",{\"id\":\"p1007\"},{\"id\":\"p1005\"},{\"id\":\"p1006\"}],\"margin\":0,\"sizing_mode\":\"stretch_width\",\"align\":\"start\"}},{\"type\":\"object\",\"name\":\"Figure\",\"id\":\"p1016\",\"attributes\":{\"width\":700,\"height\":300,\"margin\":[5,10],\"sizing_mode\":\"fixed\",\"align\":\"start\",\"x_range\":{\"type\":\"object\",\"name\":\"FactorRange\",\"id\":\"p1009\",\"attributes\":{\"tags\":[[[\"age\",\"age\",null]],[]],\"factors\":[\"2\",\"3\",\"4\",\"5\",\"6\",\"7\",\"8\",\"9\"]}},\"y_range\":{\"type\":\"object\",\"name\":\"Range1d\",\"id\":\"p1010\",\"attributes\":{\"tags\":[[[\"len\",\"len\",null]],{\"type\":\"map\",\"entries\":[[\"invert_yaxis\",false],[\"autorange\",false]]}],\"end\":1770997.5,\"reset_start\":0.0,\"reset_end\":1770997.5}},\"x_scale\":{\"type\":\"object\",\"name\":\"CategoricalScale\",\"id\":\"p1026\"},\"y_scale\":{\"type\":\"object\",\"name\":\"LinearScale\",\"id\":\"p1027\"},\"title\":{\"type\":\"object\",\"name\":\"Title\",\"id\":\"p1019\",\"attributes\":{\"text_color\":\"black\",\"text_font_size\":\"12pt\"}},\"renderers\":[{\"type\":\"object\",\"name\":\"GlyphRenderer\",\"id\":\"p1056\",\"attributes\":{\"data_source\":{\"type\":\"object\",\"name\":\"ColumnDataSource\",\"id\":\"p1047\",\"attributes\":{\"selected\":{\"type\":\"object\",\"name\":\"Selection\",\"id\":\"p1048\",\"attributes\":{\"indices\":[],\"line_indices\":[]}},\"selection_policy\":{\"type\":\"object\",\"name\":\"UnionRenderers\",\"id\":\"p1049\"},\"data\":{\"type\":\"map\",\"entries\":[[\"age\",[\"2\",\"3\",\"4\",\"5\",\"6\",\"7\",\"8\",\"9\"]],[\"len\",{\"type\":\"ndarray\",\"array\":{\"type\":\"bytes\",\"data\":\"M28OAF5KFgCCpgIAb2MNAMTsDQAekxcA5MEYADUZAgA=\"},\"shape\":[8],\"dtype\":\"uint32\",\"order\":\"little\"}]]}}},\"view\":{\"type\":\"object\",\"name\":\"CDSView\",\"id\":\"p1057\",\"attributes\":{\"filter\":{\"type\":\"object\",\"name\":\"AllIndices\",\"id\":\"p1058\"}}},\"glyph\":{\"type\":\"object\",\"name\":\"VBar\",\"id\":\"p1053\",\"attributes\":{\"tags\":[\"apply_ranges\"],\"x\":{\"type\":\"field\",\"field\":\"age\"},\"width\":{\"type\":\"value\",\"value\":0.8},\"top\":{\"type\":\"field\",\"field\":\"len\"},\"fill_color\":{\"type\":\"value\",\"value\":\"#30a2da\"},\"hatch_color\":{\"type\":\"value\",\"value\":\"#30a2da\"}}},\"selection_glyph\":{\"type\":\"object\",\"name\":\"VBar\",\"id\":\"p1059\",\"attributes\":{\"tags\":[\"apply_ranges\"],\"x\":{\"type\":\"field\",\"field\":\"age\"},\"width\":{\"type\":\"value\",\"value\":0.8},\"bottom\":{\"type\":\"value\",\"value\":0},\"top\":{\"type\":\"field\",\"field\":\"len\"},\"line_color\":{\"type\":\"value\",\"value\":\"black\"},\"line_alpha\":{\"type\":\"value\",\"value\":1.0},\"line_width\":{\"type\":\"value\",\"value\":1},\"line_join\":{\"type\":\"value\",\"value\":\"bevel\"},\"line_cap\":{\"type\":\"value\",\"value\":\"butt\"},\"line_dash\":{\"type\":\"value\",\"value\":[]},\"line_dash_offset\":{\"type\":\"value\",\"value\":0},\"fill_color\":{\"type\":\"value\",\"value\":\"#30a2da\"},\"fill_alpha\":{\"type\":\"value\",\"value\":1.0},\"hatch_color\":{\"type\":\"value\",\"value\":\"#30a2da\"},\"hatch_alpha\":{\"type\":\"value\",\"value\":1.0},\"hatch_scale\":{\"type\":\"value\",\"value\":12.0},\"hatch_pattern\":{\"type\":\"value\",\"value\":null},\"hatch_weight\":{\"type\":\"value\",\"value\":1.0}}},\"nonselection_glyph\":{\"type\":\"object\",\"name\":\"VBar\",\"id\":\"p1054\",\"attributes\":{\"tags\":[\"apply_ranges\"],\"x\":{\"type\":\"field\",\"field\":\"age\"},\"width\":{\"type\":\"value\",\"value\":0.8},\"top\":{\"type\":\"field\",\"field\":\"len\"},\"line_alpha\":{\"type\":\"value\",\"value\":0.1},\"fill_color\":{\"type\":\"value\",\"value\":\"#30a2da\"},\"fill_alpha\":{\"type\":\"value\",\"value\":0.1},\"hatch_color\":{\"type\":\"value\",\"value\":\"#30a2da\"},\"hatch_alpha\":{\"type\":\"value\",\"value\":0.1}}},\"muted_glyph\":{\"type\":\"object\",\"name\":\"VBar\",\"id\":\"p1055\",\"attributes\":{\"tags\":[\"apply_ranges\"],\"x\":{\"type\":\"field\",\"field\":\"age\"},\"width\":{\"type\":\"value\",\"value\":0.8},\"top\":{\"type\":\"field\",\"field\":\"len\"},\"line_alpha\":{\"type\":\"value\",\"value\":0.2},\"fill_color\":{\"type\":\"value\",\"value\":\"#30a2da\"},\"fill_alpha\":{\"type\":\"value\",\"value\":0.2},\"hatch_color\":{\"type\":\"value\",\"value\":\"#30a2da\"},\"hatch_alpha\":{\"type\":\"value\",\"value\":0.2}}}}}],\"toolbar\":{\"type\":\"object\",\"name\":\"Toolbar\",\"id\":\"p1025\",\"attributes\":{\"tools\":[{\"type\":\"object\",\"name\":\"WheelZoomTool\",\"id\":\"p1014\",\"attributes\":{\"tags\":[\"hv_created\"],\"renderers\":\"auto\",\"zoom_together\":\"none\"}},{\"type\":\"object\",\"name\":\"HoverTool\",\"id\":\"p1015\",\"attributes\":{\"tags\":[\"hv_created\"],\"renderers\":[{\"id\":\"p1056\"}],\"tooltips\":[[\"age\",\"@{age}\"],[\"len\",\"@{len}\"]]}},{\"type\":\"object\",\"name\":\"SaveTool\",\"id\":\"p1038\"},{\"type\":\"object\",\"name\":\"PanTool\",\"id\":\"p1039\"},{\"type\":\"object\",\"name\":\"BoxZoomTool\",\"id\":\"p1040\",\"attributes\":{\"overlay\":{\"type\":\"object\",\"name\":\"BoxAnnotation\",\"id\":\"p1041\",\"attributes\":{\"syncable\":false,\"level\":\"overlay\",\"visible\":false,\"left\":{\"type\":\"number\",\"value\":\"nan\"},\"right\":{\"type\":\"number\",\"value\":\"nan\"},\"top\":{\"type\":\"number\",\"value\":\"nan\"},\"bottom\":{\"type\":\"number\",\"value\":\"nan\"},\"left_units\":\"canvas\",\"right_units\":\"canvas\",\"top_units\":\"canvas\",\"bottom_units\":\"canvas\",\"line_color\":\"black\",\"line_alpha\":1.0,\"line_width\":2,\"line_dash\":[4,4],\"fill_color\":\"lightgrey\",\"fill_alpha\":0.5}}}},{\"type\":\"object\",\"name\":\"ResetTool\",\"id\":\"p1046\"}],\"active_drag\":{\"id\":\"p1039\"},\"active_scroll\":{\"id\":\"p1014\"}}},\"left\":[{\"type\":\"object\",\"name\":\"LinearAxis\",\"id\":\"p1033\",\"attributes\":{\"ticker\":{\"type\":\"object\",\"name\":\"BasicTicker\",\"id\":\"p1034\",\"attributes\":{\"mantissas\":[1,2,5]}},\"formatter\":{\"type\":\"object\",\"name\":\"BasicTickFormatter\",\"id\":\"p1035\"},\"axis_label\":\"len\",\"major_label_policy\":{\"type\":\"object\",\"name\":\"AllLabels\",\"id\":\"p1036\"}}}],\"below\":[{\"type\":\"object\",\"name\":\"CategoricalAxis\",\"id\":\"p1028\",\"attributes\":{\"ticker\":{\"type\":\"object\",\"name\":\"CategoricalTicker\",\"id\":\"p1029\"},\"formatter\":{\"type\":\"object\",\"name\":\"CategoricalTickFormatter\",\"id\":\"p1030\"},\"axis_label\":\"age\",\"major_label_policy\":{\"type\":\"object\",\"name\":\"AllLabels\",\"id\":\"p1031\"}}}],\"center\":[{\"type\":\"object\",\"name\":\"Grid\",\"id\":\"p1032\",\"attributes\":{\"axis\":{\"id\":\"p1028\"},\"grid_line_color\":null}},{\"type\":\"object\",\"name\":\"Grid\",\"id\":\"p1037\",\"attributes\":{\"dimension\":1,\"axis\":{\"id\":\"p1033\"},\"grid_line_color\":null}}],\"min_border_top\":10,\"min_border_bottom\":10,\"min_border_left\":10,\"min_border_right\":10,\"output_backend\":\"webgl\"}},{\"type\":\"object\",\"name\":\"Spacer\",\"id\":\"p1061\",\"attributes\":{\"name\":\"HSpacer00947\",\"stylesheets\":[\"\\n:host(.pn-loading):before, .pn-loading:before {\\n  background-color: #c3c3c3;\\n  mask-size: auto calc(min(50%, 400px));\\n  -webkit-mask-size: auto calc(min(50%, 400px));\\n}\",{\"id\":\"p1007\"},{\"id\":\"p1005\"},{\"id\":\"p1006\"}],\"margin\":0,\"sizing_mode\":\"stretch_width\",\"align\":\"start\"}}]}}],\"defs\":[{\"type\":\"model\",\"name\":\"ReactiveHTML1\"},{\"type\":\"model\",\"name\":\"FlexBox1\",\"properties\":[{\"name\":\"align_content\",\"kind\":\"Any\",\"default\":\"flex-start\"},{\"name\":\"align_items\",\"kind\":\"Any\",\"default\":\"flex-start\"},{\"name\":\"flex_direction\",\"kind\":\"Any\",\"default\":\"row\"},{\"name\":\"flex_wrap\",\"kind\":\"Any\",\"default\":\"wrap\"},{\"name\":\"gap\",\"kind\":\"Any\",\"default\":\"\"},{\"name\":\"justify_content\",\"kind\":\"Any\",\"default\":\"flex-start\"}]},{\"type\":\"model\",\"name\":\"FloatPanel1\",\"properties\":[{\"name\":\"config\",\"kind\":\"Any\",\"default\":{\"type\":\"map\"}},{\"name\":\"contained\",\"kind\":\"Any\",\"default\":true},{\"name\":\"position\",\"kind\":\"Any\",\"default\":\"right-top\"},{\"name\":\"offsetx\",\"kind\":\"Any\",\"default\":null},{\"name\":\"offsety\",\"kind\":\"Any\",\"default\":null},{\"name\":\"theme\",\"kind\":\"Any\",\"default\":\"primary\"},{\"name\":\"status\",\"kind\":\"Any\",\"default\":\"normalized\"}]},{\"type\":\"model\",\"name\":\"GridStack1\",\"properties\":[{\"name\":\"mode\",\"kind\":\"Any\",\"default\":\"warn\"},{\"name\":\"ncols\",\"kind\":\"Any\",\"default\":null},{\"name\":\"nrows\",\"kind\":\"Any\",\"default\":null},{\"name\":\"allow_resize\",\"kind\":\"Any\",\"default\":true},{\"name\":\"allow_drag\",\"kind\":\"Any\",\"default\":true},{\"name\":\"state\",\"kind\":\"Any\",\"default\":[]}]},{\"type\":\"model\",\"name\":\"drag1\",\"properties\":[{\"name\":\"slider_width\",\"kind\":\"Any\",\"default\":5},{\"name\":\"slider_color\",\"kind\":\"Any\",\"default\":\"black\"},{\"name\":\"value\",\"kind\":\"Any\",\"default\":50}]},{\"type\":\"model\",\"name\":\"click1\",\"properties\":[{\"name\":\"terminal_output\",\"kind\":\"Any\",\"default\":\"\"},{\"name\":\"debug_name\",\"kind\":\"Any\",\"default\":\"\"},{\"name\":\"clears\",\"kind\":\"Any\",\"default\":0}]},{\"type\":\"model\",\"name\":\"FastWrapper1\",\"properties\":[{\"name\":\"object\",\"kind\":\"Any\",\"default\":null},{\"name\":\"style\",\"kind\":\"Any\",\"default\":null}]},{\"type\":\"model\",\"name\":\"NotificationAreaBase1\",\"properties\":[{\"name\":\"js_events\",\"kind\":\"Any\",\"default\":{\"type\":\"map\"}},{\"name\":\"position\",\"kind\":\"Any\",\"default\":\"bottom-right\"},{\"name\":\"_clear\",\"kind\":\"Any\",\"default\":0}]},{\"type\":\"model\",\"name\":\"NotificationArea1\",\"properties\":[{\"name\":\"js_events\",\"kind\":\"Any\",\"default\":{\"type\":\"map\"}},{\"name\":\"notifications\",\"kind\":\"Any\",\"default\":[]},{\"name\":\"position\",\"kind\":\"Any\",\"default\":\"bottom-right\"},{\"name\":\"_clear\",\"kind\":\"Any\",\"default\":0},{\"name\":\"types\",\"kind\":\"Any\",\"default\":[{\"type\":\"map\",\"entries\":[[\"type\",\"warning\"],[\"background\",\"#ffc107\"],[\"icon\",{\"type\":\"map\",\"entries\":[[\"className\",\"fas fa-exclamation-triangle\"],[\"tagName\",\"i\"],[\"color\",\"white\"]]}]]},{\"type\":\"map\",\"entries\":[[\"type\",\"info\"],[\"background\",\"#007bff\"],[\"icon\",{\"type\":\"map\",\"entries\":[[\"className\",\"fas fa-info-circle\"],[\"tagName\",\"i\"],[\"color\",\"white\"]]}]]}]}]},{\"type\":\"model\",\"name\":\"Notification\",\"properties\":[{\"name\":\"background\",\"kind\":\"Any\",\"default\":null},{\"name\":\"duration\",\"kind\":\"Any\",\"default\":3000},{\"name\":\"icon\",\"kind\":\"Any\",\"default\":null},{\"name\":\"message\",\"kind\":\"Any\",\"default\":\"\"},{\"name\":\"notification_type\",\"kind\":\"Any\",\"default\":null},{\"name\":\"_destroyed\",\"kind\":\"Any\",\"default\":false}]},{\"type\":\"model\",\"name\":\"TemplateActions1\",\"properties\":[{\"name\":\"open_modal\",\"kind\":\"Any\",\"default\":0},{\"name\":\"close_modal\",\"kind\":\"Any\",\"default\":0}]},{\"type\":\"model\",\"name\":\"BootstrapTemplateActions1\",\"properties\":[{\"name\":\"open_modal\",\"kind\":\"Any\",\"default\":0},{\"name\":\"close_modal\",\"kind\":\"Any\",\"default\":0}]},{\"type\":\"model\",\"name\":\"TemplateEditor1\",\"properties\":[{\"name\":\"layout\",\"kind\":\"Any\",\"default\":[]}]},{\"type\":\"model\",\"name\":\"MaterialTemplateActions1\",\"properties\":[{\"name\":\"open_modal\",\"kind\":\"Any\",\"default\":0},{\"name\":\"close_modal\",\"kind\":\"Any\",\"default\":0}]},{\"type\":\"model\",\"name\":\"copy_to_clipboard1\",\"properties\":[{\"name\":\"fill\",\"kind\":\"Any\",\"default\":\"none\"},{\"name\":\"value\",\"kind\":\"Any\",\"default\":null}]}]}};\n",
       "  var render_items = [{\"docid\":\"77f87572-d722-4ce3-8366-6f76ccd2c729\",\"roots\":{\"p1004\":\"ff6bc591-c379-468a-93c3-1cc14f1f9340\"},\"root_ids\":[\"p1004\"]}];\n",
       "  var docs = Object.values(docs_json)\n",
       "  if (!docs) {\n",
       "    return\n",
       "  }\n",
       "  const py_version = docs[0].version.replace('rc', '-rc.').replace('.dev', '-dev.')\n",
       "  async function embed_document(root) {\n",
       "    var Bokeh = get_bokeh(root)\n",
       "    await Bokeh.embed.embed_items_notebook(docs_json, render_items);\n",
       "    for (const render_item of render_items) {\n",
       "      for (const root_id of render_item.root_ids) {\n",
       "\tconst id_el = document.getElementById(root_id)\n",
       "\tif (id_el.children.length && id_el.children[0].hasAttribute('data-root-id')) {\n",
       "\t  const root_el = id_el.children[0]\n",
       "\t  root_el.id = root_el.id + '-rendered'\n",
       "\t  for (const child of root_el.children) {\n",
       "            // Ensure JupyterLab does not capture keyboard shortcuts\n",
       "            // see: https://jupyterlab.readthedocs.io/en/4.1.x/extension/notebook.html#keyboard-interaction-model\n",
       "\t    child.setAttribute('data-lm-suppress-shortcuts', 'true')\n",
       "\t  }\n",
       "\t}\n",
       "      }\n",
       "    }\n",
       "  }\n",
       "  function get_bokeh(root) {\n",
       "    if (root.Bokeh === undefined) {\n",
       "      return null\n",
       "    } else if (root.Bokeh.version !== py_version) {\n",
       "      if (root.Bokeh.versions === undefined || !root.Bokeh.versions.has(py_version)) {\n",
       "\treturn null\n",
       "      }\n",
       "      return root.Bokeh.versions.get(py_version);\n",
       "    } else if (root.Bokeh.version === py_version) {\n",
       "      return root.Bokeh\n",
       "    }\n",
       "    return null\n",
       "  }\n",
       "  function is_loaded(root) {\n",
       "    var Bokeh = get_bokeh(root)\n",
       "    return (Bokeh != null && Bokeh.Panel !== undefined)\n",
       "  }\n",
       "  if (is_loaded(root)) {\n",
       "    embed_document(root);\n",
       "  } else {\n",
       "    var attempts = 0;\n",
       "    var timer = setInterval(function(root) {\n",
       "      if (is_loaded(root)) {\n",
       "        clearInterval(timer);\n",
       "        embed_document(root);\n",
       "      } else if (document.readyState == \"complete\") {\n",
       "        attempts++;\n",
       "        if (attempts > 200) {\n",
       "          clearInterval(timer);\n",
       "\t  var Bokeh = get_bokeh(root)\n",
       "\t  if (Bokeh == null || Bokeh.Panel == null) {\n",
       "            console.warn(\"Panel: ERROR: Unable to run Panel code because Bokeh or Panel library is missing\");\n",
       "\t  } else {\n",
       "\t    console.warn(\"Panel: WARNING: Attempting to render but not all required libraries could be resolved.\")\n",
       "\t    embed_document(root)\n",
       "\t  }\n",
       "        }\n",
       "      }\n",
       "    }, 25, root)\n",
       "  }\n",
       "})(window);</script>"
      ],
      "text/plain": [
       ":Bars   [age]   (len)"
      ]
     },
     "execution_count": 7,
     "metadata": {
      "application/vnd.holoviews_exec.v0+json": {
       "id": "p1004"
      }
     },
     "output_type": "execute_result"
    }
   ],
   "source": [
    "# Age metrics\n",
    "ad_data.group_by(pl.col(\"age\")).len().sort(\"age\").collect().plot.bar(x = \"age\", y = \"len\")"
   ]
  },
  {
   "cell_type": "code",
   "execution_count": 8,
   "id": "00395bb1-6d19-4b29-b50a-3fb634b1cef8",
   "metadata": {},
   "outputs": [
    {
     "data": {},
     "metadata": {},
     "output_type": "display_data"
    },
    {
     "data": {
      "application/vnd.holoviews_exec.v0+json": "",
      "text/html": [
       "<div id='p1066'>\n",
       "  <div id=\"e533e00f-3e82-4b0e-989b-5c1682bf8036\" data-root-id=\"p1066\" style=\"display: contents;\"></div>\n",
       "</div>\n",
       "<script type=\"application/javascript\">(function(root) {\n",
       "  var docs_json = {\"ed8f9466-d9a0-4a71-a8c6-183ff3e824c8\":{\"version\":\"3.4.2\",\"title\":\"Bokeh Application\",\"roots\":[{\"type\":\"object\",\"name\":\"Row\",\"id\":\"p1066\",\"attributes\":{\"name\":\"Row01046\",\"tags\":[\"embedded\"],\"stylesheets\":[\"\\n:host(.pn-loading):before, .pn-loading:before {\\n  background-color: #c3c3c3;\\n  mask-size: auto calc(min(50%, 400px));\\n  -webkit-mask-size: auto calc(min(50%, 400px));\\n}\",{\"type\":\"object\",\"name\":\"ImportedStyleSheet\",\"id\":\"p1069\",\"attributes\":{\"url\":\"https://cdn.holoviz.org/panel/1.4.4/dist/css/loading.css\"}},{\"type\":\"object\",\"name\":\"ImportedStyleSheet\",\"id\":\"p1125\",\"attributes\":{\"url\":\"https://cdn.holoviz.org/panel/1.4.4/dist/css/listpanel.css\"}},{\"type\":\"object\",\"name\":\"ImportedStyleSheet\",\"id\":\"p1067\",\"attributes\":{\"url\":\"https://cdn.holoviz.org/panel/1.4.4/dist/bundled/theme/default.css\"}},{\"type\":\"object\",\"name\":\"ImportedStyleSheet\",\"id\":\"p1068\",\"attributes\":{\"url\":\"https://cdn.holoviz.org/panel/1.4.4/dist/bundled/theme/native.css\"}}],\"min_width\":700,\"margin\":0,\"sizing_mode\":\"stretch_width\",\"align\":\"start\",\"children\":[{\"type\":\"object\",\"name\":\"Spacer\",\"id\":\"p1070\",\"attributes\":{\"name\":\"HSpacer01053\",\"stylesheets\":[\"\\n:host(.pn-loading):before, .pn-loading:before {\\n  background-color: #c3c3c3;\\n  mask-size: auto calc(min(50%, 400px));\\n  -webkit-mask-size: auto calc(min(50%, 400px));\\n}\",{\"id\":\"p1069\"},{\"id\":\"p1067\"},{\"id\":\"p1068\"}],\"margin\":0,\"sizing_mode\":\"stretch_width\",\"align\":\"start\"}},{\"type\":\"object\",\"name\":\"Figure\",\"id\":\"p1078\",\"attributes\":{\"width\":700,\"height\":300,\"margin\":[5,10],\"sizing_mode\":\"fixed\",\"align\":\"start\",\"x_range\":{\"type\":\"object\",\"name\":\"Range1d\",\"id\":\"p1071\",\"attributes\":{\"tags\":[[[\"city\",\"city\",null]],[]],\"start\":86.42857142857143,\"end\":455.57142857142856,\"reset_start\":86.42857142857143,\"reset_end\":455.57142857142856}},\"y_range\":{\"type\":\"object\",\"name\":\"Range1d\",\"id\":\"p1072\",\"attributes\":{\"tags\":[[[\"city_count\",\"Count\",null]],{\"type\":\"map\",\"entries\":[[\"invert_yaxis\",false],[\"autorange\",false]]}],\"end\":1441716.8,\"reset_start\":0.0,\"reset_end\":1441716.8}},\"x_scale\":{\"type\":\"object\",\"name\":\"LinearScale\",\"id\":\"p1088\"},\"y_scale\":{\"type\":\"object\",\"name\":\"LinearScale\",\"id\":\"p1089\"},\"title\":{\"type\":\"object\",\"name\":\"Title\",\"id\":\"p1081\",\"attributes\":{\"text_color\":\"black\",\"text_font_size\":\"12pt\"}},\"renderers\":[{\"type\":\"object\",\"name\":\"GlyphRenderer\",\"id\":\"p1118\",\"attributes\":{\"data_source\":{\"type\":\"object\",\"name\":\"ColumnDataSource\",\"id\":\"p1109\",\"attributes\":{\"selected\":{\"type\":\"object\",\"name\":\"Selection\",\"id\":\"p1110\",\"attributes\":{\"indices\":[],\"line_indices\":[]}},\"selection_policy\":{\"type\":\"object\",\"name\":\"UnionRenderers\",\"id\":\"p1111\"},\"data\":{\"type\":\"map\",\"entries\":[[\"top\",{\"type\":\"ndarray\",\"array\":{\"type\":\"bytes\",\"data\":\"wZ4IAAtMAwBrPAQAMMYHAJoyBgCauwMA24wFAKLxAwD9IwQAZfIDANeOBAD4KQQAmUAUAA50BQBi9gYAJGQHANEhAwBz4wIAg8kCAEAXCAA=\"},\"shape\":[20],\"dtype\":\"int32\",\"order\":\"little\"}],[\"left\",{\"type\":\"ndarray\",\"array\":{\"type\":\"bytes\",\"data\":\"AAAAAABAWUAAAAAAAIBdQAAAAAAA4GBAAAAAAAAAY0AAAAAAACBlQAAAAAAAQGdAAAAAAABgaUAAAAAAAIBrQAAAAAAAoG1AAAAAAADAb0AAAAAAAPBwQAAAAAAAAHJAAAAAAAAQc0AAAAAAACB0QAAAAAAAMHVAAAAAAABAdkAAAAAAAFB3QAAAAAAAYHhAAAAAAABweUAAAAAAAIB6QA==\"},\"shape\":[20],\"dtype\":\"float64\",\"order\":\"little\"}],[\"right\",{\"type\":\"ndarray\",\"array\":{\"type\":\"bytes\",\"data\":\"AAAAAACAXUAAAAAAAOBgQAAAAAAAAGNAAAAAAAAgZUAAAAAAAEBnQAAAAAAAYGlAAAAAAACAa0AAAAAAAKBtQAAAAAAAwG9AAAAAAADwcEAAAAAAAAByQAAAAAAAEHNAAAAAAAAgdEAAAAAAADB1QAAAAAAAQHZAAAAAAABQd0AAAAAAAGB4QAAAAAAAcHlAAAAAAACAekAAAAAAAJB7QA==\"},\"shape\":[20],\"dtype\":\"float64\",\"order\":\"little\"}],[\"city\",{\"type\":\"ndarray\",\"array\":{\"type\":\"bytes\",\"data\":\"AAAAAABgW0AAAAAAAKBfQAAAAAAA8GFAAAAAAAAQZEAAAAAAADBmQAAAAAAAUGhAAAAAAABwakAAAAAAAJBsQAAAAAAAsG5AAAAAAABocEAAAAAAAHhxQAAAAAAAiHJAAAAAAACYc0AAAAAAAKh0QAAAAAAAuHVAAAAAAADIdkAAAAAAANh3QAAAAAAA6HhAAAAAAAD4eUAAAAAAAAh7QA==\"},\"shape\":[20],\"dtype\":\"float64\",\"order\":\"little\"}],[\"city_count\",{\"type\":\"ndarray\",\"array\":{\"type\":\"bytes\",\"data\":\"wZ4IAAtMAwBrPAQAMMYHAJoyBgCauwMA24wFAKLxAwD9IwQAZfIDANeOBAD4KQQAmUAUAA50BQBi9gYAJGQHANEhAwBz4wIAg8kCAEAXCAA=\"},\"shape\":[20],\"dtype\":\"int32\",\"order\":\"little\"}]]}}},\"view\":{\"type\":\"object\",\"name\":\"CDSView\",\"id\":\"p1119\",\"attributes\":{\"filter\":{\"type\":\"object\",\"name\":\"AllIndices\",\"id\":\"p1120\"}}},\"glyph\":{\"type\":\"object\",\"name\":\"Quad\",\"id\":\"p1115\",\"attributes\":{\"tags\":[\"apply_ranges\"],\"left\":{\"type\":\"field\",\"field\":\"left\"},\"right\":{\"type\":\"field\",\"field\":\"right\"},\"bottom\":{\"type\":\"value\",\"value\":0},\"top\":{\"type\":\"field\",\"field\":\"top\"},\"fill_color\":{\"type\":\"value\",\"value\":\"#30a2da\"},\"hatch_color\":{\"type\":\"value\",\"value\":\"#30a2da\"}}},\"selection_glyph\":{\"type\":\"object\",\"name\":\"Quad\",\"id\":\"p1121\",\"attributes\":{\"tags\":[\"apply_ranges\"],\"left\":{\"type\":\"field\",\"field\":\"left\"},\"right\":{\"type\":\"field\",\"field\":\"right\"},\"bottom\":{\"type\":\"value\",\"value\":0},\"top\":{\"type\":\"field\",\"field\":\"top\"},\"line_color\":{\"type\":\"value\",\"value\":\"black\"},\"line_alpha\":{\"type\":\"value\",\"value\":1.0},\"line_width\":{\"type\":\"value\",\"value\":1},\"line_join\":{\"type\":\"value\",\"value\":\"bevel\"},\"line_cap\":{\"type\":\"value\",\"value\":\"butt\"},\"line_dash\":{\"type\":\"value\",\"value\":[]},\"line_dash_offset\":{\"type\":\"value\",\"value\":0},\"fill_color\":{\"type\":\"value\",\"value\":\"#30a2da\"},\"fill_alpha\":{\"type\":\"value\",\"value\":1.0},\"hatch_color\":{\"type\":\"value\",\"value\":\"#30a2da\"},\"hatch_alpha\":{\"type\":\"value\",\"value\":1.0},\"hatch_scale\":{\"type\":\"value\",\"value\":12.0},\"hatch_pattern\":{\"type\":\"value\",\"value\":null},\"hatch_weight\":{\"type\":\"value\",\"value\":1.0}}},\"nonselection_glyph\":{\"type\":\"object\",\"name\":\"Quad\",\"id\":\"p1116\",\"attributes\":{\"tags\":[\"apply_ranges\"],\"left\":{\"type\":\"field\",\"field\":\"left\"},\"right\":{\"type\":\"field\",\"field\":\"right\"},\"bottom\":{\"type\":\"value\",\"value\":0},\"top\":{\"type\":\"field\",\"field\":\"top\"},\"line_alpha\":{\"type\":\"value\",\"value\":0.1},\"fill_color\":{\"type\":\"value\",\"value\":\"#30a2da\"},\"fill_alpha\":{\"type\":\"value\",\"value\":0.1},\"hatch_color\":{\"type\":\"value\",\"value\":\"#30a2da\"},\"hatch_alpha\":{\"type\":\"value\",\"value\":0.1}}},\"muted_glyph\":{\"type\":\"object\",\"name\":\"Quad\",\"id\":\"p1117\",\"attributes\":{\"tags\":[\"apply_ranges\"],\"left\":{\"type\":\"field\",\"field\":\"left\"},\"right\":{\"type\":\"field\",\"field\":\"right\"},\"bottom\":{\"type\":\"value\",\"value\":0},\"top\":{\"type\":\"field\",\"field\":\"top\"},\"line_alpha\":{\"type\":\"value\",\"value\":0.2},\"fill_color\":{\"type\":\"value\",\"value\":\"#30a2da\"},\"fill_alpha\":{\"type\":\"value\",\"value\":0.2},\"hatch_color\":{\"type\":\"value\",\"value\":\"#30a2da\"},\"hatch_alpha\":{\"type\":\"value\",\"value\":0.2}}}}}],\"toolbar\":{\"type\":\"object\",\"name\":\"Toolbar\",\"id\":\"p1087\",\"attributes\":{\"tools\":[{\"type\":\"object\",\"name\":\"WheelZoomTool\",\"id\":\"p1076\",\"attributes\":{\"tags\":[\"hv_created\"],\"renderers\":\"auto\",\"zoom_together\":\"none\"}},{\"type\":\"object\",\"name\":\"HoverTool\",\"id\":\"p1077\",\"attributes\":{\"tags\":[\"hv_created\"],\"renderers\":[{\"id\":\"p1118\"}],\"tooltips\":[[\"city\",\"@{city}\"],[\"Count\",\"@{city_count}\"]]}},{\"type\":\"object\",\"name\":\"SaveTool\",\"id\":\"p1100\"},{\"type\":\"object\",\"name\":\"PanTool\",\"id\":\"p1101\"},{\"type\":\"object\",\"name\":\"BoxZoomTool\",\"id\":\"p1102\",\"attributes\":{\"overlay\":{\"type\":\"object\",\"name\":\"BoxAnnotation\",\"id\":\"p1103\",\"attributes\":{\"syncable\":false,\"level\":\"overlay\",\"visible\":false,\"left\":{\"type\":\"number\",\"value\":\"nan\"},\"right\":{\"type\":\"number\",\"value\":\"nan\"},\"top\":{\"type\":\"number\",\"value\":\"nan\"},\"bottom\":{\"type\":\"number\",\"value\":\"nan\"},\"left_units\":\"canvas\",\"right_units\":\"canvas\",\"top_units\":\"canvas\",\"bottom_units\":\"canvas\",\"line_color\":\"black\",\"line_alpha\":1.0,\"line_width\":2,\"line_dash\":[4,4],\"fill_color\":\"lightgrey\",\"fill_alpha\":0.5}}}},{\"type\":\"object\",\"name\":\"ResetTool\",\"id\":\"p1108\"}],\"active_drag\":{\"id\":\"p1101\"},\"active_scroll\":{\"id\":\"p1076\"}}},\"left\":[{\"type\":\"object\",\"name\":\"LinearAxis\",\"id\":\"p1095\",\"attributes\":{\"ticker\":{\"type\":\"object\",\"name\":\"BasicTicker\",\"id\":\"p1096\",\"attributes\":{\"mantissas\":[1,2,5]}},\"formatter\":{\"type\":\"object\",\"name\":\"BasicTickFormatter\",\"id\":\"p1097\"},\"axis_label\":\"\",\"major_label_policy\":{\"type\":\"object\",\"name\":\"AllLabels\",\"id\":\"p1098\"}}}],\"below\":[{\"type\":\"object\",\"name\":\"LinearAxis\",\"id\":\"p1090\",\"attributes\":{\"ticker\":{\"type\":\"object\",\"name\":\"BasicTicker\",\"id\":\"p1091\",\"attributes\":{\"mantissas\":[1,2,5]}},\"formatter\":{\"type\":\"object\",\"name\":\"BasicTickFormatter\",\"id\":\"p1092\"},\"axis_label\":\"city\",\"major_label_policy\":{\"type\":\"object\",\"name\":\"AllLabels\",\"id\":\"p1093\"}}}],\"center\":[{\"type\":\"object\",\"name\":\"Grid\",\"id\":\"p1094\",\"attributes\":{\"axis\":{\"id\":\"p1090\"},\"grid_line_color\":null}},{\"type\":\"object\",\"name\":\"Grid\",\"id\":\"p1099\",\"attributes\":{\"dimension\":1,\"axis\":{\"id\":\"p1095\"},\"grid_line_color\":null}}],\"min_border_top\":10,\"min_border_bottom\":10,\"min_border_left\":10,\"min_border_right\":10,\"output_backend\":\"webgl\"}},{\"type\":\"object\",\"name\":\"Spacer\",\"id\":\"p1123\",\"attributes\":{\"name\":\"HSpacer01054\",\"stylesheets\":[\"\\n:host(.pn-loading):before, .pn-loading:before {\\n  background-color: #c3c3c3;\\n  mask-size: auto calc(min(50%, 400px));\\n  -webkit-mask-size: auto calc(min(50%, 400px));\\n}\",{\"id\":\"p1069\"},{\"id\":\"p1067\"},{\"id\":\"p1068\"}],\"margin\":0,\"sizing_mode\":\"stretch_width\",\"align\":\"start\"}}]}}],\"defs\":[{\"type\":\"model\",\"name\":\"ReactiveHTML1\"},{\"type\":\"model\",\"name\":\"FlexBox1\",\"properties\":[{\"name\":\"align_content\",\"kind\":\"Any\",\"default\":\"flex-start\"},{\"name\":\"align_items\",\"kind\":\"Any\",\"default\":\"flex-start\"},{\"name\":\"flex_direction\",\"kind\":\"Any\",\"default\":\"row\"},{\"name\":\"flex_wrap\",\"kind\":\"Any\",\"default\":\"wrap\"},{\"name\":\"gap\",\"kind\":\"Any\",\"default\":\"\"},{\"name\":\"justify_content\",\"kind\":\"Any\",\"default\":\"flex-start\"}]},{\"type\":\"model\",\"name\":\"FloatPanel1\",\"properties\":[{\"name\":\"config\",\"kind\":\"Any\",\"default\":{\"type\":\"map\"}},{\"name\":\"contained\",\"kind\":\"Any\",\"default\":true},{\"name\":\"position\",\"kind\":\"Any\",\"default\":\"right-top\"},{\"name\":\"offsetx\",\"kind\":\"Any\",\"default\":null},{\"name\":\"offsety\",\"kind\":\"Any\",\"default\":null},{\"name\":\"theme\",\"kind\":\"Any\",\"default\":\"primary\"},{\"name\":\"status\",\"kind\":\"Any\",\"default\":\"normalized\"}]},{\"type\":\"model\",\"name\":\"GridStack1\",\"properties\":[{\"name\":\"mode\",\"kind\":\"Any\",\"default\":\"warn\"},{\"name\":\"ncols\",\"kind\":\"Any\",\"default\":null},{\"name\":\"nrows\",\"kind\":\"Any\",\"default\":null},{\"name\":\"allow_resize\",\"kind\":\"Any\",\"default\":true},{\"name\":\"allow_drag\",\"kind\":\"Any\",\"default\":true},{\"name\":\"state\",\"kind\":\"Any\",\"default\":[]}]},{\"type\":\"model\",\"name\":\"drag1\",\"properties\":[{\"name\":\"slider_width\",\"kind\":\"Any\",\"default\":5},{\"name\":\"slider_color\",\"kind\":\"Any\",\"default\":\"black\"},{\"name\":\"value\",\"kind\":\"Any\",\"default\":50}]},{\"type\":\"model\",\"name\":\"click1\",\"properties\":[{\"name\":\"terminal_output\",\"kind\":\"Any\",\"default\":\"\"},{\"name\":\"debug_name\",\"kind\":\"Any\",\"default\":\"\"},{\"name\":\"clears\",\"kind\":\"Any\",\"default\":0}]},{\"type\":\"model\",\"name\":\"FastWrapper1\",\"properties\":[{\"name\":\"object\",\"kind\":\"Any\",\"default\":null},{\"name\":\"style\",\"kind\":\"Any\",\"default\":null}]},{\"type\":\"model\",\"name\":\"NotificationAreaBase1\",\"properties\":[{\"name\":\"js_events\",\"kind\":\"Any\",\"default\":{\"type\":\"map\"}},{\"name\":\"position\",\"kind\":\"Any\",\"default\":\"bottom-right\"},{\"name\":\"_clear\",\"kind\":\"Any\",\"default\":0}]},{\"type\":\"model\",\"name\":\"NotificationArea1\",\"properties\":[{\"name\":\"js_events\",\"kind\":\"Any\",\"default\":{\"type\":\"map\"}},{\"name\":\"notifications\",\"kind\":\"Any\",\"default\":[]},{\"name\":\"position\",\"kind\":\"Any\",\"default\":\"bottom-right\"},{\"name\":\"_clear\",\"kind\":\"Any\",\"default\":0},{\"name\":\"types\",\"kind\":\"Any\",\"default\":[{\"type\":\"map\",\"entries\":[[\"type\",\"warning\"],[\"background\",\"#ffc107\"],[\"icon\",{\"type\":\"map\",\"entries\":[[\"className\",\"fas fa-exclamation-triangle\"],[\"tagName\",\"i\"],[\"color\",\"white\"]]}]]},{\"type\":\"map\",\"entries\":[[\"type\",\"info\"],[\"background\",\"#007bff\"],[\"icon\",{\"type\":\"map\",\"entries\":[[\"className\",\"fas fa-info-circle\"],[\"tagName\",\"i\"],[\"color\",\"white\"]]}]]}]}]},{\"type\":\"model\",\"name\":\"Notification\",\"properties\":[{\"name\":\"background\",\"kind\":\"Any\",\"default\":null},{\"name\":\"duration\",\"kind\":\"Any\",\"default\":3000},{\"name\":\"icon\",\"kind\":\"Any\",\"default\":null},{\"name\":\"message\",\"kind\":\"Any\",\"default\":\"\"},{\"name\":\"notification_type\",\"kind\":\"Any\",\"default\":null},{\"name\":\"_destroyed\",\"kind\":\"Any\",\"default\":false}]},{\"type\":\"model\",\"name\":\"TemplateActions1\",\"properties\":[{\"name\":\"open_modal\",\"kind\":\"Any\",\"default\":0},{\"name\":\"close_modal\",\"kind\":\"Any\",\"default\":0}]},{\"type\":\"model\",\"name\":\"BootstrapTemplateActions1\",\"properties\":[{\"name\":\"open_modal\",\"kind\":\"Any\",\"default\":0},{\"name\":\"close_modal\",\"kind\":\"Any\",\"default\":0}]},{\"type\":\"model\",\"name\":\"TemplateEditor1\",\"properties\":[{\"name\":\"layout\",\"kind\":\"Any\",\"default\":[]}]},{\"type\":\"model\",\"name\":\"MaterialTemplateActions1\",\"properties\":[{\"name\":\"open_modal\",\"kind\":\"Any\",\"default\":0},{\"name\":\"close_modal\",\"kind\":\"Any\",\"default\":0}]},{\"type\":\"model\",\"name\":\"copy_to_clipboard1\",\"properties\":[{\"name\":\"fill\",\"kind\":\"Any\",\"default\":\"none\"},{\"name\":\"value\",\"kind\":\"Any\",\"default\":null}]}]}};\n",
       "  var render_items = [{\"docid\":\"ed8f9466-d9a0-4a71-a8c6-183ff3e824c8\",\"roots\":{\"p1066\":\"e533e00f-3e82-4b0e-989b-5c1682bf8036\"},\"root_ids\":[\"p1066\"]}];\n",
       "  var docs = Object.values(docs_json)\n",
       "  if (!docs) {\n",
       "    return\n",
       "  }\n",
       "  const py_version = docs[0].version.replace('rc', '-rc.').replace('.dev', '-dev.')\n",
       "  async function embed_document(root) {\n",
       "    var Bokeh = get_bokeh(root)\n",
       "    await Bokeh.embed.embed_items_notebook(docs_json, render_items);\n",
       "    for (const render_item of render_items) {\n",
       "      for (const root_id of render_item.root_ids) {\n",
       "\tconst id_el = document.getElementById(root_id)\n",
       "\tif (id_el.children.length && id_el.children[0].hasAttribute('data-root-id')) {\n",
       "\t  const root_el = id_el.children[0]\n",
       "\t  root_el.id = root_el.id + '-rendered'\n",
       "\t  for (const child of root_el.children) {\n",
       "            // Ensure JupyterLab does not capture keyboard shortcuts\n",
       "            // see: https://jupyterlab.readthedocs.io/en/4.1.x/extension/notebook.html#keyboard-interaction-model\n",
       "\t    child.setAttribute('data-lm-suppress-shortcuts', 'true')\n",
       "\t  }\n",
       "\t}\n",
       "      }\n",
       "    }\n",
       "  }\n",
       "  function get_bokeh(root) {\n",
       "    if (root.Bokeh === undefined) {\n",
       "      return null\n",
       "    } else if (root.Bokeh.version !== py_version) {\n",
       "      if (root.Bokeh.versions === undefined || !root.Bokeh.versions.has(py_version)) {\n",
       "\treturn null\n",
       "      }\n",
       "      return root.Bokeh.versions.get(py_version);\n",
       "    } else if (root.Bokeh.version === py_version) {\n",
       "      return root.Bokeh\n",
       "    }\n",
       "    return null\n",
       "  }\n",
       "  function is_loaded(root) {\n",
       "    var Bokeh = get_bokeh(root)\n",
       "    return (Bokeh != null && Bokeh.Panel !== undefined)\n",
       "  }\n",
       "  if (is_loaded(root)) {\n",
       "    embed_document(root);\n",
       "  } else {\n",
       "    var attempts = 0;\n",
       "    var timer = setInterval(function(root) {\n",
       "      if (is_loaded(root)) {\n",
       "        clearInterval(timer);\n",
       "        embed_document(root);\n",
       "      } else if (document.readyState == \"complete\") {\n",
       "        attempts++;\n",
       "        if (attempts > 200) {\n",
       "          clearInterval(timer);\n",
       "\t  var Bokeh = get_bokeh(root)\n",
       "\t  if (Bokeh == null || Bokeh.Panel == null) {\n",
       "            console.warn(\"Panel: ERROR: Unable to run Panel code because Bokeh or Panel library is missing\");\n",
       "\t  } else {\n",
       "\t    console.warn(\"Panel: WARNING: Attempting to render but not all required libraries could be resolved.\")\n",
       "\t    embed_document(root)\n",
       "\t  }\n",
       "        }\n",
       "      }\n",
       "    }, 25, root)\n",
       "  }\n",
       "})(window);</script>"
      ],
      "text/plain": [
       ":Histogram   [city]   (city_count)"
      ]
     },
     "execution_count": 8,
     "metadata": {
      "application/vnd.holoviews_exec.v0+json": {
       "id": "p1066"
      }
     },
     "output_type": "execute_result"
    }
   ],
   "source": [
    "ad_data.select(pl.col(\"city\")).collect().plot.hist()"
   ]
  },
  {
   "cell_type": "code",
   "execution_count": 9,
   "id": "91b50e94-602a-4b3a-af00-e464333ff7b7",
   "metadata": {},
   "outputs": [
    {
     "data": {},
     "metadata": {},
     "output_type": "display_data"
    },
    {
     "data": {
      "application/vnd.holoviews_exec.v0+json": "",
      "text/html": [
       "<div id='p1132'>\n",
       "  <div id=\"c534899a-d80c-4e80-b70d-3750dec7e06e\" data-root-id=\"p1132\" style=\"display: contents;\"></div>\n",
       "</div>\n",
       "<script type=\"application/javascript\">(function(root) {\n",
       "  var docs_json = {\"f518a54f-4bee-4af1-8df2-258d470760a6\":{\"version\":\"3.4.2\",\"title\":\"Bokeh Application\",\"roots\":[{\"type\":\"object\",\"name\":\"Row\",\"id\":\"p1132\",\"attributes\":{\"name\":\"Row01154\",\"tags\":[\"embedded\"],\"stylesheets\":[\"\\n:host(.pn-loading):before, .pn-loading:before {\\n  background-color: #c3c3c3;\\n  mask-size: auto calc(min(50%, 400px));\\n  -webkit-mask-size: auto calc(min(50%, 400px));\\n}\",{\"type\":\"object\",\"name\":\"ImportedStyleSheet\",\"id\":\"p1135\",\"attributes\":{\"url\":\"https://cdn.holoviz.org/panel/1.4.4/dist/css/loading.css\"}},{\"type\":\"object\",\"name\":\"ImportedStyleSheet\",\"id\":\"p1191\",\"attributes\":{\"url\":\"https://cdn.holoviz.org/panel/1.4.4/dist/css/listpanel.css\"}},{\"type\":\"object\",\"name\":\"ImportedStyleSheet\",\"id\":\"p1133\",\"attributes\":{\"url\":\"https://cdn.holoviz.org/panel/1.4.4/dist/bundled/theme/default.css\"}},{\"type\":\"object\",\"name\":\"ImportedStyleSheet\",\"id\":\"p1134\",\"attributes\":{\"url\":\"https://cdn.holoviz.org/panel/1.4.4/dist/bundled/theme/native.css\"}}],\"min_width\":700,\"margin\":0,\"sizing_mode\":\"stretch_width\",\"align\":\"start\",\"children\":[{\"type\":\"object\",\"name\":\"Spacer\",\"id\":\"p1136\",\"attributes\":{\"name\":\"HSpacer01161\",\"stylesheets\":[\"\\n:host(.pn-loading):before, .pn-loading:before {\\n  background-color: #c3c3c3;\\n  mask-size: auto calc(min(50%, 400px));\\n  -webkit-mask-size: auto calc(min(50%, 400px));\\n}\",{\"id\":\"p1135\"},{\"id\":\"p1133\"},{\"id\":\"p1134\"}],\"margin\":0,\"sizing_mode\":\"stretch_width\",\"align\":\"start\"}},{\"type\":\"object\",\"name\":\"Figure\",\"id\":\"p1144\",\"attributes\":{\"width\":700,\"height\":300,\"margin\":[5,10],\"sizing_mode\":\"fixed\",\"align\":\"start\",\"x_range\":{\"type\":\"object\",\"name\":\"Range1d\",\"id\":\"p1137\",\"attributes\":{\"tags\":[[[\"device_name\",\"device_name\",null]],[]],\"start\":89.98571428571428,\"end\":369.01428571428573,\"reset_start\":89.98571428571428,\"reset_end\":369.01428571428573}},\"y_range\":{\"type\":\"object\",\"name\":\"Range1d\",\"id\":\"p1138\",\"attributes\":{\"tags\":[[[\"device_name_count\",\"Count\",null]],{\"type\":\"map\",\"entries\":[[\"invert_yaxis\",false],[\"autorange\",false]]}],\"end\":608276.1,\"reset_start\":0.0,\"reset_end\":608276.1}},\"x_scale\":{\"type\":\"object\",\"name\":\"LinearScale\",\"id\":\"p1154\"},\"y_scale\":{\"type\":\"object\",\"name\":\"LinearScale\",\"id\":\"p1155\"},\"title\":{\"type\":\"object\",\"name\":\"Title\",\"id\":\"p1147\",\"attributes\":{\"text_color\":\"black\",\"text_font_size\":\"12pt\"}},\"renderers\":[{\"type\":\"object\",\"name\":\"GlyphRenderer\",\"id\":\"p1184\",\"attributes\":{\"data_source\":{\"type\":\"object\",\"name\":\"ColumnDataSource\",\"id\":\"p1175\",\"attributes\":{\"selected\":{\"type\":\"object\",\"name\":\"Selection\",\"id\":\"p1176\",\"attributes\":{\"indices\":[],\"line_indices\":[]}},\"selection_policy\":{\"type\":\"object\",\"name\":\"UnionRenderers\",\"id\":\"p1177\"},\"data\":{\"type\":\"map\",\"entries\":[[\"top\",{\"type\":\"ndarray\",\"array\":{\"type\":\"bytes\",\"data\":\"SFQEAHU2BwCByAYA5HwHAMvGAwCmpQQAvJIDAAQ4BgD0rggAu3IIAJxLAwAXwAQAIcADAPwOCACzswIAkfoEAO5JCAAvowQAXOAGAO6eCAA=\"},\"shape\":[20],\"dtype\":\"int32\",\"order\":\"little\"}],[\"left\",{\"type\":\"ndarray\",\"array\":{\"type\":\"bytes\",\"data\":\"AAAAAABAWUBmZmZmZnZcQM3MzMzMrF9AmpmZmZlxYUDNzMzMzAxjQAAAAAAAqGRAMzMzMzNDZkBmZmZmZt5nQJqZmZmZeWlAzMzMzMwUa0AAAAAAALBsQDMzMzMzS25AZmZmZmbmb0DMzMzMzMBwQGZmZmZmjnFAAAAAAABcckCamZmZmSlzQDMzMzMz93NAzMzMzMzEdEBmZmZmZpJ1QA==\"},\"shape\":[20],\"dtype\":\"float64\",\"order\":\"little\"}],[\"right\",{\"type\":\"ndarray\",\"array\":{\"type\":\"bytes\",\"data\":\"ZmZmZmZ2XEDNzMzMzKxfQJqZmZmZcWFAzczMzMwMY0AAAAAAAKhkQDMzMzMzQ2ZAZmZmZmbeZ0CamZmZmXlpQMzMzMzMFGtAAAAAAACwbEAzMzMzM0tuQGZmZmZm5m9AzMzMzMzAcEBmZmZmZo5xQAAAAAAAXHJAmpmZmZkpc0AzMzMzM/dzQMzMzMzMxHRAZmZmZmaSdUAAAAAAAGB2QA==\"},\"shape\":[20],\"dtype\":\"float64\",\"order\":\"little\"}],[\"device_name\",{\"type\":\"ndarray\",\"array\":{\"type\":\"bytes\",\"data\":\"MzMzMzPbWkCamZmZmRFeQAAAAAAApGBANDMzMzM/YkBmZmZmZtpjQJqZmZmZdWVAzMzMzMwQZ0AAAAAAAKxoQDMzMzMzR2pAZmZmZmbia0CamZmZmX1tQMzMzMzMGG9AAAAAAABacECZmZmZmSdxQDMzMzMz9XFAzczMzMzCckBmZmZmZpBzQAAAAAAAXnRAmZmZmZkrdUAzMzMzM/l1QA==\"},\"shape\":[20],\"dtype\":\"float64\",\"order\":\"little\"}],[\"device_name_count\",{\"type\":\"ndarray\",\"array\":{\"type\":\"bytes\",\"data\":\"SFQEAHU2BwCByAYA5HwHAMvGAwCmpQQAvJIDAAQ4BgD0rggAu3IIAJxLAwAXwAQAIcADAPwOCACzswIAkfoEAO5JCAAvowQAXOAGAO6eCAA=\"},\"shape\":[20],\"dtype\":\"int32\",\"order\":\"little\"}]]}}},\"view\":{\"type\":\"object\",\"name\":\"CDSView\",\"id\":\"p1185\",\"attributes\":{\"filter\":{\"type\":\"object\",\"name\":\"AllIndices\",\"id\":\"p1186\"}}},\"glyph\":{\"type\":\"object\",\"name\":\"Quad\",\"id\":\"p1181\",\"attributes\":{\"tags\":[\"apply_ranges\"],\"left\":{\"type\":\"field\",\"field\":\"left\"},\"right\":{\"type\":\"field\",\"field\":\"right\"},\"bottom\":{\"type\":\"value\",\"value\":0},\"top\":{\"type\":\"field\",\"field\":\"top\"},\"fill_color\":{\"type\":\"value\",\"value\":\"#30a2da\"},\"hatch_color\":{\"type\":\"value\",\"value\":\"#30a2da\"}}},\"selection_glyph\":{\"type\":\"object\",\"name\":\"Quad\",\"id\":\"p1187\",\"attributes\":{\"tags\":[\"apply_ranges\"],\"left\":{\"type\":\"field\",\"field\":\"left\"},\"right\":{\"type\":\"field\",\"field\":\"right\"},\"bottom\":{\"type\":\"value\",\"value\":0},\"top\":{\"type\":\"field\",\"field\":\"top\"},\"line_color\":{\"type\":\"value\",\"value\":\"black\"},\"line_alpha\":{\"type\":\"value\",\"value\":1.0},\"line_width\":{\"type\":\"value\",\"value\":1},\"line_join\":{\"type\":\"value\",\"value\":\"bevel\"},\"line_cap\":{\"type\":\"value\",\"value\":\"butt\"},\"line_dash\":{\"type\":\"value\",\"value\":[]},\"line_dash_offset\":{\"type\":\"value\",\"value\":0},\"fill_color\":{\"type\":\"value\",\"value\":\"#30a2da\"},\"fill_alpha\":{\"type\":\"value\",\"value\":1.0},\"hatch_color\":{\"type\":\"value\",\"value\":\"#30a2da\"},\"hatch_alpha\":{\"type\":\"value\",\"value\":1.0},\"hatch_scale\":{\"type\":\"value\",\"value\":12.0},\"hatch_pattern\":{\"type\":\"value\",\"value\":null},\"hatch_weight\":{\"type\":\"value\",\"value\":1.0}}},\"nonselection_glyph\":{\"type\":\"object\",\"name\":\"Quad\",\"id\":\"p1182\",\"attributes\":{\"tags\":[\"apply_ranges\"],\"left\":{\"type\":\"field\",\"field\":\"left\"},\"right\":{\"type\":\"field\",\"field\":\"right\"},\"bottom\":{\"type\":\"value\",\"value\":0},\"top\":{\"type\":\"field\",\"field\":\"top\"},\"line_alpha\":{\"type\":\"value\",\"value\":0.1},\"fill_color\":{\"type\":\"value\",\"value\":\"#30a2da\"},\"fill_alpha\":{\"type\":\"value\",\"value\":0.1},\"hatch_color\":{\"type\":\"value\",\"value\":\"#30a2da\"},\"hatch_alpha\":{\"type\":\"value\",\"value\":0.1}}},\"muted_glyph\":{\"type\":\"object\",\"name\":\"Quad\",\"id\":\"p1183\",\"attributes\":{\"tags\":[\"apply_ranges\"],\"left\":{\"type\":\"field\",\"field\":\"left\"},\"right\":{\"type\":\"field\",\"field\":\"right\"},\"bottom\":{\"type\":\"value\",\"value\":0},\"top\":{\"type\":\"field\",\"field\":\"top\"},\"line_alpha\":{\"type\":\"value\",\"value\":0.2},\"fill_color\":{\"type\":\"value\",\"value\":\"#30a2da\"},\"fill_alpha\":{\"type\":\"value\",\"value\":0.2},\"hatch_color\":{\"type\":\"value\",\"value\":\"#30a2da\"},\"hatch_alpha\":{\"type\":\"value\",\"value\":0.2}}}}}],\"toolbar\":{\"type\":\"object\",\"name\":\"Toolbar\",\"id\":\"p1153\",\"attributes\":{\"tools\":[{\"type\":\"object\",\"name\":\"WheelZoomTool\",\"id\":\"p1142\",\"attributes\":{\"tags\":[\"hv_created\"],\"renderers\":\"auto\",\"zoom_together\":\"none\"}},{\"type\":\"object\",\"name\":\"HoverTool\",\"id\":\"p1143\",\"attributes\":{\"tags\":[\"hv_created\"],\"renderers\":[{\"id\":\"p1184\"}],\"tooltips\":[[\"device_name\",\"@{device_name}\"],[\"Count\",\"@{device_name_count}\"]]}},{\"type\":\"object\",\"name\":\"SaveTool\",\"id\":\"p1166\"},{\"type\":\"object\",\"name\":\"PanTool\",\"id\":\"p1167\"},{\"type\":\"object\",\"name\":\"BoxZoomTool\",\"id\":\"p1168\",\"attributes\":{\"overlay\":{\"type\":\"object\",\"name\":\"BoxAnnotation\",\"id\":\"p1169\",\"attributes\":{\"syncable\":false,\"level\":\"overlay\",\"visible\":false,\"left\":{\"type\":\"number\",\"value\":\"nan\"},\"right\":{\"type\":\"number\",\"value\":\"nan\"},\"top\":{\"type\":\"number\",\"value\":\"nan\"},\"bottom\":{\"type\":\"number\",\"value\":\"nan\"},\"left_units\":\"canvas\",\"right_units\":\"canvas\",\"top_units\":\"canvas\",\"bottom_units\":\"canvas\",\"line_color\":\"black\",\"line_alpha\":1.0,\"line_width\":2,\"line_dash\":[4,4],\"fill_color\":\"lightgrey\",\"fill_alpha\":0.5}}}},{\"type\":\"object\",\"name\":\"ResetTool\",\"id\":\"p1174\"}],\"active_drag\":{\"id\":\"p1167\"},\"active_scroll\":{\"id\":\"p1142\"}}},\"left\":[{\"type\":\"object\",\"name\":\"LinearAxis\",\"id\":\"p1161\",\"attributes\":{\"ticker\":{\"type\":\"object\",\"name\":\"BasicTicker\",\"id\":\"p1162\",\"attributes\":{\"mantissas\":[1,2,5]}},\"formatter\":{\"type\":\"object\",\"name\":\"BasicTickFormatter\",\"id\":\"p1163\"},\"axis_label\":\"\",\"major_label_policy\":{\"type\":\"object\",\"name\":\"AllLabels\",\"id\":\"p1164\"}}}],\"below\":[{\"type\":\"object\",\"name\":\"LinearAxis\",\"id\":\"p1156\",\"attributes\":{\"ticker\":{\"type\":\"object\",\"name\":\"BasicTicker\",\"id\":\"p1157\",\"attributes\":{\"mantissas\":[1,2,5]}},\"formatter\":{\"type\":\"object\",\"name\":\"BasicTickFormatter\",\"id\":\"p1158\"},\"axis_label\":\"device_name\",\"major_label_policy\":{\"type\":\"object\",\"name\":\"AllLabels\",\"id\":\"p1159\"}}}],\"center\":[{\"type\":\"object\",\"name\":\"Grid\",\"id\":\"p1160\",\"attributes\":{\"axis\":{\"id\":\"p1156\"},\"grid_line_color\":null}},{\"type\":\"object\",\"name\":\"Grid\",\"id\":\"p1165\",\"attributes\":{\"dimension\":1,\"axis\":{\"id\":\"p1161\"},\"grid_line_color\":null}}],\"min_border_top\":10,\"min_border_bottom\":10,\"min_border_left\":10,\"min_border_right\":10,\"output_backend\":\"webgl\"}},{\"type\":\"object\",\"name\":\"Spacer\",\"id\":\"p1189\",\"attributes\":{\"name\":\"HSpacer01162\",\"stylesheets\":[\"\\n:host(.pn-loading):before, .pn-loading:before {\\n  background-color: #c3c3c3;\\n  mask-size: auto calc(min(50%, 400px));\\n  -webkit-mask-size: auto calc(min(50%, 400px));\\n}\",{\"id\":\"p1135\"},{\"id\":\"p1133\"},{\"id\":\"p1134\"}],\"margin\":0,\"sizing_mode\":\"stretch_width\",\"align\":\"start\"}}]}}],\"defs\":[{\"type\":\"model\",\"name\":\"ReactiveHTML1\"},{\"type\":\"model\",\"name\":\"FlexBox1\",\"properties\":[{\"name\":\"align_content\",\"kind\":\"Any\",\"default\":\"flex-start\"},{\"name\":\"align_items\",\"kind\":\"Any\",\"default\":\"flex-start\"},{\"name\":\"flex_direction\",\"kind\":\"Any\",\"default\":\"row\"},{\"name\":\"flex_wrap\",\"kind\":\"Any\",\"default\":\"wrap\"},{\"name\":\"gap\",\"kind\":\"Any\",\"default\":\"\"},{\"name\":\"justify_content\",\"kind\":\"Any\",\"default\":\"flex-start\"}]},{\"type\":\"model\",\"name\":\"FloatPanel1\",\"properties\":[{\"name\":\"config\",\"kind\":\"Any\",\"default\":{\"type\":\"map\"}},{\"name\":\"contained\",\"kind\":\"Any\",\"default\":true},{\"name\":\"position\",\"kind\":\"Any\",\"default\":\"right-top\"},{\"name\":\"offsetx\",\"kind\":\"Any\",\"default\":null},{\"name\":\"offsety\",\"kind\":\"Any\",\"default\":null},{\"name\":\"theme\",\"kind\":\"Any\",\"default\":\"primary\"},{\"name\":\"status\",\"kind\":\"Any\",\"default\":\"normalized\"}]},{\"type\":\"model\",\"name\":\"GridStack1\",\"properties\":[{\"name\":\"mode\",\"kind\":\"Any\",\"default\":\"warn\"},{\"name\":\"ncols\",\"kind\":\"Any\",\"default\":null},{\"name\":\"nrows\",\"kind\":\"Any\",\"default\":null},{\"name\":\"allow_resize\",\"kind\":\"Any\",\"default\":true},{\"name\":\"allow_drag\",\"kind\":\"Any\",\"default\":true},{\"name\":\"state\",\"kind\":\"Any\",\"default\":[]}]},{\"type\":\"model\",\"name\":\"drag1\",\"properties\":[{\"name\":\"slider_width\",\"kind\":\"Any\",\"default\":5},{\"name\":\"slider_color\",\"kind\":\"Any\",\"default\":\"black\"},{\"name\":\"value\",\"kind\":\"Any\",\"default\":50}]},{\"type\":\"model\",\"name\":\"click1\",\"properties\":[{\"name\":\"terminal_output\",\"kind\":\"Any\",\"default\":\"\"},{\"name\":\"debug_name\",\"kind\":\"Any\",\"default\":\"\"},{\"name\":\"clears\",\"kind\":\"Any\",\"default\":0}]},{\"type\":\"model\",\"name\":\"FastWrapper1\",\"properties\":[{\"name\":\"object\",\"kind\":\"Any\",\"default\":null},{\"name\":\"style\",\"kind\":\"Any\",\"default\":null}]},{\"type\":\"model\",\"name\":\"NotificationAreaBase1\",\"properties\":[{\"name\":\"js_events\",\"kind\":\"Any\",\"default\":{\"type\":\"map\"}},{\"name\":\"position\",\"kind\":\"Any\",\"default\":\"bottom-right\"},{\"name\":\"_clear\",\"kind\":\"Any\",\"default\":0}]},{\"type\":\"model\",\"name\":\"NotificationArea1\",\"properties\":[{\"name\":\"js_events\",\"kind\":\"Any\",\"default\":{\"type\":\"map\"}},{\"name\":\"notifications\",\"kind\":\"Any\",\"default\":[]},{\"name\":\"position\",\"kind\":\"Any\",\"default\":\"bottom-right\"},{\"name\":\"_clear\",\"kind\":\"Any\",\"default\":0},{\"name\":\"types\",\"kind\":\"Any\",\"default\":[{\"type\":\"map\",\"entries\":[[\"type\",\"warning\"],[\"background\",\"#ffc107\"],[\"icon\",{\"type\":\"map\",\"entries\":[[\"className\",\"fas fa-exclamation-triangle\"],[\"tagName\",\"i\"],[\"color\",\"white\"]]}]]},{\"type\":\"map\",\"entries\":[[\"type\",\"info\"],[\"background\",\"#007bff\"],[\"icon\",{\"type\":\"map\",\"entries\":[[\"className\",\"fas fa-info-circle\"],[\"tagName\",\"i\"],[\"color\",\"white\"]]}]]}]}]},{\"type\":\"model\",\"name\":\"Notification\",\"properties\":[{\"name\":\"background\",\"kind\":\"Any\",\"default\":null},{\"name\":\"duration\",\"kind\":\"Any\",\"default\":3000},{\"name\":\"icon\",\"kind\":\"Any\",\"default\":null},{\"name\":\"message\",\"kind\":\"Any\",\"default\":\"\"},{\"name\":\"notification_type\",\"kind\":\"Any\",\"default\":null},{\"name\":\"_destroyed\",\"kind\":\"Any\",\"default\":false}]},{\"type\":\"model\",\"name\":\"TemplateActions1\",\"properties\":[{\"name\":\"open_modal\",\"kind\":\"Any\",\"default\":0},{\"name\":\"close_modal\",\"kind\":\"Any\",\"default\":0}]},{\"type\":\"model\",\"name\":\"BootstrapTemplateActions1\",\"properties\":[{\"name\":\"open_modal\",\"kind\":\"Any\",\"default\":0},{\"name\":\"close_modal\",\"kind\":\"Any\",\"default\":0}]},{\"type\":\"model\",\"name\":\"TemplateEditor1\",\"properties\":[{\"name\":\"layout\",\"kind\":\"Any\",\"default\":[]}]},{\"type\":\"model\",\"name\":\"MaterialTemplateActions1\",\"properties\":[{\"name\":\"open_modal\",\"kind\":\"Any\",\"default\":0},{\"name\":\"close_modal\",\"kind\":\"Any\",\"default\":0}]},{\"type\":\"model\",\"name\":\"copy_to_clipboard1\",\"properties\":[{\"name\":\"fill\",\"kind\":\"Any\",\"default\":\"none\"},{\"name\":\"value\",\"kind\":\"Any\",\"default\":null}]}]}};\n",
       "  var render_items = [{\"docid\":\"f518a54f-4bee-4af1-8df2-258d470760a6\",\"roots\":{\"p1132\":\"c534899a-d80c-4e80-b70d-3750dec7e06e\"},\"root_ids\":[\"p1132\"]}];\n",
       "  var docs = Object.values(docs_json)\n",
       "  if (!docs) {\n",
       "    return\n",
       "  }\n",
       "  const py_version = docs[0].version.replace('rc', '-rc.').replace('.dev', '-dev.')\n",
       "  async function embed_document(root) {\n",
       "    var Bokeh = get_bokeh(root)\n",
       "    await Bokeh.embed.embed_items_notebook(docs_json, render_items);\n",
       "    for (const render_item of render_items) {\n",
       "      for (const root_id of render_item.root_ids) {\n",
       "\tconst id_el = document.getElementById(root_id)\n",
       "\tif (id_el.children.length && id_el.children[0].hasAttribute('data-root-id')) {\n",
       "\t  const root_el = id_el.children[0]\n",
       "\t  root_el.id = root_el.id + '-rendered'\n",
       "\t  for (const child of root_el.children) {\n",
       "            // Ensure JupyterLab does not capture keyboard shortcuts\n",
       "            // see: https://jupyterlab.readthedocs.io/en/4.1.x/extension/notebook.html#keyboard-interaction-model\n",
       "\t    child.setAttribute('data-lm-suppress-shortcuts', 'true')\n",
       "\t  }\n",
       "\t}\n",
       "      }\n",
       "    }\n",
       "  }\n",
       "  function get_bokeh(root) {\n",
       "    if (root.Bokeh === undefined) {\n",
       "      return null\n",
       "    } else if (root.Bokeh.version !== py_version) {\n",
       "      if (root.Bokeh.versions === undefined || !root.Bokeh.versions.has(py_version)) {\n",
       "\treturn null\n",
       "      }\n",
       "      return root.Bokeh.versions.get(py_version);\n",
       "    } else if (root.Bokeh.version === py_version) {\n",
       "      return root.Bokeh\n",
       "    }\n",
       "    return null\n",
       "  }\n",
       "  function is_loaded(root) {\n",
       "    var Bokeh = get_bokeh(root)\n",
       "    return (Bokeh != null && Bokeh.Panel !== undefined)\n",
       "  }\n",
       "  if (is_loaded(root)) {\n",
       "    embed_document(root);\n",
       "  } else {\n",
       "    var attempts = 0;\n",
       "    var timer = setInterval(function(root) {\n",
       "      if (is_loaded(root)) {\n",
       "        clearInterval(timer);\n",
       "        embed_document(root);\n",
       "      } else if (document.readyState == \"complete\") {\n",
       "        attempts++;\n",
       "        if (attempts > 200) {\n",
       "          clearInterval(timer);\n",
       "\t  var Bokeh = get_bokeh(root)\n",
       "\t  if (Bokeh == null || Bokeh.Panel == null) {\n",
       "            console.warn(\"Panel: ERROR: Unable to run Panel code because Bokeh or Panel library is missing\");\n",
       "\t  } else {\n",
       "\t    console.warn(\"Panel: WARNING: Attempting to render but not all required libraries could be resolved.\")\n",
       "\t    embed_document(root)\n",
       "\t  }\n",
       "        }\n",
       "      }\n",
       "    }, 25, root)\n",
       "  }\n",
       "})(window);</script>"
      ],
      "text/plain": [
       ":Histogram   [device_name]   (device_name_count)"
      ]
     },
     "execution_count": 9,
     "metadata": {
      "application/vnd.holoviews_exec.v0+json": {
       "id": "p1132"
      }
     },
     "output_type": "execute_result"
    }
   ],
   "source": [
    "ad_data.select(pl.col(\"device_name\")).collect().plot.hist()"
   ]
  },
  {
   "cell_type": "code",
   "execution_count": 10,
   "id": "8aba2091-2e61-4f50-a296-cd4a1e455161",
   "metadata": {},
   "outputs": [
    {
     "data": {},
     "metadata": {},
     "output_type": "display_data"
    },
    {
     "data": {
      "application/vnd.holoviews_exec.v0+json": "",
      "text/html": [
       "<div id='p1198'>\n",
       "  <div id=\"ef23140d-268e-40b3-a65c-c1450606bdca\" data-root-id=\"p1198\" style=\"display: contents;\"></div>\n",
       "</div>\n",
       "<script type=\"application/javascript\">(function(root) {\n",
       "  var docs_json = {\"5b7c69e7-fef5-41cd-86cb-8f77d5d4748f\":{\"version\":\"3.4.2\",\"title\":\"Bokeh Application\",\"roots\":[{\"type\":\"object\",\"name\":\"Row\",\"id\":\"p1198\",\"attributes\":{\"name\":\"Row01262\",\"tags\":[\"embedded\"],\"stylesheets\":[\"\\n:host(.pn-loading):before, .pn-loading:before {\\n  background-color: #c3c3c3;\\n  mask-size: auto calc(min(50%, 400px));\\n  -webkit-mask-size: auto calc(min(50%, 400px));\\n}\",{\"type\":\"object\",\"name\":\"ImportedStyleSheet\",\"id\":\"p1201\",\"attributes\":{\"url\":\"https://cdn.holoviz.org/panel/1.4.4/dist/css/loading.css\"}},{\"type\":\"object\",\"name\":\"ImportedStyleSheet\",\"id\":\"p1269\",\"attributes\":{\"url\":\"https://cdn.holoviz.org/panel/1.4.4/dist/css/listpanel.css\"}},{\"type\":\"object\",\"name\":\"ImportedStyleSheet\",\"id\":\"p1199\",\"attributes\":{\"url\":\"https://cdn.holoviz.org/panel/1.4.4/dist/bundled/theme/default.css\"}},{\"type\":\"object\",\"name\":\"ImportedStyleSheet\",\"id\":\"p1200\",\"attributes\":{\"url\":\"https://cdn.holoviz.org/panel/1.4.4/dist/bundled/theme/native.css\"}}],\"min_width\":700,\"margin\":0,\"sizing_mode\":\"stretch_width\",\"align\":\"start\",\"children\":[{\"type\":\"object\",\"name\":\"Spacer\",\"id\":\"p1202\",\"attributes\":{\"name\":\"HSpacer01269\",\"stylesheets\":[\"\\n:host(.pn-loading):before, .pn-loading:before {\\n  background-color: #c3c3c3;\\n  mask-size: auto calc(min(50%, 400px));\\n  -webkit-mask-size: auto calc(min(50%, 400px));\\n}\",{\"id\":\"p1201\"},{\"id\":\"p1199\"},{\"id\":\"p1200\"}],\"margin\":0,\"sizing_mode\":\"stretch_width\",\"align\":\"start\"}},{\"type\":\"object\",\"name\":\"Figure\",\"id\":\"p1210\",\"attributes\":{\"width\":700,\"height\":300,\"margin\":[5,10],\"sizing_mode\":\"fixed\",\"align\":\"start\",\"x_range\":{\"type\":\"object\",\"name\":\"Range1d\",\"id\":\"p1203\",\"attributes\":{\"tags\":[[[\"pt_d\",\"pt_d\",null]],[]],\"start\":1654101696000.0,\"end\":1654894224000.0,\"reset_start\":1654101696000.0,\"reset_end\":1654894224000.0}},\"y_range\":{\"type\":\"object\",\"name\":\"Range1d\",\"id\":\"p1204\",\"attributes\":{\"tags\":[[[\"pt_d_count\",\"Count\",null]],{\"type\":\"map\",\"entries\":[[\"invert_yaxis\",false],[\"autorange\",false]]}],\"end\":286905.3,\"reset_start\":0.0,\"reset_end\":286905.3}},\"x_scale\":{\"type\":\"object\",\"name\":\"LinearScale\",\"id\":\"p1220\"},\"y_scale\":{\"type\":\"object\",\"name\":\"LinearScale\",\"id\":\"p1221\"},\"title\":{\"type\":\"object\",\"name\":\"Title\",\"id\":\"p1213\",\"attributes\":{\"text_color\":\"black\",\"text_font_size\":\"12pt\"}},\"renderers\":[{\"type\":\"object\",\"name\":\"GlyphRenderer\",\"id\":\"p1262\",\"attributes\":{\"data_source\":{\"type\":\"object\",\"name\":\"ColumnDataSource\",\"id\":\"p1253\",\"attributes\":{\"selected\":{\"type\":\"object\",\"name\":\"Selection\",\"id\":\"p1254\",\"attributes\":{\"indices\":[],\"line_indices\":[]}},\"selection_policy\":{\"type\":\"object\",\"name\":\"UnionRenderers\",\"id\":\"p1255\"},\"data\":{\"type\":\"map\",\"entries\":[[\"top\",{\"type\":\"ndarray\",\"array\":{\"type\":\"bytes\",\"data\":\"GQAAACUAAABxAAAAQAEAAFcDAAAoAQAAAAAAAAAAAAAAAAAAAAAAAAAAAAC33wAAJUcCANSMAgC0RQMArrUDAJjMAwB9YwEAAAAAAAAAAAAAAAAAAAAAAAAAAADUTgEAukkCAP1eAgBEXgMA99gDABi5AwC0CwEAAAAAAAAAAAAAAAAAAAAAAAAAAABKpAEA6y0CAM9VAgDuWgMA7MwDAPpxAwDTmAAAAAAAAAAAAAAAAAAAAAAAAAAAAABAtQEAUPgBAIlOAgAZ+AIAHDYDAMLaAgBcLQAAAAAAAAAAAAAAAAAAAAAAAMAEAAC0HQIAUS0CANrFAgAIsgMA1/oDAIWLAgAAAAAAAAAAAAAAAAAAAAAAAAAAAKyAAAByGwIA5gUCAHiyAgCjPQMA52IDAE0mAgAAAAAAAAAAAAAAAAAAAAAAAAAAAK/KAADy5wEA5fMBAIy1AgDLSgMARBwDAGN4AQAAAAAAAAAAAAAAAAAAAAAAAAAAAAAAAAAAAAAAAAAAAAAAAAAAAAAAZRMAAA==\"},\"shape\":[100],\"dtype\":\"int32\",\"order\":\"little\"}],[\"left\",{\"type\":\"ndarray\",\"array\":{\"type\":\"bytes\",\"data\":\"AACSIyASeEIAALMZJxJ4QgAA1A8uEnhCAAD1BTUSeEIAABb8OxJ4QgAAN/JCEnhCAABY6EkSeEIAAHneUBJ4QgAAmtRXEnhCAAC7yl4SeEIAANzAZRJ4QgAA/bZsEnhCAAAerXMSeEIAAD+jehJ4QgAAYJmBEnhCAACBj4gSeEIAAKKFjxJ4QgAAw3uWEnhCAADkcZ0SeEIAAAVopBJ4QgAAJl6rEnhCAABHVLISeEIAAGhKuRJ4QgAAiUDAEnhCAACqNscSeEIAAMsszhJ4QgAA7CLVEnhCAAANGdwSeEIAAC4P4xJ4QgAATwXqEnhCAABw+/ASeEIAAJHx9xJ4QgAAsuf+EnhCAADT3QUTeEIAAPTTDBN4QgAAFcoTE3hCAAA2wBoTeEIAAFe2IRN4QgAAeKwoE3hCAACZoi8TeEIAALqYNhN4QgAA2449E3hCAAD8hEQTeEIAAB17SxN4QgAAPnFSE3hCAABfZ1kTeEIAAIBdYBN4QgAAoVNnE3hCAADCSW4TeEIAAOM/dRN4QgAABDZ8E3hCAAAlLIMTeEIAAEYiihN4QgAAZxiRE3hCAACIDpgTeEIAAKkEnxN4QgAAyvqlE3hCAADr8KwTeEIAAAznsxN4QgAALd26E3hCAABO08ETeEIAAG/JyBN4QgAAkL/PE3hCAACxtdYTeEIAANKr3RN4QgAA86HkE3hCAAAUmOsTeEIAADWO8hN4QgAAVoT5E3hCAAB3egAUeEIAAJhwBxR4QgAAuWYOFHhCAADaXBUUeEIAAPtSHBR4QgAAHEkjFHhCAAA9PyoUeEIAAF41MRR4QgAAfys4FHhCAACgIT8UeEIAAMEXRhR4QgAA4g1NFHhCAAADBFQUeEIAACT6WhR4QgAARfBhFHhCAABm5mgUeEIAAIfcbxR4QgAAqNJ2FHhCAADJyH0UeEIAAOq+hBR4QgAAC7WLFHhCAAAsq5IUeEIAAE2hmRR4QgAAbpegFHhCAACPjacUeEIAALCDrhR4QgAA0Xm1FHhCAADyb7wUeEIAABNmwxR4QgAANFzKFHhCAABVUtEUeEI=\"},\"shape\":[100],\"dtype\":\"float64\",\"order\":\"little\"}],[\"right\",{\"type\":\"ndarray\",\"array\":{\"type\":\"bytes\",\"data\":\"AACzGScSeEIAANQPLhJ4QgAA9QU1EnhCAAAW/DsSeEIAADfyQhJ4QgAAWOhJEnhCAAB53lASeEIAAJrUVxJ4QgAAu8peEnhCAADcwGUSeEIAAP22bBJ4QgAAHq1zEnhCAAA/o3oSeEIAAGCZgRJ4QgAAgY+IEnhCAACihY8SeEIAAMN7lhJ4QgAA5HGdEnhCAAAFaKQSeEIAACZeqxJ4QgAAR1SyEnhCAABoSrkSeEIAAIlAwBJ4QgAAqjbHEnhCAADLLM4SeEIAAOwi1RJ4QgAADRncEnhCAAAuD+MSeEIAAE8F6hJ4QgAAcPvwEnhCAACR8fcSeEIAALLn/hJ4QgAA090FE3hCAAD00wwTeEIAABXKExN4QgAANsAaE3hCAABXtiETeEIAAHisKBN4QgAAmaIvE3hCAAC6mDYTeEIAANuOPRN4QgAA/IREE3hCAAAde0sTeEIAAD5xUhN4QgAAX2dZE3hCAACAXWATeEIAAKFTZxN4QgAAwkluE3hCAADjP3UTeEIAAAQ2fBN4QgAAJSyDE3hCAABGIooTeEIAAGcYkRN4QgAAiA6YE3hCAACpBJ8TeEIAAMr6pRN4QgAA6/CsE3hCAAAM57MTeEIAAC3duhN4QgAATtPBE3hCAABvycgTeEIAAJC/zxN4QgAAsbXWE3hCAADSq90TeEIAAPOh5BN4QgAAFJjrE3hCAAA1jvITeEIAAFaE+RN4QgAAd3oAFHhCAACYcAcUeEIAALlmDhR4QgAA2lwVFHhCAAD7UhwUeEIAABxJIxR4QgAAPT8qFHhCAABeNTEUeEIAAH8rOBR4QgAAoCE/FHhCAADBF0YUeEIAAOINTRR4QgAAAwRUFHhCAAAk+loUeEIAAEXwYRR4QgAAZuZoFHhCAACH3G8UeEIAAKjSdhR4QgAAych9FHhCAADqvoQUeEIAAAu1ixR4QgAALKuSFHhCAABNoZkUeEIAAG6XoBR4QgAAj42nFHhCAACwg64UeEIAANF5tRR4QgAA8m+8FHhCAAATZsMUeEIAADRcyhR4QgAAVVLRFHhCAAB2SNgUeEI=\"},\"shape\":[100],\"dtype\":\"float64\",\"order\":\"little\"}],[\"pt_d\",{\"type\":\"ndarray\",\"array\":{\"type\":\"bytes\",\"data\":\"AICiniMSeEIAgMOUKhJ4QgCA5IoxEnhCAIAFgTgSeEIAgCZ3PxJ4QgCAR21GEnhCAIBoY00SeEIAgIlZVBJ4QgCAqk9bEnhCAIDLRWISeEIAgOw7aRJ4QgCADTJwEnhCAIAuKHcSeEIAgE8efhJ4QgCAcBSFEnhCAICRCowSeEIAgLIAkxJ4QgCA0/aZEnhCAID07KASeEIAgBXjpxJ4QgCANtmuEnhCAIBXz7USeEIAgHjFvBJ4QgCAmbvDEnhCAIC6scoSeEIAgNun0RJ4QgCA/J3YEnhCAIAdlN8SeEIAgD6K5hJ4QgCAX4DtEnhCAICAdvQSeEIAgKFs+xJ4QgCAwmICE3hCAIDjWAkTeEIAgARPEBN4QgCAJUUXE3hCAIBGOx4TeEIAgGcxJRN4QgCAiCcsE3hCAICpHTMTeEIAgMoTOhN4QgCA6wlBE3hCAIAMAEgTeEIAgC32ThN4QgCATuxVE3hCAIBv4lwTeEIAgJDYYxN4QgCAsc5qE3hCAIDSxHETeEIAgPO6eBN4QgCAFLF/E3hCAIA1p4YTeEIAgFadjRN4QgCAd5OUE3hCAICYiZsTeEIAgLl/ohN4QgCA2nWpE3hCAID7a7ATeEIAgBxitxN4QgCAPVi+E3hCAIBeTsUTeEIAgH9EzBN4QgCAoDrTE3hCAIDBMNoTeEIAgOIm4RN4QgCAAx3oE3hCAIAkE+8TeEIAgEUJ9hN4QgCAZv/8E3hCAICH9QMUeEIAgKjrChR4QgCAyeERFHhCAIDq1xgUeEIAgAvOHxR4QgCALMQmFHhCAIBNui0UeEIAgG6wNBR4QgCAj6Y7FHhCAICwnEIUeEIAgNGSSRR4QgCA8ohQFHhCAIATf1cUeEIAgDR1XhR4QgCAVWtlFHhCAIB2YWwUeEIAgJdXcxR4QgCAuE16FHhCAIDZQ4EUeEIAgPo5iBR4QgCAGzCPFHhCAIA8JpYUeEIAgF0cnRR4QgCAfhKkFHhCAICfCKsUeEIAgMD+sRR4QgCA4fS4FHhCAIAC678UeEIAgCPhxhR4QgCARNfNFHhCAIBlzdQUeEI=\"},\"shape\":[100],\"dtype\":\"float64\",\"order\":\"little\"}],[\"pt_d_count\",{\"type\":\"ndarray\",\"array\":{\"type\":\"bytes\",\"data\":\"GQAAACUAAABxAAAAQAEAAFcDAAAoAQAAAAAAAAAAAAAAAAAAAAAAAAAAAAC33wAAJUcCANSMAgC0RQMArrUDAJjMAwB9YwEAAAAAAAAAAAAAAAAAAAAAAAAAAADUTgEAukkCAP1eAgBEXgMA99gDABi5AwC0CwEAAAAAAAAAAAAAAAAAAAAAAAAAAABKpAEA6y0CAM9VAgDuWgMA7MwDAPpxAwDTmAAAAAAAAAAAAAAAAAAAAAAAAAAAAABAtQEAUPgBAIlOAgAZ+AIAHDYDAMLaAgBcLQAAAAAAAAAAAAAAAAAAAAAAAMAEAAC0HQIAUS0CANrFAgAIsgMA1/oDAIWLAgAAAAAAAAAAAAAAAAAAAAAAAAAAAKyAAAByGwIA5gUCAHiyAgCjPQMA52IDAE0mAgAAAAAAAAAAAAAAAAAAAAAAAAAAAK/KAADy5wEA5fMBAIy1AgDLSgMARBwDAGN4AQAAAAAAAAAAAAAAAAAAAAAAAAAAAAAAAAAAAAAAAAAAAAAAAAAAAAAAZRMAAA==\"},\"shape\":[100],\"dtype\":\"int32\",\"order\":\"little\"}]]}}},\"view\":{\"type\":\"object\",\"name\":\"CDSView\",\"id\":\"p1263\",\"attributes\":{\"filter\":{\"type\":\"object\",\"name\":\"AllIndices\",\"id\":\"p1264\"}}},\"glyph\":{\"type\":\"object\",\"name\":\"Quad\",\"id\":\"p1259\",\"attributes\":{\"tags\":[\"apply_ranges\"],\"left\":{\"type\":\"field\",\"field\":\"left\"},\"right\":{\"type\":\"field\",\"field\":\"right\"},\"bottom\":{\"type\":\"value\",\"value\":0},\"top\":{\"type\":\"field\",\"field\":\"top\"},\"fill_color\":{\"type\":\"value\",\"value\":\"#30a2da\"},\"hatch_color\":{\"type\":\"value\",\"value\":\"#30a2da\"}}},\"selection_glyph\":{\"type\":\"object\",\"name\":\"Quad\",\"id\":\"p1265\",\"attributes\":{\"tags\":[\"apply_ranges\"],\"left\":{\"type\":\"field\",\"field\":\"left\"},\"right\":{\"type\":\"field\",\"field\":\"right\"},\"bottom\":{\"type\":\"value\",\"value\":0},\"top\":{\"type\":\"field\",\"field\":\"top\"},\"line_color\":{\"type\":\"value\",\"value\":\"black\"},\"line_alpha\":{\"type\":\"value\",\"value\":1.0},\"line_width\":{\"type\":\"value\",\"value\":1},\"line_join\":{\"type\":\"value\",\"value\":\"bevel\"},\"line_cap\":{\"type\":\"value\",\"value\":\"butt\"},\"line_dash\":{\"type\":\"value\",\"value\":[]},\"line_dash_offset\":{\"type\":\"value\",\"value\":0},\"fill_color\":{\"type\":\"value\",\"value\":\"#30a2da\"},\"fill_alpha\":{\"type\":\"value\",\"value\":1.0},\"hatch_color\":{\"type\":\"value\",\"value\":\"#30a2da\"},\"hatch_alpha\":{\"type\":\"value\",\"value\":1.0},\"hatch_scale\":{\"type\":\"value\",\"value\":12.0},\"hatch_pattern\":{\"type\":\"value\",\"value\":null},\"hatch_weight\":{\"type\":\"value\",\"value\":1.0}}},\"nonselection_glyph\":{\"type\":\"object\",\"name\":\"Quad\",\"id\":\"p1260\",\"attributes\":{\"tags\":[\"apply_ranges\"],\"left\":{\"type\":\"field\",\"field\":\"left\"},\"right\":{\"type\":\"field\",\"field\":\"right\"},\"bottom\":{\"type\":\"value\",\"value\":0},\"top\":{\"type\":\"field\",\"field\":\"top\"},\"line_alpha\":{\"type\":\"value\",\"value\":0.1},\"fill_color\":{\"type\":\"value\",\"value\":\"#30a2da\"},\"fill_alpha\":{\"type\":\"value\",\"value\":0.1},\"hatch_color\":{\"type\":\"value\",\"value\":\"#30a2da\"},\"hatch_alpha\":{\"type\":\"value\",\"value\":0.1}}},\"muted_glyph\":{\"type\":\"object\",\"name\":\"Quad\",\"id\":\"p1261\",\"attributes\":{\"tags\":[\"apply_ranges\"],\"left\":{\"type\":\"field\",\"field\":\"left\"},\"right\":{\"type\":\"field\",\"field\":\"right\"},\"bottom\":{\"type\":\"value\",\"value\":0},\"top\":{\"type\":\"field\",\"field\":\"top\"},\"line_alpha\":{\"type\":\"value\",\"value\":0.2},\"fill_color\":{\"type\":\"value\",\"value\":\"#30a2da\"},\"fill_alpha\":{\"type\":\"value\",\"value\":0.2},\"hatch_color\":{\"type\":\"value\",\"value\":\"#30a2da\"},\"hatch_alpha\":{\"type\":\"value\",\"value\":0.2}}}}}],\"toolbar\":{\"type\":\"object\",\"name\":\"Toolbar\",\"id\":\"p1219\",\"attributes\":{\"tools\":[{\"type\":\"object\",\"name\":\"WheelZoomTool\",\"id\":\"p1208\",\"attributes\":{\"tags\":[\"hv_created\"],\"renderers\":\"auto\",\"zoom_together\":\"none\"}},{\"type\":\"object\",\"name\":\"HoverTool\",\"id\":\"p1209\",\"attributes\":{\"tags\":[\"hv_created\"],\"renderers\":[{\"id\":\"p1262\"}],\"tooltips\":[[\"pt_d\",\"@{pt_d}{%F %T}\"],[\"Count\",\"@{pt_d_count}\"]],\"formatters\":{\"type\":\"map\",\"entries\":[[\"@{left}\",\"datetime\"],[\"@{right}\",\"datetime\"],[\"@{pt_d}\",\"datetime\"]]}}},{\"type\":\"object\",\"name\":\"SaveTool\",\"id\":\"p1244\"},{\"type\":\"object\",\"name\":\"PanTool\",\"id\":\"p1245\"},{\"type\":\"object\",\"name\":\"BoxZoomTool\",\"id\":\"p1246\",\"attributes\":{\"overlay\":{\"type\":\"object\",\"name\":\"BoxAnnotation\",\"id\":\"p1247\",\"attributes\":{\"syncable\":false,\"level\":\"overlay\",\"visible\":false,\"left\":{\"type\":\"number\",\"value\":\"nan\"},\"right\":{\"type\":\"number\",\"value\":\"nan\"},\"top\":{\"type\":\"number\",\"value\":\"nan\"},\"bottom\":{\"type\":\"number\",\"value\":\"nan\"},\"left_units\":\"canvas\",\"right_units\":\"canvas\",\"top_units\":\"canvas\",\"bottom_units\":\"canvas\",\"line_color\":\"black\",\"line_alpha\":1.0,\"line_width\":2,\"line_dash\":[4,4],\"fill_color\":\"lightgrey\",\"fill_alpha\":0.5}}}},{\"type\":\"object\",\"name\":\"ResetTool\",\"id\":\"p1252\"}],\"active_drag\":{\"id\":\"p1245\"},\"active_scroll\":{\"id\":\"p1208\"}}},\"left\":[{\"type\":\"object\",\"name\":\"LinearAxis\",\"id\":\"p1239\",\"attributes\":{\"ticker\":{\"type\":\"object\",\"name\":\"BasicTicker\",\"id\":\"p1240\",\"attributes\":{\"mantissas\":[1,2,5]}},\"formatter\":{\"type\":\"object\",\"name\":\"BasicTickFormatter\",\"id\":\"p1241\"},\"axis_label\":\"\",\"major_label_policy\":{\"type\":\"object\",\"name\":\"AllLabels\",\"id\":\"p1242\"}}}],\"below\":[{\"type\":\"object\",\"name\":\"DatetimeAxis\",\"id\":\"p1222\",\"attributes\":{\"ticker\":{\"type\":\"object\",\"name\":\"DatetimeTicker\",\"id\":\"p1223\",\"attributes\":{\"num_minor_ticks\":5,\"tickers\":[{\"type\":\"object\",\"name\":\"AdaptiveTicker\",\"id\":\"p1224\",\"attributes\":{\"num_minor_ticks\":0,\"mantissas\":[1,2,5],\"max_interval\":500.0}},{\"type\":\"object\",\"name\":\"AdaptiveTicker\",\"id\":\"p1225\",\"attributes\":{\"num_minor_ticks\":0,\"base\":60,\"mantissas\":[1,2,5,10,15,20,30],\"min_interval\":1000.0,\"max_interval\":1800000.0}},{\"type\":\"object\",\"name\":\"AdaptiveTicker\",\"id\":\"p1226\",\"attributes\":{\"num_minor_ticks\":0,\"base\":24,\"mantissas\":[1,2,4,6,8,12],\"min_interval\":3600000.0,\"max_interval\":43200000.0}},{\"type\":\"object\",\"name\":\"DaysTicker\",\"id\":\"p1227\",\"attributes\":{\"days\":[1,2,3,4,5,6,7,8,9,10,11,12,13,14,15,16,17,18,19,20,21,22,23,24,25,26,27,28,29,30,31]}},{\"type\":\"object\",\"name\":\"DaysTicker\",\"id\":\"p1228\",\"attributes\":{\"days\":[1,4,7,10,13,16,19,22,25,28]}},{\"type\":\"object\",\"name\":\"DaysTicker\",\"id\":\"p1229\",\"attributes\":{\"days\":[1,8,15,22]}},{\"type\":\"object\",\"name\":\"DaysTicker\",\"id\":\"p1230\",\"attributes\":{\"days\":[1,15]}},{\"type\":\"object\",\"name\":\"MonthsTicker\",\"id\":\"p1231\",\"attributes\":{\"months\":[0,1,2,3,4,5,6,7,8,9,10,11]}},{\"type\":\"object\",\"name\":\"MonthsTicker\",\"id\":\"p1232\",\"attributes\":{\"months\":[0,2,4,6,8,10]}},{\"type\":\"object\",\"name\":\"MonthsTicker\",\"id\":\"p1233\",\"attributes\":{\"months\":[0,4,8]}},{\"type\":\"object\",\"name\":\"MonthsTicker\",\"id\":\"p1234\",\"attributes\":{\"months\":[0,6]}},{\"type\":\"object\",\"name\":\"YearsTicker\",\"id\":\"p1235\"}]}},\"formatter\":{\"type\":\"object\",\"name\":\"DatetimeTickFormatter\",\"id\":\"p1236\"},\"axis_label\":\"pt_d\",\"major_label_policy\":{\"type\":\"object\",\"name\":\"AllLabels\",\"id\":\"p1237\"}}}],\"center\":[{\"type\":\"object\",\"name\":\"Grid\",\"id\":\"p1238\",\"attributes\":{\"axis\":{\"id\":\"p1222\"},\"grid_line_color\":null}},{\"type\":\"object\",\"name\":\"Grid\",\"id\":\"p1243\",\"attributes\":{\"dimension\":1,\"axis\":{\"id\":\"p1239\"},\"grid_line_color\":null}}],\"min_border_top\":10,\"min_border_bottom\":10,\"min_border_left\":10,\"min_border_right\":10,\"output_backend\":\"webgl\"}},{\"type\":\"object\",\"name\":\"Spacer\",\"id\":\"p1267\",\"attributes\":{\"name\":\"HSpacer01270\",\"stylesheets\":[\"\\n:host(.pn-loading):before, .pn-loading:before {\\n  background-color: #c3c3c3;\\n  mask-size: auto calc(min(50%, 400px));\\n  -webkit-mask-size: auto calc(min(50%, 400px));\\n}\",{\"id\":\"p1201\"},{\"id\":\"p1199\"},{\"id\":\"p1200\"}],\"margin\":0,\"sizing_mode\":\"stretch_width\",\"align\":\"start\"}}]}}],\"defs\":[{\"type\":\"model\",\"name\":\"ReactiveHTML1\"},{\"type\":\"model\",\"name\":\"FlexBox1\",\"properties\":[{\"name\":\"align_content\",\"kind\":\"Any\",\"default\":\"flex-start\"},{\"name\":\"align_items\",\"kind\":\"Any\",\"default\":\"flex-start\"},{\"name\":\"flex_direction\",\"kind\":\"Any\",\"default\":\"row\"},{\"name\":\"flex_wrap\",\"kind\":\"Any\",\"default\":\"wrap\"},{\"name\":\"gap\",\"kind\":\"Any\",\"default\":\"\"},{\"name\":\"justify_content\",\"kind\":\"Any\",\"default\":\"flex-start\"}]},{\"type\":\"model\",\"name\":\"FloatPanel1\",\"properties\":[{\"name\":\"config\",\"kind\":\"Any\",\"default\":{\"type\":\"map\"}},{\"name\":\"contained\",\"kind\":\"Any\",\"default\":true},{\"name\":\"position\",\"kind\":\"Any\",\"default\":\"right-top\"},{\"name\":\"offsetx\",\"kind\":\"Any\",\"default\":null},{\"name\":\"offsety\",\"kind\":\"Any\",\"default\":null},{\"name\":\"theme\",\"kind\":\"Any\",\"default\":\"primary\"},{\"name\":\"status\",\"kind\":\"Any\",\"default\":\"normalized\"}]},{\"type\":\"model\",\"name\":\"GridStack1\",\"properties\":[{\"name\":\"mode\",\"kind\":\"Any\",\"default\":\"warn\"},{\"name\":\"ncols\",\"kind\":\"Any\",\"default\":null},{\"name\":\"nrows\",\"kind\":\"Any\",\"default\":null},{\"name\":\"allow_resize\",\"kind\":\"Any\",\"default\":true},{\"name\":\"allow_drag\",\"kind\":\"Any\",\"default\":true},{\"name\":\"state\",\"kind\":\"Any\",\"default\":[]}]},{\"type\":\"model\",\"name\":\"drag1\",\"properties\":[{\"name\":\"slider_width\",\"kind\":\"Any\",\"default\":5},{\"name\":\"slider_color\",\"kind\":\"Any\",\"default\":\"black\"},{\"name\":\"value\",\"kind\":\"Any\",\"default\":50}]},{\"type\":\"model\",\"name\":\"click1\",\"properties\":[{\"name\":\"terminal_output\",\"kind\":\"Any\",\"default\":\"\"},{\"name\":\"debug_name\",\"kind\":\"Any\",\"default\":\"\"},{\"name\":\"clears\",\"kind\":\"Any\",\"default\":0}]},{\"type\":\"model\",\"name\":\"FastWrapper1\",\"properties\":[{\"name\":\"object\",\"kind\":\"Any\",\"default\":null},{\"name\":\"style\",\"kind\":\"Any\",\"default\":null}]},{\"type\":\"model\",\"name\":\"NotificationAreaBase1\",\"properties\":[{\"name\":\"js_events\",\"kind\":\"Any\",\"default\":{\"type\":\"map\"}},{\"name\":\"position\",\"kind\":\"Any\",\"default\":\"bottom-right\"},{\"name\":\"_clear\",\"kind\":\"Any\",\"default\":0}]},{\"type\":\"model\",\"name\":\"NotificationArea1\",\"properties\":[{\"name\":\"js_events\",\"kind\":\"Any\",\"default\":{\"type\":\"map\"}},{\"name\":\"notifications\",\"kind\":\"Any\",\"default\":[]},{\"name\":\"position\",\"kind\":\"Any\",\"default\":\"bottom-right\"},{\"name\":\"_clear\",\"kind\":\"Any\",\"default\":0},{\"name\":\"types\",\"kind\":\"Any\",\"default\":[{\"type\":\"map\",\"entries\":[[\"type\",\"warning\"],[\"background\",\"#ffc107\"],[\"icon\",{\"type\":\"map\",\"entries\":[[\"className\",\"fas fa-exclamation-triangle\"],[\"tagName\",\"i\"],[\"color\",\"white\"]]}]]},{\"type\":\"map\",\"entries\":[[\"type\",\"info\"],[\"background\",\"#007bff\"],[\"icon\",{\"type\":\"map\",\"entries\":[[\"className\",\"fas fa-info-circle\"],[\"tagName\",\"i\"],[\"color\",\"white\"]]}]]}]}]},{\"type\":\"model\",\"name\":\"Notification\",\"properties\":[{\"name\":\"background\",\"kind\":\"Any\",\"default\":null},{\"name\":\"duration\",\"kind\":\"Any\",\"default\":3000},{\"name\":\"icon\",\"kind\":\"Any\",\"default\":null},{\"name\":\"message\",\"kind\":\"Any\",\"default\":\"\"},{\"name\":\"notification_type\",\"kind\":\"Any\",\"default\":null},{\"name\":\"_destroyed\",\"kind\":\"Any\",\"default\":false}]},{\"type\":\"model\",\"name\":\"TemplateActions1\",\"properties\":[{\"name\":\"open_modal\",\"kind\":\"Any\",\"default\":0},{\"name\":\"close_modal\",\"kind\":\"Any\",\"default\":0}]},{\"type\":\"model\",\"name\":\"BootstrapTemplateActions1\",\"properties\":[{\"name\":\"open_modal\",\"kind\":\"Any\",\"default\":0},{\"name\":\"close_modal\",\"kind\":\"Any\",\"default\":0}]},{\"type\":\"model\",\"name\":\"TemplateEditor1\",\"properties\":[{\"name\":\"layout\",\"kind\":\"Any\",\"default\":[]}]},{\"type\":\"model\",\"name\":\"MaterialTemplateActions1\",\"properties\":[{\"name\":\"open_modal\",\"kind\":\"Any\",\"default\":0},{\"name\":\"close_modal\",\"kind\":\"Any\",\"default\":0}]},{\"type\":\"model\",\"name\":\"copy_to_clipboard1\",\"properties\":[{\"name\":\"fill\",\"kind\":\"Any\",\"default\":\"none\"},{\"name\":\"value\",\"kind\":\"Any\",\"default\":null}]}]}};\n",
       "  var render_items = [{\"docid\":\"5b7c69e7-fef5-41cd-86cb-8f77d5d4748f\",\"roots\":{\"p1198\":\"ef23140d-268e-40b3-a65c-c1450606bdca\"},\"root_ids\":[\"p1198\"]}];\n",
       "  var docs = Object.values(docs_json)\n",
       "  if (!docs) {\n",
       "    return\n",
       "  }\n",
       "  const py_version = docs[0].version.replace('rc', '-rc.').replace('.dev', '-dev.')\n",
       "  async function embed_document(root) {\n",
       "    var Bokeh = get_bokeh(root)\n",
       "    await Bokeh.embed.embed_items_notebook(docs_json, render_items);\n",
       "    for (const render_item of render_items) {\n",
       "      for (const root_id of render_item.root_ids) {\n",
       "\tconst id_el = document.getElementById(root_id)\n",
       "\tif (id_el.children.length && id_el.children[0].hasAttribute('data-root-id')) {\n",
       "\t  const root_el = id_el.children[0]\n",
       "\t  root_el.id = root_el.id + '-rendered'\n",
       "\t  for (const child of root_el.children) {\n",
       "            // Ensure JupyterLab does not capture keyboard shortcuts\n",
       "            // see: https://jupyterlab.readthedocs.io/en/4.1.x/extension/notebook.html#keyboard-interaction-model\n",
       "\t    child.setAttribute('data-lm-suppress-shortcuts', 'true')\n",
       "\t  }\n",
       "\t}\n",
       "      }\n",
       "    }\n",
       "  }\n",
       "  function get_bokeh(root) {\n",
       "    if (root.Bokeh === undefined) {\n",
       "      return null\n",
       "    } else if (root.Bokeh.version !== py_version) {\n",
       "      if (root.Bokeh.versions === undefined || !root.Bokeh.versions.has(py_version)) {\n",
       "\treturn null\n",
       "      }\n",
       "      return root.Bokeh.versions.get(py_version);\n",
       "    } else if (root.Bokeh.version === py_version) {\n",
       "      return root.Bokeh\n",
       "    }\n",
       "    return null\n",
       "  }\n",
       "  function is_loaded(root) {\n",
       "    var Bokeh = get_bokeh(root)\n",
       "    return (Bokeh != null && Bokeh.Panel !== undefined)\n",
       "  }\n",
       "  if (is_loaded(root)) {\n",
       "    embed_document(root);\n",
       "  } else {\n",
       "    var attempts = 0;\n",
       "    var timer = setInterval(function(root) {\n",
       "      if (is_loaded(root)) {\n",
       "        clearInterval(timer);\n",
       "        embed_document(root);\n",
       "      } else if (document.readyState == \"complete\") {\n",
       "        attempts++;\n",
       "        if (attempts > 200) {\n",
       "          clearInterval(timer);\n",
       "\t  var Bokeh = get_bokeh(root)\n",
       "\t  if (Bokeh == null || Bokeh.Panel == null) {\n",
       "            console.warn(\"Panel: ERROR: Unable to run Panel code because Bokeh or Panel library is missing\");\n",
       "\t  } else {\n",
       "\t    console.warn(\"Panel: WARNING: Attempting to render but not all required libraries could be resolved.\")\n",
       "\t    embed_document(root)\n",
       "\t  }\n",
       "        }\n",
       "      }\n",
       "    }, 25, root)\n",
       "  }\n",
       "})(window);</script>"
      ],
      "text/plain": [
       ":Histogram   [pt_d]   (pt_d_count)"
      ]
     },
     "execution_count": 10,
     "metadata": {
      "application/vnd.holoviews_exec.v0+json": {
       "id": "p1198"
      }
     },
     "output_type": "execute_result"
    }
   ],
   "source": [
    "ad_data.select(pl.col(\"pt_d\")).collect().plot.hist(bins = 100)"
   ]
  },
  {
   "cell_type": "code",
   "execution_count": 11,
   "id": "47d369bb-3260-4d05-b6c1-c8b4646cc125",
   "metadata": {},
   "outputs": [
    {
     "data": {},
     "metadata": {},
     "output_type": "display_data"
    },
    {
     "data": {
      "application/vnd.holoviews_exec.v0+json": "",
      "text/html": [
       "<div id='p1276'>\n",
       "  <div id=\"d11835b9-1c15-4726-9c49-495cc68ffa8e\" data-root-id=\"p1276\" style=\"display: contents;\"></div>\n",
       "</div>\n",
       "<script type=\"application/javascript\">(function(root) {\n",
       "  var docs_json = {\"af56a6a1-5298-429f-bf96-1c6d01ec45fa\":{\"version\":\"3.4.2\",\"title\":\"Bokeh Application\",\"roots\":[{\"type\":\"object\",\"name\":\"Row\",\"id\":\"p1276\",\"attributes\":{\"name\":\"Row01370\",\"tags\":[\"embedded\"],\"stylesheets\":[\"\\n:host(.pn-loading):before, .pn-loading:before {\\n  background-color: #c3c3c3;\\n  mask-size: auto calc(min(50%, 400px));\\n  -webkit-mask-size: auto calc(min(50%, 400px));\\n}\",{\"type\":\"object\",\"name\":\"ImportedStyleSheet\",\"id\":\"p1279\",\"attributes\":{\"url\":\"https://cdn.holoviz.org/panel/1.4.4/dist/css/loading.css\"}},{\"type\":\"object\",\"name\":\"ImportedStyleSheet\",\"id\":\"p1347\",\"attributes\":{\"url\":\"https://cdn.holoviz.org/panel/1.4.4/dist/css/listpanel.css\"}},{\"type\":\"object\",\"name\":\"ImportedStyleSheet\",\"id\":\"p1277\",\"attributes\":{\"url\":\"https://cdn.holoviz.org/panel/1.4.4/dist/bundled/theme/default.css\"}},{\"type\":\"object\",\"name\":\"ImportedStyleSheet\",\"id\":\"p1278\",\"attributes\":{\"url\":\"https://cdn.holoviz.org/panel/1.4.4/dist/bundled/theme/native.css\"}}],\"min_width\":700,\"margin\":0,\"sizing_mode\":\"stretch_width\",\"align\":\"start\",\"children\":[{\"type\":\"object\",\"name\":\"Spacer\",\"id\":\"p1280\",\"attributes\":{\"name\":\"HSpacer01377\",\"stylesheets\":[\"\\n:host(.pn-loading):before, .pn-loading:before {\\n  background-color: #c3c3c3;\\n  mask-size: auto calc(min(50%, 400px));\\n  -webkit-mask-size: auto calc(min(50%, 400px));\\n}\",{\"id\":\"p1279\"},{\"id\":\"p1277\"},{\"id\":\"p1278\"}],\"margin\":0,\"sizing_mode\":\"stretch_width\",\"align\":\"start\"}},{\"type\":\"object\",\"name\":\"Figure\",\"id\":\"p1288\",\"attributes\":{\"width\":700,\"height\":300,\"margin\":[5,10],\"sizing_mode\":\"fixed\",\"align\":\"start\",\"x_range\":{\"type\":\"object\",\"name\":\"Range1d\",\"id\":\"p1281\",\"attributes\":{\"tags\":[[[\"e_et\",\"e_et\",null]],[]],\"start\":1654189248000.0,\"end\":1654843152000.0,\"reset_start\":1654189248000.0,\"reset_end\":1654843152000.0}},\"y_range\":{\"type\":\"object\",\"name\":\"Range1d\",\"id\":\"p1282\",\"attributes\":{\"tags\":[[[\"e_et_count\",\"Count\",null]],{\"type\":\"map\",\"entries\":[[\"invert_yaxis\",false],[\"autorange\",false]]}],\"end\":91483.7,\"reset_start\":0.0,\"reset_end\":91483.7}},\"x_scale\":{\"type\":\"object\",\"name\":\"LinearScale\",\"id\":\"p1298\"},\"y_scale\":{\"type\":\"object\",\"name\":\"LinearScale\",\"id\":\"p1299\"},\"title\":{\"type\":\"object\",\"name\":\"Title\",\"id\":\"p1291\",\"attributes\":{\"text_color\":\"black\",\"text_font_size\":\"12pt\"}},\"renderers\":[{\"type\":\"object\",\"name\":\"GlyphRenderer\",\"id\":\"p1340\",\"attributes\":{\"data_source\":{\"type\":\"object\",\"name\":\"ColumnDataSource\",\"id\":\"p1331\",\"attributes\":{\"selected\":{\"type\":\"object\",\"name\":\"Selection\",\"id\":\"p1332\",\"attributes\":{\"indices\":[],\"line_indices\":[]}},\"selection_policy\":{\"type\":\"object\",\"name\":\"UnionRenderers\",\"id\":\"p1333\"},\"data\":{\"type\":\"map\",\"entries\":[[\"top\",{\"type\":\"ndarray\",\"array\":{\"type\":\"bytes\",\"data\":\"V1UAABUcAACvDgAApWAAACCoAADsGAAAWaMAAIKTAAA+TwAAGsUAAKi4AAD5WgAAZ8sAAFEHAQBtNwAA1ioAAJkbAAAbHwAAXY8AALetAAAjWwAA6NoAAETFAAA0dQAA+6QAADOzAAAcyQAATsEAANvSAADKIwAAmxMAAJgqAABRZgAAF34AAIavAACzlwAASnwAANzLAAD+qQAA6KMAAEy4AACYBQEAanoAAGlNAADFGAAATQsAABFgAABFpAAAwksAAGJ1AACCjQAAzScAAO8+AAA/2gAA1FcAAEnJAADDBwEAzzAAAE4lAABtGAAAICAAAFiaAABLpgAALo8AAO6bAAD9UAAAw1wAAKmqAACPpwAAonAAAOZFAQAbmwAAERwAAK8VAAD0KgAAAU4AANKgAAB7uQAAlmwAAPeNAADcfQAA0b0AAB0qAAALigAAoxoBADu5AACZRQAAphYAAKMMAACfXQAAAIgAALVhAABoiwAAG4kAAPRXAACaoAAADpQAAPhyAABEIAEA2u4AAA==\"},\"shape\":[100],\"dtype\":\"int32\",\"order\":\"little\"}],[\"left\",{\"type\":\"ndarray\",\"array\":{\"type\":\"bytes\",\"data\":\"AACiam4SeEIAAAspdBJ4QgAAdOd5EnhCAADdpX8SeEIAAEZkhRJ4QgAAryKLEnhCAAAY4ZASeEIAAIGflhJ4QgAA6l2cEnhCAABTHKISeEIAALzapxJ4QgAAJZmtEnhCAACOV7MSeEIAAPcVuRJ4QgAAYNS+EnhCAADJksQSeEIAADJRyhJ4QgAAmw/QEnhCAAAEztUSeEIAAG2M2xJ4QgAA1krhEnhCAAA/CecSeEIAAKjH7BJ4QgAAEYbyEnhCAAB6RPgSeEIAAOMC/hJ4QgAATMEDE3hCAAC1fwkTeEIAAB4+DxN4QgAAh/wUE3hCAADwuhoTeEIAAFl5IBN4QgAAwjcmE3hCAAAr9isTeEIAAJS0MRN4QgAA/XI3E3hCAABmMT0TeEIAAM/vQhN4QgAAOK5IE3hCAAChbE4TeEIAAAorVBN4QgAAc+lZE3hCAADcp18TeEIAAEVmZRN4QgAAriRrE3hCAAAX43ATeEIAAIChdhN4QgAA6V98E3hCAABSHoITeEIAALvchxN4QgAAJJuNE3hCAACNWZMTeEIAAPYXmRN4QgAAX9aeE3hCAADIlKQTeEIAADFTqhN4QgAAmhGwE3hCAAAD0LUTeEIAAGyOuxN4QgAA1UzBE3hCAAA+C8cTeEIAAKfJzBN4QgAAEIjSE3hCAAB5RtgTeEIAAOIE3hN4QgAAS8PjE3hCAAC0gekTeEIAAB1A7xN4QgAAhv70E3hCAADvvPoTeEIAAFh7ABR4QgAAwTkGFHhCAAAq+AsUeEIAAJO2ERR4QgAA/HQXFHhCAABlMx0UeEIAAM7xIhR4QgAAN7AoFHhCAACgbi4UeEIAAAktNBR4QgAAcus5FHhCAADbqT8UeEIAAERoRRR4QgAArSZLFHhCAAAW5VAUeEIAAH+jVhR4QgAA6GFcFHhCAABRIGIUeEIAALreZxR4QgAAI51tFHhCAACMW3MUeEIAAPUZeRR4QgAAXth+FHhCAADHloQUeEIAADBVihR4QgAAmROQFHhCAAAC0pUUeEIAAGuQmxR4QgAA1E6hFHhCAAA9DacUeEI=\"},\"shape\":[100],\"dtype\":\"float64\",\"order\":\"little\"}],[\"right\",{\"type\":\"ndarray\",\"array\":{\"type\":\"bytes\",\"data\":\"AAALKXQSeEIAAHTneRJ4QgAA3aV/EnhCAABGZIUSeEIAAK8iixJ4QgAAGOGQEnhCAACBn5YSeEIAAOpdnBJ4QgAAUxyiEnhCAAC82qcSeEIAACWZrRJ4QgAAjlezEnhCAAD3FbkSeEIAAGDUvhJ4QgAAyZLEEnhCAAAyUcoSeEIAAJsP0BJ4QgAABM7VEnhCAABtjNsSeEIAANZK4RJ4QgAAPwnnEnhCAACox+wSeEIAABGG8hJ4QgAAekT4EnhCAADjAv4SeEIAAEzBAxN4QgAAtX8JE3hCAAAePg8TeEIAAIf8FBN4QgAA8LoaE3hCAABZeSATeEIAAMI3JhN4QgAAK/YrE3hCAACUtDETeEIAAP1yNxN4QgAAZjE9E3hCAADP70ITeEIAADiuSBN4QgAAoWxOE3hCAAAKK1QTeEIAAHPpWRN4QgAA3KdfE3hCAABFZmUTeEIAAK4kaxN4QgAAF+NwE3hCAACAoXYTeEIAAOlffBN4QgAAUh6CE3hCAAC73IcTeEIAACSbjRN4QgAAjVmTE3hCAAD2F5kTeEIAAF/WnhN4QgAAyJSkE3hCAAAxU6oTeEIAAJoRsBN4QgAAA9C1E3hCAABsjrsTeEIAANVMwRN4QgAAPgvHE3hCAACnycwTeEIAABCI0hN4QgAAeUbYE3hCAADiBN4TeEIAAEvD4xN4QgAAtIHpE3hCAAAdQO8TeEIAAIb+9BN4QgAA77z6E3hCAABYewAUeEIAAME5BhR4QgAAKvgLFHhCAACTthEUeEIAAPx0FxR4QgAAZTMdFHhCAADO8SIUeEIAADewKBR4QgAAoG4uFHhCAAAJLTQUeEIAAHLrORR4QgAA26k/FHhCAABEaEUUeEIAAK0mSxR4QgAAFuVQFHhCAAB/o1YUeEIAAOhhXBR4QgAAUSBiFHhCAAC63mcUeEIAACOdbRR4QgAAjFtzFHhCAAD1GXkUeEIAAF7YfhR4QgAAx5aEFHhCAAAwVYoUeEIAAJkTkBR4QgAAAtKVFHhCAABrkJsUeEIAANROoRR4QgAAPQ2nFHhCAACmy6wUeEI=\"},\"shape\":[100],\"dtype\":\"float64\",\"order\":\"little\"}],[\"e_et\",{\"type\":\"ndarray\",\"array\":{\"type\":\"bytes\",\"data\":\"AIDWSXESeEIAgD8IdxJ4QgCAqMZ8EnhCAIARhYISeEIAgHpDiBJ4QgCA4wGOEnhCAIBMwJMSeEIAgLV+mRJ4QgCAHj2fEnhCAICH+6QSeEIAgPC5qhJ4QgCAWXiwEnhCAIDCNrYSeEIAgCv1uxJ4QgCAlLPBEnhCAID9cccSeEIAgGYwzRJ4QgCAz+7SEnhCAIA4rdgSeEIAgKFr3hJ4QgCACirkEnhCAIBz6OkSeEIAgNym7xJ4QgCARWX1EnhCAICuI/sSeEIAgBfiABN4QgCAgKAGE3hCAIDpXgwTeEIAgFIdEhN4QgCAu9sXE3hCAIAkmh0TeEIAgI1YIxN4QgCA9hYpE3hCAIBf1S4TeEIAgMiTNBN4QgCAMVI6E3hCAICaEEATeEIAgAPPRRN4QgCAbI1LE3hCAIDVS1ETeEIAgD4KVxN4QgCAp8hcE3hCAIAQh2ITeEIAgHlFaBN4QgCA4gNuE3hCAIBLwnMTeEIAgLSAeRN4QgCAHT9/E3hCAICG/YQTeEIAgO+7ihN4QgCAWHqQE3hCAIDBOJYTeEIAgCr3mxN4QgCAk7WhE3hCAID8c6cTeEIAgGUyrRN4QgCAzvCyE3hCAIA3r7gTeEIAgKBtvhN4QgCACSzEE3hCAIBy6skTeEIAgNuozxN4QgCARGfVE3hCAICtJdsTeEIAgBbk4BN4QgCAf6LmE3hCAIDoYOwTeEIAgFEf8hN4QgCAut33E3hCAIAjnP0TeEIAgIxaAxR4QgCA9RgJFHhCAIBe1w4UeEIAgMeVFBR4QgCAMFQaFHhCAICZEiAUeEIAgALRJRR4QgCAa48rFHhCAIDUTTEUeEIAgD0MNxR4QgCApso8FHhCAIAPiUIUeEIAgHhHSBR4QgCA4QVOFHhCAIBKxFMUeEIAgLOCWRR4QgCAHEFfFHhCAICF/2QUeEIAgO69ahR4QgCAV3xwFHhCAIDAOnYUeEIAgCn5exR4QgCAkreBFHhCAID7dYcUeEIAgGQ0jRR4QgCAzfKSFHhCAIA2sZgUeEIAgJ9vnhR4QgCACC6kFHhCAIBx7KkUeEI=\"},\"shape\":[100],\"dtype\":\"float64\",\"order\":\"little\"}],[\"e_et_count\",{\"type\":\"ndarray\",\"array\":{\"type\":\"bytes\",\"data\":\"V1UAABUcAACvDgAApWAAACCoAADsGAAAWaMAAIKTAAA+TwAAGsUAAKi4AAD5WgAAZ8sAAFEHAQBtNwAA1ioAAJkbAAAbHwAAXY8AALetAAAjWwAA6NoAAETFAAA0dQAA+6QAADOzAAAcyQAATsEAANvSAADKIwAAmxMAAJgqAABRZgAAF34AAIavAACzlwAASnwAANzLAAD+qQAA6KMAAEy4AACYBQEAanoAAGlNAADFGAAATQsAABFgAABFpAAAwksAAGJ1AACCjQAAzScAAO8+AAA/2gAA1FcAAEnJAADDBwEAzzAAAE4lAABtGAAAICAAAFiaAABLpgAALo8AAO6bAAD9UAAAw1wAAKmqAACPpwAAonAAAOZFAQAbmwAAERwAAK8VAAD0KgAAAU4AANKgAAB7uQAAlmwAAPeNAADcfQAA0b0AAB0qAAALigAAoxoBADu5AACZRQAAphYAAKMMAACfXQAAAIgAALVhAABoiwAAG4kAAPRXAACaoAAADpQAAPhyAABEIAEA2u4AAA==\"},\"shape\":[100],\"dtype\":\"int32\",\"order\":\"little\"}]]}}},\"view\":{\"type\":\"object\",\"name\":\"CDSView\",\"id\":\"p1341\",\"attributes\":{\"filter\":{\"type\":\"object\",\"name\":\"AllIndices\",\"id\":\"p1342\"}}},\"glyph\":{\"type\":\"object\",\"name\":\"Quad\",\"id\":\"p1337\",\"attributes\":{\"tags\":[\"apply_ranges\"],\"left\":{\"type\":\"field\",\"field\":\"left\"},\"right\":{\"type\":\"field\",\"field\":\"right\"},\"bottom\":{\"type\":\"value\",\"value\":0},\"top\":{\"type\":\"field\",\"field\":\"top\"},\"fill_color\":{\"type\":\"value\",\"value\":\"#30a2da\"},\"hatch_color\":{\"type\":\"value\",\"value\":\"#30a2da\"}}},\"selection_glyph\":{\"type\":\"object\",\"name\":\"Quad\",\"id\":\"p1343\",\"attributes\":{\"tags\":[\"apply_ranges\"],\"left\":{\"type\":\"field\",\"field\":\"left\"},\"right\":{\"type\":\"field\",\"field\":\"right\"},\"bottom\":{\"type\":\"value\",\"value\":0},\"top\":{\"type\":\"field\",\"field\":\"top\"},\"line_color\":{\"type\":\"value\",\"value\":\"black\"},\"line_alpha\":{\"type\":\"value\",\"value\":1.0},\"line_width\":{\"type\":\"value\",\"value\":1},\"line_join\":{\"type\":\"value\",\"value\":\"bevel\"},\"line_cap\":{\"type\":\"value\",\"value\":\"butt\"},\"line_dash\":{\"type\":\"value\",\"value\":[]},\"line_dash_offset\":{\"type\":\"value\",\"value\":0},\"fill_color\":{\"type\":\"value\",\"value\":\"#30a2da\"},\"fill_alpha\":{\"type\":\"value\",\"value\":1.0},\"hatch_color\":{\"type\":\"value\",\"value\":\"#30a2da\"},\"hatch_alpha\":{\"type\":\"value\",\"value\":1.0},\"hatch_scale\":{\"type\":\"value\",\"value\":12.0},\"hatch_pattern\":{\"type\":\"value\",\"value\":null},\"hatch_weight\":{\"type\":\"value\",\"value\":1.0}}},\"nonselection_glyph\":{\"type\":\"object\",\"name\":\"Quad\",\"id\":\"p1338\",\"attributes\":{\"tags\":[\"apply_ranges\"],\"left\":{\"type\":\"field\",\"field\":\"left\"},\"right\":{\"type\":\"field\",\"field\":\"right\"},\"bottom\":{\"type\":\"value\",\"value\":0},\"top\":{\"type\":\"field\",\"field\":\"top\"},\"line_alpha\":{\"type\":\"value\",\"value\":0.1},\"fill_color\":{\"type\":\"value\",\"value\":\"#30a2da\"},\"fill_alpha\":{\"type\":\"value\",\"value\":0.1},\"hatch_color\":{\"type\":\"value\",\"value\":\"#30a2da\"},\"hatch_alpha\":{\"type\":\"value\",\"value\":0.1}}},\"muted_glyph\":{\"type\":\"object\",\"name\":\"Quad\",\"id\":\"p1339\",\"attributes\":{\"tags\":[\"apply_ranges\"],\"left\":{\"type\":\"field\",\"field\":\"left\"},\"right\":{\"type\":\"field\",\"field\":\"right\"},\"bottom\":{\"type\":\"value\",\"value\":0},\"top\":{\"type\":\"field\",\"field\":\"top\"},\"line_alpha\":{\"type\":\"value\",\"value\":0.2},\"fill_color\":{\"type\":\"value\",\"value\":\"#30a2da\"},\"fill_alpha\":{\"type\":\"value\",\"value\":0.2},\"hatch_color\":{\"type\":\"value\",\"value\":\"#30a2da\"},\"hatch_alpha\":{\"type\":\"value\",\"value\":0.2}}}}}],\"toolbar\":{\"type\":\"object\",\"name\":\"Toolbar\",\"id\":\"p1297\",\"attributes\":{\"tools\":[{\"type\":\"object\",\"name\":\"WheelZoomTool\",\"id\":\"p1286\",\"attributes\":{\"tags\":[\"hv_created\"],\"renderers\":\"auto\",\"zoom_together\":\"none\"}},{\"type\":\"object\",\"name\":\"HoverTool\",\"id\":\"p1287\",\"attributes\":{\"tags\":[\"hv_created\"],\"renderers\":[{\"id\":\"p1340\"}],\"tooltips\":[[\"e_et\",\"@{e_et}{%F %T}\"],[\"Count\",\"@{e_et_count}\"]],\"formatters\":{\"type\":\"map\",\"entries\":[[\"@{left}\",\"datetime\"],[\"@{right}\",\"datetime\"],[\"@{e_et}\",\"datetime\"]]}}},{\"type\":\"object\",\"name\":\"SaveTool\",\"id\":\"p1322\"},{\"type\":\"object\",\"name\":\"PanTool\",\"id\":\"p1323\"},{\"type\":\"object\",\"name\":\"BoxZoomTool\",\"id\":\"p1324\",\"attributes\":{\"overlay\":{\"type\":\"object\",\"name\":\"BoxAnnotation\",\"id\":\"p1325\",\"attributes\":{\"syncable\":false,\"level\":\"overlay\",\"visible\":false,\"left\":{\"type\":\"number\",\"value\":\"nan\"},\"right\":{\"type\":\"number\",\"value\":\"nan\"},\"top\":{\"type\":\"number\",\"value\":\"nan\"},\"bottom\":{\"type\":\"number\",\"value\":\"nan\"},\"left_units\":\"canvas\",\"right_units\":\"canvas\",\"top_units\":\"canvas\",\"bottom_units\":\"canvas\",\"line_color\":\"black\",\"line_alpha\":1.0,\"line_width\":2,\"line_dash\":[4,4],\"fill_color\":\"lightgrey\",\"fill_alpha\":0.5}}}},{\"type\":\"object\",\"name\":\"ResetTool\",\"id\":\"p1330\"}],\"active_drag\":{\"id\":\"p1323\"},\"active_scroll\":{\"id\":\"p1286\"}}},\"left\":[{\"type\":\"object\",\"name\":\"LinearAxis\",\"id\":\"p1317\",\"attributes\":{\"ticker\":{\"type\":\"object\",\"name\":\"BasicTicker\",\"id\":\"p1318\",\"attributes\":{\"mantissas\":[1,2,5]}},\"formatter\":{\"type\":\"object\",\"name\":\"BasicTickFormatter\",\"id\":\"p1319\"},\"axis_label\":\"\",\"major_label_policy\":{\"type\":\"object\",\"name\":\"AllLabels\",\"id\":\"p1320\"}}}],\"below\":[{\"type\":\"object\",\"name\":\"DatetimeAxis\",\"id\":\"p1300\",\"attributes\":{\"ticker\":{\"type\":\"object\",\"name\":\"DatetimeTicker\",\"id\":\"p1301\",\"attributes\":{\"num_minor_ticks\":5,\"tickers\":[{\"type\":\"object\",\"name\":\"AdaptiveTicker\",\"id\":\"p1302\",\"attributes\":{\"num_minor_ticks\":0,\"mantissas\":[1,2,5],\"max_interval\":500.0}},{\"type\":\"object\",\"name\":\"AdaptiveTicker\",\"id\":\"p1303\",\"attributes\":{\"num_minor_ticks\":0,\"base\":60,\"mantissas\":[1,2,5,10,15,20,30],\"min_interval\":1000.0,\"max_interval\":1800000.0}},{\"type\":\"object\",\"name\":\"AdaptiveTicker\",\"id\":\"p1304\",\"attributes\":{\"num_minor_ticks\":0,\"base\":24,\"mantissas\":[1,2,4,6,8,12],\"min_interval\":3600000.0,\"max_interval\":43200000.0}},{\"type\":\"object\",\"name\":\"DaysTicker\",\"id\":\"p1305\",\"attributes\":{\"days\":[1,2,3,4,5,6,7,8,9,10,11,12,13,14,15,16,17,18,19,20,21,22,23,24,25,26,27,28,29,30,31]}},{\"type\":\"object\",\"name\":\"DaysTicker\",\"id\":\"p1306\",\"attributes\":{\"days\":[1,4,7,10,13,16,19,22,25,28]}},{\"type\":\"object\",\"name\":\"DaysTicker\",\"id\":\"p1307\",\"attributes\":{\"days\":[1,8,15,22]}},{\"type\":\"object\",\"name\":\"DaysTicker\",\"id\":\"p1308\",\"attributes\":{\"days\":[1,15]}},{\"type\":\"object\",\"name\":\"MonthsTicker\",\"id\":\"p1309\",\"attributes\":{\"months\":[0,1,2,3,4,5,6,7,8,9,10,11]}},{\"type\":\"object\",\"name\":\"MonthsTicker\",\"id\":\"p1310\",\"attributes\":{\"months\":[0,2,4,6,8,10]}},{\"type\":\"object\",\"name\":\"MonthsTicker\",\"id\":\"p1311\",\"attributes\":{\"months\":[0,4,8]}},{\"type\":\"object\",\"name\":\"MonthsTicker\",\"id\":\"p1312\",\"attributes\":{\"months\":[0,6]}},{\"type\":\"object\",\"name\":\"YearsTicker\",\"id\":\"p1313\"}]}},\"formatter\":{\"type\":\"object\",\"name\":\"DatetimeTickFormatter\",\"id\":\"p1314\"},\"axis_label\":\"e_et\",\"major_label_policy\":{\"type\":\"object\",\"name\":\"AllLabels\",\"id\":\"p1315\"}}}],\"center\":[{\"type\":\"object\",\"name\":\"Grid\",\"id\":\"p1316\",\"attributes\":{\"axis\":{\"id\":\"p1300\"},\"grid_line_color\":null}},{\"type\":\"object\",\"name\":\"Grid\",\"id\":\"p1321\",\"attributes\":{\"dimension\":1,\"axis\":{\"id\":\"p1317\"},\"grid_line_color\":null}}],\"min_border_top\":10,\"min_border_bottom\":10,\"min_border_left\":10,\"min_border_right\":10,\"output_backend\":\"webgl\"}},{\"type\":\"object\",\"name\":\"Spacer\",\"id\":\"p1345\",\"attributes\":{\"name\":\"HSpacer01378\",\"stylesheets\":[\"\\n:host(.pn-loading):before, .pn-loading:before {\\n  background-color: #c3c3c3;\\n  mask-size: auto calc(min(50%, 400px));\\n  -webkit-mask-size: auto calc(min(50%, 400px));\\n}\",{\"id\":\"p1279\"},{\"id\":\"p1277\"},{\"id\":\"p1278\"}],\"margin\":0,\"sizing_mode\":\"stretch_width\",\"align\":\"start\"}}]}}],\"defs\":[{\"type\":\"model\",\"name\":\"ReactiveHTML1\"},{\"type\":\"model\",\"name\":\"FlexBox1\",\"properties\":[{\"name\":\"align_content\",\"kind\":\"Any\",\"default\":\"flex-start\"},{\"name\":\"align_items\",\"kind\":\"Any\",\"default\":\"flex-start\"},{\"name\":\"flex_direction\",\"kind\":\"Any\",\"default\":\"row\"},{\"name\":\"flex_wrap\",\"kind\":\"Any\",\"default\":\"wrap\"},{\"name\":\"gap\",\"kind\":\"Any\",\"default\":\"\"},{\"name\":\"justify_content\",\"kind\":\"Any\",\"default\":\"flex-start\"}]},{\"type\":\"model\",\"name\":\"FloatPanel1\",\"properties\":[{\"name\":\"config\",\"kind\":\"Any\",\"default\":{\"type\":\"map\"}},{\"name\":\"contained\",\"kind\":\"Any\",\"default\":true},{\"name\":\"position\",\"kind\":\"Any\",\"default\":\"right-top\"},{\"name\":\"offsetx\",\"kind\":\"Any\",\"default\":null},{\"name\":\"offsety\",\"kind\":\"Any\",\"default\":null},{\"name\":\"theme\",\"kind\":\"Any\",\"default\":\"primary\"},{\"name\":\"status\",\"kind\":\"Any\",\"default\":\"normalized\"}]},{\"type\":\"model\",\"name\":\"GridStack1\",\"properties\":[{\"name\":\"mode\",\"kind\":\"Any\",\"default\":\"warn\"},{\"name\":\"ncols\",\"kind\":\"Any\",\"default\":null},{\"name\":\"nrows\",\"kind\":\"Any\",\"default\":null},{\"name\":\"allow_resize\",\"kind\":\"Any\",\"default\":true},{\"name\":\"allow_drag\",\"kind\":\"Any\",\"default\":true},{\"name\":\"state\",\"kind\":\"Any\",\"default\":[]}]},{\"type\":\"model\",\"name\":\"drag1\",\"properties\":[{\"name\":\"slider_width\",\"kind\":\"Any\",\"default\":5},{\"name\":\"slider_color\",\"kind\":\"Any\",\"default\":\"black\"},{\"name\":\"value\",\"kind\":\"Any\",\"default\":50}]},{\"type\":\"model\",\"name\":\"click1\",\"properties\":[{\"name\":\"terminal_output\",\"kind\":\"Any\",\"default\":\"\"},{\"name\":\"debug_name\",\"kind\":\"Any\",\"default\":\"\"},{\"name\":\"clears\",\"kind\":\"Any\",\"default\":0}]},{\"type\":\"model\",\"name\":\"FastWrapper1\",\"properties\":[{\"name\":\"object\",\"kind\":\"Any\",\"default\":null},{\"name\":\"style\",\"kind\":\"Any\",\"default\":null}]},{\"type\":\"model\",\"name\":\"NotificationAreaBase1\",\"properties\":[{\"name\":\"js_events\",\"kind\":\"Any\",\"default\":{\"type\":\"map\"}},{\"name\":\"position\",\"kind\":\"Any\",\"default\":\"bottom-right\"},{\"name\":\"_clear\",\"kind\":\"Any\",\"default\":0}]},{\"type\":\"model\",\"name\":\"NotificationArea1\",\"properties\":[{\"name\":\"js_events\",\"kind\":\"Any\",\"default\":{\"type\":\"map\"}},{\"name\":\"notifications\",\"kind\":\"Any\",\"default\":[]},{\"name\":\"position\",\"kind\":\"Any\",\"default\":\"bottom-right\"},{\"name\":\"_clear\",\"kind\":\"Any\",\"default\":0},{\"name\":\"types\",\"kind\":\"Any\",\"default\":[{\"type\":\"map\",\"entries\":[[\"type\",\"warning\"],[\"background\",\"#ffc107\"],[\"icon\",{\"type\":\"map\",\"entries\":[[\"className\",\"fas fa-exclamation-triangle\"],[\"tagName\",\"i\"],[\"color\",\"white\"]]}]]},{\"type\":\"map\",\"entries\":[[\"type\",\"info\"],[\"background\",\"#007bff\"],[\"icon\",{\"type\":\"map\",\"entries\":[[\"className\",\"fas fa-info-circle\"],[\"tagName\",\"i\"],[\"color\",\"white\"]]}]]}]}]},{\"type\":\"model\",\"name\":\"Notification\",\"properties\":[{\"name\":\"background\",\"kind\":\"Any\",\"default\":null},{\"name\":\"duration\",\"kind\":\"Any\",\"default\":3000},{\"name\":\"icon\",\"kind\":\"Any\",\"default\":null},{\"name\":\"message\",\"kind\":\"Any\",\"default\":\"\"},{\"name\":\"notification_type\",\"kind\":\"Any\",\"default\":null},{\"name\":\"_destroyed\",\"kind\":\"Any\",\"default\":false}]},{\"type\":\"model\",\"name\":\"TemplateActions1\",\"properties\":[{\"name\":\"open_modal\",\"kind\":\"Any\",\"default\":0},{\"name\":\"close_modal\",\"kind\":\"Any\",\"default\":0}]},{\"type\":\"model\",\"name\":\"BootstrapTemplateActions1\",\"properties\":[{\"name\":\"open_modal\",\"kind\":\"Any\",\"default\":0},{\"name\":\"close_modal\",\"kind\":\"Any\",\"default\":0}]},{\"type\":\"model\",\"name\":\"TemplateEditor1\",\"properties\":[{\"name\":\"layout\",\"kind\":\"Any\",\"default\":[]}]},{\"type\":\"model\",\"name\":\"MaterialTemplateActions1\",\"properties\":[{\"name\":\"open_modal\",\"kind\":\"Any\",\"default\":0},{\"name\":\"close_modal\",\"kind\":\"Any\",\"default\":0}]},{\"type\":\"model\",\"name\":\"copy_to_clipboard1\",\"properties\":[{\"name\":\"fill\",\"kind\":\"Any\",\"default\":\"none\"},{\"name\":\"value\",\"kind\":\"Any\",\"default\":null}]}]}};\n",
       "  var render_items = [{\"docid\":\"af56a6a1-5298-429f-bf96-1c6d01ec45fa\",\"roots\":{\"p1276\":\"d11835b9-1c15-4726-9c49-495cc68ffa8e\"},\"root_ids\":[\"p1276\"]}];\n",
       "  var docs = Object.values(docs_json)\n",
       "  if (!docs) {\n",
       "    return\n",
       "  }\n",
       "  const py_version = docs[0].version.replace('rc', '-rc.').replace('.dev', '-dev.')\n",
       "  async function embed_document(root) {\n",
       "    var Bokeh = get_bokeh(root)\n",
       "    await Bokeh.embed.embed_items_notebook(docs_json, render_items);\n",
       "    for (const render_item of render_items) {\n",
       "      for (const root_id of render_item.root_ids) {\n",
       "\tconst id_el = document.getElementById(root_id)\n",
       "\tif (id_el.children.length && id_el.children[0].hasAttribute('data-root-id')) {\n",
       "\t  const root_el = id_el.children[0]\n",
       "\t  root_el.id = root_el.id + '-rendered'\n",
       "\t  for (const child of root_el.children) {\n",
       "            // Ensure JupyterLab does not capture keyboard shortcuts\n",
       "            // see: https://jupyterlab.readthedocs.io/en/4.1.x/extension/notebook.html#keyboard-interaction-model\n",
       "\t    child.setAttribute('data-lm-suppress-shortcuts', 'true')\n",
       "\t  }\n",
       "\t}\n",
       "      }\n",
       "    }\n",
       "  }\n",
       "  function get_bokeh(root) {\n",
       "    if (root.Bokeh === undefined) {\n",
       "      return null\n",
       "    } else if (root.Bokeh.version !== py_version) {\n",
       "      if (root.Bokeh.versions === undefined || !root.Bokeh.versions.has(py_version)) {\n",
       "\treturn null\n",
       "      }\n",
       "      return root.Bokeh.versions.get(py_version);\n",
       "    } else if (root.Bokeh.version === py_version) {\n",
       "      return root.Bokeh\n",
       "    }\n",
       "    return null\n",
       "  }\n",
       "  function is_loaded(root) {\n",
       "    var Bokeh = get_bokeh(root)\n",
       "    return (Bokeh != null && Bokeh.Panel !== undefined)\n",
       "  }\n",
       "  if (is_loaded(root)) {\n",
       "    embed_document(root);\n",
       "  } else {\n",
       "    var attempts = 0;\n",
       "    var timer = setInterval(function(root) {\n",
       "      if (is_loaded(root)) {\n",
       "        clearInterval(timer);\n",
       "        embed_document(root);\n",
       "      } else if (document.readyState == \"complete\") {\n",
       "        attempts++;\n",
       "        if (attempts > 200) {\n",
       "          clearInterval(timer);\n",
       "\t  var Bokeh = get_bokeh(root)\n",
       "\t  if (Bokeh == null || Bokeh.Panel == null) {\n",
       "            console.warn(\"Panel: ERROR: Unable to run Panel code because Bokeh or Panel library is missing\");\n",
       "\t  } else {\n",
       "\t    console.warn(\"Panel: WARNING: Attempting to render but not all required libraries could be resolved.\")\n",
       "\t    embed_document(root)\n",
       "\t  }\n",
       "        }\n",
       "      }\n",
       "    }, 25, root)\n",
       "  }\n",
       "})(window);</script>"
      ],
      "text/plain": [
       ":Histogram   [e_et]   (e_et_count)"
      ]
     },
     "execution_count": 11,
     "metadata": {
      "application/vnd.holoviews_exec.v0+json": {
       "id": "p1276"
      }
     },
     "output_type": "execute_result"
    }
   ],
   "source": [
    "feed_data.select(pl.col(\"e_et\")).collect().plot.hist(bins = 100)"
   ]
  },
  {
   "cell_type": "code",
   "execution_count": 12,
   "id": "207b1e29-ea67-4d7a-a015-55f7951f0ee0",
   "metadata": {},
   "outputs": [],
   "source": [
    "# Time of day\n",
    "time_of_day = ad_data.select(pl.col(\"pt_d\").dt.hour().alias(\"time_of_day\"))"
   ]
  },
  {
   "cell_type": "code",
   "execution_count": 13,
   "id": "1797c1d8-4589-452c-acb6-7fcef9b52e5a",
   "metadata": {},
   "outputs": [
    {
     "data": {
      "text/html": [
       "<div><style>\n",
       ".dataframe > thead > tr,\n",
       ".dataframe > tbody > tr {\n",
       "  text-align: right;\n",
       "  white-space: pre-wrap;\n",
       "}\n",
       "</style>\n",
       "<small>shape: (12, 2)</small><table border=\"1\" class=\"dataframe\"><thead><tr><th>time_of_day</th><th>count</th></tr><tr><td>i8</td><td>u32</td></tr></thead><tbody><tr><td>11</td><td>63</td></tr><tr><td>10</td><td>51</td></tr><tr><td>6</td><td>27</td></tr><tr><td>5</td><td>10</td></tr><tr><td>3</td><td>50</td></tr><tr><td>&hellip;</td><td>&hellip;</td></tr><tr><td>12</td><td>37</td></tr><tr><td>7</td><td>69</td></tr><tr><td>2</td><td>29</td></tr><tr><td>4</td><td>25</td></tr><tr><td>1</td><td>40</td></tr></tbody></table></div>"
      ],
      "text/plain": [
       "shape: (12, 2)\n",
       "┌─────────────┬───────┐\n",
       "│ time_of_day ┆ count │\n",
       "│ ---         ┆ ---   │\n",
       "│ i8          ┆ u32   │\n",
       "╞═════════════╪═══════╡\n",
       "│ 11          ┆ 63    │\n",
       "│ 10          ┆ 51    │\n",
       "│ 6           ┆ 27    │\n",
       "│ 5           ┆ 10    │\n",
       "│ 3           ┆ 50    │\n",
       "│ …           ┆ …     │\n",
       "│ 12          ┆ 37    │\n",
       "│ 7           ┆ 69    │\n",
       "│ 2           ┆ 29    │\n",
       "│ 4           ┆ 25    │\n",
       "│ 1           ┆ 40    │\n",
       "└─────────────┴───────┘"
      ]
     },
     "execution_count": 13,
     "metadata": {},
     "output_type": "execute_result"
    }
   ],
   "source": [
    "time_of_day.select(pl.col(\"time_of_day\").value_counts()).unnest(\"time_of_day\").fetch()"
   ]
  },
  {
   "cell_type": "code",
   "execution_count": 14,
   "id": "ce2c8202-4ebf-4805-ad2b-c3f2f3294fef",
   "metadata": {},
   "outputs": [
    {
     "data": {},
     "metadata": {},
     "output_type": "display_data"
    },
    {
     "data": {
      "application/vnd.holoviews_exec.v0+json": "",
      "text/html": [
       "<div id='p1354'>\n",
       "  <div id=\"cd98037d-9bb8-437d-b9f7-d4edc6938a70\" data-root-id=\"p1354\" style=\"display: contents;\"></div>\n",
       "</div>\n",
       "<script type=\"application/javascript\">(function(root) {\n",
       "  var docs_json = {\"e2cc6e40-6099-484f-a1a4-cb9b657d6be3\":{\"version\":\"3.4.2\",\"title\":\"Bokeh Application\",\"roots\":[{\"type\":\"object\",\"name\":\"Row\",\"id\":\"p1354\",\"attributes\":{\"name\":\"Row01478\",\"tags\":[\"embedded\"],\"stylesheets\":[\"\\n:host(.pn-loading):before, .pn-loading:before {\\n  background-color: #c3c3c3;\\n  mask-size: auto calc(min(50%, 400px));\\n  -webkit-mask-size: auto calc(min(50%, 400px));\\n}\",{\"type\":\"object\",\"name\":\"ImportedStyleSheet\",\"id\":\"p1357\",\"attributes\":{\"url\":\"https://cdn.holoviz.org/panel/1.4.4/dist/css/loading.css\"}},{\"type\":\"object\",\"name\":\"ImportedStyleSheet\",\"id\":\"p1413\",\"attributes\":{\"url\":\"https://cdn.holoviz.org/panel/1.4.4/dist/css/listpanel.css\"}},{\"type\":\"object\",\"name\":\"ImportedStyleSheet\",\"id\":\"p1355\",\"attributes\":{\"url\":\"https://cdn.holoviz.org/panel/1.4.4/dist/bundled/theme/default.css\"}},{\"type\":\"object\",\"name\":\"ImportedStyleSheet\",\"id\":\"p1356\",\"attributes\":{\"url\":\"https://cdn.holoviz.org/panel/1.4.4/dist/bundled/theme/native.css\"}}],\"min_width\":700,\"margin\":0,\"sizing_mode\":\"stretch_width\",\"align\":\"start\",\"children\":[{\"type\":\"object\",\"name\":\"Spacer\",\"id\":\"p1358\",\"attributes\":{\"name\":\"HSpacer01485\",\"stylesheets\":[\"\\n:host(.pn-loading):before, .pn-loading:before {\\n  background-color: #c3c3c3;\\n  mask-size: auto calc(min(50%, 400px));\\n  -webkit-mask-size: auto calc(min(50%, 400px));\\n}\",{\"id\":\"p1357\"},{\"id\":\"p1355\"},{\"id\":\"p1356\"}],\"margin\":0,\"sizing_mode\":\"stretch_width\",\"align\":\"start\"}},{\"type\":\"object\",\"name\":\"Figure\",\"id\":\"p1366\",\"attributes\":{\"width\":700,\"height\":300,\"margin\":[5,10],\"sizing_mode\":\"fixed\",\"align\":\"start\",\"x_range\":{\"type\":\"object\",\"name\":\"Range1d\",\"id\":\"p1359\",\"attributes\":{\"tags\":[[[\"time_of_day\",\"time_of_day\",null]],[]],\"start\":0.5285714285714286,\"end\":12.471428571428572,\"reset_start\":0.5285714285714286,\"reset_end\":12.471428571428572}},\"y_range\":{\"type\":\"object\",\"name\":\"Range1d\",\"id\":\"p1360\",\"attributes\":{\"tags\":[[[\"time_of_day_count\",\"Count\",null]],{\"type\":\"map\",\"entries\":[[\"invert_yaxis\",false],[\"autorange\",false]]}],\"end\":877992.0,\"reset_start\":0.0,\"reset_end\":877992.0}},\"x_scale\":{\"type\":\"object\",\"name\":\"LinearScale\",\"id\":\"p1376\"},\"y_scale\":{\"type\":\"object\",\"name\":\"LinearScale\",\"id\":\"p1377\"},\"title\":{\"type\":\"object\",\"name\":\"Title\",\"id\":\"p1369\",\"attributes\":{\"text_color\":\"black\",\"text_font_size\":\"12pt\"}},\"renderers\":[{\"type\":\"object\",\"name\":\"GlyphRenderer\",\"id\":\"p1406\",\"attributes\":{\"data_source\":{\"type\":\"object\",\"name\":\"ColumnDataSource\",\"id\":\"p1397\",\"attributes\":{\"selected\":{\"type\":\"object\",\"name\":\"Selection\",\"id\":\"p1398\",\"attributes\":{\"indices\":[],\"line_indices\":[]}},\"selection_policy\":{\"type\":\"object\",\"name\":\"UnionRenderers\",\"id\":\"p1399\"},\"data\":{\"type\":\"map\",\"entries\":[[\"top\",{\"type\":\"ndarray\",\"array\":{\"type\":\"bytes\",\"data\":\"txMIAJYlBwCSTwcA8HMHACv5BwB34AkABJ8LAFASDABMMwwAMtQMAJ6WCwCc+AgA\"},\"shape\":[12],\"dtype\":\"int32\",\"order\":\"little\"}],[\"left\",{\"type\":\"ndarray\",\"array\":{\"type\":\"bytes\",\"data\":\"AAAAAAAA8D+qqqqqqqr+P6qqqqqqqgZAAAAAAAAADkCqqqqqqqoSQFVVVVVVVRZAAAAAAAAAGkCqqqqqqqodQKqqqqqqqiBAAAAAAACAIkBVVVVVVVUkQKqqqqqqKiZA\"},\"shape\":[12],\"dtype\":\"float64\",\"order\":\"little\"}],[\"right\",{\"type\":\"ndarray\",\"array\":{\"type\":\"bytes\",\"data\":\"qqqqqqqq/j+qqqqqqqoGQAAAAAAAAA5AqqqqqqqqEkBVVVVVVVUWQAAAAAAAABpAqqqqqqqqHUCqqqqqqqogQAAAAAAAgCJAVVVVVVVVJECqqqqqqiomQAAAAAAAAChA\"},\"shape\":[12],\"dtype\":\"float64\",\"order\":\"little\"}],[\"time_of_day\",{\"type\":\"ndarray\",\"array\":{\"type\":\"bytes\",\"data\":\"VVVVVVVV9z8AAAAAAAADQFVVVVVVVQpAVVVVVVXVEEAAAAAAAIAUQKqqqqqqKhhAVVVVVVXVG0D//////38fQFVVVVVVlSFAqqqqqqpqI0AAAAAAAEAlQFVVVVVVFSdA\"},\"shape\":[12],\"dtype\":\"float64\",\"order\":\"little\"}],[\"time_of_day_count\",{\"type\":\"ndarray\",\"array\":{\"type\":\"bytes\",\"data\":\"txMIAJYlBwCSTwcA8HMHACv5BwB34AkABJ8LAFASDABMMwwAMtQMAJ6WCwCc+AgA\"},\"shape\":[12],\"dtype\":\"int32\",\"order\":\"little\"}]]}}},\"view\":{\"type\":\"object\",\"name\":\"CDSView\",\"id\":\"p1407\",\"attributes\":{\"filter\":{\"type\":\"object\",\"name\":\"AllIndices\",\"id\":\"p1408\"}}},\"glyph\":{\"type\":\"object\",\"name\":\"Quad\",\"id\":\"p1403\",\"attributes\":{\"tags\":[\"apply_ranges\"],\"left\":{\"type\":\"field\",\"field\":\"left\"},\"right\":{\"type\":\"field\",\"field\":\"right\"},\"bottom\":{\"type\":\"value\",\"value\":0},\"top\":{\"type\":\"field\",\"field\":\"top\"},\"fill_color\":{\"type\":\"value\",\"value\":\"#30a2da\"},\"hatch_color\":{\"type\":\"value\",\"value\":\"#30a2da\"}}},\"selection_glyph\":{\"type\":\"object\",\"name\":\"Quad\",\"id\":\"p1409\",\"attributes\":{\"tags\":[\"apply_ranges\"],\"left\":{\"type\":\"field\",\"field\":\"left\"},\"right\":{\"type\":\"field\",\"field\":\"right\"},\"bottom\":{\"type\":\"value\",\"value\":0},\"top\":{\"type\":\"field\",\"field\":\"top\"},\"line_color\":{\"type\":\"value\",\"value\":\"black\"},\"line_alpha\":{\"type\":\"value\",\"value\":1.0},\"line_width\":{\"type\":\"value\",\"value\":1},\"line_join\":{\"type\":\"value\",\"value\":\"bevel\"},\"line_cap\":{\"type\":\"value\",\"value\":\"butt\"},\"line_dash\":{\"type\":\"value\",\"value\":[]},\"line_dash_offset\":{\"type\":\"value\",\"value\":0},\"fill_color\":{\"type\":\"value\",\"value\":\"#30a2da\"},\"fill_alpha\":{\"type\":\"value\",\"value\":1.0},\"hatch_color\":{\"type\":\"value\",\"value\":\"#30a2da\"},\"hatch_alpha\":{\"type\":\"value\",\"value\":1.0},\"hatch_scale\":{\"type\":\"value\",\"value\":12.0},\"hatch_pattern\":{\"type\":\"value\",\"value\":null},\"hatch_weight\":{\"type\":\"value\",\"value\":1.0}}},\"nonselection_glyph\":{\"type\":\"object\",\"name\":\"Quad\",\"id\":\"p1404\",\"attributes\":{\"tags\":[\"apply_ranges\"],\"left\":{\"type\":\"field\",\"field\":\"left\"},\"right\":{\"type\":\"field\",\"field\":\"right\"},\"bottom\":{\"type\":\"value\",\"value\":0},\"top\":{\"type\":\"field\",\"field\":\"top\"},\"line_alpha\":{\"type\":\"value\",\"value\":0.1},\"fill_color\":{\"type\":\"value\",\"value\":\"#30a2da\"},\"fill_alpha\":{\"type\":\"value\",\"value\":0.1},\"hatch_color\":{\"type\":\"value\",\"value\":\"#30a2da\"},\"hatch_alpha\":{\"type\":\"value\",\"value\":0.1}}},\"muted_glyph\":{\"type\":\"object\",\"name\":\"Quad\",\"id\":\"p1405\",\"attributes\":{\"tags\":[\"apply_ranges\"],\"left\":{\"type\":\"field\",\"field\":\"left\"},\"right\":{\"type\":\"field\",\"field\":\"right\"},\"bottom\":{\"type\":\"value\",\"value\":0},\"top\":{\"type\":\"field\",\"field\":\"top\"},\"line_alpha\":{\"type\":\"value\",\"value\":0.2},\"fill_color\":{\"type\":\"value\",\"value\":\"#30a2da\"},\"fill_alpha\":{\"type\":\"value\",\"value\":0.2},\"hatch_color\":{\"type\":\"value\",\"value\":\"#30a2da\"},\"hatch_alpha\":{\"type\":\"value\",\"value\":0.2}}}}}],\"toolbar\":{\"type\":\"object\",\"name\":\"Toolbar\",\"id\":\"p1375\",\"attributes\":{\"tools\":[{\"type\":\"object\",\"name\":\"WheelZoomTool\",\"id\":\"p1364\",\"attributes\":{\"tags\":[\"hv_created\"],\"renderers\":\"auto\",\"zoom_together\":\"none\"}},{\"type\":\"object\",\"name\":\"HoverTool\",\"id\":\"p1365\",\"attributes\":{\"tags\":[\"hv_created\"],\"renderers\":[{\"id\":\"p1406\"}],\"tooltips\":[[\"time_of_day\",\"@{time_of_day}\"],[\"Count\",\"@{time_of_day_count}\"]]}},{\"type\":\"object\",\"name\":\"SaveTool\",\"id\":\"p1388\"},{\"type\":\"object\",\"name\":\"PanTool\",\"id\":\"p1389\"},{\"type\":\"object\",\"name\":\"BoxZoomTool\",\"id\":\"p1390\",\"attributes\":{\"overlay\":{\"type\":\"object\",\"name\":\"BoxAnnotation\",\"id\":\"p1391\",\"attributes\":{\"syncable\":false,\"level\":\"overlay\",\"visible\":false,\"left\":{\"type\":\"number\",\"value\":\"nan\"},\"right\":{\"type\":\"number\",\"value\":\"nan\"},\"top\":{\"type\":\"number\",\"value\":\"nan\"},\"bottom\":{\"type\":\"number\",\"value\":\"nan\"},\"left_units\":\"canvas\",\"right_units\":\"canvas\",\"top_units\":\"canvas\",\"bottom_units\":\"canvas\",\"line_color\":\"black\",\"line_alpha\":1.0,\"line_width\":2,\"line_dash\":[4,4],\"fill_color\":\"lightgrey\",\"fill_alpha\":0.5}}}},{\"type\":\"object\",\"name\":\"ResetTool\",\"id\":\"p1396\"}],\"active_drag\":{\"id\":\"p1389\"},\"active_scroll\":{\"id\":\"p1364\"}}},\"left\":[{\"type\":\"object\",\"name\":\"LinearAxis\",\"id\":\"p1383\",\"attributes\":{\"ticker\":{\"type\":\"object\",\"name\":\"BasicTicker\",\"id\":\"p1384\",\"attributes\":{\"mantissas\":[1,2,5]}},\"formatter\":{\"type\":\"object\",\"name\":\"BasicTickFormatter\",\"id\":\"p1385\"},\"axis_label\":\"\",\"major_label_policy\":{\"type\":\"object\",\"name\":\"AllLabels\",\"id\":\"p1386\"}}}],\"below\":[{\"type\":\"object\",\"name\":\"LinearAxis\",\"id\":\"p1378\",\"attributes\":{\"ticker\":{\"type\":\"object\",\"name\":\"BasicTicker\",\"id\":\"p1379\",\"attributes\":{\"mantissas\":[1,2,5]}},\"formatter\":{\"type\":\"object\",\"name\":\"BasicTickFormatter\",\"id\":\"p1380\"},\"axis_label\":\"time_of_day\",\"major_label_policy\":{\"type\":\"object\",\"name\":\"AllLabels\",\"id\":\"p1381\"}}}],\"center\":[{\"type\":\"object\",\"name\":\"Grid\",\"id\":\"p1382\",\"attributes\":{\"axis\":{\"id\":\"p1378\"},\"grid_line_color\":null}},{\"type\":\"object\",\"name\":\"Grid\",\"id\":\"p1387\",\"attributes\":{\"dimension\":1,\"axis\":{\"id\":\"p1383\"},\"grid_line_color\":null}}],\"min_border_top\":10,\"min_border_bottom\":10,\"min_border_left\":10,\"min_border_right\":10,\"output_backend\":\"webgl\"}},{\"type\":\"object\",\"name\":\"Spacer\",\"id\":\"p1411\",\"attributes\":{\"name\":\"HSpacer01486\",\"stylesheets\":[\"\\n:host(.pn-loading):before, .pn-loading:before {\\n  background-color: #c3c3c3;\\n  mask-size: auto calc(min(50%, 400px));\\n  -webkit-mask-size: auto calc(min(50%, 400px));\\n}\",{\"id\":\"p1357\"},{\"id\":\"p1355\"},{\"id\":\"p1356\"}],\"margin\":0,\"sizing_mode\":\"stretch_width\",\"align\":\"start\"}}]}}],\"defs\":[{\"type\":\"model\",\"name\":\"ReactiveHTML1\"},{\"type\":\"model\",\"name\":\"FlexBox1\",\"properties\":[{\"name\":\"align_content\",\"kind\":\"Any\",\"default\":\"flex-start\"},{\"name\":\"align_items\",\"kind\":\"Any\",\"default\":\"flex-start\"},{\"name\":\"flex_direction\",\"kind\":\"Any\",\"default\":\"row\"},{\"name\":\"flex_wrap\",\"kind\":\"Any\",\"default\":\"wrap\"},{\"name\":\"gap\",\"kind\":\"Any\",\"default\":\"\"},{\"name\":\"justify_content\",\"kind\":\"Any\",\"default\":\"flex-start\"}]},{\"type\":\"model\",\"name\":\"FloatPanel1\",\"properties\":[{\"name\":\"config\",\"kind\":\"Any\",\"default\":{\"type\":\"map\"}},{\"name\":\"contained\",\"kind\":\"Any\",\"default\":true},{\"name\":\"position\",\"kind\":\"Any\",\"default\":\"right-top\"},{\"name\":\"offsetx\",\"kind\":\"Any\",\"default\":null},{\"name\":\"offsety\",\"kind\":\"Any\",\"default\":null},{\"name\":\"theme\",\"kind\":\"Any\",\"default\":\"primary\"},{\"name\":\"status\",\"kind\":\"Any\",\"default\":\"normalized\"}]},{\"type\":\"model\",\"name\":\"GridStack1\",\"properties\":[{\"name\":\"mode\",\"kind\":\"Any\",\"default\":\"warn\"},{\"name\":\"ncols\",\"kind\":\"Any\",\"default\":null},{\"name\":\"nrows\",\"kind\":\"Any\",\"default\":null},{\"name\":\"allow_resize\",\"kind\":\"Any\",\"default\":true},{\"name\":\"allow_drag\",\"kind\":\"Any\",\"default\":true},{\"name\":\"state\",\"kind\":\"Any\",\"default\":[]}]},{\"type\":\"model\",\"name\":\"drag1\",\"properties\":[{\"name\":\"slider_width\",\"kind\":\"Any\",\"default\":5},{\"name\":\"slider_color\",\"kind\":\"Any\",\"default\":\"black\"},{\"name\":\"value\",\"kind\":\"Any\",\"default\":50}]},{\"type\":\"model\",\"name\":\"click1\",\"properties\":[{\"name\":\"terminal_output\",\"kind\":\"Any\",\"default\":\"\"},{\"name\":\"debug_name\",\"kind\":\"Any\",\"default\":\"\"},{\"name\":\"clears\",\"kind\":\"Any\",\"default\":0}]},{\"type\":\"model\",\"name\":\"FastWrapper1\",\"properties\":[{\"name\":\"object\",\"kind\":\"Any\",\"default\":null},{\"name\":\"style\",\"kind\":\"Any\",\"default\":null}]},{\"type\":\"model\",\"name\":\"NotificationAreaBase1\",\"properties\":[{\"name\":\"js_events\",\"kind\":\"Any\",\"default\":{\"type\":\"map\"}},{\"name\":\"position\",\"kind\":\"Any\",\"default\":\"bottom-right\"},{\"name\":\"_clear\",\"kind\":\"Any\",\"default\":0}]},{\"type\":\"model\",\"name\":\"NotificationArea1\",\"properties\":[{\"name\":\"js_events\",\"kind\":\"Any\",\"default\":{\"type\":\"map\"}},{\"name\":\"notifications\",\"kind\":\"Any\",\"default\":[]},{\"name\":\"position\",\"kind\":\"Any\",\"default\":\"bottom-right\"},{\"name\":\"_clear\",\"kind\":\"Any\",\"default\":0},{\"name\":\"types\",\"kind\":\"Any\",\"default\":[{\"type\":\"map\",\"entries\":[[\"type\",\"warning\"],[\"background\",\"#ffc107\"],[\"icon\",{\"type\":\"map\",\"entries\":[[\"className\",\"fas fa-exclamation-triangle\"],[\"tagName\",\"i\"],[\"color\",\"white\"]]}]]},{\"type\":\"map\",\"entries\":[[\"type\",\"info\"],[\"background\",\"#007bff\"],[\"icon\",{\"type\":\"map\",\"entries\":[[\"className\",\"fas fa-info-circle\"],[\"tagName\",\"i\"],[\"color\",\"white\"]]}]]}]}]},{\"type\":\"model\",\"name\":\"Notification\",\"properties\":[{\"name\":\"background\",\"kind\":\"Any\",\"default\":null},{\"name\":\"duration\",\"kind\":\"Any\",\"default\":3000},{\"name\":\"icon\",\"kind\":\"Any\",\"default\":null},{\"name\":\"message\",\"kind\":\"Any\",\"default\":\"\"},{\"name\":\"notification_type\",\"kind\":\"Any\",\"default\":null},{\"name\":\"_destroyed\",\"kind\":\"Any\",\"default\":false}]},{\"type\":\"model\",\"name\":\"TemplateActions1\",\"properties\":[{\"name\":\"open_modal\",\"kind\":\"Any\",\"default\":0},{\"name\":\"close_modal\",\"kind\":\"Any\",\"default\":0}]},{\"type\":\"model\",\"name\":\"BootstrapTemplateActions1\",\"properties\":[{\"name\":\"open_modal\",\"kind\":\"Any\",\"default\":0},{\"name\":\"close_modal\",\"kind\":\"Any\",\"default\":0}]},{\"type\":\"model\",\"name\":\"TemplateEditor1\",\"properties\":[{\"name\":\"layout\",\"kind\":\"Any\",\"default\":[]}]},{\"type\":\"model\",\"name\":\"MaterialTemplateActions1\",\"properties\":[{\"name\":\"open_modal\",\"kind\":\"Any\",\"default\":0},{\"name\":\"close_modal\",\"kind\":\"Any\",\"default\":0}]},{\"type\":\"model\",\"name\":\"copy_to_clipboard1\",\"properties\":[{\"name\":\"fill\",\"kind\":\"Any\",\"default\":\"none\"},{\"name\":\"value\",\"kind\":\"Any\",\"default\":null}]}]}};\n",
       "  var render_items = [{\"docid\":\"e2cc6e40-6099-484f-a1a4-cb9b657d6be3\",\"roots\":{\"p1354\":\"cd98037d-9bb8-437d-b9f7-d4edc6938a70\"},\"root_ids\":[\"p1354\"]}];\n",
       "  var docs = Object.values(docs_json)\n",
       "  if (!docs) {\n",
       "    return\n",
       "  }\n",
       "  const py_version = docs[0].version.replace('rc', '-rc.').replace('.dev', '-dev.')\n",
       "  async function embed_document(root) {\n",
       "    var Bokeh = get_bokeh(root)\n",
       "    await Bokeh.embed.embed_items_notebook(docs_json, render_items);\n",
       "    for (const render_item of render_items) {\n",
       "      for (const root_id of render_item.root_ids) {\n",
       "\tconst id_el = document.getElementById(root_id)\n",
       "\tif (id_el.children.length && id_el.children[0].hasAttribute('data-root-id')) {\n",
       "\t  const root_el = id_el.children[0]\n",
       "\t  root_el.id = root_el.id + '-rendered'\n",
       "\t  for (const child of root_el.children) {\n",
       "            // Ensure JupyterLab does not capture keyboard shortcuts\n",
       "            // see: https://jupyterlab.readthedocs.io/en/4.1.x/extension/notebook.html#keyboard-interaction-model\n",
       "\t    child.setAttribute('data-lm-suppress-shortcuts', 'true')\n",
       "\t  }\n",
       "\t}\n",
       "      }\n",
       "    }\n",
       "  }\n",
       "  function get_bokeh(root) {\n",
       "    if (root.Bokeh === undefined) {\n",
       "      return null\n",
       "    } else if (root.Bokeh.version !== py_version) {\n",
       "      if (root.Bokeh.versions === undefined || !root.Bokeh.versions.has(py_version)) {\n",
       "\treturn null\n",
       "      }\n",
       "      return root.Bokeh.versions.get(py_version);\n",
       "    } else if (root.Bokeh.version === py_version) {\n",
       "      return root.Bokeh\n",
       "    }\n",
       "    return null\n",
       "  }\n",
       "  function is_loaded(root) {\n",
       "    var Bokeh = get_bokeh(root)\n",
       "    return (Bokeh != null && Bokeh.Panel !== undefined)\n",
       "  }\n",
       "  if (is_loaded(root)) {\n",
       "    embed_document(root);\n",
       "  } else {\n",
       "    var attempts = 0;\n",
       "    var timer = setInterval(function(root) {\n",
       "      if (is_loaded(root)) {\n",
       "        clearInterval(timer);\n",
       "        embed_document(root);\n",
       "      } else if (document.readyState == \"complete\") {\n",
       "        attempts++;\n",
       "        if (attempts > 200) {\n",
       "          clearInterval(timer);\n",
       "\t  var Bokeh = get_bokeh(root)\n",
       "\t  if (Bokeh == null || Bokeh.Panel == null) {\n",
       "            console.warn(\"Panel: ERROR: Unable to run Panel code because Bokeh or Panel library is missing\");\n",
       "\t  } else {\n",
       "\t    console.warn(\"Panel: WARNING: Attempting to render but not all required libraries could be resolved.\")\n",
       "\t    embed_document(root)\n",
       "\t  }\n",
       "        }\n",
       "      }\n",
       "    }, 25, root)\n",
       "  }\n",
       "})(window);</script>"
      ],
      "text/plain": [
       ":Histogram   [time_of_day]   (time_of_day_count)"
      ]
     },
     "execution_count": 14,
     "metadata": {
      "application/vnd.holoviews_exec.v0+json": {
       "id": "p1354"
      }
     },
     "output_type": "execute_result"
    }
   ],
   "source": [
    "time_of_day.collect().plot.hist(bins = 12)"
   ]
  },
  {
   "cell_type": "code",
   "execution_count": 15,
   "id": "c554aee0-23fe-4cb5-b313-661f7ac5fdac",
   "metadata": {},
   "outputs": [
    {
     "data": {},
     "metadata": {},
     "output_type": "display_data"
    },
    {
     "data": {
      "application/vnd.holoviews_exec.v0+json": "",
      "text/html": [
       "<div id='p1420'>\n",
       "  <div id=\"cf9a1371-d504-44a5-a170-9eb9996766d0\" data-root-id=\"p1420\" style=\"display: contents;\"></div>\n",
       "</div>\n",
       "<script type=\"application/javascript\">(function(root) {\n",
       "  var docs_json = {\"162dab72-93d5-44f7-84ed-aeff50a6ad37\":{\"version\":\"3.4.2\",\"title\":\"Bokeh Application\",\"roots\":[{\"type\":\"object\",\"name\":\"Row\",\"id\":\"p1420\",\"attributes\":{\"name\":\"Row01586\",\"tags\":[\"embedded\"],\"stylesheets\":[\"\\n:host(.pn-loading):before, .pn-loading:before {\\n  background-color: #c3c3c3;\\n  mask-size: auto calc(min(50%, 400px));\\n  -webkit-mask-size: auto calc(min(50%, 400px));\\n}\",{\"type\":\"object\",\"name\":\"ImportedStyleSheet\",\"id\":\"p1423\",\"attributes\":{\"url\":\"https://cdn.holoviz.org/panel/1.4.4/dist/css/loading.css\"}},{\"type\":\"object\",\"name\":\"ImportedStyleSheet\",\"id\":\"p1479\",\"attributes\":{\"url\":\"https://cdn.holoviz.org/panel/1.4.4/dist/css/listpanel.css\"}},{\"type\":\"object\",\"name\":\"ImportedStyleSheet\",\"id\":\"p1421\",\"attributes\":{\"url\":\"https://cdn.holoviz.org/panel/1.4.4/dist/bundled/theme/default.css\"}},{\"type\":\"object\",\"name\":\"ImportedStyleSheet\",\"id\":\"p1422\",\"attributes\":{\"url\":\"https://cdn.holoviz.org/panel/1.4.4/dist/bundled/theme/native.css\"}}],\"min_width\":700,\"margin\":0,\"sizing_mode\":\"stretch_width\",\"align\":\"start\",\"children\":[{\"type\":\"object\",\"name\":\"Spacer\",\"id\":\"p1424\",\"attributes\":{\"name\":\"HSpacer01593\",\"stylesheets\":[\"\\n:host(.pn-loading):before, .pn-loading:before {\\n  background-color: #c3c3c3;\\n  mask-size: auto calc(min(50%, 400px));\\n  -webkit-mask-size: auto calc(min(50%, 400px));\\n}\",{\"id\":\"p1423\"},{\"id\":\"p1421\"},{\"id\":\"p1422\"}],\"margin\":0,\"sizing_mode\":\"stretch_width\",\"align\":\"start\"}},{\"type\":\"object\",\"name\":\"Figure\",\"id\":\"p1432\",\"attributes\":{\"width\":700,\"height\":300,\"margin\":[5,10],\"sizing_mode\":\"fixed\",\"align\":\"start\",\"x_range\":{\"type\":\"object\",\"name\":\"Range1d\",\"id\":\"p1425\",\"attributes\":{\"tags\":[[[\"e_et\",\"e_et\",null]],[]],\"start\":-0.9857142857142858,\"end\":23.985714285714288,\"reset_start\":-0.9857142857142858,\"reset_end\":23.985714285714288}},\"y_range\":{\"type\":\"object\",\"name\":\"Range1d\",\"id\":\"p1426\",\"attributes\":{\"tags\":[[[\"e_et_count\",\"Count\",null]],{\"type\":\"map\",\"entries\":[[\"invert_yaxis\",false],[\"autorange\",false]]}],\"end\":300570.0,\"reset_start\":0.0,\"reset_end\":300570.0}},\"x_scale\":{\"type\":\"object\",\"name\":\"LinearScale\",\"id\":\"p1442\"},\"y_scale\":{\"type\":\"object\",\"name\":\"LinearScale\",\"id\":\"p1443\"},\"title\":{\"type\":\"object\",\"name\":\"Title\",\"id\":\"p1435\",\"attributes\":{\"text_color\":\"black\",\"text_font_size\":\"12pt\"}},\"renderers\":[{\"type\":\"object\",\"name\":\"GlyphRenderer\",\"id\":\"p1472\",\"attributes\":{\"data_source\":{\"type\":\"object\",\"name\":\"ColumnDataSource\",\"id\":\"p1463\",\"attributes\":{\"selected\":{\"type\":\"object\",\"name\":\"Selection\",\"id\":\"p1464\",\"attributes\":{\"indices\":[],\"line_indices\":[]}},\"selection_policy\":{\"type\":\"object\",\"name\":\"UnionRenderers\",\"id\":\"p1465\"},\"data\":{\"type\":\"map\",\"entries\":[[\"top\",{\"type\":\"ndarray\",\"array\":{\"type\":\"bytes\",\"data\":\"Sm4BAJ+xAACBZgAAi1QAADZcAAAI0AAA1cABAGFTAgBORwIANfkBAOY3AgCsVQIAvoECAHgJAgBEDgIA4w0CAFdMAgDE4QIATy8CADpTAgBvoAIAUNUDAA0zBAAJVgMA\"},\"shape\":[24],\"dtype\":\"int32\",\"order\":\"little\"}],[\"left\",{\"type\":\"ndarray\",\"array\":{\"type\":\"bytes\",\"data\":\"AAAAAAAAAACrqqqqqqruP6uqqqqqqv4/AAAAAAAAB0CrqqqqqqoOQKuqqqqqKhNAAAAAAAAAF0BWVVVVVdUaQKuqqqqqqh5AAAAAAABAIUCrqqqqqiojQFZVVVVVFSVAAAAAAAAAJ0CrqqqqquooQFZVVVVV1SpAAAAAAADALECrqqqqqqouQKuqqqqqSjBAAAAAAABAMUBWVVVVVTUyQKuqqqqqKjNAAAAAAAAgNEBWVVVVVRU1QKuqqqqqCjZA\"},\"shape\":[24],\"dtype\":\"float64\",\"order\":\"little\"}],[\"right\",{\"type\":\"ndarray\",\"array\":{\"type\":\"bytes\",\"data\":\"q6qqqqqq7j+rqqqqqqr+PwAAAAAAAAdAq6qqqqqqDkCrqqqqqioTQAAAAAAAABdAVlVVVVXVGkCrqqqqqqoeQAAAAAAAQCFAq6qqqqoqI0BWVVVVVRUlQAAAAAAAACdAq6qqqqrqKEBWVVVVVdUqQAAAAAAAwCxAq6qqqqqqLkCrqqqqqkowQAAAAAAAQDFAVlVVVVU1MkCrqqqqqiozQAAAAAAAIDRAVlVVVVUVNUCrqqqqqgo2QAAAAAAAADdA\"},\"shape\":[24],\"dtype\":\"float64\",\"order\":\"little\"}],[\"e_et\",{\"type\":\"ndarray\",\"array\":{\"type\":\"bytes\",\"data\":\"q6qqqqqq3j8AAAAAAAD3P6uqqqqqKgNAVlVVVVXVCkAAAAAAAEARQFZVVVVVFRVAq6qqqqrqGEAAAAAAAMAcQKuqqqqqSiBAVlVVVVU1IkAAAAAAACAkQKuqqqqqCiZAVlVVVVX1J0AAAAAAAOApQKuqqqqqyitAVlVVVVW1LUAAAAAAAKAvQFZVVVVVxTBAq6qqqqq6MUAAAAAAALAyQFZVVVVVpTNAq6qqqqqaNEAAAAAAAJA1QFZVVVVVhTZA\"},\"shape\":[24],\"dtype\":\"float64\",\"order\":\"little\"}],[\"e_et_count\",{\"type\":\"ndarray\",\"array\":{\"type\":\"bytes\",\"data\":\"Sm4BAJ+xAACBZgAAi1QAADZcAAAI0AAA1cABAGFTAgBORwIANfkBAOY3AgCsVQIAvoECAHgJAgBEDgIA4w0CAFdMAgDE4QIATy8CADpTAgBvoAIAUNUDAA0zBAAJVgMA\"},\"shape\":[24],\"dtype\":\"int32\",\"order\":\"little\"}]]}}},\"view\":{\"type\":\"object\",\"name\":\"CDSView\",\"id\":\"p1473\",\"attributes\":{\"filter\":{\"type\":\"object\",\"name\":\"AllIndices\",\"id\":\"p1474\"}}},\"glyph\":{\"type\":\"object\",\"name\":\"Quad\",\"id\":\"p1469\",\"attributes\":{\"tags\":[\"apply_ranges\"],\"left\":{\"type\":\"field\",\"field\":\"left\"},\"right\":{\"type\":\"field\",\"field\":\"right\"},\"bottom\":{\"type\":\"value\",\"value\":0},\"top\":{\"type\":\"field\",\"field\":\"top\"},\"fill_color\":{\"type\":\"value\",\"value\":\"#30a2da\"},\"hatch_color\":{\"type\":\"value\",\"value\":\"#30a2da\"}}},\"selection_glyph\":{\"type\":\"object\",\"name\":\"Quad\",\"id\":\"p1475\",\"attributes\":{\"tags\":[\"apply_ranges\"],\"left\":{\"type\":\"field\",\"field\":\"left\"},\"right\":{\"type\":\"field\",\"field\":\"right\"},\"bottom\":{\"type\":\"value\",\"value\":0},\"top\":{\"type\":\"field\",\"field\":\"top\"},\"line_color\":{\"type\":\"value\",\"value\":\"black\"},\"line_alpha\":{\"type\":\"value\",\"value\":1.0},\"line_width\":{\"type\":\"value\",\"value\":1},\"line_join\":{\"type\":\"value\",\"value\":\"bevel\"},\"line_cap\":{\"type\":\"value\",\"value\":\"butt\"},\"line_dash\":{\"type\":\"value\",\"value\":[]},\"line_dash_offset\":{\"type\":\"value\",\"value\":0},\"fill_color\":{\"type\":\"value\",\"value\":\"#30a2da\"},\"fill_alpha\":{\"type\":\"value\",\"value\":1.0},\"hatch_color\":{\"type\":\"value\",\"value\":\"#30a2da\"},\"hatch_alpha\":{\"type\":\"value\",\"value\":1.0},\"hatch_scale\":{\"type\":\"value\",\"value\":12.0},\"hatch_pattern\":{\"type\":\"value\",\"value\":null},\"hatch_weight\":{\"type\":\"value\",\"value\":1.0}}},\"nonselection_glyph\":{\"type\":\"object\",\"name\":\"Quad\",\"id\":\"p1470\",\"attributes\":{\"tags\":[\"apply_ranges\"],\"left\":{\"type\":\"field\",\"field\":\"left\"},\"right\":{\"type\":\"field\",\"field\":\"right\"},\"bottom\":{\"type\":\"value\",\"value\":0},\"top\":{\"type\":\"field\",\"field\":\"top\"},\"line_alpha\":{\"type\":\"value\",\"value\":0.1},\"fill_color\":{\"type\":\"value\",\"value\":\"#30a2da\"},\"fill_alpha\":{\"type\":\"value\",\"value\":0.1},\"hatch_color\":{\"type\":\"value\",\"value\":\"#30a2da\"},\"hatch_alpha\":{\"type\":\"value\",\"value\":0.1}}},\"muted_glyph\":{\"type\":\"object\",\"name\":\"Quad\",\"id\":\"p1471\",\"attributes\":{\"tags\":[\"apply_ranges\"],\"left\":{\"type\":\"field\",\"field\":\"left\"},\"right\":{\"type\":\"field\",\"field\":\"right\"},\"bottom\":{\"type\":\"value\",\"value\":0},\"top\":{\"type\":\"field\",\"field\":\"top\"},\"line_alpha\":{\"type\":\"value\",\"value\":0.2},\"fill_color\":{\"type\":\"value\",\"value\":\"#30a2da\"},\"fill_alpha\":{\"type\":\"value\",\"value\":0.2},\"hatch_color\":{\"type\":\"value\",\"value\":\"#30a2da\"},\"hatch_alpha\":{\"type\":\"value\",\"value\":0.2}}}}}],\"toolbar\":{\"type\":\"object\",\"name\":\"Toolbar\",\"id\":\"p1441\",\"attributes\":{\"tools\":[{\"type\":\"object\",\"name\":\"WheelZoomTool\",\"id\":\"p1430\",\"attributes\":{\"tags\":[\"hv_created\"],\"renderers\":\"auto\",\"zoom_together\":\"none\"}},{\"type\":\"object\",\"name\":\"HoverTool\",\"id\":\"p1431\",\"attributes\":{\"tags\":[\"hv_created\"],\"renderers\":[{\"id\":\"p1472\"}],\"tooltips\":[[\"e_et\",\"@{e_et}\"],[\"Count\",\"@{e_et_count}\"]]}},{\"type\":\"object\",\"name\":\"SaveTool\",\"id\":\"p1454\"},{\"type\":\"object\",\"name\":\"PanTool\",\"id\":\"p1455\"},{\"type\":\"object\",\"name\":\"BoxZoomTool\",\"id\":\"p1456\",\"attributes\":{\"overlay\":{\"type\":\"object\",\"name\":\"BoxAnnotation\",\"id\":\"p1457\",\"attributes\":{\"syncable\":false,\"level\":\"overlay\",\"visible\":false,\"left\":{\"type\":\"number\",\"value\":\"nan\"},\"right\":{\"type\":\"number\",\"value\":\"nan\"},\"top\":{\"type\":\"number\",\"value\":\"nan\"},\"bottom\":{\"type\":\"number\",\"value\":\"nan\"},\"left_units\":\"canvas\",\"right_units\":\"canvas\",\"top_units\":\"canvas\",\"bottom_units\":\"canvas\",\"line_color\":\"black\",\"line_alpha\":1.0,\"line_width\":2,\"line_dash\":[4,4],\"fill_color\":\"lightgrey\",\"fill_alpha\":0.5}}}},{\"type\":\"object\",\"name\":\"ResetTool\",\"id\":\"p1462\"}],\"active_drag\":{\"id\":\"p1455\"},\"active_scroll\":{\"id\":\"p1430\"}}},\"left\":[{\"type\":\"object\",\"name\":\"LinearAxis\",\"id\":\"p1449\",\"attributes\":{\"ticker\":{\"type\":\"object\",\"name\":\"BasicTicker\",\"id\":\"p1450\",\"attributes\":{\"mantissas\":[1,2,5]}},\"formatter\":{\"type\":\"object\",\"name\":\"BasicTickFormatter\",\"id\":\"p1451\"},\"axis_label\":\"\",\"major_label_policy\":{\"type\":\"object\",\"name\":\"AllLabels\",\"id\":\"p1452\"}}}],\"below\":[{\"type\":\"object\",\"name\":\"LinearAxis\",\"id\":\"p1444\",\"attributes\":{\"ticker\":{\"type\":\"object\",\"name\":\"BasicTicker\",\"id\":\"p1445\",\"attributes\":{\"mantissas\":[1,2,5]}},\"formatter\":{\"type\":\"object\",\"name\":\"BasicTickFormatter\",\"id\":\"p1446\"},\"axis_label\":\"e_et\",\"major_label_policy\":{\"type\":\"object\",\"name\":\"AllLabels\",\"id\":\"p1447\"}}}],\"center\":[{\"type\":\"object\",\"name\":\"Grid\",\"id\":\"p1448\",\"attributes\":{\"axis\":{\"id\":\"p1444\"},\"grid_line_color\":null}},{\"type\":\"object\",\"name\":\"Grid\",\"id\":\"p1453\",\"attributes\":{\"dimension\":1,\"axis\":{\"id\":\"p1449\"},\"grid_line_color\":null}}],\"min_border_top\":10,\"min_border_bottom\":10,\"min_border_left\":10,\"min_border_right\":10,\"output_backend\":\"webgl\"}},{\"type\":\"object\",\"name\":\"Spacer\",\"id\":\"p1477\",\"attributes\":{\"name\":\"HSpacer01594\",\"stylesheets\":[\"\\n:host(.pn-loading):before, .pn-loading:before {\\n  background-color: #c3c3c3;\\n  mask-size: auto calc(min(50%, 400px));\\n  -webkit-mask-size: auto calc(min(50%, 400px));\\n}\",{\"id\":\"p1423\"},{\"id\":\"p1421\"},{\"id\":\"p1422\"}],\"margin\":0,\"sizing_mode\":\"stretch_width\",\"align\":\"start\"}}]}}],\"defs\":[{\"type\":\"model\",\"name\":\"ReactiveHTML1\"},{\"type\":\"model\",\"name\":\"FlexBox1\",\"properties\":[{\"name\":\"align_content\",\"kind\":\"Any\",\"default\":\"flex-start\"},{\"name\":\"align_items\",\"kind\":\"Any\",\"default\":\"flex-start\"},{\"name\":\"flex_direction\",\"kind\":\"Any\",\"default\":\"row\"},{\"name\":\"flex_wrap\",\"kind\":\"Any\",\"default\":\"wrap\"},{\"name\":\"gap\",\"kind\":\"Any\",\"default\":\"\"},{\"name\":\"justify_content\",\"kind\":\"Any\",\"default\":\"flex-start\"}]},{\"type\":\"model\",\"name\":\"FloatPanel1\",\"properties\":[{\"name\":\"config\",\"kind\":\"Any\",\"default\":{\"type\":\"map\"}},{\"name\":\"contained\",\"kind\":\"Any\",\"default\":true},{\"name\":\"position\",\"kind\":\"Any\",\"default\":\"right-top\"},{\"name\":\"offsetx\",\"kind\":\"Any\",\"default\":null},{\"name\":\"offsety\",\"kind\":\"Any\",\"default\":null},{\"name\":\"theme\",\"kind\":\"Any\",\"default\":\"primary\"},{\"name\":\"status\",\"kind\":\"Any\",\"default\":\"normalized\"}]},{\"type\":\"model\",\"name\":\"GridStack1\",\"properties\":[{\"name\":\"mode\",\"kind\":\"Any\",\"default\":\"warn\"},{\"name\":\"ncols\",\"kind\":\"Any\",\"default\":null},{\"name\":\"nrows\",\"kind\":\"Any\",\"default\":null},{\"name\":\"allow_resize\",\"kind\":\"Any\",\"default\":true},{\"name\":\"allow_drag\",\"kind\":\"Any\",\"default\":true},{\"name\":\"state\",\"kind\":\"Any\",\"default\":[]}]},{\"type\":\"model\",\"name\":\"drag1\",\"properties\":[{\"name\":\"slider_width\",\"kind\":\"Any\",\"default\":5},{\"name\":\"slider_color\",\"kind\":\"Any\",\"default\":\"black\"},{\"name\":\"value\",\"kind\":\"Any\",\"default\":50}]},{\"type\":\"model\",\"name\":\"click1\",\"properties\":[{\"name\":\"terminal_output\",\"kind\":\"Any\",\"default\":\"\"},{\"name\":\"debug_name\",\"kind\":\"Any\",\"default\":\"\"},{\"name\":\"clears\",\"kind\":\"Any\",\"default\":0}]},{\"type\":\"model\",\"name\":\"FastWrapper1\",\"properties\":[{\"name\":\"object\",\"kind\":\"Any\",\"default\":null},{\"name\":\"style\",\"kind\":\"Any\",\"default\":null}]},{\"type\":\"model\",\"name\":\"NotificationAreaBase1\",\"properties\":[{\"name\":\"js_events\",\"kind\":\"Any\",\"default\":{\"type\":\"map\"}},{\"name\":\"position\",\"kind\":\"Any\",\"default\":\"bottom-right\"},{\"name\":\"_clear\",\"kind\":\"Any\",\"default\":0}]},{\"type\":\"model\",\"name\":\"NotificationArea1\",\"properties\":[{\"name\":\"js_events\",\"kind\":\"Any\",\"default\":{\"type\":\"map\"}},{\"name\":\"notifications\",\"kind\":\"Any\",\"default\":[]},{\"name\":\"position\",\"kind\":\"Any\",\"default\":\"bottom-right\"},{\"name\":\"_clear\",\"kind\":\"Any\",\"default\":0},{\"name\":\"types\",\"kind\":\"Any\",\"default\":[{\"type\":\"map\",\"entries\":[[\"type\",\"warning\"],[\"background\",\"#ffc107\"],[\"icon\",{\"type\":\"map\",\"entries\":[[\"className\",\"fas fa-exclamation-triangle\"],[\"tagName\",\"i\"],[\"color\",\"white\"]]}]]},{\"type\":\"map\",\"entries\":[[\"type\",\"info\"],[\"background\",\"#007bff\"],[\"icon\",{\"type\":\"map\",\"entries\":[[\"className\",\"fas fa-info-circle\"],[\"tagName\",\"i\"],[\"color\",\"white\"]]}]]}]}]},{\"type\":\"model\",\"name\":\"Notification\",\"properties\":[{\"name\":\"background\",\"kind\":\"Any\",\"default\":null},{\"name\":\"duration\",\"kind\":\"Any\",\"default\":3000},{\"name\":\"icon\",\"kind\":\"Any\",\"default\":null},{\"name\":\"message\",\"kind\":\"Any\",\"default\":\"\"},{\"name\":\"notification_type\",\"kind\":\"Any\",\"default\":null},{\"name\":\"_destroyed\",\"kind\":\"Any\",\"default\":false}]},{\"type\":\"model\",\"name\":\"TemplateActions1\",\"properties\":[{\"name\":\"open_modal\",\"kind\":\"Any\",\"default\":0},{\"name\":\"close_modal\",\"kind\":\"Any\",\"default\":0}]},{\"type\":\"model\",\"name\":\"BootstrapTemplateActions1\",\"properties\":[{\"name\":\"open_modal\",\"kind\":\"Any\",\"default\":0},{\"name\":\"close_modal\",\"kind\":\"Any\",\"default\":0}]},{\"type\":\"model\",\"name\":\"TemplateEditor1\",\"properties\":[{\"name\":\"layout\",\"kind\":\"Any\",\"default\":[]}]},{\"type\":\"model\",\"name\":\"MaterialTemplateActions1\",\"properties\":[{\"name\":\"open_modal\",\"kind\":\"Any\",\"default\":0},{\"name\":\"close_modal\",\"kind\":\"Any\",\"default\":0}]},{\"type\":\"model\",\"name\":\"copy_to_clipboard1\",\"properties\":[{\"name\":\"fill\",\"kind\":\"Any\",\"default\":\"none\"},{\"name\":\"value\",\"kind\":\"Any\",\"default\":null}]}]}};\n",
       "  var render_items = [{\"docid\":\"162dab72-93d5-44f7-84ed-aeff50a6ad37\",\"roots\":{\"p1420\":\"cf9a1371-d504-44a5-a170-9eb9996766d0\"},\"root_ids\":[\"p1420\"]}];\n",
       "  var docs = Object.values(docs_json)\n",
       "  if (!docs) {\n",
       "    return\n",
       "  }\n",
       "  const py_version = docs[0].version.replace('rc', '-rc.').replace('.dev', '-dev.')\n",
       "  async function embed_document(root) {\n",
       "    var Bokeh = get_bokeh(root)\n",
       "    await Bokeh.embed.embed_items_notebook(docs_json, render_items);\n",
       "    for (const render_item of render_items) {\n",
       "      for (const root_id of render_item.root_ids) {\n",
       "\tconst id_el = document.getElementById(root_id)\n",
       "\tif (id_el.children.length && id_el.children[0].hasAttribute('data-root-id')) {\n",
       "\t  const root_el = id_el.children[0]\n",
       "\t  root_el.id = root_el.id + '-rendered'\n",
       "\t  for (const child of root_el.children) {\n",
       "            // Ensure JupyterLab does not capture keyboard shortcuts\n",
       "            // see: https://jupyterlab.readthedocs.io/en/4.1.x/extension/notebook.html#keyboard-interaction-model\n",
       "\t    child.setAttribute('data-lm-suppress-shortcuts', 'true')\n",
       "\t  }\n",
       "\t}\n",
       "      }\n",
       "    }\n",
       "  }\n",
       "  function get_bokeh(root) {\n",
       "    if (root.Bokeh === undefined) {\n",
       "      return null\n",
       "    } else if (root.Bokeh.version !== py_version) {\n",
       "      if (root.Bokeh.versions === undefined || !root.Bokeh.versions.has(py_version)) {\n",
       "\treturn null\n",
       "      }\n",
       "      return root.Bokeh.versions.get(py_version);\n",
       "    } else if (root.Bokeh.version === py_version) {\n",
       "      return root.Bokeh\n",
       "    }\n",
       "    return null\n",
       "  }\n",
       "  function is_loaded(root) {\n",
       "    var Bokeh = get_bokeh(root)\n",
       "    return (Bokeh != null && Bokeh.Panel !== undefined)\n",
       "  }\n",
       "  if (is_loaded(root)) {\n",
       "    embed_document(root);\n",
       "  } else {\n",
       "    var attempts = 0;\n",
       "    var timer = setInterval(function(root) {\n",
       "      if (is_loaded(root)) {\n",
       "        clearInterval(timer);\n",
       "        embed_document(root);\n",
       "      } else if (document.readyState == \"complete\") {\n",
       "        attempts++;\n",
       "        if (attempts > 200) {\n",
       "          clearInterval(timer);\n",
       "\t  var Bokeh = get_bokeh(root)\n",
       "\t  if (Bokeh == null || Bokeh.Panel == null) {\n",
       "            console.warn(\"Panel: ERROR: Unable to run Panel code because Bokeh or Panel library is missing\");\n",
       "\t  } else {\n",
       "\t    console.warn(\"Panel: WARNING: Attempting to render but not all required libraries could be resolved.\")\n",
       "\t    embed_document(root)\n",
       "\t  }\n",
       "        }\n",
       "      }\n",
       "    }, 25, root)\n",
       "  }\n",
       "})(window);</script>"
      ],
      "text/plain": [
       ":Histogram   [e_et]   (e_et_count)"
      ]
     },
     "execution_count": 15,
     "metadata": {
      "application/vnd.holoviews_exec.v0+json": {
       "id": "p1420"
      }
     },
     "output_type": "execute_result"
    }
   ],
   "source": [
    "feed_data.select(pl.col(\"e_et\").dt.hour()).collect().plot.hist(bins = 24)"
   ]
  },
  {
   "cell_type": "code",
   "execution_count": 16,
   "id": "a96553e8-b5bd-4074-a40d-09446b556336",
   "metadata": {},
   "outputs": [],
   "source": [
    "feed_data_num = feed_data.select(pl.exclude([pl.List(pl.Float64), pl.List(pl.Int64), pl.String]))"
   ]
  },
  {
   "cell_type": "code",
   "execution_count": 17,
   "id": "d5a318c4-6a39-44c6-93b2-be87a5e02498",
   "metadata": {},
   "outputs": [
    {
     "data": {
      "text/html": [
       "<div><style>\n",
       ".dataframe > thead > tr,\n",
       ".dataframe > tbody > tr {\n",
       "  text-align: right;\n",
       "  white-space: pre-wrap;\n",
       "}\n",
       "</style>\n",
       "<small>shape: (5, 24)</small><table border=\"1\" class=\"dataframe\"><thead><tr><th>user_id</th><th>u_phonePrice</th><th>u_browserLifeCycle</th><th>u_browserMode</th><th>u_feedLifeCycle</th><th>u_refreshTimes</th><th>i_regionEntity</th><th>i_cat</th><th>i_dislikeTimes</th><th>i_upTimes</th><th>i_dtype</th><th>e_ch</th><th>e_m</th><th>e_po</th><th>e_pl</th><th>e_rn</th><th>e_section</th><th>e_et</th><th>label</th><th>cillabel</th><th>pro</th><th>Interested</th><th>Disliked</th><th>InterestedST</th></tr><tr><td>i64</td><td>i64</td><td>i64</td><td>i64</td><td>i64</td><td>i64</td><td>i64</td><td>i64</td><td>i64</td><td>i64</td><td>i64</td><td>i64</td><td>i64</td><td>i64</td><td>i64</td><td>i64</td><td>i64</td><td>datetime[μs]</td><td>i64</td><td>i64</td><td>i64</td><td>bool</td><td>bool</td><td>bool</td></tr></thead><tbody><tr><td>135880</td><td>16</td><td>17</td><td>10</td><td>17</td><td>0</td><td>0</td><td>210</td><td>4</td><td>1</td><td>13</td><td>19</td><td>1217</td><td>1</td><td>561</td><td>2</td><td>0</td><td>2022-06-08 15:21:00</td><td>-1</td><td>-1</td><td>0</td><td>false</td><td>false</td><td>false</td></tr><tr><td>135880</td><td>16</td><td>17</td><td>10</td><td>17</td><td>0</td><td>0</td><td>219</td><td>3</td><td>9</td><td>13</td><td>19</td><td>1217</td><td>9</td><td>561</td><td>1</td><td>0</td><td>2022-06-08 15:21:00</td><td>-1</td><td>-1</td><td>0</td><td>false</td><td>false</td><td>false</td></tr><tr><td>135880</td><td>16</td><td>17</td><td>10</td><td>17</td><td>0</td><td>0</td><td>78</td><td>0</td><td>9</td><td>13</td><td>19</td><td>1217</td><td>18</td><td>561</td><td>1</td><td>0</td><td>2022-06-08 15:21:00</td><td>-1</td><td>-1</td><td>0</td><td>false</td><td>false</td><td>false</td></tr><tr><td>135880</td><td>16</td><td>17</td><td>10</td><td>17</td><td>0</td><td>1718</td><td>168</td><td>0</td><td>3</td><td>13</td><td>19</td><td>1217</td><td>7</td><td>561</td><td>1</td><td>1</td><td>2022-06-08 15:21:00</td><td>-1</td><td>-1</td><td>0</td><td>true</td><td>false</td><td>true</td></tr><tr><td>135880</td><td>16</td><td>17</td><td>10</td><td>17</td><td>0</td><td>0</td><td>50</td><td>9</td><td>9</td><td>13</td><td>19</td><td>1217</td><td>7</td><td>561</td><td>2</td><td>0</td><td>2022-06-08 15:22:00</td><td>-1</td><td>-1</td><td>0</td><td>false</td><td>false</td><td>false</td></tr></tbody></table></div>"
      ],
      "text/plain": [
       "shape: (5, 24)\n",
       "┌─────────┬─────────────┬─────────────┬─────────────┬───┬─────┬────────────┬──────────┬────────────┐\n",
       "│ user_id ┆ u_phonePric ┆ u_browserLi ┆ u_browserMo ┆ … ┆ pro ┆ Interested ┆ Disliked ┆ Interested │\n",
       "│ ---     ┆ e           ┆ feCycle     ┆ de          ┆   ┆ --- ┆ ---        ┆ ---      ┆ ST         │\n",
       "│ i64     ┆ ---         ┆ ---         ┆ ---         ┆   ┆ i64 ┆ bool       ┆ bool     ┆ ---        │\n",
       "│         ┆ i64         ┆ i64         ┆ i64         ┆   ┆     ┆            ┆          ┆ bool       │\n",
       "╞═════════╪═════════════╪═════════════╪═════════════╪═══╪═════╪════════════╪══════════╪════════════╡\n",
       "│ 135880  ┆ 16          ┆ 17          ┆ 10          ┆ … ┆ 0   ┆ false      ┆ false    ┆ false      │\n",
       "│ 135880  ┆ 16          ┆ 17          ┆ 10          ┆ … ┆ 0   ┆ false      ┆ false    ┆ false      │\n",
       "│ 135880  ┆ 16          ┆ 17          ┆ 10          ┆ … ┆ 0   ┆ false      ┆ false    ┆ false      │\n",
       "│ 135880  ┆ 16          ┆ 17          ┆ 10          ┆ … ┆ 0   ┆ true       ┆ false    ┆ true       │\n",
       "│ 135880  ┆ 16          ┆ 17          ┆ 10          ┆ … ┆ 0   ┆ false      ┆ false    ┆ false      │\n",
       "└─────────┴─────────────┴─────────────┴─────────────┴───┴─────┴────────────┴──────────┴────────────┘"
      ]
     },
     "execution_count": 17,
     "metadata": {},
     "output_type": "execute_result"
    }
   ],
   "source": [
    "feed_data_num.head().collect()\n",
    "#pl.List?"
   ]
  },
  {
   "cell_type": "code",
   "execution_count": 18,
   "id": "3ec98b6b-8a78-46b1-a3fd-0fefa3276f6f",
   "metadata": {},
   "outputs": [
    {
     "data": {},
     "metadata": {},
     "output_type": "display_data"
    },
    {
     "data": {
      "application/vnd.holoviews_exec.v0+json": "",
      "text/html": [
       "<div id='p1486'>\n",
       "  <div id=\"b3ce1579-4bd2-4e39-8e9b-548842b4f6f9\" data-root-id=\"p1486\" style=\"display: contents;\"></div>\n",
       "</div>\n",
       "<script type=\"application/javascript\">(function(root) {\n",
       "  var docs_json = {\"50551daa-f393-4b22-975f-2748f12ab3bc\":{\"version\":\"3.4.2\",\"title\":\"Bokeh Application\",\"roots\":[{\"type\":\"object\",\"name\":\"Row\",\"id\":\"p1486\",\"attributes\":{\"name\":\"Row01684\",\"tags\":[\"embedded\"],\"stylesheets\":[\"\\n:host(.pn-loading):before, .pn-loading:before {\\n  background-color: #c3c3c3;\\n  mask-size: auto calc(min(50%, 400px));\\n  -webkit-mask-size: auto calc(min(50%, 400px));\\n}\",{\"type\":\"object\",\"name\":\"ImportedStyleSheet\",\"id\":\"p1489\",\"attributes\":{\"url\":\"https://cdn.holoviz.org/panel/1.4.4/dist/css/loading.css\"}},{\"type\":\"object\",\"name\":\"ImportedStyleSheet\",\"id\":\"p1546\",\"attributes\":{\"url\":\"https://cdn.holoviz.org/panel/1.4.4/dist/css/listpanel.css\"}},{\"type\":\"object\",\"name\":\"ImportedStyleSheet\",\"id\":\"p1487\",\"attributes\":{\"url\":\"https://cdn.holoviz.org/panel/1.4.4/dist/bundled/theme/default.css\"}},{\"type\":\"object\",\"name\":\"ImportedStyleSheet\",\"id\":\"p1488\",\"attributes\":{\"url\":\"https://cdn.holoviz.org/panel/1.4.4/dist/bundled/theme/native.css\"}}],\"min_width\":700,\"margin\":0,\"sizing_mode\":\"stretch_width\",\"align\":\"start\",\"children\":[{\"type\":\"object\",\"name\":\"Spacer\",\"id\":\"p1490\",\"attributes\":{\"name\":\"HSpacer01691\",\"stylesheets\":[\"\\n:host(.pn-loading):before, .pn-loading:before {\\n  background-color: #c3c3c3;\\n  mask-size: auto calc(min(50%, 400px));\\n  -webkit-mask-size: auto calc(min(50%, 400px));\\n}\",{\"id\":\"p1489\"},{\"id\":\"p1487\"},{\"id\":\"p1488\"}],\"margin\":0,\"sizing_mode\":\"stretch_width\",\"align\":\"start\"}},{\"type\":\"object\",\"name\":\"Figure\",\"id\":\"p1498\",\"attributes\":{\"width\":700,\"height\":300,\"margin\":[5,10],\"sizing_mode\":\"fixed\",\"align\":\"start\",\"x_range\":{\"type\":\"object\",\"name\":\"FactorRange\",\"id\":\"p1491\",\"attributes\":{\"tags\":[[[\"index\",\"index\",null],[\"Variable\",\"Variable\",null]],[]],\"factors\":[[\"0\",\"InterestedST\"],[\"0\",\"Disliked\"],[\"0\",\"Interested\"],[\"0\",\"pro\"],[\"0\",\"cillabel\"],[\"0\",\"e_et\"],[\"0\",\"e_section\"],[\"0\",\"e_rn\"],[\"0\",\"e_pl\"],[\"0\",\"e_po\"],[\"0\",\"e_m\"],[\"0\",\"e_ch\"],[\"0\",\"i_dtype\"],[\"0\",\"i_upTimes\"],[\"0\",\"i_dislikeTimes\"],[\"0\",\"i_cat\"],[\"0\",\"i_regionEntity\"],[\"0\",\"u_refreshTimes\"],[\"0\",\"u_feedLifeCycle\"],[\"0\",\"u_browserMode\"],[\"0\",\"u_browserLifeCycle\"],[\"0\",\"u_phonePrice\"],[\"0\",\"user_id\"]]}},\"y_range\":{\"type\":\"object\",\"name\":\"Range1d\",\"id\":\"p1492\",\"attributes\":{\"tags\":[[[\"value\",\"value\",null]],{\"type\":\"map\",\"entries\":[[\"invert_yaxis\",false],[\"autorange\",false]]}],\"start\":-0.16054079254527934,\"end\":0.9858297795366202,\"reset_start\":-0.16054079254527934,\"reset_end\":0.9858297795366202}},\"x_scale\":{\"type\":\"object\",\"name\":\"CategoricalScale\",\"id\":\"p1508\"},\"y_scale\":{\"type\":\"object\",\"name\":\"LinearScale\",\"id\":\"p1509\"},\"title\":{\"type\":\"object\",\"name\":\"Title\",\"id\":\"p1501\",\"attributes\":{\"text_color\":\"black\",\"text_font_size\":\"12pt\"}},\"renderers\":[{\"type\":\"object\",\"name\":\"GlyphRenderer\",\"id\":\"p1539\",\"attributes\":{\"data_source\":{\"type\":\"object\",\"name\":\"ColumnDataSource\",\"id\":\"p1530\",\"attributes\":{\"selected\":{\"type\":\"object\",\"name\":\"Selection\",\"id\":\"p1531\",\"attributes\":{\"indices\":[],\"line_indices\":[]}},\"selection_policy\":{\"type\":\"object\",\"name\":\"UnionRenderers\",\"id\":\"p1532\"},\"data\":{\"type\":\"map\",\"entries\":[[\"xoffsets\",[[\"0\",\"user_id\"],[\"0\",\"u_phonePrice\"],[\"0\",\"u_browserLifeCycle\"],[\"0\",\"u_browserMode\"],[\"0\",\"u_feedLifeCycle\"],[\"0\",\"u_refreshTimes\"],[\"0\",\"i_regionEntity\"],[\"0\",\"i_cat\"],[\"0\",\"i_dislikeTimes\"],[\"0\",\"i_upTimes\"],[\"0\",\"i_dtype\"],[\"0\",\"e_ch\"],[\"0\",\"e_m\"],[\"0\",\"e_po\"],[\"0\",\"e_pl\"],[\"0\",\"e_rn\"],[\"0\",\"e_section\"],[\"0\",\"e_et\"],[\"0\",\"cillabel\"],[\"0\",\"pro\"],[\"0\",\"Interested\"],[\"0\",\"Disliked\"],[\"0\",\"InterestedST\"]]],[\"value\",{\"type\":\"ndarray\",\"array\":{\"type\":\"bytes\",\"data\":\"RpDOO5ThTD8lnwxbSqBcPw+8Cy9eA50/OnLkhQodbj/91RAOO+ujP43pCJvk7ac/uvLLWxXUfb/KR3Yxg/BUP9wQOa78tZE/mfnY3NACmj807omybDRsP4bXzufnq34/MCK+ZxKWXr9s5CLJ0fiVP/9WTrHCJ0I/QDj5U32ksL+y3czlgzcLv8cjkQDWelW/UkSjNkYSoT+aNZsdVH3sP6d5vFtAirE/tjJeiw1vVr9MayGie4GwPw==\"},\"shape\":[23],\"dtype\":\"float64\",\"order\":\"little\"}],[\"index\",[\"0\",\"0\",\"0\",\"0\",\"0\",\"0\",\"0\",\"0\",\"0\",\"0\",\"0\",\"0\",\"0\",\"0\",\"0\",\"0\",\"0\",\"0\",\"0\",\"0\",\"0\",\"0\",\"0\"]],[\"Variable\",[\"user_id\",\"u_phonePrice\",\"u_browserLifeCycle\",\"u_browserMode\",\"u_feedLifeCycle\",\"u_refreshTimes\",\"i_regionEntity\",\"i_cat\",\"i_dislikeTimes\",\"i_upTimes\",\"i_dtype\",\"e_ch\",\"e_m\",\"e_po\",\"e_pl\",\"e_rn\",\"e_section\",\"e_et\",\"cillabel\",\"pro\",\"Interested\",\"Disliked\",\"InterestedST\"]]]}}},\"view\":{\"type\":\"object\",\"name\":\"CDSView\",\"id\":\"p1540\",\"attributes\":{\"filter\":{\"type\":\"object\",\"name\":\"AllIndices\",\"id\":\"p1541\"}}},\"glyph\":{\"type\":\"object\",\"name\":\"VBar\",\"id\":\"p1536\",\"attributes\":{\"tags\":[\"apply_ranges\"],\"x\":{\"type\":\"field\",\"field\":\"xoffsets\"},\"width\":{\"type\":\"value\",\"value\":0.8},\"top\":{\"type\":\"field\",\"field\":\"value\"},\"fill_color\":{\"type\":\"field\",\"field\":\"Variable\",\"transform\":{\"type\":\"object\",\"name\":\"CategoricalColorMapper\",\"id\":\"p1529\",\"attributes\":{\"palette\":[\"#30a2da\",\"#fc4f30\",\"#e5ae38\",\"#6d904f\",\"#8b8b8b\",\"#17becf\",\"#9467bd\",\"#d62728\",\"#1f77b4\",\"#e377c2\",\"#8c564b\",\"#bcbd22\",\"#30a2da\",\"#fc4f30\",\"#e5ae38\",\"#6d904f\",\"#8b8b8b\",\"#17becf\",\"#9467bd\",\"#d62728\",\"#1f77b4\",\"#e377c2\",\"#8c564b\"],\"factors\":[\"user_id\",\"u_phonePrice\",\"u_browserLifeCycle\",\"u_browserMode\",\"u_feedLifeCycle\",\"u_refreshTimes\",\"i_regionEntity\",\"i_cat\",\"i_dislikeTimes\",\"i_upTimes\",\"i_dtype\",\"e_ch\",\"e_m\",\"e_po\",\"e_pl\",\"e_rn\",\"e_section\",\"e_et\",\"cillabel\",\"pro\",\"Interested\",\"Disliked\",\"InterestedST\"]}}},\"hatch_color\":{\"type\":\"field\",\"field\":\"Variable\",\"transform\":{\"id\":\"p1529\"}}}},\"selection_glyph\":{\"type\":\"object\",\"name\":\"VBar\",\"id\":\"p1542\",\"attributes\":{\"tags\":[\"apply_ranges\"],\"x\":{\"type\":\"field\",\"field\":\"xoffsets\"},\"width\":{\"type\":\"value\",\"value\":0.8},\"bottom\":{\"type\":\"value\",\"value\":0},\"top\":{\"type\":\"field\",\"field\":\"value\"},\"line_color\":{\"type\":\"value\",\"value\":\"black\"},\"line_alpha\":{\"type\":\"value\",\"value\":1.0},\"line_width\":{\"type\":\"value\",\"value\":1},\"line_join\":{\"type\":\"value\",\"value\":\"bevel\"},\"line_cap\":{\"type\":\"value\",\"value\":\"butt\"},\"line_dash\":{\"type\":\"value\",\"value\":[]},\"line_dash_offset\":{\"type\":\"value\",\"value\":0},\"fill_color\":{\"type\":\"field\",\"field\":\"Variable\",\"transform\":{\"id\":\"p1529\"}},\"fill_alpha\":{\"type\":\"value\",\"value\":1.0},\"hatch_color\":{\"type\":\"field\",\"field\":\"Variable\",\"transform\":{\"id\":\"p1529\"}},\"hatch_alpha\":{\"type\":\"value\",\"value\":1.0},\"hatch_scale\":{\"type\":\"value\",\"value\":12.0},\"hatch_pattern\":{\"type\":\"value\",\"value\":null},\"hatch_weight\":{\"type\":\"value\",\"value\":1.0}}},\"nonselection_glyph\":{\"type\":\"object\",\"name\":\"VBar\",\"id\":\"p1537\",\"attributes\":{\"tags\":[\"apply_ranges\"],\"x\":{\"type\":\"field\",\"field\":\"xoffsets\"},\"width\":{\"type\":\"value\",\"value\":0.8},\"top\":{\"type\":\"field\",\"field\":\"value\"},\"line_alpha\":{\"type\":\"value\",\"value\":0.1},\"fill_color\":{\"type\":\"field\",\"field\":\"Variable\",\"transform\":{\"id\":\"p1529\"}},\"fill_alpha\":{\"type\":\"value\",\"value\":0.1},\"hatch_color\":{\"type\":\"field\",\"field\":\"Variable\",\"transform\":{\"id\":\"p1529\"}},\"hatch_alpha\":{\"type\":\"value\",\"value\":0.1}}},\"muted_glyph\":{\"type\":\"object\",\"name\":\"VBar\",\"id\":\"p1538\",\"attributes\":{\"tags\":[\"apply_ranges\"],\"x\":{\"type\":\"field\",\"field\":\"xoffsets\"},\"width\":{\"type\":\"value\",\"value\":0.8},\"top\":{\"type\":\"field\",\"field\":\"value\"},\"line_alpha\":{\"type\":\"value\",\"value\":0.2},\"fill_color\":{\"type\":\"field\",\"field\":\"Variable\",\"transform\":{\"id\":\"p1529\"}},\"fill_alpha\":{\"type\":\"value\",\"value\":0.2},\"hatch_color\":{\"type\":\"field\",\"field\":\"Variable\",\"transform\":{\"id\":\"p1529\"}},\"hatch_alpha\":{\"type\":\"value\",\"value\":0.2}}}}}],\"toolbar\":{\"type\":\"object\",\"name\":\"Toolbar\",\"id\":\"p1507\",\"attributes\":{\"tools\":[{\"type\":\"object\",\"name\":\"WheelZoomTool\",\"id\":\"p1496\",\"attributes\":{\"tags\":[\"hv_created\"],\"renderers\":\"auto\",\"zoom_together\":\"none\"}},{\"type\":\"object\",\"name\":\"HoverTool\",\"id\":\"p1497\",\"attributes\":{\"tags\":[\"hv_created\"],\"renderers\":[{\"id\":\"p1539\"}],\"tooltips\":[[\"index\",\"@{index}\"],[\"Variable\",\"@{Variable}\"],[\"value\",\"@{value}\"]]}},{\"type\":\"object\",\"name\":\"SaveTool\",\"id\":\"p1520\"},{\"type\":\"object\",\"name\":\"PanTool\",\"id\":\"p1521\"},{\"type\":\"object\",\"name\":\"BoxZoomTool\",\"id\":\"p1522\",\"attributes\":{\"overlay\":{\"type\":\"object\",\"name\":\"BoxAnnotation\",\"id\":\"p1523\",\"attributes\":{\"syncable\":false,\"level\":\"overlay\",\"visible\":false,\"left\":{\"type\":\"number\",\"value\":\"nan\"},\"right\":{\"type\":\"number\",\"value\":\"nan\"},\"top\":{\"type\":\"number\",\"value\":\"nan\"},\"bottom\":{\"type\":\"number\",\"value\":\"nan\"},\"left_units\":\"canvas\",\"right_units\":\"canvas\",\"top_units\":\"canvas\",\"bottom_units\":\"canvas\",\"line_color\":\"black\",\"line_alpha\":1.0,\"line_width\":2,\"line_dash\":[4,4],\"fill_color\":\"lightgrey\",\"fill_alpha\":0.5}}}},{\"type\":\"object\",\"name\":\"ResetTool\",\"id\":\"p1528\"}],\"active_drag\":{\"id\":\"p1521\"},\"active_scroll\":{\"id\":\"p1496\"}}},\"left\":[{\"type\":\"object\",\"name\":\"LinearAxis\",\"id\":\"p1515\",\"attributes\":{\"ticker\":{\"type\":\"object\",\"name\":\"BasicTicker\",\"id\":\"p1516\",\"attributes\":{\"mantissas\":[1,2,5]}},\"formatter\":{\"type\":\"object\",\"name\":\"BasicTickFormatter\",\"id\":\"p1517\"},\"axis_label\":\"\",\"major_label_policy\":{\"type\":\"object\",\"name\":\"AllLabels\",\"id\":\"p1518\"}}}],\"below\":[{\"type\":\"object\",\"name\":\"CategoricalAxis\",\"id\":\"p1510\",\"attributes\":{\"ticker\":{\"type\":\"object\",\"name\":\"CategoricalTicker\",\"id\":\"p1511\"},\"formatter\":{\"type\":\"object\",\"name\":\"CategoricalTickFormatter\",\"id\":\"p1512\"},\"axis_label\":\"\",\"major_label_policy\":{\"type\":\"object\",\"name\":\"AllLabels\",\"id\":\"p1513\"}}}],\"center\":[{\"type\":\"object\",\"name\":\"Grid\",\"id\":\"p1514\",\"attributes\":{\"axis\":{\"id\":\"p1510\"},\"grid_line_color\":null}},{\"type\":\"object\",\"name\":\"Grid\",\"id\":\"p1519\",\"attributes\":{\"dimension\":1,\"axis\":{\"id\":\"p1515\"},\"grid_line_color\":null}}],\"min_border_top\":10,\"min_border_bottom\":10,\"min_border_left\":10,\"min_border_right\":10,\"output_backend\":\"webgl\"}},{\"type\":\"object\",\"name\":\"Spacer\",\"id\":\"p1544\",\"attributes\":{\"name\":\"HSpacer01692\",\"stylesheets\":[\"\\n:host(.pn-loading):before, .pn-loading:before {\\n  background-color: #c3c3c3;\\n  mask-size: auto calc(min(50%, 400px));\\n  -webkit-mask-size: auto calc(min(50%, 400px));\\n}\",{\"id\":\"p1489\"},{\"id\":\"p1487\"},{\"id\":\"p1488\"}],\"margin\":0,\"sizing_mode\":\"stretch_width\",\"align\":\"start\"}}]}}],\"defs\":[{\"type\":\"model\",\"name\":\"ReactiveHTML1\"},{\"type\":\"model\",\"name\":\"FlexBox1\",\"properties\":[{\"name\":\"align_content\",\"kind\":\"Any\",\"default\":\"flex-start\"},{\"name\":\"align_items\",\"kind\":\"Any\",\"default\":\"flex-start\"},{\"name\":\"flex_direction\",\"kind\":\"Any\",\"default\":\"row\"},{\"name\":\"flex_wrap\",\"kind\":\"Any\",\"default\":\"wrap\"},{\"name\":\"gap\",\"kind\":\"Any\",\"default\":\"\"},{\"name\":\"justify_content\",\"kind\":\"Any\",\"default\":\"flex-start\"}]},{\"type\":\"model\",\"name\":\"FloatPanel1\",\"properties\":[{\"name\":\"config\",\"kind\":\"Any\",\"default\":{\"type\":\"map\"}},{\"name\":\"contained\",\"kind\":\"Any\",\"default\":true},{\"name\":\"position\",\"kind\":\"Any\",\"default\":\"right-top\"},{\"name\":\"offsetx\",\"kind\":\"Any\",\"default\":null},{\"name\":\"offsety\",\"kind\":\"Any\",\"default\":null},{\"name\":\"theme\",\"kind\":\"Any\",\"default\":\"primary\"},{\"name\":\"status\",\"kind\":\"Any\",\"default\":\"normalized\"}]},{\"type\":\"model\",\"name\":\"GridStack1\",\"properties\":[{\"name\":\"mode\",\"kind\":\"Any\",\"default\":\"warn\"},{\"name\":\"ncols\",\"kind\":\"Any\",\"default\":null},{\"name\":\"nrows\",\"kind\":\"Any\",\"default\":null},{\"name\":\"allow_resize\",\"kind\":\"Any\",\"default\":true},{\"name\":\"allow_drag\",\"kind\":\"Any\",\"default\":true},{\"name\":\"state\",\"kind\":\"Any\",\"default\":[]}]},{\"type\":\"model\",\"name\":\"drag1\",\"properties\":[{\"name\":\"slider_width\",\"kind\":\"Any\",\"default\":5},{\"name\":\"slider_color\",\"kind\":\"Any\",\"default\":\"black\"},{\"name\":\"value\",\"kind\":\"Any\",\"default\":50}]},{\"type\":\"model\",\"name\":\"click1\",\"properties\":[{\"name\":\"terminal_output\",\"kind\":\"Any\",\"default\":\"\"},{\"name\":\"debug_name\",\"kind\":\"Any\",\"default\":\"\"},{\"name\":\"clears\",\"kind\":\"Any\",\"default\":0}]},{\"type\":\"model\",\"name\":\"FastWrapper1\",\"properties\":[{\"name\":\"object\",\"kind\":\"Any\",\"default\":null},{\"name\":\"style\",\"kind\":\"Any\",\"default\":null}]},{\"type\":\"model\",\"name\":\"NotificationAreaBase1\",\"properties\":[{\"name\":\"js_events\",\"kind\":\"Any\",\"default\":{\"type\":\"map\"}},{\"name\":\"position\",\"kind\":\"Any\",\"default\":\"bottom-right\"},{\"name\":\"_clear\",\"kind\":\"Any\",\"default\":0}]},{\"type\":\"model\",\"name\":\"NotificationArea1\",\"properties\":[{\"name\":\"js_events\",\"kind\":\"Any\",\"default\":{\"type\":\"map\"}},{\"name\":\"notifications\",\"kind\":\"Any\",\"default\":[]},{\"name\":\"position\",\"kind\":\"Any\",\"default\":\"bottom-right\"},{\"name\":\"_clear\",\"kind\":\"Any\",\"default\":0},{\"name\":\"types\",\"kind\":\"Any\",\"default\":[{\"type\":\"map\",\"entries\":[[\"type\",\"warning\"],[\"background\",\"#ffc107\"],[\"icon\",{\"type\":\"map\",\"entries\":[[\"className\",\"fas fa-exclamation-triangle\"],[\"tagName\",\"i\"],[\"color\",\"white\"]]}]]},{\"type\":\"map\",\"entries\":[[\"type\",\"info\"],[\"background\",\"#007bff\"],[\"icon\",{\"type\":\"map\",\"entries\":[[\"className\",\"fas fa-info-circle\"],[\"tagName\",\"i\"],[\"color\",\"white\"]]}]]}]}]},{\"type\":\"model\",\"name\":\"Notification\",\"properties\":[{\"name\":\"background\",\"kind\":\"Any\",\"default\":null},{\"name\":\"duration\",\"kind\":\"Any\",\"default\":3000},{\"name\":\"icon\",\"kind\":\"Any\",\"default\":null},{\"name\":\"message\",\"kind\":\"Any\",\"default\":\"\"},{\"name\":\"notification_type\",\"kind\":\"Any\",\"default\":null},{\"name\":\"_destroyed\",\"kind\":\"Any\",\"default\":false}]},{\"type\":\"model\",\"name\":\"TemplateActions1\",\"properties\":[{\"name\":\"open_modal\",\"kind\":\"Any\",\"default\":0},{\"name\":\"close_modal\",\"kind\":\"Any\",\"default\":0}]},{\"type\":\"model\",\"name\":\"BootstrapTemplateActions1\",\"properties\":[{\"name\":\"open_modal\",\"kind\":\"Any\",\"default\":0},{\"name\":\"close_modal\",\"kind\":\"Any\",\"default\":0}]},{\"type\":\"model\",\"name\":\"TemplateEditor1\",\"properties\":[{\"name\":\"layout\",\"kind\":\"Any\",\"default\":[]}]},{\"type\":\"model\",\"name\":\"MaterialTemplateActions1\",\"properties\":[{\"name\":\"open_modal\",\"kind\":\"Any\",\"default\":0},{\"name\":\"close_modal\",\"kind\":\"Any\",\"default\":0}]},{\"type\":\"model\",\"name\":\"copy_to_clipboard1\",\"properties\":[{\"name\":\"fill\",\"kind\":\"Any\",\"default\":\"none\"},{\"name\":\"value\",\"kind\":\"Any\",\"default\":null}]}]}};\n",
       "  var render_items = [{\"docid\":\"50551daa-f393-4b22-975f-2748f12ab3bc\",\"roots\":{\"p1486\":\"b3ce1579-4bd2-4e39-8e9b-548842b4f6f9\"},\"root_ids\":[\"p1486\"]}];\n",
       "  var docs = Object.values(docs_json)\n",
       "  if (!docs) {\n",
       "    return\n",
       "  }\n",
       "  const py_version = docs[0].version.replace('rc', '-rc.').replace('.dev', '-dev.')\n",
       "  async function embed_document(root) {\n",
       "    var Bokeh = get_bokeh(root)\n",
       "    await Bokeh.embed.embed_items_notebook(docs_json, render_items);\n",
       "    for (const render_item of render_items) {\n",
       "      for (const root_id of render_item.root_ids) {\n",
       "\tconst id_el = document.getElementById(root_id)\n",
       "\tif (id_el.children.length && id_el.children[0].hasAttribute('data-root-id')) {\n",
       "\t  const root_el = id_el.children[0]\n",
       "\t  root_el.id = root_el.id + '-rendered'\n",
       "\t  for (const child of root_el.children) {\n",
       "            // Ensure JupyterLab does not capture keyboard shortcuts\n",
       "            // see: https://jupyterlab.readthedocs.io/en/4.1.x/extension/notebook.html#keyboard-interaction-model\n",
       "\t    child.setAttribute('data-lm-suppress-shortcuts', 'true')\n",
       "\t  }\n",
       "\t}\n",
       "      }\n",
       "    }\n",
       "  }\n",
       "  function get_bokeh(root) {\n",
       "    if (root.Bokeh === undefined) {\n",
       "      return null\n",
       "    } else if (root.Bokeh.version !== py_version) {\n",
       "      if (root.Bokeh.versions === undefined || !root.Bokeh.versions.has(py_version)) {\n",
       "\treturn null\n",
       "      }\n",
       "      return root.Bokeh.versions.get(py_version);\n",
       "    } else if (root.Bokeh.version === py_version) {\n",
       "      return root.Bokeh\n",
       "    }\n",
       "    return null\n",
       "  }\n",
       "  function is_loaded(root) {\n",
       "    var Bokeh = get_bokeh(root)\n",
       "    return (Bokeh != null && Bokeh.Panel !== undefined)\n",
       "  }\n",
       "  if (is_loaded(root)) {\n",
       "    embed_document(root);\n",
       "  } else {\n",
       "    var attempts = 0;\n",
       "    var timer = setInterval(function(root) {\n",
       "      if (is_loaded(root)) {\n",
       "        clearInterval(timer);\n",
       "        embed_document(root);\n",
       "      } else if (document.readyState == \"complete\") {\n",
       "        attempts++;\n",
       "        if (attempts > 200) {\n",
       "          clearInterval(timer);\n",
       "\t  var Bokeh = get_bokeh(root)\n",
       "\t  if (Bokeh == null || Bokeh.Panel == null) {\n",
       "            console.warn(\"Panel: ERROR: Unable to run Panel code because Bokeh or Panel library is missing\");\n",
       "\t  } else {\n",
       "\t    console.warn(\"Panel: WARNING: Attempting to render but not all required libraries could be resolved.\")\n",
       "\t    embed_document(root)\n",
       "\t  }\n",
       "        }\n",
       "      }\n",
       "    }, 25, root)\n",
       "  }\n",
       "})(window);</script>"
      ],
      "text/plain": [
       ":Bars   [index,Variable]   (value)"
      ]
     },
     "execution_count": 18,
     "metadata": {
      "application/vnd.holoviews_exec.v0+json": {
       "id": "p1486"
      }
     },
     "output_type": "execute_result"
    }
   ],
   "source": [
    "feed_data_num.select(\n",
    "    pl.corr(col_name, \"label\")\n",
    "    for col_name in feed_data_num.columns\n",
    "    if col_name != \"label\"\n",
    ").collect().plot.bar()"
   ]
  },
  {
   "cell_type": "code",
   "execution_count": 19,
   "id": "07ae0bf5-2747-498c-88af-68c294d21942",
   "metadata": {},
   "outputs": [],
   "source": [
    "# This could also be done by using `any` instead of a random choice, using `unique` (if there are multiple, conflicting labels)\n",
    "feed_data_uid_label = feed_data.select(pl.col(\"user_id\"), pl.col(\"label\")).unique(subset = [\"user_id\"])"
   ]
  },
  {
   "cell_type": "code",
   "execution_count": 20,
   "id": "8f33622f-b768-4d7b-8958-105fa7db3d87",
   "metadata": {},
   "outputs": [
    {
     "data": {
      "text/html": [
       "<div><style>\n",
       ".dataframe > thead > tr,\n",
       ".dataframe > tbody > tr {\n",
       "  text-align: right;\n",
       "  white-space: pre-wrap;\n",
       "}\n",
       "</style>\n",
       "<small>shape: (5, 2)</small><table border=\"1\" class=\"dataframe\"><thead><tr><th>user_id</th><th>label</th></tr><tr><td>i64</td><td>i64</td></tr></thead><tbody><tr><td>100409</td><td>1</td></tr><tr><td>199931</td><td>-1</td></tr><tr><td>186432</td><td>-1</td></tr><tr><td>102919</td><td>-1</td></tr><tr><td>245784</td><td>-1</td></tr></tbody></table></div>"
      ],
      "text/plain": [
       "shape: (5, 2)\n",
       "┌─────────┬───────┐\n",
       "│ user_id ┆ label │\n",
       "│ ---     ┆ ---   │\n",
       "│ i64     ┆ i64   │\n",
       "╞═════════╪═══════╡\n",
       "│ 100409  ┆ 1     │\n",
       "│ 199931  ┆ -1    │\n",
       "│ 186432  ┆ -1    │\n",
       "│ 102919  ┆ -1    │\n",
       "│ 245784  ┆ -1    │\n",
       "└─────────┴───────┘"
      ]
     },
     "execution_count": 20,
     "metadata": {},
     "output_type": "execute_result"
    }
   ],
   "source": [
    "feed_data_uid_label.head().collect()"
   ]
  },
  {
   "cell_type": "code",
   "execution_count": 21,
   "id": "0efc3ff7-62cf-470b-af34-a7653f1b1592",
   "metadata": {},
   "outputs": [
    {
     "data": {
      "text/html": [
       "<div><style>\n",
       ".dataframe > thead > tr,\n",
       ".dataframe > tbody > tr {\n",
       "  text-align: right;\n",
       "  white-space: pre-wrap;\n",
       "}\n",
       "</style>\n",
       "<small>shape: (1, 35)</small><table border=\"1\" class=\"dataframe\"><thead><tr><th>log_id</th><th>label</th><th>user_id</th><th>age</th><th>gender</th><th>residence</th><th>city</th><th>city_rank</th><th>series_dev</th><th>series_group</th><th>emui_dev</th><th>device_name</th><th>device_size</th><th>net_type</th><th>task_id</th><th>adv_id</th><th>creat_type_cd</th><th>adv_prim_id</th><th>inter_type_cd</th><th>slot_id</th><th>site_id</th><th>spread_app_id</th><th>hispace_app_tags</th><th>app_second_class</th><th>app_score</th><th>ad_click_list_v001</th><th>ad_click_list_v002</th><th>ad_click_list_v003</th><th>ad_close_list_v001</th><th>ad_close_list_v002</th><th>ad_close_list_v003</th><th>pt_d</th><th>u_newsCatInterestsST</th><th>u_refreshTimes</th><th>u_feedLifeCycle</th></tr><tr><td>u32</td><td>u32</td><td>u32</td><td>u32</td><td>u32</td><td>u32</td><td>u32</td><td>u32</td><td>u32</td><td>u32</td><td>u32</td><td>u32</td><td>u32</td><td>u32</td><td>u32</td><td>u32</td><td>u32</td><td>u32</td><td>u32</td><td>u32</td><td>u32</td><td>u32</td><td>u32</td><td>u32</td><td>u32</td><td>u32</td><td>u32</td><td>u32</td><td>u32</td><td>u32</td><td>u32</td><td>u32</td><td>u32</td><td>u32</td><td>u32</td></tr></thead><tbody><tr><td>7675517</td><td>7675517</td><td>7675517</td><td>7675517</td><td>7675517</td><td>7675517</td><td>7675517</td><td>7675517</td><td>7675517</td><td>7675517</td><td>7675517</td><td>7675517</td><td>7675517</td><td>7675517</td><td>7675517</td><td>7675517</td><td>7675517</td><td>7675517</td><td>7675517</td><td>7675517</td><td>7675517</td><td>7675517</td><td>7675517</td><td>7675517</td><td>7675517</td><td>7675517</td><td>7675517</td><td>7675517</td><td>7675517</td><td>7675517</td><td>7675517</td><td>7675517</td><td>7675517</td><td>7675517</td><td>7675517</td></tr></tbody></table></div>"
      ],
      "text/plain": [
       "shape: (1, 35)\n",
       "┌─────────┬─────────┬─────────┬─────────┬───┬─────────┬──────────────┬──────────────┬──────────────┐\n",
       "│ log_id  ┆ label   ┆ user_id ┆ age     ┆ … ┆ pt_d    ┆ u_newsCatInt ┆ u_refreshTim ┆ u_feedLifeCy │\n",
       "│ ---     ┆ ---     ┆ ---     ┆ ---     ┆   ┆ ---     ┆ erestsST     ┆ es           ┆ cle          │\n",
       "│ u32     ┆ u32     ┆ u32     ┆ u32     ┆   ┆ u32     ┆ ---          ┆ ---          ┆ ---          │\n",
       "│         ┆         ┆         ┆         ┆   ┆         ┆ u32          ┆ u32          ┆ u32          │\n",
       "╞═════════╪═════════╪═════════╪═════════╪═══╪═════════╪══════════════╪══════════════╪══════════════╡\n",
       "│ 7675517 ┆ 7675517 ┆ 7675517 ┆ 7675517 ┆ … ┆ 7675517 ┆ 7675517      ┆ 7675517      ┆ 7675517      │\n",
       "└─────────┴─────────┴─────────┴─────────┴───┴─────────┴──────────────┴──────────────┴──────────────┘"
      ]
     },
     "execution_count": 21,
     "metadata": {},
     "output_type": "execute_result"
    }
   ],
   "source": [
    "ad_data.count().collect()"
   ]
  },
  {
   "cell_type": "code",
   "execution_count": 22,
   "id": "c2d284e6-c7d9-4736-a7eb-20936c0fc764",
   "metadata": {},
   "outputs": [],
   "source": [
    "ad_data_labeled = ad_data.join(feed_data_uid_label, how = \"left\", on = \"user_id\")"
   ]
  },
  {
   "cell_type": "code",
   "execution_count": 23,
   "id": "c7e0db54-c6c8-407a-b362-c2e2ea351ba5",
   "metadata": {},
   "outputs": [
    {
     "data": {
      "text/html": [
       "<div><style>\n",
       ".dataframe > thead > tr,\n",
       ".dataframe > tbody > tr {\n",
       "  text-align: right;\n",
       "  white-space: pre-wrap;\n",
       "}\n",
       "</style>\n",
       "<small>shape: (5, 36)</small><table border=\"1\" class=\"dataframe\"><thead><tr><th>log_id</th><th>label</th><th>user_id</th><th>age</th><th>gender</th><th>residence</th><th>city</th><th>city_rank</th><th>series_dev</th><th>series_group</th><th>emui_dev</th><th>device_name</th><th>device_size</th><th>net_type</th><th>task_id</th><th>adv_id</th><th>creat_type_cd</th><th>adv_prim_id</th><th>inter_type_cd</th><th>slot_id</th><th>site_id</th><th>spread_app_id</th><th>hispace_app_tags</th><th>app_second_class</th><th>app_score</th><th>ad_click_list_v001</th><th>ad_click_list_v002</th><th>ad_click_list_v003</th><th>ad_close_list_v001</th><th>ad_close_list_v002</th><th>ad_close_list_v003</th><th>pt_d</th><th>u_newsCatInterestsST</th><th>u_refreshTimes</th><th>u_feedLifeCycle</th><th>label_right</th></tr><tr><td>i64</td><td>i64</td><td>i64</td><td>i64</td><td>i64</td><td>i64</td><td>i64</td><td>i64</td><td>i64</td><td>i64</td><td>i64</td><td>i64</td><td>i64</td><td>i64</td><td>i64</td><td>i64</td><td>i64</td><td>i64</td><td>i64</td><td>i64</td><td>i64</td><td>i64</td><td>i64</td><td>i64</td><td>f64</td><td>list[i64]</td><td>list[i64]</td><td>list[i64]</td><td>str</td><td>str</td><td>str</td><td>datetime[μs]</td><td>list[i64]</td><td>i64</td><td>i64</td><td>i64</td></tr></thead><tbody><tr><td>373250</td><td>0</td><td>100005</td><td>3</td><td>2</td><td>16</td><td>147</td><td>2</td><td>32</td><td>6</td><td>35</td><td>312</td><td>2117</td><td>7</td><td>14339</td><td>19319</td><td>6</td><td>1846</td><td>4</td><td>46</td><td>1</td><td>162</td><td>47</td><td>14</td><td>10.0</td><td>[30157, 30648, … 31706]</td><td>[2066, 1776, 1036]</td><td>[114, 219, 312]</td><td>&quot;24107&quot;</td><td>&quot;1218&quot;</td><td>&quot;173&quot;</td><td>2022-06-03 03:26:00</td><td>[39, 220, 16]</td><td>0</td><td>15</td><td>-1</td></tr><tr><td>373253</td><td>1</td><td>100005</td><td>3</td><td>2</td><td>16</td><td>147</td><td>2</td><td>32</td><td>6</td><td>35</td><td>312</td><td>2117</td><td>7</td><td>11923</td><td>21714</td><td>8</td><td>1060</td><td>4</td><td>37</td><td>1</td><td>344</td><td>20</td><td>13</td><td>10.0</td><td>[30157, 30648, … 31706]</td><td>[2066, 1776, 1036]</td><td>[114, 219, 312]</td><td>&quot;24107&quot;</td><td>&quot;1218&quot;</td><td>&quot;173&quot;</td><td>2022-06-03 03:26:00</td><td>[39, 220, 16]</td><td>0</td><td>15</td><td>-1</td></tr><tr><td>373252</td><td>1</td><td>100005</td><td>3</td><td>2</td><td>16</td><td>147</td><td>2</td><td>32</td><td>6</td><td>35</td><td>312</td><td>2117</td><td>7</td><td>11923</td><td>21714</td><td>8</td><td>1060</td><td>4</td><td>37</td><td>1</td><td>344</td><td>20</td><td>13</td><td>10.0</td><td>[30157, 30648, … 31706]</td><td>[2066, 1776, 1036]</td><td>[114, 219, 312]</td><td>&quot;24107&quot;</td><td>&quot;1218&quot;</td><td>&quot;173&quot;</td><td>2022-06-03 03:26:00</td><td>[39, 220, 16]</td><td>0</td><td>15</td><td>-1</td></tr><tr><td>373251</td><td>0</td><td>100005</td><td>3</td><td>2</td><td>16</td><td>147</td><td>2</td><td>32</td><td>6</td><td>35</td><td>312</td><td>2117</td><td>7</td><td>28665</td><td>20163</td><td>8</td><td>1542</td><td>4</td><td>47</td><td>1</td><td>152</td><td>49</td><td>17</td><td>10.0</td><td>[30157, 30648, … 31706]</td><td>[2066, 1776, 1036]</td><td>[114, 219, 312]</td><td>&quot;24107&quot;</td><td>&quot;1218&quot;</td><td>&quot;173&quot;</td><td>2022-06-03 03:26:00</td><td>[39, 220, 16]</td><td>0</td><td>15</td><td>-1</td></tr><tr><td>373255</td><td>0</td><td>100005</td><td>3</td><td>2</td><td>16</td><td>147</td><td>2</td><td>32</td><td>6</td><td>35</td><td>312</td><td>2117</td><td>7</td><td>34041</td><td>13608</td><td>8</td><td>1036</td><td>4</td><td>44</td><td>1</td><td>312</td><td>43</td><td>18</td><td>10.0</td><td>[30157, 30648, … 31706]</td><td>[2066, 1776, 1036]</td><td>[114, 219, 312]</td><td>&quot;24107&quot;</td><td>&quot;1218&quot;</td><td>&quot;173&quot;</td><td>2022-06-03 03:28:00</td><td>[39, 220, 16]</td><td>0</td><td>15</td><td>-1</td></tr></tbody></table></div>"
      ],
      "text/plain": [
       "shape: (5, 36)\n",
       "┌────────┬───────┬─────────┬─────┬───┬───────────────┬───────────────┬───────────────┬─────────────┐\n",
       "│ log_id ┆ label ┆ user_id ┆ age ┆ … ┆ u_newsCatInte ┆ u_refreshTime ┆ u_feedLifeCyc ┆ label_right │\n",
       "│ ---    ┆ ---   ┆ ---     ┆ --- ┆   ┆ restsST       ┆ s             ┆ le            ┆ ---         │\n",
       "│ i64    ┆ i64   ┆ i64     ┆ i64 ┆   ┆ ---           ┆ ---           ┆ ---           ┆ i64         │\n",
       "│        ┆       ┆         ┆     ┆   ┆ list[i64]     ┆ i64           ┆ i64           ┆             │\n",
       "╞════════╪═══════╪═════════╪═════╪═══╪═══════════════╪═══════════════╪═══════════════╪═════════════╡\n",
       "│ 373250 ┆ 0     ┆ 100005  ┆ 3   ┆ … ┆ [39, 220, 16] ┆ 0             ┆ 15            ┆ -1          │\n",
       "│ 373253 ┆ 1     ┆ 100005  ┆ 3   ┆ … ┆ [39, 220, 16] ┆ 0             ┆ 15            ┆ -1          │\n",
       "│ 373252 ┆ 1     ┆ 100005  ┆ 3   ┆ … ┆ [39, 220, 16] ┆ 0             ┆ 15            ┆ -1          │\n",
       "│ 373251 ┆ 0     ┆ 100005  ┆ 3   ┆ … ┆ [39, 220, 16] ┆ 0             ┆ 15            ┆ -1          │\n",
       "│ 373255 ┆ 0     ┆ 100005  ┆ 3   ┆ … ┆ [39, 220, 16] ┆ 0             ┆ 15            ┆ -1          │\n",
       "└────────┴───────┴─────────┴─────┴───┴───────────────┴───────────────┴───────────────┴─────────────┘"
      ]
     },
     "execution_count": 23,
     "metadata": {},
     "output_type": "execute_result"
    }
   ],
   "source": [
    "ad_data_labeled.head().collect()"
   ]
  },
  {
   "cell_type": "code",
   "execution_count": 24,
   "id": "ad4c51c4-e602-4ee2-91a1-c10a64927595",
   "metadata": {},
   "outputs": [],
   "source": [
    "ad_data_labeled_num = ad_data_labeled.select(\n",
    "    pl.exclude([pl.List(pl.Float64), pl.List(pl.Int64), pl.String])\n",
    ")"
   ]
  },
  {
   "cell_type": "code",
   "execution_count": 25,
   "id": "b3e26e6c-1700-4174-9834-469cbb5ea592",
   "metadata": {},
   "outputs": [
    {
     "data": {},
     "metadata": {},
     "output_type": "display_data"
    },
    {
     "data": {
      "application/vnd.holoviews_exec.v0+json": "",
      "text/html": [
       "<div id='p1549'>\n",
       "  <div id=\"f387fa4f-16fa-4ae3-bfcc-6e9a1fcbe15e\" data-root-id=\"p1549\" style=\"display: contents;\"></div>\n",
       "</div>\n",
       "<script type=\"application/javascript\">(function(root) {\n",
       "  var docs_json = {\"c6e7e4c4-29a1-40cd-a604-4c8f7319cfa2\":{\"version\":\"3.4.2\",\"title\":\"Bokeh Application\",\"roots\":[{\"type\":\"object\",\"name\":\"Row\",\"id\":\"p1549\",\"attributes\":{\"name\":\"Row02117\",\"tags\":[\"embedded\"],\"stylesheets\":[\"\\n:host(.pn-loading):before, .pn-loading:before {\\n  background-color: #c3c3c3;\\n  mask-size: auto calc(min(50%, 400px));\\n  -webkit-mask-size: auto calc(min(50%, 400px));\\n}\",{\"type\":\"object\",\"name\":\"ImportedStyleSheet\",\"id\":\"p1552\",\"attributes\":{\"url\":\"https://cdn.holoviz.org/panel/1.4.4/dist/css/loading.css\"}},{\"type\":\"object\",\"name\":\"ImportedStyleSheet\",\"id\":\"p1609\",\"attributes\":{\"url\":\"https://cdn.holoviz.org/panel/1.4.4/dist/css/listpanel.css\"}},{\"type\":\"object\",\"name\":\"ImportedStyleSheet\",\"id\":\"p1550\",\"attributes\":{\"url\":\"https://cdn.holoviz.org/panel/1.4.4/dist/bundled/theme/default.css\"}},{\"type\":\"object\",\"name\":\"ImportedStyleSheet\",\"id\":\"p1551\",\"attributes\":{\"url\":\"https://cdn.holoviz.org/panel/1.4.4/dist/bundled/theme/native.css\"}}],\"min_width\":700,\"margin\":0,\"sizing_mode\":\"stretch_width\",\"align\":\"start\",\"children\":[{\"type\":\"object\",\"name\":\"Spacer\",\"id\":\"p1553\",\"attributes\":{\"name\":\"HSpacer02124\",\"stylesheets\":[\"\\n:host(.pn-loading):before, .pn-loading:before {\\n  background-color: #c3c3c3;\\n  mask-size: auto calc(min(50%, 400px));\\n  -webkit-mask-size: auto calc(min(50%, 400px));\\n}\",{\"id\":\"p1552\"},{\"id\":\"p1550\"},{\"id\":\"p1551\"}],\"margin\":0,\"sizing_mode\":\"stretch_width\",\"align\":\"start\"}},{\"type\":\"object\",\"name\":\"Figure\",\"id\":\"p1561\",\"attributes\":{\"width\":700,\"height\":300,\"margin\":[5,10],\"sizing_mode\":\"fixed\",\"align\":\"start\",\"x_range\":{\"type\":\"object\",\"name\":\"FactorRange\",\"id\":\"p1554\",\"attributes\":{\"tags\":[[[\"index\",\"index\",null],[\"Variable\",\"Variable\",null]],[]],\"factors\":[[\"0\",\"u_feedLifeCycle\"],[\"0\",\"u_refreshTimes\"],[\"0\",\"pt_d\"],[\"0\",\"app_score\"],[\"0\",\"app_second_class\"],[\"0\",\"hispace_app_tags\"],[\"0\",\"spread_app_id\"],[\"0\",\"site_id\"],[\"0\",\"slot_id\"],[\"0\",\"inter_type_cd\"],[\"0\",\"adv_prim_id\"],[\"0\",\"creat_type_cd\"],[\"0\",\"adv_id\"],[\"0\",\"task_id\"],[\"0\",\"net_type\"],[\"0\",\"device_size\"],[\"0\",\"device_name\"],[\"0\",\"emui_dev\"],[\"0\",\"series_group\"],[\"0\",\"series_dev\"],[\"0\",\"city_rank\"],[\"0\",\"city\"],[\"0\",\"residence\"],[\"0\",\"gender\"],[\"0\",\"age\"],[\"0\",\"user_id\"],[\"0\",\"label\"],[\"0\",\"log_id\"]]}},\"y_range\":{\"type\":\"object\",\"name\":\"Range1d\",\"id\":\"p1555\",\"attributes\":{\"tags\":[[[\"value\",\"value\",null]],{\"type\":\"map\",\"entries\":[[\"invert_yaxis\",false],[\"autorange\",false]]}],\"start\":-0.01299179223988211,\"end\":0.01496907707729212,\"reset_start\":-0.01299179223988211,\"reset_end\":0.01496907707729212}},\"x_scale\":{\"type\":\"object\",\"name\":\"CategoricalScale\",\"id\":\"p1571\"},\"y_scale\":{\"type\":\"object\",\"name\":\"LinearScale\",\"id\":\"p1572\"},\"title\":{\"type\":\"object\",\"name\":\"Title\",\"id\":\"p1564\",\"attributes\":{\"text_color\":\"black\",\"text_font_size\":\"12pt\"}},\"renderers\":[{\"type\":\"object\",\"name\":\"GlyphRenderer\",\"id\":\"p1602\",\"attributes\":{\"data_source\":{\"type\":\"object\",\"name\":\"ColumnDataSource\",\"id\":\"p1593\",\"attributes\":{\"selected\":{\"type\":\"object\",\"name\":\"Selection\",\"id\":\"p1594\",\"attributes\":{\"indices\":[],\"line_indices\":[]}},\"selection_policy\":{\"type\":\"object\",\"name\":\"UnionRenderers\",\"id\":\"p1595\"},\"data\":{\"type\":\"map\",\"entries\":[[\"xoffsets\",[[\"0\",\"log_id\"],[\"0\",\"label\"],[\"0\",\"user_id\"],[\"0\",\"age\"],[\"0\",\"gender\"],[\"0\",\"residence\"],[\"0\",\"city\"],[\"0\",\"city_rank\"],[\"0\",\"series_dev\"],[\"0\",\"series_group\"],[\"0\",\"emui_dev\"],[\"0\",\"device_name\"],[\"0\",\"device_size\"],[\"0\",\"net_type\"],[\"0\",\"task_id\"],[\"0\",\"adv_id\"],[\"0\",\"creat_type_cd\"],[\"0\",\"adv_prim_id\"],[\"0\",\"inter_type_cd\"],[\"0\",\"slot_id\"],[\"0\",\"site_id\"],[\"0\",\"spread_app_id\"],[\"0\",\"hispace_app_tags\"],[\"0\",\"app_second_class\"],[\"0\",\"app_score\"],[\"0\",\"pt_d\"],[\"0\",\"u_refreshTimes\"],[\"0\",\"u_feedLifeCycle\"]]],[\"value\",{\"type\":\"ndarray\",\"array\":{\"type\":\"bytes\",\"data\":\"evRcNN5qdL8ygnv7DK81v+fvksWCl3W/4g/fJ7Mibz/72KYbVExqv2NU2G0nuXe/Qr+LxAyCfz+DY8C+7VxmP1j0Y0Dg1V6/q8AMQEsthz+jfXZ8euKJPwMT6Kf653w/PB0NftJIdL8tIpBRdpiDP4eFg+f2bTI/2ymFUKTlJb/ph9gAnBNRP650GPsSXk6/EeR3W+YDQr8cO8XOz9WFvwAAAAAAAPh/J9yKwxGAVj85huLSXDVMv3SwsfCgZ2Y/JDo7BssoRD8YR779DCE3v1Cnu0SxPXC/rEeBdsSrQT8=\"},\"shape\":[28],\"dtype\":\"float64\",\"order\":\"little\"}],[\"index\",[\"0\",\"0\",\"0\",\"0\",\"0\",\"0\",\"0\",\"0\",\"0\",\"0\",\"0\",\"0\",\"0\",\"0\",\"0\",\"0\",\"0\",\"0\",\"0\",\"0\",\"0\",\"0\",\"0\",\"0\",\"0\",\"0\",\"0\",\"0\"]],[\"Variable\",[\"log_id\",\"label\",\"user_id\",\"age\",\"gender\",\"residence\",\"city\",\"city_rank\",\"series_dev\",\"series_group\",\"emui_dev\",\"device_name\",\"device_size\",\"net_type\",\"task_id\",\"adv_id\",\"creat_type_cd\",\"adv_prim_id\",\"inter_type_cd\",\"slot_id\",\"site_id\",\"spread_app_id\",\"hispace_app_tags\",\"app_second_class\",\"app_score\",\"pt_d\",\"u_refreshTimes\",\"u_feedLifeCycle\"]]]}}},\"view\":{\"type\":\"object\",\"name\":\"CDSView\",\"id\":\"p1603\",\"attributes\":{\"filter\":{\"type\":\"object\",\"name\":\"AllIndices\",\"id\":\"p1604\"}}},\"glyph\":{\"type\":\"object\",\"name\":\"VBar\",\"id\":\"p1599\",\"attributes\":{\"tags\":[\"apply_ranges\"],\"x\":{\"type\":\"field\",\"field\":\"xoffsets\"},\"width\":{\"type\":\"value\",\"value\":0.8},\"top\":{\"type\":\"field\",\"field\":\"value\"},\"fill_color\":{\"type\":\"field\",\"field\":\"Variable\",\"transform\":{\"type\":\"object\",\"name\":\"CategoricalColorMapper\",\"id\":\"p1592\",\"attributes\":{\"palette\":[\"#30a2da\",\"#fc4f30\",\"#e5ae38\",\"#6d904f\",\"#8b8b8b\",\"#17becf\",\"#9467bd\",\"#d62728\",\"#1f77b4\",\"#e377c2\",\"#8c564b\",\"#bcbd22\",\"#30a2da\",\"#fc4f30\",\"#e5ae38\",\"#6d904f\",\"#8b8b8b\",\"#17becf\",\"#9467bd\",\"#d62728\",\"#1f77b4\",\"#e377c2\",\"#8c564b\",\"#bcbd22\",\"#30a2da\",\"#fc4f30\",\"#e5ae38\",\"#6d904f\"],\"factors\":[\"log_id\",\"label\",\"user_id\",\"age\",\"gender\",\"residence\",\"city\",\"city_rank\",\"series_dev\",\"series_group\",\"emui_dev\",\"device_name\",\"device_size\",\"net_type\",\"task_id\",\"adv_id\",\"creat_type_cd\",\"adv_prim_id\",\"inter_type_cd\",\"slot_id\",\"site_id\",\"spread_app_id\",\"hispace_app_tags\",\"app_second_class\",\"app_score\",\"pt_d\",\"u_refreshTimes\",\"u_feedLifeCycle\"]}}},\"hatch_color\":{\"type\":\"field\",\"field\":\"Variable\",\"transform\":{\"id\":\"p1592\"}}}},\"selection_glyph\":{\"type\":\"object\",\"name\":\"VBar\",\"id\":\"p1605\",\"attributes\":{\"tags\":[\"apply_ranges\"],\"x\":{\"type\":\"field\",\"field\":\"xoffsets\"},\"width\":{\"type\":\"value\",\"value\":0.8},\"bottom\":{\"type\":\"value\",\"value\":0},\"top\":{\"type\":\"field\",\"field\":\"value\"},\"line_color\":{\"type\":\"value\",\"value\":\"black\"},\"line_alpha\":{\"type\":\"value\",\"value\":1.0},\"line_width\":{\"type\":\"value\",\"value\":1},\"line_join\":{\"type\":\"value\",\"value\":\"bevel\"},\"line_cap\":{\"type\":\"value\",\"value\":\"butt\"},\"line_dash\":{\"type\":\"value\",\"value\":[]},\"line_dash_offset\":{\"type\":\"value\",\"value\":0},\"fill_color\":{\"type\":\"field\",\"field\":\"Variable\",\"transform\":{\"id\":\"p1592\"}},\"fill_alpha\":{\"type\":\"value\",\"value\":1.0},\"hatch_color\":{\"type\":\"field\",\"field\":\"Variable\",\"transform\":{\"id\":\"p1592\"}},\"hatch_alpha\":{\"type\":\"value\",\"value\":1.0},\"hatch_scale\":{\"type\":\"value\",\"value\":12.0},\"hatch_pattern\":{\"type\":\"value\",\"value\":null},\"hatch_weight\":{\"type\":\"value\",\"value\":1.0}}},\"nonselection_glyph\":{\"type\":\"object\",\"name\":\"VBar\",\"id\":\"p1600\",\"attributes\":{\"tags\":[\"apply_ranges\"],\"x\":{\"type\":\"field\",\"field\":\"xoffsets\"},\"width\":{\"type\":\"value\",\"value\":0.8},\"top\":{\"type\":\"field\",\"field\":\"value\"},\"line_alpha\":{\"type\":\"value\",\"value\":0.1},\"fill_color\":{\"type\":\"field\",\"field\":\"Variable\",\"transform\":{\"id\":\"p1592\"}},\"fill_alpha\":{\"type\":\"value\",\"value\":0.1},\"hatch_color\":{\"type\":\"field\",\"field\":\"Variable\",\"transform\":{\"id\":\"p1592\"}},\"hatch_alpha\":{\"type\":\"value\",\"value\":0.1}}},\"muted_glyph\":{\"type\":\"object\",\"name\":\"VBar\",\"id\":\"p1601\",\"attributes\":{\"tags\":[\"apply_ranges\"],\"x\":{\"type\":\"field\",\"field\":\"xoffsets\"},\"width\":{\"type\":\"value\",\"value\":0.8},\"top\":{\"type\":\"field\",\"field\":\"value\"},\"line_alpha\":{\"type\":\"value\",\"value\":0.2},\"fill_color\":{\"type\":\"field\",\"field\":\"Variable\",\"transform\":{\"id\":\"p1592\"}},\"fill_alpha\":{\"type\":\"value\",\"value\":0.2},\"hatch_color\":{\"type\":\"field\",\"field\":\"Variable\",\"transform\":{\"id\":\"p1592\"}},\"hatch_alpha\":{\"type\":\"value\",\"value\":0.2}}}}}],\"toolbar\":{\"type\":\"object\",\"name\":\"Toolbar\",\"id\":\"p1570\",\"attributes\":{\"tools\":[{\"type\":\"object\",\"name\":\"WheelZoomTool\",\"id\":\"p1559\",\"attributes\":{\"tags\":[\"hv_created\"],\"renderers\":\"auto\",\"zoom_together\":\"none\"}},{\"type\":\"object\",\"name\":\"HoverTool\",\"id\":\"p1560\",\"attributes\":{\"tags\":[\"hv_created\"],\"renderers\":[{\"id\":\"p1602\"}],\"tooltips\":[[\"index\",\"@{index}\"],[\"Variable\",\"@{Variable}\"],[\"value\",\"@{value}\"]]}},{\"type\":\"object\",\"name\":\"SaveTool\",\"id\":\"p1583\"},{\"type\":\"object\",\"name\":\"PanTool\",\"id\":\"p1584\"},{\"type\":\"object\",\"name\":\"BoxZoomTool\",\"id\":\"p1585\",\"attributes\":{\"overlay\":{\"type\":\"object\",\"name\":\"BoxAnnotation\",\"id\":\"p1586\",\"attributes\":{\"syncable\":false,\"level\":\"overlay\",\"visible\":false,\"left\":{\"type\":\"number\",\"value\":\"nan\"},\"right\":{\"type\":\"number\",\"value\":\"nan\"},\"top\":{\"type\":\"number\",\"value\":\"nan\"},\"bottom\":{\"type\":\"number\",\"value\":\"nan\"},\"left_units\":\"canvas\",\"right_units\":\"canvas\",\"top_units\":\"canvas\",\"bottom_units\":\"canvas\",\"line_color\":\"black\",\"line_alpha\":1.0,\"line_width\":2,\"line_dash\":[4,4],\"fill_color\":\"lightgrey\",\"fill_alpha\":0.5}}}},{\"type\":\"object\",\"name\":\"ResetTool\",\"id\":\"p1591\"}],\"active_drag\":{\"id\":\"p1584\"},\"active_scroll\":{\"id\":\"p1559\"}}},\"left\":[{\"type\":\"object\",\"name\":\"LinearAxis\",\"id\":\"p1578\",\"attributes\":{\"ticker\":{\"type\":\"object\",\"name\":\"BasicTicker\",\"id\":\"p1579\",\"attributes\":{\"mantissas\":[1,2,5]}},\"formatter\":{\"type\":\"object\",\"name\":\"BasicTickFormatter\",\"id\":\"p1580\"},\"axis_label\":\"\",\"major_label_policy\":{\"type\":\"object\",\"name\":\"AllLabels\",\"id\":\"p1581\"}}}],\"below\":[{\"type\":\"object\",\"name\":\"CategoricalAxis\",\"id\":\"p1573\",\"attributes\":{\"ticker\":{\"type\":\"object\",\"name\":\"CategoricalTicker\",\"id\":\"p1574\"},\"formatter\":{\"type\":\"object\",\"name\":\"CategoricalTickFormatter\",\"id\":\"p1575\"},\"axis_label\":\"\",\"major_label_policy\":{\"type\":\"object\",\"name\":\"AllLabels\",\"id\":\"p1576\"}}}],\"center\":[{\"type\":\"object\",\"name\":\"Grid\",\"id\":\"p1577\",\"attributes\":{\"axis\":{\"id\":\"p1573\"},\"grid_line_color\":null}},{\"type\":\"object\",\"name\":\"Grid\",\"id\":\"p1582\",\"attributes\":{\"dimension\":1,\"axis\":{\"id\":\"p1578\"},\"grid_line_color\":null}}],\"min_border_top\":10,\"min_border_bottom\":10,\"min_border_left\":10,\"min_border_right\":10,\"output_backend\":\"webgl\"}},{\"type\":\"object\",\"name\":\"Spacer\",\"id\":\"p1607\",\"attributes\":{\"name\":\"HSpacer02125\",\"stylesheets\":[\"\\n:host(.pn-loading):before, .pn-loading:before {\\n  background-color: #c3c3c3;\\n  mask-size: auto calc(min(50%, 400px));\\n  -webkit-mask-size: auto calc(min(50%, 400px));\\n}\",{\"id\":\"p1552\"},{\"id\":\"p1550\"},{\"id\":\"p1551\"}],\"margin\":0,\"sizing_mode\":\"stretch_width\",\"align\":\"start\"}}]}}],\"defs\":[{\"type\":\"model\",\"name\":\"ReactiveHTML1\"},{\"type\":\"model\",\"name\":\"FlexBox1\",\"properties\":[{\"name\":\"align_content\",\"kind\":\"Any\",\"default\":\"flex-start\"},{\"name\":\"align_items\",\"kind\":\"Any\",\"default\":\"flex-start\"},{\"name\":\"flex_direction\",\"kind\":\"Any\",\"default\":\"row\"},{\"name\":\"flex_wrap\",\"kind\":\"Any\",\"default\":\"wrap\"},{\"name\":\"gap\",\"kind\":\"Any\",\"default\":\"\"},{\"name\":\"justify_content\",\"kind\":\"Any\",\"default\":\"flex-start\"}]},{\"type\":\"model\",\"name\":\"FloatPanel1\",\"properties\":[{\"name\":\"config\",\"kind\":\"Any\",\"default\":{\"type\":\"map\"}},{\"name\":\"contained\",\"kind\":\"Any\",\"default\":true},{\"name\":\"position\",\"kind\":\"Any\",\"default\":\"right-top\"},{\"name\":\"offsetx\",\"kind\":\"Any\",\"default\":null},{\"name\":\"offsety\",\"kind\":\"Any\",\"default\":null},{\"name\":\"theme\",\"kind\":\"Any\",\"default\":\"primary\"},{\"name\":\"status\",\"kind\":\"Any\",\"default\":\"normalized\"}]},{\"type\":\"model\",\"name\":\"GridStack1\",\"properties\":[{\"name\":\"mode\",\"kind\":\"Any\",\"default\":\"warn\"},{\"name\":\"ncols\",\"kind\":\"Any\",\"default\":null},{\"name\":\"nrows\",\"kind\":\"Any\",\"default\":null},{\"name\":\"allow_resize\",\"kind\":\"Any\",\"default\":true},{\"name\":\"allow_drag\",\"kind\":\"Any\",\"default\":true},{\"name\":\"state\",\"kind\":\"Any\",\"default\":[]}]},{\"type\":\"model\",\"name\":\"drag1\",\"properties\":[{\"name\":\"slider_width\",\"kind\":\"Any\",\"default\":5},{\"name\":\"slider_color\",\"kind\":\"Any\",\"default\":\"black\"},{\"name\":\"value\",\"kind\":\"Any\",\"default\":50}]},{\"type\":\"model\",\"name\":\"click1\",\"properties\":[{\"name\":\"terminal_output\",\"kind\":\"Any\",\"default\":\"\"},{\"name\":\"debug_name\",\"kind\":\"Any\",\"default\":\"\"},{\"name\":\"clears\",\"kind\":\"Any\",\"default\":0}]},{\"type\":\"model\",\"name\":\"FastWrapper1\",\"properties\":[{\"name\":\"object\",\"kind\":\"Any\",\"default\":null},{\"name\":\"style\",\"kind\":\"Any\",\"default\":null}]},{\"type\":\"model\",\"name\":\"NotificationAreaBase1\",\"properties\":[{\"name\":\"js_events\",\"kind\":\"Any\",\"default\":{\"type\":\"map\"}},{\"name\":\"position\",\"kind\":\"Any\",\"default\":\"bottom-right\"},{\"name\":\"_clear\",\"kind\":\"Any\",\"default\":0}]},{\"type\":\"model\",\"name\":\"NotificationArea1\",\"properties\":[{\"name\":\"js_events\",\"kind\":\"Any\",\"default\":{\"type\":\"map\"}},{\"name\":\"notifications\",\"kind\":\"Any\",\"default\":[]},{\"name\":\"position\",\"kind\":\"Any\",\"default\":\"bottom-right\"},{\"name\":\"_clear\",\"kind\":\"Any\",\"default\":0},{\"name\":\"types\",\"kind\":\"Any\",\"default\":[{\"type\":\"map\",\"entries\":[[\"type\",\"warning\"],[\"background\",\"#ffc107\"],[\"icon\",{\"type\":\"map\",\"entries\":[[\"className\",\"fas fa-exclamation-triangle\"],[\"tagName\",\"i\"],[\"color\",\"white\"]]}]]},{\"type\":\"map\",\"entries\":[[\"type\",\"info\"],[\"background\",\"#007bff\"],[\"icon\",{\"type\":\"map\",\"entries\":[[\"className\",\"fas fa-info-circle\"],[\"tagName\",\"i\"],[\"color\",\"white\"]]}]]}]}]},{\"type\":\"model\",\"name\":\"Notification\",\"properties\":[{\"name\":\"background\",\"kind\":\"Any\",\"default\":null},{\"name\":\"duration\",\"kind\":\"Any\",\"default\":3000},{\"name\":\"icon\",\"kind\":\"Any\",\"default\":null},{\"name\":\"message\",\"kind\":\"Any\",\"default\":\"\"},{\"name\":\"notification_type\",\"kind\":\"Any\",\"default\":null},{\"name\":\"_destroyed\",\"kind\":\"Any\",\"default\":false}]},{\"type\":\"model\",\"name\":\"TemplateActions1\",\"properties\":[{\"name\":\"open_modal\",\"kind\":\"Any\",\"default\":0},{\"name\":\"close_modal\",\"kind\":\"Any\",\"default\":0}]},{\"type\":\"model\",\"name\":\"BootstrapTemplateActions1\",\"properties\":[{\"name\":\"open_modal\",\"kind\":\"Any\",\"default\":0},{\"name\":\"close_modal\",\"kind\":\"Any\",\"default\":0}]},{\"type\":\"model\",\"name\":\"TemplateEditor1\",\"properties\":[{\"name\":\"layout\",\"kind\":\"Any\",\"default\":[]}]},{\"type\":\"model\",\"name\":\"MaterialTemplateActions1\",\"properties\":[{\"name\":\"open_modal\",\"kind\":\"Any\",\"default\":0},{\"name\":\"close_modal\",\"kind\":\"Any\",\"default\":0}]},{\"type\":\"model\",\"name\":\"copy_to_clipboard1\",\"properties\":[{\"name\":\"fill\",\"kind\":\"Any\",\"default\":\"none\"},{\"name\":\"value\",\"kind\":\"Any\",\"default\":null}]}]}};\n",
       "  var render_items = [{\"docid\":\"c6e7e4c4-29a1-40cd-a604-4c8f7319cfa2\",\"roots\":{\"p1549\":\"f387fa4f-16fa-4ae3-bfcc-6e9a1fcbe15e\"},\"root_ids\":[\"p1549\"]}];\n",
       "  var docs = Object.values(docs_json)\n",
       "  if (!docs) {\n",
       "    return\n",
       "  }\n",
       "  const py_version = docs[0].version.replace('rc', '-rc.').replace('.dev', '-dev.')\n",
       "  async function embed_document(root) {\n",
       "    var Bokeh = get_bokeh(root)\n",
       "    await Bokeh.embed.embed_items_notebook(docs_json, render_items);\n",
       "    for (const render_item of render_items) {\n",
       "      for (const root_id of render_item.root_ids) {\n",
       "\tconst id_el = document.getElementById(root_id)\n",
       "\tif (id_el.children.length && id_el.children[0].hasAttribute('data-root-id')) {\n",
       "\t  const root_el = id_el.children[0]\n",
       "\t  root_el.id = root_el.id + '-rendered'\n",
       "\t  for (const child of root_el.children) {\n",
       "            // Ensure JupyterLab does not capture keyboard shortcuts\n",
       "            // see: https://jupyterlab.readthedocs.io/en/4.1.x/extension/notebook.html#keyboard-interaction-model\n",
       "\t    child.setAttribute('data-lm-suppress-shortcuts', 'true')\n",
       "\t  }\n",
       "\t}\n",
       "      }\n",
       "    }\n",
       "  }\n",
       "  function get_bokeh(root) {\n",
       "    if (root.Bokeh === undefined) {\n",
       "      return null\n",
       "    } else if (root.Bokeh.version !== py_version) {\n",
       "      if (root.Bokeh.versions === undefined || !root.Bokeh.versions.has(py_version)) {\n",
       "\treturn null\n",
       "      }\n",
       "      return root.Bokeh.versions.get(py_version);\n",
       "    } else if (root.Bokeh.version === py_version) {\n",
       "      return root.Bokeh\n",
       "    }\n",
       "    return null\n",
       "  }\n",
       "  function is_loaded(root) {\n",
       "    var Bokeh = get_bokeh(root)\n",
       "    return (Bokeh != null && Bokeh.Panel !== undefined)\n",
       "  }\n",
       "  if (is_loaded(root)) {\n",
       "    embed_document(root);\n",
       "  } else {\n",
       "    var attempts = 0;\n",
       "    var timer = setInterval(function(root) {\n",
       "      if (is_loaded(root)) {\n",
       "        clearInterval(timer);\n",
       "        embed_document(root);\n",
       "      } else if (document.readyState == \"complete\") {\n",
       "        attempts++;\n",
       "        if (attempts > 200) {\n",
       "          clearInterval(timer);\n",
       "\t  var Bokeh = get_bokeh(root)\n",
       "\t  if (Bokeh == null || Bokeh.Panel == null) {\n",
       "            console.warn(\"Panel: ERROR: Unable to run Panel code because Bokeh or Panel library is missing\");\n",
       "\t  } else {\n",
       "\t    console.warn(\"Panel: WARNING: Attempting to render but not all required libraries could be resolved.\")\n",
       "\t    embed_document(root)\n",
       "\t  }\n",
       "        }\n",
       "      }\n",
       "    }, 25, root)\n",
       "  }\n",
       "})(window);</script>"
      ],
      "text/plain": [
       ":Bars   [index,Variable]   (value)"
      ]
     },
     "execution_count": 25,
     "metadata": {
      "application/vnd.holoviews_exec.v0+json": {
       "id": "p1549"
      }
     },
     "output_type": "execute_result"
    }
   ],
   "source": [
    "ad_data_labeled_num.select(\n",
    "    pl.corr(col_name, \"label_right\")\n",
    "    for col_name in ad_data_labeled_num.columns\n",
    "    if col_name != \"label_right\"\n",
    ").collect().plot.bar()"
   ]
  },
  {
   "cell_type": "code",
   "execution_count": 26,
   "id": "e363c6ba-11c2-44c3-98c7-78e71d7774d1",
   "metadata": {},
   "outputs": [],
   "source": [
    "feed_meta = SingleTableMetadata()\n",
    "feed_meta.detect_from_csv(filepath = \"data/train_data_feeds.csv\")"
   ]
  },
  {
   "cell_type": "code",
   "execution_count": 27,
   "id": "a7b0304f-721d-4466-a221-e9ec9ce69229",
   "metadata": {},
   "outputs": [],
   "source": [
    "# Save to JSON per recommendation from the package\n",
    "if not os.path.exists(\"metadata_gen/feed_meta.json\"):\n",
    "    feed_meta.save_to_json(\"metadata_gen/feed_meta.json\")"
   ]
  },
  {
   "cell_type": "code",
   "execution_count": 28,
   "id": "cea0bf86-2291-453b-9c8a-c9add35ee858",
   "metadata": {},
   "outputs": [
    {
     "name": "stderr",
     "output_type": "stream",
     "text": [
      "/home/sygio/Documents/work/ucla-hack/modeling/.venv/lib/python3.12/site-packages/sdv/single_table/base.py:84: UserWarning: We strongly recommend saving the metadata using 'save_to_json' for replicability in future SDV versions.\n",
      "  warnings.warn(\n"
     ]
    }
   ],
   "source": [
    "feed_synth = GaussianCopulaSynthesizer(feed_meta)"
   ]
  },
  {
   "cell_type": "code",
   "execution_count": 29,
   "id": "accf0c27-e0ac-4b9f-b57c-97ee8178348e",
   "metadata": {},
   "outputs": [],
   "source": [
    "feed_synth.fit(feed_data_orig.head(10000).collect().to_pandas())"
   ]
  },
  {
   "cell_type": "code",
   "execution_count": 30,
   "id": "cda82fb8-9f24-442a-9ec9-807a72d76e20",
   "metadata": {},
   "outputs": [
    {
     "data": {
      "text/html": [
       "<div>\n",
       "<style scoped>\n",
       "    .dataframe tbody tr th:only-of-type {\n",
       "        vertical-align: middle;\n",
       "    }\n",
       "\n",
       "    .dataframe tbody tr th {\n",
       "        vertical-align: top;\n",
       "    }\n",
       "\n",
       "    .dataframe thead th {\n",
       "        text-align: right;\n",
       "    }\n",
       "</style>\n",
       "<table border=\"1\" class=\"dataframe\">\n",
       "  <thead>\n",
       "    <tr style=\"text-align: right;\">\n",
       "      <th></th>\n",
       "      <th>u_userId</th>\n",
       "      <th>u_phonePrice</th>\n",
       "      <th>u_browserLifeCycle</th>\n",
       "      <th>u_browserMode</th>\n",
       "      <th>u_feedLifeCycle</th>\n",
       "      <th>u_refreshTimes</th>\n",
       "      <th>u_newsCatInterests</th>\n",
       "      <th>u_newsCatDislike</th>\n",
       "      <th>u_newsCatInterestsST</th>\n",
       "      <th>u_click_ca2_news</th>\n",
       "      <th>...</th>\n",
       "      <th>e_ch</th>\n",
       "      <th>e_m</th>\n",
       "      <th>e_po</th>\n",
       "      <th>e_pl</th>\n",
       "      <th>e_rn</th>\n",
       "      <th>e_section</th>\n",
       "      <th>e_et</th>\n",
       "      <th>label</th>\n",
       "      <th>cillabel</th>\n",
       "      <th>pro</th>\n",
       "    </tr>\n",
       "  </thead>\n",
       "  <tbody>\n",
       "    <tr>\n",
       "      <th>0</th>\n",
       "      <td>250515</td>\n",
       "      <td>11</td>\n",
       "      <td>17</td>\n",
       "      <td>14</td>\n",
       "      <td>17</td>\n",
       "      <td>9</td>\n",
       "      <td>168^102^219^191</td>\n",
       "      <td>0</td>\n",
       "      <td>219^98^78^98^17</td>\n",
       "      <td>sdv-pii-5l9f0</td>\n",
       "      <td>...</td>\n",
       "      <td>15</td>\n",
       "      <td>818</td>\n",
       "      <td>10</td>\n",
       "      <td>2366</td>\n",
       "      <td>2</td>\n",
       "      <td>0</td>\n",
       "      <td>202206081876</td>\n",
       "      <td>-1</td>\n",
       "      <td>-1</td>\n",
       "      <td>90</td>\n",
       "    </tr>\n",
       "    <tr>\n",
       "      <th>1</th>\n",
       "      <td>222015</td>\n",
       "      <td>14</td>\n",
       "      <td>17</td>\n",
       "      <td>14</td>\n",
       "      <td>17</td>\n",
       "      <td>5</td>\n",
       "      <td>98^98^78^0^98</td>\n",
       "      <td>0</td>\n",
       "      <td>98^98^218^147^213</td>\n",
       "      <td>sdv-pii-l4zm6</td>\n",
       "      <td>...</td>\n",
       "      <td>19</td>\n",
       "      <td>1233</td>\n",
       "      <td>5</td>\n",
       "      <td>1123</td>\n",
       "      <td>3</td>\n",
       "      <td>0</td>\n",
       "      <td>202206080588</td>\n",
       "      <td>-1</td>\n",
       "      <td>-1</td>\n",
       "      <td>88</td>\n",
       "    </tr>\n",
       "    <tr>\n",
       "      <th>2</th>\n",
       "      <td>267321</td>\n",
       "      <td>15</td>\n",
       "      <td>17</td>\n",
       "      <td>14</td>\n",
       "      <td>16</td>\n",
       "      <td>5</td>\n",
       "      <td>16^140^206^39^112</td>\n",
       "      <td>0</td>\n",
       "      <td>0</td>\n",
       "      <td>sdv-pii-odpgt</td>\n",
       "      <td>...</td>\n",
       "      <td>20</td>\n",
       "      <td>1439</td>\n",
       "      <td>8</td>\n",
       "      <td>651</td>\n",
       "      <td>2</td>\n",
       "      <td>1</td>\n",
       "      <td>202206082195</td>\n",
       "      <td>1</td>\n",
       "      <td>-1</td>\n",
       "      <td>100</td>\n",
       "    </tr>\n",
       "    <tr>\n",
       "      <th>3</th>\n",
       "      <td>210368</td>\n",
       "      <td>10</td>\n",
       "      <td>17</td>\n",
       "      <td>14</td>\n",
       "      <td>11</td>\n",
       "      <td>0</td>\n",
       "      <td>98^78^98^98^98</td>\n",
       "      <td>0</td>\n",
       "      <td>171^216^10^106^152</td>\n",
       "      <td>sdv-pii-n9fr8</td>\n",
       "      <td>...</td>\n",
       "      <td>20</td>\n",
       "      <td>170</td>\n",
       "      <td>3</td>\n",
       "      <td>829</td>\n",
       "      <td>2</td>\n",
       "      <td>0</td>\n",
       "      <td>202206081010</td>\n",
       "      <td>-1</td>\n",
       "      <td>-1</td>\n",
       "      <td>89</td>\n",
       "    </tr>\n",
       "    <tr>\n",
       "      <th>4</th>\n",
       "      <td>277446</td>\n",
       "      <td>14</td>\n",
       "      <td>17</td>\n",
       "      <td>14</td>\n",
       "      <td>17</td>\n",
       "      <td>9</td>\n",
       "      <td>86^191^96^36^98</td>\n",
       "      <td>0</td>\n",
       "      <td>216^195^59^166</td>\n",
       "      <td>sdv-pii-t6332</td>\n",
       "      <td>...</td>\n",
       "      <td>20</td>\n",
       "      <td>1241</td>\n",
       "      <td>11</td>\n",
       "      <td>1813</td>\n",
       "      <td>2</td>\n",
       "      <td>0</td>\n",
       "      <td>202206080148</td>\n",
       "      <td>1</td>\n",
       "      <td>-1</td>\n",
       "      <td>100</td>\n",
       "    </tr>\n",
       "    <tr>\n",
       "      <th>5</th>\n",
       "      <td>131187</td>\n",
       "      <td>15</td>\n",
       "      <td>17</td>\n",
       "      <td>14</td>\n",
       "      <td>17</td>\n",
       "      <td>5</td>\n",
       "      <td>16</td>\n",
       "      <td>0</td>\n",
       "      <td>216^49^98^63^219</td>\n",
       "      <td>sdv-pii-83dde</td>\n",
       "      <td>...</td>\n",
       "      <td>20</td>\n",
       "      <td>524</td>\n",
       "      <td>1</td>\n",
       "      <td>445</td>\n",
       "      <td>2</td>\n",
       "      <td>0</td>\n",
       "      <td>202206082048</td>\n",
       "      <td>-1</td>\n",
       "      <td>-1</td>\n",
       "      <td>100</td>\n",
       "    </tr>\n",
       "    <tr>\n",
       "      <th>6</th>\n",
       "      <td>272233</td>\n",
       "      <td>16</td>\n",
       "      <td>17</td>\n",
       "      <td>16</td>\n",
       "      <td>17</td>\n",
       "      <td>9</td>\n",
       "      <td>171^20^195^0^220</td>\n",
       "      <td>0</td>\n",
       "      <td>98</td>\n",
       "      <td>sdv-pii-51ctv</td>\n",
       "      <td>...</td>\n",
       "      <td>20</td>\n",
       "      <td>1258</td>\n",
       "      <td>10</td>\n",
       "      <td>2901</td>\n",
       "      <td>2</td>\n",
       "      <td>0</td>\n",
       "      <td>202206081103</td>\n",
       "      <td>-1</td>\n",
       "      <td>-1</td>\n",
       "      <td>87</td>\n",
       "    </tr>\n",
       "    <tr>\n",
       "      <th>7</th>\n",
       "      <td>160529</td>\n",
       "      <td>11</td>\n",
       "      <td>17</td>\n",
       "      <td>14</td>\n",
       "      <td>17</td>\n",
       "      <td>5</td>\n",
       "      <td>78^98^17^98^0</td>\n",
       "      <td>0</td>\n",
       "      <td>171^100^168^112^0</td>\n",
       "      <td>sdv-pii-ep6jr</td>\n",
       "      <td>...</td>\n",
       "      <td>20</td>\n",
       "      <td>258</td>\n",
       "      <td>5</td>\n",
       "      <td>2389</td>\n",
       "      <td>2</td>\n",
       "      <td>0</td>\n",
       "      <td>202206081667</td>\n",
       "      <td>-1</td>\n",
       "      <td>-1</td>\n",
       "      <td>77</td>\n",
       "    </tr>\n",
       "    <tr>\n",
       "      <th>8</th>\n",
       "      <td>117898</td>\n",
       "      <td>15</td>\n",
       "      <td>17</td>\n",
       "      <td>14</td>\n",
       "      <td>17</td>\n",
       "      <td>4</td>\n",
       "      <td>17^195^216^112^171</td>\n",
       "      <td>0</td>\n",
       "      <td>98^78^143^213^112</td>\n",
       "      <td>sdv-pii-80tu1</td>\n",
       "      <td>...</td>\n",
       "      <td>16</td>\n",
       "      <td>1229</td>\n",
       "      <td>5</td>\n",
       "      <td>694</td>\n",
       "      <td>6</td>\n",
       "      <td>1</td>\n",
       "      <td>202206081306</td>\n",
       "      <td>-1</td>\n",
       "      <td>-1</td>\n",
       "      <td>100</td>\n",
       "    </tr>\n",
       "    <tr>\n",
       "      <th>9</th>\n",
       "      <td>176243</td>\n",
       "      <td>14</td>\n",
       "      <td>17</td>\n",
       "      <td>16</td>\n",
       "      <td>17</td>\n",
       "      <td>0</td>\n",
       "      <td>65^63^65^65^0</td>\n",
       "      <td>0</td>\n",
       "      <td>219^171^218^51^17</td>\n",
       "      <td>sdv-pii-a65zp</td>\n",
       "      <td>...</td>\n",
       "      <td>20</td>\n",
       "      <td>812</td>\n",
       "      <td>22</td>\n",
       "      <td>2552</td>\n",
       "      <td>2</td>\n",
       "      <td>0</td>\n",
       "      <td>202206081189</td>\n",
       "      <td>-1</td>\n",
       "      <td>-1</td>\n",
       "      <td>100</td>\n",
       "    </tr>\n",
       "  </tbody>\n",
       "</table>\n",
       "<p>10 rows × 28 columns</p>\n",
       "</div>"
      ],
      "text/plain": [
       "   u_userId  u_phonePrice  u_browserLifeCycle  u_browserMode  u_feedLifeCycle  \\\n",
       "0    250515            11                  17             14               17   \n",
       "1    222015            14                  17             14               17   \n",
       "2    267321            15                  17             14               16   \n",
       "3    210368            10                  17             14               11   \n",
       "4    277446            14                  17             14               17   \n",
       "5    131187            15                  17             14               17   \n",
       "6    272233            16                  17             16               17   \n",
       "7    160529            11                  17             14               17   \n",
       "8    117898            15                  17             14               17   \n",
       "9    176243            14                  17             16               17   \n",
       "\n",
       "   u_refreshTimes  u_newsCatInterests u_newsCatDislike u_newsCatInterestsST  \\\n",
       "0               9     168^102^219^191                0      219^98^78^98^17   \n",
       "1               5       98^98^78^0^98                0    98^98^218^147^213   \n",
       "2               5   16^140^206^39^112                0                    0   \n",
       "3               0      98^78^98^98^98                0   171^216^10^106^152   \n",
       "4               9     86^191^96^36^98                0       216^195^59^166   \n",
       "5               5                  16                0     216^49^98^63^219   \n",
       "6               9    171^20^195^0^220                0                   98   \n",
       "7               5       78^98^17^98^0                0    171^100^168^112^0   \n",
       "8               4  17^195^216^112^171                0    98^78^143^213^112   \n",
       "9               0       65^63^65^65^0                0    219^171^218^51^17   \n",
       "\n",
       "  u_click_ca2_news  ... e_ch   e_m  e_po  e_pl e_rn  e_section          e_et  \\\n",
       "0    sdv-pii-5l9f0  ...   15   818    10  2366    2          0  202206081876   \n",
       "1    sdv-pii-l4zm6  ...   19  1233     5  1123    3          0  202206080588   \n",
       "2    sdv-pii-odpgt  ...   20  1439     8   651    2          1  202206082195   \n",
       "3    sdv-pii-n9fr8  ...   20   170     3   829    2          0  202206081010   \n",
       "4    sdv-pii-t6332  ...   20  1241    11  1813    2          0  202206080148   \n",
       "5    sdv-pii-83dde  ...   20   524     1   445    2          0  202206082048   \n",
       "6    sdv-pii-51ctv  ...   20  1258    10  2901    2          0  202206081103   \n",
       "7    sdv-pii-ep6jr  ...   20   258     5  2389    2          0  202206081667   \n",
       "8    sdv-pii-80tu1  ...   16  1229     5   694    6          1  202206081306   \n",
       "9    sdv-pii-a65zp  ...   20   812    22  2552    2          0  202206081189   \n",
       "\n",
       "   label  cillabel  pro  \n",
       "0     -1        -1   90  \n",
       "1     -1        -1   88  \n",
       "2      1        -1  100  \n",
       "3     -1        -1   89  \n",
       "4      1        -1  100  \n",
       "5     -1        -1  100  \n",
       "6     -1        -1   87  \n",
       "7     -1        -1   77  \n",
       "8     -1        -1  100  \n",
       "9     -1        -1  100  \n",
       "\n",
       "[10 rows x 28 columns]"
      ]
     },
     "execution_count": 30,
     "metadata": {},
     "output_type": "execute_result"
    }
   ],
   "source": [
    "feed_sample_data = feed_synth.sample(num_rows = 500)\n",
    "feed_sample_data.head(10)"
   ]
  },
  {
   "cell_type": "code",
   "execution_count": 31,
   "id": "a8a2f163-0f9a-4cbc-b5c6-1df1c2291480",
   "metadata": {},
   "outputs": [
    {
     "name": "stdout",
     "output_type": "stream",
     "text": [
      "Generating report ...\n",
      "\n",
      "(1/2) Evaluating Data Validity: |████████████████████| 28/28 [00:00<00:00, 376.88it/s]|\n",
      "Data Validity Score: 100.0%\n",
      "\n",
      "(2/2) Evaluating Data Structure: |█████████████████████| 1/1 [00:00<00:00, 229.01it/s]|\n",
      "Data Structure Score: 100.0%\n",
      "\n",
      "Overall Score (Average): 100.0%\n",
      "\n"
     ]
    },
    {
     "data": {
      "text/plain": [
       "<sdmetrics.reports.single_table.diagnostic_report.DiagnosticReport at 0x7168daad50d0>"
      ]
     },
     "execution_count": 31,
     "metadata": {},
     "output_type": "execute_result"
    }
   ],
   "source": [
    "single_table.run_diagnostic(\n",
    "    real_data = feed_data_orig.head(10000).collect().to_pandas(),\n",
    "    synthetic_data = feed_sample_data,\n",
    "    metadata = feed_meta\n",
    ")"
   ]
  },
  {
   "cell_type": "code",
   "execution_count": 32,
   "id": "9b296e51-c154-4a10-a23b-cdb200c4cc94",
   "metadata": {},
   "outputs": [
    {
     "name": "stdout",
     "output_type": "stream",
     "text": [
      "Generating report ...\n",
      "\n",
      "(1/2) Evaluating Column Shapes: |█████████████████████| 28/28 [00:00<00:00, 34.71it/s]|\n",
      "Column Shapes Score: 77.11%\n",
      "\n",
      "(2/2) Evaluating Column Pair Trends: |██████████████| 378/378 [04:38<00:00,  1.35it/s]|\n",
      "Column Pair Trends Score: 57.26%\n",
      "\n",
      "Overall Score (Average): 67.18%\n",
      "\n"
     ]
    }
   ],
   "source": [
    "feed_qual_report = single_table.evaluate_quality(\n",
    "    feed_data_orig.head(10000).collect().to_pandas(),\n",
    "    feed_sample_data,\n",
    "    feed_meta,\n",
    ")"
   ]
  },
  {
   "cell_type": "code",
   "execution_count": 33,
   "id": "7fdf837b-cde1-4b7e-a219-803ae865dcaf",
   "metadata": {},
   "outputs": [
    {
     "data": {
      "text/html": [
       "<div>\n",
       "<style scoped>\n",
       "    .dataframe tbody tr th:only-of-type {\n",
       "        vertical-align: middle;\n",
       "    }\n",
       "\n",
       "    .dataframe tbody tr th {\n",
       "        vertical-align: top;\n",
       "    }\n",
       "\n",
       "    .dataframe thead th {\n",
       "        text-align: right;\n",
       "    }\n",
       "</style>\n",
       "<table border=\"1\" class=\"dataframe\">\n",
       "  <thead>\n",
       "    <tr style=\"text-align: right;\">\n",
       "      <th></th>\n",
       "      <th>Column</th>\n",
       "      <th>Metric</th>\n",
       "      <th>Score</th>\n",
       "    </tr>\n",
       "  </thead>\n",
       "  <tbody>\n",
       "    <tr>\n",
       "      <th>0</th>\n",
       "      <td>u_userId</td>\n",
       "      <td>KSComplement</td>\n",
       "      <td>0.957600</td>\n",
       "    </tr>\n",
       "    <tr>\n",
       "      <th>1</th>\n",
       "      <td>u_phonePrice</td>\n",
       "      <td>TVComplement</td>\n",
       "      <td>0.943100</td>\n",
       "    </tr>\n",
       "    <tr>\n",
       "      <th>2</th>\n",
       "      <td>u_browserLifeCycle</td>\n",
       "      <td>TVComplement</td>\n",
       "      <td>0.968500</td>\n",
       "    </tr>\n",
       "    <tr>\n",
       "      <th>3</th>\n",
       "      <td>u_browserMode</td>\n",
       "      <td>TVComplement</td>\n",
       "      <td>0.979100</td>\n",
       "    </tr>\n",
       "    <tr>\n",
       "      <th>4</th>\n",
       "      <td>u_feedLifeCycle</td>\n",
       "      <td>TVComplement</td>\n",
       "      <td>0.972800</td>\n",
       "    </tr>\n",
       "    <tr>\n",
       "      <th>5</th>\n",
       "      <td>u_refreshTimes</td>\n",
       "      <td>TVComplement</td>\n",
       "      <td>0.939200</td>\n",
       "    </tr>\n",
       "    <tr>\n",
       "      <th>6</th>\n",
       "      <td>u_newsCatInterests</td>\n",
       "      <td>TVComplement</td>\n",
       "      <td>0.540400</td>\n",
       "    </tr>\n",
       "    <tr>\n",
       "      <th>7</th>\n",
       "      <td>u_newsCatDislike</td>\n",
       "      <td>TVComplement</td>\n",
       "      <td>0.981900</td>\n",
       "    </tr>\n",
       "    <tr>\n",
       "      <th>8</th>\n",
       "      <td>u_newsCatInterestsST</td>\n",
       "      <td>TVComplement</td>\n",
       "      <td>0.380300</td>\n",
       "    </tr>\n",
       "    <tr>\n",
       "      <th>9</th>\n",
       "      <td>i_docId</td>\n",
       "      <td>TVComplement</td>\n",
       "      <td>0.313000</td>\n",
       "    </tr>\n",
       "    <tr>\n",
       "      <th>10</th>\n",
       "      <td>i_s_sourceId</td>\n",
       "      <td>TVComplement</td>\n",
       "      <td>0.753000</td>\n",
       "    </tr>\n",
       "    <tr>\n",
       "      <th>11</th>\n",
       "      <td>i_regionEntity</td>\n",
       "      <td>KSComplement</td>\n",
       "      <td>0.455400</td>\n",
       "    </tr>\n",
       "    <tr>\n",
       "      <th>12</th>\n",
       "      <td>i_cat</td>\n",
       "      <td>KSComplement</td>\n",
       "      <td>0.790200</td>\n",
       "    </tr>\n",
       "    <tr>\n",
       "      <th>13</th>\n",
       "      <td>i_entities</td>\n",
       "      <td>TVComplement</td>\n",
       "      <td>0.317036</td>\n",
       "    </tr>\n",
       "    <tr>\n",
       "      <th>14</th>\n",
       "      <td>i_dislikeTimes</td>\n",
       "      <td>TVComplement</td>\n",
       "      <td>0.962100</td>\n",
       "    </tr>\n",
       "    <tr>\n",
       "      <th>15</th>\n",
       "      <td>i_upTimes</td>\n",
       "      <td>TVComplement</td>\n",
       "      <td>0.940700</td>\n",
       "    </tr>\n",
       "    <tr>\n",
       "      <th>16</th>\n",
       "      <td>i_dtype</td>\n",
       "      <td>TVComplement</td>\n",
       "      <td>0.975500</td>\n",
       "    </tr>\n",
       "    <tr>\n",
       "      <th>17</th>\n",
       "      <td>e_ch</td>\n",
       "      <td>KSComplement</td>\n",
       "      <td>0.554400</td>\n",
       "    </tr>\n",
       "    <tr>\n",
       "      <th>18</th>\n",
       "      <td>e_m</td>\n",
       "      <td>KSComplement</td>\n",
       "      <td>0.937000</td>\n",
       "    </tr>\n",
       "    <tr>\n",
       "      <th>19</th>\n",
       "      <td>e_po</td>\n",
       "      <td>KSComplement</td>\n",
       "      <td>0.880200</td>\n",
       "    </tr>\n",
       "    <tr>\n",
       "      <th>20</th>\n",
       "      <td>e_pl</td>\n",
       "      <td>KSComplement</td>\n",
       "      <td>0.959500</td>\n",
       "    </tr>\n",
       "    <tr>\n",
       "      <th>21</th>\n",
       "      <td>e_rn</td>\n",
       "      <td>KSComplement</td>\n",
       "      <td>0.419900</td>\n",
       "    </tr>\n",
       "    <tr>\n",
       "      <th>22</th>\n",
       "      <td>e_section</td>\n",
       "      <td>TVComplement</td>\n",
       "      <td>0.987900</td>\n",
       "    </tr>\n",
       "    <tr>\n",
       "      <th>23</th>\n",
       "      <td>e_et</td>\n",
       "      <td>KSComplement</td>\n",
       "      <td>0.862200</td>\n",
       "    </tr>\n",
       "    <tr>\n",
       "      <th>24</th>\n",
       "      <td>label</td>\n",
       "      <td>KSComplement</td>\n",
       "      <td>0.991300</td>\n",
       "    </tr>\n",
       "    <tr>\n",
       "      <th>25</th>\n",
       "      <td>cillabel</td>\n",
       "      <td>KSComplement</td>\n",
       "      <td>0.999800</td>\n",
       "    </tr>\n",
       "    <tr>\n",
       "      <th>26</th>\n",
       "      <td>pro</td>\n",
       "      <td>KSComplement</td>\n",
       "      <td>0.058400</td>\n",
       "    </tr>\n",
       "  </tbody>\n",
       "</table>\n",
       "</div>"
      ],
      "text/plain": [
       "                  Column        Metric     Score\n",
       "0               u_userId  KSComplement  0.957600\n",
       "1           u_phonePrice  TVComplement  0.943100\n",
       "2     u_browserLifeCycle  TVComplement  0.968500\n",
       "3          u_browserMode  TVComplement  0.979100\n",
       "4        u_feedLifeCycle  TVComplement  0.972800\n",
       "5         u_refreshTimes  TVComplement  0.939200\n",
       "6     u_newsCatInterests  TVComplement  0.540400\n",
       "7       u_newsCatDislike  TVComplement  0.981900\n",
       "8   u_newsCatInterestsST  TVComplement  0.380300\n",
       "9                i_docId  TVComplement  0.313000\n",
       "10          i_s_sourceId  TVComplement  0.753000\n",
       "11        i_regionEntity  KSComplement  0.455400\n",
       "12                 i_cat  KSComplement  0.790200\n",
       "13            i_entities  TVComplement  0.317036\n",
       "14        i_dislikeTimes  TVComplement  0.962100\n",
       "15             i_upTimes  TVComplement  0.940700\n",
       "16               i_dtype  TVComplement  0.975500\n",
       "17                  e_ch  KSComplement  0.554400\n",
       "18                   e_m  KSComplement  0.937000\n",
       "19                  e_po  KSComplement  0.880200\n",
       "20                  e_pl  KSComplement  0.959500\n",
       "21                  e_rn  KSComplement  0.419900\n",
       "22             e_section  TVComplement  0.987900\n",
       "23                  e_et  KSComplement  0.862200\n",
       "24                 label  KSComplement  0.991300\n",
       "25              cillabel  KSComplement  0.999800\n",
       "26                   pro  KSComplement  0.058400"
      ]
     },
     "execution_count": 33,
     "metadata": {},
     "output_type": "execute_result"
    }
   ],
   "source": [
    "feed_qual_report.get_details(\"Column Shapes\")"
   ]
  },
  {
   "cell_type": "code",
   "execution_count": 34,
   "id": "cb4b93ff-facf-4ca9-80d7-e74688199502",
   "metadata": {},
   "outputs": [
    {
     "data": {
      "text/html": [
       "<iframe\n",
       "    scrolling=\"no\"\n",
       "    width=\"100%\"\n",
       "    height=\"545px\"\n",
       "    src=\"iframe_figures/figure_34.html\"\n",
       "    frameborder=\"0\"\n",
       "    allowfullscreen\n",
       "></iframe>\n"
      ]
     },
     "metadata": {},
     "output_type": "display_data"
    }
   ],
   "source": [
    "fig = single_table.get_column_plot(\n",
    "    feed_data_orig.head(10000).collect().to_pandas(),\n",
    "    feed_sample_data,\n",
    "    feed_meta,\n",
    "    \"label\",\n",
    ")\n",
    "fig.show()"
   ]
  },
  {
   "cell_type": "code",
   "execution_count": 35,
   "id": "3ebd1328-3ea8-4e15-b888-c2116303c6b1",
   "metadata": {},
   "outputs": [
    {
     "data": {
      "text/html": [
       "<iframe\n",
       "    scrolling=\"no\"\n",
       "    width=\"100%\"\n",
       "    height=\"545px\"\n",
       "    src=\"iframe_figures/figure_35.html\"\n",
       "    frameborder=\"0\"\n",
       "    allowfullscreen\n",
       "></iframe>\n"
      ]
     },
     "metadata": {},
     "output_type": "display_data"
    }
   ],
   "source": [
    "fig = single_table.get_column_plot(\n",
    "    feed_data_orig.head(10000).collect().to_pandas(),\n",
    "    feed_sample_data,\n",
    "    feed_meta,\n",
    "    \"i_regionEntity\",\n",
    ")\n",
    "fig.show()"
   ]
  },
  {
   "cell_type": "code",
   "execution_count": 36,
   "id": "036e30fc-9de0-4846-aa69-f2180bb3a6ad",
   "metadata": {},
   "outputs": [],
   "source": [
    "meta = MultiTableMetadata()\n",
    "ad_df = ad_data_orig.head(10000).collect().to_pandas()\n",
    "feed_df = feed_data_orig.head(10000).collect().to_pandas()\n",
    "real_data = { \"ad\": ad_df, \"feed\": feed_df }\n",
    "meta.detect_from_dataframes(\n",
    "    data = {\n",
    "        \"ad\": ad_df,\n",
    "        \"feed\": feed_df,\n",
    "    }\n",
    ")"
   ]
  },
  {
   "cell_type": "code",
   "execution_count": 37,
   "id": "2a4415e3-48a7-422c-9d60-2f1f48e0ebbc",
   "metadata": {},
   "outputs": [],
   "source": [
    "meta.update_columns(\n",
    "    table_name = \"ad\",\n",
    "    column_names = [\"city\", \"city_rank\"],\n",
    "    sdtype = \"numerical\",\n",
    ")"
   ]
  },
  {
   "cell_type": "code",
   "execution_count": 38,
   "id": "a16f6115-352c-4fd7-8a17-f6090181c2a6",
   "metadata": {},
   "outputs": [
    {
     "name": "stderr",
     "output_type": "stream",
     "text": [
      "/home/sygio/Documents/work/ucla-hack/modeling/.venv/lib/python3.12/site-packages/sdv/multi_table/base.py:87: UserWarning:\n",
      "\n",
      "We strongly recommend saving the metadata using 'save_to_json' for replicability in future SDV versions.\n",
      "\n",
      "Preprocess Tables: 100%|█████████████████████████████████| 2/2 [00:04<00:00,  2.25s/it]\n"
     ]
    },
    {
     "name": "stdout",
     "output_type": "stream",
     "text": [
      "\n",
      "Learning relationships:\n",
      "\n"
     ]
    },
    {
     "name": "stderr",
     "output_type": "stream",
     "text": [
      "Modeling Tables: 100%|███████████████████████████████████| 2/2 [00:15<00:00,  7.60s/it]\n"
     ]
    }
   ],
   "source": [
    "synth = HMASynthesizer(meta)\n",
    "synth.fit(real_data)"
   ]
  },
  {
   "cell_type": "code",
   "execution_count": 39,
   "id": "b643152e-f6e7-4768-bb20-2c5fb3abc017",
   "metadata": {},
   "outputs": [],
   "source": [
    "synth_data = synth.sample(scale = 1)"
   ]
  },
  {
   "cell_type": "code",
   "execution_count": 40,
   "id": "6605fb35-2616-4c71-ad95-064ac961e453",
   "metadata": {},
   "outputs": [
    {
     "data": {
      "text/html": [
       "<div>\n",
       "<style scoped>\n",
       "    .dataframe tbody tr th:only-of-type {\n",
       "        vertical-align: middle;\n",
       "    }\n",
       "\n",
       "    .dataframe tbody tr th {\n",
       "        vertical-align: top;\n",
       "    }\n",
       "\n",
       "    .dataframe thead th {\n",
       "        text-align: right;\n",
       "    }\n",
       "</style>\n",
       "<table border=\"1\" class=\"dataframe\">\n",
       "  <thead>\n",
       "    <tr style=\"text-align: right;\">\n",
       "      <th></th>\n",
       "      <th>log_id</th>\n",
       "      <th>label</th>\n",
       "      <th>user_id</th>\n",
       "      <th>age</th>\n",
       "      <th>gender</th>\n",
       "      <th>residence</th>\n",
       "      <th>city</th>\n",
       "      <th>city_rank</th>\n",
       "      <th>series_dev</th>\n",
       "      <th>series_group</th>\n",
       "      <th>...</th>\n",
       "      <th>ad_click_list_v001</th>\n",
       "      <th>ad_click_list_v002</th>\n",
       "      <th>ad_click_list_v003</th>\n",
       "      <th>ad_close_list_v001</th>\n",
       "      <th>ad_close_list_v002</th>\n",
       "      <th>ad_close_list_v003</th>\n",
       "      <th>pt_d</th>\n",
       "      <th>u_newsCatInterestsST</th>\n",
       "      <th>u_refreshTimes</th>\n",
       "      <th>u_feedLifeCycle</th>\n",
       "    </tr>\n",
       "  </thead>\n",
       "  <tbody>\n",
       "    <tr>\n",
       "      <th>0</th>\n",
       "      <td>655370077</td>\n",
       "      <td>0</td>\n",
       "      <td>101337</td>\n",
       "      <td>8</td>\n",
       "      <td>2</td>\n",
       "      <td>32</td>\n",
       "      <td>195</td>\n",
       "      <td>2</td>\n",
       "      <td>20</td>\n",
       "      <td>7</td>\n",
       "      <td>...</td>\n",
       "      <td>19117^10196^35062^30157^35991</td>\n",
       "      <td>2035^1690^1036^1502^1669</td>\n",
       "      <td>162^328^312</td>\n",
       "      <td>24107</td>\n",
       "      <td>1218</td>\n",
       "      <td>173</td>\n",
       "      <td>202206030139</td>\n",
       "      <td>194^140^76^188^51</td>\n",
       "      <td>8</td>\n",
       "      <td>17</td>\n",
       "    </tr>\n",
       "    <tr>\n",
       "      <th>1</th>\n",
       "      <td>688896014</td>\n",
       "      <td>0</td>\n",
       "      <td>101431</td>\n",
       "      <td>5</td>\n",
       "      <td>2</td>\n",
       "      <td>14</td>\n",
       "      <td>127</td>\n",
       "      <td>3</td>\n",
       "      <td>12</td>\n",
       "      <td>7</td>\n",
       "      <td>...</td>\n",
       "      <td>24075^24498^17926^30426^32776</td>\n",
       "      <td>1779</td>\n",
       "      <td>304^162^321^190</td>\n",
       "      <td>24107</td>\n",
       "      <td>1218</td>\n",
       "      <td>173</td>\n",
       "      <td>202206031028</td>\n",
       "      <td>78^25^86^44^67</td>\n",
       "      <td>4</td>\n",
       "      <td>17</td>\n",
       "    </tr>\n",
       "    <tr>\n",
       "      <th>2</th>\n",
       "      <td>654963116</td>\n",
       "      <td>0</td>\n",
       "      <td>100476</td>\n",
       "      <td>7</td>\n",
       "      <td>2</td>\n",
       "      <td>14</td>\n",
       "      <td>135</td>\n",
       "      <td>2</td>\n",
       "      <td>18</td>\n",
       "      <td>5</td>\n",
       "      <td>...</td>\n",
       "      <td>20974^15666^32675^26463</td>\n",
       "      <td>1653^1227^1036^2017</td>\n",
       "      <td>312^150^350^344^240</td>\n",
       "      <td>24107</td>\n",
       "      <td>1218</td>\n",
       "      <td>173</td>\n",
       "      <td>202206031077</td>\n",
       "      <td>98^98^29^39^121</td>\n",
       "      <td>5</td>\n",
       "      <td>17</td>\n",
       "    </tr>\n",
       "    <tr>\n",
       "      <th>3</th>\n",
       "      <td>680319117</td>\n",
       "      <td>0</td>\n",
       "      <td>100012</td>\n",
       "      <td>8</td>\n",
       "      <td>2</td>\n",
       "      <td>32</td>\n",
       "      <td>411</td>\n",
       "      <td>2</td>\n",
       "      <td>12</td>\n",
       "      <td>3</td>\n",
       "      <td>...</td>\n",
       "      <td>14737^25802^32492^13240^33873</td>\n",
       "      <td>1126^1037^1730^1719^1382</td>\n",
       "      <td>312^280^162^305^367</td>\n",
       "      <td>24107</td>\n",
       "      <td>1218</td>\n",
       "      <td>190</td>\n",
       "      <td>202206030232</td>\n",
       "      <td>98^78^168^8^0</td>\n",
       "      <td>0</td>\n",
       "      <td>17</td>\n",
       "    </tr>\n",
       "    <tr>\n",
       "      <th>4</th>\n",
       "      <td>600890133</td>\n",
       "      <td>0</td>\n",
       "      <td>100327</td>\n",
       "      <td>6</td>\n",
       "      <td>2</td>\n",
       "      <td>33</td>\n",
       "      <td>107</td>\n",
       "      <td>2</td>\n",
       "      <td>15</td>\n",
       "      <td>8</td>\n",
       "      <td>...</td>\n",
       "      <td>34515^29448^32895^10769^32842</td>\n",
       "      <td>1036^1216^1466^1717^1044</td>\n",
       "      <td>293</td>\n",
       "      <td>24107</td>\n",
       "      <td>1218</td>\n",
       "      <td>173</td>\n",
       "      <td>202206030154</td>\n",
       "      <td>0^67^0^0^199</td>\n",
       "      <td>4</td>\n",
       "      <td>11</td>\n",
       "    </tr>\n",
       "  </tbody>\n",
       "</table>\n",
       "<p>5 rows × 35 columns</p>\n",
       "</div>"
      ],
      "text/plain": [
       "      log_id  label  user_id  age  gender  residence  city  city_rank  \\\n",
       "0  655370077      0   101337    8       2         32   195          2   \n",
       "1  688896014      0   101431    5       2         14   127          3   \n",
       "2  654963116      0   100476    7       2         14   135          2   \n",
       "3  680319117      0   100012    8       2         32   411          2   \n",
       "4  600890133      0   100327    6       2         33   107          2   \n",
       "\n",
       "   series_dev  series_group  ...             ad_click_list_v001  \\\n",
       "0          20             7  ...  19117^10196^35062^30157^35991   \n",
       "1          12             7  ...  24075^24498^17926^30426^32776   \n",
       "2          18             5  ...        20974^15666^32675^26463   \n",
       "3          12             3  ...  14737^25802^32492^13240^33873   \n",
       "4          15             8  ...  34515^29448^32895^10769^32842   \n",
       "\n",
       "         ad_click_list_v002   ad_click_list_v003  ad_close_list_v001  \\\n",
       "0  2035^1690^1036^1502^1669          162^328^312               24107   \n",
       "1                      1779      304^162^321^190               24107   \n",
       "2       1653^1227^1036^2017  312^150^350^344^240               24107   \n",
       "3  1126^1037^1730^1719^1382  312^280^162^305^367               24107   \n",
       "4  1036^1216^1466^1717^1044                  293               24107   \n",
       "\n",
       "   ad_close_list_v002  ad_close_list_v003          pt_d  u_newsCatInterestsST  \\\n",
       "0                1218                 173  202206030139     194^140^76^188^51   \n",
       "1                1218                 173  202206031028        78^25^86^44^67   \n",
       "2                1218                 173  202206031077       98^98^29^39^121   \n",
       "3                1218                 190  202206030232         98^78^168^8^0   \n",
       "4                1218                 173  202206030154          0^67^0^0^199   \n",
       "\n",
       "   u_refreshTimes  u_feedLifeCycle  \n",
       "0               8               17  \n",
       "1               4               17  \n",
       "2               5               17  \n",
       "3               0               17  \n",
       "4               4               11  \n",
       "\n",
       "[5 rows x 35 columns]"
      ]
     },
     "execution_count": 40,
     "metadata": {},
     "output_type": "execute_result"
    }
   ],
   "source": [
    "synth_data[\"ad\"].head()"
   ]
  },
  {
   "cell_type": "code",
   "execution_count": 41,
   "id": "83892543-fd23-46c2-a644-6075f88fe5e0",
   "metadata": {},
   "outputs": [
    {
     "name": "stdout",
     "output_type": "stream",
     "text": [
      "Generating report ...\n",
      "\n",
      "(1/3) Evaluating Data Validity: |████████████████████| 63/63 [00:00<00:00, 656.62it/s]|\n",
      "Data Validity Score: 100.0%\n",
      "\n",
      "(2/3) Evaluating Data Structure: |█████████████████████| 2/2 [00:00<00:00, 247.93it/s]|\n",
      "Data Structure Score: 100.0%\n",
      "\n",
      "(3/3) Evaluating Relationship Validity: |                       | 0/0 [00:00<?, ?it/s]|\n",
      "Relationship Validity Score: nan%\n",
      "\n",
      "Overall Score (Average): 100.0%\n",
      "\n"
     ]
    },
    {
     "data": {
      "text/plain": [
       "<sdmetrics.reports.multi_table.diagnostic_report.DiagnosticReport at 0x7168d8b0c1a0>"
      ]
     },
     "execution_count": 41,
     "metadata": {},
     "output_type": "execute_result"
    }
   ],
   "source": [
    "multi_table.run_diagnostic(real_data, synth_data, meta)"
   ]
  },
  {
   "cell_type": "code",
   "execution_count": 42,
   "id": "166b5e6c-4cea-42a1-8a95-62d245e3e429",
   "metadata": {},
   "outputs": [
    {
     "name": "stdout",
     "output_type": "stream",
     "text": [
      "Generating report ...\n",
      "\n",
      "(1/4) Evaluating Column Shapes: |████████████████████| 63/63 [00:00<00:00, 156.53it/s]|\n",
      "Column Shapes Score: 91.81%\n",
      "\n",
      "(2/4) Evaluating Column Pair Trends: |██████████████| 973/973 [00:32<00:00, 29.63it/s]|\n",
      "Column Pair Trends Score: 76.16%\n",
      "\n",
      "(3/4) Evaluating Cardinality: |                                 | 0/0 [00:00<?, ?it/s]|\n",
      "Cardinality Score: nan%\n",
      "\n",
      "(4/4) Evaluating Intertable Trends: |                           | 0/0 [00:00<?, ?it/s]|\n",
      "Intertable Trends Score: nan%\n",
      "\n",
      "Overall Score (Average): 83.99%\n",
      "\n"
     ]
    }
   ],
   "source": [
    "qual_report = multi_table.evaluate_quality(real_data, synth_data, meta)"
   ]
  },
  {
   "cell_type": "code",
   "execution_count": 43,
   "id": "e1bcf660-6f69-4120-a4ba-ae35e08185fd",
   "metadata": {},
   "outputs": [
    {
     "data": {
      "text/html": [
       "<iframe\n",
       "    scrolling=\"no\"\n",
       "    width=\"100%\"\n",
       "    height=\"545px\"\n",
       "    src=\"iframe_figures/figure_43.html\"\n",
       "    frameborder=\"0\"\n",
       "    allowfullscreen\n",
       "></iframe>\n"
      ]
     },
     "metadata": {},
     "output_type": "display_data"
    }
   ],
   "source": [
    "fig = multi_table.get_column_pair_plot(\n",
    "    real_data = real_data,\n",
    "    synthetic_data = synth_data,\n",
    "    metadata = meta,\n",
    "    table_name = \"ad\",\n",
    "    column_names = [\"label\", \"city\"],\n",
    ")\n",
    "    \n",
    "fig.show()"
   ]
  },
  {
   "cell_type": "code",
   "execution_count": 44,
   "id": "36c7ef8c-9ed7-4673-8b8c-fd1963310610",
   "metadata": {},
   "outputs": [],
   "source": [
    "from sklearn.linear_model import LogisticRegression\n",
    "from sklearn.model_selection import train_test_split"
   ]
  },
  {
   "cell_type": "code",
   "execution_count": 45,
   "id": "dc858d2e-21f8-477a-939c-fd42efdbeb77",
   "metadata": {},
   "outputs": [],
   "source": [
    "model = LogisticRegression()"
   ]
  },
  {
   "cell_type": "code",
   "execution_count": 46,
   "id": "c2de1565-6063-4ffc-ba83-e3972776fdfd",
   "metadata": {},
   "outputs": [],
   "source": [
    "ad_user_ids = ad_data.select(pl.col(\"user_id\")).unique().collect()"
   ]
  },
  {
   "cell_type": "code",
   "execution_count": 47,
   "id": "e976c810-ac4e-4f61-9ed8-ab752eec8a24",
   "metadata": {},
   "outputs": [],
   "source": [
    "feed_cl = feed_data.with_columns([\n",
    "    pl.col(\"user_id\").is_in(ad_user_ids).alias(\"clicked\").cast(pl.Int64),\n",
    "    pl.col(\"e_et\").dt.hour().alias(\"hour\"),\n",
    "])"
   ]
  },
  {
   "cell_type": "code",
   "execution_count": 48,
   "id": "fa1b4dca-e4f4-4e84-8c9b-cde0df66adeb",
   "metadata": {},
   "outputs": [
    {
     "data": {},
     "metadata": {},
     "output_type": "display_data"
    },
    {
     "data": {
      "application/vnd.holoviews_exec.v0+json": "",
      "text/html": [
       "<div id='p1612'>\n",
       "  <div id=\"d0625aa5-7f54-4aa9-a7fe-0c4bdff547a1\" data-root-id=\"p1612\" style=\"display: contents;\"></div>\n",
       "</div>\n",
       "<script type=\"application/javascript\">(function(root) {\n",
       "  var docs_json = {\"3b49e5df-134b-412a-9335-08f8475281a9\":{\"version\":\"3.4.2\",\"title\":\"Bokeh Application\",\"roots\":[{\"type\":\"object\",\"name\":\"Row\",\"id\":\"p1612\",\"attributes\":{\"name\":\"Row02620\",\"tags\":[\"embedded\"],\"stylesheets\":[\"\\n:host(.pn-loading):before, .pn-loading:before {\\n  background-color: #c3c3c3;\\n  mask-size: auto calc(min(50%, 400px));\\n  -webkit-mask-size: auto calc(min(50%, 400px));\\n}\",{\"type\":\"object\",\"name\":\"ImportedStyleSheet\",\"id\":\"p1615\",\"attributes\":{\"url\":\"https://cdn.holoviz.org/panel/1.4.4/dist/css/loading.css\"}},{\"type\":\"object\",\"name\":\"ImportedStyleSheet\",\"id\":\"p1672\",\"attributes\":{\"url\":\"https://cdn.holoviz.org/panel/1.4.4/dist/css/listpanel.css\"}},{\"type\":\"object\",\"name\":\"ImportedStyleSheet\",\"id\":\"p1613\",\"attributes\":{\"url\":\"https://cdn.holoviz.org/panel/1.4.4/dist/bundled/theme/default.css\"}},{\"type\":\"object\",\"name\":\"ImportedStyleSheet\",\"id\":\"p1614\",\"attributes\":{\"url\":\"https://cdn.holoviz.org/panel/1.4.4/dist/bundled/theme/native.css\"}}],\"min_width\":700,\"margin\":0,\"sizing_mode\":\"stretch_width\",\"align\":\"start\",\"children\":[{\"type\":\"object\",\"name\":\"Spacer\",\"id\":\"p1616\",\"attributes\":{\"name\":\"HSpacer02627\",\"stylesheets\":[\"\\n:host(.pn-loading):before, .pn-loading:before {\\n  background-color: #c3c3c3;\\n  mask-size: auto calc(min(50%, 400px));\\n  -webkit-mask-size: auto calc(min(50%, 400px));\\n}\",{\"id\":\"p1615\"},{\"id\":\"p1613\"},{\"id\":\"p1614\"}],\"margin\":0,\"sizing_mode\":\"stretch_width\",\"align\":\"start\"}},{\"type\":\"object\",\"name\":\"Figure\",\"id\":\"p1624\",\"attributes\":{\"width\":700,\"height\":300,\"margin\":[5,10],\"sizing_mode\":\"fixed\",\"align\":\"start\",\"x_range\":{\"type\":\"object\",\"name\":\"FactorRange\",\"id\":\"p1617\",\"attributes\":{\"tags\":[[[\"index\",\"index\",null],[\"Variable\",\"Variable\",null]],[]],\"factors\":[[\"0\",\"hour\"],[\"0\",\"InterestedST\"],[\"0\",\"Disliked\"],[\"0\",\"Interested\"],[\"0\",\"pro\"],[\"0\",\"cillabel\"],[\"0\",\"label\"],[\"0\",\"e_et\"],[\"0\",\"e_section\"],[\"0\",\"e_rn\"],[\"0\",\"e_pl\"],[\"0\",\"e_po\"],[\"0\",\"e_m\"],[\"0\",\"e_ch\"],[\"0\",\"i_dtype\"],[\"0\",\"i_upTimes\"],[\"0\",\"i_dislikeTimes\"],[\"0\",\"i_entities\"],[\"0\",\"i_cat\"],[\"0\",\"i_regionEntity\"],[\"0\",\"i_s_sourceId\"],[\"0\",\"i_docId\"],[\"0\",\"u_refreshTimes\"],[\"0\",\"u_feedLifeCycle\"],[\"0\",\"u_browserMode\"],[\"0\",\"u_browserLifeCycle\"],[\"0\",\"u_phonePrice\"],[\"0\",\"user_id\"]]}},\"y_range\":{\"type\":\"object\",\"name\":\"Range1d\",\"id\":\"p1618\",\"attributes\":{\"tags\":[[[\"value\",\"value\",null]],{\"type\":\"map\",\"entries\":[[\"invert_yaxis\",false],[\"autorange\",false]]}],\"start\":-0.210866834764403,\"end\":0.4449247238266737,\"reset_start\":-0.210866834764403,\"reset_end\":0.4449247238266737}},\"x_scale\":{\"type\":\"object\",\"name\":\"CategoricalScale\",\"id\":\"p1634\"},\"y_scale\":{\"type\":\"object\",\"name\":\"LinearScale\",\"id\":\"p1635\"},\"title\":{\"type\":\"object\",\"name\":\"Title\",\"id\":\"p1627\",\"attributes\":{\"text_color\":\"black\",\"text_font_size\":\"12pt\"}},\"renderers\":[{\"type\":\"object\",\"name\":\"GlyphRenderer\",\"id\":\"p1665\",\"attributes\":{\"data_source\":{\"type\":\"object\",\"name\":\"ColumnDataSource\",\"id\":\"p1656\",\"attributes\":{\"selected\":{\"type\":\"object\",\"name\":\"Selection\",\"id\":\"p1657\",\"attributes\":{\"indices\":[],\"line_indices\":[]}},\"selection_policy\":{\"type\":\"object\",\"name\":\"UnionRenderers\",\"id\":\"p1658\"},\"data\":{\"type\":\"map\",\"entries\":[[\"xoffsets\",[[\"0\",\"user_id\"],[\"0\",\"u_phonePrice\"],[\"0\",\"u_browserLifeCycle\"],[\"0\",\"u_browserMode\"],[\"0\",\"u_feedLifeCycle\"],[\"0\",\"u_refreshTimes\"],[\"0\",\"i_docId\"],[\"0\",\"i_s_sourceId\"],[\"0\",\"i_regionEntity\"],[\"0\",\"i_cat\"],[\"0\",\"i_entities\"],[\"0\",\"i_dislikeTimes\"],[\"0\",\"i_upTimes\"],[\"0\",\"i_dtype\"],[\"0\",\"e_ch\"],[\"0\",\"e_m\"],[\"0\",\"e_po\"],[\"0\",\"e_pl\"],[\"0\",\"e_rn\"],[\"0\",\"e_section\"],[\"0\",\"e_et\"],[\"0\",\"label\"],[\"0\",\"cillabel\"],[\"0\",\"pro\"],[\"0\",\"Interested\"],[\"0\",\"Disliked\"],[\"0\",\"InterestedST\"],[\"0\",\"hour\"]]],[\"value\",{\"type\":\"ndarray\",\"array\":{\"type\":\"bytes\",\"data\":\"P6vHJtuSS7+Q6krFlqdcv9XiWkZPB84/49kKLimikz89dwNkaLnUPxexJclF+tg/AAAAAAAA+H8AAAAAAAD4f4QEILXesqC/eSMZIza2jr8AAAAAAAD4f+VPP7F2k7W/JPRHmJKHwb+hOVGgavymP7JkGKNsEqi/nk+Pw0uzgr+dmd92M8SBP6edO6bJy34//5foZskDsz80DNmw7/7Dv4MBrMl4a4k/wg1GrTZ7qj9FUs3dPLpdP1sqfmBPwKc/nLMzIVR5qz+ffMbjgDJ1P4X15+o09rk/z43f+TzmhD8=\"},\"shape\":[28],\"dtype\":\"float64\",\"order\":\"little\"}],[\"index\",[\"0\",\"0\",\"0\",\"0\",\"0\",\"0\",\"0\",\"0\",\"0\",\"0\",\"0\",\"0\",\"0\",\"0\",\"0\",\"0\",\"0\",\"0\",\"0\",\"0\",\"0\",\"0\",\"0\",\"0\",\"0\",\"0\",\"0\",\"0\"]],[\"Variable\",[\"user_id\",\"u_phonePrice\",\"u_browserLifeCycle\",\"u_browserMode\",\"u_feedLifeCycle\",\"u_refreshTimes\",\"i_docId\",\"i_s_sourceId\",\"i_regionEntity\",\"i_cat\",\"i_entities\",\"i_dislikeTimes\",\"i_upTimes\",\"i_dtype\",\"e_ch\",\"e_m\",\"e_po\",\"e_pl\",\"e_rn\",\"e_section\",\"e_et\",\"label\",\"cillabel\",\"pro\",\"Interested\",\"Disliked\",\"InterestedST\",\"hour\"]]]}}},\"view\":{\"type\":\"object\",\"name\":\"CDSView\",\"id\":\"p1666\",\"attributes\":{\"filter\":{\"type\":\"object\",\"name\":\"AllIndices\",\"id\":\"p1667\"}}},\"glyph\":{\"type\":\"object\",\"name\":\"VBar\",\"id\":\"p1662\",\"attributes\":{\"tags\":[\"apply_ranges\"],\"x\":{\"type\":\"field\",\"field\":\"xoffsets\"},\"width\":{\"type\":\"value\",\"value\":0.8},\"top\":{\"type\":\"field\",\"field\":\"value\"},\"fill_color\":{\"type\":\"field\",\"field\":\"Variable\",\"transform\":{\"type\":\"object\",\"name\":\"CategoricalColorMapper\",\"id\":\"p1655\",\"attributes\":{\"palette\":[\"#30a2da\",\"#fc4f30\",\"#e5ae38\",\"#6d904f\",\"#8b8b8b\",\"#17becf\",\"#9467bd\",\"#d62728\",\"#1f77b4\",\"#e377c2\",\"#8c564b\",\"#bcbd22\",\"#30a2da\",\"#fc4f30\",\"#e5ae38\",\"#6d904f\",\"#8b8b8b\",\"#17becf\",\"#9467bd\",\"#d62728\",\"#1f77b4\",\"#e377c2\",\"#8c564b\",\"#bcbd22\",\"#30a2da\",\"#fc4f30\",\"#e5ae38\",\"#6d904f\"],\"factors\":[\"user_id\",\"u_phonePrice\",\"u_browserLifeCycle\",\"u_browserMode\",\"u_feedLifeCycle\",\"u_refreshTimes\",\"i_docId\",\"i_s_sourceId\",\"i_regionEntity\",\"i_cat\",\"i_entities\",\"i_dislikeTimes\",\"i_upTimes\",\"i_dtype\",\"e_ch\",\"e_m\",\"e_po\",\"e_pl\",\"e_rn\",\"e_section\",\"e_et\",\"label\",\"cillabel\",\"pro\",\"Interested\",\"Disliked\",\"InterestedST\",\"hour\"]}}},\"hatch_color\":{\"type\":\"field\",\"field\":\"Variable\",\"transform\":{\"id\":\"p1655\"}}}},\"selection_glyph\":{\"type\":\"object\",\"name\":\"VBar\",\"id\":\"p1668\",\"attributes\":{\"tags\":[\"apply_ranges\"],\"x\":{\"type\":\"field\",\"field\":\"xoffsets\"},\"width\":{\"type\":\"value\",\"value\":0.8},\"bottom\":{\"type\":\"value\",\"value\":0},\"top\":{\"type\":\"field\",\"field\":\"value\"},\"line_color\":{\"type\":\"value\",\"value\":\"black\"},\"line_alpha\":{\"type\":\"value\",\"value\":1.0},\"line_width\":{\"type\":\"value\",\"value\":1},\"line_join\":{\"type\":\"value\",\"value\":\"bevel\"},\"line_cap\":{\"type\":\"value\",\"value\":\"butt\"},\"line_dash\":{\"type\":\"value\",\"value\":[]},\"line_dash_offset\":{\"type\":\"value\",\"value\":0},\"fill_color\":{\"type\":\"field\",\"field\":\"Variable\",\"transform\":{\"id\":\"p1655\"}},\"fill_alpha\":{\"type\":\"value\",\"value\":1.0},\"hatch_color\":{\"type\":\"field\",\"field\":\"Variable\",\"transform\":{\"id\":\"p1655\"}},\"hatch_alpha\":{\"type\":\"value\",\"value\":1.0},\"hatch_scale\":{\"type\":\"value\",\"value\":12.0},\"hatch_pattern\":{\"type\":\"value\",\"value\":null},\"hatch_weight\":{\"type\":\"value\",\"value\":1.0}}},\"nonselection_glyph\":{\"type\":\"object\",\"name\":\"VBar\",\"id\":\"p1663\",\"attributes\":{\"tags\":[\"apply_ranges\"],\"x\":{\"type\":\"field\",\"field\":\"xoffsets\"},\"width\":{\"type\":\"value\",\"value\":0.8},\"top\":{\"type\":\"field\",\"field\":\"value\"},\"line_alpha\":{\"type\":\"value\",\"value\":0.1},\"fill_color\":{\"type\":\"field\",\"field\":\"Variable\",\"transform\":{\"id\":\"p1655\"}},\"fill_alpha\":{\"type\":\"value\",\"value\":0.1},\"hatch_color\":{\"type\":\"field\",\"field\":\"Variable\",\"transform\":{\"id\":\"p1655\"}},\"hatch_alpha\":{\"type\":\"value\",\"value\":0.1}}},\"muted_glyph\":{\"type\":\"object\",\"name\":\"VBar\",\"id\":\"p1664\",\"attributes\":{\"tags\":[\"apply_ranges\"],\"x\":{\"type\":\"field\",\"field\":\"xoffsets\"},\"width\":{\"type\":\"value\",\"value\":0.8},\"top\":{\"type\":\"field\",\"field\":\"value\"},\"line_alpha\":{\"type\":\"value\",\"value\":0.2},\"fill_color\":{\"type\":\"field\",\"field\":\"Variable\",\"transform\":{\"id\":\"p1655\"}},\"fill_alpha\":{\"type\":\"value\",\"value\":0.2},\"hatch_color\":{\"type\":\"field\",\"field\":\"Variable\",\"transform\":{\"id\":\"p1655\"}},\"hatch_alpha\":{\"type\":\"value\",\"value\":0.2}}}}}],\"toolbar\":{\"type\":\"object\",\"name\":\"Toolbar\",\"id\":\"p1633\",\"attributes\":{\"tools\":[{\"type\":\"object\",\"name\":\"WheelZoomTool\",\"id\":\"p1622\",\"attributes\":{\"tags\":[\"hv_created\"],\"renderers\":\"auto\",\"zoom_together\":\"none\"}},{\"type\":\"object\",\"name\":\"HoverTool\",\"id\":\"p1623\",\"attributes\":{\"tags\":[\"hv_created\"],\"renderers\":[{\"id\":\"p1665\"}],\"tooltips\":[[\"index\",\"@{index}\"],[\"Variable\",\"@{Variable}\"],[\"value\",\"@{value}\"]]}},{\"type\":\"object\",\"name\":\"SaveTool\",\"id\":\"p1646\"},{\"type\":\"object\",\"name\":\"PanTool\",\"id\":\"p1647\"},{\"type\":\"object\",\"name\":\"BoxZoomTool\",\"id\":\"p1648\",\"attributes\":{\"overlay\":{\"type\":\"object\",\"name\":\"BoxAnnotation\",\"id\":\"p1649\",\"attributes\":{\"syncable\":false,\"level\":\"overlay\",\"visible\":false,\"left\":{\"type\":\"number\",\"value\":\"nan\"},\"right\":{\"type\":\"number\",\"value\":\"nan\"},\"top\":{\"type\":\"number\",\"value\":\"nan\"},\"bottom\":{\"type\":\"number\",\"value\":\"nan\"},\"left_units\":\"canvas\",\"right_units\":\"canvas\",\"top_units\":\"canvas\",\"bottom_units\":\"canvas\",\"line_color\":\"black\",\"line_alpha\":1.0,\"line_width\":2,\"line_dash\":[4,4],\"fill_color\":\"lightgrey\",\"fill_alpha\":0.5}}}},{\"type\":\"object\",\"name\":\"ResetTool\",\"id\":\"p1654\"}],\"active_drag\":{\"id\":\"p1647\"},\"active_scroll\":{\"id\":\"p1622\"}}},\"left\":[{\"type\":\"object\",\"name\":\"LinearAxis\",\"id\":\"p1641\",\"attributes\":{\"ticker\":{\"type\":\"object\",\"name\":\"BasicTicker\",\"id\":\"p1642\",\"attributes\":{\"mantissas\":[1,2,5]}},\"formatter\":{\"type\":\"object\",\"name\":\"BasicTickFormatter\",\"id\":\"p1643\"},\"axis_label\":\"\",\"major_label_policy\":{\"type\":\"object\",\"name\":\"AllLabels\",\"id\":\"p1644\"}}}],\"below\":[{\"type\":\"object\",\"name\":\"CategoricalAxis\",\"id\":\"p1636\",\"attributes\":{\"ticker\":{\"type\":\"object\",\"name\":\"CategoricalTicker\",\"id\":\"p1637\"},\"formatter\":{\"type\":\"object\",\"name\":\"CategoricalTickFormatter\",\"id\":\"p1638\"},\"axis_label\":\"\",\"major_label_policy\":{\"type\":\"object\",\"name\":\"AllLabels\",\"id\":\"p1639\"}}}],\"center\":[{\"type\":\"object\",\"name\":\"Grid\",\"id\":\"p1640\",\"attributes\":{\"axis\":{\"id\":\"p1636\"},\"grid_line_color\":null}},{\"type\":\"object\",\"name\":\"Grid\",\"id\":\"p1645\",\"attributes\":{\"dimension\":1,\"axis\":{\"id\":\"p1641\"},\"grid_line_color\":null}}],\"min_border_top\":10,\"min_border_bottom\":10,\"min_border_left\":10,\"min_border_right\":10,\"output_backend\":\"webgl\"}},{\"type\":\"object\",\"name\":\"Spacer\",\"id\":\"p1670\",\"attributes\":{\"name\":\"HSpacer02628\",\"stylesheets\":[\"\\n:host(.pn-loading):before, .pn-loading:before {\\n  background-color: #c3c3c3;\\n  mask-size: auto calc(min(50%, 400px));\\n  -webkit-mask-size: auto calc(min(50%, 400px));\\n}\",{\"id\":\"p1615\"},{\"id\":\"p1613\"},{\"id\":\"p1614\"}],\"margin\":0,\"sizing_mode\":\"stretch_width\",\"align\":\"start\"}}]}}],\"defs\":[{\"type\":\"model\",\"name\":\"ReactiveHTML1\"},{\"type\":\"model\",\"name\":\"FlexBox1\",\"properties\":[{\"name\":\"align_content\",\"kind\":\"Any\",\"default\":\"flex-start\"},{\"name\":\"align_items\",\"kind\":\"Any\",\"default\":\"flex-start\"},{\"name\":\"flex_direction\",\"kind\":\"Any\",\"default\":\"row\"},{\"name\":\"flex_wrap\",\"kind\":\"Any\",\"default\":\"wrap\"},{\"name\":\"gap\",\"kind\":\"Any\",\"default\":\"\"},{\"name\":\"justify_content\",\"kind\":\"Any\",\"default\":\"flex-start\"}]},{\"type\":\"model\",\"name\":\"FloatPanel1\",\"properties\":[{\"name\":\"config\",\"kind\":\"Any\",\"default\":{\"type\":\"map\"}},{\"name\":\"contained\",\"kind\":\"Any\",\"default\":true},{\"name\":\"position\",\"kind\":\"Any\",\"default\":\"right-top\"},{\"name\":\"offsetx\",\"kind\":\"Any\",\"default\":null},{\"name\":\"offsety\",\"kind\":\"Any\",\"default\":null},{\"name\":\"theme\",\"kind\":\"Any\",\"default\":\"primary\"},{\"name\":\"status\",\"kind\":\"Any\",\"default\":\"normalized\"}]},{\"type\":\"model\",\"name\":\"GridStack1\",\"properties\":[{\"name\":\"mode\",\"kind\":\"Any\",\"default\":\"warn\"},{\"name\":\"ncols\",\"kind\":\"Any\",\"default\":null},{\"name\":\"nrows\",\"kind\":\"Any\",\"default\":null},{\"name\":\"allow_resize\",\"kind\":\"Any\",\"default\":true},{\"name\":\"allow_drag\",\"kind\":\"Any\",\"default\":true},{\"name\":\"state\",\"kind\":\"Any\",\"default\":[]}]},{\"type\":\"model\",\"name\":\"drag1\",\"properties\":[{\"name\":\"slider_width\",\"kind\":\"Any\",\"default\":5},{\"name\":\"slider_color\",\"kind\":\"Any\",\"default\":\"black\"},{\"name\":\"value\",\"kind\":\"Any\",\"default\":50}]},{\"type\":\"model\",\"name\":\"click1\",\"properties\":[{\"name\":\"terminal_output\",\"kind\":\"Any\",\"default\":\"\"},{\"name\":\"debug_name\",\"kind\":\"Any\",\"default\":\"\"},{\"name\":\"clears\",\"kind\":\"Any\",\"default\":0}]},{\"type\":\"model\",\"name\":\"FastWrapper1\",\"properties\":[{\"name\":\"object\",\"kind\":\"Any\",\"default\":null},{\"name\":\"style\",\"kind\":\"Any\",\"default\":null}]},{\"type\":\"model\",\"name\":\"NotificationAreaBase1\",\"properties\":[{\"name\":\"js_events\",\"kind\":\"Any\",\"default\":{\"type\":\"map\"}},{\"name\":\"position\",\"kind\":\"Any\",\"default\":\"bottom-right\"},{\"name\":\"_clear\",\"kind\":\"Any\",\"default\":0}]},{\"type\":\"model\",\"name\":\"NotificationArea1\",\"properties\":[{\"name\":\"js_events\",\"kind\":\"Any\",\"default\":{\"type\":\"map\"}},{\"name\":\"notifications\",\"kind\":\"Any\",\"default\":[]},{\"name\":\"position\",\"kind\":\"Any\",\"default\":\"bottom-right\"},{\"name\":\"_clear\",\"kind\":\"Any\",\"default\":0},{\"name\":\"types\",\"kind\":\"Any\",\"default\":[{\"type\":\"map\",\"entries\":[[\"type\",\"warning\"],[\"background\",\"#ffc107\"],[\"icon\",{\"type\":\"map\",\"entries\":[[\"className\",\"fas fa-exclamation-triangle\"],[\"tagName\",\"i\"],[\"color\",\"white\"]]}]]},{\"type\":\"map\",\"entries\":[[\"type\",\"info\"],[\"background\",\"#007bff\"],[\"icon\",{\"type\":\"map\",\"entries\":[[\"className\",\"fas fa-info-circle\"],[\"tagName\",\"i\"],[\"color\",\"white\"]]}]]}]}]},{\"type\":\"model\",\"name\":\"Notification\",\"properties\":[{\"name\":\"background\",\"kind\":\"Any\",\"default\":null},{\"name\":\"duration\",\"kind\":\"Any\",\"default\":3000},{\"name\":\"icon\",\"kind\":\"Any\",\"default\":null},{\"name\":\"message\",\"kind\":\"Any\",\"default\":\"\"},{\"name\":\"notification_type\",\"kind\":\"Any\",\"default\":null},{\"name\":\"_destroyed\",\"kind\":\"Any\",\"default\":false}]},{\"type\":\"model\",\"name\":\"TemplateActions1\",\"properties\":[{\"name\":\"open_modal\",\"kind\":\"Any\",\"default\":0},{\"name\":\"close_modal\",\"kind\":\"Any\",\"default\":0}]},{\"type\":\"model\",\"name\":\"BootstrapTemplateActions1\",\"properties\":[{\"name\":\"open_modal\",\"kind\":\"Any\",\"default\":0},{\"name\":\"close_modal\",\"kind\":\"Any\",\"default\":0}]},{\"type\":\"model\",\"name\":\"TemplateEditor1\",\"properties\":[{\"name\":\"layout\",\"kind\":\"Any\",\"default\":[]}]},{\"type\":\"model\",\"name\":\"MaterialTemplateActions1\",\"properties\":[{\"name\":\"open_modal\",\"kind\":\"Any\",\"default\":0},{\"name\":\"close_modal\",\"kind\":\"Any\",\"default\":0}]},{\"type\":\"model\",\"name\":\"copy_to_clipboard1\",\"properties\":[{\"name\":\"fill\",\"kind\":\"Any\",\"default\":\"none\"},{\"name\":\"value\",\"kind\":\"Any\",\"default\":null}]}]}};\n",
       "  var render_items = [{\"docid\":\"3b49e5df-134b-412a-9335-08f8475281a9\",\"roots\":{\"p1612\":\"d0625aa5-7f54-4aa9-a7fe-0c4bdff547a1\"},\"root_ids\":[\"p1612\"]}];\n",
       "  var docs = Object.values(docs_json)\n",
       "  if (!docs) {\n",
       "    return\n",
       "  }\n",
       "  const py_version = docs[0].version.replace('rc', '-rc.').replace('.dev', '-dev.')\n",
       "  async function embed_document(root) {\n",
       "    var Bokeh = get_bokeh(root)\n",
       "    await Bokeh.embed.embed_items_notebook(docs_json, render_items);\n",
       "    for (const render_item of render_items) {\n",
       "      for (const root_id of render_item.root_ids) {\n",
       "\tconst id_el = document.getElementById(root_id)\n",
       "\tif (id_el.children.length && id_el.children[0].hasAttribute('data-root-id')) {\n",
       "\t  const root_el = id_el.children[0]\n",
       "\t  root_el.id = root_el.id + '-rendered'\n",
       "\t  for (const child of root_el.children) {\n",
       "            // Ensure JupyterLab does not capture keyboard shortcuts\n",
       "            // see: https://jupyterlab.readthedocs.io/en/4.1.x/extension/notebook.html#keyboard-interaction-model\n",
       "\t    child.setAttribute('data-lm-suppress-shortcuts', 'true')\n",
       "\t  }\n",
       "\t}\n",
       "      }\n",
       "    }\n",
       "  }\n",
       "  function get_bokeh(root) {\n",
       "    if (root.Bokeh === undefined) {\n",
       "      return null\n",
       "    } else if (root.Bokeh.version !== py_version) {\n",
       "      if (root.Bokeh.versions === undefined || !root.Bokeh.versions.has(py_version)) {\n",
       "\treturn null\n",
       "      }\n",
       "      return root.Bokeh.versions.get(py_version);\n",
       "    } else if (root.Bokeh.version === py_version) {\n",
       "      return root.Bokeh\n",
       "    }\n",
       "    return null\n",
       "  }\n",
       "  function is_loaded(root) {\n",
       "    var Bokeh = get_bokeh(root)\n",
       "    return (Bokeh != null && Bokeh.Panel !== undefined)\n",
       "  }\n",
       "  if (is_loaded(root)) {\n",
       "    embed_document(root);\n",
       "  } else {\n",
       "    var attempts = 0;\n",
       "    var timer = setInterval(function(root) {\n",
       "      if (is_loaded(root)) {\n",
       "        clearInterval(timer);\n",
       "        embed_document(root);\n",
       "      } else if (document.readyState == \"complete\") {\n",
       "        attempts++;\n",
       "        if (attempts > 200) {\n",
       "          clearInterval(timer);\n",
       "\t  var Bokeh = get_bokeh(root)\n",
       "\t  if (Bokeh == null || Bokeh.Panel == null) {\n",
       "            console.warn(\"Panel: ERROR: Unable to run Panel code because Bokeh or Panel library is missing\");\n",
       "\t  } else {\n",
       "\t    console.warn(\"Panel: WARNING: Attempting to render but not all required libraries could be resolved.\")\n",
       "\t    embed_document(root)\n",
       "\t  }\n",
       "        }\n",
       "      }\n",
       "    }, 25, root)\n",
       "  }\n",
       "})(window);</script>"
      ],
      "text/plain": [
       ":Bars   [index,Variable]   (value)"
      ]
     },
     "execution_count": 48,
     "metadata": {
      "application/vnd.holoviews_exec.v0+json": {
       "id": "p1612"
      }
     },
     "output_type": "execute_result"
    }
   ],
   "source": [
    "feed_cl.select(\n",
    "    pl.corr(col_name, \"clicked\")\n",
    "    for col_name, dtype in zip(feed_cl.columns, feed_cl.dtypes)\n",
    "    if col_name != \"clicked\" and dtype != pl.List\n",
    ").collect().plot.bar()"
   ]
  },
  {
   "cell_type": "code",
   "execution_count": 49,
   "id": "4375947b-c47f-4dbe-bfc0-18a80ce6a1ca",
   "metadata": {},
   "outputs": [],
   "source": [
    "feed_cl_num = feed_cl.select(pl.exclude(pl.List(pl.Int64), pl.String, pl.Datetime))"
   ]
  },
  {
   "cell_type": "code",
   "execution_count": 50,
   "id": "ab5ccff3-01b8-43c4-a53b-6113dabe708a",
   "metadata": {},
   "outputs": [],
   "source": [
    "feed_cl_num_df = feed_cl_num.head(10000).collect()"
   ]
  },
  {
   "cell_type": "code",
   "execution_count": 94,
   "id": "906ee73e-83b5-4822-98b8-8c31b474e520",
   "metadata": {},
   "outputs": [
    {
     "data": {},
     "metadata": {},
     "output_type": "display_data"
    },
    {
     "data": {
      "application/vnd.holoviews_exec.v0+json": "",
      "text/html": [
       "<div id='p1877'>\n",
       "  <div id=\"fde1e92d-bc87-4c0c-840c-7942a15d1991\" data-root-id=\"p1877\" style=\"display: contents;\"></div>\n",
       "</div>\n",
       "<script type=\"application/javascript\">(function(root) {\n",
       "  var docs_json = {\"d3ea8c39-6e9b-43e5-880c-f8678a75818a\":{\"version\":\"3.4.2\",\"title\":\"Bokeh Application\",\"roots\":[{\"type\":\"object\",\"name\":\"Row\",\"id\":\"p1877\",\"attributes\":{\"name\":\"Row03513\",\"tags\":[\"embedded\"],\"stylesheets\":[\"\\n:host(.pn-loading):before, .pn-loading:before {\\n  background-color: #c3c3c3;\\n  mask-size: auto calc(min(50%, 400px));\\n  -webkit-mask-size: auto calc(min(50%, 400px));\\n}\",{\"type\":\"object\",\"name\":\"ImportedStyleSheet\",\"id\":\"p1880\",\"attributes\":{\"url\":\"https://cdn.holoviz.org/panel/1.4.4/dist/css/loading.css\"}},{\"type\":\"object\",\"name\":\"ImportedStyleSheet\",\"id\":\"p1940\",\"attributes\":{\"url\":\"https://cdn.holoviz.org/panel/1.4.4/dist/css/listpanel.css\"}},{\"type\":\"object\",\"name\":\"ImportedStyleSheet\",\"id\":\"p1878\",\"attributes\":{\"url\":\"https://cdn.holoviz.org/panel/1.4.4/dist/bundled/theme/default.css\"}},{\"type\":\"object\",\"name\":\"ImportedStyleSheet\",\"id\":\"p1879\",\"attributes\":{\"url\":\"https://cdn.holoviz.org/panel/1.4.4/dist/bundled/theme/native.css\"}}],\"min_width\":700,\"margin\":0,\"sizing_mode\":\"stretch_width\",\"align\":\"start\",\"children\":[{\"type\":\"object\",\"name\":\"Spacer\",\"id\":\"p1881\",\"attributes\":{\"name\":\"HSpacer03520\",\"stylesheets\":[\"\\n:host(.pn-loading):before, .pn-loading:before {\\n  background-color: #c3c3c3;\\n  mask-size: auto calc(min(50%, 400px));\\n  -webkit-mask-size: auto calc(min(50%, 400px));\\n}\",{\"id\":\"p1880\"},{\"id\":\"p1878\"},{\"id\":\"p1879\"}],\"margin\":0,\"sizing_mode\":\"stretch_width\",\"align\":\"start\"}},{\"type\":\"object\",\"name\":\"Figure\",\"id\":\"p1889\",\"attributes\":{\"width\":700,\"height\":300,\"margin\":[5,10],\"sizing_mode\":\"fixed\",\"align\":\"start\",\"x_range\":{\"type\":\"object\",\"name\":\"FactorRange\",\"id\":\"p1882\",\"attributes\":{\"tags\":[[[\"index\",\"index\",null]],[]],\"factors\":[\"user_id\",\"u_phonePrice\",\"u_browserLifeCycle\",\"u_browserMode\",\"u_feedLifeCycle\",\"u_refreshTimes\",\"i_regionEntity\",\"i_cat\",\"i_dislikeTimes\",\"i_upTimes\",\"i_dtype\",\"e_ch\",\"e_m\",\"e_po\",\"e_pl\",\"e_rn\",\"e_section\",\"label\",\"cillabel\",\"pro\",\"Interested\",\"Disliked\",\"InterestedST\",\"clicked\",\"hour\"]}},\"y_range\":{\"type\":\"object\",\"name\":\"FactorRange\",\"id\":\"p1883\",\"attributes\":{\"tags\":[[[\"variable\",\"variable\",null]],{\"type\":\"map\",\"entries\":[[\"invert_yaxis\",false],[\"autorange\",false]]}],\"factors\":[\"user_id\",\"u_phonePrice\",\"u_browserLifeCycle\",\"u_browserMode\",\"u_feedLifeCycle\",\"u_refreshTimes\",\"i_regionEntity\",\"i_cat\",\"i_dislikeTimes\",\"i_upTimes\",\"i_dtype\",\"e_ch\",\"e_m\",\"e_po\",\"e_pl\",\"e_rn\",\"e_section\",\"label\",\"cillabel\",\"pro\",\"Interested\",\"Disliked\",\"InterestedST\",\"clicked\",\"hour\"]}},\"x_scale\":{\"type\":\"object\",\"name\":\"CategoricalScale\",\"id\":\"p1899\"},\"y_scale\":{\"type\":\"object\",\"name\":\"CategoricalScale\",\"id\":\"p1900\"},\"title\":{\"type\":\"object\",\"name\":\"Title\",\"id\":\"p1892\",\"attributes\":{\"text_color\":\"black\",\"text_font_size\":\"12pt\"}},\"renderers\":[{\"type\":\"object\",\"name\":\"GlyphRenderer\",\"id\":\"p1931\",\"attributes\":{\"data_source\":{\"type\":\"object\",\"name\":\"ColumnDataSource\",\"id\":\"p1921\",\"attributes\":{\"selected\":{\"type\":\"object\",\"name\":\"Selection\",\"id\":\"p1922\",\"attributes\":{\"indices\":[],\"line_indices\":[]}},\"selection_policy\":{\"type\":\"object\",\"name\":\"UnionRenderers\",\"id\":\"p1923\"},\"data\":{\"type\":\"map\",\"entries\":[[\"index\",[\"user_id\",\"user_id\",\"user_id\",\"user_id\",\"user_id\",\"user_id\",\"user_id\",\"user_id\",\"user_id\",\"user_id\",\"user_id\",\"user_id\",\"user_id\",\"user_id\",\"user_id\",\"user_id\",\"user_id\",\"user_id\",\"user_id\",\"user_id\",\"user_id\",\"user_id\",\"user_id\",\"user_id\",\"user_id\",\"u_phonePrice\",\"u_phonePrice\",\"u_phonePrice\",\"u_phonePrice\",\"u_phonePrice\",\"u_phonePrice\",\"u_phonePrice\",\"u_phonePrice\",\"u_phonePrice\",\"u_phonePrice\",\"u_phonePrice\",\"u_phonePrice\",\"u_phonePrice\",\"u_phonePrice\",\"u_phonePrice\",\"u_phonePrice\",\"u_phonePrice\",\"u_phonePrice\",\"u_phonePrice\",\"u_phonePrice\",\"u_phonePrice\",\"u_phonePrice\",\"u_phonePrice\",\"u_phonePrice\",\"u_phonePrice\",\"u_browserLifeCycle\",\"u_browserLifeCycle\",\"u_browserLifeCycle\",\"u_browserLifeCycle\",\"u_browserLifeCycle\",\"u_browserLifeCycle\",\"u_browserLifeCycle\",\"u_browserLifeCycle\",\"u_browserLifeCycle\",\"u_browserLifeCycle\",\"u_browserLifeCycle\",\"u_browserLifeCycle\",\"u_browserLifeCycle\",\"u_browserLifeCycle\",\"u_browserLifeCycle\",\"u_browserLifeCycle\",\"u_browserLifeCycle\",\"u_browserLifeCycle\",\"u_browserLifeCycle\",\"u_browserLifeCycle\",\"u_browserLifeCycle\",\"u_browserLifeCycle\",\"u_browserLifeCycle\",\"u_browserLifeCycle\",\"u_browserLifeCycle\",\"u_browserMode\",\"u_browserMode\",\"u_browserMode\",\"u_browserMode\",\"u_browserMode\",\"u_browserMode\",\"u_browserMode\",\"u_browserMode\",\"u_browserMode\",\"u_browserMode\",\"u_browserMode\",\"u_browserMode\",\"u_browserMode\",\"u_browserMode\",\"u_browserMode\",\"u_browserMode\",\"u_browserMode\",\"u_browserMode\",\"u_browserMode\",\"u_browserMode\",\"u_browserMode\",\"u_browserMode\",\"u_browserMode\",\"u_browserMode\",\"u_browserMode\",\"u_feedLifeCycle\",\"u_feedLifeCycle\",\"u_feedLifeCycle\",\"u_feedLifeCycle\",\"u_feedLifeCycle\",\"u_feedLifeCycle\",\"u_feedLifeCycle\",\"u_feedLifeCycle\",\"u_feedLifeCycle\",\"u_feedLifeCycle\",\"u_feedLifeCycle\",\"u_feedLifeCycle\",\"u_feedLifeCycle\",\"u_feedLifeCycle\",\"u_feedLifeCycle\",\"u_feedLifeCycle\",\"u_feedLifeCycle\",\"u_feedLifeCycle\",\"u_feedLifeCycle\",\"u_feedLifeCycle\",\"u_feedLifeCycle\",\"u_feedLifeCycle\",\"u_feedLifeCycle\",\"u_feedLifeCycle\",\"u_feedLifeCycle\",\"u_refreshTimes\",\"u_refreshTimes\",\"u_refreshTimes\",\"u_refreshTimes\",\"u_refreshTimes\",\"u_refreshTimes\",\"u_refreshTimes\",\"u_refreshTimes\",\"u_refreshTimes\",\"u_refreshTimes\",\"u_refreshTimes\",\"u_refreshTimes\",\"u_refreshTimes\",\"u_refreshTimes\",\"u_refreshTimes\",\"u_refreshTimes\",\"u_refreshTimes\",\"u_refreshTimes\",\"u_refreshTimes\",\"u_refreshTimes\",\"u_refreshTimes\",\"u_refreshTimes\",\"u_refreshTimes\",\"u_refreshTimes\",\"u_refreshTimes\",\"i_regionEntity\",\"i_regionEntity\",\"i_regionEntity\",\"i_regionEntity\",\"i_regionEntity\",\"i_regionEntity\",\"i_regionEntity\",\"i_regionEntity\",\"i_regionEntity\",\"i_regionEntity\",\"i_regionEntity\",\"i_regionEntity\",\"i_regionEntity\",\"i_regionEntity\",\"i_regionEntity\",\"i_regionEntity\",\"i_regionEntity\",\"i_regionEntity\",\"i_regionEntity\",\"i_regionEntity\",\"i_regionEntity\",\"i_regionEntity\",\"i_regionEntity\",\"i_regionEntity\",\"i_regionEntity\",\"i_cat\",\"i_cat\",\"i_cat\",\"i_cat\",\"i_cat\",\"i_cat\",\"i_cat\",\"i_cat\",\"i_cat\",\"i_cat\",\"i_cat\",\"i_cat\",\"i_cat\",\"i_cat\",\"i_cat\",\"i_cat\",\"i_cat\",\"i_cat\",\"i_cat\",\"i_cat\",\"i_cat\",\"i_cat\",\"i_cat\",\"i_cat\",\"i_cat\",\"i_dislikeTimes\",\"i_dislikeTimes\",\"i_dislikeTimes\",\"i_dislikeTimes\",\"i_dislikeTimes\",\"i_dislikeTimes\",\"i_dislikeTimes\",\"i_dislikeTimes\",\"i_dislikeTimes\",\"i_dislikeTimes\",\"i_dislikeTimes\",\"i_dislikeTimes\",\"i_dislikeTimes\",\"i_dislikeTimes\",\"i_dislikeTimes\",\"i_dislikeTimes\",\"i_dislikeTimes\",\"i_dislikeTimes\",\"i_dislikeTimes\",\"i_dislikeTimes\",\"i_dislikeTimes\",\"i_dislikeTimes\",\"i_dislikeTimes\",\"i_dislikeTimes\",\"i_dislikeTimes\",\"i_upTimes\",\"i_upTimes\",\"i_upTimes\",\"i_upTimes\",\"i_upTimes\",\"i_upTimes\",\"i_upTimes\",\"i_upTimes\",\"i_upTimes\",\"i_upTimes\",\"i_upTimes\",\"i_upTimes\",\"i_upTimes\",\"i_upTimes\",\"i_upTimes\",\"i_upTimes\",\"i_upTimes\",\"i_upTimes\",\"i_upTimes\",\"i_upTimes\",\"i_upTimes\",\"i_upTimes\",\"i_upTimes\",\"i_upTimes\",\"i_upTimes\",\"i_dtype\",\"i_dtype\",\"i_dtype\",\"i_dtype\",\"i_dtype\",\"i_dtype\",\"i_dtype\",\"i_dtype\",\"i_dtype\",\"i_dtype\",\"i_dtype\",\"i_dtype\",\"i_dtype\",\"i_dtype\",\"i_dtype\",\"i_dtype\",\"i_dtype\",\"i_dtype\",\"i_dtype\",\"i_dtype\",\"i_dtype\",\"i_dtype\",\"i_dtype\",\"i_dtype\",\"i_dtype\",\"e_ch\",\"e_ch\",\"e_ch\",\"e_ch\",\"e_ch\",\"e_ch\",\"e_ch\",\"e_ch\",\"e_ch\",\"e_ch\",\"e_ch\",\"e_ch\",\"e_ch\",\"e_ch\",\"e_ch\",\"e_ch\",\"e_ch\",\"e_ch\",\"e_ch\",\"e_ch\",\"e_ch\",\"e_ch\",\"e_ch\",\"e_ch\",\"e_ch\",\"e_m\",\"e_m\",\"e_m\",\"e_m\",\"e_m\",\"e_m\",\"e_m\",\"e_m\",\"e_m\",\"e_m\",\"e_m\",\"e_m\",\"e_m\",\"e_m\",\"e_m\",\"e_m\",\"e_m\",\"e_m\",\"e_m\",\"e_m\",\"e_m\",\"e_m\",\"e_m\",\"e_m\",\"e_m\",\"e_po\",\"e_po\",\"e_po\",\"e_po\",\"e_po\",\"e_po\",\"e_po\",\"e_po\",\"e_po\",\"e_po\",\"e_po\",\"e_po\",\"e_po\",\"e_po\",\"e_po\",\"e_po\",\"e_po\",\"e_po\",\"e_po\",\"e_po\",\"e_po\",\"e_po\",\"e_po\",\"e_po\",\"e_po\",\"e_pl\",\"e_pl\",\"e_pl\",\"e_pl\",\"e_pl\",\"e_pl\",\"e_pl\",\"e_pl\",\"e_pl\",\"e_pl\",\"e_pl\",\"e_pl\",\"e_pl\",\"e_pl\",\"e_pl\",\"e_pl\",\"e_pl\",\"e_pl\",\"e_pl\",\"e_pl\",\"e_pl\",\"e_pl\",\"e_pl\",\"e_pl\",\"e_pl\",\"e_rn\",\"e_rn\",\"e_rn\",\"e_rn\",\"e_rn\",\"e_rn\",\"e_rn\",\"e_rn\",\"e_rn\",\"e_rn\",\"e_rn\",\"e_rn\",\"e_rn\",\"e_rn\",\"e_rn\",\"e_rn\",\"e_rn\",\"e_rn\",\"e_rn\",\"e_rn\",\"e_rn\",\"e_rn\",\"e_rn\",\"e_rn\",\"e_rn\",\"e_section\",\"e_section\",\"e_section\",\"e_section\",\"e_section\",\"e_section\",\"e_section\",\"e_section\",\"e_section\",\"e_section\",\"e_section\",\"e_section\",\"e_section\",\"e_section\",\"e_section\",\"e_section\",\"e_section\",\"e_section\",\"e_section\",\"e_section\",\"e_section\",\"e_section\",\"e_section\",\"e_section\",\"e_section\",\"label\",\"label\",\"label\",\"label\",\"label\",\"label\",\"label\",\"label\",\"label\",\"label\",\"label\",\"label\",\"label\",\"label\",\"label\",\"label\",\"label\",\"label\",\"label\",\"label\",\"label\",\"label\",\"label\",\"label\",\"label\",\"cillabel\",\"cillabel\",\"cillabel\",\"cillabel\",\"cillabel\",\"cillabel\",\"cillabel\",\"cillabel\",\"cillabel\",\"cillabel\",\"cillabel\",\"cillabel\",\"cillabel\",\"cillabel\",\"cillabel\",\"cillabel\",\"cillabel\",\"cillabel\",\"cillabel\",\"cillabel\",\"cillabel\",\"cillabel\",\"cillabel\",\"cillabel\",\"cillabel\",\"pro\",\"pro\",\"pro\",\"pro\",\"pro\",\"pro\",\"pro\",\"pro\",\"pro\",\"pro\",\"pro\",\"pro\",\"pro\",\"pro\",\"pro\",\"pro\",\"pro\",\"pro\",\"pro\",\"pro\",\"pro\",\"pro\",\"pro\",\"pro\",\"pro\",\"Interested\",\"Interested\",\"Interested\",\"Interested\",\"Interested\",\"Interested\",\"Interested\",\"Interested\",\"Interested\",\"Interested\",\"Interested\",\"Interested\",\"Interested\",\"Interested\",\"Interested\",\"Interested\",\"Interested\",\"Interested\",\"Interested\",\"Interested\",\"Interested\",\"Interested\",\"Interested\",\"Interested\",\"Interested\",\"Disliked\",\"Disliked\",\"Disliked\",\"Disliked\",\"Disliked\",\"Disliked\",\"Disliked\",\"Disliked\",\"Disliked\",\"Disliked\",\"Disliked\",\"Disliked\",\"Disliked\",\"Disliked\",\"Disliked\",\"Disliked\",\"Disliked\",\"Disliked\",\"Disliked\",\"Disliked\",\"Disliked\",\"Disliked\",\"Disliked\",\"Disliked\",\"Disliked\",\"InterestedST\",\"InterestedST\",\"InterestedST\",\"InterestedST\",\"InterestedST\",\"InterestedST\",\"InterestedST\",\"InterestedST\",\"InterestedST\",\"InterestedST\",\"InterestedST\",\"InterestedST\",\"InterestedST\",\"InterestedST\",\"InterestedST\",\"InterestedST\",\"InterestedST\",\"InterestedST\",\"InterestedST\",\"InterestedST\",\"InterestedST\",\"InterestedST\",\"InterestedST\",\"InterestedST\",\"InterestedST\",\"clicked\",\"clicked\",\"clicked\",\"clicked\",\"clicked\",\"clicked\",\"clicked\",\"clicked\",\"clicked\",\"clicked\",\"clicked\",\"clicked\",\"clicked\",\"clicked\",\"clicked\",\"clicked\",\"clicked\",\"clicked\",\"clicked\",\"clicked\",\"clicked\",\"clicked\",\"clicked\",\"clicked\",\"clicked\",\"hour\",\"hour\",\"hour\",\"hour\",\"hour\",\"hour\",\"hour\",\"hour\",\"hour\",\"hour\",\"hour\",\"hour\",\"hour\",\"hour\",\"hour\",\"hour\",\"hour\",\"hour\",\"hour\",\"hour\",\"hour\",\"hour\",\"hour\",\"hour\",\"hour\"]],[\"variable\",[\"hour\",\"clicked\",\"InterestedST\",\"Disliked\",\"Interested\",\"pro\",\"cillabel\",\"label\",\"e_section\",\"e_rn\",\"e_pl\",\"e_po\",\"e_m\",\"e_ch\",\"i_dtype\",\"i_upTimes\",\"i_dislikeTimes\",\"i_cat\",\"i_regionEntity\",\"u_refreshTimes\",\"u_feedLifeCycle\",\"u_browserMode\",\"u_browserLifeCycle\",\"u_phonePrice\",\"user_id\",\"hour\",\"clicked\",\"InterestedST\",\"Disliked\",\"Interested\",\"pro\",\"cillabel\",\"label\",\"e_section\",\"e_rn\",\"e_pl\",\"e_po\",\"e_m\",\"e_ch\",\"i_dtype\",\"i_upTimes\",\"i_dislikeTimes\",\"i_cat\",\"i_regionEntity\",\"u_refreshTimes\",\"u_feedLifeCycle\",\"u_browserMode\",\"u_browserLifeCycle\",\"u_phonePrice\",\"user_id\",\"hour\",\"clicked\",\"InterestedST\",\"Disliked\",\"Interested\",\"pro\",\"cillabel\",\"label\",\"e_section\",\"e_rn\",\"e_pl\",\"e_po\",\"e_m\",\"e_ch\",\"i_dtype\",\"i_upTimes\",\"i_dislikeTimes\",\"i_cat\",\"i_regionEntity\",\"u_refreshTimes\",\"u_feedLifeCycle\",\"u_browserMode\",\"u_browserLifeCycle\",\"u_phonePrice\",\"user_id\",\"hour\",\"clicked\",\"InterestedST\",\"Disliked\",\"Interested\",\"pro\",\"cillabel\",\"label\",\"e_section\",\"e_rn\",\"e_pl\",\"e_po\",\"e_m\",\"e_ch\",\"i_dtype\",\"i_upTimes\",\"i_dislikeTimes\",\"i_cat\",\"i_regionEntity\",\"u_refreshTimes\",\"u_feedLifeCycle\",\"u_browserMode\",\"u_browserLifeCycle\",\"u_phonePrice\",\"user_id\",\"hour\",\"clicked\",\"InterestedST\",\"Disliked\",\"Interested\",\"pro\",\"cillabel\",\"label\",\"e_section\",\"e_rn\",\"e_pl\",\"e_po\",\"e_m\",\"e_ch\",\"i_dtype\",\"i_upTimes\",\"i_dislikeTimes\",\"i_cat\",\"i_regionEntity\",\"u_refreshTimes\",\"u_feedLifeCycle\",\"u_browserMode\",\"u_browserLifeCycle\",\"u_phonePrice\",\"user_id\",\"hour\",\"clicked\",\"InterestedST\",\"Disliked\",\"Interested\",\"pro\",\"cillabel\",\"label\",\"e_section\",\"e_rn\",\"e_pl\",\"e_po\",\"e_m\",\"e_ch\",\"i_dtype\",\"i_upTimes\",\"i_dislikeTimes\",\"i_cat\",\"i_regionEntity\",\"u_refreshTimes\",\"u_feedLifeCycle\",\"u_browserMode\",\"u_browserLifeCycle\",\"u_phonePrice\",\"user_id\",\"hour\",\"clicked\",\"InterestedST\",\"Disliked\",\"Interested\",\"pro\",\"cillabel\",\"label\",\"e_section\",\"e_rn\",\"e_pl\",\"e_po\",\"e_m\",\"e_ch\",\"i_dtype\",\"i_upTimes\",\"i_dislikeTimes\",\"i_cat\",\"i_regionEntity\",\"u_refreshTimes\",\"u_feedLifeCycle\",\"u_browserMode\",\"u_browserLifeCycle\",\"u_phonePrice\",\"user_id\",\"hour\",\"clicked\",\"InterestedST\",\"Disliked\",\"Interested\",\"pro\",\"cillabel\",\"label\",\"e_section\",\"e_rn\",\"e_pl\",\"e_po\",\"e_m\",\"e_ch\",\"i_dtype\",\"i_upTimes\",\"i_dislikeTimes\",\"i_cat\",\"i_regionEntity\",\"u_refreshTimes\",\"u_feedLifeCycle\",\"u_browserMode\",\"u_browserLifeCycle\",\"u_phonePrice\",\"user_id\",\"hour\",\"clicked\",\"InterestedST\",\"Disliked\",\"Interested\",\"pro\",\"cillabel\",\"label\",\"e_section\",\"e_rn\",\"e_pl\",\"e_po\",\"e_m\",\"e_ch\",\"i_dtype\",\"i_upTimes\",\"i_dislikeTimes\",\"i_cat\",\"i_regionEntity\",\"u_refreshTimes\",\"u_feedLifeCycle\",\"u_browserMode\",\"u_browserLifeCycle\",\"u_phonePrice\",\"user_id\",\"hour\",\"clicked\",\"InterestedST\",\"Disliked\",\"Interested\",\"pro\",\"cillabel\",\"label\",\"e_section\",\"e_rn\",\"e_pl\",\"e_po\",\"e_m\",\"e_ch\",\"i_dtype\",\"i_upTimes\",\"i_dislikeTimes\",\"i_cat\",\"i_regionEntity\",\"u_refreshTimes\",\"u_feedLifeCycle\",\"u_browserMode\",\"u_browserLifeCycle\",\"u_phonePrice\",\"user_id\",\"hour\",\"clicked\",\"InterestedST\",\"Disliked\",\"Interested\",\"pro\",\"cillabel\",\"label\",\"e_section\",\"e_rn\",\"e_pl\",\"e_po\",\"e_m\",\"e_ch\",\"i_dtype\",\"i_upTimes\",\"i_dislikeTimes\",\"i_cat\",\"i_regionEntity\",\"u_refreshTimes\",\"u_feedLifeCycle\",\"u_browserMode\",\"u_browserLifeCycle\",\"u_phonePrice\",\"user_id\",\"hour\",\"clicked\",\"InterestedST\",\"Disliked\",\"Interested\",\"pro\",\"cillabel\",\"label\",\"e_section\",\"e_rn\",\"e_pl\",\"e_po\",\"e_m\",\"e_ch\",\"i_dtype\",\"i_upTimes\",\"i_dislikeTimes\",\"i_cat\",\"i_regionEntity\",\"u_refreshTimes\",\"u_feedLifeCycle\",\"u_browserMode\",\"u_browserLifeCycle\",\"u_phonePrice\",\"user_id\",\"hour\",\"clicked\",\"InterestedST\",\"Disliked\",\"Interested\",\"pro\",\"cillabel\",\"label\",\"e_section\",\"e_rn\",\"e_pl\",\"e_po\",\"e_m\",\"e_ch\",\"i_dtype\",\"i_upTimes\",\"i_dislikeTimes\",\"i_cat\",\"i_regionEntity\",\"u_refreshTimes\",\"u_feedLifeCycle\",\"u_browserMode\",\"u_browserLifeCycle\",\"u_phonePrice\",\"user_id\",\"hour\",\"clicked\",\"InterestedST\",\"Disliked\",\"Interested\",\"pro\",\"cillabel\",\"label\",\"e_section\",\"e_rn\",\"e_pl\",\"e_po\",\"e_m\",\"e_ch\",\"i_dtype\",\"i_upTimes\",\"i_dislikeTimes\",\"i_cat\",\"i_regionEntity\",\"u_refreshTimes\",\"u_feedLifeCycle\",\"u_browserMode\",\"u_browserLifeCycle\",\"u_phonePrice\",\"user_id\",\"hour\",\"clicked\",\"InterestedST\",\"Disliked\",\"Interested\",\"pro\",\"cillabel\",\"label\",\"e_section\",\"e_rn\",\"e_pl\",\"e_po\",\"e_m\",\"e_ch\",\"i_dtype\",\"i_upTimes\",\"i_dislikeTimes\",\"i_cat\",\"i_regionEntity\",\"u_refreshTimes\",\"u_feedLifeCycle\",\"u_browserMode\",\"u_browserLifeCycle\",\"u_phonePrice\",\"user_id\",\"hour\",\"clicked\",\"InterestedST\",\"Disliked\",\"Interested\",\"pro\",\"cillabel\",\"label\",\"e_section\",\"e_rn\",\"e_pl\",\"e_po\",\"e_m\",\"e_ch\",\"i_dtype\",\"i_upTimes\",\"i_dislikeTimes\",\"i_cat\",\"i_regionEntity\",\"u_refreshTimes\",\"u_feedLifeCycle\",\"u_browserMode\",\"u_browserLifeCycle\",\"u_phonePrice\",\"user_id\",\"hour\",\"clicked\",\"InterestedST\",\"Disliked\",\"Interested\",\"pro\",\"cillabel\",\"label\",\"e_section\",\"e_rn\",\"e_pl\",\"e_po\",\"e_m\",\"e_ch\",\"i_dtype\",\"i_upTimes\",\"i_dislikeTimes\",\"i_cat\",\"i_regionEntity\",\"u_refreshTimes\",\"u_feedLifeCycle\",\"u_browserMode\",\"u_browserLifeCycle\",\"u_phonePrice\",\"user_id\",\"hour\",\"clicked\",\"InterestedST\",\"Disliked\",\"Interested\",\"pro\",\"cillabel\",\"label\",\"e_section\",\"e_rn\",\"e_pl\",\"e_po\",\"e_m\",\"e_ch\",\"i_dtype\",\"i_upTimes\",\"i_dislikeTimes\",\"i_cat\",\"i_regionEntity\",\"u_refreshTimes\",\"u_feedLifeCycle\",\"u_browserMode\",\"u_browserLifeCycle\",\"u_phonePrice\",\"user_id\",\"hour\",\"clicked\",\"InterestedST\",\"Disliked\",\"Interested\",\"pro\",\"cillabel\",\"label\",\"e_section\",\"e_rn\",\"e_pl\",\"e_po\",\"e_m\",\"e_ch\",\"i_dtype\",\"i_upTimes\",\"i_dislikeTimes\",\"i_cat\",\"i_regionEntity\",\"u_refreshTimes\",\"u_feedLifeCycle\",\"u_browserMode\",\"u_browserLifeCycle\",\"u_phonePrice\",\"user_id\",\"hour\",\"clicked\",\"InterestedST\",\"Disliked\",\"Interested\",\"pro\",\"cillabel\",\"label\",\"e_section\",\"e_rn\",\"e_pl\",\"e_po\",\"e_m\",\"e_ch\",\"i_dtype\",\"i_upTimes\",\"i_dislikeTimes\",\"i_cat\",\"i_regionEntity\",\"u_refreshTimes\",\"u_feedLifeCycle\",\"u_browserMode\",\"u_browserLifeCycle\",\"u_phonePrice\",\"user_id\",\"hour\",\"clicked\",\"InterestedST\",\"Disliked\",\"Interested\",\"pro\",\"cillabel\",\"label\",\"e_section\",\"e_rn\",\"e_pl\",\"e_po\",\"e_m\",\"e_ch\",\"i_dtype\",\"i_upTimes\",\"i_dislikeTimes\",\"i_cat\",\"i_regionEntity\",\"u_refreshTimes\",\"u_feedLifeCycle\",\"u_browserMode\",\"u_browserLifeCycle\",\"u_phonePrice\",\"user_id\",\"hour\",\"clicked\",\"InterestedST\",\"Disliked\",\"Interested\",\"pro\",\"cillabel\",\"label\",\"e_section\",\"e_rn\",\"e_pl\",\"e_po\",\"e_m\",\"e_ch\",\"i_dtype\",\"i_upTimes\",\"i_dislikeTimes\",\"i_cat\",\"i_regionEntity\",\"u_refreshTimes\",\"u_feedLifeCycle\",\"u_browserMode\",\"u_browserLifeCycle\",\"u_phonePrice\",\"user_id\",\"hour\",\"clicked\",\"InterestedST\",\"Disliked\",\"Interested\",\"pro\",\"cillabel\",\"label\",\"e_section\",\"e_rn\",\"e_pl\",\"e_po\",\"e_m\",\"e_ch\",\"i_dtype\",\"i_upTimes\",\"i_dislikeTimes\",\"i_cat\",\"i_regionEntity\",\"u_refreshTimes\",\"u_feedLifeCycle\",\"u_browserMode\",\"u_browserLifeCycle\",\"u_phonePrice\",\"user_id\",\"hour\",\"clicked\",\"InterestedST\",\"Disliked\",\"Interested\",\"pro\",\"cillabel\",\"label\",\"e_section\",\"e_rn\",\"e_pl\",\"e_po\",\"e_m\",\"e_ch\",\"i_dtype\",\"i_upTimes\",\"i_dislikeTimes\",\"i_cat\",\"i_regionEntity\",\"u_refreshTimes\",\"u_feedLifeCycle\",\"u_browserMode\",\"u_browserLifeCycle\",\"u_phonePrice\",\"user_id\",\"hour\",\"clicked\",\"InterestedST\",\"Disliked\",\"Interested\",\"pro\",\"cillabel\",\"label\",\"e_section\",\"e_rn\",\"e_pl\",\"e_po\",\"e_m\",\"e_ch\",\"i_dtype\",\"i_upTimes\",\"i_dislikeTimes\",\"i_cat\",\"i_regionEntity\",\"u_refreshTimes\",\"u_feedLifeCycle\",\"u_browserMode\",\"u_browserLifeCycle\",\"u_phonePrice\",\"user_id\"]],[\"zvalues\",{\"type\":\"ndarray\",\"array\":{\"type\":\"bytes\",\"data\":\"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\"},\"shape\":[625],\"dtype\":\"float64\",\"order\":\"little\"}],[\"value\",[\"0.050558\",\"0.00014524\",\"0.032359\",\"0.031262\",\"0.025341\",\"0.018087\",\"-0.0041432\",\"0.016451\",\"0.0058121\",\"-0.031415\",\"0.013271\",\"-0.0035852\",\"0.044501\",\"-0.034841\",\"-0.0050861\",\"-0.0067998\",\"-0.0046029\",\"-0.0089668\",\"0.0020524\",\"0.11864\",\"0.096182\",\"-0.076102\",\"0.1248\",\"0.052769\",\"1\",\"0.031045\",\"0.031363\",\"0.029004\",\"0.038538\",\"0.037728\",\"0.0044981\",\"0.0052543\",\"0.016195\",\"-0.010761\",\"0.046512\",\"-0.030466\",\"-0.019954\",\"-0.0087976\",\"0.0061459\",\"0.032307\",\"0.00038853\",\"0.0010658\",\"0.016154\",\"0.00562\",\"-0.14569\",\"-0.013895\",\"0.067841\",\"-0.051313\",\"1\",\"0.052769\",\"-0.030877\",\"0.22144\",\"0.10599\",\"0.023642\",\"0.061712\",\"0.031559\",\"0.0056043\",\"0.038285\",\"-0.04239\",\"0.016548\",\"0.05527\",\"0.028685\",\"0.065353\",\"-0.028736\",\"-0.036168\",\"-0.094544\",\"-0.047587\",\"-0.033342\",\"-0.073585\",\"0.39719\",\"0.51546\",\"-0.050492\",\"1\",\"-0.051313\",\"0.1248\",\"0.015361\",\"0.02781\",\"-0.0033762\",\"-0.077943\",\"-0.008671\",\"0.013418\",\"-0.01481\",\"0.0087436\",\"0.048171\",\"0.011987\",\"-0.047803\",\"-0.0029284\",\"-0.14967\",\"0.112\",\"-0.1069\",\"0.040391\",\"0.048305\",\"-0.0052088\",\"0.0058544\",\"-0.2215\",\"-0.0098335\",\"1\",\"-0.050492\",\"0.067841\",\"-0.076102\",\"-0.053428\",\"0.28885\",\"0.11603\",\"0.02882\",\"0.078374\",\"0.013567\",\"0.0074497\",\"0.021165\",\"-0.10911\",\"0.077088\",\"0.021471\",\"0.018204\",\"0.0060647\",\"-0.026462\",\"0.017789\",\"-0.15297\",\"-0.087429\",\"-0.043662\",\"-0.064618\",\"0.46965\",\"1\",\"-0.0098335\",\"0.51546\",\"-0.013895\",\"0.096182\",\"-0.0059529\",\"0.37941\",\"0.11726\",\"0.066088\",\"0.084116\",\"0.041644\",\"-0.0089493\",\"0.051434\",\"-0.19302\",\"0.081557\",\"0.068197\",\"0.018272\",\"0.12984\",\"-0.11242\",\"0.038815\",\"-0.23131\",\"-0.10795\",\"-0.05582\",\"-0.0562\",\"1\",\"0.46965\",\"-0.2215\",\"0.39719\",\"-0.14569\",\"0.11864\",\"-0.0077323\",\"-0.056012\",\"-0.054397\",\"-0.017376\",\"-0.13384\",\"-0.010242\",\"0.011189\",\"-0.0080889\",\"-0.030463\",\"0.0040438\",\"-0.011255\",\"0.054525\",\"0.0025936\",\"0.066873\",\"0.17609\",\"-0.026831\",\"0.0034079\",\"0.23902\",\"1\",\"-0.0562\",\"-0.064618\",\"0.0058544\",\"-0.073585\",\"0.00562\",\"0.0020524\",\"-0.0094536\",\"-0.041759\",\"0.094063\",\"-0.12792\",\"-0.014089\",\"0.025452\",\"-0.01687\",\"0.022319\",\"0.0076252\",\"-0.014128\",\"0.001075\",\"0.010156\",\"-0.0077653\",\"0.086897\",\"0.081615\",\"-0.041399\",\"-0.080892\",\"1\",\"0.23902\",\"-0.05582\",\"-0.043662\",\"-0.0052088\",\"-0.033342\",\"0.016154\",\"-0.0089668\",\"0.007903\",\"-0.049927\",\"-0.21367\",\"-0.056137\",\"-0.23399\",\"0.0023349\",\"-0.0079047\",\"0.017584\",\"-0.18288\",\"0.0072071\",\"-0.035484\",\"0.060549\",\"0.0089216\",\"0.065348\",\"0.13569\",\"0.58184\",\"1\",\"-0.080892\",\"0.0034079\",\"-0.10795\",\"-0.087429\",\"0.048305\",\"-0.047587\",\"0.0010658\",\"-0.0046029\",\"-0.064129\",\"-0.14944\",\"-0.21988\",\"-0.084604\",\"-0.23662\",\"0.00089992\",\"0.00046612\",\"0.01508\",\"0.31689\",\"-0.15683\",\"-0.038791\",\"-0.04479\",\"0.007635\",\"0.16656\",\"-0.20011\",\"1\",\"0.58184\",\"-0.041399\",\"-0.026831\",\"-0.23131\",\"-0.15297\",\"0.040391\",\"-0.094544\",\"0.00038853\",\"-0.0067998\",\"0.019772\",\"0.022722\",\"0.032226\",\"0.028186\",\"-0.011967\",\"-0.017567\",\"0.0059822\",\"-0.017072\",\"-0.57373\",\"0.2031\",\"-0.0074782\",\"0.11958\",\"-0.078836\",\"-0.12479\",\"1\",\"-0.20011\",\"0.13569\",\"0.081615\",\"0.17609\",\"0.038815\",\"0.017789\",\"-0.1069\",\"-0.036168\",\"0.032307\",\"-0.0050861\",\"-0.027143\",\"-0.0677\",\"-0.098162\",\"-0.22391\",\"-0.091373\",\"0.01889\",\"-0.013721\",\"0.014079\",\"0.1819\",\"-0.092452\",\"-0.022442\",\"0.11516\",\"-0.048258\",\"1\",\"-0.12479\",\"0.16656\",\"0.065348\",\"0.086897\",\"0.066873\",\"-0.11242\",\"-0.026462\",\"0.112\",\"-0.028736\",\"0.0061459\",\"-0.034841\",\"0.030797\",\"0.0027172\",\"0.030805\",\"0.015093\",\"0.015091\",\"0.0041479\",\"0.002157\",\"0.0090602\",\"-0.014797\",\"0.015946\",\"-0.00018094\",\"0.014271\",\"1\",\"-0.048258\",\"-0.078836\",\"0.007635\",\"0.0089216\",\"-0.0077653\",\"0.0025936\",\"0.12984\",\"0.0060647\",\"-0.14967\",\"0.065353\",\"-0.0087976\",\"0.044501\",\"-0.00477\",\"-0.0072979\",\"-0.019797\",\"-0.034361\",\"-0.031886\",\"0.003685\",\"-0.0011268\",\"0.0053814\",\"-0.22335\",\"-0.21158\",\"0.011563\",\"1\",\"0.014271\",\"0.11516\",\"0.11958\",\"-0.04479\",\"0.060549\",\"0.010156\",\"0.054525\",\"0.018272\",\"0.018204\",\"-0.0029284\",\"0.028685\",\"-0.019954\",\"-0.0035852\",\"-0.0018179\",\"0.0096544\",\"0.020021\",\"-0.029883\",\"0.0026779\",\"0.014479\",\"0.0092182\",\"0.0075952\",\"0.017976\",\"-0.083887\",\"1\",\"0.011563\",\"-0.00018094\",\"-0.022442\",\"-0.0074782\",\"-0.038791\",\"-0.035484\",\"0.001075\",\"-0.011255\",\"0.068197\",\"0.021471\",\"-0.047803\",\"0.05527\",\"-0.030466\",\"0.013271\",\"0.064989\",\"0.13514\",\"0.012622\",\"0.050331\",\"-0.0054192\",\"-0.065541\",\"-0.0069446\",\"-0.06796\",\"-0.31693\",\"1\",\"-0.083887\",\"-0.21158\",\"0.015946\",\"-0.092452\",\"0.2031\",\"-0.15683\",\"0.0072071\",\"-0.014128\",\"0.0040438\",\"0.081557\",\"0.077088\",\"0.011987\",\"0.016548\",\"0.046512\",\"-0.031415\",\"-0.035387\",\"-0.17766\",\"-0.06026\",\"-0.046956\",\"-0.018747\",\"0.012784\",\"0.0063914\",\"0.011004\",\"1\",\"-0.31693\",\"0.017976\",\"-0.22335\",\"-0.014797\",\"0.1819\",\"-0.57373\",\"0.31689\",\"-0.18288\",\"0.0076252\",\"-0.030463\",\"-0.19302\",\"-0.10911\",\"0.048171\",\"-0.04239\",\"-0.010761\",\"0.0058121\",\"-0.0092042\",\"0.031619\",\"0.071783\",\"-0.021028\",\"0.072288\",\"0.87463\",\"0.019494\",\"1\",\"0.011004\",\"-0.06796\",\"0.0075952\",\"0.0053814\",\"0.0090602\",\"0.014079\",\"-0.017072\",\"0.01508\",\"0.017584\",\"0.022319\",\"-0.0080889\",\"0.051434\",\"0.021165\",\"0.0087436\",\"0.038285\",\"0.016195\",\"0.016451\",\"-0.012238\",\"-0.0099712\",\"0.0064026\",\"-0.0013778\",\"-0.0090457\",\"0.026118\",\"1\",\"0.019494\",\"0.0063914\",\"-0.0069446\",\"0.0092182\",\"-0.0011268\",\"0.002157\",\"-0.013721\",\"0.0059822\",\"0.00046612\",\"-0.0079047\",\"-0.01687\",\"0.011189\",\"-0.0089493\",\"0.0074497\",\"-0.01481\",\"0.0056043\",\"0.0052543\",\"-0.0041432\",\"-0.011579\",\"0.025825\",\"0.090431\",\"-0.02147\",\"0.082988\",\"1\",\"0.026118\",\"0.87463\",\"0.012784\",\"-0.065541\",\"0.014479\",\"0.003685\",\"0.0041479\",\"0.01889\",\"-0.017567\",\"0.00089992\",\"0.0023349\",\"0.025452\",\"-0.010242\",\"0.041644\",\"0.013567\",\"0.013418\",\"0.031559\",\"0.0044981\",\"0.018087\",\"0.041064\",\"0.081485\",\"0.46872\",\"0.060986\",\"1\",\"0.082988\",\"-0.0090457\",\"0.072288\",\"-0.018747\",\"-0.0054192\",\"0.0026779\",\"-0.031886\",\"0.015091\",\"-0.091373\",\"-0.011967\",\"-0.23662\",\"-0.23399\",\"-0.014089\",\"-0.13384\",\"0.084116\",\"0.078374\",\"-0.008671\",\"0.061712\",\"0.037728\",\"0.025341\",\"0.051066\",\"0.035296\",\"0.050923\",\"1\",\"0.060986\",\"-0.02147\",\"-0.0013778\",\"-0.021028\",\"-0.046956\",\"0.050331\",\"-0.029883\",\"-0.034361\",\"0.015093\",\"-0.22391\",\"0.028186\",\"-0.084604\",\"-0.056137\",\"-0.12792\",\"-0.017376\",\"0.066088\",\"0.02882\",\"-0.077943\",\"0.023642\",\"0.038538\",\"0.031262\",\"0.036772\",\"0.088406\",\"1\",\"0.050923\",\"0.46872\",\"0.090431\",\"0.0064026\",\"0.071783\",\"-0.06026\",\"0.012622\",\"0.020021\",\"-0.019797\",\"0.030805\",\"-0.098162\",\"0.032226\",\"-0.21988\",\"-0.21367\",\"0.094063\",\"-0.054397\",\"0.11726\",\"0.11603\",\"-0.0033762\",\"0.10599\",\"0.029004\",\"0.032359\",\"0.059815\",\"1\",\"0.088406\",\"0.035296\",\"0.081485\",\"0.025825\",\"-0.0099712\",\"0.031619\",\"-0.17766\",\"0.13514\",\"0.0096544\",\"-0.0072979\",\"0.0027172\",\"-0.0677\",\"0.022722\",\"-0.14944\",\"-0.049927\",\"-0.041759\",\"-0.056012\",\"0.37941\",\"0.28885\",\"0.02781\",\"0.22144\",\"0.031363\",\"0.00014524\",\"1\",\"0.059815\",\"0.036772\",\"0.051066\",\"0.041064\",\"-0.011579\",\"-0.012238\",\"-0.0092042\",\"-0.035387\",\"0.064989\",\"-0.0018179\",\"-0.00477\",\"0.030797\",\"-0.027143\",\"0.019772\",\"-0.064129\",\"0.007903\",\"-0.0094536\",\"-0.0077323\",\"-0.0059529\",\"-0.053428\",\"0.015361\",\"-0.030877\",\"0.031045\",\"0.050558\"]]]}}},\"view\":{\"type\":\"object\",\"name\":\"CDSView\",\"id\":\"p1932\",\"attributes\":{\"filter\":{\"type\":\"object\",\"name\":\"AllIndices\",\"id\":\"p1933\"}}},\"glyph\":{\"type\":\"object\",\"name\":\"Rect\",\"id\":\"p1927\",\"attributes\":{\"tags\":[\"apply_ranges\"],\"x\":{\"type\":\"field\",\"field\":\"index\"},\"y\":{\"type\":\"field\",\"field\":\"variable\"},\"width\":{\"type\":\"value\",\"value\":1},\"height\":{\"type\":\"value\",\"value\":1},\"line_color\":{\"type\":\"value\",\"value\":\"#1f77b4\"},\"line_alpha\":{\"type\":\"value\",\"value\":0},\"fill_color\":{\"type\":\"field\",\"field\":\"zvalues\",\"transform\":{\"type\":\"object\",\"name\":\"LinearColorMapper\",\"id\":\"p1920\",\"attributes\":{\"palette\":[\"#b3fef5\",\"#b0fef5\",\"#adfdf5\",\"#a9fcf5\",\"#a6fbf6\",\"#a3faf6\",\"#a0faf6\",\"#9df9f6\",\"#9af8f6\",\"#97f7f6\",\"#93f7f6\",\"#90f6f6\",\"#8df5f6\",\"#8af4f7\",\"#87f3f7\",\"#83f2f7\",\"#80f2f7\",\"#7df1f7\",\"#79f0f7\",\"#76eff7\",\"#73eef7\",\"#6fedf8\",\"#6cecf8\",\"#68ecf8\",\"#65ebf8\",\"#61eaf8\",\"#5ee9f8\",\"#5ae8f8\",\"#57e7f8\",\"#53e6f8\",\"#50e5f9\",\"#4ce4f9\",\"#49e3f9\",\"#45e2f9\",\"#42e1f9\",\"#3ee0f9\",\"#3bdff9\",\"#38def9\",\"#35ddf9\",\"#32dcf9\",\"#30dbfa\",\"#2ed9fa\",\"#2dd8fa\",\"#2cd7fa\",\"#2bd6fa\",\"#2bd5fa\",\"#2ad3fa\",\"#2ad2fa\",\"#29d1fa\",\"#29d0fb\",\"#29cffb\",\"#28cdfb\",\"#28ccfb\",\"#28cbfb\",\"#28cafb\",\"#28c8fb\",\"#28c7fb\",\"#29c6fb\",\"#29c5fb\",\"#29c4fb\",\"#29c2fb\",\"#2ac1fb\",\"#2ac0fb\",\"#2bbffb\",\"#2bbdfc\",\"#2cbcfc\",\"#2dbbfc\",\"#2db9fc\",\"#2eb8fc\",\"#2fb7fc\",\"#2fb6fc\",\"#30b4fc\",\"#31b3fc\",\"#32b2fc\",\"#32b0fc\",\"#33affc\",\"#33aefc\",\"#34adfc\",\"#34abfc\",\"#34aafc\",\"#35a9fc\",\"#35a8fc\",\"#35a6fc\",\"#35a5fc\",\"#35a4fc\",\"#35a3fc\",\"#35a1fc\",\"#35a0fc\",\"#359ffc\",\"#359dfc\",\"#359cfc\",\"#359bfc\",\"#349afd\",\"#3498fd\",\"#3497fd\",\"#3396fd\",\"#3395fd\",\"#3293fd\",\"#3292fd\",\"#3191fd\",\"#3090fd\",\"#308ffd\",\"#2f8dfd\",\"#2f8cfd\",\"#2e8bfd\",\"#2e8afd\",\"#2d88fd\",\"#2d87fd\",\"#2c86fd\",\"#2c84fd\",\"#2c83fd\",\"#2c82fd\",\"#2b81fd\",\"#2b7ffd\",\"#2b7efd\",\"#2b7dfd\",\"#2b7bfd\",\"#2b7afd\",\"#2b79fd\",\"#2b77fd\",\"#2b76fd\",\"#2b75fd\",\"#2b73fd\",\"#2c72fd\",\"#2c71fd\",\"#2c6ffd\",\"#2c6efd\",\"#2d6cfd\",\"#2d6bfd\",\"#2d6afc\",\"#2e68fc\",\"#2e67fc\",\"#2e65fc\",\"#2e64fc\",\"#2f62fc\",\"#2f61fc\",\"#2f5ffc\",\"#2f5efc\",\"#2f5dfc\",\"#2f5bfc\",\"#2f5afc\",\"#2f58fb\",\"#2f57fb\",\"#2f55fb\",\"#2f53fb\",\"#2f52fb\",\"#2f50fb\",\"#2f4ffb\",\"#2f4dfb\",\"#2e4cfb\",\"#2e4afb\",\"#2e48fb\",\"#2e47fa\",\"#2d45fa\",\"#2d43fa\",\"#2d42fa\",\"#2d40fa\",\"#2c3efa\",\"#2c3dfa\",\"#2b3bf9\",\"#2b39f9\",\"#2a37f9\",\"#2a36f8\",\"#2934f8\",\"#2832f7\",\"#2831f7\",\"#272ff6\",\"#262ef5\",\"#252cf5\",\"#252af4\",\"#2429f3\",\"#2327f2\",\"#2226f1\",\"#2124f0\",\"#2023ef\",\"#1f22ee\",\"#1e20ed\",\"#1d1feb\",\"#1c1eea\",\"#1b1ce9\",\"#1a1be7\",\"#181ae6\",\"#1719e5\",\"#1618e3\",\"#1417e1\",\"#1316e0\",\"#1215de\",\"#1014dc\",\"#0f13db\",\"#0e12d9\",\"#0d11d7\",\"#0c10d5\",\"#0b0fd3\",\"#0a0ed1\",\"#090dd0\",\"#080dce\",\"#080ccc\",\"#070bca\",\"#070ac8\",\"#0709c6\",\"#0708c4\",\"#0707c2\",\"#0707bf\",\"#0806bd\",\"#0806bb\",\"#0905b9\",\"#0904b7\",\"#0a04b5\",\"#0a04b2\",\"#0b03b0\",\"#0c03ae\",\"#0d02ab\",\"#0e02a9\",\"#0e02a7\",\"#0f02a4\",\"#0f01a2\",\"#1001a0\",\"#10019d\",\"#10019b\",\"#100199\",\"#100197\",\"#100194\",\"#0f0192\",\"#0f0190\",\"#0f018e\",\"#0e018b\",\"#0e0189\",\"#0d0187\",\"#0d0185\",\"#0c0183\",\"#0b0181\",\"#0b017e\",\"#0a017c\",\"#09017a\",\"#090178\",\"#080276\",\"#070274\",\"#060272\",\"#060270\",\"#05026e\",\"#04026c\",\"#030269\",\"#030267\",\"#020265\",\"#010263\",\"#010261\",\"#00025f\",\"#00025d\",\"#00025b\",\"#000259\",\"#000257\",\"#000255\",\"#000154\",\"#000152\",\"#000150\",\"#00004e\"],\"nan_color\":\"white\",\"low\":-0.573726757652228,\"high\":1.0}}}}},\"selection_glyph\":{\"type\":\"object\",\"name\":\"Rect\",\"id\":\"p1929\",\"attributes\":{\"tags\":[\"apply_ranges\"],\"x\":{\"type\":\"field\",\"field\":\"index\"},\"y\":{\"type\":\"field\",\"field\":\"variable\"},\"width\":{\"type\":\"value\",\"value\":1},\"height\":{\"type\":\"value\",\"value\":1},\"line_color\":{\"type\":\"value\",\"value\":\"#1f77b4\"},\"line_alpha\":{\"type\":\"value\",\"value\":0},\"fill_color\":{\"type\":\"field\",\"field\":\"zvalues\",\"transform\":{\"id\":\"p1920\"}}}},\"nonselection_glyph\":{\"type\":\"object\",\"name\":\"Rect\",\"id\":\"p1928\",\"attributes\":{\"tags\":[\"apply_ranges\"],\"x\":{\"type\":\"field\",\"field\":\"index\"},\"y\":{\"type\":\"field\",\"field\":\"variable\"},\"width\":{\"type\":\"value\",\"value\":1},\"height\":{\"type\":\"value\",\"value\":1},\"line_color\":{\"type\":\"value\",\"value\":\"#1f77b4\"},\"line_alpha\":{\"type\":\"value\",\"value\":0},\"fill_color\":{\"type\":\"field\",\"field\":\"zvalues\",\"transform\":{\"id\":\"p1920\"}},\"fill_alpha\":{\"type\":\"value\",\"value\":0.1},\"hatch_alpha\":{\"type\":\"value\",\"value\":0.1}}},\"muted_glyph\":{\"type\":\"object\",\"name\":\"Rect\",\"id\":\"p1930\",\"attributes\":{\"tags\":[\"apply_ranges\"],\"x\":{\"type\":\"field\",\"field\":\"index\"},\"y\":{\"type\":\"field\",\"field\":\"variable\"},\"width\":{\"type\":\"value\",\"value\":1},\"height\":{\"type\":\"value\",\"value\":1},\"line_color\":{\"type\":\"value\",\"value\":\"#1f77b4\"},\"line_alpha\":{\"type\":\"value\",\"value\":0},\"fill_color\":{\"type\":\"field\",\"field\":\"zvalues\",\"transform\":{\"id\":\"p1920\"}},\"fill_alpha\":{\"type\":\"value\",\"value\":0.2},\"hatch_alpha\":{\"type\":\"value\",\"value\":0.2}}}}}],\"toolbar\":{\"type\":\"object\",\"name\":\"Toolbar\",\"id\":\"p1898\",\"attributes\":{\"tools\":[{\"type\":\"object\",\"name\":\"WheelZoomTool\",\"id\":\"p1887\",\"attributes\":{\"tags\":[\"hv_created\"],\"renderers\":\"auto\",\"zoom_together\":\"none\"}},{\"type\":\"object\",\"name\":\"HoverTool\",\"id\":\"p1888\",\"attributes\":{\"tags\":[\"hv_created\"],\"renderers\":[{\"id\":\"p1931\"}],\"tooltips\":[[\"index\",\"@{index}\"],[\"variable\",\"@{variable}\"],[\"value\",\"@{value}\"]]}},{\"type\":\"object\",\"name\":\"SaveTool\",\"id\":\"p1911\"},{\"type\":\"object\",\"name\":\"PanTool\",\"id\":\"p1912\"},{\"type\":\"object\",\"name\":\"BoxZoomTool\",\"id\":\"p1913\",\"attributes\":{\"overlay\":{\"type\":\"object\",\"name\":\"BoxAnnotation\",\"id\":\"p1914\",\"attributes\":{\"syncable\":false,\"level\":\"overlay\",\"visible\":false,\"left\":{\"type\":\"number\",\"value\":\"nan\"},\"right\":{\"type\":\"number\",\"value\":\"nan\"},\"top\":{\"type\":\"number\",\"value\":\"nan\"},\"bottom\":{\"type\":\"number\",\"value\":\"nan\"},\"left_units\":\"canvas\",\"right_units\":\"canvas\",\"top_units\":\"canvas\",\"bottom_units\":\"canvas\",\"line_color\":\"black\",\"line_alpha\":1.0,\"line_width\":2,\"line_dash\":[4,4],\"fill_color\":\"lightgrey\",\"fill_alpha\":0.5}}}},{\"type\":\"object\",\"name\":\"ResetTool\",\"id\":\"p1919\"}],\"active_drag\":{\"id\":\"p1912\"},\"active_scroll\":{\"id\":\"p1887\"}}},\"left\":[{\"type\":\"object\",\"name\":\"CategoricalAxis\",\"id\":\"p1906\",\"attributes\":{\"ticker\":{\"type\":\"object\",\"name\":\"CategoricalTicker\",\"id\":\"p1907\"},\"formatter\":{\"type\":\"object\",\"name\":\"CategoricalTickFormatter\",\"id\":\"p1908\"},\"axis_label\":\"variable\",\"major_label_policy\":{\"type\":\"object\",\"name\":\"AllLabels\",\"id\":\"p1909\"}}}],\"right\":[{\"type\":\"object\",\"name\":\"ColorBar\",\"id\":\"p1935\",\"attributes\":{\"location\":[0,0],\"ticker\":{\"type\":\"object\",\"name\":\"BasicTicker\",\"id\":\"p1934\",\"attributes\":{\"mantissas\":[1,2,5]}},\"major_label_policy\":{\"type\":\"object\",\"name\":\"NoOverlap\",\"id\":\"p1936\"},\"label_standoff\":8,\"major_tick_line_color\":\"black\",\"bar_line_color\":\"black\",\"color_mapper\":{\"id\":\"p1920\"}}}],\"below\":[{\"type\":\"object\",\"name\":\"CategoricalAxis\",\"id\":\"p1901\",\"attributes\":{\"ticker\":{\"type\":\"object\",\"name\":\"CategoricalTicker\",\"id\":\"p1902\"},\"formatter\":{\"type\":\"object\",\"name\":\"CategoricalTickFormatter\",\"id\":\"p1903\"},\"axis_label\":\"index\",\"major_label_policy\":{\"type\":\"object\",\"name\":\"AllLabels\",\"id\":\"p1904\"}}}],\"center\":[{\"type\":\"object\",\"name\":\"Grid\",\"id\":\"p1905\",\"attributes\":{\"axis\":{\"id\":\"p1901\"},\"grid_line_color\":null}},{\"type\":\"object\",\"name\":\"Grid\",\"id\":\"p1910\",\"attributes\":{\"dimension\":1,\"axis\":{\"id\":\"p1906\"},\"grid_line_color\":null}}],\"min_border_top\":10,\"min_border_bottom\":10,\"min_border_left\":10,\"min_border_right\":10,\"output_backend\":\"webgl\"}},{\"type\":\"object\",\"name\":\"Spacer\",\"id\":\"p1938\",\"attributes\":{\"name\":\"HSpacer03521\",\"stylesheets\":[\"\\n:host(.pn-loading):before, .pn-loading:before {\\n  background-color: #c3c3c3;\\n  mask-size: auto calc(min(50%, 400px));\\n  -webkit-mask-size: auto calc(min(50%, 400px));\\n}\",{\"id\":\"p1880\"},{\"id\":\"p1878\"},{\"id\":\"p1879\"}],\"margin\":0,\"sizing_mode\":\"stretch_width\",\"align\":\"start\"}}]}}],\"defs\":[{\"type\":\"model\",\"name\":\"ReactiveHTML1\"},{\"type\":\"model\",\"name\":\"FlexBox1\",\"properties\":[{\"name\":\"align_content\",\"kind\":\"Any\",\"default\":\"flex-start\"},{\"name\":\"align_items\",\"kind\":\"Any\",\"default\":\"flex-start\"},{\"name\":\"flex_direction\",\"kind\":\"Any\",\"default\":\"row\"},{\"name\":\"flex_wrap\",\"kind\":\"Any\",\"default\":\"wrap\"},{\"name\":\"gap\",\"kind\":\"Any\",\"default\":\"\"},{\"name\":\"justify_content\",\"kind\":\"Any\",\"default\":\"flex-start\"}]},{\"type\":\"model\",\"name\":\"FloatPanel1\",\"properties\":[{\"name\":\"config\",\"kind\":\"Any\",\"default\":{\"type\":\"map\"}},{\"name\":\"contained\",\"kind\":\"Any\",\"default\":true},{\"name\":\"position\",\"kind\":\"Any\",\"default\":\"right-top\"},{\"name\":\"offsetx\",\"kind\":\"Any\",\"default\":null},{\"name\":\"offsety\",\"kind\":\"Any\",\"default\":null},{\"name\":\"theme\",\"kind\":\"Any\",\"default\":\"primary\"},{\"name\":\"status\",\"kind\":\"Any\",\"default\":\"normalized\"}]},{\"type\":\"model\",\"name\":\"GridStack1\",\"properties\":[{\"name\":\"mode\",\"kind\":\"Any\",\"default\":\"warn\"},{\"name\":\"ncols\",\"kind\":\"Any\",\"default\":null},{\"name\":\"nrows\",\"kind\":\"Any\",\"default\":null},{\"name\":\"allow_resize\",\"kind\":\"Any\",\"default\":true},{\"name\":\"allow_drag\",\"kind\":\"Any\",\"default\":true},{\"name\":\"state\",\"kind\":\"Any\",\"default\":[]}]},{\"type\":\"model\",\"name\":\"drag1\",\"properties\":[{\"name\":\"slider_width\",\"kind\":\"Any\",\"default\":5},{\"name\":\"slider_color\",\"kind\":\"Any\",\"default\":\"black\"},{\"name\":\"value\",\"kind\":\"Any\",\"default\":50}]},{\"type\":\"model\",\"name\":\"click1\",\"properties\":[{\"name\":\"terminal_output\",\"kind\":\"Any\",\"default\":\"\"},{\"name\":\"debug_name\",\"kind\":\"Any\",\"default\":\"\"},{\"name\":\"clears\",\"kind\":\"Any\",\"default\":0}]},{\"type\":\"model\",\"name\":\"FastWrapper1\",\"properties\":[{\"name\":\"object\",\"kind\":\"Any\",\"default\":null},{\"name\":\"style\",\"kind\":\"Any\",\"default\":null}]},{\"type\":\"model\",\"name\":\"NotificationAreaBase1\",\"properties\":[{\"name\":\"js_events\",\"kind\":\"Any\",\"default\":{\"type\":\"map\"}},{\"name\":\"position\",\"kind\":\"Any\",\"default\":\"bottom-right\"},{\"name\":\"_clear\",\"kind\":\"Any\",\"default\":0}]},{\"type\":\"model\",\"name\":\"NotificationArea1\",\"properties\":[{\"name\":\"js_events\",\"kind\":\"Any\",\"default\":{\"type\":\"map\"}},{\"name\":\"notifications\",\"kind\":\"Any\",\"default\":[]},{\"name\":\"position\",\"kind\":\"Any\",\"default\":\"bottom-right\"},{\"name\":\"_clear\",\"kind\":\"Any\",\"default\":0},{\"name\":\"types\",\"kind\":\"Any\",\"default\":[{\"type\":\"map\",\"entries\":[[\"type\",\"warning\"],[\"background\",\"#ffc107\"],[\"icon\",{\"type\":\"map\",\"entries\":[[\"className\",\"fas fa-exclamation-triangle\"],[\"tagName\",\"i\"],[\"color\",\"white\"]]}]]},{\"type\":\"map\",\"entries\":[[\"type\",\"info\"],[\"background\",\"#007bff\"],[\"icon\",{\"type\":\"map\",\"entries\":[[\"className\",\"fas fa-info-circle\"],[\"tagName\",\"i\"],[\"color\",\"white\"]]}]]}]}]},{\"type\":\"model\",\"name\":\"Notification\",\"properties\":[{\"name\":\"background\",\"kind\":\"Any\",\"default\":null},{\"name\":\"duration\",\"kind\":\"Any\",\"default\":3000},{\"name\":\"icon\",\"kind\":\"Any\",\"default\":null},{\"name\":\"message\",\"kind\":\"Any\",\"default\":\"\"},{\"name\":\"notification_type\",\"kind\":\"Any\",\"default\":null},{\"name\":\"_destroyed\",\"kind\":\"Any\",\"default\":false}]},{\"type\":\"model\",\"name\":\"TemplateActions1\",\"properties\":[{\"name\":\"open_modal\",\"kind\":\"Any\",\"default\":0},{\"name\":\"close_modal\",\"kind\":\"Any\",\"default\":0}]},{\"type\":\"model\",\"name\":\"BootstrapTemplateActions1\",\"properties\":[{\"name\":\"open_modal\",\"kind\":\"Any\",\"default\":0},{\"name\":\"close_modal\",\"kind\":\"Any\",\"default\":0}]},{\"type\":\"model\",\"name\":\"TemplateEditor1\",\"properties\":[{\"name\":\"layout\",\"kind\":\"Any\",\"default\":[]}]},{\"type\":\"model\",\"name\":\"MaterialTemplateActions1\",\"properties\":[{\"name\":\"open_modal\",\"kind\":\"Any\",\"default\":0},{\"name\":\"close_modal\",\"kind\":\"Any\",\"default\":0}]},{\"type\":\"model\",\"name\":\"copy_to_clipboard1\",\"properties\":[{\"name\":\"fill\",\"kind\":\"Any\",\"default\":\"none\"},{\"name\":\"value\",\"kind\":\"Any\",\"default\":null}]}]}};\n",
       "  var render_items = [{\"docid\":\"d3ea8c39-6e9b-43e5-880c-f8678a75818a\",\"roots\":{\"p1877\":\"fde1e92d-bc87-4c0c-840c-7942a15d1991\"},\"root_ids\":[\"p1877\"]}];\n",
       "  var docs = Object.values(docs_json)\n",
       "  if (!docs) {\n",
       "    return\n",
       "  }\n",
       "  const py_version = docs[0].version.replace('rc', '-rc.').replace('.dev', '-dev.')\n",
       "  async function embed_document(root) {\n",
       "    var Bokeh = get_bokeh(root)\n",
       "    await Bokeh.embed.embed_items_notebook(docs_json, render_items);\n",
       "    for (const render_item of render_items) {\n",
       "      for (const root_id of render_item.root_ids) {\n",
       "\tconst id_el = document.getElementById(root_id)\n",
       "\tif (id_el.children.length && id_el.children[0].hasAttribute('data-root-id')) {\n",
       "\t  const root_el = id_el.children[0]\n",
       "\t  root_el.id = root_el.id + '-rendered'\n",
       "\t  for (const child of root_el.children) {\n",
       "            // Ensure JupyterLab does not capture keyboard shortcuts\n",
       "            // see: https://jupyterlab.readthedocs.io/en/4.1.x/extension/notebook.html#keyboard-interaction-model\n",
       "\t    child.setAttribute('data-lm-suppress-shortcuts', 'true')\n",
       "\t  }\n",
       "\t}\n",
       "      }\n",
       "    }\n",
       "  }\n",
       "  function get_bokeh(root) {\n",
       "    if (root.Bokeh === undefined) {\n",
       "      return null\n",
       "    } else if (root.Bokeh.version !== py_version) {\n",
       "      if (root.Bokeh.versions === undefined || !root.Bokeh.versions.has(py_version)) {\n",
       "\treturn null\n",
       "      }\n",
       "      return root.Bokeh.versions.get(py_version);\n",
       "    } else if (root.Bokeh.version === py_version) {\n",
       "      return root.Bokeh\n",
       "    }\n",
       "    return null\n",
       "  }\n",
       "  function is_loaded(root) {\n",
       "    var Bokeh = get_bokeh(root)\n",
       "    return (Bokeh != null && Bokeh.Panel !== undefined)\n",
       "  }\n",
       "  if (is_loaded(root)) {\n",
       "    embed_document(root);\n",
       "  } else {\n",
       "    var attempts = 0;\n",
       "    var timer = setInterval(function(root) {\n",
       "      if (is_loaded(root)) {\n",
       "        clearInterval(timer);\n",
       "        embed_document(root);\n",
       "      } else if (document.readyState == \"complete\") {\n",
       "        attempts++;\n",
       "        if (attempts > 200) {\n",
       "          clearInterval(timer);\n",
       "\t  var Bokeh = get_bokeh(root)\n",
       "\t  if (Bokeh == null || Bokeh.Panel == null) {\n",
       "            console.warn(\"Panel: ERROR: Unable to run Panel code because Bokeh or Panel library is missing\");\n",
       "\t  } else {\n",
       "\t    console.warn(\"Panel: WARNING: Attempting to render but not all required libraries could be resolved.\")\n",
       "\t    embed_document(root)\n",
       "\t  }\n",
       "        }\n",
       "      }\n",
       "    }, 25, root)\n",
       "  }\n",
       "})(window);</script>"
      ],
      "text/plain": [
       ":HeatMap   [index,variable]   (value)"
      ]
     },
     "execution_count": 94,
     "metadata": {
      "application/vnd.holoviews_exec.v0+json": {
       "id": "p1877"
      }
     },
     "output_type": "execute_result"
    }
   ],
   "source": [
    "feed_cl_num_df.corr().with_columns(index = pl.Series(feed_cl_num_df.columns)).melt(id_vars = \"index\").plot.heatmap(x = \"index\", y = \"variable\", C = \"value\")"
   ]
  },
  {
   "cell_type": "code",
   "execution_count": 82,
   "id": "0086cdc6-f87f-4eb2-8574-b38553c025fa",
   "metadata": {},
   "outputs": [],
   "source": [
    "rel_feed_cols = feed_cl.select([\n",
    "    \"label\",\n",
    "    \"e_section\",\n",
    "    \"e_rn\",\n",
    "    \"i_upTimes\",\n",
    "    \"i_dislikeTimes\",\n",
    "    \"u_refreshTimes\",\n",
    "    \"u_feedLifeCycle\",\n",
    "    \"u_browserLifeCycle\",\n",
    "    \"clicked\",\n",
    "    # \"InterestedST\",\n",
    "    # \"hour\",\n",
    "])\n",
    "\n",
    "data_cols = rel_feed_cols.collect()"
   ]
  },
  {
   "cell_type": "code",
   "execution_count": 83,
   "id": "c1bb4ee0-6580-4340-a9a3-85ad827a599c",
   "metadata": {},
   "outputs": [],
   "source": [
    "train_df, test_df = train_test_split(data_cols)"
   ]
  },
  {
   "cell_type": "code",
   "execution_count": 84,
   "id": "557864ca-728d-458a-8c7b-d25b92dceaa9",
   "metadata": {},
   "outputs": [],
   "source": [
    "train_X = train_df.select(pl.exclude(\"clicked\"))\n",
    "train_y = train_df[\"clicked\"]\n",
    "test_X = test_df.select(pl.exclude(\"clicked\"))\n",
    "test_y = test_df[\"clicked\"]"
   ]
  },
  {
   "cell_type": "code",
   "execution_count": 85,
   "id": "fba94c28-a8f7-4147-a718-b39ffc915982",
   "metadata": {},
   "outputs": [],
   "source": [
    "fit_model = model.fit(\n",
    "    train_X,\n",
    "    train_y,\n",
    ")"
   ]
  },
  {
   "cell_type": "code",
   "execution_count": 86,
   "id": "d22999fa-3bb6-4a0d-9cb8-162fcbfe7736",
   "metadata": {},
   "outputs": [
    {
     "data": {
      "image/png": "[encoded data removed]",
      "text/plain": [
       "<Figure size 640x480 with 2 Axes>"
      ]
     },
     "metadata": {},
     "output_type": "display_data"
    }
   ],
   "source": [
    "_ = metrics.ConfusionMatrixDisplay(\n",
    "    metrics.confusion_matrix(test_y, model.predict(test_X))\n",
    ").plot()"
   ]
  },
  {
   "cell_type": "code",
   "execution_count": 87,
   "id": "32f009f3-bc5e-46da-9b2f-96b0d0b75fca",
   "metadata": {},
   "outputs": [
    {
     "data": {
      "text/plain": [
       "0.8095889001936963"
      ]
     },
     "execution_count": 87,
     "metadata": {},
     "output_type": "execute_result"
    }
   ],
   "source": [
    "metrics.accuracy_score(test_y, model.predict(test_X))"
   ]
  },
  {
   "cell_type": "code",
   "execution_count": 88,
   "id": "61aeedd5-8b22-4590-b3dd-996f98fc5d64",
   "metadata": {},
   "outputs": [
    {
     "data": {
      "text/plain": [
       "0.8285465021225737"
      ]
     },
     "execution_count": 88,
     "metadata": {},
     "output_type": "execute_result"
    }
   ],
   "source": [
    "metrics.precision_score(test_y, model.predict(test_X))"
   ]
  },
  {
   "cell_type": "code",
   "execution_count": 89,
   "id": "1e822fa5-7c91-4c9d-ac68-1e2bf577f9b4",
   "metadata": {},
   "outputs": [
    {
     "data": {
      "text/plain": [
       "0.9483760225983962"
      ]
     },
     "execution_count": 89,
     "metadata": {},
     "output_type": "execute_result"
    }
   ],
   "source": [
    "metrics.recall_score(test_y, model.predict(test_X))"
   ]
  },
  {
   "cell_type": "code",
   "execution_count": 90,
   "id": "58abbf4b-5b83-4628-a3dc-550b8f21e971",
   "metadata": {},
   "outputs": [
    {
     "data": {
      "text/plain": [
       "0.8844208177778714"
      ]
     },
     "execution_count": 90,
     "metadata": {},
     "output_type": "execute_result"
    }
   ],
   "source": [
    "metrics.f1_score(test_y, model.predict(test_X))"
   ]
  },
  {
   "cell_type": "code",
   "execution_count": 91,
   "id": "a8a55555-cd91-4f97-ac12-6be641de9963",
   "metadata": {},
   "outputs": [
    {
     "data": {
      "image/png": "[encoded data removed]",
      "text/plain": [
       "<Figure size 640x480 with 1 Axes>"
      ]
     },
     "metadata": {},
     "output_type": "display_data"
    }
   ],
   "source": [
    "_ = metrics.RocCurveDisplay.from_predictions(test_y, model.predict(test_X))"
   ]
  },
  {
   "cell_type": "markdown",
   "id": "e7868bb2-583c-4027-8ab6-24e3c3aee141",
   "metadata": {},
   "source": [
    "## Naive Bayes Model"
   ]
  },
  {
   "cell_type": "code",
   "execution_count": 62,
   "id": "c2d291db-a272-43a5-9b1f-9ebb0532cac1",
   "metadata": {},
   "outputs": [],
   "source": [
    "from sklearn.naive_bayes import GaussianNB\n",
    "model_nb = GaussianNB()"
   ]
  },
  {
   "cell_type": "code",
   "execution_count": 63,
   "id": "43eaf4e9-0bb0-4d1f-a7be-f8297ab9c933",
   "metadata": {},
   "outputs": [],
   "source": [
    "rel_cols_nb = feed_cl.select([\n",
    "    \"label\",\n",
    "    \"e_section\",\n",
    "    \"e_rn\",\n",
    "    \"i_upTimes\",\n",
    "    \"i_dislikeTimes\",\n",
    "    \"u_refreshTimes\",\n",
    "    \"u_feedLifeCycle\",\n",
    "    \"u_browserLifeCycle\",\n",
    "    \"clicked\",\n",
    "    #\"InterestedST\",\n",
    "    \"hour\",\n",
    "])"
   ]
  },
  {
   "cell_type": "code",
   "execution_count": 64,
   "id": "4c1aeec4-9ced-41cd-9de4-3a6f073f89e4",
   "metadata": {},
   "outputs": [],
   "source": [
    "train_df_nb, test_df_nb = train_test_split(data_cols)"
   ]
  },
  {
   "cell_type": "code",
   "execution_count": 65,
   "id": "ff64d0fd-22d1-4d61-a829-e75e1885aa04",
   "metadata": {},
   "outputs": [],
   "source": [
    "train_nb_X = train_df_nb.select(pl.exclude(\"clicked\"))\n",
    "train_nb_y = train_df_nb[\"clicked\"]\n",
    "test_nb_X = test_df_nb.select(pl.exclude(\"clicked\"))\n",
    "test_nb_y = test_df_nb[\"clicked\"]"
   ]
  },
  {
   "cell_type": "code",
   "execution_count": 66,
   "id": "4f023afd-a101-47d3-8dda-9f9bd2904985",
   "metadata": {},
   "outputs": [],
   "source": [
    "fit_model_nb = model_nb.fit(train_nb_X, train_nb_y)"
   ]
  },
  {
   "cell_type": "code",
   "execution_count": 67,
   "id": "573bab3b-07b7-47b7-b2c4-a9f7afdfc81b",
   "metadata": {},
   "outputs": [
    {
     "data": {
      "image/png": "[encoded data removed]",
      "text/plain": [
       "<Figure size 640x480 with 2 Axes>"
      ]
     },
     "metadata": {},
     "output_type": "display_data"
    }
   ],
   "source": [
    "_ = metrics.ConfusionMatrixDisplay(\n",
    "    metrics.confusion_matrix(test_nb_y, fit_model_nb.predict(test_nb_X))\n",
    ").plot()"
   ]
  },
  {
   "cell_type": "code",
   "execution_count": 68,
   "id": "a904d50b-990a-44f9-a1ea-541325814cf2",
   "metadata": {},
   "outputs": [
    {
     "data": {
      "text/plain": [
       "0.7863874695916514"
      ]
     },
     "execution_count": 68,
     "metadata": {},
     "output_type": "execute_result"
    }
   ],
   "source": [
    "metrics.accuracy_score(test_nb_y, model_nb.predict(test_nb_X))"
   ]
  },
  {
   "cell_type": "code",
   "execution_count": 69,
   "id": "801dfa60-aa40-46c0-856a-1766bb2d6136",
   "metadata": {},
   "outputs": [
    {
     "data": {
      "text/plain": [
       "0.8460489303169494"
      ]
     },
     "execution_count": 69,
     "metadata": {},
     "output_type": "execute_result"
    }
   ],
   "source": [
    "metrics.precision_score(test_nb_y, model_nb.predict(test_nb_X))"
   ]
  },
  {
   "cell_type": "code",
   "execution_count": 70,
   "id": "96374836-074f-48ba-bd37-abe5e546986c",
   "metadata": {},
   "outputs": [
    {
     "data": {
      "text/plain": [
       "0.8822648137624632"
      ]
     },
     "execution_count": 70,
     "metadata": {},
     "output_type": "execute_result"
    }
   ],
   "source": [
    "metrics.recall_score(test_nb_y, model_nb.predict(test_nb_X))"
   ]
  },
  {
   "cell_type": "code",
   "execution_count": 71,
   "id": "08bc6732-1733-48bc-b5a4-6d168523f40c",
   "metadata": {},
   "outputs": [
    {
     "data": {
      "text/plain": [
       "0.8637774298758538"
      ]
     },
     "execution_count": 71,
     "metadata": {},
     "output_type": "execute_result"
    }
   ],
   "source": [
    "metrics.f1_score(test_nb_y, model_nb.predict(test_nb_X))"
   ]
  },
  {
   "cell_type": "code",
   "execution_count": 72,
   "id": "ac680eff-519e-49ab-b182-e933c820ef68",
   "metadata": {},
   "outputs": [
    {
     "data": {
      "text/plain": [
       "<sklearn.metrics._plot.roc_curve.RocCurveDisplay at 0x7164e872fb00>"
      ]
     },
     "execution_count": 72,
     "metadata": {},
     "output_type": "execute_result"
    },
    {
     "data": {
      "image/png": "[encoded data removed]",
      "text/plain": [
       "<Figure size 640x480 with 1 Axes>"
      ]
     },
     "metadata": {},
     "output_type": "display_data"
    }
   ],
   "source": [
    "metrics.RocCurveDisplay.from_predictions(test_y, model_nb.predict(test_X))"
   ]
  },
  {
   "cell_type": "markdown",
   "id": "5dcfa2ec-443e-4f5b-8c05-a358c3fd2364",
   "metadata": {},
   "source": [
    "## Gradient Boost"
   ]
  },
  {
   "cell_type": "code",
   "execution_count": 73,
   "id": "7ab80f5a-c543-45b2-8b6f-930cd245e7ca",
   "metadata": {},
   "outputs": [],
   "source": [
    "from sklearn.ensemble import HistGradientBoostingRegressor\n",
    "\n",
    "model_gb = HistGradientBoostingRegressor()"
   ]
  },
  {
   "cell_type": "code",
   "execution_count": 74,
   "id": "2035c519-e853-4aa3-9ace-6bdcffd72792",
   "metadata": {},
   "outputs": [],
   "source": [
    "rel_cols_gb = feed_cl.select([\n",
    "    \"label\",\n",
    "    \"e_section\",\n",
    "    \"e_rn\",\n",
    "    \"i_upTimes\",\n",
    "    \"i_dislikeTimes\",\n",
    "    \"u_refreshTimes\",\n",
    "    \"u_feedLifeCycle\",\n",
    "    \"u_browserLifeCycle\",\n",
    "    \"clicked\",\n",
    "    #\"InterestedST\",\n",
    "    \"hour\",\n",
    "])"
   ]
  },
  {
   "cell_type": "code",
   "execution_count": 75,
   "id": "89a20728-8b18-4a6b-9343-fb25b68e3ef2",
   "metadata": {},
   "outputs": [],
   "source": [
    "train_df_gb, test_df_gb = train_test_split(data_cols)\n",
    "\n",
    "train_gb_X = train_df_gb.select(pl.exclude(\"clicked\"))\n",
    "train_gb_y = train_df_gb[\"clicked\"]\n",
    "test_gb_X = test_df_gb.select(pl.exclude(\"clicked\"))\n",
    "test_gb_y = test_df_gb[\"clicked\"]"
   ]
  },
  {
   "cell_type": "code",
   "execution_count": 76,
   "id": "6300a728-03b5-4270-ab8a-89533851f228",
   "metadata": {},
   "outputs": [],
   "source": [
    "fit_model_gb = model_gb.fit(train_gb_X, train_gb_y)"
   ]
  },
  {
   "cell_type": "code",
   "execution_count": 77,
   "id": "7b37cfa0-7a9d-4551-b8ad-0f8f03ee398e",
   "metadata": {},
   "outputs": [
    {
     "data": {
      "image/png": "[encoded data removed]",
      "text/plain": [
       "<Figure size 640x480 with 2 Axes>"
      ]
     },
     "metadata": {},
     "output_type": "display_data"
    }
   ],
   "source": [
    "_ = metrics.ConfusionMatrixDisplay(\n",
    "    metrics.confusion_matrix(test_gb_y, fit_model_gb.predict(test_gb_X).round())\n",
    ").plot()"
   ]
  },
  {
   "cell_type": "code",
   "execution_count": 78,
   "id": "d524bf91-e7e1-4354-b1b9-5a7feb6f96b1",
   "metadata": {},
   "outputs": [
    {
     "data": {
      "text/plain": [
       "0.8225218202750414"
      ]
     },
     "execution_count": 78,
     "metadata": {},
     "output_type": "execute_result"
    }
   ],
   "source": [
    "metrics.accuracy_score(test_gb_y, model_gb.predict(test_gb_X).round())"
   ]
  },
  {
   "cell_type": "code",
   "execution_count": 79,
   "id": "9ba37c71-c3a1-41af-b15f-38cbee97ce87",
   "metadata": {},
   "outputs": [
    {
     "data": {
      "text/plain": [
       "0.8423266318421352"
      ]
     },
     "execution_count": 79,
     "metadata": {},
     "output_type": "execute_result"
    }
   ],
   "source": [
    "metrics.precision_score(test_gb_y, model_gb.predict(test_gb_X).round())"
   ]
  },
  {
   "cell_type": "code",
   "execution_count": 80,
   "id": "31ba27db-c96f-4d51-a657-a6ffda225430",
   "metadata": {},
   "outputs": [
    {
     "data": {
      "text/plain": [
       "0.9455866954509611"
      ]
     },
     "execution_count": 80,
     "metadata": {},
     "output_type": "execute_result"
    }
   ],
   "source": [
    "metrics.recall_score(test_gb_y, model_gb.predict(test_gb_X).round())"
   ]
  },
  {
   "cell_type": "code",
   "execution_count": 81,
   "id": "1977f8c6-6f8e-421f-b775-40f7622a8fcc",
   "metadata": {},
   "outputs": [
    {
     "data": {
      "text/plain": [
       "0.8909747963004834"
      ]
     },
     "execution_count": 81,
     "metadata": {},
     "output_type": "execute_result"
    }
   ],
   "source": [
    "metrics.f1_score(test_gb_y, model_gb.predict(test_gb_X).round())"
   ]
  }
 ],
 "metadata": {
  "kernelspec": {
   "display_name": "Python 3 (ipykernel)",
   "language": "python",
   "name": "python3"
  },
  "language_info": {
   "codemirror_mode": {
    "name": "ipython",
    "version": 3
   },
   "file_extension": ".py",
   "mimetype": "text/x-python",
   "name": "python",
   "nbconvert_exporter": "python",
   "pygments_lexer": "ipython3",
   "version": "3.12.4"
  }
 },
 "nbformat": 4,
 "nbformat_minor": 5
}
